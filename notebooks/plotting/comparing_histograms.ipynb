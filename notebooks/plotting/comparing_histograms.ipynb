{
 "cells": [
  {
   "attachments": {},
   "cell_type": "markdown",
   "metadata": {},
   "source": [
    "# Find the Measured Velocities\n"
   ]
  },
  {
   "cell_type": "code",
   "execution_count": 49,
   "metadata": {},
   "outputs": [
    {
     "name": "stdout",
     "output_type": "stream",
     "text": [
      "The autoreload extension is already loaded. To reload it, use:\n",
      "  %reload_ext autoreload\n"
     ]
    }
   ],
   "source": [
    "%load_ext autoreload\n",
    "%autoreload 2"
   ]
  },
  {
   "cell_type": "code",
   "execution_count": 50,
   "metadata": {},
   "outputs": [],
   "source": [
    "import os\n",
    "import sys\n",
    "from typing import Tuple\n",
    "from datetime import datetime\n",
    "from pathlib import Path\n",
    "\n",
    "\n",
    "def recursive_root(path: str, find=\"sumo-uc-23\"):\n",
    "    if os.path.split(path)[-1] == find:\n",
    "        return Path(path)\n",
    "    return recursive_root(os.path.split(path)[0], find=find)\n",
    "\n",
    "\n",
    "ROOT = recursive_root(os.path.abspath(\".\"))\n",
    "sys.path.append(str(ROOT))\n"
   ]
  },
  {
   "attachments": {},
   "cell_type": "markdown",
   "metadata": {},
   "source": [
    "## Read the SUMO Configurations\n"
   ]
  },
  {
   "cell_type": "code",
   "execution_count": 51,
   "metadata": {},
   "outputs": [],
   "source": [
    "from src.walk_configs import walk_configs\n"
   ]
  },
  {
   "cell_type": "code",
   "execution_count": 52,
   "metadata": {},
   "outputs": [],
   "source": [
    "experiment_path = Path(\n",
    "    \"/Users/max/Development/tmp/CarFollowingDefaults/02.06.2023_13.22.43\"\n",
    ")\n"
   ]
  },
  {
   "cell_type": "code",
   "execution_count": 53,
   "metadata": {},
   "outputs": [],
   "source": [
    "configs = list(walk_configs(experiment_path))\n",
    "configs = [config for config in configs if (Path(config.Metadata.cwd) / \"summary_df.parquet\").exists()]"
   ]
  },
  {
   "cell_type": "code",
   "execution_count": 55,
   "metadata": {},
   "outputs": [
    {
     "name": "stdout",
     "output_type": "stream",
     "text": [
      "/Users/max/Development/tmp/CarFollowingDefaults/02.06.2023_13.22.43/0 IDM\n"
     ]
    }
   ],
   "source": [
    "for config in configs:\n",
    "    print(config.Metadata.cwd, config.Blocks.CFTableConfig.additional_params.carFollowingModel)"
   ]
  },
  {
   "attachments": {},
   "cell_type": "markdown",
   "metadata": {},
   "source": [
    "### Read the File\n"
   ]
  },
  {
   "cell_type": "code",
   "execution_count": 56,
   "metadata": {},
   "outputs": [],
   "source": [
    "import pandas as pd\n",
    "\n",
    "\n",
    "def get_summary_df(config, additional_params: dict = None) -> pd.DataFrame:\n",
    "    if additional_params is None:\n",
    "        additional_params = {}\n",
    "    print(config.Metadata.cwd)\n",
    "    df = pd.read_parquet(Path(config.Metadata.cwd) / \"summary_df.parquet\")\n",
    "    for key, value in additional_params.items():\n",
    "        df[key] = value\n",
    "    return df"
   ]
  },
  {
   "cell_type": "code",
   "execution_count": 57,
   "metadata": {},
   "outputs": [
    {
     "name": "stdout",
     "output_type": "stream",
     "text": [
      "/Users/max/Development/tmp/CarFollowingDefaults/02.06.2023_13.22.43/0\n"
     ]
    }
   ],
   "source": [
    "dfs = []\n",
    "for config in configs:\n",
    "    additional_params = {\n",
    "        \"carFollowingModel\": config.Blocks.CFTableConfig.additional_params.carFollowingModel,\n",
    "        \"seed\": config.Blocks.SeedConfig.seed,\n",
    "    }\n",
    "\n",
    "    df = get_summary_df(config, additional_params=additional_params)\n",
    "    dfs.append(df)\n",
    "sumo_df = pd.concat(dfs)"
   ]
  },
  {
   "cell_type": "markdown",
   "metadata": {},
   "source": [
    "## Read the RW Data"
   ]
  },
  {
   "cell_type": "code",
   "execution_count": 58,
   "metadata": {},
   "outputs": [],
   "source": [
    "rw_df = pd.read_parquet(ROOT / \"data\" / \"rw_east_thru_summary.parquet\")"
   ]
  },
  {
   "attachments": {},
   "cell_type": "markdown",
   "metadata": {},
   "source": [
    "## Plot the Histograms"
   ]
  },
  {
   "cell_type": "code",
   "execution_count": 62,
   "metadata": {},
   "outputs": [
    {
     "data": {
      "text/plain": [
       "(0.0, 6.0)"
      ]
     },
     "execution_count": 62,
     "metadata": {},
     "output_type": "execute_result"
    },
    {
     "data": {
      "image/png": "[encoded data removed]",
      "text/plain": [
       "<Figure size 800x400 with 1 Axes>"
      ]
     },
     "metadata": {},
     "output_type": "display_data"
    }
   ],
   "source": [
    "import matplotlib.pyplot as plt\n",
    "import scienceplots\n",
    "import seaborn as sns\n",
    "\n",
    "plt.style.use('science')\n",
    "\n",
    "fig, ax = plt.subplots(figsize=(8, 4))\n",
    "# make the text bigger\n",
    "plt.rcParams.update({'font.size': 16})\n",
    "\n",
    "# plotting acceleration with r2 > 0.9\n",
    "accel_sumo_df = sumo_df[(sumo_df[\"r2\"] > 0.9) & (sumo_df['type'] == \"accel\")]\n",
    "accel_sumo_df = accel_sumo_df[accel_sumo_df[\"carFollowingModel\"] == \"IDM\"]\n",
    "\n",
    "# concatenate the rw data\n",
    "accel_rw_df = rw_df[(rw_df[\"r2\"] > 0.9) & (rw_df[\"type\"] == \"accel\")].copy()\n",
    "accel_rw_df[\"carFollowingModel\"] = \"Real World\"\n",
    "\n",
    "plot_df = pd.concat([accel_sumo_df, accel_rw_df])\n",
    "\n",
    "\n",
    "sns.histplot(data=plot_df, x=\"slope\", hue=\"carFollowingModel\", stat=\"density\", ax=ax,  palette=[\"#1f77b4\", \"#ff7f0e\"])\n",
    "# remove the carFollowingModel title from the legend\n",
    "ax.legend_.set_title(None)\n",
    "# set the legend labels\n",
    "ax.legend(labels=[\"Real World\", \"SUMO\"])\n",
    "# # add the rw data\n",
    "# accel_rw_df = rw_df[(rw_df[\"r2\"] > 0.9) & (rw_df[\"type\"] == \"accel\")]\n",
    "# sns.histplot(data=accel_rw_df, x=\"slope\", stat=\"density\", ax=ax)\n",
    "\n",
    "# add a vertical line at the mean\n",
    "median_sumo = plot_df.loc[plot_df['carFollowingModel'] == \"IDM\", \"slope\"].median()\n",
    "median_rw = plot_df.loc[plot_df['carFollowingModel'] == \"Real World\", \"slope\"].median()\n",
    "ax.axvline(median_sumo, color=\"black\", linestyle=\"--\")\n",
    "ax.axvline(median_rw, color=\"black\", linestyle=\"--\")\n",
    "# add text to the vertical line\n",
    "ax.text(median_sumo, 0.5, f\"SUMO: {median_sumo:.2f} $m/s^2$\", rotation=0, va=\"center\", ha=\"center\")\n",
    "ax.text(median_rw, 0.8, f\"RW: {median_rw:.2f} $m/s^2$\", rotation=0, va=\"center\", ha=\"center\")\n",
    "\n",
    "\n",
    "\n",
    "# set the x and y axis labels\n",
    "ax.set_xlabel(\"Accel\")\n",
    "ax.set_ylabel(\"Density\")\n",
    "\n",
    "# set the x and y axis limits\n",
    "ax.set_xlim(0, 6)\n"
   ]
  },
  {
   "cell_type": "code",
   "execution_count": null,
   "metadata": {},
   "outputs": [],
   "source": []
  }
 ],
 "metadata": {
  "kernelspec": {
   "display_name": "sumo-uc-2023",
   "language": "python",
   "name": "python3"
  },
  "language_info": {
   "codemirror_mode": {
    "name": "ipython",
    "version": 3
   },
   "file_extension": ".py",
   "mimetype": "text/x-python",
   "name": "python",
   "nbconvert_exporter": "python",
   "pygments_lexer": "ipython3",
   "version": "3.9.10"
  },
  "orig_nbformat": 4,
  "vscode": {
   "interpreter": {
    "hash": "0fe24db46f0f9153940905989778a33a1b95b2b91b6370b048772e47434f409d"
   }
  }
 },
 "nbformat": 4,
 "nbformat_minor": 2
}
