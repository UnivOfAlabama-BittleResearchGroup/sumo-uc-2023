{
 "cells": [
  {
   "attachments": {},
   "cell_type": "markdown",
   "metadata": {},
   "source": [
    "# Find the Measured Velocities\n"
   ]
  },
  {
   "cell_type": "code",
   "execution_count": 1,
   "metadata": {},
   "outputs": [],
   "source": [
    "%load_ext autoreload\n",
    "%autoreload 2"
   ]
  },
  {
   "cell_type": "code",
   "execution_count": 2,
   "metadata": {},
   "outputs": [],
   "source": [
    "import os\n",
    "import sys\n",
    "from typing import Tuple\n",
    "from datetime import datetime\n",
    "from pathlib import Path\n",
    "\n",
    "\n",
    "def recursive_root(path: str, find=\"sumo-uc-23\"):\n",
    "    if os.path.split(path)[-1] == find:\n",
    "        return Path(path)\n",
    "    return recursive_root(os.path.split(path)[0], find=find)\n",
    "\n",
    "\n",
    "ROOT = recursive_root(os.path.abspath(\".\"))\n",
    "sys.path.append(str(ROOT))\n"
   ]
  },
  {
   "attachments": {},
   "cell_type": "markdown",
   "metadata": {},
   "source": [
    "## Read the SUMO Configurations\n"
   ]
  },
  {
   "cell_type": "code",
   "execution_count": 3,
   "metadata": {},
   "outputs": [],
   "source": [
    "from src.walk_configs import walk_configs\n"
   ]
  },
  {
   "cell_type": "code",
   "execution_count": 4,
   "metadata": {},
   "outputs": [],
   "source": [
    "experiment_path = Path(\n",
    "    \"/Volumes/BittleLab/7 DOE Project/sumo-uc-23/CarFollowingDefaults/EIDM_IDM_KraussAB\"\n",
    ")\n"
   ]
  },
  {
   "cell_type": "code",
   "execution_count": 17,
   "metadata": {},
   "outputs": [],
   "source": [
    "configs = list(walk_configs(experiment_path))"
   ]
  },
  {
   "attachments": {},
   "cell_type": "markdown",
   "metadata": {},
   "source": [
    "### Read the File\n"
   ]
  },
  {
   "cell_type": "code",
   "execution_count": 27,
   "metadata": {},
   "outputs": [],
   "source": [
    "import pandas as pd\n",
    "\n",
    "\n",
    "def get_fuel(config, ) -> float:\n",
    "    with open(config.Blocks.FuelTotalConfig.output_path) as f:\n",
    "        return float(f.read())"
   ]
  },
  {
   "cell_type": "code",
   "execution_count": 48,
   "metadata": {},
   "outputs": [],
   "source": [
    "fuel = [\n",
    "    {\n",
    "        \"carFollowingModel\": config.Blocks.CFSimpleConfig.cf_params.carFollowingModel,\n",
    "        \"seed\": config.Blocks.SeedConfig.seed,\n",
    "        'fuel': get_fuel(config),\n",
    "    }\n",
    "    for config in configs\n",
    "]\n",
    "fuel_df = pd.DataFrame(fuel)\n",
    "\n",
    "SUMO_GASOLINE_GRAM_TO_JOULE: float = 43.4e-3"
   ]
  },
  {
   "cell_type": "code",
   "execution_count": 49,
   "metadata": {},
   "outputs": [],
   "source": [
    "fuel_df['fuel'] = (fuel_df['fuel'] / SUMO_GASOLINE_GRAM_TO_JOULE) * 0.00133529"
   ]
  },
  {
   "attachments": {},
   "cell_type": "markdown",
   "metadata": {},
   "source": [
    "## Plot the Histograms"
   ]
  },
  {
   "cell_type": "code",
   "execution_count": 50,
   "metadata": {},
   "outputs": [
    {
     "data": {
      "text/plain": [
       "Text(0, 0.5, 'Density')"
      ]
     },
     "execution_count": 50,
     "metadata": {},
     "output_type": "execute_result"
    },
    {
     "data": {
      "image/png": "[encoded data removed]",
      "text/plain": [
       "<Figure size 800x400 with 1 Axes>"
      ]
     },
     "metadata": {},
     "output_type": "display_data"
    }
   ],
   "source": [
    "import matplotlib.pyplot as plt\n",
    "import scienceplots\n",
    "import seaborn as sns\n",
    "\n",
    "\n",
    "\n",
    "plt.style.use('science')\n",
    "\n",
    "fig, ax = plt.subplots(figsize=(8, 4))\n",
    "# make the text bigger\n",
    "plt.rcParams.update({'font.size': 16})\n",
    "\n",
    "sns.histplot(data=fuel_df, x=\"fuel\", hue=\"carFollowingModel\", stat=\"density\", ax=ax,  bins=20)\n",
    "# remove the carFollowingModel title from the legend\n",
    "ax.legend_.set_title(None)\n",
    "# set the legend labels\n",
    "# ax.legend(labels=[\"Real World\", \"SUMO\"])\n",
    "# # add the rw data\n",
    "# accel_rw_df = rw_df[(rw_df[\"r2\"] > 0.9) & (rw_df[\"type\"] == \"accel\")]\n",
    "# sns.histplot(data=accel_rw_df, x=\"slope\", stat=\"density\", ax=ax)\n",
    "\n",
    "# # add a vertical line at the mean\n",
    "# median_sumo = plot_df.loc[plot_df['carFollowingModel'] == \"IDM\", \"slope\"].median()\n",
    "# median_rw = plot_df.loc[plot_df['carFollowingModel'] == \"Real World\", \"slope\"].median()\n",
    "# ax.axvline(median_sumo, color=\"black\", linestyle=\"--\")\n",
    "# ax.axvline(median_rw, color=\"black\", linestyle=\"--\")\n",
    "# # add text to the vertical line\n",
    "# ax.text(median_sumo, 0.5, f\"SUMO: {median_sumo:.2f} $m/s^2$\", rotation=0, va=\"center\", ha=\"center\")\n",
    "# ax.text(median_rw, 0.8, f\"RW: {median_rw:.2f} $m/s^2$\", rotation=0, va=\"center\", ha=\"center\")\n",
    "\n",
    "\n",
    "\n",
    "# set the x and y axis labels\n",
    "ax.set_xlabel(\"Accel\")\n",
    "ax.set_ylabel(\"Density\")\n"
   ]
  },
  {
   "cell_type": "code",
   "execution_count": null,
   "metadata": {},
   "outputs": [],
   "source": []
  }
 ],
 "metadata": {
  "kernelspec": {
   "display_name": "sumo-uc-2023",
   "language": "python",
   "name": "python3"
  },
  "language_info": {
   "codemirror_mode": {
    "name": "ipython",
    "version": 3
   },
   "file_extension": ".py",
   "mimetype": "text/x-python",
   "name": "python",
   "nbconvert_exporter": "python",
   "pygments_lexer": "ipython3",
   "version": "3.9.10"
  },
  "orig_nbformat": 4,
  "vscode": {
   "interpreter": {
    "hash": "0fe24db46f0f9153940905989778a33a1b95b2b91b6370b048772e47434f409d"
   }
  }
 },
 "nbformat": 4,
 "nbformat_minor": 2
}
