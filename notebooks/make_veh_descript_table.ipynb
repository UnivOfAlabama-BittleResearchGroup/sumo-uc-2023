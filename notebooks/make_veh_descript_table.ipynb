{
 "cells": [
  {
   "attachments": {},
   "cell_type": "markdown",
   "metadata": {},
   "source": [
    "# Convert the Radar Data Format to Row-Wise Format"
   ]
  },
  {
   "cell_type": "code",
   "execution_count": 1,
   "metadata": {},
   "outputs": [],
   "source": [
    "import pandas as pd"
   ]
  },
  {
   "cell_type": "markdown",
   "metadata": {},
   "source": [
    "## Read in the data"
   ]
  },
  {
   "cell_type": "code",
   "execution_count": 2,
   "metadata": {},
   "outputs": [],
   "source": [
    "df = pd.read_csv(\"rw_east_thru_summary.csv\")\n",
    "df = df.loc[df['r2'] > 0.9].copy()\n",
    "df = df.loc[df.type.isin(['decel', 'accel'])].copy()"
   ]
  },
  {
   "cell_type": "code",
   "execution_count": 3,
   "metadata": {},
   "outputs": [],
   "source": [
    "types_df = pd.get_dummies(df[['vehicle_id', 'type']]).groupby('vehicle_id').sum()"
   ]
  },
  {
   "cell_type": "code",
   "execution_count": 4,
   "metadata": {},
   "outputs": [
    {
     "data": {
      "text/plain": [
       "(1173, 2)"
      ]
     },
     "execution_count": 4,
     "metadata": {},
     "output_type": "execute_result"
    }
   ],
   "source": [
    "types_df.loc[(types_df['type_accel'] > 0) & (types_df['type_decel'] > 0)].shape"
   ]
  },
  {
   "cell_type": "code",
   "execution_count": 5,
   "metadata": {},
   "outputs": [
    {
     "data": {
      "text/plain": [
       "(3918, (2770,))"
      ]
     },
     "execution_count": 5,
     "metadata": {},
     "output_type": "execute_result"
    }
   ],
   "source": [
    "types_df.loc[(types_df['type_accel'] > 0), 'type_accel'].sum(), types_df.loc[(types_df['type_accel'] > 0), 'type_accel'].shape "
   ]
  },
  {
   "cell_type": "code",
   "execution_count": 6,
   "metadata": {},
   "outputs": [
    {
     "data": {
      "text/plain": [
       "(2914, (1937,))"
      ]
     },
     "execution_count": 6,
     "metadata": {},
     "output_type": "execute_result"
    }
   ],
   "source": [
    "types_df.loc[(types_df['type_decel'] > 0), 'type_decel'].sum(), types_df.loc[(types_df['type_decel'] > 0), 'type_decel'].shape "
   ]
  },
  {
   "cell_type": "markdown",
   "metadata": {},
   "source": [
    "### Create a where a row represents a vehicle and the columns are accel and decel"
   ]
  },
  {
   "cell_type": "code",
   "execution_count": 7,
   "metadata": {},
   "outputs": [],
   "source": [
    "keep_vehicles = types_df.loc[(types_df['type_accel'] > 0) & (types_df['type_decel'] > 0)].index"
   ]
  },
  {
   "cell_type": "code",
   "execution_count": 8,
   "metadata": {},
   "outputs": [],
   "source": [
    "both_vehicles = df.loc[df.vehicle_id.isin(keep_vehicles)]"
   ]
  },
  {
   "cell_type": "code",
   "execution_count": 9,
   "metadata": {},
   "outputs": [],
   "source": [
    "groups = []\n",
    "for name, group in both_vehicles[['vehicle_id', 'type', 'slope']].groupby(['vehicle_id']):\n",
    "    # group[['type', 'slope']]\n",
    "    accels = group.loc[group.type == 'accel', 'slope'].values\n",
    "    decels = group.loc[group.type == 'decel', 'slope'].values\n",
    "    # create combinations of accel and decel\n",
    "    groups.extend(({'id': name, 'accel': accel, 'decel': decel}) for decel in decels for accel in accels)\n",
    "    "
   ]
  },
  {
   "cell_type": "code",
   "execution_count": 10,
   "metadata": {},
   "outputs": [],
   "source": [
    "accel_decel_df = pd.DataFrame(groups)"
   ]
  },
  {
   "cell_type": "code",
   "execution_count": 11,
   "metadata": {},
   "outputs": [
    {
     "data": {
      "text/html": [
       "<div>\n",
       "<style scoped>\n",
       "    .dataframe tbody tr th:only-of-type {\n",
       "        vertical-align: middle;\n",
       "    }\n",
       "\n",
       "    .dataframe tbody tr th {\n",
       "        vertical-align: top;\n",
       "    }\n",
       "\n",
       "    .dataframe thead th {\n",
       "        text-align: right;\n",
       "    }\n",
       "</style>\n",
       "<table border=\"1\" class=\"dataframe\">\n",
       "  <thead>\n",
       "    <tr style=\"text-align: right;\">\n",
       "      <th></th>\n",
       "      <th>id</th>\n",
       "      <th>accel</th>\n",
       "      <th>decel</th>\n",
       "    </tr>\n",
       "  </thead>\n",
       "  <tbody>\n",
       "    <tr>\n",
       "      <th>0</th>\n",
       "      <td>55583</td>\n",
       "      <td>0.786503</td>\n",
       "      <td>-1.706129</td>\n",
       "    </tr>\n",
       "    <tr>\n",
       "      <th>1</th>\n",
       "      <td>55587</td>\n",
       "      <td>1.674436</td>\n",
       "      <td>-0.988193</td>\n",
       "    </tr>\n",
       "    <tr>\n",
       "      <th>2</th>\n",
       "      <td>55587</td>\n",
       "      <td>1.674436</td>\n",
       "      <td>-1.784263</td>\n",
       "    </tr>\n",
       "    <tr>\n",
       "      <th>3</th>\n",
       "      <td>55596</td>\n",
       "      <td>1.383191</td>\n",
       "      <td>-1.004798</td>\n",
       "    </tr>\n",
       "    <tr>\n",
       "      <th>4</th>\n",
       "      <td>55596</td>\n",
       "      <td>1.383191</td>\n",
       "      <td>-1.669873</td>\n",
       "    </tr>\n",
       "  </tbody>\n",
       "</table>\n",
       "</div>"
      ],
      "text/plain": [
       "      id     accel     decel\n",
       "0  55583  0.786503 -1.706129\n",
       "1  55587  1.674436 -0.988193\n",
       "2  55587  1.674436 -1.784263\n",
       "3  55596  1.383191 -1.004798\n",
       "4  55596  1.383191 -1.669873"
      ]
     },
     "execution_count": 11,
     "metadata": {},
     "output_type": "execute_result"
    }
   ],
   "source": [
    "accel_decel_df.head()"
   ]
  },
  {
   "cell_type": "markdown",
   "metadata": {},
   "source": [
    "### Clean it up and get it ready for SUMO"
   ]
  },
  {
   "cell_type": "code",
   "execution_count": 12,
   "metadata": {},
   "outputs": [],
   "source": [
    "accel_decel_df['decel'] = accel_decel_df['decel'].abs()\n",
    "accel_decel_df.drop('id', axis=1, inplace=True)"
   ]
  },
  {
   "attachments": {},
   "cell_type": "markdown",
   "metadata": {},
   "source": [
    "### Add the Vehicle Type"
   ]
  },
  {
   "cell_type": "code",
   "execution_count": 13,
   "metadata": {},
   "outputs": [],
   "source": [
    "accel_decel_df['vClass'] = 'passenger' #np.random.choice(['passenger', 'trailer'], N, p=[0.8, 0.2])\n",
    "accel_decel_df['emissionClass'] = accel_decel_df['vClass'].map({\n",
    "    'passenger': 'PHEMlight/PC_G_EU4',\n",
    "    'trailer': 'PHEMlight/HDV_TT_D_EU6'\n",
    "})"
   ]
  },
  {
   "cell_type": "code",
   "execution_count": 14,
   "metadata": {},
   "outputs": [],
   "source": [
    "accel_decel_df.to_csv('rw_east_thru_summary_accel_decel.csv', index=False)"
   ]
  }
 ],
 "metadata": {
  "kernelspec": {
   "display_name": "radar-doe",
   "language": "python",
   "name": "python3"
  },
  "language_info": {
   "codemirror_mode": {
    "name": "ipython",
    "version": 3
   },
   "file_extension": ".py",
   "mimetype": "text/x-python",
   "name": "python",
   "nbconvert_exporter": "python",
   "pygments_lexer": "ipython3",
   "version": "3.9.10"
  },
  "orig_nbformat": 4,
  "vscode": {
   "interpreter": {
    "hash": "1c4b1be5c57724f91d19792eaa24ef0c71403d5411b352c889ee9a8230ef9730"
   }
  }
 },
 "nbformat": 4,
 "nbformat_minor": 2
}
