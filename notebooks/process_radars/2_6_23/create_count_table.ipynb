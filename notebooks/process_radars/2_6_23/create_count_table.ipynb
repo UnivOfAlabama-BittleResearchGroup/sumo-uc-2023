{
 "cells": [
  {
   "cell_type": "code",
   "execution_count": 1,
   "metadata": {},
   "outputs": [],
   "source": [
    "import os\n",
    "import sys\n",
    "from typing import Tuple\n",
    "from datetime import datetime\n",
    "from pathlib import Path\n",
    "\n",
    "\n",
    "def recursive_root(path: str, find=\"sumo-uc-23\"):\n",
    "    if os.path.split(path)[-1] == find:\n",
    "        return Path(path)\n",
    "    return recursive_root(os.path.split(path)[0], find=find)\n",
    "\n",
    "\n",
    "ROOT = recursive_root(os.path.abspath(\".\"))\n",
    "sys.path.append(str(ROOT))\n"
   ]
  },
  {
   "cell_type": "code",
   "execution_count": 2,
   "metadata": {},
   "outputs": [],
   "source": [
    "import numpy as np\n",
    "import pandas as pd\n",
    "import utm\n",
    "import polars as pl\n",
    "\n",
    "from shapely.geometry import Point, Polygon, LineString\n",
    "from src.data_analysis import AnalysisRadar\n",
    "from innosent_api.utils.approach_info import ApproachInfo\n"
   ]
  },
  {
   "attachments": {},
   "cell_type": "markdown",
   "metadata": {},
   "source": [
    "## Create the Radar Objects"
   ]
  },
  {
   "cell_type": "code",
   "execution_count": 3,
   "metadata": {},
   "outputs": [],
   "source": [
    "radar_info = {\n",
    "    # \"Radar 137\": {\n",
    "    #     \"KML\": ROOT / \"geodata\" / \"Radar137.kml\",\n",
    "    # },\n",
    "    # \"Radar 136\": {\n",
    "    #     \"KML\": ROOT / \"geodata\" / \"Radar136.kml\",\n",
    "    # },\n",
    "    \"Radar 142\": {\n",
    "        \"KML\": ROOT / \"geodata\" / \"Radar142.kml\",\n",
    "    },\n",
    "    \"Radar 141\": {\n",
    "        \"KML\": ROOT / \"geodata\" / \"Radar141.kml\",\n",
    "    },\n",
    "}\n"
   ]
  },
  {
   "cell_type": "code",
   "execution_count": 4,
   "metadata": {},
   "outputs": [
    {
     "name": "stdout",
     "output_type": "stream",
     "text": [
      "Radar 142\n",
      "INFO: Pandarallel will run on 8 workers.\n",
      "INFO: Pandarallel will use standard multiprocessing data transfer (pipe) to transfer data between the main process and workers.\n",
      "Radar 141\n",
      "INFO: Pandarallel will run on 8 workers.\n",
      "INFO: Pandarallel will use standard multiprocessing data transfer (pipe) to transfer data between the main process and workers.\n"
     ]
    }
   ],
   "source": [
    "radars = [\n",
    "    AnalysisRadar(str(r_info[1][\"KML\"]), r_info[0]) for r_info in radar_info.items()\n",
    "]\n",
    "\n",
    "radars = {\n",
    "    radar.name: radar for radar in radars\n",
    "}"
   ]
  },
  {
   "attachments": {},
   "cell_type": "markdown",
   "metadata": {},
   "source": [
    "## Read in the Polars Data"
   ]
  },
  {
   "cell_type": "code",
   "execution_count": 5,
   "metadata": {},
   "outputs": [],
   "source": [
    "radars_df = pl.read_parquet(\n",
    "    \"/Volumes/BittleLab/7 DOE Project/radar-data/prepared_data/2_6_23_ALL_Radars.parquet\"\n",
    ")\n",
    "\n",
    "# there are some duplicate rows in the data. drop them and take the first one\n",
    "radars_df = radars_df.groupby(\n",
    "    by=[\"radar\", \"ui32_objectID\", \"time\"]\n",
    ").first()\n",
    "\n",
    "radars_df = radars_df.sort(\"time\")\n",
    "\n",
    "def get_df_from_polars(radar: AnalysisRadar, pl_df: pl.DataFrame) -> pd.DataFrame:\n",
    "    ip_address = f\"10.160.7.{radar.name.split('radar')[-1].strip()}\"\n",
    "    df = pl_df.filter(pl.col(\"radar\") == ip_address)\n",
    "\n",
    "    return df.to_pandas()"
   ]
  },
  {
   "attachments": {},
   "cell_type": "markdown",
   "metadata": {},
   "source": [
    "## Label the Boxes"
   ]
  },
  {
   "cell_type": "code",
   "execution_count": 6,
   "metadata": {},
   "outputs": [],
   "source": [
    "date = radars_df.select('time_cst').to_pandas().iloc[0].dt.date.values[0]\n",
    "save_path = ROOT / \"data\" / date.strftime(\"%Y-%m-%d\") \n",
    "save_path.mkdir(parents=True, exist_ok=True)"
   ]
  },
  {
   "cell_type": "code",
   "execution_count": 8,
   "metadata": {},
   "outputs": [
    {
     "data": {
      "application/vnd.jupyter.widget-view+json": {
       "model_id": "9d70acdb129a4c738d9c15597fbbbeb2",
       "version_major": 2,
       "version_minor": 0
      },
      "text/plain": [
       "VBox(children=(HBox(children=(IntProgress(value=0, description='0.00%', max=58612), Label(value='0 / 58612')))…"
      ]
     },
     "metadata": {},
     "output_type": "display_data"
    },
    {
     "data": {
      "application/vnd.jupyter.widget-view+json": {
       "model_id": "0d3716095c3943dab05867e870873366",
       "version_major": 2,
       "version_minor": 0
      },
      "text/plain": [
       "VBox(children=(HBox(children=(IntProgress(value=0, description='0.00%', max=71950), Label(value='0 / 71950')))…"
      ]
     },
     "metadata": {},
     "output_type": "display_data"
    }
   ],
   "source": [
    "for r_name, radar in radars.items():\n",
    "        radar.df = get_df_from_polars(radar, radars_df)\n",
    "        # convert the x/y to lat/lon\n",
    "        radar.radar_xy_2_latlon()\n",
    "        # convert to rw time\n",
    "        # radar.apply_rw_time()\n",
    "        radar.df[\"dt\"] = radar.df.pop(\"time_cst\")\n",
    "        # label boxes\n",
    "        radar.label_boxes()\n",
    "        # save the data\n",
    "        radar.df.to_parquet(save_path / f\"{r_name}.parquet\")\n"
   ]
  },
  {
   "cell_type": "markdown",
   "metadata": {},
   "source": [
    "### Find Vehicles that Cross the Stop Bar of the Boxes"
   ]
  },
  {
   "cell_type": "code",
   "execution_count": 9,
   "metadata": {},
   "outputs": [],
   "source": [
    "def check_line_string_intersection(x, box: ApproachInfo):\n",
    "    # check if the line string intersects the box\n",
    "    if len(x) < 2:\n",
    "        return False\n",
    "    line = LineString(x[[\"f32_positionX_m\", \"f32_positionY_m\"]].values)\n",
    "    return line.intersects(box.stop_bar)\n"
   ]
  },
  {
   "cell_type": "code",
   "execution_count": 10,
   "metadata": {},
   "outputs": [
    {
     "name": "stderr",
     "output_type": "stream",
     "text": [
      "100%|██████████| 26905/26905 [00:04<00:00, 5533.64it/s]\n",
      "100%|██████████| 26564/26564 [00:05<00:00, 5074.99it/s]\n"
     ]
    }
   ],
   "source": [
    "from tqdm import tqdm\n",
    "\n",
    "data = []\n",
    "for radar in radars.values():\n",
    "    for veh, veh_df in tqdm(\n",
    "        radar.df.groupby(\"ui32_objectID\"), total=radar.df.ui32_objectID.nunique()\n",
    "    ):\n",
    "        # check if the line string intersects the box\n",
    "        for box in veh_df.box.unique():\n",
    "            if box != \"\":\n",
    "                approach = [a for n, a in radar.approaches if n == box][0]\n",
    "                if check_line_string_intersection(veh_df, approach):\n",
    "                    data.append(\n",
    "                        {\n",
    "                            \"veh\": veh,\n",
    "                            \"box\": box,\n",
    "                            \"radar\": radar.name,\n",
    "                            \"cross_time\": veh_df[\"dt\"].iloc[\n",
    "                                np.linalg.norm(\n",
    "                                    veh_df[\n",
    "                                        [\"f32_positionX_m\", \"f32_positionY_m\"]\n",
    "                                    ].values\n",
    "                                    - approach.end_point,\n",
    "                                    axis=1,\n",
    "                                ).argmin()\n",
    "                            ],\n",
    "                        }\n",
    "                    )\n"
   ]
  },
  {
   "cell_type": "code",
   "execution_count": 11,
   "metadata": {},
   "outputs": [],
   "source": [
    "count_df = pd.DataFrame(data)"
   ]
  },
  {
   "cell_type": "code",
   "execution_count": 12,
   "metadata": {},
   "outputs": [],
   "source": [
    "# save the count data\n",
    "count_df.to_parquet(save_path / \"count_data.parquet\")"
   ]
  }
 ],
 "metadata": {
  "kernelspec": {
   "display_name": "sumo-uc-2023",
   "language": "python",
   "name": "python3"
  },
  "language_info": {
   "codemirror_mode": {
    "name": "ipython",
    "version": 3
   },
   "file_extension": ".py",
   "mimetype": "text/x-python",
   "name": "python",
   "nbconvert_exporter": "python",
   "pygments_lexer": "ipython3",
   "version": "3.9.10"
  },
  "orig_nbformat": 4,
  "vscode": {
   "interpreter": {
    "hash": "0fe24db46f0f9153940905989778a33a1b95b2b91b6370b048772e47434f409d"
   }
  }
 },
 "nbformat": 4,
 "nbformat_minor": 2
}
