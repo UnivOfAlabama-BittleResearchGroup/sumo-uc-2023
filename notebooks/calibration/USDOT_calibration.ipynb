{
 "cells": [
  {
   "cell_type": "markdown",
   "id": "empirical-extension",
   "metadata": {},
   "source": [
    "# USDOT and GEH Calculation - routeSampler"
   ]
  },
  {
   "cell_type": "code",
   "execution_count": 24,
   "id": "charming-circumstances",
   "metadata": {},
   "outputs": [],
   "source": [
    "import os\n",
    "import sys\n",
    "import pathlib\n",
    "from pathlib import Path\n",
    "\n",
    "raw_path = pathlib.Path().absolute()  # a bit of Jupyter Magic to get the working path\n",
    "PATH = str(raw_path.parent.parent)\n",
    "if PATH not in sys.path:\n",
    "    print(f\"adding {PATH} to path\")\n",
    "    sys.path.append(PATH)"
   ]
  },
  {
   "cell_type": "code",
   "execution_count": 25,
   "id": "modified-component",
   "metadata": {},
   "outputs": [],
   "source": [
    "import json5 as json\n",
    "import pickle\n",
    "# import swifter\n",
    "from datetime import timedelta\n",
    "import plotly.graph_objects as go\n",
    "from plotly.subplots import make_subplots\n",
    "import pandas as pd\n",
    "import numpy as np\n"
   ]
  },
  {
   "cell_type": "code",
   "execution_count": 26,
   "id": "recovered-stand",
   "metadata": {},
   "outputs": [],
   "source": [
    "def read_json(path):\n",
    "    with open(path, 'r') as f:\n",
    "        return json.load(f)\n",
    "\n",
    "def day_filter(df_like, date_low, date_high, time_series=None):\n",
    "    time_obj = time_series if time_series is not None else df_like.index        \n",
    "    indexer = (time_obj >= pd.to_datetime(date_low)) & (time_obj < pd.to_datetime(date_high))\n",
    "    return df_like.loc[indexer]\n",
    "\n",
    "def time_filter(df_like, date_low, date_high, time_series=None):\n",
    "    try:\n",
    "        time_obj = time_series.dt.time if time_series is not None else df_like.index\n",
    "    except AttributeError:\n",
    "        time_obj = time_series.time\n",
    "\n",
    "    time_low = pd.to_datetime(date_low).time()\n",
    "    time_high = pd.to_datetime(date_high).time()\n",
    "    indexer = (time_obj >= time_low) & (time_obj <= time_high)\n",
    "    time_low_dt = pd.to_datetime(date_low)\n",
    "    return df_like.loc[indexer], pd.Series(time_series).apply(lambda x: x.replace(day=time_low_dt.day, month=time_low_dt.month, year=time_low_dt.year)).loc[indexer]"
   ]
  },
  {
   "cell_type": "code",
   "execution_count": 27,
   "id": "enormous-infrastructure",
   "metadata": {},
   "outputs": [],
   "source": [
    "# need to use the input file method for this\n",
    "experiment_path = Path(\n",
    "    \"/home/max/tmp/sumo-uc-2023/CarFollowingDefaults/02.06.2023_17.39.54\"\n",
    ")\n",
    "DETECTOR_OUTPUT_CSV = experiment_path / '55' / 'detectors.parquet'\n",
    "\n",
    "\n",
    "TRAFFIC_LIGHTS = ['63082002', '63082003', '63082004']\n",
    "AIRPORT, LOWES, HARPER = TRAFFIC_LIGHTS\n",
    "\n",
    "START_TIME = pd.to_datetime('2020-02-24 05:30:00')\n",
    "END_TIME = pd.to_datetime('2020-02-24 11:50:00') #.replace(hour=23, minute=59, second=59)\n",
    "\n",
    "AGG_INTERVAL = 600"
   ]
  },
  {
   "cell_type": "markdown",
   "id": "wrong-denial",
   "metadata": {},
   "source": [
    "## Get the RW Data"
   ]
  },
  {
   "cell_type": "code",
   "execution_count": 28,
   "id": "empirical-ballot",
   "metadata": {},
   "outputs": [],
   "source": [
    "rw_df = pd.read_parquet(\"02_24_2020_cleaned.parquet\")"
   ]
  },
  {
   "attachments": {},
   "cell_type": "markdown",
   "id": "8e8a7420",
   "metadata": {},
   "source": [
    "### Convert the SUMO Data to the same format as the RW Data\n"
   ]
  },
  {
   "cell_type": "code",
   "execution_count": 29,
   "id": "d5a8cea9",
   "metadata": {},
   "outputs": [],
   "source": [
    "sumo_df = pd.read_parquet(\n",
    "    DETECTOR_OUTPUT_CSV,\n",
    ")\n",
    "# append _interval to the columns\n",
    "sumo_df.columns = [f\"interval_{col}\" for col in sumo_df.columns]"
   ]
  },
  {
   "cell_type": "code",
   "execution_count": 30,
   "id": "59dea777",
   "metadata": {},
   "outputs": [],
   "source": [
    "# create the timestamp column\n",
    "sumo_df[\"Timestamp\"] = sumo_df[\"interval_begin\"].apply(\n",
    "    lambda x: START_TIME + timedelta(seconds=x)\n",
    ")\n",
    "# make the columns the interval_id & the values the count\n",
    "sumo_df = (\n",
    "    sumo_df[[\"Timestamp\", \"interval_id\", \"interval_nVehEntered\"]]\n",
    "    .set_index([\"Timestamp\", \"interval_id\"])\n",
    "    .unstack(\n",
    "        [\n",
    "            \"interval_id\",\n",
    "        ]\n",
    "    )\n",
    ")\n",
    "# drop the multiindex\n",
    "sumo_df.columns = sumo_df.columns.droplevel(0)\n",
    "# reset the index\n",
    "sumo_df = sumo_df.reset_index()\n",
    "\n",
    "# sum together detectors that are the \"same\", (ie. 1_1 and 1_2)\n",
    "columns = sumo_df.columns.difference([\"Timestamp\"])\n",
    "two_level = [\n",
    "    (\"_\".join(split_col[:-1]), col)\n",
    "    for col, split_col in zip(columns, columns.str.split(\"_\"))\n",
    "]\n",
    "\n",
    "for short_col, long_col in two_level:\n",
    "    if short_col in sumo_df.columns:\n",
    "        sumo_df[short_col] = sumo_df[short_col] + sumo_df[long_col]\n",
    "    else:\n",
    "        sumo_df[short_col] = sumo_df[long_col]\n",
    "    sumo_df.drop(long_col, axis=1, inplace=True)\n",
    "\n",
    "sumo_df.set_index(\"Timestamp\", inplace=True)\n"
   ]
  },
  {
   "attachments": {},
   "cell_type": "markdown",
   "id": "1bee1697",
   "metadata": {},
   "source": [
    "### Resample the RW data to match the sumo data\n"
   ]
  },
  {
   "cell_type": "code",
   "execution_count": 31,
   "id": "72cb43b7",
   "metadata": {},
   "outputs": [
    {
     "data": {
      "text/plain": [
       "Timestamp('2020-02-24 11:59:50.499999744', freq='S')"
      ]
     },
     "execution_count": 31,
     "metadata": {},
     "output_type": "execute_result"
    }
   ],
   "source": [
    "# resample the rw_df to the sumo_df interval\n",
    "rw_df = rw_df.resample('1S').sum()\n",
    "sql_df_day = rw_df.index.mean()\n",
    "sql_df_day\n"
   ]
  },
  {
   "cell_type": "code",
   "execution_count": 32,
   "id": "ce4b57c2",
   "metadata": {},
   "outputs": [],
   "source": [
    "rw_df  = rw_df.resample(f'{AGG_INTERVAL}S').sum()\n",
    "sumo_df = sumo_df.resample(f'{AGG_INTERVAL}S').sum()\n",
    "\n",
    "rw_df = rw_df.reindex_like(\n",
    "    sumo_df\n",
    ")\n",
    "\n",
    "\n",
    "START_TIME = rw_df.index.min()\n",
    "END_TIME = rw_df.index.max()"
   ]
  },
  {
   "attachments": {},
   "cell_type": "markdown",
   "id": "96a5e2f8",
   "metadata": {},
   "source": [
    "### Create the EB and WB Columns\n"
   ]
  },
  {
   "cell_type": "code",
   "execution_count": 33,
   "id": "8ecbcc26",
   "metadata": {},
   "outputs": [],
   "source": [
    "for tl in [\"63082002\", \"63082003\", \"63082004\"]:\n",
    "    for ext, detectors in [(\"EB\", [9, 10]), (\"WB\", [11, 12])]:\n",
    "        sumo_df[f\"{tl}_{ext}\"] = sumo_df[[f\"{tl}_{d}\" for d in detectors]].sum(axis=1)\n",
    "        rw_df[f\"{tl}_{ext}\"] = rw_df[[f\"{tl}_{d}\" for d in detectors]].sum(axis=1)\n"
   ]
  },
  {
   "cell_type": "code",
   "execution_count": 34,
   "id": "liable-summary",
   "metadata": {},
   "outputs": [],
   "source": [
    "keep_cols = sumo_df.columns.intersection(rw_df.columns)\n",
    "sumo_df = sumo_df[keep_cols]\n",
    "rw_df = rw_df[keep_cols]"
   ]
  },
  {
   "cell_type": "markdown",
   "id": "desperate-brooks",
   "metadata": {},
   "source": [
    "## Load the Historical Analysis File"
   ]
  },
  {
   "cell_type": "code",
   "execution_count": 35,
   "id": "fuzzy-mixer",
   "metadata": {},
   "outputs": [],
   "source": [
    "HISTORICAL_AGG_INTERVAL = 300\n",
    "\n",
    "with open(f'detector_average_table_{HISTORICAL_AGG_INTERVAL}S.pkl', 'rb') as f:\n",
    "    average_table = pickle.load(f)\n",
    "\n",
    "# dealing with stupid datetimes\n",
    "average_table['time_index'] = pd.to_datetime([time.strftime('%H:%M:%S') for time in average_table['time_index']])"
   ]
  },
  {
   "cell_type": "code",
   "execution_count": 36,
   "id": "sunrise-multiple",
   "metadata": {},
   "outputs": [
    {
     "name": "stdout",
     "output_type": "stream",
     "text": [
      "63082002\n",
      "63082003\n",
      "63082004\n"
     ]
    }
   ],
   "source": [
    "# filter to our time range\n",
    "for tl, tl_dict in average_table.items():\n",
    "    if tl in TRAFFIC_LIGHTS:\n",
    "        print(tl)\n",
    "        for detect, detect_dict in tl_dict.items():\n",
    "            average_table[tl][detect]['counts'], time_index = time_filter(detect_dict['counts'].copy(), START_TIME, END_TIME, average_table['time_index'].copy())\n",
    "            # resample the historic data to match AGG_INTERVAL\n",
    "            average_table[tl][detect]['counts'] = average_table[tl][detect]['counts'].set_index(time_index).resample(f\"{AGG_INTERVAL}S\").sum().reset_index()\n",
    "#             average_table['time_index'] = average_table[tl][detect]['count']['index']\n",
    "            average_table[tl][detect]['counts'].drop('index', axis=1, inplace=True)\n",
    "            average_table[tl][detect]['counts'] = average_table[tl][detect]['counts'] * HISTORICAL_AGG_INTERVAL / AGG_INTERVAL\n",
    "\n",
    "average_table['time_index'] = pd.DataFrame(index=time_index).resample(f\"{AGG_INTERVAL}S\").interpolate().reset_index()['index']\n",
    "start_time = pd.to_datetime(START_TIME)\n",
    "average_table['time_index'] = average_table['time_index'].apply(lambda x: x.replace(day=start_time.day, month=start_time.month, year=start_time.year))"
   ]
  },
  {
   "cell_type": "markdown",
   "id": "interstate-mason",
   "metadata": {},
   "source": [
    "## Plot the Dector Values"
   ]
  },
  {
   "cell_type": "code",
   "execution_count": 37,
   "id": "satellite-offering",
   "metadata": {},
   "outputs": [],
   "source": [
    "def calibration_plot(tl, detector, show_image=True, show_legend=True, secondary=False, hourly=True, write_image=True):\n",
    "    \n",
    "    \n",
    "    \n",
    "    \n",
    "    day_values = rw_df[f\"{tl}_{detector}\"]\n",
    "    mean_std, mean_index = average_table[tl][detector]['counts'], average_table['time_index']\n",
    "    sumo_detect_volume = sumo_df[f\"{tl}_{detector}\"]\n",
    "\n",
    "    sumo_detect_volume = sumo_detect_volume\n",
    "    colors = ['#003f5c', '#bc5090', '#ff6361', '#ffa600', '#58508d'] \n",
    "\n",
    "    fig = go.Figure()\n",
    "    \n",
    "    # get the hourly multiplier\n",
    "    hourly_multiplier = 3600 / AGG_INTERVAL if hourly else 1\n",
    "    \n",
    "\n",
    "    one_sigma = [\n",
    "                 (day_values.values  * hourly_multiplier) + mean_std['std'],\n",
    "                 (day_values.values  * hourly_multiplier) - mean_std['std']\n",
    "                 ]\n",
    "\n",
    "    nine_five_conf = [\n",
    "                 (day_values.values  * hourly_multiplier) + 1.96 * mean_std['std'],\n",
    "                 (day_values.values  * hourly_multiplier) - 1.96 * mean_std['std']\n",
    "                 ]\n",
    "\n",
    "    \n",
    "\n",
    "    fig = go.Figure()\n",
    "\n",
    "    fig.add_trace(\n",
    "        go.Scatter(\n",
    "            x=mean_index,\n",
    "            y=nine_five_conf[0].values,\n",
    "            name=\"Criteria I.\",\n",
    "            line=dict(color=colors[3], width=3)\n",
    "        ),\n",
    "\n",
    "    )\n",
    "\n",
    "    fig.add_trace(\n",
    "        go.Scatter(\n",
    "            x=mean_index,\n",
    "            y=nine_five_conf[1].values,\n",
    "            name=\"Criteria I\",\n",
    "            showlegend=False,\n",
    "            line=dict(color=colors[3], width=3),\n",
    "            fill='tonexty'\n",
    "        ),\n",
    "    )\n",
    "\n",
    "\n",
    "    fig.add_trace(\n",
    "        go.Scatter(\n",
    "            x=mean_index,\n",
    "            y=one_sigma[0].values,\n",
    "            name=\"Criteria II.\",\n",
    "            line=dict(color=colors[1], width=3)\n",
    "        ),\n",
    "\n",
    "    )\n",
    "\n",
    "    fig.add_trace(\n",
    "        go.Scatter(\n",
    "            x=mean_index,\n",
    "            y=one_sigma[1].values,\n",
    "            name=\"Criteria II\",\n",
    "            showlegend=False,\n",
    "            line=dict(color=colors[1], width=3),\n",
    "            fill='tonexty'\n",
    "        ),\n",
    "    )\n",
    "\n",
    "    fig.add_trace(\n",
    "            go.Scatter(\n",
    "                x=mean_index,\n",
    "                y=day_values.values * hourly_multiplier,\n",
    "                line=dict(width=5, color=colors[0]),\n",
    "                name=\"Representative Day\",\n",
    "            ),\n",
    "    )\n",
    "\n",
    "    fig.add_trace(\n",
    "            go.Scatter(\n",
    "                x=sumo_detect_volume.index,\n",
    "                y=sumo_detect_volume.values * hourly_multiplier,\n",
    "                name=\"Simulation\",\n",
    "                mode='markers',\n",
    "                marker=dict(\n",
    "                            color='red',\n",
    "                            symbol='diamond',\n",
    "                            size=15,\n",
    "                            line=dict(\n",
    "                                color='black',\n",
    "                                width=2\n",
    "                            ),\n",
    "                )\n",
    "            ),\n",
    "        )\n",
    "\n",
    "    fig.update_yaxes(title_text=\"Volume [Vehicles/Hour]\")\n",
    "\n",
    "    fig.update_layout(\n",
    "        template='simple_white',\n",
    "        font_family='helvetica',\n",
    "        font_size=26,\n",
    "        height=600,\n",
    "        width=1200,\n",
    "        legend=dict(\n",
    "            yanchor=\"top\", y=1.0, xanchor=\"right\", x=1, orientation='h'\n",
    "        ),\n",
    "        yaxis=dict(showgrid=True, range=[0, 250] if secondary else [0, 2000]),\n",
    "        xaxis=dict(tickangle=15),\n",
    "    )\n",
    "    fig.update_layout(showlegend=show_legend)\n",
    "\n",
    "    if show_image:\n",
    "        fig.show()\n",
    "    if write_image:\n",
    "        (experiment_path / 'images' ).mkdir(parents=True, exist_ok=True)\n",
    "\n",
    "        fig.write_image(Path(experiment_path) / \"images\" / f\"{tl}-{detector}.png\")"
   ]
  },
  {
   "cell_type": "code",
   "execution_count": 38,
   "id": "defensive-thesis",
   "metadata": {},
   "outputs": [
    {
     "data": {
      "application/vnd.plotly.v1+json": {
       "config": {
        "plotlyServerURL": "https://plot.ly"
       },
       "data": [
        {
         "line": {
          "color": "#ffa600",
          "width": 3
         },
         "name": "Criteria I.",
         "type": "scatter",
         "x": [
          "2020-02-24T05:30:00",
          "2020-02-24T05:40:00",
          "2020-02-24T05:50:00",
          "2020-02-24T06:00:00",
          "2020-02-24T06:10:00",
          "2020-02-24T06:20:00",
          "2020-02-24T06:30:00",
          "2020-02-24T06:40:00",
          "2020-02-24T06:50:00",
          "2020-02-24T07:00:00",
          "2020-02-24T07:10:00",
          "2020-02-24T07:20:00",
          "2020-02-24T07:30:00",
          "2020-02-24T07:40:00",
          "2020-02-24T07:50:00",
          "2020-02-24T08:00:00",
          "2020-02-24T08:10:00",
          "2020-02-24T08:20:00",
          "2020-02-24T08:30:00",
          "2020-02-24T08:40:00",
          "2020-02-24T08:50:00",
          "2020-02-24T09:00:00",
          "2020-02-24T09:10:00",
          "2020-02-24T09:20:00",
          "2020-02-24T09:30:00",
          "2020-02-24T09:40:00",
          "2020-02-24T09:50:00",
          "2020-02-24T10:00:00",
          "2020-02-24T10:10:00",
          "2020-02-24T10:20:00",
          "2020-02-24T10:30:00",
          "2020-02-24T10:40:00",
          "2020-02-24T10:50:00",
          "2020-02-24T11:00:00",
          "2020-02-24T11:10:00",
          "2020-02-24T11:20:00",
          "2020-02-24T11:30:00",
          "2020-02-24T11:40:00"
         ],
         "y": [
          518.178193758872,
          695.659728171458,
          558.6621200486102,
          518.0783549032088,
          523.441025258259,
          511.9039455198973,
          739.4482844224553,
          652.9068911395624,
          767.1304729868332,
          711.5763336925658,
          807.486283444619,
          907.5770851557921,
          643.7693493672808,
          641.5080718844633,
          637.0377351741281,
          666.3510812024912,
          600.2777973529032,
          674.6489716977679,
          643.1435952881988,
          762.6461065834301,
          713.7712497379432,
          632.3742354592086,
          660.272623958926,
          589.4004932150041,
          597.4563350478769,
          657.715076406567,
          624.4695254541653,
          674.4600580102718,
          686.0864616622091,
          703.1376226365584,
          621.7519227527738,
          708.4742113546723,
          686.590948826293,
          800.7748649558565,
          846.8342186463439,
          810.1089134742551,
          823.2399055375029,
          811.8247742753341
         ]
        },
        {
         "fill": "tonexty",
         "line": {
          "color": "#ffa600",
          "width": 3
         },
         "name": "Criteria I",
         "showlegend": false,
         "type": "scatter",
         "x": [
          "2020-02-24T05:30:00",
          "2020-02-24T05:40:00",
          "2020-02-24T05:50:00",
          "2020-02-24T06:00:00",
          "2020-02-24T06:10:00",
          "2020-02-24T06:20:00",
          "2020-02-24T06:30:00",
          "2020-02-24T06:40:00",
          "2020-02-24T06:50:00",
          "2020-02-24T07:00:00",
          "2020-02-24T07:10:00",
          "2020-02-24T07:20:00",
          "2020-02-24T07:30:00",
          "2020-02-24T07:40:00",
          "2020-02-24T07:50:00",
          "2020-02-24T08:00:00",
          "2020-02-24T08:10:00",
          "2020-02-24T08:20:00",
          "2020-02-24T08:30:00",
          "2020-02-24T08:40:00",
          "2020-02-24T08:50:00",
          "2020-02-24T09:00:00",
          "2020-02-24T09:10:00",
          "2020-02-24T09:20:00",
          "2020-02-24T09:30:00",
          "2020-02-24T09:40:00",
          "2020-02-24T09:50:00",
          "2020-02-24T10:00:00",
          "2020-02-24T10:10:00",
          "2020-02-24T10:20:00",
          "2020-02-24T10:30:00",
          "2020-02-24T10:40:00",
          "2020-02-24T10:50:00",
          "2020-02-24T11:00:00",
          "2020-02-24T11:10:00",
          "2020-02-24T11:20:00",
          "2020-02-24T11:30:00",
          "2020-02-24T11:40:00"
         ],
         "y": [
          141.82180624112797,
          252.34027182854197,
          125.3378799513898,
          189.92164509679117,
          160.55897474174105,
          148.0960544801027,
          328.5517155775447,
          211.09310886043758,
          324.8695270131669,
          284.42366630743425,
          380.51371655538105,
          448.42291484420787,
          244.23065063271915,
          258.4919281155366,
          274.9622648258719,
          281.6489187975088,
          215.7222026470967,
          249.35102830223204,
          304.85640471180125,
          389.3538934165699,
          318.2287502620568,
          279.62576454079135,
          311.7273760410739,
          262.5995067849959,
          290.5436649521231,
          242.28492359343298,
          203.5304745458348,
          273.53994198972816,
          309.9135383377909,
          364.8623773634416,
          194.24807724722623,
          371.5257886453277,
          321.4090511737069,
          411.2251350441435,
          449.16578135365614,
          377.89108652574487,
          400.76009446249714,
          592.1752257246659
         ]
        },
        {
         "line": {
          "color": "#bc5090",
          "width": 3
         },
         "name": "Criteria II.",
         "type": "scatter",
         "x": [
          "2020-02-24T05:30:00",
          "2020-02-24T05:40:00",
          "2020-02-24T05:50:00",
          "2020-02-24T06:00:00",
          "2020-02-24T06:10:00",
          "2020-02-24T06:20:00",
          "2020-02-24T06:30:00",
          "2020-02-24T06:40:00",
          "2020-02-24T06:50:00",
          "2020-02-24T07:00:00",
          "2020-02-24T07:10:00",
          "2020-02-24T07:20:00",
          "2020-02-24T07:30:00",
          "2020-02-24T07:40:00",
          "2020-02-24T07:50:00",
          "2020-02-24T08:00:00",
          "2020-02-24T08:10:00",
          "2020-02-24T08:20:00",
          "2020-02-24T08:30:00",
          "2020-02-24T08:40:00",
          "2020-02-24T08:50:00",
          "2020-02-24T09:00:00",
          "2020-02-24T09:10:00",
          "2020-02-24T09:20:00",
          "2020-02-24T09:30:00",
          "2020-02-24T09:40:00",
          "2020-02-24T09:50:00",
          "2020-02-24T10:00:00",
          "2020-02-24T10:10:00",
          "2020-02-24T10:20:00",
          "2020-02-24T10:30:00",
          "2020-02-24T10:40:00",
          "2020-02-24T10:50:00",
          "2020-02-24T11:00:00",
          "2020-02-24T11:10:00",
          "2020-02-24T11:20:00",
          "2020-02-24T11:30:00",
          "2020-02-24T11:40:00"
         ],
         "y": [
          426.0092825300368,
          587.0916980466623,
          452.54189798398477,
          437.7134463791882,
          434.57195166237705,
          422.80813546933535,
          638.8205532767629,
          544.7075975201849,
          658.8216698912414,
          606.9675171900845,
          702.9215731860301,
          795.1311658958123,
          545.9231374322861,
          547.7081999410527,
          548.3661914153715,
          572.1383067359649,
          506.1009170167874,
          570.4943733151878,
          560.2977526980605,
          671.2276053997092,
          616.9036988458894,
          545.9868548261269,
          574.9146040606765,
          509.36759857908373,
          522.2940484938148,
          555.977079799269,
          521.3824109460027,
          576.2755398011591,
          593.9624804399026,
          620.2947054268155,
          517.0571034452928,
          625.9562302829961,
          597.1586473603536,
          705.3749310999268,
          749.446029921604,
          704.2596497317628,
          719.77546200893,
          758.0330480996603
         ]
        },
        {
         "fill": "tonexty",
         "line": {
          "color": "#bc5090",
          "width": 3
         },
         "name": "Criteria II",
         "showlegend": false,
         "type": "scatter",
         "x": [
          "2020-02-24T05:30:00",
          "2020-02-24T05:40:00",
          "2020-02-24T05:50:00",
          "2020-02-24T06:00:00",
          "2020-02-24T06:10:00",
          "2020-02-24T06:20:00",
          "2020-02-24T06:30:00",
          "2020-02-24T06:40:00",
          "2020-02-24T06:50:00",
          "2020-02-24T07:00:00",
          "2020-02-24T07:10:00",
          "2020-02-24T07:20:00",
          "2020-02-24T07:30:00",
          "2020-02-24T07:40:00",
          "2020-02-24T07:50:00",
          "2020-02-24T08:00:00",
          "2020-02-24T08:10:00",
          "2020-02-24T08:20:00",
          "2020-02-24T08:30:00",
          "2020-02-24T08:40:00",
          "2020-02-24T08:50:00",
          "2020-02-24T09:00:00",
          "2020-02-24T09:10:00",
          "2020-02-24T09:20:00",
          "2020-02-24T09:30:00",
          "2020-02-24T09:40:00",
          "2020-02-24T09:50:00",
          "2020-02-24T10:00:00",
          "2020-02-24T10:10:00",
          "2020-02-24T10:20:00",
          "2020-02-24T10:30:00",
          "2020-02-24T10:40:00",
          "2020-02-24T10:50:00",
          "2020-02-24T11:00:00",
          "2020-02-24T11:10:00",
          "2020-02-24T11:20:00",
          "2020-02-24T11:30:00",
          "2020-02-24T11:40:00"
         ],
         "y": [
          233.99071746996324,
          360.90830195333774,
          231.4581020160152,
          270.2865536208118,
          249.42804833762298,
          237.19186453066465,
          429.1794467232371,
          319.2924024798151,
          433.1783301087586,
          389.03248280991545,
          485.07842681396994,
          560.8688341041877,
          342.0768625677139,
          352.2918000589473,
          363.6338085846285,
          375.8616932640351,
          309.8990829832126,
          353.5056266848122,
          387.70224730193945,
          480.7723946002908,
          415.0963011541106,
          366.0131451738731,
          397.0853959393234,
          342.63240142091627,
          365.7059515061853,
          344.0229202007311,
          306.61758905399734,
          371.7244601988409,
          402.0375195600974,
          447.70529457318446,
          298.94289655470726,
          454.0437697170039,
          410.8413526396464,
          506.6250689000732,
          546.553970078396,
          483.7403502682372,
          504.22453799106995,
          645.9669519003397
         ]
        },
        {
         "line": {
          "color": "#003f5c",
          "width": 5
         },
         "name": "Representative Day",
         "type": "scatter",
         "x": [
          "2020-02-24T05:30:00",
          "2020-02-24T05:40:00",
          "2020-02-24T05:50:00",
          "2020-02-24T06:00:00",
          "2020-02-24T06:10:00",
          "2020-02-24T06:20:00",
          "2020-02-24T06:30:00",
          "2020-02-24T06:40:00",
          "2020-02-24T06:50:00",
          "2020-02-24T07:00:00",
          "2020-02-24T07:10:00",
          "2020-02-24T07:20:00",
          "2020-02-24T07:30:00",
          "2020-02-24T07:40:00",
          "2020-02-24T07:50:00",
          "2020-02-24T08:00:00",
          "2020-02-24T08:10:00",
          "2020-02-24T08:20:00",
          "2020-02-24T08:30:00",
          "2020-02-24T08:40:00",
          "2020-02-24T08:50:00",
          "2020-02-24T09:00:00",
          "2020-02-24T09:10:00",
          "2020-02-24T09:20:00",
          "2020-02-24T09:30:00",
          "2020-02-24T09:40:00",
          "2020-02-24T09:50:00",
          "2020-02-24T10:00:00",
          "2020-02-24T10:10:00",
          "2020-02-24T10:20:00",
          "2020-02-24T10:30:00",
          "2020-02-24T10:40:00",
          "2020-02-24T10:50:00",
          "2020-02-24T11:00:00",
          "2020-02-24T11:10:00",
          "2020-02-24T11:20:00",
          "2020-02-24T11:30:00",
          "2020-02-24T11:40:00"
         ],
         "y": [
          330,
          474,
          342,
          354,
          342,
          330,
          534,
          432,
          546,
          498,
          594,
          678,
          444,
          450,
          456,
          474,
          408,
          462,
          474,
          576,
          516,
          456,
          486,
          426,
          444,
          450,
          414,
          474,
          498,
          534,
          408,
          540,
          504,
          606,
          648,
          594,
          612,
          702
         ]
        },
        {
         "marker": {
          "color": "red",
          "line": {
           "color": "black",
           "width": 2
          },
          "size": 15,
          "symbol": "diamond"
         },
         "mode": "markers",
         "name": "Simulation",
         "type": "scatter",
         "x": [
          "2020-02-24T05:30:00",
          "2020-02-24T05:40:00",
          "2020-02-24T05:50:00",
          "2020-02-24T06:00:00",
          "2020-02-24T06:10:00",
          "2020-02-24T06:20:00",
          "2020-02-24T06:30:00",
          "2020-02-24T06:40:00",
          "2020-02-24T06:50:00",
          "2020-02-24T07:00:00",
          "2020-02-24T07:10:00",
          "2020-02-24T07:20:00",
          "2020-02-24T07:30:00",
          "2020-02-24T07:40:00",
          "2020-02-24T07:50:00",
          "2020-02-24T08:00:00",
          "2020-02-24T08:10:00",
          "2020-02-24T08:20:00",
          "2020-02-24T08:30:00",
          "2020-02-24T08:40:00",
          "2020-02-24T08:50:00",
          "2020-02-24T09:00:00",
          "2020-02-24T09:10:00",
          "2020-02-24T09:20:00",
          "2020-02-24T09:30:00",
          "2020-02-24T09:40:00",
          "2020-02-24T09:50:00",
          "2020-02-24T10:00:00",
          "2020-02-24T10:10:00",
          "2020-02-24T10:20:00",
          "2020-02-24T10:30:00",
          "2020-02-24T10:40:00",
          "2020-02-24T10:50:00",
          "2020-02-24T11:00:00",
          "2020-02-24T11:10:00",
          "2020-02-24T11:20:00",
          "2020-02-24T11:30:00",
          "2020-02-24T11:40:00"
         ],
         "y": [
          324,
          414,
          282,
          348,
          336,
          396,
          462,
          438,
          528,
          504,
          552,
          522,
          546,
          516,
          462,
          480,
          270,
          378,
          330,
          606,
          456,
          408,
          480,
          432,
          390,
          498,
          534,
          384,
          366,
          516,
          576,
          378,
          498,
          474,
          588,
          708,
          744,
          522
         ]
        }
       ],
       "layout": {
        "font": {
         "family": "helvetica",
         "size": 26
        },
        "height": 600,
        "legend": {
         "orientation": "h",
         "x": 1,
         "xanchor": "right",
         "y": 1,
         "yanchor": "top"
        },
        "showlegend": true,
        "template": {
         "data": {
          "bar": [
           {
            "error_x": {
             "color": "rgb(36,36,36)"
            },
            "error_y": {
             "color": "rgb(36,36,36)"
            },
            "marker": {
             "line": {
              "color": "white",
              "width": 0.5
             },
             "pattern": {
              "fillmode": "overlay",
              "size": 10,
              "solidity": 0.2
             }
            },
            "type": "bar"
           }
          ],
          "barpolar": [
           {
            "marker": {
             "line": {
              "color": "white",
              "width": 0.5
             },
             "pattern": {
              "fillmode": "overlay",
              "size": 10,
              "solidity": 0.2
             }
            },
            "type": "barpolar"
           }
          ],
          "carpet": [
           {
            "aaxis": {
             "endlinecolor": "rgb(36,36,36)",
             "gridcolor": "white",
             "linecolor": "white",
             "minorgridcolor": "white",
             "startlinecolor": "rgb(36,36,36)"
            },
            "baxis": {
             "endlinecolor": "rgb(36,36,36)",
             "gridcolor": "white",
             "linecolor": "white",
             "minorgridcolor": "white",
             "startlinecolor": "rgb(36,36,36)"
            },
            "type": "carpet"
           }
          ],
          "choropleth": [
           {
            "colorbar": {
             "outlinewidth": 1,
             "tickcolor": "rgb(36,36,36)",
             "ticks": "outside"
            },
            "type": "choropleth"
           }
          ],
          "contour": [
           {
            "colorbar": {
             "outlinewidth": 1,
             "tickcolor": "rgb(36,36,36)",
             "ticks": "outside"
            },
            "colorscale": [
             [
              0,
              "#440154"
             ],
             [
              0.1111111111111111,
              "#482878"
             ],
             [
              0.2222222222222222,
              "#3e4989"
             ],
             [
              0.3333333333333333,
              "#31688e"
             ],
             [
              0.4444444444444444,
              "#26828e"
             ],
             [
              0.5555555555555556,
              "#1f9e89"
             ],
             [
              0.6666666666666666,
              "#35b779"
             ],
             [
              0.7777777777777778,
              "#6ece58"
             ],
             [
              0.8888888888888888,
              "#b5de2b"
             ],
             [
              1,
              "#fde725"
             ]
            ],
            "type": "contour"
           }
          ],
          "contourcarpet": [
           {
            "colorbar": {
             "outlinewidth": 1,
             "tickcolor": "rgb(36,36,36)",
             "ticks": "outside"
            },
            "type": "contourcarpet"
           }
          ],
          "heatmap": [
           {
            "colorbar": {
             "outlinewidth": 1,
             "tickcolor": "rgb(36,36,36)",
             "ticks": "outside"
            },
            "colorscale": [
             [
              0,
              "#440154"
             ],
             [
              0.1111111111111111,
              "#482878"
             ],
             [
              0.2222222222222222,
              "#3e4989"
             ],
             [
              0.3333333333333333,
              "#31688e"
             ],
             [
              0.4444444444444444,
              "#26828e"
             ],
             [
              0.5555555555555556,
              "#1f9e89"
             ],
             [
              0.6666666666666666,
              "#35b779"
             ],
             [
              0.7777777777777778,
              "#6ece58"
             ],
             [
              0.8888888888888888,
              "#b5de2b"
             ],
             [
              1,
              "#fde725"
             ]
            ],
            "type": "heatmap"
           }
          ],
          "heatmapgl": [
           {
            "colorbar": {
             "outlinewidth": 1,
             "tickcolor": "rgb(36,36,36)",
             "ticks": "outside"
            },
            "colorscale": [
             [
              0,
              "#440154"
             ],
             [
              0.1111111111111111,
              "#482878"
             ],
             [
              0.2222222222222222,
              "#3e4989"
             ],
             [
              0.3333333333333333,
              "#31688e"
             ],
             [
              0.4444444444444444,
              "#26828e"
             ],
             [
              0.5555555555555556,
              "#1f9e89"
             ],
             [
              0.6666666666666666,
              "#35b779"
             ],
             [
              0.7777777777777778,
              "#6ece58"
             ],
             [
              0.8888888888888888,
              "#b5de2b"
             ],
             [
              1,
              "#fde725"
             ]
            ],
            "type": "heatmapgl"
           }
          ],
          "histogram": [
           {
            "marker": {
             "line": {
              "color": "white",
              "width": 0.6
             }
            },
            "type": "histogram"
           }
          ],
          "histogram2d": [
           {
            "colorbar": {
             "outlinewidth": 1,
             "tickcolor": "rgb(36,36,36)",
             "ticks": "outside"
            },
            "colorscale": [
             [
              0,
              "#440154"
             ],
             [
              0.1111111111111111,
              "#482878"
             ],
             [
              0.2222222222222222,
              "#3e4989"
             ],
             [
              0.3333333333333333,
              "#31688e"
             ],
             [
              0.4444444444444444,
              "#26828e"
             ],
             [
              0.5555555555555556,
              "#1f9e89"
             ],
             [
              0.6666666666666666,
              "#35b779"
             ],
             [
              0.7777777777777778,
              "#6ece58"
             ],
             [
              0.8888888888888888,
              "#b5de2b"
             ],
             [
              1,
              "#fde725"
             ]
            ],
            "type": "histogram2d"
           }
          ],
          "histogram2dcontour": [
           {
            "colorbar": {
             "outlinewidth": 1,
             "tickcolor": "rgb(36,36,36)",
             "ticks": "outside"
            },
            "colorscale": [
             [
              0,
              "#440154"
             ],
             [
              0.1111111111111111,
              "#482878"
             ],
             [
              0.2222222222222222,
              "#3e4989"
             ],
             [
              0.3333333333333333,
              "#31688e"
             ],
             [
              0.4444444444444444,
              "#26828e"
             ],
             [
              0.5555555555555556,
              "#1f9e89"
             ],
             [
              0.6666666666666666,
              "#35b779"
             ],
             [
              0.7777777777777778,
              "#6ece58"
             ],
             [
              0.8888888888888888,
              "#b5de2b"
             ],
             [
              1,
              "#fde725"
             ]
            ],
            "type": "histogram2dcontour"
           }
          ],
          "mesh3d": [
           {
            "colorbar": {
             "outlinewidth": 1,
             "tickcolor": "rgb(36,36,36)",
             "ticks": "outside"
            },
            "type": "mesh3d"
           }
          ],
          "parcoords": [
           {
            "line": {
             "colorbar": {
              "outlinewidth": 1,
              "tickcolor": "rgb(36,36,36)",
              "ticks": "outside"
             }
            },
            "type": "parcoords"
           }
          ],
          "pie": [
           {
            "automargin": true,
            "type": "pie"
           }
          ],
          "scatter": [
           {
            "fillpattern": {
             "fillmode": "overlay",
             "size": 10,
             "solidity": 0.2
            },
            "type": "scatter"
           }
          ],
          "scatter3d": [
           {
            "line": {
             "colorbar": {
              "outlinewidth": 1,
              "tickcolor": "rgb(36,36,36)",
              "ticks": "outside"
             }
            },
            "marker": {
             "colorbar": {
              "outlinewidth": 1,
              "tickcolor": "rgb(36,36,36)",
              "ticks": "outside"
             }
            },
            "type": "scatter3d"
           }
          ],
          "scattercarpet": [
           {
            "marker": {
             "colorbar": {
              "outlinewidth": 1,
              "tickcolor": "rgb(36,36,36)",
              "ticks": "outside"
             }
            },
            "type": "scattercarpet"
           }
          ],
          "scattergeo": [
           {
            "marker": {
             "colorbar": {
              "outlinewidth": 1,
              "tickcolor": "rgb(36,36,36)",
              "ticks": "outside"
             }
            },
            "type": "scattergeo"
           }
          ],
          "scattergl": [
           {
            "marker": {
             "colorbar": {
              "outlinewidth": 1,
              "tickcolor": "rgb(36,36,36)",
              "ticks": "outside"
             }
            },
            "type": "scattergl"
           }
          ],
          "scattermapbox": [
           {
            "marker": {
             "colorbar": {
              "outlinewidth": 1,
              "tickcolor": "rgb(36,36,36)",
              "ticks": "outside"
             }
            },
            "type": "scattermapbox"
           }
          ],
          "scatterpolar": [
           {
            "marker": {
             "colorbar": {
              "outlinewidth": 1,
              "tickcolor": "rgb(36,36,36)",
              "ticks": "outside"
             }
            },
            "type": "scatterpolar"
           }
          ],
          "scatterpolargl": [
           {
            "marker": {
             "colorbar": {
              "outlinewidth": 1,
              "tickcolor": "rgb(36,36,36)",
              "ticks": "outside"
             }
            },
            "type": "scatterpolargl"
           }
          ],
          "scatterternary": [
           {
            "marker": {
             "colorbar": {
              "outlinewidth": 1,
              "tickcolor": "rgb(36,36,36)",
              "ticks": "outside"
             }
            },
            "type": "scatterternary"
           }
          ],
          "surface": [
           {
            "colorbar": {
             "outlinewidth": 1,
             "tickcolor": "rgb(36,36,36)",
             "ticks": "outside"
            },
            "colorscale": [
             [
              0,
              "#440154"
             ],
             [
              0.1111111111111111,
              "#482878"
             ],
             [
              0.2222222222222222,
              "#3e4989"
             ],
             [
              0.3333333333333333,
              "#31688e"
             ],
             [
              0.4444444444444444,
              "#26828e"
             ],
             [
              0.5555555555555556,
              "#1f9e89"
             ],
             [
              0.6666666666666666,
              "#35b779"
             ],
             [
              0.7777777777777778,
              "#6ece58"
             ],
             [
              0.8888888888888888,
              "#b5de2b"
             ],
             [
              1,
              "#fde725"
             ]
            ],
            "type": "surface"
           }
          ],
          "table": [
           {
            "cells": {
             "fill": {
              "color": "rgb(237,237,237)"
             },
             "line": {
              "color": "white"
             }
            },
            "header": {
             "fill": {
              "color": "rgb(217,217,217)"
             },
             "line": {
              "color": "white"
             }
            },
            "type": "table"
           }
          ]
         },
         "layout": {
          "annotationdefaults": {
           "arrowhead": 0,
           "arrowwidth": 1
          },
          "autotypenumbers": "strict",
          "coloraxis": {
           "colorbar": {
            "outlinewidth": 1,
            "tickcolor": "rgb(36,36,36)",
            "ticks": "outside"
           }
          },
          "colorscale": {
           "diverging": [
            [
             0,
             "rgb(103,0,31)"
            ],
            [
             0.1,
             "rgb(178,24,43)"
            ],
            [
             0.2,
             "rgb(214,96,77)"
            ],
            [
             0.3,
             "rgb(244,165,130)"
            ],
            [
             0.4,
             "rgb(253,219,199)"
            ],
            [
             0.5,
             "rgb(247,247,247)"
            ],
            [
             0.6,
             "rgb(209,229,240)"
            ],
            [
             0.7,
             "rgb(146,197,222)"
            ],
            [
             0.8,
             "rgb(67,147,195)"
            ],
            [
             0.9,
             "rgb(33,102,172)"
            ],
            [
             1,
             "rgb(5,48,97)"
            ]
           ],
           "sequential": [
            [
             0,
             "#440154"
            ],
            [
             0.1111111111111111,
             "#482878"
            ],
            [
             0.2222222222222222,
             "#3e4989"
            ],
            [
             0.3333333333333333,
             "#31688e"
            ],
            [
             0.4444444444444444,
             "#26828e"
            ],
            [
             0.5555555555555556,
             "#1f9e89"
            ],
            [
             0.6666666666666666,
             "#35b779"
            ],
            [
             0.7777777777777778,
             "#6ece58"
            ],
            [
             0.8888888888888888,
             "#b5de2b"
            ],
            [
             1,
             "#fde725"
            ]
           ],
           "sequentialminus": [
            [
             0,
             "#440154"
            ],
            [
             0.1111111111111111,
             "#482878"
            ],
            [
             0.2222222222222222,
             "#3e4989"
            ],
            [
             0.3333333333333333,
             "#31688e"
            ],
            [
             0.4444444444444444,
             "#26828e"
            ],
            [
             0.5555555555555556,
             "#1f9e89"
            ],
            [
             0.6666666666666666,
             "#35b779"
            ],
            [
             0.7777777777777778,
             "#6ece58"
            ],
            [
             0.8888888888888888,
             "#b5de2b"
            ],
            [
             1,
             "#fde725"
            ]
           ]
          },
          "colorway": [
           "#1F77B4",
           "#FF7F0E",
           "#2CA02C",
           "#D62728",
           "#9467BD",
           "#8C564B",
           "#E377C2",
           "#7F7F7F",
           "#BCBD22",
           "#17BECF"
          ],
          "font": {
           "color": "rgb(36,36,36)"
          },
          "geo": {
           "bgcolor": "white",
           "lakecolor": "white",
           "landcolor": "white",
           "showlakes": true,
           "showland": true,
           "subunitcolor": "white"
          },
          "hoverlabel": {
           "align": "left"
          },
          "hovermode": "closest",
          "mapbox": {
           "style": "light"
          },
          "paper_bgcolor": "white",
          "plot_bgcolor": "white",
          "polar": {
           "angularaxis": {
            "gridcolor": "rgb(232,232,232)",
            "linecolor": "rgb(36,36,36)",
            "showgrid": false,
            "showline": true,
            "ticks": "outside"
           },
           "bgcolor": "white",
           "radialaxis": {
            "gridcolor": "rgb(232,232,232)",
            "linecolor": "rgb(36,36,36)",
            "showgrid": false,
            "showline": true,
            "ticks": "outside"
           }
          },
          "scene": {
           "xaxis": {
            "backgroundcolor": "white",
            "gridcolor": "rgb(232,232,232)",
            "gridwidth": 2,
            "linecolor": "rgb(36,36,36)",
            "showbackground": true,
            "showgrid": false,
            "showline": true,
            "ticks": "outside",
            "zeroline": false,
            "zerolinecolor": "rgb(36,36,36)"
           },
           "yaxis": {
            "backgroundcolor": "white",
            "gridcolor": "rgb(232,232,232)",
            "gridwidth": 2,
            "linecolor": "rgb(36,36,36)",
            "showbackground": true,
            "showgrid": false,
            "showline": true,
            "ticks": "outside",
            "zeroline": false,
            "zerolinecolor": "rgb(36,36,36)"
           },
           "zaxis": {
            "backgroundcolor": "white",
            "gridcolor": "rgb(232,232,232)",
            "gridwidth": 2,
            "linecolor": "rgb(36,36,36)",
            "showbackground": true,
            "showgrid": false,
            "showline": true,
            "ticks": "outside",
            "zeroline": false,
            "zerolinecolor": "rgb(36,36,36)"
           }
          },
          "shapedefaults": {
           "fillcolor": "black",
           "line": {
            "width": 0
           },
           "opacity": 0.3
          },
          "ternary": {
           "aaxis": {
            "gridcolor": "rgb(232,232,232)",
            "linecolor": "rgb(36,36,36)",
            "showgrid": false,
            "showline": true,
            "ticks": "outside"
           },
           "baxis": {
            "gridcolor": "rgb(232,232,232)",
            "linecolor": "rgb(36,36,36)",
            "showgrid": false,
            "showline": true,
            "ticks": "outside"
           },
           "bgcolor": "white",
           "caxis": {
            "gridcolor": "rgb(232,232,232)",
            "linecolor": "rgb(36,36,36)",
            "showgrid": false,
            "showline": true,
            "ticks": "outside"
           }
          },
          "title": {
           "x": 0.05
          },
          "xaxis": {
           "automargin": true,
           "gridcolor": "rgb(232,232,232)",
           "linecolor": "rgb(36,36,36)",
           "showgrid": false,
           "showline": true,
           "ticks": "outside",
           "title": {
            "standoff": 15
           },
           "zeroline": false,
           "zerolinecolor": "rgb(36,36,36)"
          },
          "yaxis": {
           "automargin": true,
           "gridcolor": "rgb(232,232,232)",
           "linecolor": "rgb(36,36,36)",
           "showgrid": false,
           "showline": true,
           "ticks": "outside",
           "title": {
            "standoff": 15
           },
           "zeroline": false,
           "zerolinecolor": "rgb(36,36,36)"
          }
         }
        },
        "width": 1200,
        "xaxis": {
         "tickangle": 15
        },
        "yaxis": {
         "range": [
          0,
          2000
         ],
         "showgrid": true,
         "title": {
          "text": "Volume [Vehicles/Hour]"
         }
        }
       }
      },
      "text/html": [
       "<div>                            <div id=\"cb07a0a4-f922-4463-92db-83c8337fef25\" class=\"plotly-graph-div\" style=\"height:600px; width:1200px;\"></div>            <script type=\"text/javascript\">                require([\"plotly\"], function(Plotly) {                    window.PLOTLYENV=window.PLOTLYENV || {};                                    if (document.getElementById(\"cb07a0a4-f922-4463-92db-83c8337fef25\")) {                    Plotly.newPlot(                        \"cb07a0a4-f922-4463-92db-83c8337fef25\",                        [{\"line\":{\"color\":\"#ffa600\",\"width\":3},\"name\":\"Criteria I.\",\"x\":[\"2020-02-24T05:30:00\",\"2020-02-24T05:40:00\",\"2020-02-24T05:50:00\",\"2020-02-24T06:00:00\",\"2020-02-24T06:10:00\",\"2020-02-24T06:20:00\",\"2020-02-24T06:30:00\",\"2020-02-24T06:40:00\",\"2020-02-24T06:50:00\",\"2020-02-24T07:00:00\",\"2020-02-24T07:10:00\",\"2020-02-24T07:20:00\",\"2020-02-24T07:30:00\",\"2020-02-24T07:40:00\",\"2020-02-24T07:50:00\",\"2020-02-24T08:00:00\",\"2020-02-24T08:10:00\",\"2020-02-24T08:20:00\",\"2020-02-24T08:30:00\",\"2020-02-24T08:40:00\",\"2020-02-24T08:50:00\",\"2020-02-24T09:00:00\",\"2020-02-24T09:10:00\",\"2020-02-24T09:20:00\",\"2020-02-24T09:30:00\",\"2020-02-24T09:40:00\",\"2020-02-24T09:50:00\",\"2020-02-24T10:00:00\",\"2020-02-24T10:10:00\",\"2020-02-24T10:20:00\",\"2020-02-24T10:30:00\",\"2020-02-24T10:40:00\",\"2020-02-24T10:50:00\",\"2020-02-24T11:00:00\",\"2020-02-24T11:10:00\",\"2020-02-24T11:20:00\",\"2020-02-24T11:30:00\",\"2020-02-24T11:40:00\"],\"y\":[518.178193758872,695.659728171458,558.6621200486102,518.0783549032088,523.441025258259,511.9039455198973,739.4482844224553,652.9068911395624,767.1304729868332,711.5763336925658,807.486283444619,907.5770851557921,643.7693493672808,641.5080718844633,637.0377351741281,666.3510812024912,600.2777973529032,674.6489716977679,643.1435952881988,762.6461065834301,713.7712497379432,632.3742354592086,660.272623958926,589.4004932150041,597.4563350478769,657.715076406567,624.4695254541653,674.4600580102718,686.0864616622091,703.1376226365584,621.7519227527738,708.4742113546723,686.590948826293,800.7748649558565,846.8342186463439,810.1089134742551,823.2399055375029,811.8247742753341],\"type\":\"scatter\"},{\"fill\":\"tonexty\",\"line\":{\"color\":\"#ffa600\",\"width\":3},\"name\":\"Criteria I\",\"showlegend\":false,\"x\":[\"2020-02-24T05:30:00\",\"2020-02-24T05:40:00\",\"2020-02-24T05:50:00\",\"2020-02-24T06:00:00\",\"2020-02-24T06:10:00\",\"2020-02-24T06:20:00\",\"2020-02-24T06:30:00\",\"2020-02-24T06:40:00\",\"2020-02-24T06:50:00\",\"2020-02-24T07:00:00\",\"2020-02-24T07:10:00\",\"2020-02-24T07:20:00\",\"2020-02-24T07:30:00\",\"2020-02-24T07:40:00\",\"2020-02-24T07:50:00\",\"2020-02-24T08:00:00\",\"2020-02-24T08:10:00\",\"2020-02-24T08:20:00\",\"2020-02-24T08:30:00\",\"2020-02-24T08:40:00\",\"2020-02-24T08:50:00\",\"2020-02-24T09:00:00\",\"2020-02-24T09:10:00\",\"2020-02-24T09:20:00\",\"2020-02-24T09:30:00\",\"2020-02-24T09:40:00\",\"2020-02-24T09:50:00\",\"2020-02-24T10:00:00\",\"2020-02-24T10:10:00\",\"2020-02-24T10:20:00\",\"2020-02-24T10:30:00\",\"2020-02-24T10:40:00\",\"2020-02-24T10:50:00\",\"2020-02-24T11:00:00\",\"2020-02-24T11:10:00\",\"2020-02-24T11:20:00\",\"2020-02-24T11:30:00\",\"2020-02-24T11:40:00\"],\"y\":[141.82180624112797,252.34027182854197,125.3378799513898,189.92164509679117,160.55897474174105,148.0960544801027,328.5517155775447,211.09310886043758,324.8695270131669,284.42366630743425,380.51371655538105,448.42291484420787,244.23065063271915,258.4919281155366,274.9622648258719,281.6489187975088,215.7222026470967,249.35102830223204,304.85640471180125,389.3538934165699,318.2287502620568,279.62576454079135,311.7273760410739,262.5995067849959,290.5436649521231,242.28492359343298,203.5304745458348,273.53994198972816,309.9135383377909,364.8623773634416,194.24807724722623,371.5257886453277,321.4090511737069,411.2251350441435,449.16578135365614,377.89108652574487,400.76009446249714,592.1752257246659],\"type\":\"scatter\"},{\"line\":{\"color\":\"#bc5090\",\"width\":3},\"name\":\"Criteria II.\",\"x\":[\"2020-02-24T05:30:00\",\"2020-02-24T05:40:00\",\"2020-02-24T05:50:00\",\"2020-02-24T06:00:00\",\"2020-02-24T06:10:00\",\"2020-02-24T06:20:00\",\"2020-02-24T06:30:00\",\"2020-02-24T06:40:00\",\"2020-02-24T06:50:00\",\"2020-02-24T07:00:00\",\"2020-02-24T07:10:00\",\"2020-02-24T07:20:00\",\"2020-02-24T07:30:00\",\"2020-02-24T07:40:00\",\"2020-02-24T07:50:00\",\"2020-02-24T08:00:00\",\"2020-02-24T08:10:00\",\"2020-02-24T08:20:00\",\"2020-02-24T08:30:00\",\"2020-02-24T08:40:00\",\"2020-02-24T08:50:00\",\"2020-02-24T09:00:00\",\"2020-02-24T09:10:00\",\"2020-02-24T09:20:00\",\"2020-02-24T09:30:00\",\"2020-02-24T09:40:00\",\"2020-02-24T09:50:00\",\"2020-02-24T10:00:00\",\"2020-02-24T10:10:00\",\"2020-02-24T10:20:00\",\"2020-02-24T10:30:00\",\"2020-02-24T10:40:00\",\"2020-02-24T10:50:00\",\"2020-02-24T11:00:00\",\"2020-02-24T11:10:00\",\"2020-02-24T11:20:00\",\"2020-02-24T11:30:00\",\"2020-02-24T11:40:00\"],\"y\":[426.0092825300368,587.0916980466623,452.54189798398477,437.7134463791882,434.57195166237705,422.80813546933535,638.8205532767629,544.7075975201849,658.8216698912414,606.9675171900845,702.9215731860301,795.1311658958123,545.9231374322861,547.7081999410527,548.3661914153715,572.1383067359649,506.1009170167874,570.4943733151878,560.2977526980605,671.2276053997092,616.9036988458894,545.9868548261269,574.9146040606765,509.36759857908373,522.2940484938148,555.977079799269,521.3824109460027,576.2755398011591,593.9624804399026,620.2947054268155,517.0571034452928,625.9562302829961,597.1586473603536,705.3749310999268,749.446029921604,704.2596497317628,719.77546200893,758.0330480996603],\"type\":\"scatter\"},{\"fill\":\"tonexty\",\"line\":{\"color\":\"#bc5090\",\"width\":3},\"name\":\"Criteria II\",\"showlegend\":false,\"x\":[\"2020-02-24T05:30:00\",\"2020-02-24T05:40:00\",\"2020-02-24T05:50:00\",\"2020-02-24T06:00:00\",\"2020-02-24T06:10:00\",\"2020-02-24T06:20:00\",\"2020-02-24T06:30:00\",\"2020-02-24T06:40:00\",\"2020-02-24T06:50:00\",\"2020-02-24T07:00:00\",\"2020-02-24T07:10:00\",\"2020-02-24T07:20:00\",\"2020-02-24T07:30:00\",\"2020-02-24T07:40:00\",\"2020-02-24T07:50:00\",\"2020-02-24T08:00:00\",\"2020-02-24T08:10:00\",\"2020-02-24T08:20:00\",\"2020-02-24T08:30:00\",\"2020-02-24T08:40:00\",\"2020-02-24T08:50:00\",\"2020-02-24T09:00:00\",\"2020-02-24T09:10:00\",\"2020-02-24T09:20:00\",\"2020-02-24T09:30:00\",\"2020-02-24T09:40:00\",\"2020-02-24T09:50:00\",\"2020-02-24T10:00:00\",\"2020-02-24T10:10:00\",\"2020-02-24T10:20:00\",\"2020-02-24T10:30:00\",\"2020-02-24T10:40:00\",\"2020-02-24T10:50:00\",\"2020-02-24T11:00:00\",\"2020-02-24T11:10:00\",\"2020-02-24T11:20:00\",\"2020-02-24T11:30:00\",\"2020-02-24T11:40:00\"],\"y\":[233.99071746996324,360.90830195333774,231.4581020160152,270.2865536208118,249.42804833762298,237.19186453066465,429.1794467232371,319.2924024798151,433.1783301087586,389.03248280991545,485.07842681396994,560.8688341041877,342.0768625677139,352.2918000589473,363.6338085846285,375.8616932640351,309.8990829832126,353.5056266848122,387.70224730193945,480.7723946002908,415.0963011541106,366.0131451738731,397.0853959393234,342.63240142091627,365.7059515061853,344.0229202007311,306.61758905399734,371.7244601988409,402.0375195600974,447.70529457318446,298.94289655470726,454.0437697170039,410.8413526396464,506.6250689000732,546.553970078396,483.7403502682372,504.22453799106995,645.9669519003397],\"type\":\"scatter\"},{\"line\":{\"color\":\"#003f5c\",\"width\":5},\"name\":\"Representative Day\",\"x\":[\"2020-02-24T05:30:00\",\"2020-02-24T05:40:00\",\"2020-02-24T05:50:00\",\"2020-02-24T06:00:00\",\"2020-02-24T06:10:00\",\"2020-02-24T06:20:00\",\"2020-02-24T06:30:00\",\"2020-02-24T06:40:00\",\"2020-02-24T06:50:00\",\"2020-02-24T07:00:00\",\"2020-02-24T07:10:00\",\"2020-02-24T07:20:00\",\"2020-02-24T07:30:00\",\"2020-02-24T07:40:00\",\"2020-02-24T07:50:00\",\"2020-02-24T08:00:00\",\"2020-02-24T08:10:00\",\"2020-02-24T08:20:00\",\"2020-02-24T08:30:00\",\"2020-02-24T08:40:00\",\"2020-02-24T08:50:00\",\"2020-02-24T09:00:00\",\"2020-02-24T09:10:00\",\"2020-02-24T09:20:00\",\"2020-02-24T09:30:00\",\"2020-02-24T09:40:00\",\"2020-02-24T09:50:00\",\"2020-02-24T10:00:00\",\"2020-02-24T10:10:00\",\"2020-02-24T10:20:00\",\"2020-02-24T10:30:00\",\"2020-02-24T10:40:00\",\"2020-02-24T10:50:00\",\"2020-02-24T11:00:00\",\"2020-02-24T11:10:00\",\"2020-02-24T11:20:00\",\"2020-02-24T11:30:00\",\"2020-02-24T11:40:00\"],\"y\":[330.0,474.0,342.0,354.0,342.0,330.0,534.0,432.0,546.0,498.0,594.0,678.0,444.0,450.0,456.0,474.0,408.0,462.0,474.0,576.0,516.0,456.0,486.0,426.0,444.0,450.0,414.0,474.0,498.0,534.0,408.0,540.0,504.0,606.0,648.0,594.0,612.0,702.0],\"type\":\"scatter\"},{\"marker\":{\"color\":\"red\",\"line\":{\"color\":\"black\",\"width\":2},\"size\":15,\"symbol\":\"diamond\"},\"mode\":\"markers\",\"name\":\"Simulation\",\"x\":[\"2020-02-24T05:30:00\",\"2020-02-24T05:40:00\",\"2020-02-24T05:50:00\",\"2020-02-24T06:00:00\",\"2020-02-24T06:10:00\",\"2020-02-24T06:20:00\",\"2020-02-24T06:30:00\",\"2020-02-24T06:40:00\",\"2020-02-24T06:50:00\",\"2020-02-24T07:00:00\",\"2020-02-24T07:10:00\",\"2020-02-24T07:20:00\",\"2020-02-24T07:30:00\",\"2020-02-24T07:40:00\",\"2020-02-24T07:50:00\",\"2020-02-24T08:00:00\",\"2020-02-24T08:10:00\",\"2020-02-24T08:20:00\",\"2020-02-24T08:30:00\",\"2020-02-24T08:40:00\",\"2020-02-24T08:50:00\",\"2020-02-24T09:00:00\",\"2020-02-24T09:10:00\",\"2020-02-24T09:20:00\",\"2020-02-24T09:30:00\",\"2020-02-24T09:40:00\",\"2020-02-24T09:50:00\",\"2020-02-24T10:00:00\",\"2020-02-24T10:10:00\",\"2020-02-24T10:20:00\",\"2020-02-24T10:30:00\",\"2020-02-24T10:40:00\",\"2020-02-24T10:50:00\",\"2020-02-24T11:00:00\",\"2020-02-24T11:10:00\",\"2020-02-24T11:20:00\",\"2020-02-24T11:30:00\",\"2020-02-24T11:40:00\"],\"y\":[324.0,414.0,282.0,348.0,336.0,396.0,462.0,438.0,528.0,504.0,552.0,522.0,546.0,516.0,462.0,480.0,270.0,378.0,330.0,606.0,456.0,408.0,480.0,432.0,390.0,498.0,534.0,384.0,366.0,516.0,576.0,378.0,498.0,474.0,588.0,708.0,744.0,522.0],\"type\":\"scatter\"}],                        {\"template\":{\"data\":{\"barpolar\":[{\"marker\":{\"line\":{\"color\":\"white\",\"width\":0.5},\"pattern\":{\"fillmode\":\"overlay\",\"size\":10,\"solidity\":0.2}},\"type\":\"barpolar\"}],\"bar\":[{\"error_x\":{\"color\":\"rgb(36,36,36)\"},\"error_y\":{\"color\":\"rgb(36,36,36)\"},\"marker\":{\"line\":{\"color\":\"white\",\"width\":0.5},\"pattern\":{\"fillmode\":\"overlay\",\"size\":10,\"solidity\":0.2}},\"type\":\"bar\"}],\"carpet\":[{\"aaxis\":{\"endlinecolor\":\"rgb(36,36,36)\",\"gridcolor\":\"white\",\"linecolor\":\"white\",\"minorgridcolor\":\"white\",\"startlinecolor\":\"rgb(36,36,36)\"},\"baxis\":{\"endlinecolor\":\"rgb(36,36,36)\",\"gridcolor\":\"white\",\"linecolor\":\"white\",\"minorgridcolor\":\"white\",\"startlinecolor\":\"rgb(36,36,36)\"},\"type\":\"carpet\"}],\"choropleth\":[{\"colorbar\":{\"outlinewidth\":1,\"tickcolor\":\"rgb(36,36,36)\",\"ticks\":\"outside\"},\"type\":\"choropleth\"}],\"contourcarpet\":[{\"colorbar\":{\"outlinewidth\":1,\"tickcolor\":\"rgb(36,36,36)\",\"ticks\":\"outside\"},\"type\":\"contourcarpet\"}],\"contour\":[{\"colorbar\":{\"outlinewidth\":1,\"tickcolor\":\"rgb(36,36,36)\",\"ticks\":\"outside\"},\"colorscale\":[[0.0,\"#440154\"],[0.1111111111111111,\"#482878\"],[0.2222222222222222,\"#3e4989\"],[0.3333333333333333,\"#31688e\"],[0.4444444444444444,\"#26828e\"],[0.5555555555555556,\"#1f9e89\"],[0.6666666666666666,\"#35b779\"],[0.7777777777777778,\"#6ece58\"],[0.8888888888888888,\"#b5de2b\"],[1.0,\"#fde725\"]],\"type\":\"contour\"}],\"heatmapgl\":[{\"colorbar\":{\"outlinewidth\":1,\"tickcolor\":\"rgb(36,36,36)\",\"ticks\":\"outside\"},\"colorscale\":[[0.0,\"#440154\"],[0.1111111111111111,\"#482878\"],[0.2222222222222222,\"#3e4989\"],[0.3333333333333333,\"#31688e\"],[0.4444444444444444,\"#26828e\"],[0.5555555555555556,\"#1f9e89\"],[0.6666666666666666,\"#35b779\"],[0.7777777777777778,\"#6ece58\"],[0.8888888888888888,\"#b5de2b\"],[1.0,\"#fde725\"]],\"type\":\"heatmapgl\"}],\"heatmap\":[{\"colorbar\":{\"outlinewidth\":1,\"tickcolor\":\"rgb(36,36,36)\",\"ticks\":\"outside\"},\"colorscale\":[[0.0,\"#440154\"],[0.1111111111111111,\"#482878\"],[0.2222222222222222,\"#3e4989\"],[0.3333333333333333,\"#31688e\"],[0.4444444444444444,\"#26828e\"],[0.5555555555555556,\"#1f9e89\"],[0.6666666666666666,\"#35b779\"],[0.7777777777777778,\"#6ece58\"],[0.8888888888888888,\"#b5de2b\"],[1.0,\"#fde725\"]],\"type\":\"heatmap\"}],\"histogram2dcontour\":[{\"colorbar\":{\"outlinewidth\":1,\"tickcolor\":\"rgb(36,36,36)\",\"ticks\":\"outside\"},\"colorscale\":[[0.0,\"#440154\"],[0.1111111111111111,\"#482878\"],[0.2222222222222222,\"#3e4989\"],[0.3333333333333333,\"#31688e\"],[0.4444444444444444,\"#26828e\"],[0.5555555555555556,\"#1f9e89\"],[0.6666666666666666,\"#35b779\"],[0.7777777777777778,\"#6ece58\"],[0.8888888888888888,\"#b5de2b\"],[1.0,\"#fde725\"]],\"type\":\"histogram2dcontour\"}],\"histogram2d\":[{\"colorbar\":{\"outlinewidth\":1,\"tickcolor\":\"rgb(36,36,36)\",\"ticks\":\"outside\"},\"colorscale\":[[0.0,\"#440154\"],[0.1111111111111111,\"#482878\"],[0.2222222222222222,\"#3e4989\"],[0.3333333333333333,\"#31688e\"],[0.4444444444444444,\"#26828e\"],[0.5555555555555556,\"#1f9e89\"],[0.6666666666666666,\"#35b779\"],[0.7777777777777778,\"#6ece58\"],[0.8888888888888888,\"#b5de2b\"],[1.0,\"#fde725\"]],\"type\":\"histogram2d\"}],\"histogram\":[{\"marker\":{\"line\":{\"color\":\"white\",\"width\":0.6}},\"type\":\"histogram\"}],\"mesh3d\":[{\"colorbar\":{\"outlinewidth\":1,\"tickcolor\":\"rgb(36,36,36)\",\"ticks\":\"outside\"},\"type\":\"mesh3d\"}],\"parcoords\":[{\"line\":{\"colorbar\":{\"outlinewidth\":1,\"tickcolor\":\"rgb(36,36,36)\",\"ticks\":\"outside\"}},\"type\":\"parcoords\"}],\"pie\":[{\"automargin\":true,\"type\":\"pie\"}],\"scatter3d\":[{\"line\":{\"colorbar\":{\"outlinewidth\":1,\"tickcolor\":\"rgb(36,36,36)\",\"ticks\":\"outside\"}},\"marker\":{\"colorbar\":{\"outlinewidth\":1,\"tickcolor\":\"rgb(36,36,36)\",\"ticks\":\"outside\"}},\"type\":\"scatter3d\"}],\"scattercarpet\":[{\"marker\":{\"colorbar\":{\"outlinewidth\":1,\"tickcolor\":\"rgb(36,36,36)\",\"ticks\":\"outside\"}},\"type\":\"scattercarpet\"}],\"scattergeo\":[{\"marker\":{\"colorbar\":{\"outlinewidth\":1,\"tickcolor\":\"rgb(36,36,36)\",\"ticks\":\"outside\"}},\"type\":\"scattergeo\"}],\"scattergl\":[{\"marker\":{\"colorbar\":{\"outlinewidth\":1,\"tickcolor\":\"rgb(36,36,36)\",\"ticks\":\"outside\"}},\"type\":\"scattergl\"}],\"scattermapbox\":[{\"marker\":{\"colorbar\":{\"outlinewidth\":1,\"tickcolor\":\"rgb(36,36,36)\",\"ticks\":\"outside\"}},\"type\":\"scattermapbox\"}],\"scatterpolargl\":[{\"marker\":{\"colorbar\":{\"outlinewidth\":1,\"tickcolor\":\"rgb(36,36,36)\",\"ticks\":\"outside\"}},\"type\":\"scatterpolargl\"}],\"scatterpolar\":[{\"marker\":{\"colorbar\":{\"outlinewidth\":1,\"tickcolor\":\"rgb(36,36,36)\",\"ticks\":\"outside\"}},\"type\":\"scatterpolar\"}],\"scatter\":[{\"fillpattern\":{\"fillmode\":\"overlay\",\"size\":10,\"solidity\":0.2},\"type\":\"scatter\"}],\"scatterternary\":[{\"marker\":{\"colorbar\":{\"outlinewidth\":1,\"tickcolor\":\"rgb(36,36,36)\",\"ticks\":\"outside\"}},\"type\":\"scatterternary\"}],\"surface\":[{\"colorbar\":{\"outlinewidth\":1,\"tickcolor\":\"rgb(36,36,36)\",\"ticks\":\"outside\"},\"colorscale\":[[0.0,\"#440154\"],[0.1111111111111111,\"#482878\"],[0.2222222222222222,\"#3e4989\"],[0.3333333333333333,\"#31688e\"],[0.4444444444444444,\"#26828e\"],[0.5555555555555556,\"#1f9e89\"],[0.6666666666666666,\"#35b779\"],[0.7777777777777778,\"#6ece58\"],[0.8888888888888888,\"#b5de2b\"],[1.0,\"#fde725\"]],\"type\":\"surface\"}],\"table\":[{\"cells\":{\"fill\":{\"color\":\"rgb(237,237,237)\"},\"line\":{\"color\":\"white\"}},\"header\":{\"fill\":{\"color\":\"rgb(217,217,217)\"},\"line\":{\"color\":\"white\"}},\"type\":\"table\"}]},\"layout\":{\"annotationdefaults\":{\"arrowhead\":0,\"arrowwidth\":1},\"autotypenumbers\":\"strict\",\"coloraxis\":{\"colorbar\":{\"outlinewidth\":1,\"tickcolor\":\"rgb(36,36,36)\",\"ticks\":\"outside\"}},\"colorscale\":{\"diverging\":[[0.0,\"rgb(103,0,31)\"],[0.1,\"rgb(178,24,43)\"],[0.2,\"rgb(214,96,77)\"],[0.3,\"rgb(244,165,130)\"],[0.4,\"rgb(253,219,199)\"],[0.5,\"rgb(247,247,247)\"],[0.6,\"rgb(209,229,240)\"],[0.7,\"rgb(146,197,222)\"],[0.8,\"rgb(67,147,195)\"],[0.9,\"rgb(33,102,172)\"],[1.0,\"rgb(5,48,97)\"]],\"sequential\":[[0.0,\"#440154\"],[0.1111111111111111,\"#482878\"],[0.2222222222222222,\"#3e4989\"],[0.3333333333333333,\"#31688e\"],[0.4444444444444444,\"#26828e\"],[0.5555555555555556,\"#1f9e89\"],[0.6666666666666666,\"#35b779\"],[0.7777777777777778,\"#6ece58\"],[0.8888888888888888,\"#b5de2b\"],[1.0,\"#fde725\"]],\"sequentialminus\":[[0.0,\"#440154\"],[0.1111111111111111,\"#482878\"],[0.2222222222222222,\"#3e4989\"],[0.3333333333333333,\"#31688e\"],[0.4444444444444444,\"#26828e\"],[0.5555555555555556,\"#1f9e89\"],[0.6666666666666666,\"#35b779\"],[0.7777777777777778,\"#6ece58\"],[0.8888888888888888,\"#b5de2b\"],[1.0,\"#fde725\"]]},\"colorway\":[\"#1F77B4\",\"#FF7F0E\",\"#2CA02C\",\"#D62728\",\"#9467BD\",\"#8C564B\",\"#E377C2\",\"#7F7F7F\",\"#BCBD22\",\"#17BECF\"],\"font\":{\"color\":\"rgb(36,36,36)\"},\"geo\":{\"bgcolor\":\"white\",\"lakecolor\":\"white\",\"landcolor\":\"white\",\"showlakes\":true,\"showland\":true,\"subunitcolor\":\"white\"},\"hoverlabel\":{\"align\":\"left\"},\"hovermode\":\"closest\",\"mapbox\":{\"style\":\"light\"},\"paper_bgcolor\":\"white\",\"plot_bgcolor\":\"white\",\"polar\":{\"angularaxis\":{\"gridcolor\":\"rgb(232,232,232)\",\"linecolor\":\"rgb(36,36,36)\",\"showgrid\":false,\"showline\":true,\"ticks\":\"outside\"},\"bgcolor\":\"white\",\"radialaxis\":{\"gridcolor\":\"rgb(232,232,232)\",\"linecolor\":\"rgb(36,36,36)\",\"showgrid\":false,\"showline\":true,\"ticks\":\"outside\"}},\"scene\":{\"xaxis\":{\"backgroundcolor\":\"white\",\"gridcolor\":\"rgb(232,232,232)\",\"gridwidth\":2,\"linecolor\":\"rgb(36,36,36)\",\"showbackground\":true,\"showgrid\":false,\"showline\":true,\"ticks\":\"outside\",\"zeroline\":false,\"zerolinecolor\":\"rgb(36,36,36)\"},\"yaxis\":{\"backgroundcolor\":\"white\",\"gridcolor\":\"rgb(232,232,232)\",\"gridwidth\":2,\"linecolor\":\"rgb(36,36,36)\",\"showbackground\":true,\"showgrid\":false,\"showline\":true,\"ticks\":\"outside\",\"zeroline\":false,\"zerolinecolor\":\"rgb(36,36,36)\"},\"zaxis\":{\"backgroundcolor\":\"white\",\"gridcolor\":\"rgb(232,232,232)\",\"gridwidth\":2,\"linecolor\":\"rgb(36,36,36)\",\"showbackground\":true,\"showgrid\":false,\"showline\":true,\"ticks\":\"outside\",\"zeroline\":false,\"zerolinecolor\":\"rgb(36,36,36)\"}},\"shapedefaults\":{\"fillcolor\":\"black\",\"line\":{\"width\":0},\"opacity\":0.3},\"ternary\":{\"aaxis\":{\"gridcolor\":\"rgb(232,232,232)\",\"linecolor\":\"rgb(36,36,36)\",\"showgrid\":false,\"showline\":true,\"ticks\":\"outside\"},\"baxis\":{\"gridcolor\":\"rgb(232,232,232)\",\"linecolor\":\"rgb(36,36,36)\",\"showgrid\":false,\"showline\":true,\"ticks\":\"outside\"},\"bgcolor\":\"white\",\"caxis\":{\"gridcolor\":\"rgb(232,232,232)\",\"linecolor\":\"rgb(36,36,36)\",\"showgrid\":false,\"showline\":true,\"ticks\":\"outside\"}},\"title\":{\"x\":0.05},\"xaxis\":{\"automargin\":true,\"gridcolor\":\"rgb(232,232,232)\",\"linecolor\":\"rgb(36,36,36)\",\"showgrid\":false,\"showline\":true,\"ticks\":\"outside\",\"title\":{\"standoff\":15},\"zeroline\":false,\"zerolinecolor\":\"rgb(36,36,36)\"},\"yaxis\":{\"automargin\":true,\"gridcolor\":\"rgb(232,232,232)\",\"linecolor\":\"rgb(36,36,36)\",\"showgrid\":false,\"showline\":true,\"ticks\":\"outside\",\"title\":{\"standoff\":15},\"zeroline\":false,\"zerolinecolor\":\"rgb(36,36,36)\"}}},\"yaxis\":{\"title\":{\"text\":\"Volume [Vehicles/Hour]\"},\"showgrid\":true,\"range\":[0,2000]},\"font\":{\"family\":\"helvetica\",\"size\":26},\"legend\":{\"yanchor\":\"top\",\"y\":1.0,\"xanchor\":\"right\",\"x\":1,\"orientation\":\"h\"},\"xaxis\":{\"tickangle\":15},\"height\":600,\"width\":1200,\"showlegend\":true},                        {\"responsive\": true}                    ).then(function(){\n",
       "                            \n",
       "var gd = document.getElementById('cb07a0a4-f922-4463-92db-83c8337fef25');\n",
       "var x = new MutationObserver(function (mutations, observer) {{\n",
       "        var display = window.getComputedStyle(gd).display;\n",
       "        if (!display || display === 'none') {{\n",
       "            console.log([gd, 'removed!']);\n",
       "            Plotly.purge(gd);\n",
       "            observer.disconnect();\n",
       "        }}\n",
       "}});\n",
       "\n",
       "// Listen for the removal of the full notebook cells\n",
       "var notebookContainer = gd.closest('#notebook-container');\n",
       "if (notebookContainer) {{\n",
       "    x.observe(notebookContainer, {childList: true});\n",
       "}}\n",
       "\n",
       "// Listen for the clearing of the current output cell\n",
       "var outputEl = gd.closest('.output');\n",
       "if (outputEl) {{\n",
       "    x.observe(outputEl, {childList: true});\n",
       "}}\n",
       "\n",
       "                        })                };                });            </script>        </div>"
      ]
     },
     "metadata": {},
     "output_type": "display_data"
    }
   ],
   "source": [
    "# TL = AIRPORT\n",
    "# DETECTOR = 'WB'\n",
    "calibration_plot(AIRPORT, 'WB')"
   ]
  },
  {
   "cell_type": "markdown",
   "id": "julian-entrepreneur",
   "metadata": {},
   "source": [
    "### Printing All Calibration Plots"
   ]
  },
  {
   "cell_type": "code",
   "execution_count": 39,
   "id": "functional-jason",
   "metadata": {},
   "outputs": [
    {
     "data": {
      "application/vnd.plotly.v1+json": {
       "config": {
        "plotlyServerURL": "https://plot.ly"
       },
       "data": [
        {
         "line": {
          "color": "#ffa600",
          "width": 3
         },
         "name": "Criteria I.",
         "type": "scatter",
         "x": [
          "2020-02-24T05:30:00",
          "2020-02-24T05:40:00",
          "2020-02-24T05:50:00",
          "2020-02-24T06:00:00",
          "2020-02-24T06:10:00",
          "2020-02-24T06:20:00",
          "2020-02-24T06:30:00",
          "2020-02-24T06:40:00",
          "2020-02-24T06:50:00",
          "2020-02-24T07:00:00",
          "2020-02-24T07:10:00",
          "2020-02-24T07:20:00",
          "2020-02-24T07:30:00",
          "2020-02-24T07:40:00",
          "2020-02-24T07:50:00",
          "2020-02-24T08:00:00",
          "2020-02-24T08:10:00",
          "2020-02-24T08:20:00",
          "2020-02-24T08:30:00",
          "2020-02-24T08:40:00",
          "2020-02-24T08:50:00",
          "2020-02-24T09:00:00",
          "2020-02-24T09:10:00",
          "2020-02-24T09:20:00",
          "2020-02-24T09:30:00",
          "2020-02-24T09:40:00",
          "2020-02-24T09:50:00",
          "2020-02-24T10:00:00",
          "2020-02-24T10:10:00",
          "2020-02-24T10:20:00",
          "2020-02-24T10:30:00",
          "2020-02-24T10:40:00",
          "2020-02-24T10:50:00",
          "2020-02-24T11:00:00",
          "2020-02-24T11:10:00",
          "2020-02-24T11:20:00",
          "2020-02-24T11:30:00",
          "2020-02-24T11:40:00"
         ],
         "y": [
          518.178193758872,
          695.659728171458,
          558.6621200486102,
          518.0783549032088,
          523.441025258259,
          511.9039455198973,
          739.4482844224553,
          652.9068911395624,
          767.1304729868332,
          711.5763336925658,
          807.486283444619,
          907.5770851557921,
          643.7693493672808,
          641.5080718844633,
          637.0377351741281,
          666.3510812024912,
          600.2777973529032,
          674.6489716977679,
          643.1435952881988,
          762.6461065834301,
          713.7712497379432,
          632.3742354592086,
          660.272623958926,
          589.4004932150041,
          597.4563350478769,
          657.715076406567,
          624.4695254541653,
          674.4600580102718,
          686.0864616622091,
          703.1376226365584,
          621.7519227527738,
          708.4742113546723,
          686.590948826293,
          800.7748649558565,
          846.8342186463439,
          810.1089134742551,
          823.2399055375029,
          811.8247742753341
         ]
        },
        {
         "fill": "tonexty",
         "line": {
          "color": "#ffa600",
          "width": 3
         },
         "name": "Criteria I",
         "showlegend": false,
         "type": "scatter",
         "x": [
          "2020-02-24T05:30:00",
          "2020-02-24T05:40:00",
          "2020-02-24T05:50:00",
          "2020-02-24T06:00:00",
          "2020-02-24T06:10:00",
          "2020-02-24T06:20:00",
          "2020-02-24T06:30:00",
          "2020-02-24T06:40:00",
          "2020-02-24T06:50:00",
          "2020-02-24T07:00:00",
          "2020-02-24T07:10:00",
          "2020-02-24T07:20:00",
          "2020-02-24T07:30:00",
          "2020-02-24T07:40:00",
          "2020-02-24T07:50:00",
          "2020-02-24T08:00:00",
          "2020-02-24T08:10:00",
          "2020-02-24T08:20:00",
          "2020-02-24T08:30:00",
          "2020-02-24T08:40:00",
          "2020-02-24T08:50:00",
          "2020-02-24T09:00:00",
          "2020-02-24T09:10:00",
          "2020-02-24T09:20:00",
          "2020-02-24T09:30:00",
          "2020-02-24T09:40:00",
          "2020-02-24T09:50:00",
          "2020-02-24T10:00:00",
          "2020-02-24T10:10:00",
          "2020-02-24T10:20:00",
          "2020-02-24T10:30:00",
          "2020-02-24T10:40:00",
          "2020-02-24T10:50:00",
          "2020-02-24T11:00:00",
          "2020-02-24T11:10:00",
          "2020-02-24T11:20:00",
          "2020-02-24T11:30:00",
          "2020-02-24T11:40:00"
         ],
         "y": [
          141.82180624112797,
          252.34027182854197,
          125.3378799513898,
          189.92164509679117,
          160.55897474174105,
          148.0960544801027,
          328.5517155775447,
          211.09310886043758,
          324.8695270131669,
          284.42366630743425,
          380.51371655538105,
          448.42291484420787,
          244.23065063271915,
          258.4919281155366,
          274.9622648258719,
          281.6489187975088,
          215.7222026470967,
          249.35102830223204,
          304.85640471180125,
          389.3538934165699,
          318.2287502620568,
          279.62576454079135,
          311.7273760410739,
          262.5995067849959,
          290.5436649521231,
          242.28492359343298,
          203.5304745458348,
          273.53994198972816,
          309.9135383377909,
          364.8623773634416,
          194.24807724722623,
          371.5257886453277,
          321.4090511737069,
          411.2251350441435,
          449.16578135365614,
          377.89108652574487,
          400.76009446249714,
          592.1752257246659
         ]
        },
        {
         "line": {
          "color": "#bc5090",
          "width": 3
         },
         "name": "Criteria II.",
         "type": "scatter",
         "x": [
          "2020-02-24T05:30:00",
          "2020-02-24T05:40:00",
          "2020-02-24T05:50:00",
          "2020-02-24T06:00:00",
          "2020-02-24T06:10:00",
          "2020-02-24T06:20:00",
          "2020-02-24T06:30:00",
          "2020-02-24T06:40:00",
          "2020-02-24T06:50:00",
          "2020-02-24T07:00:00",
          "2020-02-24T07:10:00",
          "2020-02-24T07:20:00",
          "2020-02-24T07:30:00",
          "2020-02-24T07:40:00",
          "2020-02-24T07:50:00",
          "2020-02-24T08:00:00",
          "2020-02-24T08:10:00",
          "2020-02-24T08:20:00",
          "2020-02-24T08:30:00",
          "2020-02-24T08:40:00",
          "2020-02-24T08:50:00",
          "2020-02-24T09:00:00",
          "2020-02-24T09:10:00",
          "2020-02-24T09:20:00",
          "2020-02-24T09:30:00",
          "2020-02-24T09:40:00",
          "2020-02-24T09:50:00",
          "2020-02-24T10:00:00",
          "2020-02-24T10:10:00",
          "2020-02-24T10:20:00",
          "2020-02-24T10:30:00",
          "2020-02-24T10:40:00",
          "2020-02-24T10:50:00",
          "2020-02-24T11:00:00",
          "2020-02-24T11:10:00",
          "2020-02-24T11:20:00",
          "2020-02-24T11:30:00",
          "2020-02-24T11:40:00"
         ],
         "y": [
          426.0092825300368,
          587.0916980466623,
          452.54189798398477,
          437.7134463791882,
          434.57195166237705,
          422.80813546933535,
          638.8205532767629,
          544.7075975201849,
          658.8216698912414,
          606.9675171900845,
          702.9215731860301,
          795.1311658958123,
          545.9231374322861,
          547.7081999410527,
          548.3661914153715,
          572.1383067359649,
          506.1009170167874,
          570.4943733151878,
          560.2977526980605,
          671.2276053997092,
          616.9036988458894,
          545.9868548261269,
          574.9146040606765,
          509.36759857908373,
          522.2940484938148,
          555.977079799269,
          521.3824109460027,
          576.2755398011591,
          593.9624804399026,
          620.2947054268155,
          517.0571034452928,
          625.9562302829961,
          597.1586473603536,
          705.3749310999268,
          749.446029921604,
          704.2596497317628,
          719.77546200893,
          758.0330480996603
         ]
        },
        {
         "fill": "tonexty",
         "line": {
          "color": "#bc5090",
          "width": 3
         },
         "name": "Criteria II",
         "showlegend": false,
         "type": "scatter",
         "x": [
          "2020-02-24T05:30:00",
          "2020-02-24T05:40:00",
          "2020-02-24T05:50:00",
          "2020-02-24T06:00:00",
          "2020-02-24T06:10:00",
          "2020-02-24T06:20:00",
          "2020-02-24T06:30:00",
          "2020-02-24T06:40:00",
          "2020-02-24T06:50:00",
          "2020-02-24T07:00:00",
          "2020-02-24T07:10:00",
          "2020-02-24T07:20:00",
          "2020-02-24T07:30:00",
          "2020-02-24T07:40:00",
          "2020-02-24T07:50:00",
          "2020-02-24T08:00:00",
          "2020-02-24T08:10:00",
          "2020-02-24T08:20:00",
          "2020-02-24T08:30:00",
          "2020-02-24T08:40:00",
          "2020-02-24T08:50:00",
          "2020-02-24T09:00:00",
          "2020-02-24T09:10:00",
          "2020-02-24T09:20:00",
          "2020-02-24T09:30:00",
          "2020-02-24T09:40:00",
          "2020-02-24T09:50:00",
          "2020-02-24T10:00:00",
          "2020-02-24T10:10:00",
          "2020-02-24T10:20:00",
          "2020-02-24T10:30:00",
          "2020-02-24T10:40:00",
          "2020-02-24T10:50:00",
          "2020-02-24T11:00:00",
          "2020-02-24T11:10:00",
          "2020-02-24T11:20:00",
          "2020-02-24T11:30:00",
          "2020-02-24T11:40:00"
         ],
         "y": [
          233.99071746996324,
          360.90830195333774,
          231.4581020160152,
          270.2865536208118,
          249.42804833762298,
          237.19186453066465,
          429.1794467232371,
          319.2924024798151,
          433.1783301087586,
          389.03248280991545,
          485.07842681396994,
          560.8688341041877,
          342.0768625677139,
          352.2918000589473,
          363.6338085846285,
          375.8616932640351,
          309.8990829832126,
          353.5056266848122,
          387.70224730193945,
          480.7723946002908,
          415.0963011541106,
          366.0131451738731,
          397.0853959393234,
          342.63240142091627,
          365.7059515061853,
          344.0229202007311,
          306.61758905399734,
          371.7244601988409,
          402.0375195600974,
          447.70529457318446,
          298.94289655470726,
          454.0437697170039,
          410.8413526396464,
          506.6250689000732,
          546.553970078396,
          483.7403502682372,
          504.22453799106995,
          645.9669519003397
         ]
        },
        {
         "line": {
          "color": "#003f5c",
          "width": 5
         },
         "name": "Representative Day",
         "type": "scatter",
         "x": [
          "2020-02-24T05:30:00",
          "2020-02-24T05:40:00",
          "2020-02-24T05:50:00",
          "2020-02-24T06:00:00",
          "2020-02-24T06:10:00",
          "2020-02-24T06:20:00",
          "2020-02-24T06:30:00",
          "2020-02-24T06:40:00",
          "2020-02-24T06:50:00",
          "2020-02-24T07:00:00",
          "2020-02-24T07:10:00",
          "2020-02-24T07:20:00",
          "2020-02-24T07:30:00",
          "2020-02-24T07:40:00",
          "2020-02-24T07:50:00",
          "2020-02-24T08:00:00",
          "2020-02-24T08:10:00",
          "2020-02-24T08:20:00",
          "2020-02-24T08:30:00",
          "2020-02-24T08:40:00",
          "2020-02-24T08:50:00",
          "2020-02-24T09:00:00",
          "2020-02-24T09:10:00",
          "2020-02-24T09:20:00",
          "2020-02-24T09:30:00",
          "2020-02-24T09:40:00",
          "2020-02-24T09:50:00",
          "2020-02-24T10:00:00",
          "2020-02-24T10:10:00",
          "2020-02-24T10:20:00",
          "2020-02-24T10:30:00",
          "2020-02-24T10:40:00",
          "2020-02-24T10:50:00",
          "2020-02-24T11:00:00",
          "2020-02-24T11:10:00",
          "2020-02-24T11:20:00",
          "2020-02-24T11:30:00",
          "2020-02-24T11:40:00"
         ],
         "y": [
          330,
          474,
          342,
          354,
          342,
          330,
          534,
          432,
          546,
          498,
          594,
          678,
          444,
          450,
          456,
          474,
          408,
          462,
          474,
          576,
          516,
          456,
          486,
          426,
          444,
          450,
          414,
          474,
          498,
          534,
          408,
          540,
          504,
          606,
          648,
          594,
          612,
          702
         ]
        },
        {
         "marker": {
          "color": "red",
          "line": {
           "color": "black",
           "width": 2
          },
          "size": 15,
          "symbol": "diamond"
         },
         "mode": "markers",
         "name": "Simulation",
         "type": "scatter",
         "x": [
          "2020-02-24T05:30:00",
          "2020-02-24T05:40:00",
          "2020-02-24T05:50:00",
          "2020-02-24T06:00:00",
          "2020-02-24T06:10:00",
          "2020-02-24T06:20:00",
          "2020-02-24T06:30:00",
          "2020-02-24T06:40:00",
          "2020-02-24T06:50:00",
          "2020-02-24T07:00:00",
          "2020-02-24T07:10:00",
          "2020-02-24T07:20:00",
          "2020-02-24T07:30:00",
          "2020-02-24T07:40:00",
          "2020-02-24T07:50:00",
          "2020-02-24T08:00:00",
          "2020-02-24T08:10:00",
          "2020-02-24T08:20:00",
          "2020-02-24T08:30:00",
          "2020-02-24T08:40:00",
          "2020-02-24T08:50:00",
          "2020-02-24T09:00:00",
          "2020-02-24T09:10:00",
          "2020-02-24T09:20:00",
          "2020-02-24T09:30:00",
          "2020-02-24T09:40:00",
          "2020-02-24T09:50:00",
          "2020-02-24T10:00:00",
          "2020-02-24T10:10:00",
          "2020-02-24T10:20:00",
          "2020-02-24T10:30:00",
          "2020-02-24T10:40:00",
          "2020-02-24T10:50:00",
          "2020-02-24T11:00:00",
          "2020-02-24T11:10:00",
          "2020-02-24T11:20:00",
          "2020-02-24T11:30:00",
          "2020-02-24T11:40:00"
         ],
         "y": [
          324,
          414,
          282,
          348,
          336,
          396,
          462,
          438,
          528,
          504,
          552,
          522,
          546,
          516,
          462,
          480,
          270,
          378,
          330,
          606,
          456,
          408,
          480,
          432,
          390,
          498,
          534,
          384,
          366,
          516,
          576,
          378,
          498,
          474,
          588,
          708,
          744,
          522
         ]
        }
       ],
       "layout": {
        "font": {
         "family": "helvetica",
         "size": 26
        },
        "height": 600,
        "legend": {
         "orientation": "h",
         "x": 1,
         "xanchor": "right",
         "y": 1,
         "yanchor": "top"
        },
        "showlegend": true,
        "template": {
         "data": {
          "bar": [
           {
            "error_x": {
             "color": "rgb(36,36,36)"
            },
            "error_y": {
             "color": "rgb(36,36,36)"
            },
            "marker": {
             "line": {
              "color": "white",
              "width": 0.5
             },
             "pattern": {
              "fillmode": "overlay",
              "size": 10,
              "solidity": 0.2
             }
            },
            "type": "bar"
           }
          ],
          "barpolar": [
           {
            "marker": {
             "line": {
              "color": "white",
              "width": 0.5
             },
             "pattern": {
              "fillmode": "overlay",
              "size": 10,
              "solidity": 0.2
             }
            },
            "type": "barpolar"
           }
          ],
          "carpet": [
           {
            "aaxis": {
             "endlinecolor": "rgb(36,36,36)",
             "gridcolor": "white",
             "linecolor": "white",
             "minorgridcolor": "white",
             "startlinecolor": "rgb(36,36,36)"
            },
            "baxis": {
             "endlinecolor": "rgb(36,36,36)",
             "gridcolor": "white",
             "linecolor": "white",
             "minorgridcolor": "white",
             "startlinecolor": "rgb(36,36,36)"
            },
            "type": "carpet"
           }
          ],
          "choropleth": [
           {
            "colorbar": {
             "outlinewidth": 1,
             "tickcolor": "rgb(36,36,36)",
             "ticks": "outside"
            },
            "type": "choropleth"
           }
          ],
          "contour": [
           {
            "colorbar": {
             "outlinewidth": 1,
             "tickcolor": "rgb(36,36,36)",
             "ticks": "outside"
            },
            "colorscale": [
             [
              0,
              "#440154"
             ],
             [
              0.1111111111111111,
              "#482878"
             ],
             [
              0.2222222222222222,
              "#3e4989"
             ],
             [
              0.3333333333333333,
              "#31688e"
             ],
             [
              0.4444444444444444,
              "#26828e"
             ],
             [
              0.5555555555555556,
              "#1f9e89"
             ],
             [
              0.6666666666666666,
              "#35b779"
             ],
             [
              0.7777777777777778,
              "#6ece58"
             ],
             [
              0.8888888888888888,
              "#b5de2b"
             ],
             [
              1,
              "#fde725"
             ]
            ],
            "type": "contour"
           }
          ],
          "contourcarpet": [
           {
            "colorbar": {
             "outlinewidth": 1,
             "tickcolor": "rgb(36,36,36)",
             "ticks": "outside"
            },
            "type": "contourcarpet"
           }
          ],
          "heatmap": [
           {
            "colorbar": {
             "outlinewidth": 1,
             "tickcolor": "rgb(36,36,36)",
             "ticks": "outside"
            },
            "colorscale": [
             [
              0,
              "#440154"
             ],
             [
              0.1111111111111111,
              "#482878"
             ],
             [
              0.2222222222222222,
              "#3e4989"
             ],
             [
              0.3333333333333333,
              "#31688e"
             ],
             [
              0.4444444444444444,
              "#26828e"
             ],
             [
              0.5555555555555556,
              "#1f9e89"
             ],
             [
              0.6666666666666666,
              "#35b779"
             ],
             [
              0.7777777777777778,
              "#6ece58"
             ],
             [
              0.8888888888888888,
              "#b5de2b"
             ],
             [
              1,
              "#fde725"
             ]
            ],
            "type": "heatmap"
           }
          ],
          "heatmapgl": [
           {
            "colorbar": {
             "outlinewidth": 1,
             "tickcolor": "rgb(36,36,36)",
             "ticks": "outside"
            },
            "colorscale": [
             [
              0,
              "#440154"
             ],
             [
              0.1111111111111111,
              "#482878"
             ],
             [
              0.2222222222222222,
              "#3e4989"
             ],
             [
              0.3333333333333333,
              "#31688e"
             ],
             [
              0.4444444444444444,
              "#26828e"
             ],
             [
              0.5555555555555556,
              "#1f9e89"
             ],
             [
              0.6666666666666666,
              "#35b779"
             ],
             [
              0.7777777777777778,
              "#6ece58"
             ],
             [
              0.8888888888888888,
              "#b5de2b"
             ],
             [
              1,
              "#fde725"
             ]
            ],
            "type": "heatmapgl"
           }
          ],
          "histogram": [
           {
            "marker": {
             "line": {
              "color": "white",
              "width": 0.6
             }
            },
            "type": "histogram"
           }
          ],
          "histogram2d": [
           {
            "colorbar": {
             "outlinewidth": 1,
             "tickcolor": "rgb(36,36,36)",
             "ticks": "outside"
            },
            "colorscale": [
             [
              0,
              "#440154"
             ],
             [
              0.1111111111111111,
              "#482878"
             ],
             [
              0.2222222222222222,
              "#3e4989"
             ],
             [
              0.3333333333333333,
              "#31688e"
             ],
             [
              0.4444444444444444,
              "#26828e"
             ],
             [
              0.5555555555555556,
              "#1f9e89"
             ],
             [
              0.6666666666666666,
              "#35b779"
             ],
             [
              0.7777777777777778,
              "#6ece58"
             ],
             [
              0.8888888888888888,
              "#b5de2b"
             ],
             [
              1,
              "#fde725"
             ]
            ],
            "type": "histogram2d"
           }
          ],
          "histogram2dcontour": [
           {
            "colorbar": {
             "outlinewidth": 1,
             "tickcolor": "rgb(36,36,36)",
             "ticks": "outside"
            },
            "colorscale": [
             [
              0,
              "#440154"
             ],
             [
              0.1111111111111111,
              "#482878"
             ],
             [
              0.2222222222222222,
              "#3e4989"
             ],
             [
              0.3333333333333333,
              "#31688e"
             ],
             [
              0.4444444444444444,
              "#26828e"
             ],
             [
              0.5555555555555556,
              "#1f9e89"
             ],
             [
              0.6666666666666666,
              "#35b779"
             ],
             [
              0.7777777777777778,
              "#6ece58"
             ],
             [
              0.8888888888888888,
              "#b5de2b"
             ],
             [
              1,
              "#fde725"
             ]
            ],
            "type": "histogram2dcontour"
           }
          ],
          "mesh3d": [
           {
            "colorbar": {
             "outlinewidth": 1,
             "tickcolor": "rgb(36,36,36)",
             "ticks": "outside"
            },
            "type": "mesh3d"
           }
          ],
          "parcoords": [
           {
            "line": {
             "colorbar": {
              "outlinewidth": 1,
              "tickcolor": "rgb(36,36,36)",
              "ticks": "outside"
             }
            },
            "type": "parcoords"
           }
          ],
          "pie": [
           {
            "automargin": true,
            "type": "pie"
           }
          ],
          "scatter": [
           {
            "fillpattern": {
             "fillmode": "overlay",
             "size": 10,
             "solidity": 0.2
            },
            "type": "scatter"
           }
          ],
          "scatter3d": [
           {
            "line": {
             "colorbar": {
              "outlinewidth": 1,
              "tickcolor": "rgb(36,36,36)",
              "ticks": "outside"
             }
            },
            "marker": {
             "colorbar": {
              "outlinewidth": 1,
              "tickcolor": "rgb(36,36,36)",
              "ticks": "outside"
             }
            },
            "type": "scatter3d"
           }
          ],
          "scattercarpet": [
           {
            "marker": {
             "colorbar": {
              "outlinewidth": 1,
              "tickcolor": "rgb(36,36,36)",
              "ticks": "outside"
             }
            },
            "type": "scattercarpet"
           }
          ],
          "scattergeo": [
           {
            "marker": {
             "colorbar": {
              "outlinewidth": 1,
              "tickcolor": "rgb(36,36,36)",
              "ticks": "outside"
             }
            },
            "type": "scattergeo"
           }
          ],
          "scattergl": [
           {
            "marker": {
             "colorbar": {
              "outlinewidth": 1,
              "tickcolor": "rgb(36,36,36)",
              "ticks": "outside"
             }
            },
            "type": "scattergl"
           }
          ],
          "scattermapbox": [
           {
            "marker": {
             "colorbar": {
              "outlinewidth": 1,
              "tickcolor": "rgb(36,36,36)",
              "ticks": "outside"
             }
            },
            "type": "scattermapbox"
           }
          ],
          "scatterpolar": [
           {
            "marker": {
             "colorbar": {
              "outlinewidth": 1,
              "tickcolor": "rgb(36,36,36)",
              "ticks": "outside"
             }
            },
            "type": "scatterpolar"
           }
          ],
          "scatterpolargl": [
           {
            "marker": {
             "colorbar": {
              "outlinewidth": 1,
              "tickcolor": "rgb(36,36,36)",
              "ticks": "outside"
             }
            },
            "type": "scatterpolargl"
           }
          ],
          "scatterternary": [
           {
            "marker": {
             "colorbar": {
              "outlinewidth": 1,
              "tickcolor": "rgb(36,36,36)",
              "ticks": "outside"
             }
            },
            "type": "scatterternary"
           }
          ],
          "surface": [
           {
            "colorbar": {
             "outlinewidth": 1,
             "tickcolor": "rgb(36,36,36)",
             "ticks": "outside"
            },
            "colorscale": [
             [
              0,
              "#440154"
             ],
             [
              0.1111111111111111,
              "#482878"
             ],
             [
              0.2222222222222222,
              "#3e4989"
             ],
             [
              0.3333333333333333,
              "#31688e"
             ],
             [
              0.4444444444444444,
              "#26828e"
             ],
             [
              0.5555555555555556,
              "#1f9e89"
             ],
             [
              0.6666666666666666,
              "#35b779"
             ],
             [
              0.7777777777777778,
              "#6ece58"
             ],
             [
              0.8888888888888888,
              "#b5de2b"
             ],
             [
              1,
              "#fde725"
             ]
            ],
            "type": "surface"
           }
          ],
          "table": [
           {
            "cells": {
             "fill": {
              "color": "rgb(237,237,237)"
             },
             "line": {
              "color": "white"
             }
            },
            "header": {
             "fill": {
              "color": "rgb(217,217,217)"
             },
             "line": {
              "color": "white"
             }
            },
            "type": "table"
           }
          ]
         },
         "layout": {
          "annotationdefaults": {
           "arrowhead": 0,
           "arrowwidth": 1
          },
          "autotypenumbers": "strict",
          "coloraxis": {
           "colorbar": {
            "outlinewidth": 1,
            "tickcolor": "rgb(36,36,36)",
            "ticks": "outside"
           }
          },
          "colorscale": {
           "diverging": [
            [
             0,
             "rgb(103,0,31)"
            ],
            [
             0.1,
             "rgb(178,24,43)"
            ],
            [
             0.2,
             "rgb(214,96,77)"
            ],
            [
             0.3,
             "rgb(244,165,130)"
            ],
            [
             0.4,
             "rgb(253,219,199)"
            ],
            [
             0.5,
             "rgb(247,247,247)"
            ],
            [
             0.6,
             "rgb(209,229,240)"
            ],
            [
             0.7,
             "rgb(146,197,222)"
            ],
            [
             0.8,
             "rgb(67,147,195)"
            ],
            [
             0.9,
             "rgb(33,102,172)"
            ],
            [
             1,
             "rgb(5,48,97)"
            ]
           ],
           "sequential": [
            [
             0,
             "#440154"
            ],
            [
             0.1111111111111111,
             "#482878"
            ],
            [
             0.2222222222222222,
             "#3e4989"
            ],
            [
             0.3333333333333333,
             "#31688e"
            ],
            [
             0.4444444444444444,
             "#26828e"
            ],
            [
             0.5555555555555556,
             "#1f9e89"
            ],
            [
             0.6666666666666666,
             "#35b779"
            ],
            [
             0.7777777777777778,
             "#6ece58"
            ],
            [
             0.8888888888888888,
             "#b5de2b"
            ],
            [
             1,
             "#fde725"
            ]
           ],
           "sequentialminus": [
            [
             0,
             "#440154"
            ],
            [
             0.1111111111111111,
             "#482878"
            ],
            [
             0.2222222222222222,
             "#3e4989"
            ],
            [
             0.3333333333333333,
             "#31688e"
            ],
            [
             0.4444444444444444,
             "#26828e"
            ],
            [
             0.5555555555555556,
             "#1f9e89"
            ],
            [
             0.6666666666666666,
             "#35b779"
            ],
            [
             0.7777777777777778,
             "#6ece58"
            ],
            [
             0.8888888888888888,
             "#b5de2b"
            ],
            [
             1,
             "#fde725"
            ]
           ]
          },
          "colorway": [
           "#1F77B4",
           "#FF7F0E",
           "#2CA02C",
           "#D62728",
           "#9467BD",
           "#8C564B",
           "#E377C2",
           "#7F7F7F",
           "#BCBD22",
           "#17BECF"
          ],
          "font": {
           "color": "rgb(36,36,36)"
          },
          "geo": {
           "bgcolor": "white",
           "lakecolor": "white",
           "landcolor": "white",
           "showlakes": true,
           "showland": true,
           "subunitcolor": "white"
          },
          "hoverlabel": {
           "align": "left"
          },
          "hovermode": "closest",
          "mapbox": {
           "style": "light"
          },
          "paper_bgcolor": "white",
          "plot_bgcolor": "white",
          "polar": {
           "angularaxis": {
            "gridcolor": "rgb(232,232,232)",
            "linecolor": "rgb(36,36,36)",
            "showgrid": false,
            "showline": true,
            "ticks": "outside"
           },
           "bgcolor": "white",
           "radialaxis": {
            "gridcolor": "rgb(232,232,232)",
            "linecolor": "rgb(36,36,36)",
            "showgrid": false,
            "showline": true,
            "ticks": "outside"
           }
          },
          "scene": {
           "xaxis": {
            "backgroundcolor": "white",
            "gridcolor": "rgb(232,232,232)",
            "gridwidth": 2,
            "linecolor": "rgb(36,36,36)",
            "showbackground": true,
            "showgrid": false,
            "showline": true,
            "ticks": "outside",
            "zeroline": false,
            "zerolinecolor": "rgb(36,36,36)"
           },
           "yaxis": {
            "backgroundcolor": "white",
            "gridcolor": "rgb(232,232,232)",
            "gridwidth": 2,
            "linecolor": "rgb(36,36,36)",
            "showbackground": true,
            "showgrid": false,
            "showline": true,
            "ticks": "outside",
            "zeroline": false,
            "zerolinecolor": "rgb(36,36,36)"
           },
           "zaxis": {
            "backgroundcolor": "white",
            "gridcolor": "rgb(232,232,232)",
            "gridwidth": 2,
            "linecolor": "rgb(36,36,36)",
            "showbackground": true,
            "showgrid": false,
            "showline": true,
            "ticks": "outside",
            "zeroline": false,
            "zerolinecolor": "rgb(36,36,36)"
           }
          },
          "shapedefaults": {
           "fillcolor": "black",
           "line": {
            "width": 0
           },
           "opacity": 0.3
          },
          "ternary": {
           "aaxis": {
            "gridcolor": "rgb(232,232,232)",
            "linecolor": "rgb(36,36,36)",
            "showgrid": false,
            "showline": true,
            "ticks": "outside"
           },
           "baxis": {
            "gridcolor": "rgb(232,232,232)",
            "linecolor": "rgb(36,36,36)",
            "showgrid": false,
            "showline": true,
            "ticks": "outside"
           },
           "bgcolor": "white",
           "caxis": {
            "gridcolor": "rgb(232,232,232)",
            "linecolor": "rgb(36,36,36)",
            "showgrid": false,
            "showline": true,
            "ticks": "outside"
           }
          },
          "title": {
           "x": 0.05
          },
          "xaxis": {
           "automargin": true,
           "gridcolor": "rgb(232,232,232)",
           "linecolor": "rgb(36,36,36)",
           "showgrid": false,
           "showline": true,
           "ticks": "outside",
           "title": {
            "standoff": 15
           },
           "zeroline": false,
           "zerolinecolor": "rgb(36,36,36)"
          },
          "yaxis": {
           "automargin": true,
           "gridcolor": "rgb(232,232,232)",
           "linecolor": "rgb(36,36,36)",
           "showgrid": false,
           "showline": true,
           "ticks": "outside",
           "title": {
            "standoff": 15
           },
           "zeroline": false,
           "zerolinecolor": "rgb(36,36,36)"
          }
         }
        },
        "width": 1200,
        "xaxis": {
         "tickangle": 15
        },
        "yaxis": {
         "range": [
          0,
          2000
         ],
         "showgrid": true,
         "title": {
          "text": "Volume [Vehicles/Hour]"
         }
        }
       }
      },
      "text/html": [
       "<div>                            <div id=\"656bf774-167c-4e2d-86e8-f4a2780f978d\" class=\"plotly-graph-div\" style=\"height:600px; width:1200px;\"></div>            <script type=\"text/javascript\">                require([\"plotly\"], function(Plotly) {                    window.PLOTLYENV=window.PLOTLYENV || {};                                    if (document.getElementById(\"656bf774-167c-4e2d-86e8-f4a2780f978d\")) {                    Plotly.newPlot(                        \"656bf774-167c-4e2d-86e8-f4a2780f978d\",                        [{\"line\":{\"color\":\"#ffa600\",\"width\":3},\"name\":\"Criteria I.\",\"x\":[\"2020-02-24T05:30:00\",\"2020-02-24T05:40:00\",\"2020-02-24T05:50:00\",\"2020-02-24T06:00:00\",\"2020-02-24T06:10:00\",\"2020-02-24T06:20:00\",\"2020-02-24T06:30:00\",\"2020-02-24T06:40:00\",\"2020-02-24T06:50:00\",\"2020-02-24T07:00:00\",\"2020-02-24T07:10:00\",\"2020-02-24T07:20:00\",\"2020-02-24T07:30:00\",\"2020-02-24T07:40:00\",\"2020-02-24T07:50:00\",\"2020-02-24T08:00:00\",\"2020-02-24T08:10:00\",\"2020-02-24T08:20:00\",\"2020-02-24T08:30:00\",\"2020-02-24T08:40:00\",\"2020-02-24T08:50:00\",\"2020-02-24T09:00:00\",\"2020-02-24T09:10:00\",\"2020-02-24T09:20:00\",\"2020-02-24T09:30:00\",\"2020-02-24T09:40:00\",\"2020-02-24T09:50:00\",\"2020-02-24T10:00:00\",\"2020-02-24T10:10:00\",\"2020-02-24T10:20:00\",\"2020-02-24T10:30:00\",\"2020-02-24T10:40:00\",\"2020-02-24T10:50:00\",\"2020-02-24T11:00:00\",\"2020-02-24T11:10:00\",\"2020-02-24T11:20:00\",\"2020-02-24T11:30:00\",\"2020-02-24T11:40:00\"],\"y\":[518.178193758872,695.659728171458,558.6621200486102,518.0783549032088,523.441025258259,511.9039455198973,739.4482844224553,652.9068911395624,767.1304729868332,711.5763336925658,807.486283444619,907.5770851557921,643.7693493672808,641.5080718844633,637.0377351741281,666.3510812024912,600.2777973529032,674.6489716977679,643.1435952881988,762.6461065834301,713.7712497379432,632.3742354592086,660.272623958926,589.4004932150041,597.4563350478769,657.715076406567,624.4695254541653,674.4600580102718,686.0864616622091,703.1376226365584,621.7519227527738,708.4742113546723,686.590948826293,800.7748649558565,846.8342186463439,810.1089134742551,823.2399055375029,811.8247742753341],\"type\":\"scatter\"},{\"fill\":\"tonexty\",\"line\":{\"color\":\"#ffa600\",\"width\":3},\"name\":\"Criteria I\",\"showlegend\":false,\"x\":[\"2020-02-24T05:30:00\",\"2020-02-24T05:40:00\",\"2020-02-24T05:50:00\",\"2020-02-24T06:00:00\",\"2020-02-24T06:10:00\",\"2020-02-24T06:20:00\",\"2020-02-24T06:30:00\",\"2020-02-24T06:40:00\",\"2020-02-24T06:50:00\",\"2020-02-24T07:00:00\",\"2020-02-24T07:10:00\",\"2020-02-24T07:20:00\",\"2020-02-24T07:30:00\",\"2020-02-24T07:40:00\",\"2020-02-24T07:50:00\",\"2020-02-24T08:00:00\",\"2020-02-24T08:10:00\",\"2020-02-24T08:20:00\",\"2020-02-24T08:30:00\",\"2020-02-24T08:40:00\",\"2020-02-24T08:50:00\",\"2020-02-24T09:00:00\",\"2020-02-24T09:10:00\",\"2020-02-24T09:20:00\",\"2020-02-24T09:30:00\",\"2020-02-24T09:40:00\",\"2020-02-24T09:50:00\",\"2020-02-24T10:00:00\",\"2020-02-24T10:10:00\",\"2020-02-24T10:20:00\",\"2020-02-24T10:30:00\",\"2020-02-24T10:40:00\",\"2020-02-24T10:50:00\",\"2020-02-24T11:00:00\",\"2020-02-24T11:10:00\",\"2020-02-24T11:20:00\",\"2020-02-24T11:30:00\",\"2020-02-24T11:40:00\"],\"y\":[141.82180624112797,252.34027182854197,125.3378799513898,189.92164509679117,160.55897474174105,148.0960544801027,328.5517155775447,211.09310886043758,324.8695270131669,284.42366630743425,380.51371655538105,448.42291484420787,244.23065063271915,258.4919281155366,274.9622648258719,281.6489187975088,215.7222026470967,249.35102830223204,304.85640471180125,389.3538934165699,318.2287502620568,279.62576454079135,311.7273760410739,262.5995067849959,290.5436649521231,242.28492359343298,203.5304745458348,273.53994198972816,309.9135383377909,364.8623773634416,194.24807724722623,371.5257886453277,321.4090511737069,411.2251350441435,449.16578135365614,377.89108652574487,400.76009446249714,592.1752257246659],\"type\":\"scatter\"},{\"line\":{\"color\":\"#bc5090\",\"width\":3},\"name\":\"Criteria II.\",\"x\":[\"2020-02-24T05:30:00\",\"2020-02-24T05:40:00\",\"2020-02-24T05:50:00\",\"2020-02-24T06:00:00\",\"2020-02-24T06:10:00\",\"2020-02-24T06:20:00\",\"2020-02-24T06:30:00\",\"2020-02-24T06:40:00\",\"2020-02-24T06:50:00\",\"2020-02-24T07:00:00\",\"2020-02-24T07:10:00\",\"2020-02-24T07:20:00\",\"2020-02-24T07:30:00\",\"2020-02-24T07:40:00\",\"2020-02-24T07:50:00\",\"2020-02-24T08:00:00\",\"2020-02-24T08:10:00\",\"2020-02-24T08:20:00\",\"2020-02-24T08:30:00\",\"2020-02-24T08:40:00\",\"2020-02-24T08:50:00\",\"2020-02-24T09:00:00\",\"2020-02-24T09:10:00\",\"2020-02-24T09:20:00\",\"2020-02-24T09:30:00\",\"2020-02-24T09:40:00\",\"2020-02-24T09:50:00\",\"2020-02-24T10:00:00\",\"2020-02-24T10:10:00\",\"2020-02-24T10:20:00\",\"2020-02-24T10:30:00\",\"2020-02-24T10:40:00\",\"2020-02-24T10:50:00\",\"2020-02-24T11:00:00\",\"2020-02-24T11:10:00\",\"2020-02-24T11:20:00\",\"2020-02-24T11:30:00\",\"2020-02-24T11:40:00\"],\"y\":[426.0092825300368,587.0916980466623,452.54189798398477,437.7134463791882,434.57195166237705,422.80813546933535,638.8205532767629,544.7075975201849,658.8216698912414,606.9675171900845,702.9215731860301,795.1311658958123,545.9231374322861,547.7081999410527,548.3661914153715,572.1383067359649,506.1009170167874,570.4943733151878,560.2977526980605,671.2276053997092,616.9036988458894,545.9868548261269,574.9146040606765,509.36759857908373,522.2940484938148,555.977079799269,521.3824109460027,576.2755398011591,593.9624804399026,620.2947054268155,517.0571034452928,625.9562302829961,597.1586473603536,705.3749310999268,749.446029921604,704.2596497317628,719.77546200893,758.0330480996603],\"type\":\"scatter\"},{\"fill\":\"tonexty\",\"line\":{\"color\":\"#bc5090\",\"width\":3},\"name\":\"Criteria II\",\"showlegend\":false,\"x\":[\"2020-02-24T05:30:00\",\"2020-02-24T05:40:00\",\"2020-02-24T05:50:00\",\"2020-02-24T06:00:00\",\"2020-02-24T06:10:00\",\"2020-02-24T06:20:00\",\"2020-02-24T06:30:00\",\"2020-02-24T06:40:00\",\"2020-02-24T06:50:00\",\"2020-02-24T07:00:00\",\"2020-02-24T07:10:00\",\"2020-02-24T07:20:00\",\"2020-02-24T07:30:00\",\"2020-02-24T07:40:00\",\"2020-02-24T07:50:00\",\"2020-02-24T08:00:00\",\"2020-02-24T08:10:00\",\"2020-02-24T08:20:00\",\"2020-02-24T08:30:00\",\"2020-02-24T08:40:00\",\"2020-02-24T08:50:00\",\"2020-02-24T09:00:00\",\"2020-02-24T09:10:00\",\"2020-02-24T09:20:00\",\"2020-02-24T09:30:00\",\"2020-02-24T09:40:00\",\"2020-02-24T09:50:00\",\"2020-02-24T10:00:00\",\"2020-02-24T10:10:00\",\"2020-02-24T10:20:00\",\"2020-02-24T10:30:00\",\"2020-02-24T10:40:00\",\"2020-02-24T10:50:00\",\"2020-02-24T11:00:00\",\"2020-02-24T11:10:00\",\"2020-02-24T11:20:00\",\"2020-02-24T11:30:00\",\"2020-02-24T11:40:00\"],\"y\":[233.99071746996324,360.90830195333774,231.4581020160152,270.2865536208118,249.42804833762298,237.19186453066465,429.1794467232371,319.2924024798151,433.1783301087586,389.03248280991545,485.07842681396994,560.8688341041877,342.0768625677139,352.2918000589473,363.6338085846285,375.8616932640351,309.8990829832126,353.5056266848122,387.70224730193945,480.7723946002908,415.0963011541106,366.0131451738731,397.0853959393234,342.63240142091627,365.7059515061853,344.0229202007311,306.61758905399734,371.7244601988409,402.0375195600974,447.70529457318446,298.94289655470726,454.0437697170039,410.8413526396464,506.6250689000732,546.553970078396,483.7403502682372,504.22453799106995,645.9669519003397],\"type\":\"scatter\"},{\"line\":{\"color\":\"#003f5c\",\"width\":5},\"name\":\"Representative Day\",\"x\":[\"2020-02-24T05:30:00\",\"2020-02-24T05:40:00\",\"2020-02-24T05:50:00\",\"2020-02-24T06:00:00\",\"2020-02-24T06:10:00\",\"2020-02-24T06:20:00\",\"2020-02-24T06:30:00\",\"2020-02-24T06:40:00\",\"2020-02-24T06:50:00\",\"2020-02-24T07:00:00\",\"2020-02-24T07:10:00\",\"2020-02-24T07:20:00\",\"2020-02-24T07:30:00\",\"2020-02-24T07:40:00\",\"2020-02-24T07:50:00\",\"2020-02-24T08:00:00\",\"2020-02-24T08:10:00\",\"2020-02-24T08:20:00\",\"2020-02-24T08:30:00\",\"2020-02-24T08:40:00\",\"2020-02-24T08:50:00\",\"2020-02-24T09:00:00\",\"2020-02-24T09:10:00\",\"2020-02-24T09:20:00\",\"2020-02-24T09:30:00\",\"2020-02-24T09:40:00\",\"2020-02-24T09:50:00\",\"2020-02-24T10:00:00\",\"2020-02-24T10:10:00\",\"2020-02-24T10:20:00\",\"2020-02-24T10:30:00\",\"2020-02-24T10:40:00\",\"2020-02-24T10:50:00\",\"2020-02-24T11:00:00\",\"2020-02-24T11:10:00\",\"2020-02-24T11:20:00\",\"2020-02-24T11:30:00\",\"2020-02-24T11:40:00\"],\"y\":[330.0,474.0,342.0,354.0,342.0,330.0,534.0,432.0,546.0,498.0,594.0,678.0,444.0,450.0,456.0,474.0,408.0,462.0,474.0,576.0,516.0,456.0,486.0,426.0,444.0,450.0,414.0,474.0,498.0,534.0,408.0,540.0,504.0,606.0,648.0,594.0,612.0,702.0],\"type\":\"scatter\"},{\"marker\":{\"color\":\"red\",\"line\":{\"color\":\"black\",\"width\":2},\"size\":15,\"symbol\":\"diamond\"},\"mode\":\"markers\",\"name\":\"Simulation\",\"x\":[\"2020-02-24T05:30:00\",\"2020-02-24T05:40:00\",\"2020-02-24T05:50:00\",\"2020-02-24T06:00:00\",\"2020-02-24T06:10:00\",\"2020-02-24T06:20:00\",\"2020-02-24T06:30:00\",\"2020-02-24T06:40:00\",\"2020-02-24T06:50:00\",\"2020-02-24T07:00:00\",\"2020-02-24T07:10:00\",\"2020-02-24T07:20:00\",\"2020-02-24T07:30:00\",\"2020-02-24T07:40:00\",\"2020-02-24T07:50:00\",\"2020-02-24T08:00:00\",\"2020-02-24T08:10:00\",\"2020-02-24T08:20:00\",\"2020-02-24T08:30:00\",\"2020-02-24T08:40:00\",\"2020-02-24T08:50:00\",\"2020-02-24T09:00:00\",\"2020-02-24T09:10:00\",\"2020-02-24T09:20:00\",\"2020-02-24T09:30:00\",\"2020-02-24T09:40:00\",\"2020-02-24T09:50:00\",\"2020-02-24T10:00:00\",\"2020-02-24T10:10:00\",\"2020-02-24T10:20:00\",\"2020-02-24T10:30:00\",\"2020-02-24T10:40:00\",\"2020-02-24T10:50:00\",\"2020-02-24T11:00:00\",\"2020-02-24T11:10:00\",\"2020-02-24T11:20:00\",\"2020-02-24T11:30:00\",\"2020-02-24T11:40:00\"],\"y\":[324.0,414.0,282.0,348.0,336.0,396.0,462.0,438.0,528.0,504.0,552.0,522.0,546.0,516.0,462.0,480.0,270.0,378.0,330.0,606.0,456.0,408.0,480.0,432.0,390.0,498.0,534.0,384.0,366.0,516.0,576.0,378.0,498.0,474.0,588.0,708.0,744.0,522.0],\"type\":\"scatter\"}],                        {\"template\":{\"data\":{\"barpolar\":[{\"marker\":{\"line\":{\"color\":\"white\",\"width\":0.5},\"pattern\":{\"fillmode\":\"overlay\",\"size\":10,\"solidity\":0.2}},\"type\":\"barpolar\"}],\"bar\":[{\"error_x\":{\"color\":\"rgb(36,36,36)\"},\"error_y\":{\"color\":\"rgb(36,36,36)\"},\"marker\":{\"line\":{\"color\":\"white\",\"width\":0.5},\"pattern\":{\"fillmode\":\"overlay\",\"size\":10,\"solidity\":0.2}},\"type\":\"bar\"}],\"carpet\":[{\"aaxis\":{\"endlinecolor\":\"rgb(36,36,36)\",\"gridcolor\":\"white\",\"linecolor\":\"white\",\"minorgridcolor\":\"white\",\"startlinecolor\":\"rgb(36,36,36)\"},\"baxis\":{\"endlinecolor\":\"rgb(36,36,36)\",\"gridcolor\":\"white\",\"linecolor\":\"white\",\"minorgridcolor\":\"white\",\"startlinecolor\":\"rgb(36,36,36)\"},\"type\":\"carpet\"}],\"choropleth\":[{\"colorbar\":{\"outlinewidth\":1,\"tickcolor\":\"rgb(36,36,36)\",\"ticks\":\"outside\"},\"type\":\"choropleth\"}],\"contourcarpet\":[{\"colorbar\":{\"outlinewidth\":1,\"tickcolor\":\"rgb(36,36,36)\",\"ticks\":\"outside\"},\"type\":\"contourcarpet\"}],\"contour\":[{\"colorbar\":{\"outlinewidth\":1,\"tickcolor\":\"rgb(36,36,36)\",\"ticks\":\"outside\"},\"colorscale\":[[0.0,\"#440154\"],[0.1111111111111111,\"#482878\"],[0.2222222222222222,\"#3e4989\"],[0.3333333333333333,\"#31688e\"],[0.4444444444444444,\"#26828e\"],[0.5555555555555556,\"#1f9e89\"],[0.6666666666666666,\"#35b779\"],[0.7777777777777778,\"#6ece58\"],[0.8888888888888888,\"#b5de2b\"],[1.0,\"#fde725\"]],\"type\":\"contour\"}],\"heatmapgl\":[{\"colorbar\":{\"outlinewidth\":1,\"tickcolor\":\"rgb(36,36,36)\",\"ticks\":\"outside\"},\"colorscale\":[[0.0,\"#440154\"],[0.1111111111111111,\"#482878\"],[0.2222222222222222,\"#3e4989\"],[0.3333333333333333,\"#31688e\"],[0.4444444444444444,\"#26828e\"],[0.5555555555555556,\"#1f9e89\"],[0.6666666666666666,\"#35b779\"],[0.7777777777777778,\"#6ece58\"],[0.8888888888888888,\"#b5de2b\"],[1.0,\"#fde725\"]],\"type\":\"heatmapgl\"}],\"heatmap\":[{\"colorbar\":{\"outlinewidth\":1,\"tickcolor\":\"rgb(36,36,36)\",\"ticks\":\"outside\"},\"colorscale\":[[0.0,\"#440154\"],[0.1111111111111111,\"#482878\"],[0.2222222222222222,\"#3e4989\"],[0.3333333333333333,\"#31688e\"],[0.4444444444444444,\"#26828e\"],[0.5555555555555556,\"#1f9e89\"],[0.6666666666666666,\"#35b779\"],[0.7777777777777778,\"#6ece58\"],[0.8888888888888888,\"#b5de2b\"],[1.0,\"#fde725\"]],\"type\":\"heatmap\"}],\"histogram2dcontour\":[{\"colorbar\":{\"outlinewidth\":1,\"tickcolor\":\"rgb(36,36,36)\",\"ticks\":\"outside\"},\"colorscale\":[[0.0,\"#440154\"],[0.1111111111111111,\"#482878\"],[0.2222222222222222,\"#3e4989\"],[0.3333333333333333,\"#31688e\"],[0.4444444444444444,\"#26828e\"],[0.5555555555555556,\"#1f9e89\"],[0.6666666666666666,\"#35b779\"],[0.7777777777777778,\"#6ece58\"],[0.8888888888888888,\"#b5de2b\"],[1.0,\"#fde725\"]],\"type\":\"histogram2dcontour\"}],\"histogram2d\":[{\"colorbar\":{\"outlinewidth\":1,\"tickcolor\":\"rgb(36,36,36)\",\"ticks\":\"outside\"},\"colorscale\":[[0.0,\"#440154\"],[0.1111111111111111,\"#482878\"],[0.2222222222222222,\"#3e4989\"],[0.3333333333333333,\"#31688e\"],[0.4444444444444444,\"#26828e\"],[0.5555555555555556,\"#1f9e89\"],[0.6666666666666666,\"#35b779\"],[0.7777777777777778,\"#6ece58\"],[0.8888888888888888,\"#b5de2b\"],[1.0,\"#fde725\"]],\"type\":\"histogram2d\"}],\"histogram\":[{\"marker\":{\"line\":{\"color\":\"white\",\"width\":0.6}},\"type\":\"histogram\"}],\"mesh3d\":[{\"colorbar\":{\"outlinewidth\":1,\"tickcolor\":\"rgb(36,36,36)\",\"ticks\":\"outside\"},\"type\":\"mesh3d\"}],\"parcoords\":[{\"line\":{\"colorbar\":{\"outlinewidth\":1,\"tickcolor\":\"rgb(36,36,36)\",\"ticks\":\"outside\"}},\"type\":\"parcoords\"}],\"pie\":[{\"automargin\":true,\"type\":\"pie\"}],\"scatter3d\":[{\"line\":{\"colorbar\":{\"outlinewidth\":1,\"tickcolor\":\"rgb(36,36,36)\",\"ticks\":\"outside\"}},\"marker\":{\"colorbar\":{\"outlinewidth\":1,\"tickcolor\":\"rgb(36,36,36)\",\"ticks\":\"outside\"}},\"type\":\"scatter3d\"}],\"scattercarpet\":[{\"marker\":{\"colorbar\":{\"outlinewidth\":1,\"tickcolor\":\"rgb(36,36,36)\",\"ticks\":\"outside\"}},\"type\":\"scattercarpet\"}],\"scattergeo\":[{\"marker\":{\"colorbar\":{\"outlinewidth\":1,\"tickcolor\":\"rgb(36,36,36)\",\"ticks\":\"outside\"}},\"type\":\"scattergeo\"}],\"scattergl\":[{\"marker\":{\"colorbar\":{\"outlinewidth\":1,\"tickcolor\":\"rgb(36,36,36)\",\"ticks\":\"outside\"}},\"type\":\"scattergl\"}],\"scattermapbox\":[{\"marker\":{\"colorbar\":{\"outlinewidth\":1,\"tickcolor\":\"rgb(36,36,36)\",\"ticks\":\"outside\"}},\"type\":\"scattermapbox\"}],\"scatterpolargl\":[{\"marker\":{\"colorbar\":{\"outlinewidth\":1,\"tickcolor\":\"rgb(36,36,36)\",\"ticks\":\"outside\"}},\"type\":\"scatterpolargl\"}],\"scatterpolar\":[{\"marker\":{\"colorbar\":{\"outlinewidth\":1,\"tickcolor\":\"rgb(36,36,36)\",\"ticks\":\"outside\"}},\"type\":\"scatterpolar\"}],\"scatter\":[{\"fillpattern\":{\"fillmode\":\"overlay\",\"size\":10,\"solidity\":0.2},\"type\":\"scatter\"}],\"scatterternary\":[{\"marker\":{\"colorbar\":{\"outlinewidth\":1,\"tickcolor\":\"rgb(36,36,36)\",\"ticks\":\"outside\"}},\"type\":\"scatterternary\"}],\"surface\":[{\"colorbar\":{\"outlinewidth\":1,\"tickcolor\":\"rgb(36,36,36)\",\"ticks\":\"outside\"},\"colorscale\":[[0.0,\"#440154\"],[0.1111111111111111,\"#482878\"],[0.2222222222222222,\"#3e4989\"],[0.3333333333333333,\"#31688e\"],[0.4444444444444444,\"#26828e\"],[0.5555555555555556,\"#1f9e89\"],[0.6666666666666666,\"#35b779\"],[0.7777777777777778,\"#6ece58\"],[0.8888888888888888,\"#b5de2b\"],[1.0,\"#fde725\"]],\"type\":\"surface\"}],\"table\":[{\"cells\":{\"fill\":{\"color\":\"rgb(237,237,237)\"},\"line\":{\"color\":\"white\"}},\"header\":{\"fill\":{\"color\":\"rgb(217,217,217)\"},\"line\":{\"color\":\"white\"}},\"type\":\"table\"}]},\"layout\":{\"annotationdefaults\":{\"arrowhead\":0,\"arrowwidth\":1},\"autotypenumbers\":\"strict\",\"coloraxis\":{\"colorbar\":{\"outlinewidth\":1,\"tickcolor\":\"rgb(36,36,36)\",\"ticks\":\"outside\"}},\"colorscale\":{\"diverging\":[[0.0,\"rgb(103,0,31)\"],[0.1,\"rgb(178,24,43)\"],[0.2,\"rgb(214,96,77)\"],[0.3,\"rgb(244,165,130)\"],[0.4,\"rgb(253,219,199)\"],[0.5,\"rgb(247,247,247)\"],[0.6,\"rgb(209,229,240)\"],[0.7,\"rgb(146,197,222)\"],[0.8,\"rgb(67,147,195)\"],[0.9,\"rgb(33,102,172)\"],[1.0,\"rgb(5,48,97)\"]],\"sequential\":[[0.0,\"#440154\"],[0.1111111111111111,\"#482878\"],[0.2222222222222222,\"#3e4989\"],[0.3333333333333333,\"#31688e\"],[0.4444444444444444,\"#26828e\"],[0.5555555555555556,\"#1f9e89\"],[0.6666666666666666,\"#35b779\"],[0.7777777777777778,\"#6ece58\"],[0.8888888888888888,\"#b5de2b\"],[1.0,\"#fde725\"]],\"sequentialminus\":[[0.0,\"#440154\"],[0.1111111111111111,\"#482878\"],[0.2222222222222222,\"#3e4989\"],[0.3333333333333333,\"#31688e\"],[0.4444444444444444,\"#26828e\"],[0.5555555555555556,\"#1f9e89\"],[0.6666666666666666,\"#35b779\"],[0.7777777777777778,\"#6ece58\"],[0.8888888888888888,\"#b5de2b\"],[1.0,\"#fde725\"]]},\"colorway\":[\"#1F77B4\",\"#FF7F0E\",\"#2CA02C\",\"#D62728\",\"#9467BD\",\"#8C564B\",\"#E377C2\",\"#7F7F7F\",\"#BCBD22\",\"#17BECF\"],\"font\":{\"color\":\"rgb(36,36,36)\"},\"geo\":{\"bgcolor\":\"white\",\"lakecolor\":\"white\",\"landcolor\":\"white\",\"showlakes\":true,\"showland\":true,\"subunitcolor\":\"white\"},\"hoverlabel\":{\"align\":\"left\"},\"hovermode\":\"closest\",\"mapbox\":{\"style\":\"light\"},\"paper_bgcolor\":\"white\",\"plot_bgcolor\":\"white\",\"polar\":{\"angularaxis\":{\"gridcolor\":\"rgb(232,232,232)\",\"linecolor\":\"rgb(36,36,36)\",\"showgrid\":false,\"showline\":true,\"ticks\":\"outside\"},\"bgcolor\":\"white\",\"radialaxis\":{\"gridcolor\":\"rgb(232,232,232)\",\"linecolor\":\"rgb(36,36,36)\",\"showgrid\":false,\"showline\":true,\"ticks\":\"outside\"}},\"scene\":{\"xaxis\":{\"backgroundcolor\":\"white\",\"gridcolor\":\"rgb(232,232,232)\",\"gridwidth\":2,\"linecolor\":\"rgb(36,36,36)\",\"showbackground\":true,\"showgrid\":false,\"showline\":true,\"ticks\":\"outside\",\"zeroline\":false,\"zerolinecolor\":\"rgb(36,36,36)\"},\"yaxis\":{\"backgroundcolor\":\"white\",\"gridcolor\":\"rgb(232,232,232)\",\"gridwidth\":2,\"linecolor\":\"rgb(36,36,36)\",\"showbackground\":true,\"showgrid\":false,\"showline\":true,\"ticks\":\"outside\",\"zeroline\":false,\"zerolinecolor\":\"rgb(36,36,36)\"},\"zaxis\":{\"backgroundcolor\":\"white\",\"gridcolor\":\"rgb(232,232,232)\",\"gridwidth\":2,\"linecolor\":\"rgb(36,36,36)\",\"showbackground\":true,\"showgrid\":false,\"showline\":true,\"ticks\":\"outside\",\"zeroline\":false,\"zerolinecolor\":\"rgb(36,36,36)\"}},\"shapedefaults\":{\"fillcolor\":\"black\",\"line\":{\"width\":0},\"opacity\":0.3},\"ternary\":{\"aaxis\":{\"gridcolor\":\"rgb(232,232,232)\",\"linecolor\":\"rgb(36,36,36)\",\"showgrid\":false,\"showline\":true,\"ticks\":\"outside\"},\"baxis\":{\"gridcolor\":\"rgb(232,232,232)\",\"linecolor\":\"rgb(36,36,36)\",\"showgrid\":false,\"showline\":true,\"ticks\":\"outside\"},\"bgcolor\":\"white\",\"caxis\":{\"gridcolor\":\"rgb(232,232,232)\",\"linecolor\":\"rgb(36,36,36)\",\"showgrid\":false,\"showline\":true,\"ticks\":\"outside\"}},\"title\":{\"x\":0.05},\"xaxis\":{\"automargin\":true,\"gridcolor\":\"rgb(232,232,232)\",\"linecolor\":\"rgb(36,36,36)\",\"showgrid\":false,\"showline\":true,\"ticks\":\"outside\",\"title\":{\"standoff\":15},\"zeroline\":false,\"zerolinecolor\":\"rgb(36,36,36)\"},\"yaxis\":{\"automargin\":true,\"gridcolor\":\"rgb(232,232,232)\",\"linecolor\":\"rgb(36,36,36)\",\"showgrid\":false,\"showline\":true,\"ticks\":\"outside\",\"title\":{\"standoff\":15},\"zeroline\":false,\"zerolinecolor\":\"rgb(36,36,36)\"}}},\"yaxis\":{\"title\":{\"text\":\"Volume [Vehicles/Hour]\"},\"showgrid\":true,\"range\":[0,2000]},\"font\":{\"family\":\"helvetica\",\"size\":26},\"legend\":{\"yanchor\":\"top\",\"y\":1.0,\"xanchor\":\"right\",\"x\":1,\"orientation\":\"h\"},\"xaxis\":{\"tickangle\":15},\"height\":600,\"width\":1200,\"showlegend\":true},                        {\"responsive\": true}                    ).then(function(){\n",
       "                            \n",
       "var gd = document.getElementById('656bf774-167c-4e2d-86e8-f4a2780f978d');\n",
       "var x = new MutationObserver(function (mutations, observer) {{\n",
       "        var display = window.getComputedStyle(gd).display;\n",
       "        if (!display || display === 'none') {{\n",
       "            console.log([gd, 'removed!']);\n",
       "            Plotly.purge(gd);\n",
       "            observer.disconnect();\n",
       "        }}\n",
       "}});\n",
       "\n",
       "// Listen for the removal of the full notebook cells\n",
       "var notebookContainer = gd.closest('#notebook-container');\n",
       "if (notebookContainer) {{\n",
       "    x.observe(notebookContainer, {childList: true});\n",
       "}}\n",
       "\n",
       "// Listen for the clearing of the current output cell\n",
       "var outputEl = gd.closest('.output');\n",
       "if (outputEl) {{\n",
       "    x.observe(outputEl, {childList: true});\n",
       "}}\n",
       "\n",
       "                        })                };                });            </script>        </div>"
      ]
     },
     "metadata": {},
     "output_type": "display_data"
    },
    {
     "name": "stdout",
     "output_type": "stream",
     "text": [
      "{63082002-WB.png/TL1-WB},%\n"
     ]
    },
    {
     "data": {
      "application/vnd.plotly.v1+json": {
       "config": {
        "plotlyServerURL": "https://plot.ly"
       },
       "data": [
        {
         "line": {
          "color": "#ffa600",
          "width": 3
         },
         "name": "Criteria I.",
         "type": "scatter",
         "x": [
          "2020-02-24T05:30:00",
          "2020-02-24T05:40:00",
          "2020-02-24T05:50:00",
          "2020-02-24T06:00:00",
          "2020-02-24T06:10:00",
          "2020-02-24T06:20:00",
          "2020-02-24T06:30:00",
          "2020-02-24T06:40:00",
          "2020-02-24T06:50:00",
          "2020-02-24T07:00:00",
          "2020-02-24T07:10:00",
          "2020-02-24T07:20:00",
          "2020-02-24T07:30:00",
          "2020-02-24T07:40:00",
          "2020-02-24T07:50:00",
          "2020-02-24T08:00:00",
          "2020-02-24T08:10:00",
          "2020-02-24T08:20:00",
          "2020-02-24T08:30:00",
          "2020-02-24T08:40:00",
          "2020-02-24T08:50:00",
          "2020-02-24T09:00:00",
          "2020-02-24T09:10:00",
          "2020-02-24T09:20:00",
          "2020-02-24T09:30:00",
          "2020-02-24T09:40:00",
          "2020-02-24T09:50:00",
          "2020-02-24T10:00:00",
          "2020-02-24T10:10:00",
          "2020-02-24T10:20:00",
          "2020-02-24T10:30:00",
          "2020-02-24T10:40:00",
          "2020-02-24T10:50:00",
          "2020-02-24T11:00:00",
          "2020-02-24T11:10:00",
          "2020-02-24T11:20:00",
          "2020-02-24T11:30:00",
          "2020-02-24T11:40:00"
         ],
         "y": [
          705.8893498629897,
          853.403225028575,
          780.4918683442377,
          942.5049142340995,
          1093.677872827087,
          1442.647051704545,
          1547.9008444615051,
          1509.5421443484843,
          1387.6914040374058,
          1317.508707129371,
          1600.8877262749747,
          1492.0923052569217,
          1342.2743264438695,
          1483.178716507944,
          1194.7146471072365,
          1231.2617637310002,
          1054.316996627373,
          1072.8128793319927,
          1048.8159663714707,
          1132.9695895368193,
          942.9772675044306,
          999.5022643867476,
          884.2315264080283,
          907.4393617001206,
          967.1247364867077,
          965.7890131695456,
          785.515248289265,
          824.6730370859692,
          857.6883645905576,
          840.5169825081005,
          960.0712786437743,
          775.0748846598757,
          924.0108372866339,
          856.2214924624147,
          800.4825282389875,
          1016.315100506355,
          803.6432634654184,
          839.0169185834136
         ]
        },
        {
         "fill": "tonexty",
         "line": {
          "color": "#ffa600",
          "width": 3
         },
         "name": "Criteria I",
         "showlegend": false,
         "type": "scatter",
         "x": [
          "2020-02-24T05:30:00",
          "2020-02-24T05:40:00",
          "2020-02-24T05:50:00",
          "2020-02-24T06:00:00",
          "2020-02-24T06:10:00",
          "2020-02-24T06:20:00",
          "2020-02-24T06:30:00",
          "2020-02-24T06:40:00",
          "2020-02-24T06:50:00",
          "2020-02-24T07:00:00",
          "2020-02-24T07:10:00",
          "2020-02-24T07:20:00",
          "2020-02-24T07:30:00",
          "2020-02-24T07:40:00",
          "2020-02-24T07:50:00",
          "2020-02-24T08:00:00",
          "2020-02-24T08:10:00",
          "2020-02-24T08:20:00",
          "2020-02-24T08:30:00",
          "2020-02-24T08:40:00",
          "2020-02-24T08:50:00",
          "2020-02-24T09:00:00",
          "2020-02-24T09:10:00",
          "2020-02-24T09:20:00",
          "2020-02-24T09:30:00",
          "2020-02-24T09:40:00",
          "2020-02-24T09:50:00",
          "2020-02-24T10:00:00",
          "2020-02-24T10:10:00",
          "2020-02-24T10:20:00",
          "2020-02-24T10:30:00",
          "2020-02-24T10:40:00",
          "2020-02-24T10:50:00",
          "2020-02-24T11:00:00",
          "2020-02-24T11:10:00",
          "2020-02-24T11:20:00",
          "2020-02-24T11:30:00",
          "2020-02-24T11:40:00"
         ],
         "y": [
          206.1106501370103,
          298.59677497142496,
          311.5081316557623,
          401.49508576590057,
          382.3221271729131,
          621.3529482954549,
          576.0991555384949,
          602.4578556515158,
          616.3085959625942,
          602.491292870629,
          823.1122737250254,
          847.9076947430783,
          733.7256735561305,
          856.821283492056,
          665.2853528927636,
          592.7382362689998,
          289.68300337262684,
          391.18712066800725,
          355.18403362852933,
          235.03041046318071,
          293.02273249556936,
          368.4977356132524,
          471.76847359197166,
          424.56063829987943,
          496.8752635132923,
          510.21098683045443,
          306.48475171073505,
          435.3269629140308,
          426.3116354094424,
          347.48301749189955,
          515.9287213562257,
          340.9251153401243,
          515.9891627133661,
          367.77850753758526,
          363.5174717610126,
          531.684899493645,
          396.3567365345816,
          600.9830814165864
         ]
        },
        {
         "line": {
          "color": "#bc5090",
          "width": 3
         },
         "name": "Criteria II.",
         "type": "scatter",
         "x": [
          "2020-02-24T05:30:00",
          "2020-02-24T05:40:00",
          "2020-02-24T05:50:00",
          "2020-02-24T06:00:00",
          "2020-02-24T06:10:00",
          "2020-02-24T06:20:00",
          "2020-02-24T06:30:00",
          "2020-02-24T06:40:00",
          "2020-02-24T06:50:00",
          "2020-02-24T07:00:00",
          "2020-02-24T07:10:00",
          "2020-02-24T07:20:00",
          "2020-02-24T07:30:00",
          "2020-02-24T07:40:00",
          "2020-02-24T07:50:00",
          "2020-02-24T08:00:00",
          "2020-02-24T08:10:00",
          "2020-02-24T08:20:00",
          "2020-02-24T08:30:00",
          "2020-02-24T08:40:00",
          "2020-02-24T08:50:00",
          "2020-02-24T09:00:00",
          "2020-02-24T09:10:00",
          "2020-02-24T09:20:00",
          "2020-02-24T09:30:00",
          "2020-02-24T09:40:00",
          "2020-02-24T09:50:00",
          "2020-02-24T10:00:00",
          "2020-02-24T10:10:00",
          "2020-02-24T10:20:00",
          "2020-02-24T10:30:00",
          "2020-02-24T10:40:00",
          "2020-02-24T10:50:00",
          "2020-02-24T11:00:00",
          "2020-02-24T11:10:00",
          "2020-02-24T11:20:00",
          "2020-02-24T11:30:00",
          "2020-02-24T11:40:00"
         ],
         "y": [
          583.4945662566274,
          717.5322576676404,
          665.6387083388968,
          810.0127113439282,
          919.4683024627994,
          1241.513801890074,
          1309.908594113013,
          1287.3990532390226,
          1198.781328590513,
          1142.402401596618,
          1410.412105242334,
          1334.3328088045519,
          1193.2420032876885,
          1329.7850594428287,
          1065.0584934220594,
          1074.888654964796,
          867.0596921568231,
          905.8841221081595,
          878.9469216180973,
          913.0661171106221,
          783.8047283185871,
          844.9705430544631,
          783.2201665347084,
          789.183347806184,
          851.9616002483202,
          854.2188842701763,
          668.2016572904413,
          729.3229781050863,
          752.0450839747743,
          719.7739706673982,
          851.3016727774359,
          668.7524921734059,
          824.0871618809357,
          736.6028022767422,
          693.4706776729528,
          897.6301533195689,
          703.8996242170502,
          780.7229176445987
         ]
        },
        {
         "fill": "tonexty",
         "line": {
          "color": "#bc5090",
          "width": 3
         },
         "name": "Criteria II",
         "showlegend": false,
         "type": "scatter",
         "x": [
          "2020-02-24T05:30:00",
          "2020-02-24T05:40:00",
          "2020-02-24T05:50:00",
          "2020-02-24T06:00:00",
          "2020-02-24T06:10:00",
          "2020-02-24T06:20:00",
          "2020-02-24T06:30:00",
          "2020-02-24T06:40:00",
          "2020-02-24T06:50:00",
          "2020-02-24T07:00:00",
          "2020-02-24T07:10:00",
          "2020-02-24T07:20:00",
          "2020-02-24T07:30:00",
          "2020-02-24T07:40:00",
          "2020-02-24T07:50:00",
          "2020-02-24T08:00:00",
          "2020-02-24T08:10:00",
          "2020-02-24T08:20:00",
          "2020-02-24T08:30:00",
          "2020-02-24T08:40:00",
          "2020-02-24T08:50:00",
          "2020-02-24T09:00:00",
          "2020-02-24T09:10:00",
          "2020-02-24T09:20:00",
          "2020-02-24T09:30:00",
          "2020-02-24T09:40:00",
          "2020-02-24T09:50:00",
          "2020-02-24T10:00:00",
          "2020-02-24T10:10:00",
          "2020-02-24T10:20:00",
          "2020-02-24T10:30:00",
          "2020-02-24T10:40:00",
          "2020-02-24T10:50:00",
          "2020-02-24T11:00:00",
          "2020-02-24T11:10:00",
          "2020-02-24T11:20:00",
          "2020-02-24T11:30:00",
          "2020-02-24T11:40:00"
         ],
         "y": [
          328.5054337433726,
          434.46774233235965,
          426.3612916611032,
          533.9872886560718,
          556.5316975372006,
          822.4861981099259,
          814.0914058869872,
          824.6009467609774,
          805.2186714094868,
          777.5975984033821,
          1013.5878947576659,
          1005.6671911954481,
          882.7579967123115,
          1010.2149405571713,
          794.9415065779406,
          749.111345035204,
          476.9403078431769,
          558.1158778918405,
          525.0530783819027,
          454.9338828893779,
          452.1952716814129,
          523.0294569455369,
          572.7798334652916,
          542.816652193816,
          612.0383997516798,
          621.7811157298237,
          423.7983427095587,
          530.6770218949137,
          531.9549160252257,
          468.2260293326018,
          624.6983272225641,
          447.247507826594,
          615.9128381190643,
          487.39719772325776,
          470.5293223270472,
          650.3698466804311,
          496.1003757829498,
          659.2770823554013
         ]
        },
        {
         "line": {
          "color": "#003f5c",
          "width": 5
         },
         "name": "Representative Day",
         "type": "scatter",
         "x": [
          "2020-02-24T05:30:00",
          "2020-02-24T05:40:00",
          "2020-02-24T05:50:00",
          "2020-02-24T06:00:00",
          "2020-02-24T06:10:00",
          "2020-02-24T06:20:00",
          "2020-02-24T06:30:00",
          "2020-02-24T06:40:00",
          "2020-02-24T06:50:00",
          "2020-02-24T07:00:00",
          "2020-02-24T07:10:00",
          "2020-02-24T07:20:00",
          "2020-02-24T07:30:00",
          "2020-02-24T07:40:00",
          "2020-02-24T07:50:00",
          "2020-02-24T08:00:00",
          "2020-02-24T08:10:00",
          "2020-02-24T08:20:00",
          "2020-02-24T08:30:00",
          "2020-02-24T08:40:00",
          "2020-02-24T08:50:00",
          "2020-02-24T09:00:00",
          "2020-02-24T09:10:00",
          "2020-02-24T09:20:00",
          "2020-02-24T09:30:00",
          "2020-02-24T09:40:00",
          "2020-02-24T09:50:00",
          "2020-02-24T10:00:00",
          "2020-02-24T10:10:00",
          "2020-02-24T10:20:00",
          "2020-02-24T10:30:00",
          "2020-02-24T10:40:00",
          "2020-02-24T10:50:00",
          "2020-02-24T11:00:00",
          "2020-02-24T11:10:00",
          "2020-02-24T11:20:00",
          "2020-02-24T11:30:00",
          "2020-02-24T11:40:00"
         ],
         "y": [
          456,
          576,
          546,
          672,
          738,
          1032,
          1062,
          1056,
          1002,
          960,
          1212,
          1170,
          1038,
          1170,
          930,
          912,
          672,
          732,
          702,
          684,
          618,
          684,
          678,
          666,
          732,
          738,
          546,
          630,
          642,
          594,
          738,
          558,
          720,
          612,
          582,
          774,
          600,
          720
         ]
        },
        {
         "marker": {
          "color": "red",
          "line": {
           "color": "black",
           "width": 2
          },
          "size": 15,
          "symbol": "diamond"
         },
         "mode": "markers",
         "name": "Simulation",
         "type": "scatter",
         "x": [
          "2020-02-24T05:30:00",
          "2020-02-24T05:40:00",
          "2020-02-24T05:50:00",
          "2020-02-24T06:00:00",
          "2020-02-24T06:10:00",
          "2020-02-24T06:20:00",
          "2020-02-24T06:30:00",
          "2020-02-24T06:40:00",
          "2020-02-24T06:50:00",
          "2020-02-24T07:00:00",
          "2020-02-24T07:10:00",
          "2020-02-24T07:20:00",
          "2020-02-24T07:30:00",
          "2020-02-24T07:40:00",
          "2020-02-24T07:50:00",
          "2020-02-24T08:00:00",
          "2020-02-24T08:10:00",
          "2020-02-24T08:20:00",
          "2020-02-24T08:30:00",
          "2020-02-24T08:40:00",
          "2020-02-24T08:50:00",
          "2020-02-24T09:00:00",
          "2020-02-24T09:10:00",
          "2020-02-24T09:20:00",
          "2020-02-24T09:30:00",
          "2020-02-24T09:40:00",
          "2020-02-24T09:50:00",
          "2020-02-24T10:00:00",
          "2020-02-24T10:10:00",
          "2020-02-24T10:20:00",
          "2020-02-24T10:30:00",
          "2020-02-24T10:40:00",
          "2020-02-24T10:50:00",
          "2020-02-24T11:00:00",
          "2020-02-24T11:10:00",
          "2020-02-24T11:20:00",
          "2020-02-24T11:30:00",
          "2020-02-24T11:40:00"
         ],
         "y": [
          510,
          546,
          588,
          642,
          852,
          1056,
          1200,
          1050,
          882,
          1092,
          1314,
          1212,
          990,
          1074,
          1002,
          1026,
          726,
          792,
          738,
          696,
          624,
          684,
          684,
          630,
          612,
          714,
          552,
          690,
          684,
          678,
          810,
          534,
          750,
          744,
          528,
          594,
          780,
          792
         ]
        }
       ],
       "layout": {
        "font": {
         "family": "helvetica",
         "size": 26
        },
        "height": 600,
        "legend": {
         "orientation": "h",
         "x": 1,
         "xanchor": "right",
         "y": 1,
         "yanchor": "top"
        },
        "showlegend": true,
        "template": {
         "data": {
          "bar": [
           {
            "error_x": {
             "color": "rgb(36,36,36)"
            },
            "error_y": {
             "color": "rgb(36,36,36)"
            },
            "marker": {
             "line": {
              "color": "white",
              "width": 0.5
             },
             "pattern": {
              "fillmode": "overlay",
              "size": 10,
              "solidity": 0.2
             }
            },
            "type": "bar"
           }
          ],
          "barpolar": [
           {
            "marker": {
             "line": {
              "color": "white",
              "width": 0.5
             },
             "pattern": {
              "fillmode": "overlay",
              "size": 10,
              "solidity": 0.2
             }
            },
            "type": "barpolar"
           }
          ],
          "carpet": [
           {
            "aaxis": {
             "endlinecolor": "rgb(36,36,36)",
             "gridcolor": "white",
             "linecolor": "white",
             "minorgridcolor": "white",
             "startlinecolor": "rgb(36,36,36)"
            },
            "baxis": {
             "endlinecolor": "rgb(36,36,36)",
             "gridcolor": "white",
             "linecolor": "white",
             "minorgridcolor": "white",
             "startlinecolor": "rgb(36,36,36)"
            },
            "type": "carpet"
           }
          ],
          "choropleth": [
           {
            "colorbar": {
             "outlinewidth": 1,
             "tickcolor": "rgb(36,36,36)",
             "ticks": "outside"
            },
            "type": "choropleth"
           }
          ],
          "contour": [
           {
            "colorbar": {
             "outlinewidth": 1,
             "tickcolor": "rgb(36,36,36)",
             "ticks": "outside"
            },
            "colorscale": [
             [
              0,
              "#440154"
             ],
             [
              0.1111111111111111,
              "#482878"
             ],
             [
              0.2222222222222222,
              "#3e4989"
             ],
             [
              0.3333333333333333,
              "#31688e"
             ],
             [
              0.4444444444444444,
              "#26828e"
             ],
             [
              0.5555555555555556,
              "#1f9e89"
             ],
             [
              0.6666666666666666,
              "#35b779"
             ],
             [
              0.7777777777777778,
              "#6ece58"
             ],
             [
              0.8888888888888888,
              "#b5de2b"
             ],
             [
              1,
              "#fde725"
             ]
            ],
            "type": "contour"
           }
          ],
          "contourcarpet": [
           {
            "colorbar": {
             "outlinewidth": 1,
             "tickcolor": "rgb(36,36,36)",
             "ticks": "outside"
            },
            "type": "contourcarpet"
           }
          ],
          "heatmap": [
           {
            "colorbar": {
             "outlinewidth": 1,
             "tickcolor": "rgb(36,36,36)",
             "ticks": "outside"
            },
            "colorscale": [
             [
              0,
              "#440154"
             ],
             [
              0.1111111111111111,
              "#482878"
             ],
             [
              0.2222222222222222,
              "#3e4989"
             ],
             [
              0.3333333333333333,
              "#31688e"
             ],
             [
              0.4444444444444444,
              "#26828e"
             ],
             [
              0.5555555555555556,
              "#1f9e89"
             ],
             [
              0.6666666666666666,
              "#35b779"
             ],
             [
              0.7777777777777778,
              "#6ece58"
             ],
             [
              0.8888888888888888,
              "#b5de2b"
             ],
             [
              1,
              "#fde725"
             ]
            ],
            "type": "heatmap"
           }
          ],
          "heatmapgl": [
           {
            "colorbar": {
             "outlinewidth": 1,
             "tickcolor": "rgb(36,36,36)",
             "ticks": "outside"
            },
            "colorscale": [
             [
              0,
              "#440154"
             ],
             [
              0.1111111111111111,
              "#482878"
             ],
             [
              0.2222222222222222,
              "#3e4989"
             ],
             [
              0.3333333333333333,
              "#31688e"
             ],
             [
              0.4444444444444444,
              "#26828e"
             ],
             [
              0.5555555555555556,
              "#1f9e89"
             ],
             [
              0.6666666666666666,
              "#35b779"
             ],
             [
              0.7777777777777778,
              "#6ece58"
             ],
             [
              0.8888888888888888,
              "#b5de2b"
             ],
             [
              1,
              "#fde725"
             ]
            ],
            "type": "heatmapgl"
           }
          ],
          "histogram": [
           {
            "marker": {
             "line": {
              "color": "white",
              "width": 0.6
             }
            },
            "type": "histogram"
           }
          ],
          "histogram2d": [
           {
            "colorbar": {
             "outlinewidth": 1,
             "tickcolor": "rgb(36,36,36)",
             "ticks": "outside"
            },
            "colorscale": [
             [
              0,
              "#440154"
             ],
             [
              0.1111111111111111,
              "#482878"
             ],
             [
              0.2222222222222222,
              "#3e4989"
             ],
             [
              0.3333333333333333,
              "#31688e"
             ],
             [
              0.4444444444444444,
              "#26828e"
             ],
             [
              0.5555555555555556,
              "#1f9e89"
             ],
             [
              0.6666666666666666,
              "#35b779"
             ],
             [
              0.7777777777777778,
              "#6ece58"
             ],
             [
              0.8888888888888888,
              "#b5de2b"
             ],
             [
              1,
              "#fde725"
             ]
            ],
            "type": "histogram2d"
           }
          ],
          "histogram2dcontour": [
           {
            "colorbar": {
             "outlinewidth": 1,
             "tickcolor": "rgb(36,36,36)",
             "ticks": "outside"
            },
            "colorscale": [
             [
              0,
              "#440154"
             ],
             [
              0.1111111111111111,
              "#482878"
             ],
             [
              0.2222222222222222,
              "#3e4989"
             ],
             [
              0.3333333333333333,
              "#31688e"
             ],
             [
              0.4444444444444444,
              "#26828e"
             ],
             [
              0.5555555555555556,
              "#1f9e89"
             ],
             [
              0.6666666666666666,
              "#35b779"
             ],
             [
              0.7777777777777778,
              "#6ece58"
             ],
             [
              0.8888888888888888,
              "#b5de2b"
             ],
             [
              1,
              "#fde725"
             ]
            ],
            "type": "histogram2dcontour"
           }
          ],
          "mesh3d": [
           {
            "colorbar": {
             "outlinewidth": 1,
             "tickcolor": "rgb(36,36,36)",
             "ticks": "outside"
            },
            "type": "mesh3d"
           }
          ],
          "parcoords": [
           {
            "line": {
             "colorbar": {
              "outlinewidth": 1,
              "tickcolor": "rgb(36,36,36)",
              "ticks": "outside"
             }
            },
            "type": "parcoords"
           }
          ],
          "pie": [
           {
            "automargin": true,
            "type": "pie"
           }
          ],
          "scatter": [
           {
            "fillpattern": {
             "fillmode": "overlay",
             "size": 10,
             "solidity": 0.2
            },
            "type": "scatter"
           }
          ],
          "scatter3d": [
           {
            "line": {
             "colorbar": {
              "outlinewidth": 1,
              "tickcolor": "rgb(36,36,36)",
              "ticks": "outside"
             }
            },
            "marker": {
             "colorbar": {
              "outlinewidth": 1,
              "tickcolor": "rgb(36,36,36)",
              "ticks": "outside"
             }
            },
            "type": "scatter3d"
           }
          ],
          "scattercarpet": [
           {
            "marker": {
             "colorbar": {
              "outlinewidth": 1,
              "tickcolor": "rgb(36,36,36)",
              "ticks": "outside"
             }
            },
            "type": "scattercarpet"
           }
          ],
          "scattergeo": [
           {
            "marker": {
             "colorbar": {
              "outlinewidth": 1,
              "tickcolor": "rgb(36,36,36)",
              "ticks": "outside"
             }
            },
            "type": "scattergeo"
           }
          ],
          "scattergl": [
           {
            "marker": {
             "colorbar": {
              "outlinewidth": 1,
              "tickcolor": "rgb(36,36,36)",
              "ticks": "outside"
             }
            },
            "type": "scattergl"
           }
          ],
          "scattermapbox": [
           {
            "marker": {
             "colorbar": {
              "outlinewidth": 1,
              "tickcolor": "rgb(36,36,36)",
              "ticks": "outside"
             }
            },
            "type": "scattermapbox"
           }
          ],
          "scatterpolar": [
           {
            "marker": {
             "colorbar": {
              "outlinewidth": 1,
              "tickcolor": "rgb(36,36,36)",
              "ticks": "outside"
             }
            },
            "type": "scatterpolar"
           }
          ],
          "scatterpolargl": [
           {
            "marker": {
             "colorbar": {
              "outlinewidth": 1,
              "tickcolor": "rgb(36,36,36)",
              "ticks": "outside"
             }
            },
            "type": "scatterpolargl"
           }
          ],
          "scatterternary": [
           {
            "marker": {
             "colorbar": {
              "outlinewidth": 1,
              "tickcolor": "rgb(36,36,36)",
              "ticks": "outside"
             }
            },
            "type": "scatterternary"
           }
          ],
          "surface": [
           {
            "colorbar": {
             "outlinewidth": 1,
             "tickcolor": "rgb(36,36,36)",
             "ticks": "outside"
            },
            "colorscale": [
             [
              0,
              "#440154"
             ],
             [
              0.1111111111111111,
              "#482878"
             ],
             [
              0.2222222222222222,
              "#3e4989"
             ],
             [
              0.3333333333333333,
              "#31688e"
             ],
             [
              0.4444444444444444,
              "#26828e"
             ],
             [
              0.5555555555555556,
              "#1f9e89"
             ],
             [
              0.6666666666666666,
              "#35b779"
             ],
             [
              0.7777777777777778,
              "#6ece58"
             ],
             [
              0.8888888888888888,
              "#b5de2b"
             ],
             [
              1,
              "#fde725"
             ]
            ],
            "type": "surface"
           }
          ],
          "table": [
           {
            "cells": {
             "fill": {
              "color": "rgb(237,237,237)"
             },
             "line": {
              "color": "white"
             }
            },
            "header": {
             "fill": {
              "color": "rgb(217,217,217)"
             },
             "line": {
              "color": "white"
             }
            },
            "type": "table"
           }
          ]
         },
         "layout": {
          "annotationdefaults": {
           "arrowhead": 0,
           "arrowwidth": 1
          },
          "autotypenumbers": "strict",
          "coloraxis": {
           "colorbar": {
            "outlinewidth": 1,
            "tickcolor": "rgb(36,36,36)",
            "ticks": "outside"
           }
          },
          "colorscale": {
           "diverging": [
            [
             0,
             "rgb(103,0,31)"
            ],
            [
             0.1,
             "rgb(178,24,43)"
            ],
            [
             0.2,
             "rgb(214,96,77)"
            ],
            [
             0.3,
             "rgb(244,165,130)"
            ],
            [
             0.4,
             "rgb(253,219,199)"
            ],
            [
             0.5,
             "rgb(247,247,247)"
            ],
            [
             0.6,
             "rgb(209,229,240)"
            ],
            [
             0.7,
             "rgb(146,197,222)"
            ],
            [
             0.8,
             "rgb(67,147,195)"
            ],
            [
             0.9,
             "rgb(33,102,172)"
            ],
            [
             1,
             "rgb(5,48,97)"
            ]
           ],
           "sequential": [
            [
             0,
             "#440154"
            ],
            [
             0.1111111111111111,
             "#482878"
            ],
            [
             0.2222222222222222,
             "#3e4989"
            ],
            [
             0.3333333333333333,
             "#31688e"
            ],
            [
             0.4444444444444444,
             "#26828e"
            ],
            [
             0.5555555555555556,
             "#1f9e89"
            ],
            [
             0.6666666666666666,
             "#35b779"
            ],
            [
             0.7777777777777778,
             "#6ece58"
            ],
            [
             0.8888888888888888,
             "#b5de2b"
            ],
            [
             1,
             "#fde725"
            ]
           ],
           "sequentialminus": [
            [
             0,
             "#440154"
            ],
            [
             0.1111111111111111,
             "#482878"
            ],
            [
             0.2222222222222222,
             "#3e4989"
            ],
            [
             0.3333333333333333,
             "#31688e"
            ],
            [
             0.4444444444444444,
             "#26828e"
            ],
            [
             0.5555555555555556,
             "#1f9e89"
            ],
            [
             0.6666666666666666,
             "#35b779"
            ],
            [
             0.7777777777777778,
             "#6ece58"
            ],
            [
             0.8888888888888888,
             "#b5de2b"
            ],
            [
             1,
             "#fde725"
            ]
           ]
          },
          "colorway": [
           "#1F77B4",
           "#FF7F0E",
           "#2CA02C",
           "#D62728",
           "#9467BD",
           "#8C564B",
           "#E377C2",
           "#7F7F7F",
           "#BCBD22",
           "#17BECF"
          ],
          "font": {
           "color": "rgb(36,36,36)"
          },
          "geo": {
           "bgcolor": "white",
           "lakecolor": "white",
           "landcolor": "white",
           "showlakes": true,
           "showland": true,
           "subunitcolor": "white"
          },
          "hoverlabel": {
           "align": "left"
          },
          "hovermode": "closest",
          "mapbox": {
           "style": "light"
          },
          "paper_bgcolor": "white",
          "plot_bgcolor": "white",
          "polar": {
           "angularaxis": {
            "gridcolor": "rgb(232,232,232)",
            "linecolor": "rgb(36,36,36)",
            "showgrid": false,
            "showline": true,
            "ticks": "outside"
           },
           "bgcolor": "white",
           "radialaxis": {
            "gridcolor": "rgb(232,232,232)",
            "linecolor": "rgb(36,36,36)",
            "showgrid": false,
            "showline": true,
            "ticks": "outside"
           }
          },
          "scene": {
           "xaxis": {
            "backgroundcolor": "white",
            "gridcolor": "rgb(232,232,232)",
            "gridwidth": 2,
            "linecolor": "rgb(36,36,36)",
            "showbackground": true,
            "showgrid": false,
            "showline": true,
            "ticks": "outside",
            "zeroline": false,
            "zerolinecolor": "rgb(36,36,36)"
           },
           "yaxis": {
            "backgroundcolor": "white",
            "gridcolor": "rgb(232,232,232)",
            "gridwidth": 2,
            "linecolor": "rgb(36,36,36)",
            "showbackground": true,
            "showgrid": false,
            "showline": true,
            "ticks": "outside",
            "zeroline": false,
            "zerolinecolor": "rgb(36,36,36)"
           },
           "zaxis": {
            "backgroundcolor": "white",
            "gridcolor": "rgb(232,232,232)",
            "gridwidth": 2,
            "linecolor": "rgb(36,36,36)",
            "showbackground": true,
            "showgrid": false,
            "showline": true,
            "ticks": "outside",
            "zeroline": false,
            "zerolinecolor": "rgb(36,36,36)"
           }
          },
          "shapedefaults": {
           "fillcolor": "black",
           "line": {
            "width": 0
           },
           "opacity": 0.3
          },
          "ternary": {
           "aaxis": {
            "gridcolor": "rgb(232,232,232)",
            "linecolor": "rgb(36,36,36)",
            "showgrid": false,
            "showline": true,
            "ticks": "outside"
           },
           "baxis": {
            "gridcolor": "rgb(232,232,232)",
            "linecolor": "rgb(36,36,36)",
            "showgrid": false,
            "showline": true,
            "ticks": "outside"
           },
           "bgcolor": "white",
           "caxis": {
            "gridcolor": "rgb(232,232,232)",
            "linecolor": "rgb(36,36,36)",
            "showgrid": false,
            "showline": true,
            "ticks": "outside"
           }
          },
          "title": {
           "x": 0.05
          },
          "xaxis": {
           "automargin": true,
           "gridcolor": "rgb(232,232,232)",
           "linecolor": "rgb(36,36,36)",
           "showgrid": false,
           "showline": true,
           "ticks": "outside",
           "title": {
            "standoff": 15
           },
           "zeroline": false,
           "zerolinecolor": "rgb(36,36,36)"
          },
          "yaxis": {
           "automargin": true,
           "gridcolor": "rgb(232,232,232)",
           "linecolor": "rgb(36,36,36)",
           "showgrid": false,
           "showline": true,
           "ticks": "outside",
           "title": {
            "standoff": 15
           },
           "zeroline": false,
           "zerolinecolor": "rgb(36,36,36)"
          }
         }
        },
        "width": 1200,
        "xaxis": {
         "tickangle": 15
        },
        "yaxis": {
         "range": [
          0,
          2000
         ],
         "showgrid": true,
         "title": {
          "text": "Volume [Vehicles/Hour]"
         }
        }
       }
      },
      "text/html": [
       "<div>                            <div id=\"3e2c3cf1-69cc-41de-ad87-4f7edee73067\" class=\"plotly-graph-div\" style=\"height:600px; width:1200px;\"></div>            <script type=\"text/javascript\">                require([\"plotly\"], function(Plotly) {                    window.PLOTLYENV=window.PLOTLYENV || {};                                    if (document.getElementById(\"3e2c3cf1-69cc-41de-ad87-4f7edee73067\")) {                    Plotly.newPlot(                        \"3e2c3cf1-69cc-41de-ad87-4f7edee73067\",                        [{\"line\":{\"color\":\"#ffa600\",\"width\":3},\"name\":\"Criteria I.\",\"x\":[\"2020-02-24T05:30:00\",\"2020-02-24T05:40:00\",\"2020-02-24T05:50:00\",\"2020-02-24T06:00:00\",\"2020-02-24T06:10:00\",\"2020-02-24T06:20:00\",\"2020-02-24T06:30:00\",\"2020-02-24T06:40:00\",\"2020-02-24T06:50:00\",\"2020-02-24T07:00:00\",\"2020-02-24T07:10:00\",\"2020-02-24T07:20:00\",\"2020-02-24T07:30:00\",\"2020-02-24T07:40:00\",\"2020-02-24T07:50:00\",\"2020-02-24T08:00:00\",\"2020-02-24T08:10:00\",\"2020-02-24T08:20:00\",\"2020-02-24T08:30:00\",\"2020-02-24T08:40:00\",\"2020-02-24T08:50:00\",\"2020-02-24T09:00:00\",\"2020-02-24T09:10:00\",\"2020-02-24T09:20:00\",\"2020-02-24T09:30:00\",\"2020-02-24T09:40:00\",\"2020-02-24T09:50:00\",\"2020-02-24T10:00:00\",\"2020-02-24T10:10:00\",\"2020-02-24T10:20:00\",\"2020-02-24T10:30:00\",\"2020-02-24T10:40:00\",\"2020-02-24T10:50:00\",\"2020-02-24T11:00:00\",\"2020-02-24T11:10:00\",\"2020-02-24T11:20:00\",\"2020-02-24T11:30:00\",\"2020-02-24T11:40:00\"],\"y\":[705.8893498629897,853.403225028575,780.4918683442377,942.5049142340995,1093.677872827087,1442.647051704545,1547.9008444615051,1509.5421443484843,1387.6914040374058,1317.508707129371,1600.8877262749747,1492.0923052569217,1342.2743264438695,1483.178716507944,1194.7146471072365,1231.2617637310002,1054.316996627373,1072.8128793319927,1048.8159663714707,1132.9695895368193,942.9772675044306,999.5022643867476,884.2315264080283,907.4393617001206,967.1247364867077,965.7890131695456,785.515248289265,824.6730370859692,857.6883645905576,840.5169825081005,960.0712786437743,775.0748846598757,924.0108372866339,856.2214924624147,800.4825282389875,1016.315100506355,803.6432634654184,839.0169185834136],\"type\":\"scatter\"},{\"fill\":\"tonexty\",\"line\":{\"color\":\"#ffa600\",\"width\":3},\"name\":\"Criteria I\",\"showlegend\":false,\"x\":[\"2020-02-24T05:30:00\",\"2020-02-24T05:40:00\",\"2020-02-24T05:50:00\",\"2020-02-24T06:00:00\",\"2020-02-24T06:10:00\",\"2020-02-24T06:20:00\",\"2020-02-24T06:30:00\",\"2020-02-24T06:40:00\",\"2020-02-24T06:50:00\",\"2020-02-24T07:00:00\",\"2020-02-24T07:10:00\",\"2020-02-24T07:20:00\",\"2020-02-24T07:30:00\",\"2020-02-24T07:40:00\",\"2020-02-24T07:50:00\",\"2020-02-24T08:00:00\",\"2020-02-24T08:10:00\",\"2020-02-24T08:20:00\",\"2020-02-24T08:30:00\",\"2020-02-24T08:40:00\",\"2020-02-24T08:50:00\",\"2020-02-24T09:00:00\",\"2020-02-24T09:10:00\",\"2020-02-24T09:20:00\",\"2020-02-24T09:30:00\",\"2020-02-24T09:40:00\",\"2020-02-24T09:50:00\",\"2020-02-24T10:00:00\",\"2020-02-24T10:10:00\",\"2020-02-24T10:20:00\",\"2020-02-24T10:30:00\",\"2020-02-24T10:40:00\",\"2020-02-24T10:50:00\",\"2020-02-24T11:00:00\",\"2020-02-24T11:10:00\",\"2020-02-24T11:20:00\",\"2020-02-24T11:30:00\",\"2020-02-24T11:40:00\"],\"y\":[206.1106501370103,298.59677497142496,311.5081316557623,401.49508576590057,382.3221271729131,621.3529482954549,576.0991555384949,602.4578556515158,616.3085959625942,602.491292870629,823.1122737250254,847.9076947430783,733.7256735561305,856.821283492056,665.2853528927636,592.7382362689998,289.68300337262684,391.18712066800725,355.18403362852933,235.03041046318071,293.02273249556936,368.4977356132524,471.76847359197166,424.56063829987943,496.8752635132923,510.21098683045443,306.48475171073505,435.3269629140308,426.3116354094424,347.48301749189955,515.9287213562257,340.9251153401243,515.9891627133661,367.77850753758526,363.5174717610126,531.684899493645,396.3567365345816,600.9830814165864],\"type\":\"scatter\"},{\"line\":{\"color\":\"#bc5090\",\"width\":3},\"name\":\"Criteria II.\",\"x\":[\"2020-02-24T05:30:00\",\"2020-02-24T05:40:00\",\"2020-02-24T05:50:00\",\"2020-02-24T06:00:00\",\"2020-02-24T06:10:00\",\"2020-02-24T06:20:00\",\"2020-02-24T06:30:00\",\"2020-02-24T06:40:00\",\"2020-02-24T06:50:00\",\"2020-02-24T07:00:00\",\"2020-02-24T07:10:00\",\"2020-02-24T07:20:00\",\"2020-02-24T07:30:00\",\"2020-02-24T07:40:00\",\"2020-02-24T07:50:00\",\"2020-02-24T08:00:00\",\"2020-02-24T08:10:00\",\"2020-02-24T08:20:00\",\"2020-02-24T08:30:00\",\"2020-02-24T08:40:00\",\"2020-02-24T08:50:00\",\"2020-02-24T09:00:00\",\"2020-02-24T09:10:00\",\"2020-02-24T09:20:00\",\"2020-02-24T09:30:00\",\"2020-02-24T09:40:00\",\"2020-02-24T09:50:00\",\"2020-02-24T10:00:00\",\"2020-02-24T10:10:00\",\"2020-02-24T10:20:00\",\"2020-02-24T10:30:00\",\"2020-02-24T10:40:00\",\"2020-02-24T10:50:00\",\"2020-02-24T11:00:00\",\"2020-02-24T11:10:00\",\"2020-02-24T11:20:00\",\"2020-02-24T11:30:00\",\"2020-02-24T11:40:00\"],\"y\":[583.4945662566274,717.5322576676404,665.6387083388968,810.0127113439282,919.4683024627994,1241.513801890074,1309.908594113013,1287.3990532390226,1198.781328590513,1142.402401596618,1410.412105242334,1334.3328088045519,1193.2420032876885,1329.7850594428287,1065.0584934220594,1074.888654964796,867.0596921568231,905.8841221081595,878.9469216180973,913.0661171106221,783.8047283185871,844.9705430544631,783.2201665347084,789.183347806184,851.9616002483202,854.2188842701763,668.2016572904413,729.3229781050863,752.0450839747743,719.7739706673982,851.3016727774359,668.7524921734059,824.0871618809357,736.6028022767422,693.4706776729528,897.6301533195689,703.8996242170502,780.7229176445987],\"type\":\"scatter\"},{\"fill\":\"tonexty\",\"line\":{\"color\":\"#bc5090\",\"width\":3},\"name\":\"Criteria II\",\"showlegend\":false,\"x\":[\"2020-02-24T05:30:00\",\"2020-02-24T05:40:00\",\"2020-02-24T05:50:00\",\"2020-02-24T06:00:00\",\"2020-02-24T06:10:00\",\"2020-02-24T06:20:00\",\"2020-02-24T06:30:00\",\"2020-02-24T06:40:00\",\"2020-02-24T06:50:00\",\"2020-02-24T07:00:00\",\"2020-02-24T07:10:00\",\"2020-02-24T07:20:00\",\"2020-02-24T07:30:00\",\"2020-02-24T07:40:00\",\"2020-02-24T07:50:00\",\"2020-02-24T08:00:00\",\"2020-02-24T08:10:00\",\"2020-02-24T08:20:00\",\"2020-02-24T08:30:00\",\"2020-02-24T08:40:00\",\"2020-02-24T08:50:00\",\"2020-02-24T09:00:00\",\"2020-02-24T09:10:00\",\"2020-02-24T09:20:00\",\"2020-02-24T09:30:00\",\"2020-02-24T09:40:00\",\"2020-02-24T09:50:00\",\"2020-02-24T10:00:00\",\"2020-02-24T10:10:00\",\"2020-02-24T10:20:00\",\"2020-02-24T10:30:00\",\"2020-02-24T10:40:00\",\"2020-02-24T10:50:00\",\"2020-02-24T11:00:00\",\"2020-02-24T11:10:00\",\"2020-02-24T11:20:00\",\"2020-02-24T11:30:00\",\"2020-02-24T11:40:00\"],\"y\":[328.5054337433726,434.46774233235965,426.3612916611032,533.9872886560718,556.5316975372006,822.4861981099259,814.0914058869872,824.6009467609774,805.2186714094868,777.5975984033821,1013.5878947576659,1005.6671911954481,882.7579967123115,1010.2149405571713,794.9415065779406,749.111345035204,476.9403078431769,558.1158778918405,525.0530783819027,454.9338828893779,452.1952716814129,523.0294569455369,572.7798334652916,542.816652193816,612.0383997516798,621.7811157298237,423.7983427095587,530.6770218949137,531.9549160252257,468.2260293326018,624.6983272225641,447.247507826594,615.9128381190643,487.39719772325776,470.5293223270472,650.3698466804311,496.1003757829498,659.2770823554013],\"type\":\"scatter\"},{\"line\":{\"color\":\"#003f5c\",\"width\":5},\"name\":\"Representative Day\",\"x\":[\"2020-02-24T05:30:00\",\"2020-02-24T05:40:00\",\"2020-02-24T05:50:00\",\"2020-02-24T06:00:00\",\"2020-02-24T06:10:00\",\"2020-02-24T06:20:00\",\"2020-02-24T06:30:00\",\"2020-02-24T06:40:00\",\"2020-02-24T06:50:00\",\"2020-02-24T07:00:00\",\"2020-02-24T07:10:00\",\"2020-02-24T07:20:00\",\"2020-02-24T07:30:00\",\"2020-02-24T07:40:00\",\"2020-02-24T07:50:00\",\"2020-02-24T08:00:00\",\"2020-02-24T08:10:00\",\"2020-02-24T08:20:00\",\"2020-02-24T08:30:00\",\"2020-02-24T08:40:00\",\"2020-02-24T08:50:00\",\"2020-02-24T09:00:00\",\"2020-02-24T09:10:00\",\"2020-02-24T09:20:00\",\"2020-02-24T09:30:00\",\"2020-02-24T09:40:00\",\"2020-02-24T09:50:00\",\"2020-02-24T10:00:00\",\"2020-02-24T10:10:00\",\"2020-02-24T10:20:00\",\"2020-02-24T10:30:00\",\"2020-02-24T10:40:00\",\"2020-02-24T10:50:00\",\"2020-02-24T11:00:00\",\"2020-02-24T11:10:00\",\"2020-02-24T11:20:00\",\"2020-02-24T11:30:00\",\"2020-02-24T11:40:00\"],\"y\":[456.0,576.0,546.0,672.0,738.0,1032.0,1062.0,1056.0,1002.0,960.0,1212.0,1170.0,1038.0,1170.0,930.0,912.0,672.0,732.0,702.0,684.0,618.0,684.0,678.0,666.0,732.0,738.0,546.0,630.0,642.0,594.0,738.0,558.0,720.0,612.0,582.0,774.0,600.0,720.0],\"type\":\"scatter\"},{\"marker\":{\"color\":\"red\",\"line\":{\"color\":\"black\",\"width\":2},\"size\":15,\"symbol\":\"diamond\"},\"mode\":\"markers\",\"name\":\"Simulation\",\"x\":[\"2020-02-24T05:30:00\",\"2020-02-24T05:40:00\",\"2020-02-24T05:50:00\",\"2020-02-24T06:00:00\",\"2020-02-24T06:10:00\",\"2020-02-24T06:20:00\",\"2020-02-24T06:30:00\",\"2020-02-24T06:40:00\",\"2020-02-24T06:50:00\",\"2020-02-24T07:00:00\",\"2020-02-24T07:10:00\",\"2020-02-24T07:20:00\",\"2020-02-24T07:30:00\",\"2020-02-24T07:40:00\",\"2020-02-24T07:50:00\",\"2020-02-24T08:00:00\",\"2020-02-24T08:10:00\",\"2020-02-24T08:20:00\",\"2020-02-24T08:30:00\",\"2020-02-24T08:40:00\",\"2020-02-24T08:50:00\",\"2020-02-24T09:00:00\",\"2020-02-24T09:10:00\",\"2020-02-24T09:20:00\",\"2020-02-24T09:30:00\",\"2020-02-24T09:40:00\",\"2020-02-24T09:50:00\",\"2020-02-24T10:00:00\",\"2020-02-24T10:10:00\",\"2020-02-24T10:20:00\",\"2020-02-24T10:30:00\",\"2020-02-24T10:40:00\",\"2020-02-24T10:50:00\",\"2020-02-24T11:00:00\",\"2020-02-24T11:10:00\",\"2020-02-24T11:20:00\",\"2020-02-24T11:30:00\",\"2020-02-24T11:40:00\"],\"y\":[510.0,546.0,588.0,642.0,852.0,1056.0,1200.0,1050.0,882.0,1092.0,1314.0,1212.0,990.0,1074.0,1002.0,1026.0,726.0,792.0,738.0,696.0,624.0,684.0,684.0,630.0,612.0,714.0,552.0,690.0,684.0,678.0,810.0,534.0,750.0,744.0,528.0,594.0,780.0,792.0],\"type\":\"scatter\"}],                        {\"template\":{\"data\":{\"barpolar\":[{\"marker\":{\"line\":{\"color\":\"white\",\"width\":0.5},\"pattern\":{\"fillmode\":\"overlay\",\"size\":10,\"solidity\":0.2}},\"type\":\"barpolar\"}],\"bar\":[{\"error_x\":{\"color\":\"rgb(36,36,36)\"},\"error_y\":{\"color\":\"rgb(36,36,36)\"},\"marker\":{\"line\":{\"color\":\"white\",\"width\":0.5},\"pattern\":{\"fillmode\":\"overlay\",\"size\":10,\"solidity\":0.2}},\"type\":\"bar\"}],\"carpet\":[{\"aaxis\":{\"endlinecolor\":\"rgb(36,36,36)\",\"gridcolor\":\"white\",\"linecolor\":\"white\",\"minorgridcolor\":\"white\",\"startlinecolor\":\"rgb(36,36,36)\"},\"baxis\":{\"endlinecolor\":\"rgb(36,36,36)\",\"gridcolor\":\"white\",\"linecolor\":\"white\",\"minorgridcolor\":\"white\",\"startlinecolor\":\"rgb(36,36,36)\"},\"type\":\"carpet\"}],\"choropleth\":[{\"colorbar\":{\"outlinewidth\":1,\"tickcolor\":\"rgb(36,36,36)\",\"ticks\":\"outside\"},\"type\":\"choropleth\"}],\"contourcarpet\":[{\"colorbar\":{\"outlinewidth\":1,\"tickcolor\":\"rgb(36,36,36)\",\"ticks\":\"outside\"},\"type\":\"contourcarpet\"}],\"contour\":[{\"colorbar\":{\"outlinewidth\":1,\"tickcolor\":\"rgb(36,36,36)\",\"ticks\":\"outside\"},\"colorscale\":[[0.0,\"#440154\"],[0.1111111111111111,\"#482878\"],[0.2222222222222222,\"#3e4989\"],[0.3333333333333333,\"#31688e\"],[0.4444444444444444,\"#26828e\"],[0.5555555555555556,\"#1f9e89\"],[0.6666666666666666,\"#35b779\"],[0.7777777777777778,\"#6ece58\"],[0.8888888888888888,\"#b5de2b\"],[1.0,\"#fde725\"]],\"type\":\"contour\"}],\"heatmapgl\":[{\"colorbar\":{\"outlinewidth\":1,\"tickcolor\":\"rgb(36,36,36)\",\"ticks\":\"outside\"},\"colorscale\":[[0.0,\"#440154\"],[0.1111111111111111,\"#482878\"],[0.2222222222222222,\"#3e4989\"],[0.3333333333333333,\"#31688e\"],[0.4444444444444444,\"#26828e\"],[0.5555555555555556,\"#1f9e89\"],[0.6666666666666666,\"#35b779\"],[0.7777777777777778,\"#6ece58\"],[0.8888888888888888,\"#b5de2b\"],[1.0,\"#fde725\"]],\"type\":\"heatmapgl\"}],\"heatmap\":[{\"colorbar\":{\"outlinewidth\":1,\"tickcolor\":\"rgb(36,36,36)\",\"ticks\":\"outside\"},\"colorscale\":[[0.0,\"#440154\"],[0.1111111111111111,\"#482878\"],[0.2222222222222222,\"#3e4989\"],[0.3333333333333333,\"#31688e\"],[0.4444444444444444,\"#26828e\"],[0.5555555555555556,\"#1f9e89\"],[0.6666666666666666,\"#35b779\"],[0.7777777777777778,\"#6ece58\"],[0.8888888888888888,\"#b5de2b\"],[1.0,\"#fde725\"]],\"type\":\"heatmap\"}],\"histogram2dcontour\":[{\"colorbar\":{\"outlinewidth\":1,\"tickcolor\":\"rgb(36,36,36)\",\"ticks\":\"outside\"},\"colorscale\":[[0.0,\"#440154\"],[0.1111111111111111,\"#482878\"],[0.2222222222222222,\"#3e4989\"],[0.3333333333333333,\"#31688e\"],[0.4444444444444444,\"#26828e\"],[0.5555555555555556,\"#1f9e89\"],[0.6666666666666666,\"#35b779\"],[0.7777777777777778,\"#6ece58\"],[0.8888888888888888,\"#b5de2b\"],[1.0,\"#fde725\"]],\"type\":\"histogram2dcontour\"}],\"histogram2d\":[{\"colorbar\":{\"outlinewidth\":1,\"tickcolor\":\"rgb(36,36,36)\",\"ticks\":\"outside\"},\"colorscale\":[[0.0,\"#440154\"],[0.1111111111111111,\"#482878\"],[0.2222222222222222,\"#3e4989\"],[0.3333333333333333,\"#31688e\"],[0.4444444444444444,\"#26828e\"],[0.5555555555555556,\"#1f9e89\"],[0.6666666666666666,\"#35b779\"],[0.7777777777777778,\"#6ece58\"],[0.8888888888888888,\"#b5de2b\"],[1.0,\"#fde725\"]],\"type\":\"histogram2d\"}],\"histogram\":[{\"marker\":{\"line\":{\"color\":\"white\",\"width\":0.6}},\"type\":\"histogram\"}],\"mesh3d\":[{\"colorbar\":{\"outlinewidth\":1,\"tickcolor\":\"rgb(36,36,36)\",\"ticks\":\"outside\"},\"type\":\"mesh3d\"}],\"parcoords\":[{\"line\":{\"colorbar\":{\"outlinewidth\":1,\"tickcolor\":\"rgb(36,36,36)\",\"ticks\":\"outside\"}},\"type\":\"parcoords\"}],\"pie\":[{\"automargin\":true,\"type\":\"pie\"}],\"scatter3d\":[{\"line\":{\"colorbar\":{\"outlinewidth\":1,\"tickcolor\":\"rgb(36,36,36)\",\"ticks\":\"outside\"}},\"marker\":{\"colorbar\":{\"outlinewidth\":1,\"tickcolor\":\"rgb(36,36,36)\",\"ticks\":\"outside\"}},\"type\":\"scatter3d\"}],\"scattercarpet\":[{\"marker\":{\"colorbar\":{\"outlinewidth\":1,\"tickcolor\":\"rgb(36,36,36)\",\"ticks\":\"outside\"}},\"type\":\"scattercarpet\"}],\"scattergeo\":[{\"marker\":{\"colorbar\":{\"outlinewidth\":1,\"tickcolor\":\"rgb(36,36,36)\",\"ticks\":\"outside\"}},\"type\":\"scattergeo\"}],\"scattergl\":[{\"marker\":{\"colorbar\":{\"outlinewidth\":1,\"tickcolor\":\"rgb(36,36,36)\",\"ticks\":\"outside\"}},\"type\":\"scattergl\"}],\"scattermapbox\":[{\"marker\":{\"colorbar\":{\"outlinewidth\":1,\"tickcolor\":\"rgb(36,36,36)\",\"ticks\":\"outside\"}},\"type\":\"scattermapbox\"}],\"scatterpolargl\":[{\"marker\":{\"colorbar\":{\"outlinewidth\":1,\"tickcolor\":\"rgb(36,36,36)\",\"ticks\":\"outside\"}},\"type\":\"scatterpolargl\"}],\"scatterpolar\":[{\"marker\":{\"colorbar\":{\"outlinewidth\":1,\"tickcolor\":\"rgb(36,36,36)\",\"ticks\":\"outside\"}},\"type\":\"scatterpolar\"}],\"scatter\":[{\"fillpattern\":{\"fillmode\":\"overlay\",\"size\":10,\"solidity\":0.2},\"type\":\"scatter\"}],\"scatterternary\":[{\"marker\":{\"colorbar\":{\"outlinewidth\":1,\"tickcolor\":\"rgb(36,36,36)\",\"ticks\":\"outside\"}},\"type\":\"scatterternary\"}],\"surface\":[{\"colorbar\":{\"outlinewidth\":1,\"tickcolor\":\"rgb(36,36,36)\",\"ticks\":\"outside\"},\"colorscale\":[[0.0,\"#440154\"],[0.1111111111111111,\"#482878\"],[0.2222222222222222,\"#3e4989\"],[0.3333333333333333,\"#31688e\"],[0.4444444444444444,\"#26828e\"],[0.5555555555555556,\"#1f9e89\"],[0.6666666666666666,\"#35b779\"],[0.7777777777777778,\"#6ece58\"],[0.8888888888888888,\"#b5de2b\"],[1.0,\"#fde725\"]],\"type\":\"surface\"}],\"table\":[{\"cells\":{\"fill\":{\"color\":\"rgb(237,237,237)\"},\"line\":{\"color\":\"white\"}},\"header\":{\"fill\":{\"color\":\"rgb(217,217,217)\"},\"line\":{\"color\":\"white\"}},\"type\":\"table\"}]},\"layout\":{\"annotationdefaults\":{\"arrowhead\":0,\"arrowwidth\":1},\"autotypenumbers\":\"strict\",\"coloraxis\":{\"colorbar\":{\"outlinewidth\":1,\"tickcolor\":\"rgb(36,36,36)\",\"ticks\":\"outside\"}},\"colorscale\":{\"diverging\":[[0.0,\"rgb(103,0,31)\"],[0.1,\"rgb(178,24,43)\"],[0.2,\"rgb(214,96,77)\"],[0.3,\"rgb(244,165,130)\"],[0.4,\"rgb(253,219,199)\"],[0.5,\"rgb(247,247,247)\"],[0.6,\"rgb(209,229,240)\"],[0.7,\"rgb(146,197,222)\"],[0.8,\"rgb(67,147,195)\"],[0.9,\"rgb(33,102,172)\"],[1.0,\"rgb(5,48,97)\"]],\"sequential\":[[0.0,\"#440154\"],[0.1111111111111111,\"#482878\"],[0.2222222222222222,\"#3e4989\"],[0.3333333333333333,\"#31688e\"],[0.4444444444444444,\"#26828e\"],[0.5555555555555556,\"#1f9e89\"],[0.6666666666666666,\"#35b779\"],[0.7777777777777778,\"#6ece58\"],[0.8888888888888888,\"#b5de2b\"],[1.0,\"#fde725\"]],\"sequentialminus\":[[0.0,\"#440154\"],[0.1111111111111111,\"#482878\"],[0.2222222222222222,\"#3e4989\"],[0.3333333333333333,\"#31688e\"],[0.4444444444444444,\"#26828e\"],[0.5555555555555556,\"#1f9e89\"],[0.6666666666666666,\"#35b779\"],[0.7777777777777778,\"#6ece58\"],[0.8888888888888888,\"#b5de2b\"],[1.0,\"#fde725\"]]},\"colorway\":[\"#1F77B4\",\"#FF7F0E\",\"#2CA02C\",\"#D62728\",\"#9467BD\",\"#8C564B\",\"#E377C2\",\"#7F7F7F\",\"#BCBD22\",\"#17BECF\"],\"font\":{\"color\":\"rgb(36,36,36)\"},\"geo\":{\"bgcolor\":\"white\",\"lakecolor\":\"white\",\"landcolor\":\"white\",\"showlakes\":true,\"showland\":true,\"subunitcolor\":\"white\"},\"hoverlabel\":{\"align\":\"left\"},\"hovermode\":\"closest\",\"mapbox\":{\"style\":\"light\"},\"paper_bgcolor\":\"white\",\"plot_bgcolor\":\"white\",\"polar\":{\"angularaxis\":{\"gridcolor\":\"rgb(232,232,232)\",\"linecolor\":\"rgb(36,36,36)\",\"showgrid\":false,\"showline\":true,\"ticks\":\"outside\"},\"bgcolor\":\"white\",\"radialaxis\":{\"gridcolor\":\"rgb(232,232,232)\",\"linecolor\":\"rgb(36,36,36)\",\"showgrid\":false,\"showline\":true,\"ticks\":\"outside\"}},\"scene\":{\"xaxis\":{\"backgroundcolor\":\"white\",\"gridcolor\":\"rgb(232,232,232)\",\"gridwidth\":2,\"linecolor\":\"rgb(36,36,36)\",\"showbackground\":true,\"showgrid\":false,\"showline\":true,\"ticks\":\"outside\",\"zeroline\":false,\"zerolinecolor\":\"rgb(36,36,36)\"},\"yaxis\":{\"backgroundcolor\":\"white\",\"gridcolor\":\"rgb(232,232,232)\",\"gridwidth\":2,\"linecolor\":\"rgb(36,36,36)\",\"showbackground\":true,\"showgrid\":false,\"showline\":true,\"ticks\":\"outside\",\"zeroline\":false,\"zerolinecolor\":\"rgb(36,36,36)\"},\"zaxis\":{\"backgroundcolor\":\"white\",\"gridcolor\":\"rgb(232,232,232)\",\"gridwidth\":2,\"linecolor\":\"rgb(36,36,36)\",\"showbackground\":true,\"showgrid\":false,\"showline\":true,\"ticks\":\"outside\",\"zeroline\":false,\"zerolinecolor\":\"rgb(36,36,36)\"}},\"shapedefaults\":{\"fillcolor\":\"black\",\"line\":{\"width\":0},\"opacity\":0.3},\"ternary\":{\"aaxis\":{\"gridcolor\":\"rgb(232,232,232)\",\"linecolor\":\"rgb(36,36,36)\",\"showgrid\":false,\"showline\":true,\"ticks\":\"outside\"},\"baxis\":{\"gridcolor\":\"rgb(232,232,232)\",\"linecolor\":\"rgb(36,36,36)\",\"showgrid\":false,\"showline\":true,\"ticks\":\"outside\"},\"bgcolor\":\"white\",\"caxis\":{\"gridcolor\":\"rgb(232,232,232)\",\"linecolor\":\"rgb(36,36,36)\",\"showgrid\":false,\"showline\":true,\"ticks\":\"outside\"}},\"title\":{\"x\":0.05},\"xaxis\":{\"automargin\":true,\"gridcolor\":\"rgb(232,232,232)\",\"linecolor\":\"rgb(36,36,36)\",\"showgrid\":false,\"showline\":true,\"ticks\":\"outside\",\"title\":{\"standoff\":15},\"zeroline\":false,\"zerolinecolor\":\"rgb(36,36,36)\"},\"yaxis\":{\"automargin\":true,\"gridcolor\":\"rgb(232,232,232)\",\"linecolor\":\"rgb(36,36,36)\",\"showgrid\":false,\"showline\":true,\"ticks\":\"outside\",\"title\":{\"standoff\":15},\"zeroline\":false,\"zerolinecolor\":\"rgb(36,36,36)\"}}},\"yaxis\":{\"title\":{\"text\":\"Volume [Vehicles/Hour]\"},\"showgrid\":true,\"range\":[0,2000]},\"font\":{\"family\":\"helvetica\",\"size\":26},\"legend\":{\"yanchor\":\"top\",\"y\":1.0,\"xanchor\":\"right\",\"x\":1,\"orientation\":\"h\"},\"xaxis\":{\"tickangle\":15},\"height\":600,\"width\":1200,\"showlegend\":true},                        {\"responsive\": true}                    ).then(function(){\n",
       "                            \n",
       "var gd = document.getElementById('3e2c3cf1-69cc-41de-ad87-4f7edee73067');\n",
       "var x = new MutationObserver(function (mutations, observer) {{\n",
       "        var display = window.getComputedStyle(gd).display;\n",
       "        if (!display || display === 'none') {{\n",
       "            console.log([gd, 'removed!']);\n",
       "            Plotly.purge(gd);\n",
       "            observer.disconnect();\n",
       "        }}\n",
       "}});\n",
       "\n",
       "// Listen for the removal of the full notebook cells\n",
       "var notebookContainer = gd.closest('#notebook-container');\n",
       "if (notebookContainer) {{\n",
       "    x.observe(notebookContainer, {childList: true});\n",
       "}}\n",
       "\n",
       "// Listen for the clearing of the current output cell\n",
       "var outputEl = gd.closest('.output');\n",
       "if (outputEl) {{\n",
       "    x.observe(outputEl, {childList: true});\n",
       "}}\n",
       "\n",
       "                        })                };                });            </script>        </div>"
      ]
     },
     "metadata": {},
     "output_type": "display_data"
    },
    {
     "name": "stdout",
     "output_type": "stream",
     "text": [
      "{63082002-EB.png/TL1-EB},%\n"
     ]
    },
    {
     "data": {
      "application/vnd.plotly.v1+json": {
       "config": {
        "plotlyServerURL": "https://plot.ly"
       },
       "data": [
        {
         "line": {
          "color": "#ffa600",
          "width": 3
         },
         "name": "Criteria I.",
         "type": "scatter",
         "x": [
          "2020-02-24T05:30:00",
          "2020-02-24T05:40:00",
          "2020-02-24T05:50:00",
          "2020-02-24T06:00:00",
          "2020-02-24T06:10:00",
          "2020-02-24T06:20:00",
          "2020-02-24T06:30:00",
          "2020-02-24T06:40:00",
          "2020-02-24T06:50:00",
          "2020-02-24T07:00:00",
          "2020-02-24T07:10:00",
          "2020-02-24T07:20:00",
          "2020-02-24T07:30:00",
          "2020-02-24T07:40:00",
          "2020-02-24T07:50:00",
          "2020-02-24T08:00:00",
          "2020-02-24T08:10:00",
          "2020-02-24T08:20:00",
          "2020-02-24T08:30:00",
          "2020-02-24T08:40:00",
          "2020-02-24T08:50:00",
          "2020-02-24T09:00:00",
          "2020-02-24T09:10:00",
          "2020-02-24T09:20:00",
          "2020-02-24T09:30:00",
          "2020-02-24T09:40:00",
          "2020-02-24T09:50:00",
          "2020-02-24T10:00:00",
          "2020-02-24T10:10:00",
          "2020-02-24T10:20:00",
          "2020-02-24T10:30:00",
          "2020-02-24T10:40:00",
          "2020-02-24T10:50:00",
          "2020-02-24T11:00:00",
          "2020-02-24T11:10:00",
          "2020-02-24T11:20:00",
          "2020-02-24T11:30:00",
          "2020-02-24T11:40:00"
         ],
         "y": [
          83.54804914383479,
          54.20477345771205,
          45.168623078322895,
          52.052256444545634,
          32.57279209265277,
          37.446408387480126,
          45.97619420013603,
          62.715186600963506,
          47.10407850143946,
          57.22410332388779,
          67.0939028218242,
          62.9359167793715,
          61.856331033342684,
          54.108837126771,
          42.875188019075,
          47.20351629709022,
          78.58517976553375,
          71.10226536453894,
          41.307979542911255,
          56.62608037752274,
          55.56752664141537,
          55.79612483447467,
          45.507589661619576,
          60.63900595994516,
          48.761781213457255,
          54.1629001143973,
          45.906495708322595,
          56.66294579496399,
          51.16708011685638,
          64.6369389398944,
          50.10849505565257,
          57.97940754678987,
          46.0201275584569,
          74.21743078611242,
          55.161823623992845,
          43.52524338848496,
          42.87525775761418,
          38.1920447976037
         ]
        },
        {
         "fill": "tonexty",
         "line": {
          "color": "#ffa600",
          "width": 3
         },
         "name": "Criteria I",
         "showlegend": false,
         "type": "scatter",
         "x": [
          "2020-02-24T05:30:00",
          "2020-02-24T05:40:00",
          "2020-02-24T05:50:00",
          "2020-02-24T06:00:00",
          "2020-02-24T06:10:00",
          "2020-02-24T06:20:00",
          "2020-02-24T06:30:00",
          "2020-02-24T06:40:00",
          "2020-02-24T06:50:00",
          "2020-02-24T07:00:00",
          "2020-02-24T07:10:00",
          "2020-02-24T07:20:00",
          "2020-02-24T07:30:00",
          "2020-02-24T07:40:00",
          "2020-02-24T07:50:00",
          "2020-02-24T08:00:00",
          "2020-02-24T08:10:00",
          "2020-02-24T08:20:00",
          "2020-02-24T08:30:00",
          "2020-02-24T08:40:00",
          "2020-02-24T08:50:00",
          "2020-02-24T09:00:00",
          "2020-02-24T09:10:00",
          "2020-02-24T09:20:00",
          "2020-02-24T09:30:00",
          "2020-02-24T09:40:00",
          "2020-02-24T09:50:00",
          "2020-02-24T10:00:00",
          "2020-02-24T10:10:00",
          "2020-02-24T10:20:00",
          "2020-02-24T10:30:00",
          "2020-02-24T10:40:00",
          "2020-02-24T10:50:00",
          "2020-02-24T11:00:00",
          "2020-02-24T11:10:00",
          "2020-02-24T11:20:00",
          "2020-02-24T11:30:00",
          "2020-02-24T11:40:00"
         ],
         "y": [
          12.451950856165212,
          -6.204773457712047,
          -21.168623078322895,
          7.94774355545437,
          -8.572792092652769,
          -1.4464083874801261,
          14.023805799863974,
          9.28481339903649,
          0.8959214985605435,
          14.775896676112211,
          -7.0939028218242015,
          -2.935916779371503,
          -1.8563310333426841,
          5.891162873229,
          -6.875188019074994,
          0.7964837029097858,
          17.414820234466248,
          12.897734635461063,
          -17.307979542911255,
          3.37391962247726,
          4.432473358584634,
          4.203875165525332,
          2.4924103383804237,
          11.360994040054841,
          -0.761781213457251,
          5.837099885602701,
          2.0935042916774087,
          15.337054205036011,
          8.832919883143617,
          19.363061060105593,
          9.891504944347428,
          14.020592453210131,
          -10.020127558456899,
          33.782569213887584,
          4.8381763760071514,
          -7.525243388484959,
          -6.8752577576141825,
          9.807955202396304
         ]
        },
        {
         "line": {
          "color": "#bc5090",
          "width": 3
         },
         "name": "Criteria II.",
         "type": "scatter",
         "x": [
          "2020-02-24T05:30:00",
          "2020-02-24T05:40:00",
          "2020-02-24T05:50:00",
          "2020-02-24T06:00:00",
          "2020-02-24T06:10:00",
          "2020-02-24T06:20:00",
          "2020-02-24T06:30:00",
          "2020-02-24T06:40:00",
          "2020-02-24T06:50:00",
          "2020-02-24T07:00:00",
          "2020-02-24T07:10:00",
          "2020-02-24T07:20:00",
          "2020-02-24T07:30:00",
          "2020-02-24T07:40:00",
          "2020-02-24T07:50:00",
          "2020-02-24T08:00:00",
          "2020-02-24T08:10:00",
          "2020-02-24T08:20:00",
          "2020-02-24T08:30:00",
          "2020-02-24T08:40:00",
          "2020-02-24T08:50:00",
          "2020-02-24T09:00:00",
          "2020-02-24T09:10:00",
          "2020-02-24T09:20:00",
          "2020-02-24T09:30:00",
          "2020-02-24T09:40:00",
          "2020-02-24T09:50:00",
          "2020-02-24T10:00:00",
          "2020-02-24T10:10:00",
          "2020-02-24T10:20:00",
          "2020-02-24T10:30:00",
          "2020-02-24T10:40:00",
          "2020-02-24T10:50:00",
          "2020-02-24T11:00:00",
          "2020-02-24T11:10:00",
          "2020-02-24T11:20:00",
          "2020-02-24T11:30:00",
          "2020-02-24T11:40:00"
         ],
         "y": [
          66.13675976726265,
          39.410598702914314,
          28.922766876695356,
          41.25115124721716,
          22.496322496251413,
          27.92163693238782,
          38.15111948986532,
          49.630197245389546,
          35.78779515379564,
          46.82862414484071,
          48.92546062337969,
          46.80403917314872,
          46.25323011905239,
          42.30042710549541,
          30.69142245871173,
          35.83852872300521,
          63.60468355384375,
          56.848094573744355,
          26.953050787199622,
          43.58473488649119,
          43.04465644970172,
          43.16128818085442,
          34.973260031438556,
          48.570921408135284,
          36.63356184360064,
          42.328010262447606,
          35.17678352465438,
          46.54231928314489,
          40.7995306718655,
          53.54945864280327,
          40.259436252883965,
          47.21398344223973,
          32.295983448192295,
          64.31501570720022,
          42.83766511428207,
          31.02308336147192,
          30.691458039599073,
          31.240839182450866
         ]
        },
        {
         "fill": "tonexty",
         "line": {
          "color": "#bc5090",
          "width": 3
         },
         "name": "Criteria II",
         "showlegend": false,
         "type": "scatter",
         "x": [
          "2020-02-24T05:30:00",
          "2020-02-24T05:40:00",
          "2020-02-24T05:50:00",
          "2020-02-24T06:00:00",
          "2020-02-24T06:10:00",
          "2020-02-24T06:20:00",
          "2020-02-24T06:30:00",
          "2020-02-24T06:40:00",
          "2020-02-24T06:50:00",
          "2020-02-24T07:00:00",
          "2020-02-24T07:10:00",
          "2020-02-24T07:20:00",
          "2020-02-24T07:30:00",
          "2020-02-24T07:40:00",
          "2020-02-24T07:50:00",
          "2020-02-24T08:00:00",
          "2020-02-24T08:10:00",
          "2020-02-24T08:20:00",
          "2020-02-24T08:30:00",
          "2020-02-24T08:40:00",
          "2020-02-24T08:50:00",
          "2020-02-24T09:00:00",
          "2020-02-24T09:10:00",
          "2020-02-24T09:20:00",
          "2020-02-24T09:30:00",
          "2020-02-24T09:40:00",
          "2020-02-24T09:50:00",
          "2020-02-24T10:00:00",
          "2020-02-24T10:10:00",
          "2020-02-24T10:20:00",
          "2020-02-24T10:30:00",
          "2020-02-24T10:40:00",
          "2020-02-24T10:50:00",
          "2020-02-24T11:00:00",
          "2020-02-24T11:10:00",
          "2020-02-24T11:20:00",
          "2020-02-24T11:30:00",
          "2020-02-24T11:40:00"
         ],
         "y": [
          29.863240232737354,
          8.58940129708569,
          -4.922766876695356,
          18.74884875278284,
          1.5036775037485874,
          8.07836306761218,
          21.84888051013468,
          22.369802754610454,
          12.212204846204358,
          25.17137585515929,
          11.074539376620304,
          13.195960826851273,
          13.74676988094761,
          17.69957289450459,
          5.308577541288269,
          12.161471276994789,
          32.39531644615625,
          27.151905426255645,
          -2.9530507871996203,
          16.415265113508806,
          16.95534355029828,
          16.83871181914558,
          13.02673996856144,
          23.429078591864716,
          11.366438156399362,
          17.671989737552398,
          12.823216475345616,
          25.45768071685511,
          19.2004693281345,
          30.45054135719673,
          19.740563747116035,
          24.78601655776027,
          3.7040165518077046,
          43.68498429279978,
          17.162334885717932,
          4.976916638528081,
          5.308541960400927,
          16.759160817549134
         ]
        },
        {
         "line": {
          "color": "#003f5c",
          "width": 5
         },
         "name": "Representative Day",
         "type": "scatter",
         "x": [
          "2020-02-24T05:30:00",
          "2020-02-24T05:40:00",
          "2020-02-24T05:50:00",
          "2020-02-24T06:00:00",
          "2020-02-24T06:10:00",
          "2020-02-24T06:20:00",
          "2020-02-24T06:30:00",
          "2020-02-24T06:40:00",
          "2020-02-24T06:50:00",
          "2020-02-24T07:00:00",
          "2020-02-24T07:10:00",
          "2020-02-24T07:20:00",
          "2020-02-24T07:30:00",
          "2020-02-24T07:40:00",
          "2020-02-24T07:50:00",
          "2020-02-24T08:00:00",
          "2020-02-24T08:10:00",
          "2020-02-24T08:20:00",
          "2020-02-24T08:30:00",
          "2020-02-24T08:40:00",
          "2020-02-24T08:50:00",
          "2020-02-24T09:00:00",
          "2020-02-24T09:10:00",
          "2020-02-24T09:20:00",
          "2020-02-24T09:30:00",
          "2020-02-24T09:40:00",
          "2020-02-24T09:50:00",
          "2020-02-24T10:00:00",
          "2020-02-24T10:10:00",
          "2020-02-24T10:20:00",
          "2020-02-24T10:30:00",
          "2020-02-24T10:40:00",
          "2020-02-24T10:50:00",
          "2020-02-24T11:00:00",
          "2020-02-24T11:10:00",
          "2020-02-24T11:20:00",
          "2020-02-24T11:30:00",
          "2020-02-24T11:40:00"
         ],
         "y": [
          48,
          24,
          12,
          30,
          12,
          18,
          30,
          36,
          24,
          36,
          30,
          30,
          30,
          30,
          18,
          24,
          48,
          42,
          12,
          30,
          30,
          30,
          24,
          36,
          24,
          30,
          24,
          36,
          30,
          42,
          30,
          36,
          18,
          54,
          30,
          18,
          18,
          24
         ]
        },
        {
         "marker": {
          "color": "red",
          "line": {
           "color": "black",
           "width": 2
          },
          "size": 15,
          "symbol": "diamond"
         },
         "mode": "markers",
         "name": "Simulation",
         "type": "scatter",
         "x": [
          "2020-02-24T05:30:00",
          "2020-02-24T05:40:00",
          "2020-02-24T05:50:00",
          "2020-02-24T06:00:00",
          "2020-02-24T06:10:00",
          "2020-02-24T06:20:00",
          "2020-02-24T06:30:00",
          "2020-02-24T06:40:00",
          "2020-02-24T06:50:00",
          "2020-02-24T07:00:00",
          "2020-02-24T07:10:00",
          "2020-02-24T07:20:00",
          "2020-02-24T07:30:00",
          "2020-02-24T07:40:00",
          "2020-02-24T07:50:00",
          "2020-02-24T08:00:00",
          "2020-02-24T08:10:00",
          "2020-02-24T08:20:00",
          "2020-02-24T08:30:00",
          "2020-02-24T08:40:00",
          "2020-02-24T08:50:00",
          "2020-02-24T09:00:00",
          "2020-02-24T09:10:00",
          "2020-02-24T09:20:00",
          "2020-02-24T09:30:00",
          "2020-02-24T09:40:00",
          "2020-02-24T09:50:00",
          "2020-02-24T10:00:00",
          "2020-02-24T10:10:00",
          "2020-02-24T10:20:00",
          "2020-02-24T10:30:00",
          "2020-02-24T10:40:00",
          "2020-02-24T10:50:00",
          "2020-02-24T11:00:00",
          "2020-02-24T11:10:00",
          "2020-02-24T11:20:00",
          "2020-02-24T11:30:00",
          "2020-02-24T11:40:00"
         ],
         "y": [
          36,
          6,
          0,
          18,
          12,
          0,
          42,
          30,
          36,
          12,
          30,
          12,
          12,
          66,
          6,
          18,
          30,
          42,
          18,
          36,
          24,
          36,
          24,
          36,
          0,
          12,
          24,
          36,
          30,
          54,
          12,
          24,
          6,
          60,
          24,
          0,
          18,
          36
         ]
        }
       ],
       "layout": {
        "font": {
         "family": "helvetica",
         "size": 26
        },
        "height": 600,
        "legend": {
         "orientation": "h",
         "x": 1,
         "xanchor": "right",
         "y": 1,
         "yanchor": "top"
        },
        "showlegend": true,
        "template": {
         "data": {
          "bar": [
           {
            "error_x": {
             "color": "rgb(36,36,36)"
            },
            "error_y": {
             "color": "rgb(36,36,36)"
            },
            "marker": {
             "line": {
              "color": "white",
              "width": 0.5
             },
             "pattern": {
              "fillmode": "overlay",
              "size": 10,
              "solidity": 0.2
             }
            },
            "type": "bar"
           }
          ],
          "barpolar": [
           {
            "marker": {
             "line": {
              "color": "white",
              "width": 0.5
             },
             "pattern": {
              "fillmode": "overlay",
              "size": 10,
              "solidity": 0.2
             }
            },
            "type": "barpolar"
           }
          ],
          "carpet": [
           {
            "aaxis": {
             "endlinecolor": "rgb(36,36,36)",
             "gridcolor": "white",
             "linecolor": "white",
             "minorgridcolor": "white",
             "startlinecolor": "rgb(36,36,36)"
            },
            "baxis": {
             "endlinecolor": "rgb(36,36,36)",
             "gridcolor": "white",
             "linecolor": "white",
             "minorgridcolor": "white",
             "startlinecolor": "rgb(36,36,36)"
            },
            "type": "carpet"
           }
          ],
          "choropleth": [
           {
            "colorbar": {
             "outlinewidth": 1,
             "tickcolor": "rgb(36,36,36)",
             "ticks": "outside"
            },
            "type": "choropleth"
           }
          ],
          "contour": [
           {
            "colorbar": {
             "outlinewidth": 1,
             "tickcolor": "rgb(36,36,36)",
             "ticks": "outside"
            },
            "colorscale": [
             [
              0,
              "#440154"
             ],
             [
              0.1111111111111111,
              "#482878"
             ],
             [
              0.2222222222222222,
              "#3e4989"
             ],
             [
              0.3333333333333333,
              "#31688e"
             ],
             [
              0.4444444444444444,
              "#26828e"
             ],
             [
              0.5555555555555556,
              "#1f9e89"
             ],
             [
              0.6666666666666666,
              "#35b779"
             ],
             [
              0.7777777777777778,
              "#6ece58"
             ],
             [
              0.8888888888888888,
              "#b5de2b"
             ],
             [
              1,
              "#fde725"
             ]
            ],
            "type": "contour"
           }
          ],
          "contourcarpet": [
           {
            "colorbar": {
             "outlinewidth": 1,
             "tickcolor": "rgb(36,36,36)",
             "ticks": "outside"
            },
            "type": "contourcarpet"
           }
          ],
          "heatmap": [
           {
            "colorbar": {
             "outlinewidth": 1,
             "tickcolor": "rgb(36,36,36)",
             "ticks": "outside"
            },
            "colorscale": [
             [
              0,
              "#440154"
             ],
             [
              0.1111111111111111,
              "#482878"
             ],
             [
              0.2222222222222222,
              "#3e4989"
             ],
             [
              0.3333333333333333,
              "#31688e"
             ],
             [
              0.4444444444444444,
              "#26828e"
             ],
             [
              0.5555555555555556,
              "#1f9e89"
             ],
             [
              0.6666666666666666,
              "#35b779"
             ],
             [
              0.7777777777777778,
              "#6ece58"
             ],
             [
              0.8888888888888888,
              "#b5de2b"
             ],
             [
              1,
              "#fde725"
             ]
            ],
            "type": "heatmap"
           }
          ],
          "heatmapgl": [
           {
            "colorbar": {
             "outlinewidth": 1,
             "tickcolor": "rgb(36,36,36)",
             "ticks": "outside"
            },
            "colorscale": [
             [
              0,
              "#440154"
             ],
             [
              0.1111111111111111,
              "#482878"
             ],
             [
              0.2222222222222222,
              "#3e4989"
             ],
             [
              0.3333333333333333,
              "#31688e"
             ],
             [
              0.4444444444444444,
              "#26828e"
             ],
             [
              0.5555555555555556,
              "#1f9e89"
             ],
             [
              0.6666666666666666,
              "#35b779"
             ],
             [
              0.7777777777777778,
              "#6ece58"
             ],
             [
              0.8888888888888888,
              "#b5de2b"
             ],
             [
              1,
              "#fde725"
             ]
            ],
            "type": "heatmapgl"
           }
          ],
          "histogram": [
           {
            "marker": {
             "line": {
              "color": "white",
              "width": 0.6
             }
            },
            "type": "histogram"
           }
          ],
          "histogram2d": [
           {
            "colorbar": {
             "outlinewidth": 1,
             "tickcolor": "rgb(36,36,36)",
             "ticks": "outside"
            },
            "colorscale": [
             [
              0,
              "#440154"
             ],
             [
              0.1111111111111111,
              "#482878"
             ],
             [
              0.2222222222222222,
              "#3e4989"
             ],
             [
              0.3333333333333333,
              "#31688e"
             ],
             [
              0.4444444444444444,
              "#26828e"
             ],
             [
              0.5555555555555556,
              "#1f9e89"
             ],
             [
              0.6666666666666666,
              "#35b779"
             ],
             [
              0.7777777777777778,
              "#6ece58"
             ],
             [
              0.8888888888888888,
              "#b5de2b"
             ],
             [
              1,
              "#fde725"
             ]
            ],
            "type": "histogram2d"
           }
          ],
          "histogram2dcontour": [
           {
            "colorbar": {
             "outlinewidth": 1,
             "tickcolor": "rgb(36,36,36)",
             "ticks": "outside"
            },
            "colorscale": [
             [
              0,
              "#440154"
             ],
             [
              0.1111111111111111,
              "#482878"
             ],
             [
              0.2222222222222222,
              "#3e4989"
             ],
             [
              0.3333333333333333,
              "#31688e"
             ],
             [
              0.4444444444444444,
              "#26828e"
             ],
             [
              0.5555555555555556,
              "#1f9e89"
             ],
             [
              0.6666666666666666,
              "#35b779"
             ],
             [
              0.7777777777777778,
              "#6ece58"
             ],
             [
              0.8888888888888888,
              "#b5de2b"
             ],
             [
              1,
              "#fde725"
             ]
            ],
            "type": "histogram2dcontour"
           }
          ],
          "mesh3d": [
           {
            "colorbar": {
             "outlinewidth": 1,
             "tickcolor": "rgb(36,36,36)",
             "ticks": "outside"
            },
            "type": "mesh3d"
           }
          ],
          "parcoords": [
           {
            "line": {
             "colorbar": {
              "outlinewidth": 1,
              "tickcolor": "rgb(36,36,36)",
              "ticks": "outside"
             }
            },
            "type": "parcoords"
           }
          ],
          "pie": [
           {
            "automargin": true,
            "type": "pie"
           }
          ],
          "scatter": [
           {
            "fillpattern": {
             "fillmode": "overlay",
             "size": 10,
             "solidity": 0.2
            },
            "type": "scatter"
           }
          ],
          "scatter3d": [
           {
            "line": {
             "colorbar": {
              "outlinewidth": 1,
              "tickcolor": "rgb(36,36,36)",
              "ticks": "outside"
             }
            },
            "marker": {
             "colorbar": {
              "outlinewidth": 1,
              "tickcolor": "rgb(36,36,36)",
              "ticks": "outside"
             }
            },
            "type": "scatter3d"
           }
          ],
          "scattercarpet": [
           {
            "marker": {
             "colorbar": {
              "outlinewidth": 1,
              "tickcolor": "rgb(36,36,36)",
              "ticks": "outside"
             }
            },
            "type": "scattercarpet"
           }
          ],
          "scattergeo": [
           {
            "marker": {
             "colorbar": {
              "outlinewidth": 1,
              "tickcolor": "rgb(36,36,36)",
              "ticks": "outside"
             }
            },
            "type": "scattergeo"
           }
          ],
          "scattergl": [
           {
            "marker": {
             "colorbar": {
              "outlinewidth": 1,
              "tickcolor": "rgb(36,36,36)",
              "ticks": "outside"
             }
            },
            "type": "scattergl"
           }
          ],
          "scattermapbox": [
           {
            "marker": {
             "colorbar": {
              "outlinewidth": 1,
              "tickcolor": "rgb(36,36,36)",
              "ticks": "outside"
             }
            },
            "type": "scattermapbox"
           }
          ],
          "scatterpolar": [
           {
            "marker": {
             "colorbar": {
              "outlinewidth": 1,
              "tickcolor": "rgb(36,36,36)",
              "ticks": "outside"
             }
            },
            "type": "scatterpolar"
           }
          ],
          "scatterpolargl": [
           {
            "marker": {
             "colorbar": {
              "outlinewidth": 1,
              "tickcolor": "rgb(36,36,36)",
              "ticks": "outside"
             }
            },
            "type": "scatterpolargl"
           }
          ],
          "scatterternary": [
           {
            "marker": {
             "colorbar": {
              "outlinewidth": 1,
              "tickcolor": "rgb(36,36,36)",
              "ticks": "outside"
             }
            },
            "type": "scatterternary"
           }
          ],
          "surface": [
           {
            "colorbar": {
             "outlinewidth": 1,
             "tickcolor": "rgb(36,36,36)",
             "ticks": "outside"
            },
            "colorscale": [
             [
              0,
              "#440154"
             ],
             [
              0.1111111111111111,
              "#482878"
             ],
             [
              0.2222222222222222,
              "#3e4989"
             ],
             [
              0.3333333333333333,
              "#31688e"
             ],
             [
              0.4444444444444444,
              "#26828e"
             ],
             [
              0.5555555555555556,
              "#1f9e89"
             ],
             [
              0.6666666666666666,
              "#35b779"
             ],
             [
              0.7777777777777778,
              "#6ece58"
             ],
             [
              0.8888888888888888,
              "#b5de2b"
             ],
             [
              1,
              "#fde725"
             ]
            ],
            "type": "surface"
           }
          ],
          "table": [
           {
            "cells": {
             "fill": {
              "color": "rgb(237,237,237)"
             },
             "line": {
              "color": "white"
             }
            },
            "header": {
             "fill": {
              "color": "rgb(217,217,217)"
             },
             "line": {
              "color": "white"
             }
            },
            "type": "table"
           }
          ]
         },
         "layout": {
          "annotationdefaults": {
           "arrowhead": 0,
           "arrowwidth": 1
          },
          "autotypenumbers": "strict",
          "coloraxis": {
           "colorbar": {
            "outlinewidth": 1,
            "tickcolor": "rgb(36,36,36)",
            "ticks": "outside"
           }
          },
          "colorscale": {
           "diverging": [
            [
             0,
             "rgb(103,0,31)"
            ],
            [
             0.1,
             "rgb(178,24,43)"
            ],
            [
             0.2,
             "rgb(214,96,77)"
            ],
            [
             0.3,
             "rgb(244,165,130)"
            ],
            [
             0.4,
             "rgb(253,219,199)"
            ],
            [
             0.5,
             "rgb(247,247,247)"
            ],
            [
             0.6,
             "rgb(209,229,240)"
            ],
            [
             0.7,
             "rgb(146,197,222)"
            ],
            [
             0.8,
             "rgb(67,147,195)"
            ],
            [
             0.9,
             "rgb(33,102,172)"
            ],
            [
             1,
             "rgb(5,48,97)"
            ]
           ],
           "sequential": [
            [
             0,
             "#440154"
            ],
            [
             0.1111111111111111,
             "#482878"
            ],
            [
             0.2222222222222222,
             "#3e4989"
            ],
            [
             0.3333333333333333,
             "#31688e"
            ],
            [
             0.4444444444444444,
             "#26828e"
            ],
            [
             0.5555555555555556,
             "#1f9e89"
            ],
            [
             0.6666666666666666,
             "#35b779"
            ],
            [
             0.7777777777777778,
             "#6ece58"
            ],
            [
             0.8888888888888888,
             "#b5de2b"
            ],
            [
             1,
             "#fde725"
            ]
           ],
           "sequentialminus": [
            [
             0,
             "#440154"
            ],
            [
             0.1111111111111111,
             "#482878"
            ],
            [
             0.2222222222222222,
             "#3e4989"
            ],
            [
             0.3333333333333333,
             "#31688e"
            ],
            [
             0.4444444444444444,
             "#26828e"
            ],
            [
             0.5555555555555556,
             "#1f9e89"
            ],
            [
             0.6666666666666666,
             "#35b779"
            ],
            [
             0.7777777777777778,
             "#6ece58"
            ],
            [
             0.8888888888888888,
             "#b5de2b"
            ],
            [
             1,
             "#fde725"
            ]
           ]
          },
          "colorway": [
           "#1F77B4",
           "#FF7F0E",
           "#2CA02C",
           "#D62728",
           "#9467BD",
           "#8C564B",
           "#E377C2",
           "#7F7F7F",
           "#BCBD22",
           "#17BECF"
          ],
          "font": {
           "color": "rgb(36,36,36)"
          },
          "geo": {
           "bgcolor": "white",
           "lakecolor": "white",
           "landcolor": "white",
           "showlakes": true,
           "showland": true,
           "subunitcolor": "white"
          },
          "hoverlabel": {
           "align": "left"
          },
          "hovermode": "closest",
          "mapbox": {
           "style": "light"
          },
          "paper_bgcolor": "white",
          "plot_bgcolor": "white",
          "polar": {
           "angularaxis": {
            "gridcolor": "rgb(232,232,232)",
            "linecolor": "rgb(36,36,36)",
            "showgrid": false,
            "showline": true,
            "ticks": "outside"
           },
           "bgcolor": "white",
           "radialaxis": {
            "gridcolor": "rgb(232,232,232)",
            "linecolor": "rgb(36,36,36)",
            "showgrid": false,
            "showline": true,
            "ticks": "outside"
           }
          },
          "scene": {
           "xaxis": {
            "backgroundcolor": "white",
            "gridcolor": "rgb(232,232,232)",
            "gridwidth": 2,
            "linecolor": "rgb(36,36,36)",
            "showbackground": true,
            "showgrid": false,
            "showline": true,
            "ticks": "outside",
            "zeroline": false,
            "zerolinecolor": "rgb(36,36,36)"
           },
           "yaxis": {
            "backgroundcolor": "white",
            "gridcolor": "rgb(232,232,232)",
            "gridwidth": 2,
            "linecolor": "rgb(36,36,36)",
            "showbackground": true,
            "showgrid": false,
            "showline": true,
            "ticks": "outside",
            "zeroline": false,
            "zerolinecolor": "rgb(36,36,36)"
           },
           "zaxis": {
            "backgroundcolor": "white",
            "gridcolor": "rgb(232,232,232)",
            "gridwidth": 2,
            "linecolor": "rgb(36,36,36)",
            "showbackground": true,
            "showgrid": false,
            "showline": true,
            "ticks": "outside",
            "zeroline": false,
            "zerolinecolor": "rgb(36,36,36)"
           }
          },
          "shapedefaults": {
           "fillcolor": "black",
           "line": {
            "width": 0
           },
           "opacity": 0.3
          },
          "ternary": {
           "aaxis": {
            "gridcolor": "rgb(232,232,232)",
            "linecolor": "rgb(36,36,36)",
            "showgrid": false,
            "showline": true,
            "ticks": "outside"
           },
           "baxis": {
            "gridcolor": "rgb(232,232,232)",
            "linecolor": "rgb(36,36,36)",
            "showgrid": false,
            "showline": true,
            "ticks": "outside"
           },
           "bgcolor": "white",
           "caxis": {
            "gridcolor": "rgb(232,232,232)",
            "linecolor": "rgb(36,36,36)",
            "showgrid": false,
            "showline": true,
            "ticks": "outside"
           }
          },
          "title": {
           "x": 0.05
          },
          "xaxis": {
           "automargin": true,
           "gridcolor": "rgb(232,232,232)",
           "linecolor": "rgb(36,36,36)",
           "showgrid": false,
           "showline": true,
           "ticks": "outside",
           "title": {
            "standoff": 15
           },
           "zeroline": false,
           "zerolinecolor": "rgb(36,36,36)"
          },
          "yaxis": {
           "automargin": true,
           "gridcolor": "rgb(232,232,232)",
           "linecolor": "rgb(36,36,36)",
           "showgrid": false,
           "showline": true,
           "ticks": "outside",
           "title": {
            "standoff": 15
           },
           "zeroline": false,
           "zerolinecolor": "rgb(36,36,36)"
          }
         }
        },
        "width": 1200,
        "xaxis": {
         "tickangle": 15
        },
        "yaxis": {
         "range": [
          0,
          250
         ],
         "showgrid": true,
         "title": {
          "text": "Volume [Vehicles/Hour]"
         }
        }
       }
      },
      "text/html": [
       "<div>                            <div id=\"12845c7e-2b62-469c-b226-9e66c5b3e2f5\" class=\"plotly-graph-div\" style=\"height:600px; width:1200px;\"></div>            <script type=\"text/javascript\">                require([\"plotly\"], function(Plotly) {                    window.PLOTLYENV=window.PLOTLYENV || {};                                    if (document.getElementById(\"12845c7e-2b62-469c-b226-9e66c5b3e2f5\")) {                    Plotly.newPlot(                        \"12845c7e-2b62-469c-b226-9e66c5b3e2f5\",                        [{\"line\":{\"color\":\"#ffa600\",\"width\":3},\"name\":\"Criteria I.\",\"x\":[\"2020-02-24T05:30:00\",\"2020-02-24T05:40:00\",\"2020-02-24T05:50:00\",\"2020-02-24T06:00:00\",\"2020-02-24T06:10:00\",\"2020-02-24T06:20:00\",\"2020-02-24T06:30:00\",\"2020-02-24T06:40:00\",\"2020-02-24T06:50:00\",\"2020-02-24T07:00:00\",\"2020-02-24T07:10:00\",\"2020-02-24T07:20:00\",\"2020-02-24T07:30:00\",\"2020-02-24T07:40:00\",\"2020-02-24T07:50:00\",\"2020-02-24T08:00:00\",\"2020-02-24T08:10:00\",\"2020-02-24T08:20:00\",\"2020-02-24T08:30:00\",\"2020-02-24T08:40:00\",\"2020-02-24T08:50:00\",\"2020-02-24T09:00:00\",\"2020-02-24T09:10:00\",\"2020-02-24T09:20:00\",\"2020-02-24T09:30:00\",\"2020-02-24T09:40:00\",\"2020-02-24T09:50:00\",\"2020-02-24T10:00:00\",\"2020-02-24T10:10:00\",\"2020-02-24T10:20:00\",\"2020-02-24T10:30:00\",\"2020-02-24T10:40:00\",\"2020-02-24T10:50:00\",\"2020-02-24T11:00:00\",\"2020-02-24T11:10:00\",\"2020-02-24T11:20:00\",\"2020-02-24T11:30:00\",\"2020-02-24T11:40:00\"],\"y\":[83.54804914383479,54.20477345771205,45.168623078322895,52.052256444545634,32.57279209265277,37.446408387480126,45.97619420013603,62.715186600963506,47.10407850143946,57.22410332388779,67.0939028218242,62.9359167793715,61.856331033342684,54.108837126771,42.875188019075,47.20351629709022,78.58517976553375,71.10226536453894,41.307979542911255,56.62608037752274,55.56752664141537,55.79612483447467,45.507589661619576,60.63900595994516,48.761781213457255,54.1629001143973,45.906495708322595,56.66294579496399,51.16708011685638,64.6369389398944,50.10849505565257,57.97940754678987,46.0201275584569,74.21743078611242,55.161823623992845,43.52524338848496,42.87525775761418,38.1920447976037],\"type\":\"scatter\"},{\"fill\":\"tonexty\",\"line\":{\"color\":\"#ffa600\",\"width\":3},\"name\":\"Criteria I\",\"showlegend\":false,\"x\":[\"2020-02-24T05:30:00\",\"2020-02-24T05:40:00\",\"2020-02-24T05:50:00\",\"2020-02-24T06:00:00\",\"2020-02-24T06:10:00\",\"2020-02-24T06:20:00\",\"2020-02-24T06:30:00\",\"2020-02-24T06:40:00\",\"2020-02-24T06:50:00\",\"2020-02-24T07:00:00\",\"2020-02-24T07:10:00\",\"2020-02-24T07:20:00\",\"2020-02-24T07:30:00\",\"2020-02-24T07:40:00\",\"2020-02-24T07:50:00\",\"2020-02-24T08:00:00\",\"2020-02-24T08:10:00\",\"2020-02-24T08:20:00\",\"2020-02-24T08:30:00\",\"2020-02-24T08:40:00\",\"2020-02-24T08:50:00\",\"2020-02-24T09:00:00\",\"2020-02-24T09:10:00\",\"2020-02-24T09:20:00\",\"2020-02-24T09:30:00\",\"2020-02-24T09:40:00\",\"2020-02-24T09:50:00\",\"2020-02-24T10:00:00\",\"2020-02-24T10:10:00\",\"2020-02-24T10:20:00\",\"2020-02-24T10:30:00\",\"2020-02-24T10:40:00\",\"2020-02-24T10:50:00\",\"2020-02-24T11:00:00\",\"2020-02-24T11:10:00\",\"2020-02-24T11:20:00\",\"2020-02-24T11:30:00\",\"2020-02-24T11:40:00\"],\"y\":[12.451950856165212,-6.204773457712047,-21.168623078322895,7.94774355545437,-8.572792092652769,-1.4464083874801261,14.023805799863974,9.28481339903649,0.8959214985605435,14.775896676112211,-7.0939028218242015,-2.935916779371503,-1.8563310333426841,5.891162873229,-6.875188019074994,0.7964837029097858,17.414820234466248,12.897734635461063,-17.307979542911255,3.37391962247726,4.432473358584634,4.203875165525332,2.4924103383804237,11.360994040054841,-0.761781213457251,5.837099885602701,2.0935042916774087,15.337054205036011,8.832919883143617,19.363061060105593,9.891504944347428,14.020592453210131,-10.020127558456899,33.782569213887584,4.8381763760071514,-7.525243388484959,-6.8752577576141825,9.807955202396304],\"type\":\"scatter\"},{\"line\":{\"color\":\"#bc5090\",\"width\":3},\"name\":\"Criteria II.\",\"x\":[\"2020-02-24T05:30:00\",\"2020-02-24T05:40:00\",\"2020-02-24T05:50:00\",\"2020-02-24T06:00:00\",\"2020-02-24T06:10:00\",\"2020-02-24T06:20:00\",\"2020-02-24T06:30:00\",\"2020-02-24T06:40:00\",\"2020-02-24T06:50:00\",\"2020-02-24T07:00:00\",\"2020-02-24T07:10:00\",\"2020-02-24T07:20:00\",\"2020-02-24T07:30:00\",\"2020-02-24T07:40:00\",\"2020-02-24T07:50:00\",\"2020-02-24T08:00:00\",\"2020-02-24T08:10:00\",\"2020-02-24T08:20:00\",\"2020-02-24T08:30:00\",\"2020-02-24T08:40:00\",\"2020-02-24T08:50:00\",\"2020-02-24T09:00:00\",\"2020-02-24T09:10:00\",\"2020-02-24T09:20:00\",\"2020-02-24T09:30:00\",\"2020-02-24T09:40:00\",\"2020-02-24T09:50:00\",\"2020-02-24T10:00:00\",\"2020-02-24T10:10:00\",\"2020-02-24T10:20:00\",\"2020-02-24T10:30:00\",\"2020-02-24T10:40:00\",\"2020-02-24T10:50:00\",\"2020-02-24T11:00:00\",\"2020-02-24T11:10:00\",\"2020-02-24T11:20:00\",\"2020-02-24T11:30:00\",\"2020-02-24T11:40:00\"],\"y\":[66.13675976726265,39.410598702914314,28.922766876695356,41.25115124721716,22.496322496251413,27.92163693238782,38.15111948986532,49.630197245389546,35.78779515379564,46.82862414484071,48.92546062337969,46.80403917314872,46.25323011905239,42.30042710549541,30.69142245871173,35.83852872300521,63.60468355384375,56.848094573744355,26.953050787199622,43.58473488649119,43.04465644970172,43.16128818085442,34.973260031438556,48.570921408135284,36.63356184360064,42.328010262447606,35.17678352465438,46.54231928314489,40.7995306718655,53.54945864280327,40.259436252883965,47.21398344223973,32.295983448192295,64.31501570720022,42.83766511428207,31.02308336147192,30.691458039599073,31.240839182450866],\"type\":\"scatter\"},{\"fill\":\"tonexty\",\"line\":{\"color\":\"#bc5090\",\"width\":3},\"name\":\"Criteria II\",\"showlegend\":false,\"x\":[\"2020-02-24T05:30:00\",\"2020-02-24T05:40:00\",\"2020-02-24T05:50:00\",\"2020-02-24T06:00:00\",\"2020-02-24T06:10:00\",\"2020-02-24T06:20:00\",\"2020-02-24T06:30:00\",\"2020-02-24T06:40:00\",\"2020-02-24T06:50:00\",\"2020-02-24T07:00:00\",\"2020-02-24T07:10:00\",\"2020-02-24T07:20:00\",\"2020-02-24T07:30:00\",\"2020-02-24T07:40:00\",\"2020-02-24T07:50:00\",\"2020-02-24T08:00:00\",\"2020-02-24T08:10:00\",\"2020-02-24T08:20:00\",\"2020-02-24T08:30:00\",\"2020-02-24T08:40:00\",\"2020-02-24T08:50:00\",\"2020-02-24T09:00:00\",\"2020-02-24T09:10:00\",\"2020-02-24T09:20:00\",\"2020-02-24T09:30:00\",\"2020-02-24T09:40:00\",\"2020-02-24T09:50:00\",\"2020-02-24T10:00:00\",\"2020-02-24T10:10:00\",\"2020-02-24T10:20:00\",\"2020-02-24T10:30:00\",\"2020-02-24T10:40:00\",\"2020-02-24T10:50:00\",\"2020-02-24T11:00:00\",\"2020-02-24T11:10:00\",\"2020-02-24T11:20:00\",\"2020-02-24T11:30:00\",\"2020-02-24T11:40:00\"],\"y\":[29.863240232737354,8.58940129708569,-4.922766876695356,18.74884875278284,1.5036775037485874,8.07836306761218,21.84888051013468,22.369802754610454,12.212204846204358,25.17137585515929,11.074539376620304,13.195960826851273,13.74676988094761,17.69957289450459,5.308577541288269,12.161471276994789,32.39531644615625,27.151905426255645,-2.9530507871996203,16.415265113508806,16.95534355029828,16.83871181914558,13.02673996856144,23.429078591864716,11.366438156399362,17.671989737552398,12.823216475345616,25.45768071685511,19.2004693281345,30.45054135719673,19.740563747116035,24.78601655776027,3.7040165518077046,43.68498429279978,17.162334885717932,4.976916638528081,5.308541960400927,16.759160817549134],\"type\":\"scatter\"},{\"line\":{\"color\":\"#003f5c\",\"width\":5},\"name\":\"Representative Day\",\"x\":[\"2020-02-24T05:30:00\",\"2020-02-24T05:40:00\",\"2020-02-24T05:50:00\",\"2020-02-24T06:00:00\",\"2020-02-24T06:10:00\",\"2020-02-24T06:20:00\",\"2020-02-24T06:30:00\",\"2020-02-24T06:40:00\",\"2020-02-24T06:50:00\",\"2020-02-24T07:00:00\",\"2020-02-24T07:10:00\",\"2020-02-24T07:20:00\",\"2020-02-24T07:30:00\",\"2020-02-24T07:40:00\",\"2020-02-24T07:50:00\",\"2020-02-24T08:00:00\",\"2020-02-24T08:10:00\",\"2020-02-24T08:20:00\",\"2020-02-24T08:30:00\",\"2020-02-24T08:40:00\",\"2020-02-24T08:50:00\",\"2020-02-24T09:00:00\",\"2020-02-24T09:10:00\",\"2020-02-24T09:20:00\",\"2020-02-24T09:30:00\",\"2020-02-24T09:40:00\",\"2020-02-24T09:50:00\",\"2020-02-24T10:00:00\",\"2020-02-24T10:10:00\",\"2020-02-24T10:20:00\",\"2020-02-24T10:30:00\",\"2020-02-24T10:40:00\",\"2020-02-24T10:50:00\",\"2020-02-24T11:00:00\",\"2020-02-24T11:10:00\",\"2020-02-24T11:20:00\",\"2020-02-24T11:30:00\",\"2020-02-24T11:40:00\"],\"y\":[48.0,24.0,12.0,30.0,12.0,18.0,30.0,36.0,24.0,36.0,30.0,30.0,30.0,30.0,18.0,24.0,48.0,42.0,12.0,30.0,30.0,30.0,24.0,36.0,24.0,30.0,24.0,36.0,30.0,42.0,30.0,36.0,18.0,54.0,30.0,18.0,18.0,24.0],\"type\":\"scatter\"},{\"marker\":{\"color\":\"red\",\"line\":{\"color\":\"black\",\"width\":2},\"size\":15,\"symbol\":\"diamond\"},\"mode\":\"markers\",\"name\":\"Simulation\",\"x\":[\"2020-02-24T05:30:00\",\"2020-02-24T05:40:00\",\"2020-02-24T05:50:00\",\"2020-02-24T06:00:00\",\"2020-02-24T06:10:00\",\"2020-02-24T06:20:00\",\"2020-02-24T06:30:00\",\"2020-02-24T06:40:00\",\"2020-02-24T06:50:00\",\"2020-02-24T07:00:00\",\"2020-02-24T07:10:00\",\"2020-02-24T07:20:00\",\"2020-02-24T07:30:00\",\"2020-02-24T07:40:00\",\"2020-02-24T07:50:00\",\"2020-02-24T08:00:00\",\"2020-02-24T08:10:00\",\"2020-02-24T08:20:00\",\"2020-02-24T08:30:00\",\"2020-02-24T08:40:00\",\"2020-02-24T08:50:00\",\"2020-02-24T09:00:00\",\"2020-02-24T09:10:00\",\"2020-02-24T09:20:00\",\"2020-02-24T09:30:00\",\"2020-02-24T09:40:00\",\"2020-02-24T09:50:00\",\"2020-02-24T10:00:00\",\"2020-02-24T10:10:00\",\"2020-02-24T10:20:00\",\"2020-02-24T10:30:00\",\"2020-02-24T10:40:00\",\"2020-02-24T10:50:00\",\"2020-02-24T11:00:00\",\"2020-02-24T11:10:00\",\"2020-02-24T11:20:00\",\"2020-02-24T11:30:00\",\"2020-02-24T11:40:00\"],\"y\":[36.0,6.0,0.0,18.0,12.0,0.0,42.0,30.0,36.0,12.0,30.0,12.0,12.0,66.0,6.0,18.0,30.0,42.0,18.0,36.0,24.0,36.0,24.0,36.0,0.0,12.0,24.0,36.0,30.0,54.0,12.0,24.0,6.0,60.0,24.0,0.0,18.0,36.0],\"type\":\"scatter\"}],                        {\"template\":{\"data\":{\"barpolar\":[{\"marker\":{\"line\":{\"color\":\"white\",\"width\":0.5},\"pattern\":{\"fillmode\":\"overlay\",\"size\":10,\"solidity\":0.2}},\"type\":\"barpolar\"}],\"bar\":[{\"error_x\":{\"color\":\"rgb(36,36,36)\"},\"error_y\":{\"color\":\"rgb(36,36,36)\"},\"marker\":{\"line\":{\"color\":\"white\",\"width\":0.5},\"pattern\":{\"fillmode\":\"overlay\",\"size\":10,\"solidity\":0.2}},\"type\":\"bar\"}],\"carpet\":[{\"aaxis\":{\"endlinecolor\":\"rgb(36,36,36)\",\"gridcolor\":\"white\",\"linecolor\":\"white\",\"minorgridcolor\":\"white\",\"startlinecolor\":\"rgb(36,36,36)\"},\"baxis\":{\"endlinecolor\":\"rgb(36,36,36)\",\"gridcolor\":\"white\",\"linecolor\":\"white\",\"minorgridcolor\":\"white\",\"startlinecolor\":\"rgb(36,36,36)\"},\"type\":\"carpet\"}],\"choropleth\":[{\"colorbar\":{\"outlinewidth\":1,\"tickcolor\":\"rgb(36,36,36)\",\"ticks\":\"outside\"},\"type\":\"choropleth\"}],\"contourcarpet\":[{\"colorbar\":{\"outlinewidth\":1,\"tickcolor\":\"rgb(36,36,36)\",\"ticks\":\"outside\"},\"type\":\"contourcarpet\"}],\"contour\":[{\"colorbar\":{\"outlinewidth\":1,\"tickcolor\":\"rgb(36,36,36)\",\"ticks\":\"outside\"},\"colorscale\":[[0.0,\"#440154\"],[0.1111111111111111,\"#482878\"],[0.2222222222222222,\"#3e4989\"],[0.3333333333333333,\"#31688e\"],[0.4444444444444444,\"#26828e\"],[0.5555555555555556,\"#1f9e89\"],[0.6666666666666666,\"#35b779\"],[0.7777777777777778,\"#6ece58\"],[0.8888888888888888,\"#b5de2b\"],[1.0,\"#fde725\"]],\"type\":\"contour\"}],\"heatmapgl\":[{\"colorbar\":{\"outlinewidth\":1,\"tickcolor\":\"rgb(36,36,36)\",\"ticks\":\"outside\"},\"colorscale\":[[0.0,\"#440154\"],[0.1111111111111111,\"#482878\"],[0.2222222222222222,\"#3e4989\"],[0.3333333333333333,\"#31688e\"],[0.4444444444444444,\"#26828e\"],[0.5555555555555556,\"#1f9e89\"],[0.6666666666666666,\"#35b779\"],[0.7777777777777778,\"#6ece58\"],[0.8888888888888888,\"#b5de2b\"],[1.0,\"#fde725\"]],\"type\":\"heatmapgl\"}],\"heatmap\":[{\"colorbar\":{\"outlinewidth\":1,\"tickcolor\":\"rgb(36,36,36)\",\"ticks\":\"outside\"},\"colorscale\":[[0.0,\"#440154\"],[0.1111111111111111,\"#482878\"],[0.2222222222222222,\"#3e4989\"],[0.3333333333333333,\"#31688e\"],[0.4444444444444444,\"#26828e\"],[0.5555555555555556,\"#1f9e89\"],[0.6666666666666666,\"#35b779\"],[0.7777777777777778,\"#6ece58\"],[0.8888888888888888,\"#b5de2b\"],[1.0,\"#fde725\"]],\"type\":\"heatmap\"}],\"histogram2dcontour\":[{\"colorbar\":{\"outlinewidth\":1,\"tickcolor\":\"rgb(36,36,36)\",\"ticks\":\"outside\"},\"colorscale\":[[0.0,\"#440154\"],[0.1111111111111111,\"#482878\"],[0.2222222222222222,\"#3e4989\"],[0.3333333333333333,\"#31688e\"],[0.4444444444444444,\"#26828e\"],[0.5555555555555556,\"#1f9e89\"],[0.6666666666666666,\"#35b779\"],[0.7777777777777778,\"#6ece58\"],[0.8888888888888888,\"#b5de2b\"],[1.0,\"#fde725\"]],\"type\":\"histogram2dcontour\"}],\"histogram2d\":[{\"colorbar\":{\"outlinewidth\":1,\"tickcolor\":\"rgb(36,36,36)\",\"ticks\":\"outside\"},\"colorscale\":[[0.0,\"#440154\"],[0.1111111111111111,\"#482878\"],[0.2222222222222222,\"#3e4989\"],[0.3333333333333333,\"#31688e\"],[0.4444444444444444,\"#26828e\"],[0.5555555555555556,\"#1f9e89\"],[0.6666666666666666,\"#35b779\"],[0.7777777777777778,\"#6ece58\"],[0.8888888888888888,\"#b5de2b\"],[1.0,\"#fde725\"]],\"type\":\"histogram2d\"}],\"histogram\":[{\"marker\":{\"line\":{\"color\":\"white\",\"width\":0.6}},\"type\":\"histogram\"}],\"mesh3d\":[{\"colorbar\":{\"outlinewidth\":1,\"tickcolor\":\"rgb(36,36,36)\",\"ticks\":\"outside\"},\"type\":\"mesh3d\"}],\"parcoords\":[{\"line\":{\"colorbar\":{\"outlinewidth\":1,\"tickcolor\":\"rgb(36,36,36)\",\"ticks\":\"outside\"}},\"type\":\"parcoords\"}],\"pie\":[{\"automargin\":true,\"type\":\"pie\"}],\"scatter3d\":[{\"line\":{\"colorbar\":{\"outlinewidth\":1,\"tickcolor\":\"rgb(36,36,36)\",\"ticks\":\"outside\"}},\"marker\":{\"colorbar\":{\"outlinewidth\":1,\"tickcolor\":\"rgb(36,36,36)\",\"ticks\":\"outside\"}},\"type\":\"scatter3d\"}],\"scattercarpet\":[{\"marker\":{\"colorbar\":{\"outlinewidth\":1,\"tickcolor\":\"rgb(36,36,36)\",\"ticks\":\"outside\"}},\"type\":\"scattercarpet\"}],\"scattergeo\":[{\"marker\":{\"colorbar\":{\"outlinewidth\":1,\"tickcolor\":\"rgb(36,36,36)\",\"ticks\":\"outside\"}},\"type\":\"scattergeo\"}],\"scattergl\":[{\"marker\":{\"colorbar\":{\"outlinewidth\":1,\"tickcolor\":\"rgb(36,36,36)\",\"ticks\":\"outside\"}},\"type\":\"scattergl\"}],\"scattermapbox\":[{\"marker\":{\"colorbar\":{\"outlinewidth\":1,\"tickcolor\":\"rgb(36,36,36)\",\"ticks\":\"outside\"}},\"type\":\"scattermapbox\"}],\"scatterpolargl\":[{\"marker\":{\"colorbar\":{\"outlinewidth\":1,\"tickcolor\":\"rgb(36,36,36)\",\"ticks\":\"outside\"}},\"type\":\"scatterpolargl\"}],\"scatterpolar\":[{\"marker\":{\"colorbar\":{\"outlinewidth\":1,\"tickcolor\":\"rgb(36,36,36)\",\"ticks\":\"outside\"}},\"type\":\"scatterpolar\"}],\"scatter\":[{\"fillpattern\":{\"fillmode\":\"overlay\",\"size\":10,\"solidity\":0.2},\"type\":\"scatter\"}],\"scatterternary\":[{\"marker\":{\"colorbar\":{\"outlinewidth\":1,\"tickcolor\":\"rgb(36,36,36)\",\"ticks\":\"outside\"}},\"type\":\"scatterternary\"}],\"surface\":[{\"colorbar\":{\"outlinewidth\":1,\"tickcolor\":\"rgb(36,36,36)\",\"ticks\":\"outside\"},\"colorscale\":[[0.0,\"#440154\"],[0.1111111111111111,\"#482878\"],[0.2222222222222222,\"#3e4989\"],[0.3333333333333333,\"#31688e\"],[0.4444444444444444,\"#26828e\"],[0.5555555555555556,\"#1f9e89\"],[0.6666666666666666,\"#35b779\"],[0.7777777777777778,\"#6ece58\"],[0.8888888888888888,\"#b5de2b\"],[1.0,\"#fde725\"]],\"type\":\"surface\"}],\"table\":[{\"cells\":{\"fill\":{\"color\":\"rgb(237,237,237)\"},\"line\":{\"color\":\"white\"}},\"header\":{\"fill\":{\"color\":\"rgb(217,217,217)\"},\"line\":{\"color\":\"white\"}},\"type\":\"table\"}]},\"layout\":{\"annotationdefaults\":{\"arrowhead\":0,\"arrowwidth\":1},\"autotypenumbers\":\"strict\",\"coloraxis\":{\"colorbar\":{\"outlinewidth\":1,\"tickcolor\":\"rgb(36,36,36)\",\"ticks\":\"outside\"}},\"colorscale\":{\"diverging\":[[0.0,\"rgb(103,0,31)\"],[0.1,\"rgb(178,24,43)\"],[0.2,\"rgb(214,96,77)\"],[0.3,\"rgb(244,165,130)\"],[0.4,\"rgb(253,219,199)\"],[0.5,\"rgb(247,247,247)\"],[0.6,\"rgb(209,229,240)\"],[0.7,\"rgb(146,197,222)\"],[0.8,\"rgb(67,147,195)\"],[0.9,\"rgb(33,102,172)\"],[1.0,\"rgb(5,48,97)\"]],\"sequential\":[[0.0,\"#440154\"],[0.1111111111111111,\"#482878\"],[0.2222222222222222,\"#3e4989\"],[0.3333333333333333,\"#31688e\"],[0.4444444444444444,\"#26828e\"],[0.5555555555555556,\"#1f9e89\"],[0.6666666666666666,\"#35b779\"],[0.7777777777777778,\"#6ece58\"],[0.8888888888888888,\"#b5de2b\"],[1.0,\"#fde725\"]],\"sequentialminus\":[[0.0,\"#440154\"],[0.1111111111111111,\"#482878\"],[0.2222222222222222,\"#3e4989\"],[0.3333333333333333,\"#31688e\"],[0.4444444444444444,\"#26828e\"],[0.5555555555555556,\"#1f9e89\"],[0.6666666666666666,\"#35b779\"],[0.7777777777777778,\"#6ece58\"],[0.8888888888888888,\"#b5de2b\"],[1.0,\"#fde725\"]]},\"colorway\":[\"#1F77B4\",\"#FF7F0E\",\"#2CA02C\",\"#D62728\",\"#9467BD\",\"#8C564B\",\"#E377C2\",\"#7F7F7F\",\"#BCBD22\",\"#17BECF\"],\"font\":{\"color\":\"rgb(36,36,36)\"},\"geo\":{\"bgcolor\":\"white\",\"lakecolor\":\"white\",\"landcolor\":\"white\",\"showlakes\":true,\"showland\":true,\"subunitcolor\":\"white\"},\"hoverlabel\":{\"align\":\"left\"},\"hovermode\":\"closest\",\"mapbox\":{\"style\":\"light\"},\"paper_bgcolor\":\"white\",\"plot_bgcolor\":\"white\",\"polar\":{\"angularaxis\":{\"gridcolor\":\"rgb(232,232,232)\",\"linecolor\":\"rgb(36,36,36)\",\"showgrid\":false,\"showline\":true,\"ticks\":\"outside\"},\"bgcolor\":\"white\",\"radialaxis\":{\"gridcolor\":\"rgb(232,232,232)\",\"linecolor\":\"rgb(36,36,36)\",\"showgrid\":false,\"showline\":true,\"ticks\":\"outside\"}},\"scene\":{\"xaxis\":{\"backgroundcolor\":\"white\",\"gridcolor\":\"rgb(232,232,232)\",\"gridwidth\":2,\"linecolor\":\"rgb(36,36,36)\",\"showbackground\":true,\"showgrid\":false,\"showline\":true,\"ticks\":\"outside\",\"zeroline\":false,\"zerolinecolor\":\"rgb(36,36,36)\"},\"yaxis\":{\"backgroundcolor\":\"white\",\"gridcolor\":\"rgb(232,232,232)\",\"gridwidth\":2,\"linecolor\":\"rgb(36,36,36)\",\"showbackground\":true,\"showgrid\":false,\"showline\":true,\"ticks\":\"outside\",\"zeroline\":false,\"zerolinecolor\":\"rgb(36,36,36)\"},\"zaxis\":{\"backgroundcolor\":\"white\",\"gridcolor\":\"rgb(232,232,232)\",\"gridwidth\":2,\"linecolor\":\"rgb(36,36,36)\",\"showbackground\":true,\"showgrid\":false,\"showline\":true,\"ticks\":\"outside\",\"zeroline\":false,\"zerolinecolor\":\"rgb(36,36,36)\"}},\"shapedefaults\":{\"fillcolor\":\"black\",\"line\":{\"width\":0},\"opacity\":0.3},\"ternary\":{\"aaxis\":{\"gridcolor\":\"rgb(232,232,232)\",\"linecolor\":\"rgb(36,36,36)\",\"showgrid\":false,\"showline\":true,\"ticks\":\"outside\"},\"baxis\":{\"gridcolor\":\"rgb(232,232,232)\",\"linecolor\":\"rgb(36,36,36)\",\"showgrid\":false,\"showline\":true,\"ticks\":\"outside\"},\"bgcolor\":\"white\",\"caxis\":{\"gridcolor\":\"rgb(232,232,232)\",\"linecolor\":\"rgb(36,36,36)\",\"showgrid\":false,\"showline\":true,\"ticks\":\"outside\"}},\"title\":{\"x\":0.05},\"xaxis\":{\"automargin\":true,\"gridcolor\":\"rgb(232,232,232)\",\"linecolor\":\"rgb(36,36,36)\",\"showgrid\":false,\"showline\":true,\"ticks\":\"outside\",\"title\":{\"standoff\":15},\"zeroline\":false,\"zerolinecolor\":\"rgb(36,36,36)\"},\"yaxis\":{\"automargin\":true,\"gridcolor\":\"rgb(232,232,232)\",\"linecolor\":\"rgb(36,36,36)\",\"showgrid\":false,\"showline\":true,\"ticks\":\"outside\",\"title\":{\"standoff\":15},\"zeroline\":false,\"zerolinecolor\":\"rgb(36,36,36)\"}}},\"yaxis\":{\"title\":{\"text\":\"Volume [Vehicles/Hour]\"},\"showgrid\":true,\"range\":[0,250]},\"font\":{\"family\":\"helvetica\",\"size\":26},\"legend\":{\"yanchor\":\"top\",\"y\":1.0,\"xanchor\":\"right\",\"x\":1,\"orientation\":\"h\"},\"xaxis\":{\"tickangle\":15},\"height\":600,\"width\":1200,\"showlegend\":true},                        {\"responsive\": true}                    ).then(function(){\n",
       "                            \n",
       "var gd = document.getElementById('12845c7e-2b62-469c-b226-9e66c5b3e2f5');\n",
       "var x = new MutationObserver(function (mutations, observer) {{\n",
       "        var display = window.getComputedStyle(gd).display;\n",
       "        if (!display || display === 'none') {{\n",
       "            console.log([gd, 'removed!']);\n",
       "            Plotly.purge(gd);\n",
       "            observer.disconnect();\n",
       "        }}\n",
       "}});\n",
       "\n",
       "// Listen for the removal of the full notebook cells\n",
       "var notebookContainer = gd.closest('#notebook-container');\n",
       "if (notebookContainer) {{\n",
       "    x.observe(notebookContainer, {childList: true});\n",
       "}}\n",
       "\n",
       "// Listen for the clearing of the current output cell\n",
       "var outputEl = gd.closest('.output');\n",
       "if (outputEl) {{\n",
       "    x.observe(outputEl, {childList: true});\n",
       "}}\n",
       "\n",
       "                        })                };                });            </script>        </div>"
      ]
     },
     "metadata": {},
     "output_type": "display_data"
    },
    {
     "name": "stdout",
     "output_type": "stream",
     "text": [
      "{63082002-4.png/TL1-NB},%\n"
     ]
    },
    {
     "data": {
      "application/vnd.plotly.v1+json": {
       "config": {
        "plotlyServerURL": "https://plot.ly"
       },
       "data": [
        {
         "line": {
          "color": "#ffa600",
          "width": 3
         },
         "name": "Criteria I.",
         "type": "scatter",
         "x": [
          "2020-02-24T05:30:00",
          "2020-02-24T05:40:00",
          "2020-02-24T05:50:00",
          "2020-02-24T06:00:00",
          "2020-02-24T06:10:00",
          "2020-02-24T06:20:00",
          "2020-02-24T06:30:00",
          "2020-02-24T06:40:00",
          "2020-02-24T06:50:00",
          "2020-02-24T07:00:00",
          "2020-02-24T07:10:00",
          "2020-02-24T07:20:00",
          "2020-02-24T07:30:00",
          "2020-02-24T07:40:00",
          "2020-02-24T07:50:00",
          "2020-02-24T08:00:00",
          "2020-02-24T08:10:00",
          "2020-02-24T08:20:00",
          "2020-02-24T08:30:00",
          "2020-02-24T08:40:00",
          "2020-02-24T08:50:00",
          "2020-02-24T09:00:00",
          "2020-02-24T09:10:00",
          "2020-02-24T09:20:00",
          "2020-02-24T09:30:00",
          "2020-02-24T09:40:00",
          "2020-02-24T09:50:00",
          "2020-02-24T10:00:00",
          "2020-02-24T10:10:00",
          "2020-02-24T10:20:00",
          "2020-02-24T10:30:00",
          "2020-02-24T10:40:00",
          "2020-02-24T10:50:00",
          "2020-02-24T11:00:00",
          "2020-02-24T11:10:00",
          "2020-02-24T11:20:00",
          "2020-02-24T11:30:00",
          "2020-02-24T11:40:00"
         ],
         "y": [
          548.7307744027127,
          756.3461849918481,
          592.6488754857348,
          507.4525811993936,
          495.83848801157507,
          533.4498373805221,
          781.9561718777603,
          680.8441869879788,
          789.1433088203609,
          759.1359702354092,
          816.4727024281817,
          1018.3117449616448,
          704.0052778395593,
          662.9579180921912,
          758.5419016821772,
          664.4687501704898,
          643.7909209273488,
          651.7592962231248,
          663.568738932111,
          821.1906800897451,
          650.7905547391495,
          677.1439894466355,
          639.5404607484684,
          704.1178515113625,
          637.695588645384,
          733.4121162291082,
          671.4223382896957,
          677.8094688713745,
          681.2078045504819,
          652.2685463255618,
          726.628322668987,
          739.3218637472598,
          705.2479001433765,
          735.4841894819334,
          799.6977898014508,
          810.3719272689519,
          834.5364134049012,
          727.42475367248
         ]
        },
        {
         "fill": "tonexty",
         "line": {
          "color": "#ffa600",
          "width": 3
         },
         "name": "Criteria I",
         "showlegend": false,
         "type": "scatter",
         "x": [
          "2020-02-24T05:30:00",
          "2020-02-24T05:40:00",
          "2020-02-24T05:50:00",
          "2020-02-24T06:00:00",
          "2020-02-24T06:10:00",
          "2020-02-24T06:20:00",
          "2020-02-24T06:30:00",
          "2020-02-24T06:40:00",
          "2020-02-24T06:50:00",
          "2020-02-24T07:00:00",
          "2020-02-24T07:10:00",
          "2020-02-24T07:20:00",
          "2020-02-24T07:30:00",
          "2020-02-24T07:40:00",
          "2020-02-24T07:50:00",
          "2020-02-24T08:00:00",
          "2020-02-24T08:10:00",
          "2020-02-24T08:20:00",
          "2020-02-24T08:30:00",
          "2020-02-24T08:40:00",
          "2020-02-24T08:50:00",
          "2020-02-24T09:00:00",
          "2020-02-24T09:10:00",
          "2020-02-24T09:20:00",
          "2020-02-24T09:30:00",
          "2020-02-24T09:40:00",
          "2020-02-24T09:50:00",
          "2020-02-24T10:00:00",
          "2020-02-24T10:10:00",
          "2020-02-24T10:20:00",
          "2020-02-24T10:30:00",
          "2020-02-24T10:40:00",
          "2020-02-24T10:50:00",
          "2020-02-24T11:00:00",
          "2020-02-24T11:10:00",
          "2020-02-24T11:20:00",
          "2020-02-24T11:30:00",
          "2020-02-24T11:40:00"
         ],
         "y": [
          135.26922559728735,
          263.653815008152,
          175.35112451426517,
          176.5474188006064,
          140.16151198842493,
          174.5501626194779,
          358.0438281222397,
          243.15581301202124,
          302.85669117963914,
          296.8640297645908,
          335.5272975718182,
          481.68825503835524,
          279.99472216044063,
          273.04208190780884,
          345.45809831782276,
          247.5312498295102,
          196.20907907265118,
          236.24070377687522,
          284.43126106788895,
          426.8093199102549,
          249.2094452608505,
          294.8560105533645,
          260.4595392515316,
          291.88214848863754,
          286.30441135461604,
          274.58788377089184,
          228.5776617103042,
          282.1905311286255,
          254.79219544951806,
          295.7314536744382,
          293.371677331013,
          352.67813625274016,
          278.7520998566235,
          332.5158105180666,
          412.30221019854923,
          389.62807273104806,
          389.46358659509883,
          460.57524632751995
         ]
        },
        {
         "line": {
          "color": "#bc5090",
          "width": 3
         },
         "name": "Criteria II.",
         "type": "scatter",
         "x": [
          "2020-02-24T05:30:00",
          "2020-02-24T05:40:00",
          "2020-02-24T05:50:00",
          "2020-02-24T06:00:00",
          "2020-02-24T06:10:00",
          "2020-02-24T06:20:00",
          "2020-02-24T06:30:00",
          "2020-02-24T06:40:00",
          "2020-02-24T06:50:00",
          "2020-02-24T07:00:00",
          "2020-02-24T07:10:00",
          "2020-02-24T07:20:00",
          "2020-02-24T07:30:00",
          "2020-02-24T07:40:00",
          "2020-02-24T07:50:00",
          "2020-02-24T08:00:00",
          "2020-02-24T08:10:00",
          "2020-02-24T08:20:00",
          "2020-02-24T08:30:00",
          "2020-02-24T08:40:00",
          "2020-02-24T08:50:00",
          "2020-02-24T09:00:00",
          "2020-02-24T09:10:00",
          "2020-02-24T09:20:00",
          "2020-02-24T09:30:00",
          "2020-02-24T09:40:00",
          "2020-02-24T09:50:00",
          "2020-02-24T10:00:00",
          "2020-02-24T10:10:00",
          "2020-02-24T10:20:00",
          "2020-02-24T10:30:00",
          "2020-02-24T10:40:00",
          "2020-02-24T10:50:00",
          "2020-02-24T11:00:00",
          "2020-02-24T11:10:00",
          "2020-02-24T11:20:00",
          "2020-02-24T11:30:00",
          "2020-02-24T11:40:00"
         ],
         "y": [
          447.4748848993432,
          635.6868290774735,
          490.45350790088514,
          426.4145822445886,
          408.73392245488526,
          445.5560394798582,
          678.1409040192655,
          573.6551974428463,
          670.0527085818168,
          645.9265154262292,
          698.6901543000928,
          886.8937474294106,
          600.1659580814078,
          567.4683255572404,
          657.378521266417,
          562.3616072298418,
          534.1790412894637,
          549.9996409301657,
          570.7187443531179,
          724.6074898417068,
          552.4441605811987,
          583.5224435952222,
          546.7043167084023,
          603.1621691384503,
          551.6406064517265,
          621.0469980760756,
          562.9705807600488,
          580.9231984037625,
          576.7794921175928,
          564.9533399620213,
          620.5246544229525,
          644.6336039526836,
          600.7999490527432,
          636.7980558581293,
          704.8254029599238,
          707.3326159535469,
          725.5389864310721,
          662.0738539145307
         ]
        },
        {
         "fill": "tonexty",
         "line": {
          "color": "#bc5090",
          "width": 3
         },
         "name": "Criteria II",
         "showlegend": false,
         "type": "scatter",
         "x": [
          "2020-02-24T05:30:00",
          "2020-02-24T05:40:00",
          "2020-02-24T05:50:00",
          "2020-02-24T06:00:00",
          "2020-02-24T06:10:00",
          "2020-02-24T06:20:00",
          "2020-02-24T06:30:00",
          "2020-02-24T06:40:00",
          "2020-02-24T06:50:00",
          "2020-02-24T07:00:00",
          "2020-02-24T07:10:00",
          "2020-02-24T07:20:00",
          "2020-02-24T07:30:00",
          "2020-02-24T07:40:00",
          "2020-02-24T07:50:00",
          "2020-02-24T08:00:00",
          "2020-02-24T08:10:00",
          "2020-02-24T08:20:00",
          "2020-02-24T08:30:00",
          "2020-02-24T08:40:00",
          "2020-02-24T08:50:00",
          "2020-02-24T09:00:00",
          "2020-02-24T09:10:00",
          "2020-02-24T09:20:00",
          "2020-02-24T09:30:00",
          "2020-02-24T09:40:00",
          "2020-02-24T09:50:00",
          "2020-02-24T10:00:00",
          "2020-02-24T10:10:00",
          "2020-02-24T10:20:00",
          "2020-02-24T10:30:00",
          "2020-02-24T10:40:00",
          "2020-02-24T10:50:00",
          "2020-02-24T11:00:00",
          "2020-02-24T11:10:00",
          "2020-02-24T11:20:00",
          "2020-02-24T11:30:00",
          "2020-02-24T11:40:00"
         ],
         "y": [
          236.52511510065682,
          384.3131709225265,
          277.54649209911486,
          257.5854177554114,
          227.26607754511474,
          262.4439605201418,
          461.85909598073454,
          350.3448025571537,
          421.9472914181832,
          410.07348457377077,
          453.30984569990727,
          613.1062525705894,
          383.83404191859216,
          368.5316744427596,
          446.62147873358305,
          349.63839277015825,
          305.82095871053633,
          338.0003590698343,
          377.28125564688213,
          523.3925101582932,
          347.55583941880127,
          388.47755640477783,
          353.29568329159775,
          392.8378308615497,
          372.3593935482735,
          386.9530019239244,
          337.02941923995115,
          379.0768015962375,
          359.22050788240716,
          383.04666003797865,
          399.47534557704745,
          447.3663960473164,
          383.2000509472569,
          431.20194414187074,
          507.17459704007615,
          492.6673840464531,
          498.46101356892797,
          525.9261460854693
         ]
        },
        {
         "line": {
          "color": "#003f5c",
          "width": 5
         },
         "name": "Representative Day",
         "type": "scatter",
         "x": [
          "2020-02-24T05:30:00",
          "2020-02-24T05:40:00",
          "2020-02-24T05:50:00",
          "2020-02-24T06:00:00",
          "2020-02-24T06:10:00",
          "2020-02-24T06:20:00",
          "2020-02-24T06:30:00",
          "2020-02-24T06:40:00",
          "2020-02-24T06:50:00",
          "2020-02-24T07:00:00",
          "2020-02-24T07:10:00",
          "2020-02-24T07:20:00",
          "2020-02-24T07:30:00",
          "2020-02-24T07:40:00",
          "2020-02-24T07:50:00",
          "2020-02-24T08:00:00",
          "2020-02-24T08:10:00",
          "2020-02-24T08:20:00",
          "2020-02-24T08:30:00",
          "2020-02-24T08:40:00",
          "2020-02-24T08:50:00",
          "2020-02-24T09:00:00",
          "2020-02-24T09:10:00",
          "2020-02-24T09:20:00",
          "2020-02-24T09:30:00",
          "2020-02-24T09:40:00",
          "2020-02-24T09:50:00",
          "2020-02-24T10:00:00",
          "2020-02-24T10:10:00",
          "2020-02-24T10:20:00",
          "2020-02-24T10:30:00",
          "2020-02-24T10:40:00",
          "2020-02-24T10:50:00",
          "2020-02-24T11:00:00",
          "2020-02-24T11:10:00",
          "2020-02-24T11:20:00",
          "2020-02-24T11:30:00",
          "2020-02-24T11:40:00"
         ],
         "y": [
          342,
          510,
          384,
          342,
          318,
          354,
          570,
          462,
          546,
          528,
          576,
          750,
          492,
          468,
          552,
          456,
          420,
          444,
          474,
          624,
          450,
          486,
          450,
          498,
          462,
          504,
          450,
          480,
          468,
          474,
          510,
          546,
          492,
          534,
          606,
          600,
          612,
          594
         ]
        },
        {
         "marker": {
          "color": "red",
          "line": {
           "color": "black",
           "width": 2
          },
          "size": 15,
          "symbol": "diamond"
         },
         "mode": "markers",
         "name": "Simulation",
         "type": "scatter",
         "x": [
          "2020-02-24T05:30:00",
          "2020-02-24T05:40:00",
          "2020-02-24T05:50:00",
          "2020-02-24T06:00:00",
          "2020-02-24T06:10:00",
          "2020-02-24T06:20:00",
          "2020-02-24T06:30:00",
          "2020-02-24T06:40:00",
          "2020-02-24T06:50:00",
          "2020-02-24T07:00:00",
          "2020-02-24T07:10:00",
          "2020-02-24T07:20:00",
          "2020-02-24T07:30:00",
          "2020-02-24T07:40:00",
          "2020-02-24T07:50:00",
          "2020-02-24T08:00:00",
          "2020-02-24T08:10:00",
          "2020-02-24T08:20:00",
          "2020-02-24T08:30:00",
          "2020-02-24T08:40:00",
          "2020-02-24T08:50:00",
          "2020-02-24T09:00:00",
          "2020-02-24T09:10:00",
          "2020-02-24T09:20:00",
          "2020-02-24T09:30:00",
          "2020-02-24T09:40:00",
          "2020-02-24T09:50:00",
          "2020-02-24T10:00:00",
          "2020-02-24T10:10:00",
          "2020-02-24T10:20:00",
          "2020-02-24T10:30:00",
          "2020-02-24T10:40:00",
          "2020-02-24T10:50:00",
          "2020-02-24T11:00:00",
          "2020-02-24T11:10:00",
          "2020-02-24T11:20:00",
          "2020-02-24T11:30:00",
          "2020-02-24T11:40:00"
         ],
         "y": [
          336,
          438,
          276,
          360,
          336,
          408,
          546,
          540,
          570,
          486,
          570,
          588,
          528,
          552,
          534,
          450,
          366,
          378,
          450,
          588,
          426,
          378,
          450,
          444,
          384,
          582,
          528,
          444,
          366,
          528,
          606,
          396,
          534,
          384,
          612,
          594,
          744,
          504
         ]
        }
       ],
       "layout": {
        "font": {
         "family": "helvetica",
         "size": 26
        },
        "height": 600,
        "legend": {
         "orientation": "h",
         "x": 1,
         "xanchor": "right",
         "y": 1,
         "yanchor": "top"
        },
        "showlegend": true,
        "template": {
         "data": {
          "bar": [
           {
            "error_x": {
             "color": "rgb(36,36,36)"
            },
            "error_y": {
             "color": "rgb(36,36,36)"
            },
            "marker": {
             "line": {
              "color": "white",
              "width": 0.5
             },
             "pattern": {
              "fillmode": "overlay",
              "size": 10,
              "solidity": 0.2
             }
            },
            "type": "bar"
           }
          ],
          "barpolar": [
           {
            "marker": {
             "line": {
              "color": "white",
              "width": 0.5
             },
             "pattern": {
              "fillmode": "overlay",
              "size": 10,
              "solidity": 0.2
             }
            },
            "type": "barpolar"
           }
          ],
          "carpet": [
           {
            "aaxis": {
             "endlinecolor": "rgb(36,36,36)",
             "gridcolor": "white",
             "linecolor": "white",
             "minorgridcolor": "white",
             "startlinecolor": "rgb(36,36,36)"
            },
            "baxis": {
             "endlinecolor": "rgb(36,36,36)",
             "gridcolor": "white",
             "linecolor": "white",
             "minorgridcolor": "white",
             "startlinecolor": "rgb(36,36,36)"
            },
            "type": "carpet"
           }
          ],
          "choropleth": [
           {
            "colorbar": {
             "outlinewidth": 1,
             "tickcolor": "rgb(36,36,36)",
             "ticks": "outside"
            },
            "type": "choropleth"
           }
          ],
          "contour": [
           {
            "colorbar": {
             "outlinewidth": 1,
             "tickcolor": "rgb(36,36,36)",
             "ticks": "outside"
            },
            "colorscale": [
             [
              0,
              "#440154"
             ],
             [
              0.1111111111111111,
              "#482878"
             ],
             [
              0.2222222222222222,
              "#3e4989"
             ],
             [
              0.3333333333333333,
              "#31688e"
             ],
             [
              0.4444444444444444,
              "#26828e"
             ],
             [
              0.5555555555555556,
              "#1f9e89"
             ],
             [
              0.6666666666666666,
              "#35b779"
             ],
             [
              0.7777777777777778,
              "#6ece58"
             ],
             [
              0.8888888888888888,
              "#b5de2b"
             ],
             [
              1,
              "#fde725"
             ]
            ],
            "type": "contour"
           }
          ],
          "contourcarpet": [
           {
            "colorbar": {
             "outlinewidth": 1,
             "tickcolor": "rgb(36,36,36)",
             "ticks": "outside"
            },
            "type": "contourcarpet"
           }
          ],
          "heatmap": [
           {
            "colorbar": {
             "outlinewidth": 1,
             "tickcolor": "rgb(36,36,36)",
             "ticks": "outside"
            },
            "colorscale": [
             [
              0,
              "#440154"
             ],
             [
              0.1111111111111111,
              "#482878"
             ],
             [
              0.2222222222222222,
              "#3e4989"
             ],
             [
              0.3333333333333333,
              "#31688e"
             ],
             [
              0.4444444444444444,
              "#26828e"
             ],
             [
              0.5555555555555556,
              "#1f9e89"
             ],
             [
              0.6666666666666666,
              "#35b779"
             ],
             [
              0.7777777777777778,
              "#6ece58"
             ],
             [
              0.8888888888888888,
              "#b5de2b"
             ],
             [
              1,
              "#fde725"
             ]
            ],
            "type": "heatmap"
           }
          ],
          "heatmapgl": [
           {
            "colorbar": {
             "outlinewidth": 1,
             "tickcolor": "rgb(36,36,36)",
             "ticks": "outside"
            },
            "colorscale": [
             [
              0,
              "#440154"
             ],
             [
              0.1111111111111111,
              "#482878"
             ],
             [
              0.2222222222222222,
              "#3e4989"
             ],
             [
              0.3333333333333333,
              "#31688e"
             ],
             [
              0.4444444444444444,
              "#26828e"
             ],
             [
              0.5555555555555556,
              "#1f9e89"
             ],
             [
              0.6666666666666666,
              "#35b779"
             ],
             [
              0.7777777777777778,
              "#6ece58"
             ],
             [
              0.8888888888888888,
              "#b5de2b"
             ],
             [
              1,
              "#fde725"
             ]
            ],
            "type": "heatmapgl"
           }
          ],
          "histogram": [
           {
            "marker": {
             "line": {
              "color": "white",
              "width": 0.6
             }
            },
            "type": "histogram"
           }
          ],
          "histogram2d": [
           {
            "colorbar": {
             "outlinewidth": 1,
             "tickcolor": "rgb(36,36,36)",
             "ticks": "outside"
            },
            "colorscale": [
             [
              0,
              "#440154"
             ],
             [
              0.1111111111111111,
              "#482878"
             ],
             [
              0.2222222222222222,
              "#3e4989"
             ],
             [
              0.3333333333333333,
              "#31688e"
             ],
             [
              0.4444444444444444,
              "#26828e"
             ],
             [
              0.5555555555555556,
              "#1f9e89"
             ],
             [
              0.6666666666666666,
              "#35b779"
             ],
             [
              0.7777777777777778,
              "#6ece58"
             ],
             [
              0.8888888888888888,
              "#b5de2b"
             ],
             [
              1,
              "#fde725"
             ]
            ],
            "type": "histogram2d"
           }
          ],
          "histogram2dcontour": [
           {
            "colorbar": {
             "outlinewidth": 1,
             "tickcolor": "rgb(36,36,36)",
             "ticks": "outside"
            },
            "colorscale": [
             [
              0,
              "#440154"
             ],
             [
              0.1111111111111111,
              "#482878"
             ],
             [
              0.2222222222222222,
              "#3e4989"
             ],
             [
              0.3333333333333333,
              "#31688e"
             ],
             [
              0.4444444444444444,
              "#26828e"
             ],
             [
              0.5555555555555556,
              "#1f9e89"
             ],
             [
              0.6666666666666666,
              "#35b779"
             ],
             [
              0.7777777777777778,
              "#6ece58"
             ],
             [
              0.8888888888888888,
              "#b5de2b"
             ],
             [
              1,
              "#fde725"
             ]
            ],
            "type": "histogram2dcontour"
           }
          ],
          "mesh3d": [
           {
            "colorbar": {
             "outlinewidth": 1,
             "tickcolor": "rgb(36,36,36)",
             "ticks": "outside"
            },
            "type": "mesh3d"
           }
          ],
          "parcoords": [
           {
            "line": {
             "colorbar": {
              "outlinewidth": 1,
              "tickcolor": "rgb(36,36,36)",
              "ticks": "outside"
             }
            },
            "type": "parcoords"
           }
          ],
          "pie": [
           {
            "automargin": true,
            "type": "pie"
           }
          ],
          "scatter": [
           {
            "fillpattern": {
             "fillmode": "overlay",
             "size": 10,
             "solidity": 0.2
            },
            "type": "scatter"
           }
          ],
          "scatter3d": [
           {
            "line": {
             "colorbar": {
              "outlinewidth": 1,
              "tickcolor": "rgb(36,36,36)",
              "ticks": "outside"
             }
            },
            "marker": {
             "colorbar": {
              "outlinewidth": 1,
              "tickcolor": "rgb(36,36,36)",
              "ticks": "outside"
             }
            },
            "type": "scatter3d"
           }
          ],
          "scattercarpet": [
           {
            "marker": {
             "colorbar": {
              "outlinewidth": 1,
              "tickcolor": "rgb(36,36,36)",
              "ticks": "outside"
             }
            },
            "type": "scattercarpet"
           }
          ],
          "scattergeo": [
           {
            "marker": {
             "colorbar": {
              "outlinewidth": 1,
              "tickcolor": "rgb(36,36,36)",
              "ticks": "outside"
             }
            },
            "type": "scattergeo"
           }
          ],
          "scattergl": [
           {
            "marker": {
             "colorbar": {
              "outlinewidth": 1,
              "tickcolor": "rgb(36,36,36)",
              "ticks": "outside"
             }
            },
            "type": "scattergl"
           }
          ],
          "scattermapbox": [
           {
            "marker": {
             "colorbar": {
              "outlinewidth": 1,
              "tickcolor": "rgb(36,36,36)",
              "ticks": "outside"
             }
            },
            "type": "scattermapbox"
           }
          ],
          "scatterpolar": [
           {
            "marker": {
             "colorbar": {
              "outlinewidth": 1,
              "tickcolor": "rgb(36,36,36)",
              "ticks": "outside"
             }
            },
            "type": "scatterpolar"
           }
          ],
          "scatterpolargl": [
           {
            "marker": {
             "colorbar": {
              "outlinewidth": 1,
              "tickcolor": "rgb(36,36,36)",
              "ticks": "outside"
             }
            },
            "type": "scatterpolargl"
           }
          ],
          "scatterternary": [
           {
            "marker": {
             "colorbar": {
              "outlinewidth": 1,
              "tickcolor": "rgb(36,36,36)",
              "ticks": "outside"
             }
            },
            "type": "scatterternary"
           }
          ],
          "surface": [
           {
            "colorbar": {
             "outlinewidth": 1,
             "tickcolor": "rgb(36,36,36)",
             "ticks": "outside"
            },
            "colorscale": [
             [
              0,
              "#440154"
             ],
             [
              0.1111111111111111,
              "#482878"
             ],
             [
              0.2222222222222222,
              "#3e4989"
             ],
             [
              0.3333333333333333,
              "#31688e"
             ],
             [
              0.4444444444444444,
              "#26828e"
             ],
             [
              0.5555555555555556,
              "#1f9e89"
             ],
             [
              0.6666666666666666,
              "#35b779"
             ],
             [
              0.7777777777777778,
              "#6ece58"
             ],
             [
              0.8888888888888888,
              "#b5de2b"
             ],
             [
              1,
              "#fde725"
             ]
            ],
            "type": "surface"
           }
          ],
          "table": [
           {
            "cells": {
             "fill": {
              "color": "rgb(237,237,237)"
             },
             "line": {
              "color": "white"
             }
            },
            "header": {
             "fill": {
              "color": "rgb(217,217,217)"
             },
             "line": {
              "color": "white"
             }
            },
            "type": "table"
           }
          ]
         },
         "layout": {
          "annotationdefaults": {
           "arrowhead": 0,
           "arrowwidth": 1
          },
          "autotypenumbers": "strict",
          "coloraxis": {
           "colorbar": {
            "outlinewidth": 1,
            "tickcolor": "rgb(36,36,36)",
            "ticks": "outside"
           }
          },
          "colorscale": {
           "diverging": [
            [
             0,
             "rgb(103,0,31)"
            ],
            [
             0.1,
             "rgb(178,24,43)"
            ],
            [
             0.2,
             "rgb(214,96,77)"
            ],
            [
             0.3,
             "rgb(244,165,130)"
            ],
            [
             0.4,
             "rgb(253,219,199)"
            ],
            [
             0.5,
             "rgb(247,247,247)"
            ],
            [
             0.6,
             "rgb(209,229,240)"
            ],
            [
             0.7,
             "rgb(146,197,222)"
            ],
            [
             0.8,
             "rgb(67,147,195)"
            ],
            [
             0.9,
             "rgb(33,102,172)"
            ],
            [
             1,
             "rgb(5,48,97)"
            ]
           ],
           "sequential": [
            [
             0,
             "#440154"
            ],
            [
             0.1111111111111111,
             "#482878"
            ],
            [
             0.2222222222222222,
             "#3e4989"
            ],
            [
             0.3333333333333333,
             "#31688e"
            ],
            [
             0.4444444444444444,
             "#26828e"
            ],
            [
             0.5555555555555556,
             "#1f9e89"
            ],
            [
             0.6666666666666666,
             "#35b779"
            ],
            [
             0.7777777777777778,
             "#6ece58"
            ],
            [
             0.8888888888888888,
             "#b5de2b"
            ],
            [
             1,
             "#fde725"
            ]
           ],
           "sequentialminus": [
            [
             0,
             "#440154"
            ],
            [
             0.1111111111111111,
             "#482878"
            ],
            [
             0.2222222222222222,
             "#3e4989"
            ],
            [
             0.3333333333333333,
             "#31688e"
            ],
            [
             0.4444444444444444,
             "#26828e"
            ],
            [
             0.5555555555555556,
             "#1f9e89"
            ],
            [
             0.6666666666666666,
             "#35b779"
            ],
            [
             0.7777777777777778,
             "#6ece58"
            ],
            [
             0.8888888888888888,
             "#b5de2b"
            ],
            [
             1,
             "#fde725"
            ]
           ]
          },
          "colorway": [
           "#1F77B4",
           "#FF7F0E",
           "#2CA02C",
           "#D62728",
           "#9467BD",
           "#8C564B",
           "#E377C2",
           "#7F7F7F",
           "#BCBD22",
           "#17BECF"
          ],
          "font": {
           "color": "rgb(36,36,36)"
          },
          "geo": {
           "bgcolor": "white",
           "lakecolor": "white",
           "landcolor": "white",
           "showlakes": true,
           "showland": true,
           "subunitcolor": "white"
          },
          "hoverlabel": {
           "align": "left"
          },
          "hovermode": "closest",
          "mapbox": {
           "style": "light"
          },
          "paper_bgcolor": "white",
          "plot_bgcolor": "white",
          "polar": {
           "angularaxis": {
            "gridcolor": "rgb(232,232,232)",
            "linecolor": "rgb(36,36,36)",
            "showgrid": false,
            "showline": true,
            "ticks": "outside"
           },
           "bgcolor": "white",
           "radialaxis": {
            "gridcolor": "rgb(232,232,232)",
            "linecolor": "rgb(36,36,36)",
            "showgrid": false,
            "showline": true,
            "ticks": "outside"
           }
          },
          "scene": {
           "xaxis": {
            "backgroundcolor": "white",
            "gridcolor": "rgb(232,232,232)",
            "gridwidth": 2,
            "linecolor": "rgb(36,36,36)",
            "showbackground": true,
            "showgrid": false,
            "showline": true,
            "ticks": "outside",
            "zeroline": false,
            "zerolinecolor": "rgb(36,36,36)"
           },
           "yaxis": {
            "backgroundcolor": "white",
            "gridcolor": "rgb(232,232,232)",
            "gridwidth": 2,
            "linecolor": "rgb(36,36,36)",
            "showbackground": true,
            "showgrid": false,
            "showline": true,
            "ticks": "outside",
            "zeroline": false,
            "zerolinecolor": "rgb(36,36,36)"
           },
           "zaxis": {
            "backgroundcolor": "white",
            "gridcolor": "rgb(232,232,232)",
            "gridwidth": 2,
            "linecolor": "rgb(36,36,36)",
            "showbackground": true,
            "showgrid": false,
            "showline": true,
            "ticks": "outside",
            "zeroline": false,
            "zerolinecolor": "rgb(36,36,36)"
           }
          },
          "shapedefaults": {
           "fillcolor": "black",
           "line": {
            "width": 0
           },
           "opacity": 0.3
          },
          "ternary": {
           "aaxis": {
            "gridcolor": "rgb(232,232,232)",
            "linecolor": "rgb(36,36,36)",
            "showgrid": false,
            "showline": true,
            "ticks": "outside"
           },
           "baxis": {
            "gridcolor": "rgb(232,232,232)",
            "linecolor": "rgb(36,36,36)",
            "showgrid": false,
            "showline": true,
            "ticks": "outside"
           },
           "bgcolor": "white",
           "caxis": {
            "gridcolor": "rgb(232,232,232)",
            "linecolor": "rgb(36,36,36)",
            "showgrid": false,
            "showline": true,
            "ticks": "outside"
           }
          },
          "title": {
           "x": 0.05
          },
          "xaxis": {
           "automargin": true,
           "gridcolor": "rgb(232,232,232)",
           "linecolor": "rgb(36,36,36)",
           "showgrid": false,
           "showline": true,
           "ticks": "outside",
           "title": {
            "standoff": 15
           },
           "zeroline": false,
           "zerolinecolor": "rgb(36,36,36)"
          },
          "yaxis": {
           "automargin": true,
           "gridcolor": "rgb(232,232,232)",
           "linecolor": "rgb(36,36,36)",
           "showgrid": false,
           "showline": true,
           "ticks": "outside",
           "title": {
            "standoff": 15
           },
           "zeroline": false,
           "zerolinecolor": "rgb(36,36,36)"
          }
         }
        },
        "width": 1200,
        "xaxis": {
         "tickangle": 15
        },
        "yaxis": {
         "range": [
          0,
          2000
         ],
         "showgrid": true,
         "title": {
          "text": "Volume [Vehicles/Hour]"
         }
        }
       }
      },
      "text/html": [
       "<div>                            <div id=\"1be9b757-b6c3-4ce1-be82-e10e05cd9c4f\" class=\"plotly-graph-div\" style=\"height:600px; width:1200px;\"></div>            <script type=\"text/javascript\">                require([\"plotly\"], function(Plotly) {                    window.PLOTLYENV=window.PLOTLYENV || {};                                    if (document.getElementById(\"1be9b757-b6c3-4ce1-be82-e10e05cd9c4f\")) {                    Plotly.newPlot(                        \"1be9b757-b6c3-4ce1-be82-e10e05cd9c4f\",                        [{\"line\":{\"color\":\"#ffa600\",\"width\":3},\"name\":\"Criteria I.\",\"x\":[\"2020-02-24T05:30:00\",\"2020-02-24T05:40:00\",\"2020-02-24T05:50:00\",\"2020-02-24T06:00:00\",\"2020-02-24T06:10:00\",\"2020-02-24T06:20:00\",\"2020-02-24T06:30:00\",\"2020-02-24T06:40:00\",\"2020-02-24T06:50:00\",\"2020-02-24T07:00:00\",\"2020-02-24T07:10:00\",\"2020-02-24T07:20:00\",\"2020-02-24T07:30:00\",\"2020-02-24T07:40:00\",\"2020-02-24T07:50:00\",\"2020-02-24T08:00:00\",\"2020-02-24T08:10:00\",\"2020-02-24T08:20:00\",\"2020-02-24T08:30:00\",\"2020-02-24T08:40:00\",\"2020-02-24T08:50:00\",\"2020-02-24T09:00:00\",\"2020-02-24T09:10:00\",\"2020-02-24T09:20:00\",\"2020-02-24T09:30:00\",\"2020-02-24T09:40:00\",\"2020-02-24T09:50:00\",\"2020-02-24T10:00:00\",\"2020-02-24T10:10:00\",\"2020-02-24T10:20:00\",\"2020-02-24T10:30:00\",\"2020-02-24T10:40:00\",\"2020-02-24T10:50:00\",\"2020-02-24T11:00:00\",\"2020-02-24T11:10:00\",\"2020-02-24T11:20:00\",\"2020-02-24T11:30:00\",\"2020-02-24T11:40:00\"],\"y\":[548.7307744027127,756.3461849918481,592.6488754857348,507.4525811993936,495.83848801157507,533.4498373805221,781.9561718777603,680.8441869879788,789.1433088203609,759.1359702354092,816.4727024281817,1018.3117449616448,704.0052778395593,662.9579180921912,758.5419016821772,664.4687501704898,643.7909209273488,651.7592962231248,663.568738932111,821.1906800897451,650.7905547391495,677.1439894466355,639.5404607484684,704.1178515113625,637.695588645384,733.4121162291082,671.4223382896957,677.8094688713745,681.2078045504819,652.2685463255618,726.628322668987,739.3218637472598,705.2479001433765,735.4841894819334,799.6977898014508,810.3719272689519,834.5364134049012,727.42475367248],\"type\":\"scatter\"},{\"fill\":\"tonexty\",\"line\":{\"color\":\"#ffa600\",\"width\":3},\"name\":\"Criteria I\",\"showlegend\":false,\"x\":[\"2020-02-24T05:30:00\",\"2020-02-24T05:40:00\",\"2020-02-24T05:50:00\",\"2020-02-24T06:00:00\",\"2020-02-24T06:10:00\",\"2020-02-24T06:20:00\",\"2020-02-24T06:30:00\",\"2020-02-24T06:40:00\",\"2020-02-24T06:50:00\",\"2020-02-24T07:00:00\",\"2020-02-24T07:10:00\",\"2020-02-24T07:20:00\",\"2020-02-24T07:30:00\",\"2020-02-24T07:40:00\",\"2020-02-24T07:50:00\",\"2020-02-24T08:00:00\",\"2020-02-24T08:10:00\",\"2020-02-24T08:20:00\",\"2020-02-24T08:30:00\",\"2020-02-24T08:40:00\",\"2020-02-24T08:50:00\",\"2020-02-24T09:00:00\",\"2020-02-24T09:10:00\",\"2020-02-24T09:20:00\",\"2020-02-24T09:30:00\",\"2020-02-24T09:40:00\",\"2020-02-24T09:50:00\",\"2020-02-24T10:00:00\",\"2020-02-24T10:10:00\",\"2020-02-24T10:20:00\",\"2020-02-24T10:30:00\",\"2020-02-24T10:40:00\",\"2020-02-24T10:50:00\",\"2020-02-24T11:00:00\",\"2020-02-24T11:10:00\",\"2020-02-24T11:20:00\",\"2020-02-24T11:30:00\",\"2020-02-24T11:40:00\"],\"y\":[135.26922559728735,263.653815008152,175.35112451426517,176.5474188006064,140.16151198842493,174.5501626194779,358.0438281222397,243.15581301202124,302.85669117963914,296.8640297645908,335.5272975718182,481.68825503835524,279.99472216044063,273.04208190780884,345.45809831782276,247.5312498295102,196.20907907265118,236.24070377687522,284.43126106788895,426.8093199102549,249.2094452608505,294.8560105533645,260.4595392515316,291.88214848863754,286.30441135461604,274.58788377089184,228.5776617103042,282.1905311286255,254.79219544951806,295.7314536744382,293.371677331013,352.67813625274016,278.7520998566235,332.5158105180666,412.30221019854923,389.62807273104806,389.46358659509883,460.57524632751995],\"type\":\"scatter\"},{\"line\":{\"color\":\"#bc5090\",\"width\":3},\"name\":\"Criteria II.\",\"x\":[\"2020-02-24T05:30:00\",\"2020-02-24T05:40:00\",\"2020-02-24T05:50:00\",\"2020-02-24T06:00:00\",\"2020-02-24T06:10:00\",\"2020-02-24T06:20:00\",\"2020-02-24T06:30:00\",\"2020-02-24T06:40:00\",\"2020-02-24T06:50:00\",\"2020-02-24T07:00:00\",\"2020-02-24T07:10:00\",\"2020-02-24T07:20:00\",\"2020-02-24T07:30:00\",\"2020-02-24T07:40:00\",\"2020-02-24T07:50:00\",\"2020-02-24T08:00:00\",\"2020-02-24T08:10:00\",\"2020-02-24T08:20:00\",\"2020-02-24T08:30:00\",\"2020-02-24T08:40:00\",\"2020-02-24T08:50:00\",\"2020-02-24T09:00:00\",\"2020-02-24T09:10:00\",\"2020-02-24T09:20:00\",\"2020-02-24T09:30:00\",\"2020-02-24T09:40:00\",\"2020-02-24T09:50:00\",\"2020-02-24T10:00:00\",\"2020-02-24T10:10:00\",\"2020-02-24T10:20:00\",\"2020-02-24T10:30:00\",\"2020-02-24T10:40:00\",\"2020-02-24T10:50:00\",\"2020-02-24T11:00:00\",\"2020-02-24T11:10:00\",\"2020-02-24T11:20:00\",\"2020-02-24T11:30:00\",\"2020-02-24T11:40:00\"],\"y\":[447.4748848993432,635.6868290774735,490.45350790088514,426.4145822445886,408.73392245488526,445.5560394798582,678.1409040192655,573.6551974428463,670.0527085818168,645.9265154262292,698.6901543000928,886.8937474294106,600.1659580814078,567.4683255572404,657.378521266417,562.3616072298418,534.1790412894637,549.9996409301657,570.7187443531179,724.6074898417068,552.4441605811987,583.5224435952222,546.7043167084023,603.1621691384503,551.6406064517265,621.0469980760756,562.9705807600488,580.9231984037625,576.7794921175928,564.9533399620213,620.5246544229525,644.6336039526836,600.7999490527432,636.7980558581293,704.8254029599238,707.3326159535469,725.5389864310721,662.0738539145307],\"type\":\"scatter\"},{\"fill\":\"tonexty\",\"line\":{\"color\":\"#bc5090\",\"width\":3},\"name\":\"Criteria II\",\"showlegend\":false,\"x\":[\"2020-02-24T05:30:00\",\"2020-02-24T05:40:00\",\"2020-02-24T05:50:00\",\"2020-02-24T06:00:00\",\"2020-02-24T06:10:00\",\"2020-02-24T06:20:00\",\"2020-02-24T06:30:00\",\"2020-02-24T06:40:00\",\"2020-02-24T06:50:00\",\"2020-02-24T07:00:00\",\"2020-02-24T07:10:00\",\"2020-02-24T07:20:00\",\"2020-02-24T07:30:00\",\"2020-02-24T07:40:00\",\"2020-02-24T07:50:00\",\"2020-02-24T08:00:00\",\"2020-02-24T08:10:00\",\"2020-02-24T08:20:00\",\"2020-02-24T08:30:00\",\"2020-02-24T08:40:00\",\"2020-02-24T08:50:00\",\"2020-02-24T09:00:00\",\"2020-02-24T09:10:00\",\"2020-02-24T09:20:00\",\"2020-02-24T09:30:00\",\"2020-02-24T09:40:00\",\"2020-02-24T09:50:00\",\"2020-02-24T10:00:00\",\"2020-02-24T10:10:00\",\"2020-02-24T10:20:00\",\"2020-02-24T10:30:00\",\"2020-02-24T10:40:00\",\"2020-02-24T10:50:00\",\"2020-02-24T11:00:00\",\"2020-02-24T11:10:00\",\"2020-02-24T11:20:00\",\"2020-02-24T11:30:00\",\"2020-02-24T11:40:00\"],\"y\":[236.52511510065682,384.3131709225265,277.54649209911486,257.5854177554114,227.26607754511474,262.4439605201418,461.85909598073454,350.3448025571537,421.9472914181832,410.07348457377077,453.30984569990727,613.1062525705894,383.83404191859216,368.5316744427596,446.62147873358305,349.63839277015825,305.82095871053633,338.0003590698343,377.28125564688213,523.3925101582932,347.55583941880127,388.47755640477783,353.29568329159775,392.8378308615497,372.3593935482735,386.9530019239244,337.02941923995115,379.0768015962375,359.22050788240716,383.04666003797865,399.47534557704745,447.3663960473164,383.2000509472569,431.20194414187074,507.17459704007615,492.6673840464531,498.46101356892797,525.9261460854693],\"type\":\"scatter\"},{\"line\":{\"color\":\"#003f5c\",\"width\":5},\"name\":\"Representative Day\",\"x\":[\"2020-02-24T05:30:00\",\"2020-02-24T05:40:00\",\"2020-02-24T05:50:00\",\"2020-02-24T06:00:00\",\"2020-02-24T06:10:00\",\"2020-02-24T06:20:00\",\"2020-02-24T06:30:00\",\"2020-02-24T06:40:00\",\"2020-02-24T06:50:00\",\"2020-02-24T07:00:00\",\"2020-02-24T07:10:00\",\"2020-02-24T07:20:00\",\"2020-02-24T07:30:00\",\"2020-02-24T07:40:00\",\"2020-02-24T07:50:00\",\"2020-02-24T08:00:00\",\"2020-02-24T08:10:00\",\"2020-02-24T08:20:00\",\"2020-02-24T08:30:00\",\"2020-02-24T08:40:00\",\"2020-02-24T08:50:00\",\"2020-02-24T09:00:00\",\"2020-02-24T09:10:00\",\"2020-02-24T09:20:00\",\"2020-02-24T09:30:00\",\"2020-02-24T09:40:00\",\"2020-02-24T09:50:00\",\"2020-02-24T10:00:00\",\"2020-02-24T10:10:00\",\"2020-02-24T10:20:00\",\"2020-02-24T10:30:00\",\"2020-02-24T10:40:00\",\"2020-02-24T10:50:00\",\"2020-02-24T11:00:00\",\"2020-02-24T11:10:00\",\"2020-02-24T11:20:00\",\"2020-02-24T11:30:00\",\"2020-02-24T11:40:00\"],\"y\":[342.0,510.0,384.0,342.0,318.0,354.0,570.0,462.0,546.0,528.0,576.0,750.0,492.0,468.0,552.0,456.0,420.0,444.0,474.0,624.0,450.0,486.0,450.0,498.0,462.0,504.0,450.0,480.0,468.0,474.0,510.0,546.0,492.0,534.0,606.0,600.0,612.0,594.0],\"type\":\"scatter\"},{\"marker\":{\"color\":\"red\",\"line\":{\"color\":\"black\",\"width\":2},\"size\":15,\"symbol\":\"diamond\"},\"mode\":\"markers\",\"name\":\"Simulation\",\"x\":[\"2020-02-24T05:30:00\",\"2020-02-24T05:40:00\",\"2020-02-24T05:50:00\",\"2020-02-24T06:00:00\",\"2020-02-24T06:10:00\",\"2020-02-24T06:20:00\",\"2020-02-24T06:30:00\",\"2020-02-24T06:40:00\",\"2020-02-24T06:50:00\",\"2020-02-24T07:00:00\",\"2020-02-24T07:10:00\",\"2020-02-24T07:20:00\",\"2020-02-24T07:30:00\",\"2020-02-24T07:40:00\",\"2020-02-24T07:50:00\",\"2020-02-24T08:00:00\",\"2020-02-24T08:10:00\",\"2020-02-24T08:20:00\",\"2020-02-24T08:30:00\",\"2020-02-24T08:40:00\",\"2020-02-24T08:50:00\",\"2020-02-24T09:00:00\",\"2020-02-24T09:10:00\",\"2020-02-24T09:20:00\",\"2020-02-24T09:30:00\",\"2020-02-24T09:40:00\",\"2020-02-24T09:50:00\",\"2020-02-24T10:00:00\",\"2020-02-24T10:10:00\",\"2020-02-24T10:20:00\",\"2020-02-24T10:30:00\",\"2020-02-24T10:40:00\",\"2020-02-24T10:50:00\",\"2020-02-24T11:00:00\",\"2020-02-24T11:10:00\",\"2020-02-24T11:20:00\",\"2020-02-24T11:30:00\",\"2020-02-24T11:40:00\"],\"y\":[336.0,438.0,276.0,360.0,336.0,408.0,546.0,540.0,570.0,486.0,570.0,588.0,528.0,552.0,534.0,450.0,366.0,378.0,450.0,588.0,426.0,378.0,450.0,444.0,384.0,582.0,528.0,444.0,366.0,528.0,606.0,396.0,534.0,384.0,612.0,594.0,744.0,504.0],\"type\":\"scatter\"}],                        {\"template\":{\"data\":{\"barpolar\":[{\"marker\":{\"line\":{\"color\":\"white\",\"width\":0.5},\"pattern\":{\"fillmode\":\"overlay\",\"size\":10,\"solidity\":0.2}},\"type\":\"barpolar\"}],\"bar\":[{\"error_x\":{\"color\":\"rgb(36,36,36)\"},\"error_y\":{\"color\":\"rgb(36,36,36)\"},\"marker\":{\"line\":{\"color\":\"white\",\"width\":0.5},\"pattern\":{\"fillmode\":\"overlay\",\"size\":10,\"solidity\":0.2}},\"type\":\"bar\"}],\"carpet\":[{\"aaxis\":{\"endlinecolor\":\"rgb(36,36,36)\",\"gridcolor\":\"white\",\"linecolor\":\"white\",\"minorgridcolor\":\"white\",\"startlinecolor\":\"rgb(36,36,36)\"},\"baxis\":{\"endlinecolor\":\"rgb(36,36,36)\",\"gridcolor\":\"white\",\"linecolor\":\"white\",\"minorgridcolor\":\"white\",\"startlinecolor\":\"rgb(36,36,36)\"},\"type\":\"carpet\"}],\"choropleth\":[{\"colorbar\":{\"outlinewidth\":1,\"tickcolor\":\"rgb(36,36,36)\",\"ticks\":\"outside\"},\"type\":\"choropleth\"}],\"contourcarpet\":[{\"colorbar\":{\"outlinewidth\":1,\"tickcolor\":\"rgb(36,36,36)\",\"ticks\":\"outside\"},\"type\":\"contourcarpet\"}],\"contour\":[{\"colorbar\":{\"outlinewidth\":1,\"tickcolor\":\"rgb(36,36,36)\",\"ticks\":\"outside\"},\"colorscale\":[[0.0,\"#440154\"],[0.1111111111111111,\"#482878\"],[0.2222222222222222,\"#3e4989\"],[0.3333333333333333,\"#31688e\"],[0.4444444444444444,\"#26828e\"],[0.5555555555555556,\"#1f9e89\"],[0.6666666666666666,\"#35b779\"],[0.7777777777777778,\"#6ece58\"],[0.8888888888888888,\"#b5de2b\"],[1.0,\"#fde725\"]],\"type\":\"contour\"}],\"heatmapgl\":[{\"colorbar\":{\"outlinewidth\":1,\"tickcolor\":\"rgb(36,36,36)\",\"ticks\":\"outside\"},\"colorscale\":[[0.0,\"#440154\"],[0.1111111111111111,\"#482878\"],[0.2222222222222222,\"#3e4989\"],[0.3333333333333333,\"#31688e\"],[0.4444444444444444,\"#26828e\"],[0.5555555555555556,\"#1f9e89\"],[0.6666666666666666,\"#35b779\"],[0.7777777777777778,\"#6ece58\"],[0.8888888888888888,\"#b5de2b\"],[1.0,\"#fde725\"]],\"type\":\"heatmapgl\"}],\"heatmap\":[{\"colorbar\":{\"outlinewidth\":1,\"tickcolor\":\"rgb(36,36,36)\",\"ticks\":\"outside\"},\"colorscale\":[[0.0,\"#440154\"],[0.1111111111111111,\"#482878\"],[0.2222222222222222,\"#3e4989\"],[0.3333333333333333,\"#31688e\"],[0.4444444444444444,\"#26828e\"],[0.5555555555555556,\"#1f9e89\"],[0.6666666666666666,\"#35b779\"],[0.7777777777777778,\"#6ece58\"],[0.8888888888888888,\"#b5de2b\"],[1.0,\"#fde725\"]],\"type\":\"heatmap\"}],\"histogram2dcontour\":[{\"colorbar\":{\"outlinewidth\":1,\"tickcolor\":\"rgb(36,36,36)\",\"ticks\":\"outside\"},\"colorscale\":[[0.0,\"#440154\"],[0.1111111111111111,\"#482878\"],[0.2222222222222222,\"#3e4989\"],[0.3333333333333333,\"#31688e\"],[0.4444444444444444,\"#26828e\"],[0.5555555555555556,\"#1f9e89\"],[0.6666666666666666,\"#35b779\"],[0.7777777777777778,\"#6ece58\"],[0.8888888888888888,\"#b5de2b\"],[1.0,\"#fde725\"]],\"type\":\"histogram2dcontour\"}],\"histogram2d\":[{\"colorbar\":{\"outlinewidth\":1,\"tickcolor\":\"rgb(36,36,36)\",\"ticks\":\"outside\"},\"colorscale\":[[0.0,\"#440154\"],[0.1111111111111111,\"#482878\"],[0.2222222222222222,\"#3e4989\"],[0.3333333333333333,\"#31688e\"],[0.4444444444444444,\"#26828e\"],[0.5555555555555556,\"#1f9e89\"],[0.6666666666666666,\"#35b779\"],[0.7777777777777778,\"#6ece58\"],[0.8888888888888888,\"#b5de2b\"],[1.0,\"#fde725\"]],\"type\":\"histogram2d\"}],\"histogram\":[{\"marker\":{\"line\":{\"color\":\"white\",\"width\":0.6}},\"type\":\"histogram\"}],\"mesh3d\":[{\"colorbar\":{\"outlinewidth\":1,\"tickcolor\":\"rgb(36,36,36)\",\"ticks\":\"outside\"},\"type\":\"mesh3d\"}],\"parcoords\":[{\"line\":{\"colorbar\":{\"outlinewidth\":1,\"tickcolor\":\"rgb(36,36,36)\",\"ticks\":\"outside\"}},\"type\":\"parcoords\"}],\"pie\":[{\"automargin\":true,\"type\":\"pie\"}],\"scatter3d\":[{\"line\":{\"colorbar\":{\"outlinewidth\":1,\"tickcolor\":\"rgb(36,36,36)\",\"ticks\":\"outside\"}},\"marker\":{\"colorbar\":{\"outlinewidth\":1,\"tickcolor\":\"rgb(36,36,36)\",\"ticks\":\"outside\"}},\"type\":\"scatter3d\"}],\"scattercarpet\":[{\"marker\":{\"colorbar\":{\"outlinewidth\":1,\"tickcolor\":\"rgb(36,36,36)\",\"ticks\":\"outside\"}},\"type\":\"scattercarpet\"}],\"scattergeo\":[{\"marker\":{\"colorbar\":{\"outlinewidth\":1,\"tickcolor\":\"rgb(36,36,36)\",\"ticks\":\"outside\"}},\"type\":\"scattergeo\"}],\"scattergl\":[{\"marker\":{\"colorbar\":{\"outlinewidth\":1,\"tickcolor\":\"rgb(36,36,36)\",\"ticks\":\"outside\"}},\"type\":\"scattergl\"}],\"scattermapbox\":[{\"marker\":{\"colorbar\":{\"outlinewidth\":1,\"tickcolor\":\"rgb(36,36,36)\",\"ticks\":\"outside\"}},\"type\":\"scattermapbox\"}],\"scatterpolargl\":[{\"marker\":{\"colorbar\":{\"outlinewidth\":1,\"tickcolor\":\"rgb(36,36,36)\",\"ticks\":\"outside\"}},\"type\":\"scatterpolargl\"}],\"scatterpolar\":[{\"marker\":{\"colorbar\":{\"outlinewidth\":1,\"tickcolor\":\"rgb(36,36,36)\",\"ticks\":\"outside\"}},\"type\":\"scatterpolar\"}],\"scatter\":[{\"fillpattern\":{\"fillmode\":\"overlay\",\"size\":10,\"solidity\":0.2},\"type\":\"scatter\"}],\"scatterternary\":[{\"marker\":{\"colorbar\":{\"outlinewidth\":1,\"tickcolor\":\"rgb(36,36,36)\",\"ticks\":\"outside\"}},\"type\":\"scatterternary\"}],\"surface\":[{\"colorbar\":{\"outlinewidth\":1,\"tickcolor\":\"rgb(36,36,36)\",\"ticks\":\"outside\"},\"colorscale\":[[0.0,\"#440154\"],[0.1111111111111111,\"#482878\"],[0.2222222222222222,\"#3e4989\"],[0.3333333333333333,\"#31688e\"],[0.4444444444444444,\"#26828e\"],[0.5555555555555556,\"#1f9e89\"],[0.6666666666666666,\"#35b779\"],[0.7777777777777778,\"#6ece58\"],[0.8888888888888888,\"#b5de2b\"],[1.0,\"#fde725\"]],\"type\":\"surface\"}],\"table\":[{\"cells\":{\"fill\":{\"color\":\"rgb(237,237,237)\"},\"line\":{\"color\":\"white\"}},\"header\":{\"fill\":{\"color\":\"rgb(217,217,217)\"},\"line\":{\"color\":\"white\"}},\"type\":\"table\"}]},\"layout\":{\"annotationdefaults\":{\"arrowhead\":0,\"arrowwidth\":1},\"autotypenumbers\":\"strict\",\"coloraxis\":{\"colorbar\":{\"outlinewidth\":1,\"tickcolor\":\"rgb(36,36,36)\",\"ticks\":\"outside\"}},\"colorscale\":{\"diverging\":[[0.0,\"rgb(103,0,31)\"],[0.1,\"rgb(178,24,43)\"],[0.2,\"rgb(214,96,77)\"],[0.3,\"rgb(244,165,130)\"],[0.4,\"rgb(253,219,199)\"],[0.5,\"rgb(247,247,247)\"],[0.6,\"rgb(209,229,240)\"],[0.7,\"rgb(146,197,222)\"],[0.8,\"rgb(67,147,195)\"],[0.9,\"rgb(33,102,172)\"],[1.0,\"rgb(5,48,97)\"]],\"sequential\":[[0.0,\"#440154\"],[0.1111111111111111,\"#482878\"],[0.2222222222222222,\"#3e4989\"],[0.3333333333333333,\"#31688e\"],[0.4444444444444444,\"#26828e\"],[0.5555555555555556,\"#1f9e89\"],[0.6666666666666666,\"#35b779\"],[0.7777777777777778,\"#6ece58\"],[0.8888888888888888,\"#b5de2b\"],[1.0,\"#fde725\"]],\"sequentialminus\":[[0.0,\"#440154\"],[0.1111111111111111,\"#482878\"],[0.2222222222222222,\"#3e4989\"],[0.3333333333333333,\"#31688e\"],[0.4444444444444444,\"#26828e\"],[0.5555555555555556,\"#1f9e89\"],[0.6666666666666666,\"#35b779\"],[0.7777777777777778,\"#6ece58\"],[0.8888888888888888,\"#b5de2b\"],[1.0,\"#fde725\"]]},\"colorway\":[\"#1F77B4\",\"#FF7F0E\",\"#2CA02C\",\"#D62728\",\"#9467BD\",\"#8C564B\",\"#E377C2\",\"#7F7F7F\",\"#BCBD22\",\"#17BECF\"],\"font\":{\"color\":\"rgb(36,36,36)\"},\"geo\":{\"bgcolor\":\"white\",\"lakecolor\":\"white\",\"landcolor\":\"white\",\"showlakes\":true,\"showland\":true,\"subunitcolor\":\"white\"},\"hoverlabel\":{\"align\":\"left\"},\"hovermode\":\"closest\",\"mapbox\":{\"style\":\"light\"},\"paper_bgcolor\":\"white\",\"plot_bgcolor\":\"white\",\"polar\":{\"angularaxis\":{\"gridcolor\":\"rgb(232,232,232)\",\"linecolor\":\"rgb(36,36,36)\",\"showgrid\":false,\"showline\":true,\"ticks\":\"outside\"},\"bgcolor\":\"white\",\"radialaxis\":{\"gridcolor\":\"rgb(232,232,232)\",\"linecolor\":\"rgb(36,36,36)\",\"showgrid\":false,\"showline\":true,\"ticks\":\"outside\"}},\"scene\":{\"xaxis\":{\"backgroundcolor\":\"white\",\"gridcolor\":\"rgb(232,232,232)\",\"gridwidth\":2,\"linecolor\":\"rgb(36,36,36)\",\"showbackground\":true,\"showgrid\":false,\"showline\":true,\"ticks\":\"outside\",\"zeroline\":false,\"zerolinecolor\":\"rgb(36,36,36)\"},\"yaxis\":{\"backgroundcolor\":\"white\",\"gridcolor\":\"rgb(232,232,232)\",\"gridwidth\":2,\"linecolor\":\"rgb(36,36,36)\",\"showbackground\":true,\"showgrid\":false,\"showline\":true,\"ticks\":\"outside\",\"zeroline\":false,\"zerolinecolor\":\"rgb(36,36,36)\"},\"zaxis\":{\"backgroundcolor\":\"white\",\"gridcolor\":\"rgb(232,232,232)\",\"gridwidth\":2,\"linecolor\":\"rgb(36,36,36)\",\"showbackground\":true,\"showgrid\":false,\"showline\":true,\"ticks\":\"outside\",\"zeroline\":false,\"zerolinecolor\":\"rgb(36,36,36)\"}},\"shapedefaults\":{\"fillcolor\":\"black\",\"line\":{\"width\":0},\"opacity\":0.3},\"ternary\":{\"aaxis\":{\"gridcolor\":\"rgb(232,232,232)\",\"linecolor\":\"rgb(36,36,36)\",\"showgrid\":false,\"showline\":true,\"ticks\":\"outside\"},\"baxis\":{\"gridcolor\":\"rgb(232,232,232)\",\"linecolor\":\"rgb(36,36,36)\",\"showgrid\":false,\"showline\":true,\"ticks\":\"outside\"},\"bgcolor\":\"white\",\"caxis\":{\"gridcolor\":\"rgb(232,232,232)\",\"linecolor\":\"rgb(36,36,36)\",\"showgrid\":false,\"showline\":true,\"ticks\":\"outside\"}},\"title\":{\"x\":0.05},\"xaxis\":{\"automargin\":true,\"gridcolor\":\"rgb(232,232,232)\",\"linecolor\":\"rgb(36,36,36)\",\"showgrid\":false,\"showline\":true,\"ticks\":\"outside\",\"title\":{\"standoff\":15},\"zeroline\":false,\"zerolinecolor\":\"rgb(36,36,36)\"},\"yaxis\":{\"automargin\":true,\"gridcolor\":\"rgb(232,232,232)\",\"linecolor\":\"rgb(36,36,36)\",\"showgrid\":false,\"showline\":true,\"ticks\":\"outside\",\"title\":{\"standoff\":15},\"zeroline\":false,\"zerolinecolor\":\"rgb(36,36,36)\"}}},\"yaxis\":{\"title\":{\"text\":\"Volume [Vehicles/Hour]\"},\"showgrid\":true,\"range\":[0,2000]},\"font\":{\"family\":\"helvetica\",\"size\":26},\"legend\":{\"yanchor\":\"top\",\"y\":1.0,\"xanchor\":\"right\",\"x\":1,\"orientation\":\"h\"},\"xaxis\":{\"tickangle\":15},\"height\":600,\"width\":1200,\"showlegend\":true},                        {\"responsive\": true}                    ).then(function(){\n",
       "                            \n",
       "var gd = document.getElementById('1be9b757-b6c3-4ce1-be82-e10e05cd9c4f');\n",
       "var x = new MutationObserver(function (mutations, observer) {{\n",
       "        var display = window.getComputedStyle(gd).display;\n",
       "        if (!display || display === 'none') {{\n",
       "            console.log([gd, 'removed!']);\n",
       "            Plotly.purge(gd);\n",
       "            observer.disconnect();\n",
       "        }}\n",
       "}});\n",
       "\n",
       "// Listen for the removal of the full notebook cells\n",
       "var notebookContainer = gd.closest('#notebook-container');\n",
       "if (notebookContainer) {{\n",
       "    x.observe(notebookContainer, {childList: true});\n",
       "}}\n",
       "\n",
       "// Listen for the clearing of the current output cell\n",
       "var outputEl = gd.closest('.output');\n",
       "if (outputEl) {{\n",
       "    x.observe(outputEl, {childList: true});\n",
       "}}\n",
       "\n",
       "                        })                };                });            </script>        </div>"
      ]
     },
     "metadata": {},
     "output_type": "display_data"
    },
    {
     "name": "stdout",
     "output_type": "stream",
     "text": [
      "{63082003-WB.png/TL2-WB},%\n"
     ]
    },
    {
     "data": {
      "application/vnd.plotly.v1+json": {
       "config": {
        "plotlyServerURL": "https://plot.ly"
       },
       "data": [
        {
         "line": {
          "color": "#ffa600",
          "width": 3
         },
         "name": "Criteria I.",
         "type": "scatter",
         "x": [
          "2020-02-24T05:30:00",
          "2020-02-24T05:40:00",
          "2020-02-24T05:50:00",
          "2020-02-24T06:00:00",
          "2020-02-24T06:10:00",
          "2020-02-24T06:20:00",
          "2020-02-24T06:30:00",
          "2020-02-24T06:40:00",
          "2020-02-24T06:50:00",
          "2020-02-24T07:00:00",
          "2020-02-24T07:10:00",
          "2020-02-24T07:20:00",
          "2020-02-24T07:30:00",
          "2020-02-24T07:40:00",
          "2020-02-24T07:50:00",
          "2020-02-24T08:00:00",
          "2020-02-24T08:10:00",
          "2020-02-24T08:20:00",
          "2020-02-24T08:30:00",
          "2020-02-24T08:40:00",
          "2020-02-24T08:50:00",
          "2020-02-24T09:00:00",
          "2020-02-24T09:10:00",
          "2020-02-24T09:20:00",
          "2020-02-24T09:30:00",
          "2020-02-24T09:40:00",
          "2020-02-24T09:50:00",
          "2020-02-24T10:00:00",
          "2020-02-24T10:10:00",
          "2020-02-24T10:20:00",
          "2020-02-24T10:30:00",
          "2020-02-24T10:40:00",
          "2020-02-24T10:50:00",
          "2020-02-24T11:00:00",
          "2020-02-24T11:10:00",
          "2020-02-24T11:20:00",
          "2020-02-24T11:30:00",
          "2020-02-24T11:40:00"
         ],
         "y": [
          644.7518255757047,
          792.7081272152852,
          742.1097266635516,
          920.3399059445699,
          1181.3311415661904,
          1412.7430561407486,
          1511.5125815595334,
          1501.7048511252126,
          1244.8715716025642,
          1340.3147546388211,
          1548.2222479061434,
          1306.9764353081928,
          1377.9576171362064,
          1487.9336835837976,
          1061.6984119062763,
          1228.395750511842,
          1062.5023681677483,
          1022.1033884893998,
          988.2404132088714,
          1104.453797653285,
          1011.1602896011641,
          997.8047991215859,
          889.2182103862156,
          856.3509100155574,
          961.1607624421908,
          921.3430145549494,
          818.02773485407,
          837.9686073736389,
          858.3131093129073,
          843.0194649888749,
          977.1998821306878,
          778.8072755481495,
          830.5455770171957,
          956.7925926367348,
          892.4697526703649,
          906.8419547043466,
          906.8076135348239,
          809.9281852448559
         ]
        },
        {
         "fill": "tonexty",
         "line": {
          "color": "#ffa600",
          "width": 3
         },
         "name": "Criteria I",
         "showlegend": false,
         "type": "scatter",
         "x": [
          "2020-02-24T05:30:00",
          "2020-02-24T05:40:00",
          "2020-02-24T05:50:00",
          "2020-02-24T06:00:00",
          "2020-02-24T06:10:00",
          "2020-02-24T06:20:00",
          "2020-02-24T06:30:00",
          "2020-02-24T06:40:00",
          "2020-02-24T06:50:00",
          "2020-02-24T07:00:00",
          "2020-02-24T07:10:00",
          "2020-02-24T07:20:00",
          "2020-02-24T07:30:00",
          "2020-02-24T07:40:00",
          "2020-02-24T07:50:00",
          "2020-02-24T08:00:00",
          "2020-02-24T08:10:00",
          "2020-02-24T08:20:00",
          "2020-02-24T08:30:00",
          "2020-02-24T08:40:00",
          "2020-02-24T08:50:00",
          "2020-02-24T09:00:00",
          "2020-02-24T09:10:00",
          "2020-02-24T09:20:00",
          "2020-02-24T09:30:00",
          "2020-02-24T09:40:00",
          "2020-02-24T09:50:00",
          "2020-02-24T10:00:00",
          "2020-02-24T10:10:00",
          "2020-02-24T10:20:00",
          "2020-02-24T10:30:00",
          "2020-02-24T10:40:00",
          "2020-02-24T10:50:00",
          "2020-02-24T11:00:00",
          "2020-02-24T11:10:00",
          "2020-02-24T11:20:00",
          "2020-02-24T11:30:00",
          "2020-02-24T11:40:00"
         ],
         "y": [
          183.24817442429523,
          299.29187278471477,
          301.8902733364484,
          387.6600940554302,
          426.6688584338097,
          579.2569438592514,
          576.4874184404666,
          610.2951488747874,
          495.12842839743575,
          651.6852453611789,
          827.7777520938566,
          709.0235646918072,
          722.0423828637936,
          864.0663164162025,
          582.3015880937237,
          547.6042494881582,
          305.4976318322517,
          393.89661151060017,
          367.7595867911287,
          227.54620234671512,
          308.83971039883585,
          370.1952008784141,
          478.7817896137844,
          415.64908998444264,
          478.8392375578091,
          446.6569854450507,
          357.97226514593,
          410.0313926263611,
          425.6868906870928,
          404.980535011125,
          570.8001178693122,
          301.1927244518505,
          405.45442298280426,
          447.2074073632653,
          439.5302473296351,
          437.1580452956534,
          473.1923864651761,
          594.0718147551441
         ]
        },
        {
         "line": {
          "color": "#bc5090",
          "width": 3
         },
         "name": "Criteria II.",
         "type": "scatter",
         "x": [
          "2020-02-24T05:30:00",
          "2020-02-24T05:40:00",
          "2020-02-24T05:50:00",
          "2020-02-24T06:00:00",
          "2020-02-24T06:10:00",
          "2020-02-24T06:20:00",
          "2020-02-24T06:30:00",
          "2020-02-24T06:40:00",
          "2020-02-24T06:50:00",
          "2020-02-24T07:00:00",
          "2020-02-24T07:10:00",
          "2020-02-24T07:20:00",
          "2020-02-24T07:30:00",
          "2020-02-24T07:40:00",
          "2020-02-24T07:50:00",
          "2020-02-24T08:00:00",
          "2020-02-24T08:10:00",
          "2020-02-24T08:20:00",
          "2020-02-24T08:30:00",
          "2020-02-24T08:40:00",
          "2020-02-24T08:50:00",
          "2020-02-24T09:00:00",
          "2020-02-24T09:10:00",
          "2020-02-24T09:20:00",
          "2020-02-24T09:30:00",
          "2020-02-24T09:40:00",
          "2020-02-24T09:50:00",
          "2020-02-24T10:00:00",
          "2020-02-24T10:10:00",
          "2020-02-24T10:20:00",
          "2020-02-24T10:30:00",
          "2020-02-24T10:40:00",
          "2020-02-24T10:50:00",
          "2020-02-24T11:00:00",
          "2020-02-24T11:10:00",
          "2020-02-24T11:20:00",
          "2020-02-24T11:30:00",
          "2020-02-24T11:40:00"
         ],
         "y": [
          531.7305232529106,
          671.8714934771864,
          634.3008809507917,
          789.8877071145764,
          996.5158885541787,
          1208.624008235076,
          1282.5268273262925,
          1283.4004342475575,
          1061.2610059196757,
          1171.670793183072,
          1371.786861176604,
          1160.5389976062208,
          1217.3253148654114,
          1335.149838563162,
          944.2951081154471,
          1061.671301281552,
          877.1134531468103,
          868.2568308619386,
          836.285925106567,
          889.7009171700433,
          839.1634130618185,
          844.1044893477479,
          788.7031685643957,
          748.4239336814069,
          843.0412053276484,
          805.0933747729333,
          705.3610892112602,
          733.1676568232851,
          752.3638312820955,
          735.744624994324,
          877.6734092503509,
          661.8404467082396,
          726.4416209271407,
          831.9962207330279,
          781.5457921787577,
          791.8173238287483,
          800.6161293545019,
          757.0654006351306
         ]
        },
        {
         "fill": "tonexty",
         "line": {
          "color": "#bc5090",
          "width": 3
         },
         "name": "Criteria II",
         "showlegend": false,
         "type": "scatter",
         "x": [
          "2020-02-24T05:30:00",
          "2020-02-24T05:40:00",
          "2020-02-24T05:50:00",
          "2020-02-24T06:00:00",
          "2020-02-24T06:10:00",
          "2020-02-24T06:20:00",
          "2020-02-24T06:30:00",
          "2020-02-24T06:40:00",
          "2020-02-24T06:50:00",
          "2020-02-24T07:00:00",
          "2020-02-24T07:10:00",
          "2020-02-24T07:20:00",
          "2020-02-24T07:30:00",
          "2020-02-24T07:40:00",
          "2020-02-24T07:50:00",
          "2020-02-24T08:00:00",
          "2020-02-24T08:10:00",
          "2020-02-24T08:20:00",
          "2020-02-24T08:30:00",
          "2020-02-24T08:40:00",
          "2020-02-24T08:50:00",
          "2020-02-24T09:00:00",
          "2020-02-24T09:10:00",
          "2020-02-24T09:20:00",
          "2020-02-24T09:30:00",
          "2020-02-24T09:40:00",
          "2020-02-24T09:50:00",
          "2020-02-24T10:00:00",
          "2020-02-24T10:10:00",
          "2020-02-24T10:20:00",
          "2020-02-24T10:30:00",
          "2020-02-24T10:40:00",
          "2020-02-24T10:50:00",
          "2020-02-24T11:00:00",
          "2020-02-24T11:10:00",
          "2020-02-24T11:20:00",
          "2020-02-24T11:30:00",
          "2020-02-24T11:40:00"
         ],
         "y": [
          296.2694767470894,
          420.12850652281367,
          409.6991190492084,
          518.1122928854236,
          611.4841114458213,
          783.3759917649242,
          805.4731726737075,
          828.5995657524425,
          678.7389940803243,
          820.329206816928,
          1004.2131388233962,
          855.4610023937792,
          882.6746851345886,
          1016.850161436838,
          699.7048918845529,
          714.3286987184481,
          490.88654685318966,
          547.7431691380614,
          519.714074893433,
          442.29908282995666,
          480.83658693818154,
          523.8955106522521,
          579.2968314356043,
          523.5760663185931,
          596.9587946723516,
          562.9066252270667,
          470.6389107887398,
          514.8323431767149,
          531.6361687179045,
          512.255375005676,
          670.3265907496491,
          418.15955329176046,
          509.55837907285934,
          572.0037792669721,
          550.4542078212423,
          552.1826761712517,
          579.3838706454981,
          646.9345993648694
         ]
        },
        {
         "line": {
          "color": "#003f5c",
          "width": 5
         },
         "name": "Representative Day",
         "type": "scatter",
         "x": [
          "2020-02-24T05:30:00",
          "2020-02-24T05:40:00",
          "2020-02-24T05:50:00",
          "2020-02-24T06:00:00",
          "2020-02-24T06:10:00",
          "2020-02-24T06:20:00",
          "2020-02-24T06:30:00",
          "2020-02-24T06:40:00",
          "2020-02-24T06:50:00",
          "2020-02-24T07:00:00",
          "2020-02-24T07:10:00",
          "2020-02-24T07:20:00",
          "2020-02-24T07:30:00",
          "2020-02-24T07:40:00",
          "2020-02-24T07:50:00",
          "2020-02-24T08:00:00",
          "2020-02-24T08:10:00",
          "2020-02-24T08:20:00",
          "2020-02-24T08:30:00",
          "2020-02-24T08:40:00",
          "2020-02-24T08:50:00",
          "2020-02-24T09:00:00",
          "2020-02-24T09:10:00",
          "2020-02-24T09:20:00",
          "2020-02-24T09:30:00",
          "2020-02-24T09:40:00",
          "2020-02-24T09:50:00",
          "2020-02-24T10:00:00",
          "2020-02-24T10:10:00",
          "2020-02-24T10:20:00",
          "2020-02-24T10:30:00",
          "2020-02-24T10:40:00",
          "2020-02-24T10:50:00",
          "2020-02-24T11:00:00",
          "2020-02-24T11:10:00",
          "2020-02-24T11:20:00",
          "2020-02-24T11:30:00",
          "2020-02-24T11:40:00"
         ],
         "y": [
          414,
          546,
          522,
          654,
          804,
          996,
          1044,
          1056,
          870,
          996,
          1188,
          1008,
          1050,
          1176,
          822,
          888,
          684,
          708,
          678,
          666,
          660,
          684,
          684,
          636,
          720,
          684,
          588,
          624,
          642,
          624,
          774,
          540,
          618,
          702,
          666,
          672,
          690,
          702
         ]
        },
        {
         "marker": {
          "color": "red",
          "line": {
           "color": "black",
           "width": 2
          },
          "size": 15,
          "symbol": "diamond"
         },
         "mode": "markers",
         "name": "Simulation",
         "type": "scatter",
         "x": [
          "2020-02-24T05:30:00",
          "2020-02-24T05:40:00",
          "2020-02-24T05:50:00",
          "2020-02-24T06:00:00",
          "2020-02-24T06:10:00",
          "2020-02-24T06:20:00",
          "2020-02-24T06:30:00",
          "2020-02-24T06:40:00",
          "2020-02-24T06:50:00",
          "2020-02-24T07:00:00",
          "2020-02-24T07:10:00",
          "2020-02-24T07:20:00",
          "2020-02-24T07:30:00",
          "2020-02-24T07:40:00",
          "2020-02-24T07:50:00",
          "2020-02-24T08:00:00",
          "2020-02-24T08:10:00",
          "2020-02-24T08:20:00",
          "2020-02-24T08:30:00",
          "2020-02-24T08:40:00",
          "2020-02-24T08:50:00",
          "2020-02-24T09:00:00",
          "2020-02-24T09:10:00",
          "2020-02-24T09:20:00",
          "2020-02-24T09:30:00",
          "2020-02-24T09:40:00",
          "2020-02-24T09:50:00",
          "2020-02-24T10:00:00",
          "2020-02-24T10:10:00",
          "2020-02-24T10:20:00",
          "2020-02-24T10:30:00",
          "2020-02-24T10:40:00",
          "2020-02-24T10:50:00",
          "2020-02-24T11:00:00",
          "2020-02-24T11:10:00",
          "2020-02-24T11:20:00",
          "2020-02-24T11:30:00",
          "2020-02-24T11:40:00"
         ],
         "y": [
          462,
          540,
          492,
          702,
          870,
          990,
          1068,
          1026,
          870,
          1050,
          1122,
          1086,
          1074,
          990,
          894,
          954,
          636,
          774,
          642,
          642,
          762,
          702,
          642,
          570,
          564,
          654,
          588,
          624,
          660,
          720,
          804,
          582,
          660,
          822,
          552,
          642,
          786,
          696
         ]
        }
       ],
       "layout": {
        "font": {
         "family": "helvetica",
         "size": 26
        },
        "height": 600,
        "legend": {
         "orientation": "h",
         "x": 1,
         "xanchor": "right",
         "y": 1,
         "yanchor": "top"
        },
        "showlegend": true,
        "template": {
         "data": {
          "bar": [
           {
            "error_x": {
             "color": "rgb(36,36,36)"
            },
            "error_y": {
             "color": "rgb(36,36,36)"
            },
            "marker": {
             "line": {
              "color": "white",
              "width": 0.5
             },
             "pattern": {
              "fillmode": "overlay",
              "size": 10,
              "solidity": 0.2
             }
            },
            "type": "bar"
           }
          ],
          "barpolar": [
           {
            "marker": {
             "line": {
              "color": "white",
              "width": 0.5
             },
             "pattern": {
              "fillmode": "overlay",
              "size": 10,
              "solidity": 0.2
             }
            },
            "type": "barpolar"
           }
          ],
          "carpet": [
           {
            "aaxis": {
             "endlinecolor": "rgb(36,36,36)",
             "gridcolor": "white",
             "linecolor": "white",
             "minorgridcolor": "white",
             "startlinecolor": "rgb(36,36,36)"
            },
            "baxis": {
             "endlinecolor": "rgb(36,36,36)",
             "gridcolor": "white",
             "linecolor": "white",
             "minorgridcolor": "white",
             "startlinecolor": "rgb(36,36,36)"
            },
            "type": "carpet"
           }
          ],
          "choropleth": [
           {
            "colorbar": {
             "outlinewidth": 1,
             "tickcolor": "rgb(36,36,36)",
             "ticks": "outside"
            },
            "type": "choropleth"
           }
          ],
          "contour": [
           {
            "colorbar": {
             "outlinewidth": 1,
             "tickcolor": "rgb(36,36,36)",
             "ticks": "outside"
            },
            "colorscale": [
             [
              0,
              "#440154"
             ],
             [
              0.1111111111111111,
              "#482878"
             ],
             [
              0.2222222222222222,
              "#3e4989"
             ],
             [
              0.3333333333333333,
              "#31688e"
             ],
             [
              0.4444444444444444,
              "#26828e"
             ],
             [
              0.5555555555555556,
              "#1f9e89"
             ],
             [
              0.6666666666666666,
              "#35b779"
             ],
             [
              0.7777777777777778,
              "#6ece58"
             ],
             [
              0.8888888888888888,
              "#b5de2b"
             ],
             [
              1,
              "#fde725"
             ]
            ],
            "type": "contour"
           }
          ],
          "contourcarpet": [
           {
            "colorbar": {
             "outlinewidth": 1,
             "tickcolor": "rgb(36,36,36)",
             "ticks": "outside"
            },
            "type": "contourcarpet"
           }
          ],
          "heatmap": [
           {
            "colorbar": {
             "outlinewidth": 1,
             "tickcolor": "rgb(36,36,36)",
             "ticks": "outside"
            },
            "colorscale": [
             [
              0,
              "#440154"
             ],
             [
              0.1111111111111111,
              "#482878"
             ],
             [
              0.2222222222222222,
              "#3e4989"
             ],
             [
              0.3333333333333333,
              "#31688e"
             ],
             [
              0.4444444444444444,
              "#26828e"
             ],
             [
              0.5555555555555556,
              "#1f9e89"
             ],
             [
              0.6666666666666666,
              "#35b779"
             ],
             [
              0.7777777777777778,
              "#6ece58"
             ],
             [
              0.8888888888888888,
              "#b5de2b"
             ],
             [
              1,
              "#fde725"
             ]
            ],
            "type": "heatmap"
           }
          ],
          "heatmapgl": [
           {
            "colorbar": {
             "outlinewidth": 1,
             "tickcolor": "rgb(36,36,36)",
             "ticks": "outside"
            },
            "colorscale": [
             [
              0,
              "#440154"
             ],
             [
              0.1111111111111111,
              "#482878"
             ],
             [
              0.2222222222222222,
              "#3e4989"
             ],
             [
              0.3333333333333333,
              "#31688e"
             ],
             [
              0.4444444444444444,
              "#26828e"
             ],
             [
              0.5555555555555556,
              "#1f9e89"
             ],
             [
              0.6666666666666666,
              "#35b779"
             ],
             [
              0.7777777777777778,
              "#6ece58"
             ],
             [
              0.8888888888888888,
              "#b5de2b"
             ],
             [
              1,
              "#fde725"
             ]
            ],
            "type": "heatmapgl"
           }
          ],
          "histogram": [
           {
            "marker": {
             "line": {
              "color": "white",
              "width": 0.6
             }
            },
            "type": "histogram"
           }
          ],
          "histogram2d": [
           {
            "colorbar": {
             "outlinewidth": 1,
             "tickcolor": "rgb(36,36,36)",
             "ticks": "outside"
            },
            "colorscale": [
             [
              0,
              "#440154"
             ],
             [
              0.1111111111111111,
              "#482878"
             ],
             [
              0.2222222222222222,
              "#3e4989"
             ],
             [
              0.3333333333333333,
              "#31688e"
             ],
             [
              0.4444444444444444,
              "#26828e"
             ],
             [
              0.5555555555555556,
              "#1f9e89"
             ],
             [
              0.6666666666666666,
              "#35b779"
             ],
             [
              0.7777777777777778,
              "#6ece58"
             ],
             [
              0.8888888888888888,
              "#b5de2b"
             ],
             [
              1,
              "#fde725"
             ]
            ],
            "type": "histogram2d"
           }
          ],
          "histogram2dcontour": [
           {
            "colorbar": {
             "outlinewidth": 1,
             "tickcolor": "rgb(36,36,36)",
             "ticks": "outside"
            },
            "colorscale": [
             [
              0,
              "#440154"
             ],
             [
              0.1111111111111111,
              "#482878"
             ],
             [
              0.2222222222222222,
              "#3e4989"
             ],
             [
              0.3333333333333333,
              "#31688e"
             ],
             [
              0.4444444444444444,
              "#26828e"
             ],
             [
              0.5555555555555556,
              "#1f9e89"
             ],
             [
              0.6666666666666666,
              "#35b779"
             ],
             [
              0.7777777777777778,
              "#6ece58"
             ],
             [
              0.8888888888888888,
              "#b5de2b"
             ],
             [
              1,
              "#fde725"
             ]
            ],
            "type": "histogram2dcontour"
           }
          ],
          "mesh3d": [
           {
            "colorbar": {
             "outlinewidth": 1,
             "tickcolor": "rgb(36,36,36)",
             "ticks": "outside"
            },
            "type": "mesh3d"
           }
          ],
          "parcoords": [
           {
            "line": {
             "colorbar": {
              "outlinewidth": 1,
              "tickcolor": "rgb(36,36,36)",
              "ticks": "outside"
             }
            },
            "type": "parcoords"
           }
          ],
          "pie": [
           {
            "automargin": true,
            "type": "pie"
           }
          ],
          "scatter": [
           {
            "fillpattern": {
             "fillmode": "overlay",
             "size": 10,
             "solidity": 0.2
            },
            "type": "scatter"
           }
          ],
          "scatter3d": [
           {
            "line": {
             "colorbar": {
              "outlinewidth": 1,
              "tickcolor": "rgb(36,36,36)",
              "ticks": "outside"
             }
            },
            "marker": {
             "colorbar": {
              "outlinewidth": 1,
              "tickcolor": "rgb(36,36,36)",
              "ticks": "outside"
             }
            },
            "type": "scatter3d"
           }
          ],
          "scattercarpet": [
           {
            "marker": {
             "colorbar": {
              "outlinewidth": 1,
              "tickcolor": "rgb(36,36,36)",
              "ticks": "outside"
             }
            },
            "type": "scattercarpet"
           }
          ],
          "scattergeo": [
           {
            "marker": {
             "colorbar": {
              "outlinewidth": 1,
              "tickcolor": "rgb(36,36,36)",
              "ticks": "outside"
             }
            },
            "type": "scattergeo"
           }
          ],
          "scattergl": [
           {
            "marker": {
             "colorbar": {
              "outlinewidth": 1,
              "tickcolor": "rgb(36,36,36)",
              "ticks": "outside"
             }
            },
            "type": "scattergl"
           }
          ],
          "scattermapbox": [
           {
            "marker": {
             "colorbar": {
              "outlinewidth": 1,
              "tickcolor": "rgb(36,36,36)",
              "ticks": "outside"
             }
            },
            "type": "scattermapbox"
           }
          ],
          "scatterpolar": [
           {
            "marker": {
             "colorbar": {
              "outlinewidth": 1,
              "tickcolor": "rgb(36,36,36)",
              "ticks": "outside"
             }
            },
            "type": "scatterpolar"
           }
          ],
          "scatterpolargl": [
           {
            "marker": {
             "colorbar": {
              "outlinewidth": 1,
              "tickcolor": "rgb(36,36,36)",
              "ticks": "outside"
             }
            },
            "type": "scatterpolargl"
           }
          ],
          "scatterternary": [
           {
            "marker": {
             "colorbar": {
              "outlinewidth": 1,
              "tickcolor": "rgb(36,36,36)",
              "ticks": "outside"
             }
            },
            "type": "scatterternary"
           }
          ],
          "surface": [
           {
            "colorbar": {
             "outlinewidth": 1,
             "tickcolor": "rgb(36,36,36)",
             "ticks": "outside"
            },
            "colorscale": [
             [
              0,
              "#440154"
             ],
             [
              0.1111111111111111,
              "#482878"
             ],
             [
              0.2222222222222222,
              "#3e4989"
             ],
             [
              0.3333333333333333,
              "#31688e"
             ],
             [
              0.4444444444444444,
              "#26828e"
             ],
             [
              0.5555555555555556,
              "#1f9e89"
             ],
             [
              0.6666666666666666,
              "#35b779"
             ],
             [
              0.7777777777777778,
              "#6ece58"
             ],
             [
              0.8888888888888888,
              "#b5de2b"
             ],
             [
              1,
              "#fde725"
             ]
            ],
            "type": "surface"
           }
          ],
          "table": [
           {
            "cells": {
             "fill": {
              "color": "rgb(237,237,237)"
             },
             "line": {
              "color": "white"
             }
            },
            "header": {
             "fill": {
              "color": "rgb(217,217,217)"
             },
             "line": {
              "color": "white"
             }
            },
            "type": "table"
           }
          ]
         },
         "layout": {
          "annotationdefaults": {
           "arrowhead": 0,
           "arrowwidth": 1
          },
          "autotypenumbers": "strict",
          "coloraxis": {
           "colorbar": {
            "outlinewidth": 1,
            "tickcolor": "rgb(36,36,36)",
            "ticks": "outside"
           }
          },
          "colorscale": {
           "diverging": [
            [
             0,
             "rgb(103,0,31)"
            ],
            [
             0.1,
             "rgb(178,24,43)"
            ],
            [
             0.2,
             "rgb(214,96,77)"
            ],
            [
             0.3,
             "rgb(244,165,130)"
            ],
            [
             0.4,
             "rgb(253,219,199)"
            ],
            [
             0.5,
             "rgb(247,247,247)"
            ],
            [
             0.6,
             "rgb(209,229,240)"
            ],
            [
             0.7,
             "rgb(146,197,222)"
            ],
            [
             0.8,
             "rgb(67,147,195)"
            ],
            [
             0.9,
             "rgb(33,102,172)"
            ],
            [
             1,
             "rgb(5,48,97)"
            ]
           ],
           "sequential": [
            [
             0,
             "#440154"
            ],
            [
             0.1111111111111111,
             "#482878"
            ],
            [
             0.2222222222222222,
             "#3e4989"
            ],
            [
             0.3333333333333333,
             "#31688e"
            ],
            [
             0.4444444444444444,
             "#26828e"
            ],
            [
             0.5555555555555556,
             "#1f9e89"
            ],
            [
             0.6666666666666666,
             "#35b779"
            ],
            [
             0.7777777777777778,
             "#6ece58"
            ],
            [
             0.8888888888888888,
             "#b5de2b"
            ],
            [
             1,
             "#fde725"
            ]
           ],
           "sequentialminus": [
            [
             0,
             "#440154"
            ],
            [
             0.1111111111111111,
             "#482878"
            ],
            [
             0.2222222222222222,
             "#3e4989"
            ],
            [
             0.3333333333333333,
             "#31688e"
            ],
            [
             0.4444444444444444,
             "#26828e"
            ],
            [
             0.5555555555555556,
             "#1f9e89"
            ],
            [
             0.6666666666666666,
             "#35b779"
            ],
            [
             0.7777777777777778,
             "#6ece58"
            ],
            [
             0.8888888888888888,
             "#b5de2b"
            ],
            [
             1,
             "#fde725"
            ]
           ]
          },
          "colorway": [
           "#1F77B4",
           "#FF7F0E",
           "#2CA02C",
           "#D62728",
           "#9467BD",
           "#8C564B",
           "#E377C2",
           "#7F7F7F",
           "#BCBD22",
           "#17BECF"
          ],
          "font": {
           "color": "rgb(36,36,36)"
          },
          "geo": {
           "bgcolor": "white",
           "lakecolor": "white",
           "landcolor": "white",
           "showlakes": true,
           "showland": true,
           "subunitcolor": "white"
          },
          "hoverlabel": {
           "align": "left"
          },
          "hovermode": "closest",
          "mapbox": {
           "style": "light"
          },
          "paper_bgcolor": "white",
          "plot_bgcolor": "white",
          "polar": {
           "angularaxis": {
            "gridcolor": "rgb(232,232,232)",
            "linecolor": "rgb(36,36,36)",
            "showgrid": false,
            "showline": true,
            "ticks": "outside"
           },
           "bgcolor": "white",
           "radialaxis": {
            "gridcolor": "rgb(232,232,232)",
            "linecolor": "rgb(36,36,36)",
            "showgrid": false,
            "showline": true,
            "ticks": "outside"
           }
          },
          "scene": {
           "xaxis": {
            "backgroundcolor": "white",
            "gridcolor": "rgb(232,232,232)",
            "gridwidth": 2,
            "linecolor": "rgb(36,36,36)",
            "showbackground": true,
            "showgrid": false,
            "showline": true,
            "ticks": "outside",
            "zeroline": false,
            "zerolinecolor": "rgb(36,36,36)"
           },
           "yaxis": {
            "backgroundcolor": "white",
            "gridcolor": "rgb(232,232,232)",
            "gridwidth": 2,
            "linecolor": "rgb(36,36,36)",
            "showbackground": true,
            "showgrid": false,
            "showline": true,
            "ticks": "outside",
            "zeroline": false,
            "zerolinecolor": "rgb(36,36,36)"
           },
           "zaxis": {
            "backgroundcolor": "white",
            "gridcolor": "rgb(232,232,232)",
            "gridwidth": 2,
            "linecolor": "rgb(36,36,36)",
            "showbackground": true,
            "showgrid": false,
            "showline": true,
            "ticks": "outside",
            "zeroline": false,
            "zerolinecolor": "rgb(36,36,36)"
           }
          },
          "shapedefaults": {
           "fillcolor": "black",
           "line": {
            "width": 0
           },
           "opacity": 0.3
          },
          "ternary": {
           "aaxis": {
            "gridcolor": "rgb(232,232,232)",
            "linecolor": "rgb(36,36,36)",
            "showgrid": false,
            "showline": true,
            "ticks": "outside"
           },
           "baxis": {
            "gridcolor": "rgb(232,232,232)",
            "linecolor": "rgb(36,36,36)",
            "showgrid": false,
            "showline": true,
            "ticks": "outside"
           },
           "bgcolor": "white",
           "caxis": {
            "gridcolor": "rgb(232,232,232)",
            "linecolor": "rgb(36,36,36)",
            "showgrid": false,
            "showline": true,
            "ticks": "outside"
           }
          },
          "title": {
           "x": 0.05
          },
          "xaxis": {
           "automargin": true,
           "gridcolor": "rgb(232,232,232)",
           "linecolor": "rgb(36,36,36)",
           "showgrid": false,
           "showline": true,
           "ticks": "outside",
           "title": {
            "standoff": 15
           },
           "zeroline": false,
           "zerolinecolor": "rgb(36,36,36)"
          },
          "yaxis": {
           "automargin": true,
           "gridcolor": "rgb(232,232,232)",
           "linecolor": "rgb(36,36,36)",
           "showgrid": false,
           "showline": true,
           "ticks": "outside",
           "title": {
            "standoff": 15
           },
           "zeroline": false,
           "zerolinecolor": "rgb(36,36,36)"
          }
         }
        },
        "width": 1200,
        "xaxis": {
         "tickangle": 15
        },
        "yaxis": {
         "range": [
          0,
          2000
         ],
         "showgrid": true,
         "title": {
          "text": "Volume [Vehicles/Hour]"
         }
        }
       }
      },
      "text/html": [
       "<div>                            <div id=\"bc35e7c5-4525-4cb9-9959-cd0b059db624\" class=\"plotly-graph-div\" style=\"height:600px; width:1200px;\"></div>            <script type=\"text/javascript\">                require([\"plotly\"], function(Plotly) {                    window.PLOTLYENV=window.PLOTLYENV || {};                                    if (document.getElementById(\"bc35e7c5-4525-4cb9-9959-cd0b059db624\")) {                    Plotly.newPlot(                        \"bc35e7c5-4525-4cb9-9959-cd0b059db624\",                        [{\"line\":{\"color\":\"#ffa600\",\"width\":3},\"name\":\"Criteria I.\",\"x\":[\"2020-02-24T05:30:00\",\"2020-02-24T05:40:00\",\"2020-02-24T05:50:00\",\"2020-02-24T06:00:00\",\"2020-02-24T06:10:00\",\"2020-02-24T06:20:00\",\"2020-02-24T06:30:00\",\"2020-02-24T06:40:00\",\"2020-02-24T06:50:00\",\"2020-02-24T07:00:00\",\"2020-02-24T07:10:00\",\"2020-02-24T07:20:00\",\"2020-02-24T07:30:00\",\"2020-02-24T07:40:00\",\"2020-02-24T07:50:00\",\"2020-02-24T08:00:00\",\"2020-02-24T08:10:00\",\"2020-02-24T08:20:00\",\"2020-02-24T08:30:00\",\"2020-02-24T08:40:00\",\"2020-02-24T08:50:00\",\"2020-02-24T09:00:00\",\"2020-02-24T09:10:00\",\"2020-02-24T09:20:00\",\"2020-02-24T09:30:00\",\"2020-02-24T09:40:00\",\"2020-02-24T09:50:00\",\"2020-02-24T10:00:00\",\"2020-02-24T10:10:00\",\"2020-02-24T10:20:00\",\"2020-02-24T10:30:00\",\"2020-02-24T10:40:00\",\"2020-02-24T10:50:00\",\"2020-02-24T11:00:00\",\"2020-02-24T11:10:00\",\"2020-02-24T11:20:00\",\"2020-02-24T11:30:00\",\"2020-02-24T11:40:00\"],\"y\":[644.7518255757047,792.7081272152852,742.1097266635516,920.3399059445699,1181.3311415661904,1412.7430561407486,1511.5125815595334,1501.7048511252126,1244.8715716025642,1340.3147546388211,1548.2222479061434,1306.9764353081928,1377.9576171362064,1487.9336835837976,1061.6984119062763,1228.395750511842,1062.5023681677483,1022.1033884893998,988.2404132088714,1104.453797653285,1011.1602896011641,997.8047991215859,889.2182103862156,856.3509100155574,961.1607624421908,921.3430145549494,818.02773485407,837.9686073736389,858.3131093129073,843.0194649888749,977.1998821306878,778.8072755481495,830.5455770171957,956.7925926367348,892.4697526703649,906.8419547043466,906.8076135348239,809.9281852448559],\"type\":\"scatter\"},{\"fill\":\"tonexty\",\"line\":{\"color\":\"#ffa600\",\"width\":3},\"name\":\"Criteria I\",\"showlegend\":false,\"x\":[\"2020-02-24T05:30:00\",\"2020-02-24T05:40:00\",\"2020-02-24T05:50:00\",\"2020-02-24T06:00:00\",\"2020-02-24T06:10:00\",\"2020-02-24T06:20:00\",\"2020-02-24T06:30:00\",\"2020-02-24T06:40:00\",\"2020-02-24T06:50:00\",\"2020-02-24T07:00:00\",\"2020-02-24T07:10:00\",\"2020-02-24T07:20:00\",\"2020-02-24T07:30:00\",\"2020-02-24T07:40:00\",\"2020-02-24T07:50:00\",\"2020-02-24T08:00:00\",\"2020-02-24T08:10:00\",\"2020-02-24T08:20:00\",\"2020-02-24T08:30:00\",\"2020-02-24T08:40:00\",\"2020-02-24T08:50:00\",\"2020-02-24T09:00:00\",\"2020-02-24T09:10:00\",\"2020-02-24T09:20:00\",\"2020-02-24T09:30:00\",\"2020-02-24T09:40:00\",\"2020-02-24T09:50:00\",\"2020-02-24T10:00:00\",\"2020-02-24T10:10:00\",\"2020-02-24T10:20:00\",\"2020-02-24T10:30:00\",\"2020-02-24T10:40:00\",\"2020-02-24T10:50:00\",\"2020-02-24T11:00:00\",\"2020-02-24T11:10:00\",\"2020-02-24T11:20:00\",\"2020-02-24T11:30:00\",\"2020-02-24T11:40:00\"],\"y\":[183.24817442429523,299.29187278471477,301.8902733364484,387.6600940554302,426.6688584338097,579.2569438592514,576.4874184404666,610.2951488747874,495.12842839743575,651.6852453611789,827.7777520938566,709.0235646918072,722.0423828637936,864.0663164162025,582.3015880937237,547.6042494881582,305.4976318322517,393.89661151060017,367.7595867911287,227.54620234671512,308.83971039883585,370.1952008784141,478.7817896137844,415.64908998444264,478.8392375578091,446.6569854450507,357.97226514593,410.0313926263611,425.6868906870928,404.980535011125,570.8001178693122,301.1927244518505,405.45442298280426,447.2074073632653,439.5302473296351,437.1580452956534,473.1923864651761,594.0718147551441],\"type\":\"scatter\"},{\"line\":{\"color\":\"#bc5090\",\"width\":3},\"name\":\"Criteria II.\",\"x\":[\"2020-02-24T05:30:00\",\"2020-02-24T05:40:00\",\"2020-02-24T05:50:00\",\"2020-02-24T06:00:00\",\"2020-02-24T06:10:00\",\"2020-02-24T06:20:00\",\"2020-02-24T06:30:00\",\"2020-02-24T06:40:00\",\"2020-02-24T06:50:00\",\"2020-02-24T07:00:00\",\"2020-02-24T07:10:00\",\"2020-02-24T07:20:00\",\"2020-02-24T07:30:00\",\"2020-02-24T07:40:00\",\"2020-02-24T07:50:00\",\"2020-02-24T08:00:00\",\"2020-02-24T08:10:00\",\"2020-02-24T08:20:00\",\"2020-02-24T08:30:00\",\"2020-02-24T08:40:00\",\"2020-02-24T08:50:00\",\"2020-02-24T09:00:00\",\"2020-02-24T09:10:00\",\"2020-02-24T09:20:00\",\"2020-02-24T09:30:00\",\"2020-02-24T09:40:00\",\"2020-02-24T09:50:00\",\"2020-02-24T10:00:00\",\"2020-02-24T10:10:00\",\"2020-02-24T10:20:00\",\"2020-02-24T10:30:00\",\"2020-02-24T10:40:00\",\"2020-02-24T10:50:00\",\"2020-02-24T11:00:00\",\"2020-02-24T11:10:00\",\"2020-02-24T11:20:00\",\"2020-02-24T11:30:00\",\"2020-02-24T11:40:00\"],\"y\":[531.7305232529106,671.8714934771864,634.3008809507917,789.8877071145764,996.5158885541787,1208.624008235076,1282.5268273262925,1283.4004342475575,1061.2610059196757,1171.670793183072,1371.786861176604,1160.5389976062208,1217.3253148654114,1335.149838563162,944.2951081154471,1061.671301281552,877.1134531468103,868.2568308619386,836.285925106567,889.7009171700433,839.1634130618185,844.1044893477479,788.7031685643957,748.4239336814069,843.0412053276484,805.0933747729333,705.3610892112602,733.1676568232851,752.3638312820955,735.744624994324,877.6734092503509,661.8404467082396,726.4416209271407,831.9962207330279,781.5457921787577,791.8173238287483,800.6161293545019,757.0654006351306],\"type\":\"scatter\"},{\"fill\":\"tonexty\",\"line\":{\"color\":\"#bc5090\",\"width\":3},\"name\":\"Criteria II\",\"showlegend\":false,\"x\":[\"2020-02-24T05:30:00\",\"2020-02-24T05:40:00\",\"2020-02-24T05:50:00\",\"2020-02-24T06:00:00\",\"2020-02-24T06:10:00\",\"2020-02-24T06:20:00\",\"2020-02-24T06:30:00\",\"2020-02-24T06:40:00\",\"2020-02-24T06:50:00\",\"2020-02-24T07:00:00\",\"2020-02-24T07:10:00\",\"2020-02-24T07:20:00\",\"2020-02-24T07:30:00\",\"2020-02-24T07:40:00\",\"2020-02-24T07:50:00\",\"2020-02-24T08:00:00\",\"2020-02-24T08:10:00\",\"2020-02-24T08:20:00\",\"2020-02-24T08:30:00\",\"2020-02-24T08:40:00\",\"2020-02-24T08:50:00\",\"2020-02-24T09:00:00\",\"2020-02-24T09:10:00\",\"2020-02-24T09:20:00\",\"2020-02-24T09:30:00\",\"2020-02-24T09:40:00\",\"2020-02-24T09:50:00\",\"2020-02-24T10:00:00\",\"2020-02-24T10:10:00\",\"2020-02-24T10:20:00\",\"2020-02-24T10:30:00\",\"2020-02-24T10:40:00\",\"2020-02-24T10:50:00\",\"2020-02-24T11:00:00\",\"2020-02-24T11:10:00\",\"2020-02-24T11:20:00\",\"2020-02-24T11:30:00\",\"2020-02-24T11:40:00\"],\"y\":[296.2694767470894,420.12850652281367,409.6991190492084,518.1122928854236,611.4841114458213,783.3759917649242,805.4731726737075,828.5995657524425,678.7389940803243,820.329206816928,1004.2131388233962,855.4610023937792,882.6746851345886,1016.850161436838,699.7048918845529,714.3286987184481,490.88654685318966,547.7431691380614,519.714074893433,442.29908282995666,480.83658693818154,523.8955106522521,579.2968314356043,523.5760663185931,596.9587946723516,562.9066252270667,470.6389107887398,514.8323431767149,531.6361687179045,512.255375005676,670.3265907496491,418.15955329176046,509.55837907285934,572.0037792669721,550.4542078212423,552.1826761712517,579.3838706454981,646.9345993648694],\"type\":\"scatter\"},{\"line\":{\"color\":\"#003f5c\",\"width\":5},\"name\":\"Representative Day\",\"x\":[\"2020-02-24T05:30:00\",\"2020-02-24T05:40:00\",\"2020-02-24T05:50:00\",\"2020-02-24T06:00:00\",\"2020-02-24T06:10:00\",\"2020-02-24T06:20:00\",\"2020-02-24T06:30:00\",\"2020-02-24T06:40:00\",\"2020-02-24T06:50:00\",\"2020-02-24T07:00:00\",\"2020-02-24T07:10:00\",\"2020-02-24T07:20:00\",\"2020-02-24T07:30:00\",\"2020-02-24T07:40:00\",\"2020-02-24T07:50:00\",\"2020-02-24T08:00:00\",\"2020-02-24T08:10:00\",\"2020-02-24T08:20:00\",\"2020-02-24T08:30:00\",\"2020-02-24T08:40:00\",\"2020-02-24T08:50:00\",\"2020-02-24T09:00:00\",\"2020-02-24T09:10:00\",\"2020-02-24T09:20:00\",\"2020-02-24T09:30:00\",\"2020-02-24T09:40:00\",\"2020-02-24T09:50:00\",\"2020-02-24T10:00:00\",\"2020-02-24T10:10:00\",\"2020-02-24T10:20:00\",\"2020-02-24T10:30:00\",\"2020-02-24T10:40:00\",\"2020-02-24T10:50:00\",\"2020-02-24T11:00:00\",\"2020-02-24T11:10:00\",\"2020-02-24T11:20:00\",\"2020-02-24T11:30:00\",\"2020-02-24T11:40:00\"],\"y\":[414.0,546.0,522.0,654.0,804.0,996.0,1044.0,1056.0,870.0,996.0,1188.0,1008.0,1050.0,1176.0,822.0,888.0,684.0,708.0,678.0,666.0,660.0,684.0,684.0,636.0,720.0,684.0,588.0,624.0,642.0,624.0,774.0,540.0,618.0,702.0,666.0,672.0,690.0,702.0],\"type\":\"scatter\"},{\"marker\":{\"color\":\"red\",\"line\":{\"color\":\"black\",\"width\":2},\"size\":15,\"symbol\":\"diamond\"},\"mode\":\"markers\",\"name\":\"Simulation\",\"x\":[\"2020-02-24T05:30:00\",\"2020-02-24T05:40:00\",\"2020-02-24T05:50:00\",\"2020-02-24T06:00:00\",\"2020-02-24T06:10:00\",\"2020-02-24T06:20:00\",\"2020-02-24T06:30:00\",\"2020-02-24T06:40:00\",\"2020-02-24T06:50:00\",\"2020-02-24T07:00:00\",\"2020-02-24T07:10:00\",\"2020-02-24T07:20:00\",\"2020-02-24T07:30:00\",\"2020-02-24T07:40:00\",\"2020-02-24T07:50:00\",\"2020-02-24T08:00:00\",\"2020-02-24T08:10:00\",\"2020-02-24T08:20:00\",\"2020-02-24T08:30:00\",\"2020-02-24T08:40:00\",\"2020-02-24T08:50:00\",\"2020-02-24T09:00:00\",\"2020-02-24T09:10:00\",\"2020-02-24T09:20:00\",\"2020-02-24T09:30:00\",\"2020-02-24T09:40:00\",\"2020-02-24T09:50:00\",\"2020-02-24T10:00:00\",\"2020-02-24T10:10:00\",\"2020-02-24T10:20:00\",\"2020-02-24T10:30:00\",\"2020-02-24T10:40:00\",\"2020-02-24T10:50:00\",\"2020-02-24T11:00:00\",\"2020-02-24T11:10:00\",\"2020-02-24T11:20:00\",\"2020-02-24T11:30:00\",\"2020-02-24T11:40:00\"],\"y\":[462.0,540.0,492.0,702.0,870.0,990.0,1068.0,1026.0,870.0,1050.0,1122.0,1086.0,1074.0,990.0,894.0,954.0,636.0,774.0,642.0,642.0,762.0,702.0,642.0,570.0,564.0,654.0,588.0,624.0,660.0,720.0,804.0,582.0,660.0,822.0,552.0,642.0,786.0,696.0],\"type\":\"scatter\"}],                        {\"template\":{\"data\":{\"barpolar\":[{\"marker\":{\"line\":{\"color\":\"white\",\"width\":0.5},\"pattern\":{\"fillmode\":\"overlay\",\"size\":10,\"solidity\":0.2}},\"type\":\"barpolar\"}],\"bar\":[{\"error_x\":{\"color\":\"rgb(36,36,36)\"},\"error_y\":{\"color\":\"rgb(36,36,36)\"},\"marker\":{\"line\":{\"color\":\"white\",\"width\":0.5},\"pattern\":{\"fillmode\":\"overlay\",\"size\":10,\"solidity\":0.2}},\"type\":\"bar\"}],\"carpet\":[{\"aaxis\":{\"endlinecolor\":\"rgb(36,36,36)\",\"gridcolor\":\"white\",\"linecolor\":\"white\",\"minorgridcolor\":\"white\",\"startlinecolor\":\"rgb(36,36,36)\"},\"baxis\":{\"endlinecolor\":\"rgb(36,36,36)\",\"gridcolor\":\"white\",\"linecolor\":\"white\",\"minorgridcolor\":\"white\",\"startlinecolor\":\"rgb(36,36,36)\"},\"type\":\"carpet\"}],\"choropleth\":[{\"colorbar\":{\"outlinewidth\":1,\"tickcolor\":\"rgb(36,36,36)\",\"ticks\":\"outside\"},\"type\":\"choropleth\"}],\"contourcarpet\":[{\"colorbar\":{\"outlinewidth\":1,\"tickcolor\":\"rgb(36,36,36)\",\"ticks\":\"outside\"},\"type\":\"contourcarpet\"}],\"contour\":[{\"colorbar\":{\"outlinewidth\":1,\"tickcolor\":\"rgb(36,36,36)\",\"ticks\":\"outside\"},\"colorscale\":[[0.0,\"#440154\"],[0.1111111111111111,\"#482878\"],[0.2222222222222222,\"#3e4989\"],[0.3333333333333333,\"#31688e\"],[0.4444444444444444,\"#26828e\"],[0.5555555555555556,\"#1f9e89\"],[0.6666666666666666,\"#35b779\"],[0.7777777777777778,\"#6ece58\"],[0.8888888888888888,\"#b5de2b\"],[1.0,\"#fde725\"]],\"type\":\"contour\"}],\"heatmapgl\":[{\"colorbar\":{\"outlinewidth\":1,\"tickcolor\":\"rgb(36,36,36)\",\"ticks\":\"outside\"},\"colorscale\":[[0.0,\"#440154\"],[0.1111111111111111,\"#482878\"],[0.2222222222222222,\"#3e4989\"],[0.3333333333333333,\"#31688e\"],[0.4444444444444444,\"#26828e\"],[0.5555555555555556,\"#1f9e89\"],[0.6666666666666666,\"#35b779\"],[0.7777777777777778,\"#6ece58\"],[0.8888888888888888,\"#b5de2b\"],[1.0,\"#fde725\"]],\"type\":\"heatmapgl\"}],\"heatmap\":[{\"colorbar\":{\"outlinewidth\":1,\"tickcolor\":\"rgb(36,36,36)\",\"ticks\":\"outside\"},\"colorscale\":[[0.0,\"#440154\"],[0.1111111111111111,\"#482878\"],[0.2222222222222222,\"#3e4989\"],[0.3333333333333333,\"#31688e\"],[0.4444444444444444,\"#26828e\"],[0.5555555555555556,\"#1f9e89\"],[0.6666666666666666,\"#35b779\"],[0.7777777777777778,\"#6ece58\"],[0.8888888888888888,\"#b5de2b\"],[1.0,\"#fde725\"]],\"type\":\"heatmap\"}],\"histogram2dcontour\":[{\"colorbar\":{\"outlinewidth\":1,\"tickcolor\":\"rgb(36,36,36)\",\"ticks\":\"outside\"},\"colorscale\":[[0.0,\"#440154\"],[0.1111111111111111,\"#482878\"],[0.2222222222222222,\"#3e4989\"],[0.3333333333333333,\"#31688e\"],[0.4444444444444444,\"#26828e\"],[0.5555555555555556,\"#1f9e89\"],[0.6666666666666666,\"#35b779\"],[0.7777777777777778,\"#6ece58\"],[0.8888888888888888,\"#b5de2b\"],[1.0,\"#fde725\"]],\"type\":\"histogram2dcontour\"}],\"histogram2d\":[{\"colorbar\":{\"outlinewidth\":1,\"tickcolor\":\"rgb(36,36,36)\",\"ticks\":\"outside\"},\"colorscale\":[[0.0,\"#440154\"],[0.1111111111111111,\"#482878\"],[0.2222222222222222,\"#3e4989\"],[0.3333333333333333,\"#31688e\"],[0.4444444444444444,\"#26828e\"],[0.5555555555555556,\"#1f9e89\"],[0.6666666666666666,\"#35b779\"],[0.7777777777777778,\"#6ece58\"],[0.8888888888888888,\"#b5de2b\"],[1.0,\"#fde725\"]],\"type\":\"histogram2d\"}],\"histogram\":[{\"marker\":{\"line\":{\"color\":\"white\",\"width\":0.6}},\"type\":\"histogram\"}],\"mesh3d\":[{\"colorbar\":{\"outlinewidth\":1,\"tickcolor\":\"rgb(36,36,36)\",\"ticks\":\"outside\"},\"type\":\"mesh3d\"}],\"parcoords\":[{\"line\":{\"colorbar\":{\"outlinewidth\":1,\"tickcolor\":\"rgb(36,36,36)\",\"ticks\":\"outside\"}},\"type\":\"parcoords\"}],\"pie\":[{\"automargin\":true,\"type\":\"pie\"}],\"scatter3d\":[{\"line\":{\"colorbar\":{\"outlinewidth\":1,\"tickcolor\":\"rgb(36,36,36)\",\"ticks\":\"outside\"}},\"marker\":{\"colorbar\":{\"outlinewidth\":1,\"tickcolor\":\"rgb(36,36,36)\",\"ticks\":\"outside\"}},\"type\":\"scatter3d\"}],\"scattercarpet\":[{\"marker\":{\"colorbar\":{\"outlinewidth\":1,\"tickcolor\":\"rgb(36,36,36)\",\"ticks\":\"outside\"}},\"type\":\"scattercarpet\"}],\"scattergeo\":[{\"marker\":{\"colorbar\":{\"outlinewidth\":1,\"tickcolor\":\"rgb(36,36,36)\",\"ticks\":\"outside\"}},\"type\":\"scattergeo\"}],\"scattergl\":[{\"marker\":{\"colorbar\":{\"outlinewidth\":1,\"tickcolor\":\"rgb(36,36,36)\",\"ticks\":\"outside\"}},\"type\":\"scattergl\"}],\"scattermapbox\":[{\"marker\":{\"colorbar\":{\"outlinewidth\":1,\"tickcolor\":\"rgb(36,36,36)\",\"ticks\":\"outside\"}},\"type\":\"scattermapbox\"}],\"scatterpolargl\":[{\"marker\":{\"colorbar\":{\"outlinewidth\":1,\"tickcolor\":\"rgb(36,36,36)\",\"ticks\":\"outside\"}},\"type\":\"scatterpolargl\"}],\"scatterpolar\":[{\"marker\":{\"colorbar\":{\"outlinewidth\":1,\"tickcolor\":\"rgb(36,36,36)\",\"ticks\":\"outside\"}},\"type\":\"scatterpolar\"}],\"scatter\":[{\"fillpattern\":{\"fillmode\":\"overlay\",\"size\":10,\"solidity\":0.2},\"type\":\"scatter\"}],\"scatterternary\":[{\"marker\":{\"colorbar\":{\"outlinewidth\":1,\"tickcolor\":\"rgb(36,36,36)\",\"ticks\":\"outside\"}},\"type\":\"scatterternary\"}],\"surface\":[{\"colorbar\":{\"outlinewidth\":1,\"tickcolor\":\"rgb(36,36,36)\",\"ticks\":\"outside\"},\"colorscale\":[[0.0,\"#440154\"],[0.1111111111111111,\"#482878\"],[0.2222222222222222,\"#3e4989\"],[0.3333333333333333,\"#31688e\"],[0.4444444444444444,\"#26828e\"],[0.5555555555555556,\"#1f9e89\"],[0.6666666666666666,\"#35b779\"],[0.7777777777777778,\"#6ece58\"],[0.8888888888888888,\"#b5de2b\"],[1.0,\"#fde725\"]],\"type\":\"surface\"}],\"table\":[{\"cells\":{\"fill\":{\"color\":\"rgb(237,237,237)\"},\"line\":{\"color\":\"white\"}},\"header\":{\"fill\":{\"color\":\"rgb(217,217,217)\"},\"line\":{\"color\":\"white\"}},\"type\":\"table\"}]},\"layout\":{\"annotationdefaults\":{\"arrowhead\":0,\"arrowwidth\":1},\"autotypenumbers\":\"strict\",\"coloraxis\":{\"colorbar\":{\"outlinewidth\":1,\"tickcolor\":\"rgb(36,36,36)\",\"ticks\":\"outside\"}},\"colorscale\":{\"diverging\":[[0.0,\"rgb(103,0,31)\"],[0.1,\"rgb(178,24,43)\"],[0.2,\"rgb(214,96,77)\"],[0.3,\"rgb(244,165,130)\"],[0.4,\"rgb(253,219,199)\"],[0.5,\"rgb(247,247,247)\"],[0.6,\"rgb(209,229,240)\"],[0.7,\"rgb(146,197,222)\"],[0.8,\"rgb(67,147,195)\"],[0.9,\"rgb(33,102,172)\"],[1.0,\"rgb(5,48,97)\"]],\"sequential\":[[0.0,\"#440154\"],[0.1111111111111111,\"#482878\"],[0.2222222222222222,\"#3e4989\"],[0.3333333333333333,\"#31688e\"],[0.4444444444444444,\"#26828e\"],[0.5555555555555556,\"#1f9e89\"],[0.6666666666666666,\"#35b779\"],[0.7777777777777778,\"#6ece58\"],[0.8888888888888888,\"#b5de2b\"],[1.0,\"#fde725\"]],\"sequentialminus\":[[0.0,\"#440154\"],[0.1111111111111111,\"#482878\"],[0.2222222222222222,\"#3e4989\"],[0.3333333333333333,\"#31688e\"],[0.4444444444444444,\"#26828e\"],[0.5555555555555556,\"#1f9e89\"],[0.6666666666666666,\"#35b779\"],[0.7777777777777778,\"#6ece58\"],[0.8888888888888888,\"#b5de2b\"],[1.0,\"#fde725\"]]},\"colorway\":[\"#1F77B4\",\"#FF7F0E\",\"#2CA02C\",\"#D62728\",\"#9467BD\",\"#8C564B\",\"#E377C2\",\"#7F7F7F\",\"#BCBD22\",\"#17BECF\"],\"font\":{\"color\":\"rgb(36,36,36)\"},\"geo\":{\"bgcolor\":\"white\",\"lakecolor\":\"white\",\"landcolor\":\"white\",\"showlakes\":true,\"showland\":true,\"subunitcolor\":\"white\"},\"hoverlabel\":{\"align\":\"left\"},\"hovermode\":\"closest\",\"mapbox\":{\"style\":\"light\"},\"paper_bgcolor\":\"white\",\"plot_bgcolor\":\"white\",\"polar\":{\"angularaxis\":{\"gridcolor\":\"rgb(232,232,232)\",\"linecolor\":\"rgb(36,36,36)\",\"showgrid\":false,\"showline\":true,\"ticks\":\"outside\"},\"bgcolor\":\"white\",\"radialaxis\":{\"gridcolor\":\"rgb(232,232,232)\",\"linecolor\":\"rgb(36,36,36)\",\"showgrid\":false,\"showline\":true,\"ticks\":\"outside\"}},\"scene\":{\"xaxis\":{\"backgroundcolor\":\"white\",\"gridcolor\":\"rgb(232,232,232)\",\"gridwidth\":2,\"linecolor\":\"rgb(36,36,36)\",\"showbackground\":true,\"showgrid\":false,\"showline\":true,\"ticks\":\"outside\",\"zeroline\":false,\"zerolinecolor\":\"rgb(36,36,36)\"},\"yaxis\":{\"backgroundcolor\":\"white\",\"gridcolor\":\"rgb(232,232,232)\",\"gridwidth\":2,\"linecolor\":\"rgb(36,36,36)\",\"showbackground\":true,\"showgrid\":false,\"showline\":true,\"ticks\":\"outside\",\"zeroline\":false,\"zerolinecolor\":\"rgb(36,36,36)\"},\"zaxis\":{\"backgroundcolor\":\"white\",\"gridcolor\":\"rgb(232,232,232)\",\"gridwidth\":2,\"linecolor\":\"rgb(36,36,36)\",\"showbackground\":true,\"showgrid\":false,\"showline\":true,\"ticks\":\"outside\",\"zeroline\":false,\"zerolinecolor\":\"rgb(36,36,36)\"}},\"shapedefaults\":{\"fillcolor\":\"black\",\"line\":{\"width\":0},\"opacity\":0.3},\"ternary\":{\"aaxis\":{\"gridcolor\":\"rgb(232,232,232)\",\"linecolor\":\"rgb(36,36,36)\",\"showgrid\":false,\"showline\":true,\"ticks\":\"outside\"},\"baxis\":{\"gridcolor\":\"rgb(232,232,232)\",\"linecolor\":\"rgb(36,36,36)\",\"showgrid\":false,\"showline\":true,\"ticks\":\"outside\"},\"bgcolor\":\"white\",\"caxis\":{\"gridcolor\":\"rgb(232,232,232)\",\"linecolor\":\"rgb(36,36,36)\",\"showgrid\":false,\"showline\":true,\"ticks\":\"outside\"}},\"title\":{\"x\":0.05},\"xaxis\":{\"automargin\":true,\"gridcolor\":\"rgb(232,232,232)\",\"linecolor\":\"rgb(36,36,36)\",\"showgrid\":false,\"showline\":true,\"ticks\":\"outside\",\"title\":{\"standoff\":15},\"zeroline\":false,\"zerolinecolor\":\"rgb(36,36,36)\"},\"yaxis\":{\"automargin\":true,\"gridcolor\":\"rgb(232,232,232)\",\"linecolor\":\"rgb(36,36,36)\",\"showgrid\":false,\"showline\":true,\"ticks\":\"outside\",\"title\":{\"standoff\":15},\"zeroline\":false,\"zerolinecolor\":\"rgb(36,36,36)\"}}},\"yaxis\":{\"title\":{\"text\":\"Volume [Vehicles/Hour]\"},\"showgrid\":true,\"range\":[0,2000]},\"font\":{\"family\":\"helvetica\",\"size\":26},\"legend\":{\"yanchor\":\"top\",\"y\":1.0,\"xanchor\":\"right\",\"x\":1,\"orientation\":\"h\"},\"xaxis\":{\"tickangle\":15},\"height\":600,\"width\":1200,\"showlegend\":true},                        {\"responsive\": true}                    ).then(function(){\n",
       "                            \n",
       "var gd = document.getElementById('bc35e7c5-4525-4cb9-9959-cd0b059db624');\n",
       "var x = new MutationObserver(function (mutations, observer) {{\n",
       "        var display = window.getComputedStyle(gd).display;\n",
       "        if (!display || display === 'none') {{\n",
       "            console.log([gd, 'removed!']);\n",
       "            Plotly.purge(gd);\n",
       "            observer.disconnect();\n",
       "        }}\n",
       "}});\n",
       "\n",
       "// Listen for the removal of the full notebook cells\n",
       "var notebookContainer = gd.closest('#notebook-container');\n",
       "if (notebookContainer) {{\n",
       "    x.observe(notebookContainer, {childList: true});\n",
       "}}\n",
       "\n",
       "// Listen for the clearing of the current output cell\n",
       "var outputEl = gd.closest('.output');\n",
       "if (outputEl) {{\n",
       "    x.observe(outputEl, {childList: true});\n",
       "}}\n",
       "\n",
       "                        })                };                });            </script>        </div>"
      ]
     },
     "metadata": {},
     "output_type": "display_data"
    },
    {
     "name": "stdout",
     "output_type": "stream",
     "text": [
      "{63082003-EB.png/TL2-EB},%\n"
     ]
    },
    {
     "data": {
      "application/vnd.plotly.v1+json": {
       "config": {
        "plotlyServerURL": "https://plot.ly"
       },
       "data": [
        {
         "line": {
          "color": "#ffa600",
          "width": 3
         },
         "name": "Criteria I.",
         "type": "scatter",
         "x": [
          "2020-02-24T05:30:00",
          "2020-02-24T05:40:00",
          "2020-02-24T05:50:00",
          "2020-02-24T06:00:00",
          "2020-02-24T06:10:00",
          "2020-02-24T06:20:00",
          "2020-02-24T06:30:00",
          "2020-02-24T06:40:00",
          "2020-02-24T06:50:00",
          "2020-02-24T07:00:00",
          "2020-02-24T07:10:00",
          "2020-02-24T07:20:00",
          "2020-02-24T07:30:00",
          "2020-02-24T07:40:00",
          "2020-02-24T07:50:00",
          "2020-02-24T08:00:00",
          "2020-02-24T08:10:00",
          "2020-02-24T08:20:00",
          "2020-02-24T08:30:00",
          "2020-02-24T08:40:00",
          "2020-02-24T08:50:00",
          "2020-02-24T09:00:00",
          "2020-02-24T09:10:00",
          "2020-02-24T09:20:00",
          "2020-02-24T09:30:00",
          "2020-02-24T09:40:00",
          "2020-02-24T09:50:00",
          "2020-02-24T10:00:00",
          "2020-02-24T10:10:00",
          "2020-02-24T10:20:00",
          "2020-02-24T10:30:00",
          "2020-02-24T10:40:00",
          "2020-02-24T10:50:00",
          "2020-02-24T11:00:00",
          "2020-02-24T11:10:00",
          "2020-02-24T11:20:00",
          "2020-02-24T11:30:00",
          "2020-02-24T11:40:00"
         ],
         "y": [
          31.656833134182303,
          24.0406286154214,
          38.52619082076724,
          31.314213626082527,
          24.383849149162728,
          22.261806569444367,
          30.73537057093746,
          18.526410534939608,
          20.68137565960141,
          31.3721577951819,
          17.443572194092084,
          29.10379869566163,
          24.10940107416084,
          35.47494370291257,
          22.322215911511286,
          31.91041219015456,
          28.40458369526001,
          29.654718210390115,
          30.27403386680542,
          40.67136026773489,
          35.093468405896566,
          46.50423986022198,
          36.440554892846265,
          31.476563784177767,
          70.83203368677886,
          43.01278907033932,
          72.61968302637823,
          35.58311588773455,
          42.695055332985284,
          47.754884376902055,
          35.748454769638904,
          35.090469319936304,
          45.758619304762576,
          69.6411867412582,
          36.16084195615866,
          54.87219367729148,
          48.369220831123876,
          24.293254214143367
         ]
        },
        {
         "fill": "tonexty",
         "line": {
          "color": "#ffa600",
          "width": 3
         },
         "name": "Criteria I",
         "showlegend": false,
         "type": "scatter",
         "x": [
          "2020-02-24T05:30:00",
          "2020-02-24T05:40:00",
          "2020-02-24T05:50:00",
          "2020-02-24T06:00:00",
          "2020-02-24T06:10:00",
          "2020-02-24T06:20:00",
          "2020-02-24T06:30:00",
          "2020-02-24T06:40:00",
          "2020-02-24T06:50:00",
          "2020-02-24T07:00:00",
          "2020-02-24T07:10:00",
          "2020-02-24T07:20:00",
          "2020-02-24T07:30:00",
          "2020-02-24T07:40:00",
          "2020-02-24T07:50:00",
          "2020-02-24T08:00:00",
          "2020-02-24T08:10:00",
          "2020-02-24T08:20:00",
          "2020-02-24T08:30:00",
          "2020-02-24T08:40:00",
          "2020-02-24T08:50:00",
          "2020-02-24T09:00:00",
          "2020-02-24T09:10:00",
          "2020-02-24T09:20:00",
          "2020-02-24T09:30:00",
          "2020-02-24T09:40:00",
          "2020-02-24T09:50:00",
          "2020-02-24T10:00:00",
          "2020-02-24T10:10:00",
          "2020-02-24T10:20:00",
          "2020-02-24T10:30:00",
          "2020-02-24T10:40:00",
          "2020-02-24T10:50:00",
          "2020-02-24T11:00:00",
          "2020-02-24T11:10:00",
          "2020-02-24T11:20:00",
          "2020-02-24T11:30:00",
          "2020-02-24T11:40:00"
         ],
         "y": [
          -7.656833134182303,
          -12.0406286154214,
          -2.5261908207672406,
          -7.314213626082527,
          -12.383849149162728,
          -22.261806569444367,
          -6.735370570937459,
          -18.526410534939608,
          -20.68137565960141,
          -7.372157795181899,
          -17.443572194092084,
          -17.10379869566163,
          -12.10940107416084,
          -11.474943702912565,
          -22.322215911511286,
          -7.91041219015456,
          -16.40458369526001,
          -17.654718210390115,
          -18.27403386680542,
          -4.67136026773489,
          -11.093468405896566,
          1.495760139778021,
          -24.44055489284626,
          -19.476563784177767,
          13.167966313221143,
          -7.012789070339323,
          11.380316973621781,
          0.4168841122654534,
          -6.695055332985284,
          -11.754884376902059,
          -11.748454769638904,
          -11.090469319936307,
          2.241380695237421,
          14.358813258741804,
          -12.160841956158666,
          -6.872193677291481,
          -0.3692208311238758,
          -0.29325421414336894
         ]
        },
        {
         "line": {
          "color": "#bc5090",
          "width": 3
         },
         "name": "Criteria II.",
         "type": "scatter",
         "x": [
          "2020-02-24T05:30:00",
          "2020-02-24T05:40:00",
          "2020-02-24T05:50:00",
          "2020-02-24T06:00:00",
          "2020-02-24T06:10:00",
          "2020-02-24T06:20:00",
          "2020-02-24T06:30:00",
          "2020-02-24T06:40:00",
          "2020-02-24T06:50:00",
          "2020-02-24T07:00:00",
          "2020-02-24T07:10:00",
          "2020-02-24T07:20:00",
          "2020-02-24T07:30:00",
          "2020-02-24T07:40:00",
          "2020-02-24T07:50:00",
          "2020-02-24T08:00:00",
          "2020-02-24T08:10:00",
          "2020-02-24T08:20:00",
          "2020-02-24T08:30:00",
          "2020-02-24T08:40:00",
          "2020-02-24T08:50:00",
          "2020-02-24T09:00:00",
          "2020-02-24T09:10:00",
          "2020-02-24T09:20:00",
          "2020-02-24T09:30:00",
          "2020-02-24T09:40:00",
          "2020-02-24T09:50:00",
          "2020-02-24T10:00:00",
          "2020-02-24T10:10:00",
          "2020-02-24T10:20:00",
          "2020-02-24T10:30:00",
          "2020-02-24T10:40:00",
          "2020-02-24T10:50:00",
          "2020-02-24T11:00:00",
          "2020-02-24T11:10:00",
          "2020-02-24T11:20:00",
          "2020-02-24T11:30:00",
          "2020-02-24T11:40:00"
         ],
         "y": [
          22.028996497031788,
          15.204402354806838,
          28.472546337126143,
          21.85419062555231,
          15.379514872021801,
          11.358064576247127,
          21.55886253619258,
          9.45225027292837,
          10.551722275306842,
          21.883753977133622,
          8.899781731679635,
          17.78765239574573,
          15.239490343959613,
          23.977012093322738,
          11.38888566913841,
          22.158373566405388,
          17.430910048602044,
          18.068733780811286,
          18.384711156533378,
          29.5670205447627,
          23.782381839743145,
          35.4817550307255,
          21.53089535349299,
          18.998246828662126,
          56.71022126876473,
          30.76162707670374,
          57.62228725835624,
          26.970977493742115,
          30.59951802703331,
          33.18106345760309,
          24.116558555938216,
          23.780851693845054,
          35.10133637998091,
          56.1026462965603,
          24.326960181713606,
          39.7511192231079,
          36.43327593424688,
          18.27206847660376
         ]
        },
        {
         "fill": "tonexty",
         "line": {
          "color": "#bc5090",
          "width": 3
         },
         "name": "Criteria II",
         "showlegend": false,
         "type": "scatter",
         "x": [
          "2020-02-24T05:30:00",
          "2020-02-24T05:40:00",
          "2020-02-24T05:50:00",
          "2020-02-24T06:00:00",
          "2020-02-24T06:10:00",
          "2020-02-24T06:20:00",
          "2020-02-24T06:30:00",
          "2020-02-24T06:40:00",
          "2020-02-24T06:50:00",
          "2020-02-24T07:00:00",
          "2020-02-24T07:10:00",
          "2020-02-24T07:20:00",
          "2020-02-24T07:30:00",
          "2020-02-24T07:40:00",
          "2020-02-24T07:50:00",
          "2020-02-24T08:00:00",
          "2020-02-24T08:10:00",
          "2020-02-24T08:20:00",
          "2020-02-24T08:30:00",
          "2020-02-24T08:40:00",
          "2020-02-24T08:50:00",
          "2020-02-24T09:00:00",
          "2020-02-24T09:10:00",
          "2020-02-24T09:20:00",
          "2020-02-24T09:30:00",
          "2020-02-24T09:40:00",
          "2020-02-24T09:50:00",
          "2020-02-24T10:00:00",
          "2020-02-24T10:10:00",
          "2020-02-24T10:20:00",
          "2020-02-24T10:30:00",
          "2020-02-24T10:40:00",
          "2020-02-24T10:50:00",
          "2020-02-24T11:00:00",
          "2020-02-24T11:10:00",
          "2020-02-24T11:20:00",
          "2020-02-24T11:30:00",
          "2020-02-24T11:40:00"
         ],
         "y": [
          1.9710035029682125,
          -3.204402354806838,
          7.527453662873857,
          2.1458093744476905,
          -3.379514872021801,
          -11.358064576247127,
          2.4411374638074186,
          -9.45225027292837,
          -10.551722275306842,
          2.1162460228663775,
          -8.899781731679635,
          -5.787652395745731,
          -3.2394903439596128,
          0.022987906677261805,
          -11.38888566913841,
          1.8416264335946124,
          -5.430910048602046,
          -6.068733780811284,
          -6.384711156533378,
          6.4329794552373,
          0.21761816025685476,
          12.5182449692745,
          -9.53089535349299,
          -6.9982468286621256,
          27.289778731235277,
          5.238372923296263,
          26.377712741643766,
          9.029022506257885,
          5.400481972966691,
          2.8189365423969086,
          -0.11655855593821585,
          0.21914830615494552,
          12.898663620019093,
          27.8973537034397,
          -0.32696018171360564,
          8.2488807768921,
          11.566724065753125,
          5.72793152339624
         ]
        },
        {
         "line": {
          "color": "#003f5c",
          "width": 5
         },
         "name": "Representative Day",
         "type": "scatter",
         "x": [
          "2020-02-24T05:30:00",
          "2020-02-24T05:40:00",
          "2020-02-24T05:50:00",
          "2020-02-24T06:00:00",
          "2020-02-24T06:10:00",
          "2020-02-24T06:20:00",
          "2020-02-24T06:30:00",
          "2020-02-24T06:40:00",
          "2020-02-24T06:50:00",
          "2020-02-24T07:00:00",
          "2020-02-24T07:10:00",
          "2020-02-24T07:20:00",
          "2020-02-24T07:30:00",
          "2020-02-24T07:40:00",
          "2020-02-24T07:50:00",
          "2020-02-24T08:00:00",
          "2020-02-24T08:10:00",
          "2020-02-24T08:20:00",
          "2020-02-24T08:30:00",
          "2020-02-24T08:40:00",
          "2020-02-24T08:50:00",
          "2020-02-24T09:00:00",
          "2020-02-24T09:10:00",
          "2020-02-24T09:20:00",
          "2020-02-24T09:30:00",
          "2020-02-24T09:40:00",
          "2020-02-24T09:50:00",
          "2020-02-24T10:00:00",
          "2020-02-24T10:10:00",
          "2020-02-24T10:20:00",
          "2020-02-24T10:30:00",
          "2020-02-24T10:40:00",
          "2020-02-24T10:50:00",
          "2020-02-24T11:00:00",
          "2020-02-24T11:10:00",
          "2020-02-24T11:20:00",
          "2020-02-24T11:30:00",
          "2020-02-24T11:40:00"
         ],
         "y": [
          12,
          6,
          18,
          12,
          6,
          0,
          12,
          0,
          0,
          12,
          0,
          6,
          6,
          12,
          0,
          12,
          6,
          6,
          6,
          18,
          12,
          24,
          6,
          6,
          42,
          18,
          42,
          18,
          18,
          18,
          12,
          12,
          24,
          42,
          12,
          24,
          24,
          12
         ]
        },
        {
         "marker": {
          "color": "red",
          "line": {
           "color": "black",
           "width": 2
          },
          "size": 15,
          "symbol": "diamond"
         },
         "mode": "markers",
         "name": "Simulation",
         "type": "scatter",
         "x": [
          "2020-02-24T05:30:00",
          "2020-02-24T05:40:00",
          "2020-02-24T05:50:00",
          "2020-02-24T06:00:00",
          "2020-02-24T06:10:00",
          "2020-02-24T06:20:00",
          "2020-02-24T06:30:00",
          "2020-02-24T06:40:00",
          "2020-02-24T06:50:00",
          "2020-02-24T07:00:00",
          "2020-02-24T07:10:00",
          "2020-02-24T07:20:00",
          "2020-02-24T07:30:00",
          "2020-02-24T07:40:00",
          "2020-02-24T07:50:00",
          "2020-02-24T08:00:00",
          "2020-02-24T08:10:00",
          "2020-02-24T08:20:00",
          "2020-02-24T08:30:00",
          "2020-02-24T08:40:00",
          "2020-02-24T08:50:00",
          "2020-02-24T09:00:00",
          "2020-02-24T09:10:00",
          "2020-02-24T09:20:00",
          "2020-02-24T09:30:00",
          "2020-02-24T09:40:00",
          "2020-02-24T09:50:00",
          "2020-02-24T10:00:00",
          "2020-02-24T10:10:00",
          "2020-02-24T10:20:00",
          "2020-02-24T10:30:00",
          "2020-02-24T10:40:00",
          "2020-02-24T10:50:00",
          "2020-02-24T11:00:00",
          "2020-02-24T11:10:00",
          "2020-02-24T11:20:00",
          "2020-02-24T11:30:00",
          "2020-02-24T11:40:00"
         ],
         "y": [
          0,
          0,
          0,
          0,
          0,
          0,
          0,
          0,
          0,
          0,
          0,
          0,
          0,
          0,
          0,
          0,
          0,
          0,
          0,
          0,
          0,
          12,
          12,
          30,
          12,
          0,
          0,
          0,
          0,
          0,
          0,
          0,
          18,
          60,
          18,
          0,
          0,
          0
         ]
        }
       ],
       "layout": {
        "font": {
         "family": "helvetica",
         "size": 26
        },
        "height": 600,
        "legend": {
         "orientation": "h",
         "x": 1,
         "xanchor": "right",
         "y": 1,
         "yanchor": "top"
        },
        "showlegend": true,
        "template": {
         "data": {
          "bar": [
           {
            "error_x": {
             "color": "rgb(36,36,36)"
            },
            "error_y": {
             "color": "rgb(36,36,36)"
            },
            "marker": {
             "line": {
              "color": "white",
              "width": 0.5
             },
             "pattern": {
              "fillmode": "overlay",
              "size": 10,
              "solidity": 0.2
             }
            },
            "type": "bar"
           }
          ],
          "barpolar": [
           {
            "marker": {
             "line": {
              "color": "white",
              "width": 0.5
             },
             "pattern": {
              "fillmode": "overlay",
              "size": 10,
              "solidity": 0.2
             }
            },
            "type": "barpolar"
           }
          ],
          "carpet": [
           {
            "aaxis": {
             "endlinecolor": "rgb(36,36,36)",
             "gridcolor": "white",
             "linecolor": "white",
             "minorgridcolor": "white",
             "startlinecolor": "rgb(36,36,36)"
            },
            "baxis": {
             "endlinecolor": "rgb(36,36,36)",
             "gridcolor": "white",
             "linecolor": "white",
             "minorgridcolor": "white",
             "startlinecolor": "rgb(36,36,36)"
            },
            "type": "carpet"
           }
          ],
          "choropleth": [
           {
            "colorbar": {
             "outlinewidth": 1,
             "tickcolor": "rgb(36,36,36)",
             "ticks": "outside"
            },
            "type": "choropleth"
           }
          ],
          "contour": [
           {
            "colorbar": {
             "outlinewidth": 1,
             "tickcolor": "rgb(36,36,36)",
             "ticks": "outside"
            },
            "colorscale": [
             [
              0,
              "#440154"
             ],
             [
              0.1111111111111111,
              "#482878"
             ],
             [
              0.2222222222222222,
              "#3e4989"
             ],
             [
              0.3333333333333333,
              "#31688e"
             ],
             [
              0.4444444444444444,
              "#26828e"
             ],
             [
              0.5555555555555556,
              "#1f9e89"
             ],
             [
              0.6666666666666666,
              "#35b779"
             ],
             [
              0.7777777777777778,
              "#6ece58"
             ],
             [
              0.8888888888888888,
              "#b5de2b"
             ],
             [
              1,
              "#fde725"
             ]
            ],
            "type": "contour"
           }
          ],
          "contourcarpet": [
           {
            "colorbar": {
             "outlinewidth": 1,
             "tickcolor": "rgb(36,36,36)",
             "ticks": "outside"
            },
            "type": "contourcarpet"
           }
          ],
          "heatmap": [
           {
            "colorbar": {
             "outlinewidth": 1,
             "tickcolor": "rgb(36,36,36)",
             "ticks": "outside"
            },
            "colorscale": [
             [
              0,
              "#440154"
             ],
             [
              0.1111111111111111,
              "#482878"
             ],
             [
              0.2222222222222222,
              "#3e4989"
             ],
             [
              0.3333333333333333,
              "#31688e"
             ],
             [
              0.4444444444444444,
              "#26828e"
             ],
             [
              0.5555555555555556,
              "#1f9e89"
             ],
             [
              0.6666666666666666,
              "#35b779"
             ],
             [
              0.7777777777777778,
              "#6ece58"
             ],
             [
              0.8888888888888888,
              "#b5de2b"
             ],
             [
              1,
              "#fde725"
             ]
            ],
            "type": "heatmap"
           }
          ],
          "heatmapgl": [
           {
            "colorbar": {
             "outlinewidth": 1,
             "tickcolor": "rgb(36,36,36)",
             "ticks": "outside"
            },
            "colorscale": [
             [
              0,
              "#440154"
             ],
             [
              0.1111111111111111,
              "#482878"
             ],
             [
              0.2222222222222222,
              "#3e4989"
             ],
             [
              0.3333333333333333,
              "#31688e"
             ],
             [
              0.4444444444444444,
              "#26828e"
             ],
             [
              0.5555555555555556,
              "#1f9e89"
             ],
             [
              0.6666666666666666,
              "#35b779"
             ],
             [
              0.7777777777777778,
              "#6ece58"
             ],
             [
              0.8888888888888888,
              "#b5de2b"
             ],
             [
              1,
              "#fde725"
             ]
            ],
            "type": "heatmapgl"
           }
          ],
          "histogram": [
           {
            "marker": {
             "line": {
              "color": "white",
              "width": 0.6
             }
            },
            "type": "histogram"
           }
          ],
          "histogram2d": [
           {
            "colorbar": {
             "outlinewidth": 1,
             "tickcolor": "rgb(36,36,36)",
             "ticks": "outside"
            },
            "colorscale": [
             [
              0,
              "#440154"
             ],
             [
              0.1111111111111111,
              "#482878"
             ],
             [
              0.2222222222222222,
              "#3e4989"
             ],
             [
              0.3333333333333333,
              "#31688e"
             ],
             [
              0.4444444444444444,
              "#26828e"
             ],
             [
              0.5555555555555556,
              "#1f9e89"
             ],
             [
              0.6666666666666666,
              "#35b779"
             ],
             [
              0.7777777777777778,
              "#6ece58"
             ],
             [
              0.8888888888888888,
              "#b5de2b"
             ],
             [
              1,
              "#fde725"
             ]
            ],
            "type": "histogram2d"
           }
          ],
          "histogram2dcontour": [
           {
            "colorbar": {
             "outlinewidth": 1,
             "tickcolor": "rgb(36,36,36)",
             "ticks": "outside"
            },
            "colorscale": [
             [
              0,
              "#440154"
             ],
             [
              0.1111111111111111,
              "#482878"
             ],
             [
              0.2222222222222222,
              "#3e4989"
             ],
             [
              0.3333333333333333,
              "#31688e"
             ],
             [
              0.4444444444444444,
              "#26828e"
             ],
             [
              0.5555555555555556,
              "#1f9e89"
             ],
             [
              0.6666666666666666,
              "#35b779"
             ],
             [
              0.7777777777777778,
              "#6ece58"
             ],
             [
              0.8888888888888888,
              "#b5de2b"
             ],
             [
              1,
              "#fde725"
             ]
            ],
            "type": "histogram2dcontour"
           }
          ],
          "mesh3d": [
           {
            "colorbar": {
             "outlinewidth": 1,
             "tickcolor": "rgb(36,36,36)",
             "ticks": "outside"
            },
            "type": "mesh3d"
           }
          ],
          "parcoords": [
           {
            "line": {
             "colorbar": {
              "outlinewidth": 1,
              "tickcolor": "rgb(36,36,36)",
              "ticks": "outside"
             }
            },
            "type": "parcoords"
           }
          ],
          "pie": [
           {
            "automargin": true,
            "type": "pie"
           }
          ],
          "scatter": [
           {
            "fillpattern": {
             "fillmode": "overlay",
             "size": 10,
             "solidity": 0.2
            },
            "type": "scatter"
           }
          ],
          "scatter3d": [
           {
            "line": {
             "colorbar": {
              "outlinewidth": 1,
              "tickcolor": "rgb(36,36,36)",
              "ticks": "outside"
             }
            },
            "marker": {
             "colorbar": {
              "outlinewidth": 1,
              "tickcolor": "rgb(36,36,36)",
              "ticks": "outside"
             }
            },
            "type": "scatter3d"
           }
          ],
          "scattercarpet": [
           {
            "marker": {
             "colorbar": {
              "outlinewidth": 1,
              "tickcolor": "rgb(36,36,36)",
              "ticks": "outside"
             }
            },
            "type": "scattercarpet"
           }
          ],
          "scattergeo": [
           {
            "marker": {
             "colorbar": {
              "outlinewidth": 1,
              "tickcolor": "rgb(36,36,36)",
              "ticks": "outside"
             }
            },
            "type": "scattergeo"
           }
          ],
          "scattergl": [
           {
            "marker": {
             "colorbar": {
              "outlinewidth": 1,
              "tickcolor": "rgb(36,36,36)",
              "ticks": "outside"
             }
            },
            "type": "scattergl"
           }
          ],
          "scattermapbox": [
           {
            "marker": {
             "colorbar": {
              "outlinewidth": 1,
              "tickcolor": "rgb(36,36,36)",
              "ticks": "outside"
             }
            },
            "type": "scattermapbox"
           }
          ],
          "scatterpolar": [
           {
            "marker": {
             "colorbar": {
              "outlinewidth": 1,
              "tickcolor": "rgb(36,36,36)",
              "ticks": "outside"
             }
            },
            "type": "scatterpolar"
           }
          ],
          "scatterpolargl": [
           {
            "marker": {
             "colorbar": {
              "outlinewidth": 1,
              "tickcolor": "rgb(36,36,36)",
              "ticks": "outside"
             }
            },
            "type": "scatterpolargl"
           }
          ],
          "scatterternary": [
           {
            "marker": {
             "colorbar": {
              "outlinewidth": 1,
              "tickcolor": "rgb(36,36,36)",
              "ticks": "outside"
             }
            },
            "type": "scatterternary"
           }
          ],
          "surface": [
           {
            "colorbar": {
             "outlinewidth": 1,
             "tickcolor": "rgb(36,36,36)",
             "ticks": "outside"
            },
            "colorscale": [
             [
              0,
              "#440154"
             ],
             [
              0.1111111111111111,
              "#482878"
             ],
             [
              0.2222222222222222,
              "#3e4989"
             ],
             [
              0.3333333333333333,
              "#31688e"
             ],
             [
              0.4444444444444444,
              "#26828e"
             ],
             [
              0.5555555555555556,
              "#1f9e89"
             ],
             [
              0.6666666666666666,
              "#35b779"
             ],
             [
              0.7777777777777778,
              "#6ece58"
             ],
             [
              0.8888888888888888,
              "#b5de2b"
             ],
             [
              1,
              "#fde725"
             ]
            ],
            "type": "surface"
           }
          ],
          "table": [
           {
            "cells": {
             "fill": {
              "color": "rgb(237,237,237)"
             },
             "line": {
              "color": "white"
             }
            },
            "header": {
             "fill": {
              "color": "rgb(217,217,217)"
             },
             "line": {
              "color": "white"
             }
            },
            "type": "table"
           }
          ]
         },
         "layout": {
          "annotationdefaults": {
           "arrowhead": 0,
           "arrowwidth": 1
          },
          "autotypenumbers": "strict",
          "coloraxis": {
           "colorbar": {
            "outlinewidth": 1,
            "tickcolor": "rgb(36,36,36)",
            "ticks": "outside"
           }
          },
          "colorscale": {
           "diverging": [
            [
             0,
             "rgb(103,0,31)"
            ],
            [
             0.1,
             "rgb(178,24,43)"
            ],
            [
             0.2,
             "rgb(214,96,77)"
            ],
            [
             0.3,
             "rgb(244,165,130)"
            ],
            [
             0.4,
             "rgb(253,219,199)"
            ],
            [
             0.5,
             "rgb(247,247,247)"
            ],
            [
             0.6,
             "rgb(209,229,240)"
            ],
            [
             0.7,
             "rgb(146,197,222)"
            ],
            [
             0.8,
             "rgb(67,147,195)"
            ],
            [
             0.9,
             "rgb(33,102,172)"
            ],
            [
             1,
             "rgb(5,48,97)"
            ]
           ],
           "sequential": [
            [
             0,
             "#440154"
            ],
            [
             0.1111111111111111,
             "#482878"
            ],
            [
             0.2222222222222222,
             "#3e4989"
            ],
            [
             0.3333333333333333,
             "#31688e"
            ],
            [
             0.4444444444444444,
             "#26828e"
            ],
            [
             0.5555555555555556,
             "#1f9e89"
            ],
            [
             0.6666666666666666,
             "#35b779"
            ],
            [
             0.7777777777777778,
             "#6ece58"
            ],
            [
             0.8888888888888888,
             "#b5de2b"
            ],
            [
             1,
             "#fde725"
            ]
           ],
           "sequentialminus": [
            [
             0,
             "#440154"
            ],
            [
             0.1111111111111111,
             "#482878"
            ],
            [
             0.2222222222222222,
             "#3e4989"
            ],
            [
             0.3333333333333333,
             "#31688e"
            ],
            [
             0.4444444444444444,
             "#26828e"
            ],
            [
             0.5555555555555556,
             "#1f9e89"
            ],
            [
             0.6666666666666666,
             "#35b779"
            ],
            [
             0.7777777777777778,
             "#6ece58"
            ],
            [
             0.8888888888888888,
             "#b5de2b"
            ],
            [
             1,
             "#fde725"
            ]
           ]
          },
          "colorway": [
           "#1F77B4",
           "#FF7F0E",
           "#2CA02C",
           "#D62728",
           "#9467BD",
           "#8C564B",
           "#E377C2",
           "#7F7F7F",
           "#BCBD22",
           "#17BECF"
          ],
          "font": {
           "color": "rgb(36,36,36)"
          },
          "geo": {
           "bgcolor": "white",
           "lakecolor": "white",
           "landcolor": "white",
           "showlakes": true,
           "showland": true,
           "subunitcolor": "white"
          },
          "hoverlabel": {
           "align": "left"
          },
          "hovermode": "closest",
          "mapbox": {
           "style": "light"
          },
          "paper_bgcolor": "white",
          "plot_bgcolor": "white",
          "polar": {
           "angularaxis": {
            "gridcolor": "rgb(232,232,232)",
            "linecolor": "rgb(36,36,36)",
            "showgrid": false,
            "showline": true,
            "ticks": "outside"
           },
           "bgcolor": "white",
           "radialaxis": {
            "gridcolor": "rgb(232,232,232)",
            "linecolor": "rgb(36,36,36)",
            "showgrid": false,
            "showline": true,
            "ticks": "outside"
           }
          },
          "scene": {
           "xaxis": {
            "backgroundcolor": "white",
            "gridcolor": "rgb(232,232,232)",
            "gridwidth": 2,
            "linecolor": "rgb(36,36,36)",
            "showbackground": true,
            "showgrid": false,
            "showline": true,
            "ticks": "outside",
            "zeroline": false,
            "zerolinecolor": "rgb(36,36,36)"
           },
           "yaxis": {
            "backgroundcolor": "white",
            "gridcolor": "rgb(232,232,232)",
            "gridwidth": 2,
            "linecolor": "rgb(36,36,36)",
            "showbackground": true,
            "showgrid": false,
            "showline": true,
            "ticks": "outside",
            "zeroline": false,
            "zerolinecolor": "rgb(36,36,36)"
           },
           "zaxis": {
            "backgroundcolor": "white",
            "gridcolor": "rgb(232,232,232)",
            "gridwidth": 2,
            "linecolor": "rgb(36,36,36)",
            "showbackground": true,
            "showgrid": false,
            "showline": true,
            "ticks": "outside",
            "zeroline": false,
            "zerolinecolor": "rgb(36,36,36)"
           }
          },
          "shapedefaults": {
           "fillcolor": "black",
           "line": {
            "width": 0
           },
           "opacity": 0.3
          },
          "ternary": {
           "aaxis": {
            "gridcolor": "rgb(232,232,232)",
            "linecolor": "rgb(36,36,36)",
            "showgrid": false,
            "showline": true,
            "ticks": "outside"
           },
           "baxis": {
            "gridcolor": "rgb(232,232,232)",
            "linecolor": "rgb(36,36,36)",
            "showgrid": false,
            "showline": true,
            "ticks": "outside"
           },
           "bgcolor": "white",
           "caxis": {
            "gridcolor": "rgb(232,232,232)",
            "linecolor": "rgb(36,36,36)",
            "showgrid": false,
            "showline": true,
            "ticks": "outside"
           }
          },
          "title": {
           "x": 0.05
          },
          "xaxis": {
           "automargin": true,
           "gridcolor": "rgb(232,232,232)",
           "linecolor": "rgb(36,36,36)",
           "showgrid": false,
           "showline": true,
           "ticks": "outside",
           "title": {
            "standoff": 15
           },
           "zeroline": false,
           "zerolinecolor": "rgb(36,36,36)"
          },
          "yaxis": {
           "automargin": true,
           "gridcolor": "rgb(232,232,232)",
           "linecolor": "rgb(36,36,36)",
           "showgrid": false,
           "showline": true,
           "ticks": "outside",
           "title": {
            "standoff": 15
           },
           "zeroline": false,
           "zerolinecolor": "rgb(36,36,36)"
          }
         }
        },
        "width": 1200,
        "xaxis": {
         "tickangle": 15
        },
        "yaxis": {
         "range": [
          0,
          250
         ],
         "showgrid": true,
         "title": {
          "text": "Volume [Vehicles/Hour]"
         }
        }
       }
      },
      "text/html": [
       "<div>                            <div id=\"4e955d7f-bf45-479d-a163-b09b83da93a0\" class=\"plotly-graph-div\" style=\"height:600px; width:1200px;\"></div>            <script type=\"text/javascript\">                require([\"plotly\"], function(Plotly) {                    window.PLOTLYENV=window.PLOTLYENV || {};                                    if (document.getElementById(\"4e955d7f-bf45-479d-a163-b09b83da93a0\")) {                    Plotly.newPlot(                        \"4e955d7f-bf45-479d-a163-b09b83da93a0\",                        [{\"line\":{\"color\":\"#ffa600\",\"width\":3},\"name\":\"Criteria I.\",\"x\":[\"2020-02-24T05:30:00\",\"2020-02-24T05:40:00\",\"2020-02-24T05:50:00\",\"2020-02-24T06:00:00\",\"2020-02-24T06:10:00\",\"2020-02-24T06:20:00\",\"2020-02-24T06:30:00\",\"2020-02-24T06:40:00\",\"2020-02-24T06:50:00\",\"2020-02-24T07:00:00\",\"2020-02-24T07:10:00\",\"2020-02-24T07:20:00\",\"2020-02-24T07:30:00\",\"2020-02-24T07:40:00\",\"2020-02-24T07:50:00\",\"2020-02-24T08:00:00\",\"2020-02-24T08:10:00\",\"2020-02-24T08:20:00\",\"2020-02-24T08:30:00\",\"2020-02-24T08:40:00\",\"2020-02-24T08:50:00\",\"2020-02-24T09:00:00\",\"2020-02-24T09:10:00\",\"2020-02-24T09:20:00\",\"2020-02-24T09:30:00\",\"2020-02-24T09:40:00\",\"2020-02-24T09:50:00\",\"2020-02-24T10:00:00\",\"2020-02-24T10:10:00\",\"2020-02-24T10:20:00\",\"2020-02-24T10:30:00\",\"2020-02-24T10:40:00\",\"2020-02-24T10:50:00\",\"2020-02-24T11:00:00\",\"2020-02-24T11:10:00\",\"2020-02-24T11:20:00\",\"2020-02-24T11:30:00\",\"2020-02-24T11:40:00\"],\"y\":[31.656833134182303,24.0406286154214,38.52619082076724,31.314213626082527,24.383849149162728,22.261806569444367,30.73537057093746,18.526410534939608,20.68137565960141,31.3721577951819,17.443572194092084,29.10379869566163,24.10940107416084,35.47494370291257,22.322215911511286,31.91041219015456,28.40458369526001,29.654718210390115,30.27403386680542,40.67136026773489,35.093468405896566,46.50423986022198,36.440554892846265,31.476563784177767,70.83203368677886,43.01278907033932,72.61968302637823,35.58311588773455,42.695055332985284,47.754884376902055,35.748454769638904,35.090469319936304,45.758619304762576,69.6411867412582,36.16084195615866,54.87219367729148,48.369220831123876,24.293254214143367],\"type\":\"scatter\"},{\"fill\":\"tonexty\",\"line\":{\"color\":\"#ffa600\",\"width\":3},\"name\":\"Criteria I\",\"showlegend\":false,\"x\":[\"2020-02-24T05:30:00\",\"2020-02-24T05:40:00\",\"2020-02-24T05:50:00\",\"2020-02-24T06:00:00\",\"2020-02-24T06:10:00\",\"2020-02-24T06:20:00\",\"2020-02-24T06:30:00\",\"2020-02-24T06:40:00\",\"2020-02-24T06:50:00\",\"2020-02-24T07:00:00\",\"2020-02-24T07:10:00\",\"2020-02-24T07:20:00\",\"2020-02-24T07:30:00\",\"2020-02-24T07:40:00\",\"2020-02-24T07:50:00\",\"2020-02-24T08:00:00\",\"2020-02-24T08:10:00\",\"2020-02-24T08:20:00\",\"2020-02-24T08:30:00\",\"2020-02-24T08:40:00\",\"2020-02-24T08:50:00\",\"2020-02-24T09:00:00\",\"2020-02-24T09:10:00\",\"2020-02-24T09:20:00\",\"2020-02-24T09:30:00\",\"2020-02-24T09:40:00\",\"2020-02-24T09:50:00\",\"2020-02-24T10:00:00\",\"2020-02-24T10:10:00\",\"2020-02-24T10:20:00\",\"2020-02-24T10:30:00\",\"2020-02-24T10:40:00\",\"2020-02-24T10:50:00\",\"2020-02-24T11:00:00\",\"2020-02-24T11:10:00\",\"2020-02-24T11:20:00\",\"2020-02-24T11:30:00\",\"2020-02-24T11:40:00\"],\"y\":[-7.656833134182303,-12.0406286154214,-2.5261908207672406,-7.314213626082527,-12.383849149162728,-22.261806569444367,-6.735370570937459,-18.526410534939608,-20.68137565960141,-7.372157795181899,-17.443572194092084,-17.10379869566163,-12.10940107416084,-11.474943702912565,-22.322215911511286,-7.91041219015456,-16.40458369526001,-17.654718210390115,-18.27403386680542,-4.67136026773489,-11.093468405896566,1.495760139778021,-24.44055489284626,-19.476563784177767,13.167966313221143,-7.012789070339323,11.380316973621781,0.4168841122654534,-6.695055332985284,-11.754884376902059,-11.748454769638904,-11.090469319936307,2.241380695237421,14.358813258741804,-12.160841956158666,-6.872193677291481,-0.3692208311238758,-0.29325421414336894],\"type\":\"scatter\"},{\"line\":{\"color\":\"#bc5090\",\"width\":3},\"name\":\"Criteria II.\",\"x\":[\"2020-02-24T05:30:00\",\"2020-02-24T05:40:00\",\"2020-02-24T05:50:00\",\"2020-02-24T06:00:00\",\"2020-02-24T06:10:00\",\"2020-02-24T06:20:00\",\"2020-02-24T06:30:00\",\"2020-02-24T06:40:00\",\"2020-02-24T06:50:00\",\"2020-02-24T07:00:00\",\"2020-02-24T07:10:00\",\"2020-02-24T07:20:00\",\"2020-02-24T07:30:00\",\"2020-02-24T07:40:00\",\"2020-02-24T07:50:00\",\"2020-02-24T08:00:00\",\"2020-02-24T08:10:00\",\"2020-02-24T08:20:00\",\"2020-02-24T08:30:00\",\"2020-02-24T08:40:00\",\"2020-02-24T08:50:00\",\"2020-02-24T09:00:00\",\"2020-02-24T09:10:00\",\"2020-02-24T09:20:00\",\"2020-02-24T09:30:00\",\"2020-02-24T09:40:00\",\"2020-02-24T09:50:00\",\"2020-02-24T10:00:00\",\"2020-02-24T10:10:00\",\"2020-02-24T10:20:00\",\"2020-02-24T10:30:00\",\"2020-02-24T10:40:00\",\"2020-02-24T10:50:00\",\"2020-02-24T11:00:00\",\"2020-02-24T11:10:00\",\"2020-02-24T11:20:00\",\"2020-02-24T11:30:00\",\"2020-02-24T11:40:00\"],\"y\":[22.028996497031788,15.204402354806838,28.472546337126143,21.85419062555231,15.379514872021801,11.358064576247127,21.55886253619258,9.45225027292837,10.551722275306842,21.883753977133622,8.899781731679635,17.78765239574573,15.239490343959613,23.977012093322738,11.38888566913841,22.158373566405388,17.430910048602044,18.068733780811286,18.384711156533378,29.5670205447627,23.782381839743145,35.4817550307255,21.53089535349299,18.998246828662126,56.71022126876473,30.76162707670374,57.62228725835624,26.970977493742115,30.59951802703331,33.18106345760309,24.116558555938216,23.780851693845054,35.10133637998091,56.1026462965603,24.326960181713606,39.7511192231079,36.43327593424688,18.27206847660376],\"type\":\"scatter\"},{\"fill\":\"tonexty\",\"line\":{\"color\":\"#bc5090\",\"width\":3},\"name\":\"Criteria II\",\"showlegend\":false,\"x\":[\"2020-02-24T05:30:00\",\"2020-02-24T05:40:00\",\"2020-02-24T05:50:00\",\"2020-02-24T06:00:00\",\"2020-02-24T06:10:00\",\"2020-02-24T06:20:00\",\"2020-02-24T06:30:00\",\"2020-02-24T06:40:00\",\"2020-02-24T06:50:00\",\"2020-02-24T07:00:00\",\"2020-02-24T07:10:00\",\"2020-02-24T07:20:00\",\"2020-02-24T07:30:00\",\"2020-02-24T07:40:00\",\"2020-02-24T07:50:00\",\"2020-02-24T08:00:00\",\"2020-02-24T08:10:00\",\"2020-02-24T08:20:00\",\"2020-02-24T08:30:00\",\"2020-02-24T08:40:00\",\"2020-02-24T08:50:00\",\"2020-02-24T09:00:00\",\"2020-02-24T09:10:00\",\"2020-02-24T09:20:00\",\"2020-02-24T09:30:00\",\"2020-02-24T09:40:00\",\"2020-02-24T09:50:00\",\"2020-02-24T10:00:00\",\"2020-02-24T10:10:00\",\"2020-02-24T10:20:00\",\"2020-02-24T10:30:00\",\"2020-02-24T10:40:00\",\"2020-02-24T10:50:00\",\"2020-02-24T11:00:00\",\"2020-02-24T11:10:00\",\"2020-02-24T11:20:00\",\"2020-02-24T11:30:00\",\"2020-02-24T11:40:00\"],\"y\":[1.9710035029682125,-3.204402354806838,7.527453662873857,2.1458093744476905,-3.379514872021801,-11.358064576247127,2.4411374638074186,-9.45225027292837,-10.551722275306842,2.1162460228663775,-8.899781731679635,-5.787652395745731,-3.2394903439596128,0.022987906677261805,-11.38888566913841,1.8416264335946124,-5.430910048602046,-6.068733780811284,-6.384711156533378,6.4329794552373,0.21761816025685476,12.5182449692745,-9.53089535349299,-6.9982468286621256,27.289778731235277,5.238372923296263,26.377712741643766,9.029022506257885,5.400481972966691,2.8189365423969086,-0.11655855593821585,0.21914830615494552,12.898663620019093,27.8973537034397,-0.32696018171360564,8.2488807768921,11.566724065753125,5.72793152339624],\"type\":\"scatter\"},{\"line\":{\"color\":\"#003f5c\",\"width\":5},\"name\":\"Representative Day\",\"x\":[\"2020-02-24T05:30:00\",\"2020-02-24T05:40:00\",\"2020-02-24T05:50:00\",\"2020-02-24T06:00:00\",\"2020-02-24T06:10:00\",\"2020-02-24T06:20:00\",\"2020-02-24T06:30:00\",\"2020-02-24T06:40:00\",\"2020-02-24T06:50:00\",\"2020-02-24T07:00:00\",\"2020-02-24T07:10:00\",\"2020-02-24T07:20:00\",\"2020-02-24T07:30:00\",\"2020-02-24T07:40:00\",\"2020-02-24T07:50:00\",\"2020-02-24T08:00:00\",\"2020-02-24T08:10:00\",\"2020-02-24T08:20:00\",\"2020-02-24T08:30:00\",\"2020-02-24T08:40:00\",\"2020-02-24T08:50:00\",\"2020-02-24T09:00:00\",\"2020-02-24T09:10:00\",\"2020-02-24T09:20:00\",\"2020-02-24T09:30:00\",\"2020-02-24T09:40:00\",\"2020-02-24T09:50:00\",\"2020-02-24T10:00:00\",\"2020-02-24T10:10:00\",\"2020-02-24T10:20:00\",\"2020-02-24T10:30:00\",\"2020-02-24T10:40:00\",\"2020-02-24T10:50:00\",\"2020-02-24T11:00:00\",\"2020-02-24T11:10:00\",\"2020-02-24T11:20:00\",\"2020-02-24T11:30:00\",\"2020-02-24T11:40:00\"],\"y\":[12.0,6.0,18.0,12.0,6.0,0.0,12.0,0.0,0.0,12.0,0.0,6.0,6.0,12.0,0.0,12.0,6.0,6.0,6.0,18.0,12.0,24.0,6.0,6.0,42.0,18.0,42.0,18.0,18.0,18.0,12.0,12.0,24.0,42.0,12.0,24.0,24.0,12.0],\"type\":\"scatter\"},{\"marker\":{\"color\":\"red\",\"line\":{\"color\":\"black\",\"width\":2},\"size\":15,\"symbol\":\"diamond\"},\"mode\":\"markers\",\"name\":\"Simulation\",\"x\":[\"2020-02-24T05:30:00\",\"2020-02-24T05:40:00\",\"2020-02-24T05:50:00\",\"2020-02-24T06:00:00\",\"2020-02-24T06:10:00\",\"2020-02-24T06:20:00\",\"2020-02-24T06:30:00\",\"2020-02-24T06:40:00\",\"2020-02-24T06:50:00\",\"2020-02-24T07:00:00\",\"2020-02-24T07:10:00\",\"2020-02-24T07:20:00\",\"2020-02-24T07:30:00\",\"2020-02-24T07:40:00\",\"2020-02-24T07:50:00\",\"2020-02-24T08:00:00\",\"2020-02-24T08:10:00\",\"2020-02-24T08:20:00\",\"2020-02-24T08:30:00\",\"2020-02-24T08:40:00\",\"2020-02-24T08:50:00\",\"2020-02-24T09:00:00\",\"2020-02-24T09:10:00\",\"2020-02-24T09:20:00\",\"2020-02-24T09:30:00\",\"2020-02-24T09:40:00\",\"2020-02-24T09:50:00\",\"2020-02-24T10:00:00\",\"2020-02-24T10:10:00\",\"2020-02-24T10:20:00\",\"2020-02-24T10:30:00\",\"2020-02-24T10:40:00\",\"2020-02-24T10:50:00\",\"2020-02-24T11:00:00\",\"2020-02-24T11:10:00\",\"2020-02-24T11:20:00\",\"2020-02-24T11:30:00\",\"2020-02-24T11:40:00\"],\"y\":[0.0,0.0,0.0,0.0,0.0,0.0,0.0,0.0,0.0,0.0,0.0,0.0,0.0,0.0,0.0,0.0,0.0,0.0,0.0,0.0,0.0,12.0,12.0,30.0,12.0,0.0,0.0,0.0,0.0,0.0,0.0,0.0,18.0,60.0,18.0,0.0,0.0,0.0],\"type\":\"scatter\"}],                        {\"template\":{\"data\":{\"barpolar\":[{\"marker\":{\"line\":{\"color\":\"white\",\"width\":0.5},\"pattern\":{\"fillmode\":\"overlay\",\"size\":10,\"solidity\":0.2}},\"type\":\"barpolar\"}],\"bar\":[{\"error_x\":{\"color\":\"rgb(36,36,36)\"},\"error_y\":{\"color\":\"rgb(36,36,36)\"},\"marker\":{\"line\":{\"color\":\"white\",\"width\":0.5},\"pattern\":{\"fillmode\":\"overlay\",\"size\":10,\"solidity\":0.2}},\"type\":\"bar\"}],\"carpet\":[{\"aaxis\":{\"endlinecolor\":\"rgb(36,36,36)\",\"gridcolor\":\"white\",\"linecolor\":\"white\",\"minorgridcolor\":\"white\",\"startlinecolor\":\"rgb(36,36,36)\"},\"baxis\":{\"endlinecolor\":\"rgb(36,36,36)\",\"gridcolor\":\"white\",\"linecolor\":\"white\",\"minorgridcolor\":\"white\",\"startlinecolor\":\"rgb(36,36,36)\"},\"type\":\"carpet\"}],\"choropleth\":[{\"colorbar\":{\"outlinewidth\":1,\"tickcolor\":\"rgb(36,36,36)\",\"ticks\":\"outside\"},\"type\":\"choropleth\"}],\"contourcarpet\":[{\"colorbar\":{\"outlinewidth\":1,\"tickcolor\":\"rgb(36,36,36)\",\"ticks\":\"outside\"},\"type\":\"contourcarpet\"}],\"contour\":[{\"colorbar\":{\"outlinewidth\":1,\"tickcolor\":\"rgb(36,36,36)\",\"ticks\":\"outside\"},\"colorscale\":[[0.0,\"#440154\"],[0.1111111111111111,\"#482878\"],[0.2222222222222222,\"#3e4989\"],[0.3333333333333333,\"#31688e\"],[0.4444444444444444,\"#26828e\"],[0.5555555555555556,\"#1f9e89\"],[0.6666666666666666,\"#35b779\"],[0.7777777777777778,\"#6ece58\"],[0.8888888888888888,\"#b5de2b\"],[1.0,\"#fde725\"]],\"type\":\"contour\"}],\"heatmapgl\":[{\"colorbar\":{\"outlinewidth\":1,\"tickcolor\":\"rgb(36,36,36)\",\"ticks\":\"outside\"},\"colorscale\":[[0.0,\"#440154\"],[0.1111111111111111,\"#482878\"],[0.2222222222222222,\"#3e4989\"],[0.3333333333333333,\"#31688e\"],[0.4444444444444444,\"#26828e\"],[0.5555555555555556,\"#1f9e89\"],[0.6666666666666666,\"#35b779\"],[0.7777777777777778,\"#6ece58\"],[0.8888888888888888,\"#b5de2b\"],[1.0,\"#fde725\"]],\"type\":\"heatmapgl\"}],\"heatmap\":[{\"colorbar\":{\"outlinewidth\":1,\"tickcolor\":\"rgb(36,36,36)\",\"ticks\":\"outside\"},\"colorscale\":[[0.0,\"#440154\"],[0.1111111111111111,\"#482878\"],[0.2222222222222222,\"#3e4989\"],[0.3333333333333333,\"#31688e\"],[0.4444444444444444,\"#26828e\"],[0.5555555555555556,\"#1f9e89\"],[0.6666666666666666,\"#35b779\"],[0.7777777777777778,\"#6ece58\"],[0.8888888888888888,\"#b5de2b\"],[1.0,\"#fde725\"]],\"type\":\"heatmap\"}],\"histogram2dcontour\":[{\"colorbar\":{\"outlinewidth\":1,\"tickcolor\":\"rgb(36,36,36)\",\"ticks\":\"outside\"},\"colorscale\":[[0.0,\"#440154\"],[0.1111111111111111,\"#482878\"],[0.2222222222222222,\"#3e4989\"],[0.3333333333333333,\"#31688e\"],[0.4444444444444444,\"#26828e\"],[0.5555555555555556,\"#1f9e89\"],[0.6666666666666666,\"#35b779\"],[0.7777777777777778,\"#6ece58\"],[0.8888888888888888,\"#b5de2b\"],[1.0,\"#fde725\"]],\"type\":\"histogram2dcontour\"}],\"histogram2d\":[{\"colorbar\":{\"outlinewidth\":1,\"tickcolor\":\"rgb(36,36,36)\",\"ticks\":\"outside\"},\"colorscale\":[[0.0,\"#440154\"],[0.1111111111111111,\"#482878\"],[0.2222222222222222,\"#3e4989\"],[0.3333333333333333,\"#31688e\"],[0.4444444444444444,\"#26828e\"],[0.5555555555555556,\"#1f9e89\"],[0.6666666666666666,\"#35b779\"],[0.7777777777777778,\"#6ece58\"],[0.8888888888888888,\"#b5de2b\"],[1.0,\"#fde725\"]],\"type\":\"histogram2d\"}],\"histogram\":[{\"marker\":{\"line\":{\"color\":\"white\",\"width\":0.6}},\"type\":\"histogram\"}],\"mesh3d\":[{\"colorbar\":{\"outlinewidth\":1,\"tickcolor\":\"rgb(36,36,36)\",\"ticks\":\"outside\"},\"type\":\"mesh3d\"}],\"parcoords\":[{\"line\":{\"colorbar\":{\"outlinewidth\":1,\"tickcolor\":\"rgb(36,36,36)\",\"ticks\":\"outside\"}},\"type\":\"parcoords\"}],\"pie\":[{\"automargin\":true,\"type\":\"pie\"}],\"scatter3d\":[{\"line\":{\"colorbar\":{\"outlinewidth\":1,\"tickcolor\":\"rgb(36,36,36)\",\"ticks\":\"outside\"}},\"marker\":{\"colorbar\":{\"outlinewidth\":1,\"tickcolor\":\"rgb(36,36,36)\",\"ticks\":\"outside\"}},\"type\":\"scatter3d\"}],\"scattercarpet\":[{\"marker\":{\"colorbar\":{\"outlinewidth\":1,\"tickcolor\":\"rgb(36,36,36)\",\"ticks\":\"outside\"}},\"type\":\"scattercarpet\"}],\"scattergeo\":[{\"marker\":{\"colorbar\":{\"outlinewidth\":1,\"tickcolor\":\"rgb(36,36,36)\",\"ticks\":\"outside\"}},\"type\":\"scattergeo\"}],\"scattergl\":[{\"marker\":{\"colorbar\":{\"outlinewidth\":1,\"tickcolor\":\"rgb(36,36,36)\",\"ticks\":\"outside\"}},\"type\":\"scattergl\"}],\"scattermapbox\":[{\"marker\":{\"colorbar\":{\"outlinewidth\":1,\"tickcolor\":\"rgb(36,36,36)\",\"ticks\":\"outside\"}},\"type\":\"scattermapbox\"}],\"scatterpolargl\":[{\"marker\":{\"colorbar\":{\"outlinewidth\":1,\"tickcolor\":\"rgb(36,36,36)\",\"ticks\":\"outside\"}},\"type\":\"scatterpolargl\"}],\"scatterpolar\":[{\"marker\":{\"colorbar\":{\"outlinewidth\":1,\"tickcolor\":\"rgb(36,36,36)\",\"ticks\":\"outside\"}},\"type\":\"scatterpolar\"}],\"scatter\":[{\"fillpattern\":{\"fillmode\":\"overlay\",\"size\":10,\"solidity\":0.2},\"type\":\"scatter\"}],\"scatterternary\":[{\"marker\":{\"colorbar\":{\"outlinewidth\":1,\"tickcolor\":\"rgb(36,36,36)\",\"ticks\":\"outside\"}},\"type\":\"scatterternary\"}],\"surface\":[{\"colorbar\":{\"outlinewidth\":1,\"tickcolor\":\"rgb(36,36,36)\",\"ticks\":\"outside\"},\"colorscale\":[[0.0,\"#440154\"],[0.1111111111111111,\"#482878\"],[0.2222222222222222,\"#3e4989\"],[0.3333333333333333,\"#31688e\"],[0.4444444444444444,\"#26828e\"],[0.5555555555555556,\"#1f9e89\"],[0.6666666666666666,\"#35b779\"],[0.7777777777777778,\"#6ece58\"],[0.8888888888888888,\"#b5de2b\"],[1.0,\"#fde725\"]],\"type\":\"surface\"}],\"table\":[{\"cells\":{\"fill\":{\"color\":\"rgb(237,237,237)\"},\"line\":{\"color\":\"white\"}},\"header\":{\"fill\":{\"color\":\"rgb(217,217,217)\"},\"line\":{\"color\":\"white\"}},\"type\":\"table\"}]},\"layout\":{\"annotationdefaults\":{\"arrowhead\":0,\"arrowwidth\":1},\"autotypenumbers\":\"strict\",\"coloraxis\":{\"colorbar\":{\"outlinewidth\":1,\"tickcolor\":\"rgb(36,36,36)\",\"ticks\":\"outside\"}},\"colorscale\":{\"diverging\":[[0.0,\"rgb(103,0,31)\"],[0.1,\"rgb(178,24,43)\"],[0.2,\"rgb(214,96,77)\"],[0.3,\"rgb(244,165,130)\"],[0.4,\"rgb(253,219,199)\"],[0.5,\"rgb(247,247,247)\"],[0.6,\"rgb(209,229,240)\"],[0.7,\"rgb(146,197,222)\"],[0.8,\"rgb(67,147,195)\"],[0.9,\"rgb(33,102,172)\"],[1.0,\"rgb(5,48,97)\"]],\"sequential\":[[0.0,\"#440154\"],[0.1111111111111111,\"#482878\"],[0.2222222222222222,\"#3e4989\"],[0.3333333333333333,\"#31688e\"],[0.4444444444444444,\"#26828e\"],[0.5555555555555556,\"#1f9e89\"],[0.6666666666666666,\"#35b779\"],[0.7777777777777778,\"#6ece58\"],[0.8888888888888888,\"#b5de2b\"],[1.0,\"#fde725\"]],\"sequentialminus\":[[0.0,\"#440154\"],[0.1111111111111111,\"#482878\"],[0.2222222222222222,\"#3e4989\"],[0.3333333333333333,\"#31688e\"],[0.4444444444444444,\"#26828e\"],[0.5555555555555556,\"#1f9e89\"],[0.6666666666666666,\"#35b779\"],[0.7777777777777778,\"#6ece58\"],[0.8888888888888888,\"#b5de2b\"],[1.0,\"#fde725\"]]},\"colorway\":[\"#1F77B4\",\"#FF7F0E\",\"#2CA02C\",\"#D62728\",\"#9467BD\",\"#8C564B\",\"#E377C2\",\"#7F7F7F\",\"#BCBD22\",\"#17BECF\"],\"font\":{\"color\":\"rgb(36,36,36)\"},\"geo\":{\"bgcolor\":\"white\",\"lakecolor\":\"white\",\"landcolor\":\"white\",\"showlakes\":true,\"showland\":true,\"subunitcolor\":\"white\"},\"hoverlabel\":{\"align\":\"left\"},\"hovermode\":\"closest\",\"mapbox\":{\"style\":\"light\"},\"paper_bgcolor\":\"white\",\"plot_bgcolor\":\"white\",\"polar\":{\"angularaxis\":{\"gridcolor\":\"rgb(232,232,232)\",\"linecolor\":\"rgb(36,36,36)\",\"showgrid\":false,\"showline\":true,\"ticks\":\"outside\"},\"bgcolor\":\"white\",\"radialaxis\":{\"gridcolor\":\"rgb(232,232,232)\",\"linecolor\":\"rgb(36,36,36)\",\"showgrid\":false,\"showline\":true,\"ticks\":\"outside\"}},\"scene\":{\"xaxis\":{\"backgroundcolor\":\"white\",\"gridcolor\":\"rgb(232,232,232)\",\"gridwidth\":2,\"linecolor\":\"rgb(36,36,36)\",\"showbackground\":true,\"showgrid\":false,\"showline\":true,\"ticks\":\"outside\",\"zeroline\":false,\"zerolinecolor\":\"rgb(36,36,36)\"},\"yaxis\":{\"backgroundcolor\":\"white\",\"gridcolor\":\"rgb(232,232,232)\",\"gridwidth\":2,\"linecolor\":\"rgb(36,36,36)\",\"showbackground\":true,\"showgrid\":false,\"showline\":true,\"ticks\":\"outside\",\"zeroline\":false,\"zerolinecolor\":\"rgb(36,36,36)\"},\"zaxis\":{\"backgroundcolor\":\"white\",\"gridcolor\":\"rgb(232,232,232)\",\"gridwidth\":2,\"linecolor\":\"rgb(36,36,36)\",\"showbackground\":true,\"showgrid\":false,\"showline\":true,\"ticks\":\"outside\",\"zeroline\":false,\"zerolinecolor\":\"rgb(36,36,36)\"}},\"shapedefaults\":{\"fillcolor\":\"black\",\"line\":{\"width\":0},\"opacity\":0.3},\"ternary\":{\"aaxis\":{\"gridcolor\":\"rgb(232,232,232)\",\"linecolor\":\"rgb(36,36,36)\",\"showgrid\":false,\"showline\":true,\"ticks\":\"outside\"},\"baxis\":{\"gridcolor\":\"rgb(232,232,232)\",\"linecolor\":\"rgb(36,36,36)\",\"showgrid\":false,\"showline\":true,\"ticks\":\"outside\"},\"bgcolor\":\"white\",\"caxis\":{\"gridcolor\":\"rgb(232,232,232)\",\"linecolor\":\"rgb(36,36,36)\",\"showgrid\":false,\"showline\":true,\"ticks\":\"outside\"}},\"title\":{\"x\":0.05},\"xaxis\":{\"automargin\":true,\"gridcolor\":\"rgb(232,232,232)\",\"linecolor\":\"rgb(36,36,36)\",\"showgrid\":false,\"showline\":true,\"ticks\":\"outside\",\"title\":{\"standoff\":15},\"zeroline\":false,\"zerolinecolor\":\"rgb(36,36,36)\"},\"yaxis\":{\"automargin\":true,\"gridcolor\":\"rgb(232,232,232)\",\"linecolor\":\"rgb(36,36,36)\",\"showgrid\":false,\"showline\":true,\"ticks\":\"outside\",\"title\":{\"standoff\":15},\"zeroline\":false,\"zerolinecolor\":\"rgb(36,36,36)\"}}},\"yaxis\":{\"title\":{\"text\":\"Volume [Vehicles/Hour]\"},\"showgrid\":true,\"range\":[0,250]},\"font\":{\"family\":\"helvetica\",\"size\":26},\"legend\":{\"yanchor\":\"top\",\"y\":1.0,\"xanchor\":\"right\",\"x\":1,\"orientation\":\"h\"},\"xaxis\":{\"tickangle\":15},\"height\":600,\"width\":1200,\"showlegend\":true},                        {\"responsive\": true}                    ).then(function(){\n",
       "                            \n",
       "var gd = document.getElementById('4e955d7f-bf45-479d-a163-b09b83da93a0');\n",
       "var x = new MutationObserver(function (mutations, observer) {{\n",
       "        var display = window.getComputedStyle(gd).display;\n",
       "        if (!display || display === 'none') {{\n",
       "            console.log([gd, 'removed!']);\n",
       "            Plotly.purge(gd);\n",
       "            observer.disconnect();\n",
       "        }}\n",
       "}});\n",
       "\n",
       "// Listen for the removal of the full notebook cells\n",
       "var notebookContainer = gd.closest('#notebook-container');\n",
       "if (notebookContainer) {{\n",
       "    x.observe(notebookContainer, {childList: true});\n",
       "}}\n",
       "\n",
       "// Listen for the clearing of the current output cell\n",
       "var outputEl = gd.closest('.output');\n",
       "if (outputEl) {{\n",
       "    x.observe(outputEl, {childList: true});\n",
       "}}\n",
       "\n",
       "                        })                };                });            </script>        </div>"
      ]
     },
     "metadata": {},
     "output_type": "display_data"
    },
    {
     "name": "stdout",
     "output_type": "stream",
     "text": [
      "{63082003-8.png/TL2-SB},%\n"
     ]
    },
    {
     "data": {
      "application/vnd.plotly.v1+json": {
       "config": {
        "plotlyServerURL": "https://plot.ly"
       },
       "data": [
        {
         "line": {
          "color": "#ffa600",
          "width": 3
         },
         "name": "Criteria I.",
         "type": "scatter",
         "x": [
          "2020-02-24T05:30:00",
          "2020-02-24T05:40:00",
          "2020-02-24T05:50:00",
          "2020-02-24T06:00:00",
          "2020-02-24T06:10:00",
          "2020-02-24T06:20:00",
          "2020-02-24T06:30:00",
          "2020-02-24T06:40:00",
          "2020-02-24T06:50:00",
          "2020-02-24T07:00:00",
          "2020-02-24T07:10:00",
          "2020-02-24T07:20:00",
          "2020-02-24T07:30:00",
          "2020-02-24T07:40:00",
          "2020-02-24T07:50:00",
          "2020-02-24T08:00:00",
          "2020-02-24T08:10:00",
          "2020-02-24T08:20:00",
          "2020-02-24T08:30:00",
          "2020-02-24T08:40:00",
          "2020-02-24T08:50:00",
          "2020-02-24T09:00:00",
          "2020-02-24T09:10:00",
          "2020-02-24T09:20:00",
          "2020-02-24T09:30:00",
          "2020-02-24T09:40:00",
          "2020-02-24T09:50:00",
          "2020-02-24T10:00:00",
          "2020-02-24T10:10:00",
          "2020-02-24T10:20:00",
          "2020-02-24T10:30:00",
          "2020-02-24T10:40:00",
          "2020-02-24T10:50:00",
          "2020-02-24T11:00:00",
          "2020-02-24T11:10:00",
          "2020-02-24T11:20:00",
          "2020-02-24T11:30:00",
          "2020-02-24T11:40:00"
         ],
         "y": [
          60.480441763696504,
          29.337882325241676,
          51.04921870481463,
          77.74663289583842,
          75.86190867897295,
          80.42770311890831,
          118.75535211892296,
          88.76037238638409,
          99.87704647456033,
          86.54444262028488,
          72.3305335885492,
          89.9012912473689,
          91.53260678673871,
          100.3331796104716,
          69.99385308475513,
          66.18161189528105,
          77.7337390755905,
          73.0364573392903,
          68.46456854607716,
          73.90035552212157,
          63.49249446664436,
          68.53657844358688,
          81.57867286602,
          85.44960147274436,
          106.32523648853322,
          74.90235097461321,
          87.91259740154095,
          105.87265184206831,
          122.31086405695729,
          91.55765017953613,
          115.24190919018952,
          98.33649099065133,
          74.47979437701714,
          105.16496995880775,
          106.75506681724421,
          87.73660315801115,
          117.6626555200508,
          51.86342460679914
         ]
        },
        {
         "fill": "tonexty",
         "line": {
          "color": "#ffa600",
          "width": 3
         },
         "name": "Criteria I",
         "showlegend": false,
         "type": "scatter",
         "x": [
          "2020-02-24T05:30:00",
          "2020-02-24T05:40:00",
          "2020-02-24T05:50:00",
          "2020-02-24T06:00:00",
          "2020-02-24T06:10:00",
          "2020-02-24T06:20:00",
          "2020-02-24T06:30:00",
          "2020-02-24T06:40:00",
          "2020-02-24T06:50:00",
          "2020-02-24T07:00:00",
          "2020-02-24T07:10:00",
          "2020-02-24T07:20:00",
          "2020-02-24T07:30:00",
          "2020-02-24T07:40:00",
          "2020-02-24T07:50:00",
          "2020-02-24T08:00:00",
          "2020-02-24T08:10:00",
          "2020-02-24T08:20:00",
          "2020-02-24T08:30:00",
          "2020-02-24T08:40:00",
          "2020-02-24T08:50:00",
          "2020-02-24T09:00:00",
          "2020-02-24T09:10:00",
          "2020-02-24T09:20:00",
          "2020-02-24T09:30:00",
          "2020-02-24T09:40:00",
          "2020-02-24T09:50:00",
          "2020-02-24T10:00:00",
          "2020-02-24T10:10:00",
          "2020-02-24T10:20:00",
          "2020-02-24T10:30:00",
          "2020-02-24T10:40:00",
          "2020-02-24T10:50:00",
          "2020-02-24T11:00:00",
          "2020-02-24T11:10:00",
          "2020-02-24T11:20:00",
          "2020-02-24T11:30:00",
          "2020-02-24T11:40:00"
         ],
         "y": [
          -0.48044176369650415,
          -29.337882325241676,
          -15.049218704814628,
          -5.746632895838417,
          -3.861908678972952,
          3.5722968810916953,
          13.244647881077043,
          7.239627613615909,
          20.122953525439677,
          9.45555737971511,
          -0.33053358854919423,
          18.09870875263109,
          4.467393213261296,
          19.666820389528404,
          2.0061469152448765,
          -6.181611895281051,
          -5.733739075590513,
          -1.036457339290294,
          -8.46456854607716,
          -1.9003555221215649,
          -3.4924944666443594,
          -8.536578443586883,
          2.42132713398,
          -1.4496014727443622,
          25.674763511466786,
          9.097649025386787,
          8.087402598459057,
          26.127348157931685,
          45.68913594304272,
          4.442349820463882,
          40.758090809810476,
          9.66350900934868,
          -14.479794377017143,
          14.835030041192248,
          13.244933182755787,
          8.263396841988857,
          26.337344479949202,
          8.13657539320086
         ]
        },
        {
         "line": {
          "color": "#bc5090",
          "width": 3
         },
         "name": "Criteria II.",
         "type": "scatter",
         "x": [
          "2020-02-24T05:30:00",
          "2020-02-24T05:40:00",
          "2020-02-24T05:50:00",
          "2020-02-24T06:00:00",
          "2020-02-24T06:10:00",
          "2020-02-24T06:20:00",
          "2020-02-24T06:30:00",
          "2020-02-24T06:40:00",
          "2020-02-24T06:50:00",
          "2020-02-24T07:00:00",
          "2020-02-24T07:10:00",
          "2020-02-24T07:20:00",
          "2020-02-24T07:30:00",
          "2020-02-24T07:40:00",
          "2020-02-24T07:50:00",
          "2020-02-24T08:00:00",
          "2020-02-24T08:10:00",
          "2020-02-24T08:20:00",
          "2020-02-24T08:30:00",
          "2020-02-24T08:40:00",
          "2020-02-24T08:50:00",
          "2020-02-24T09:00:00",
          "2020-02-24T09:10:00",
          "2020-02-24T09:20:00",
          "2020-02-24T09:30:00",
          "2020-02-24T09:40:00",
          "2020-02-24T09:50:00",
          "2020-02-24T10:00:00",
          "2020-02-24T10:10:00",
          "2020-02-24T10:20:00",
          "2020-02-24T10:30:00",
          "2020-02-24T10:40:00",
          "2020-02-24T10:50:00",
          "2020-02-24T11:00:00",
          "2020-02-24T11:10:00",
          "2020-02-24T11:20:00",
          "2020-02-24T11:30:00",
          "2020-02-24T11:40:00"
         ],
         "y": [
          45.55124579780434,
          14.968307308796774,
          34.86184627796665,
          57.299302497876745,
          56.33770850968008,
          61.60597097903485,
          92.91599597904232,
          68.79610836040004,
          80.34543187477567,
          67.66553194912494,
          54.535986524769996,
          72.31698533029027,
          70.21051366670342,
          80.57815286248551,
          53.34380259426282,
          48.46000606902095,
          57.292724018158424,
          54.89615170371954,
          49.624779870447526,
          55.336916082715085,
          47.088007380941,
          49.66151961407494,
          62.19320044184694,
          64.1681640167063,
          86.57410024925164,
          58.78691376255776,
          68.36357010282701,
          86.34318971534097,
          103.54635921273331,
          70.2232909079266,
          97.0009740766273,
          76.62065866869966,
          52.69377264133528,
          83.04335201979987,
          83.85462592716542,
          68.27377712143425,
          95.29727322451572,
          41.1548084728567
         ]
        },
        {
         "fill": "tonexty",
         "line": {
          "color": "#bc5090",
          "width": 3
         },
         "name": "Criteria II",
         "showlegend": false,
         "type": "scatter",
         "x": [
          "2020-02-24T05:30:00",
          "2020-02-24T05:40:00",
          "2020-02-24T05:50:00",
          "2020-02-24T06:00:00",
          "2020-02-24T06:10:00",
          "2020-02-24T06:20:00",
          "2020-02-24T06:30:00",
          "2020-02-24T06:40:00",
          "2020-02-24T06:50:00",
          "2020-02-24T07:00:00",
          "2020-02-24T07:10:00",
          "2020-02-24T07:20:00",
          "2020-02-24T07:30:00",
          "2020-02-24T07:40:00",
          "2020-02-24T07:50:00",
          "2020-02-24T08:00:00",
          "2020-02-24T08:10:00",
          "2020-02-24T08:20:00",
          "2020-02-24T08:30:00",
          "2020-02-24T08:40:00",
          "2020-02-24T08:50:00",
          "2020-02-24T09:00:00",
          "2020-02-24T09:10:00",
          "2020-02-24T09:20:00",
          "2020-02-24T09:30:00",
          "2020-02-24T09:40:00",
          "2020-02-24T09:50:00",
          "2020-02-24T10:00:00",
          "2020-02-24T10:10:00",
          "2020-02-24T10:20:00",
          "2020-02-24T10:30:00",
          "2020-02-24T10:40:00",
          "2020-02-24T10:50:00",
          "2020-02-24T11:00:00",
          "2020-02-24T11:10:00",
          "2020-02-24T11:20:00",
          "2020-02-24T11:30:00",
          "2020-02-24T11:40:00"
         ],
         "y": [
          14.44875420219566,
          -14.968307308796774,
          1.1381537220333513,
          14.700697502123255,
          15.662291490319923,
          22.39402902096515,
          39.08400402095768,
          27.203891639599952,
          39.65456812522432,
          28.334468050875056,
          17.464013475230004,
          35.683014669709735,
          25.78948633329658,
          39.42184713751449,
          18.65619740573718,
          11.539993930979055,
          14.707275981841576,
          17.10384829628046,
          10.37522012955247,
          16.663083917284915,
          12.911992619059,
          10.33848038592506,
          21.80679955815306,
          19.831835983293693,
          45.42589975074836,
          25.213086237442237,
          27.636429897172988,
          45.656810284659024,
          64.45364078726669,
          25.776709092073407,
          58.99902592337269,
          31.379341331300346,
          7.306227358664721,
          36.95664798020013,
          36.145374072834585,
          27.726222878565743,
          48.70272677548429,
          18.845191527143296
         ]
        },
        {
         "line": {
          "color": "#003f5c",
          "width": 5
         },
         "name": "Representative Day",
         "type": "scatter",
         "x": [
          "2020-02-24T05:30:00",
          "2020-02-24T05:40:00",
          "2020-02-24T05:50:00",
          "2020-02-24T06:00:00",
          "2020-02-24T06:10:00",
          "2020-02-24T06:20:00",
          "2020-02-24T06:30:00",
          "2020-02-24T06:40:00",
          "2020-02-24T06:50:00",
          "2020-02-24T07:00:00",
          "2020-02-24T07:10:00",
          "2020-02-24T07:20:00",
          "2020-02-24T07:30:00",
          "2020-02-24T07:40:00",
          "2020-02-24T07:50:00",
          "2020-02-24T08:00:00",
          "2020-02-24T08:10:00",
          "2020-02-24T08:20:00",
          "2020-02-24T08:30:00",
          "2020-02-24T08:40:00",
          "2020-02-24T08:50:00",
          "2020-02-24T09:00:00",
          "2020-02-24T09:10:00",
          "2020-02-24T09:20:00",
          "2020-02-24T09:30:00",
          "2020-02-24T09:40:00",
          "2020-02-24T09:50:00",
          "2020-02-24T10:00:00",
          "2020-02-24T10:10:00",
          "2020-02-24T10:20:00",
          "2020-02-24T10:30:00",
          "2020-02-24T10:40:00",
          "2020-02-24T10:50:00",
          "2020-02-24T11:00:00",
          "2020-02-24T11:10:00",
          "2020-02-24T11:20:00",
          "2020-02-24T11:30:00",
          "2020-02-24T11:40:00"
         ],
         "y": [
          30,
          0,
          18,
          36,
          36,
          42,
          66,
          48,
          60,
          48,
          36,
          54,
          48,
          60,
          36,
          30,
          36,
          36,
          30,
          36,
          30,
          30,
          42,
          42,
          66,
          42,
          48,
          66,
          84,
          48,
          78,
          54,
          30,
          60,
          60,
          48,
          72,
          30
         ]
        },
        {
         "marker": {
          "color": "red",
          "line": {
           "color": "black",
           "width": 2
          },
          "size": 15,
          "symbol": "diamond"
         },
         "mode": "markers",
         "name": "Simulation",
         "type": "scatter",
         "x": [
          "2020-02-24T05:30:00",
          "2020-02-24T05:40:00",
          "2020-02-24T05:50:00",
          "2020-02-24T06:00:00",
          "2020-02-24T06:10:00",
          "2020-02-24T06:20:00",
          "2020-02-24T06:30:00",
          "2020-02-24T06:40:00",
          "2020-02-24T06:50:00",
          "2020-02-24T07:00:00",
          "2020-02-24T07:10:00",
          "2020-02-24T07:20:00",
          "2020-02-24T07:30:00",
          "2020-02-24T07:40:00",
          "2020-02-24T07:50:00",
          "2020-02-24T08:00:00",
          "2020-02-24T08:10:00",
          "2020-02-24T08:20:00",
          "2020-02-24T08:30:00",
          "2020-02-24T08:40:00",
          "2020-02-24T08:50:00",
          "2020-02-24T09:00:00",
          "2020-02-24T09:10:00",
          "2020-02-24T09:20:00",
          "2020-02-24T09:30:00",
          "2020-02-24T09:40:00",
          "2020-02-24T09:50:00",
          "2020-02-24T10:00:00",
          "2020-02-24T10:10:00",
          "2020-02-24T10:20:00",
          "2020-02-24T10:30:00",
          "2020-02-24T10:40:00",
          "2020-02-24T10:50:00",
          "2020-02-24T11:00:00",
          "2020-02-24T11:10:00",
          "2020-02-24T11:20:00",
          "2020-02-24T11:30:00",
          "2020-02-24T11:40:00"
         ],
         "y": [
          72,
          24,
          72,
          96,
          12,
          66,
          84,
          90,
          36,
          90,
          66,
          90,
          42,
          120,
          72,
          84,
          54,
          42,
          60,
          126,
          96,
          36,
          150,
          96,
          150,
          84,
          114,
          78,
          168,
          150,
          108,
          120,
          12,
          126,
          174,
          108,
          78,
          96
         ]
        }
       ],
       "layout": {
        "font": {
         "family": "helvetica",
         "size": 26
        },
        "height": 600,
        "legend": {
         "orientation": "h",
         "x": 1,
         "xanchor": "right",
         "y": 1,
         "yanchor": "top"
        },
        "showlegend": true,
        "template": {
         "data": {
          "bar": [
           {
            "error_x": {
             "color": "rgb(36,36,36)"
            },
            "error_y": {
             "color": "rgb(36,36,36)"
            },
            "marker": {
             "line": {
              "color": "white",
              "width": 0.5
             },
             "pattern": {
              "fillmode": "overlay",
              "size": 10,
              "solidity": 0.2
             }
            },
            "type": "bar"
           }
          ],
          "barpolar": [
           {
            "marker": {
             "line": {
              "color": "white",
              "width": 0.5
             },
             "pattern": {
              "fillmode": "overlay",
              "size": 10,
              "solidity": 0.2
             }
            },
            "type": "barpolar"
           }
          ],
          "carpet": [
           {
            "aaxis": {
             "endlinecolor": "rgb(36,36,36)",
             "gridcolor": "white",
             "linecolor": "white",
             "minorgridcolor": "white",
             "startlinecolor": "rgb(36,36,36)"
            },
            "baxis": {
             "endlinecolor": "rgb(36,36,36)",
             "gridcolor": "white",
             "linecolor": "white",
             "minorgridcolor": "white",
             "startlinecolor": "rgb(36,36,36)"
            },
            "type": "carpet"
           }
          ],
          "choropleth": [
           {
            "colorbar": {
             "outlinewidth": 1,
             "tickcolor": "rgb(36,36,36)",
             "ticks": "outside"
            },
            "type": "choropleth"
           }
          ],
          "contour": [
           {
            "colorbar": {
             "outlinewidth": 1,
             "tickcolor": "rgb(36,36,36)",
             "ticks": "outside"
            },
            "colorscale": [
             [
              0,
              "#440154"
             ],
             [
              0.1111111111111111,
              "#482878"
             ],
             [
              0.2222222222222222,
              "#3e4989"
             ],
             [
              0.3333333333333333,
              "#31688e"
             ],
             [
              0.4444444444444444,
              "#26828e"
             ],
             [
              0.5555555555555556,
              "#1f9e89"
             ],
             [
              0.6666666666666666,
              "#35b779"
             ],
             [
              0.7777777777777778,
              "#6ece58"
             ],
             [
              0.8888888888888888,
              "#b5de2b"
             ],
             [
              1,
              "#fde725"
             ]
            ],
            "type": "contour"
           }
          ],
          "contourcarpet": [
           {
            "colorbar": {
             "outlinewidth": 1,
             "tickcolor": "rgb(36,36,36)",
             "ticks": "outside"
            },
            "type": "contourcarpet"
           }
          ],
          "heatmap": [
           {
            "colorbar": {
             "outlinewidth": 1,
             "tickcolor": "rgb(36,36,36)",
             "ticks": "outside"
            },
            "colorscale": [
             [
              0,
              "#440154"
             ],
             [
              0.1111111111111111,
              "#482878"
             ],
             [
              0.2222222222222222,
              "#3e4989"
             ],
             [
              0.3333333333333333,
              "#31688e"
             ],
             [
              0.4444444444444444,
              "#26828e"
             ],
             [
              0.5555555555555556,
              "#1f9e89"
             ],
             [
              0.6666666666666666,
              "#35b779"
             ],
             [
              0.7777777777777778,
              "#6ece58"
             ],
             [
              0.8888888888888888,
              "#b5de2b"
             ],
             [
              1,
              "#fde725"
             ]
            ],
            "type": "heatmap"
           }
          ],
          "heatmapgl": [
           {
            "colorbar": {
             "outlinewidth": 1,
             "tickcolor": "rgb(36,36,36)",
             "ticks": "outside"
            },
            "colorscale": [
             [
              0,
              "#440154"
             ],
             [
              0.1111111111111111,
              "#482878"
             ],
             [
              0.2222222222222222,
              "#3e4989"
             ],
             [
              0.3333333333333333,
              "#31688e"
             ],
             [
              0.4444444444444444,
              "#26828e"
             ],
             [
              0.5555555555555556,
              "#1f9e89"
             ],
             [
              0.6666666666666666,
              "#35b779"
             ],
             [
              0.7777777777777778,
              "#6ece58"
             ],
             [
              0.8888888888888888,
              "#b5de2b"
             ],
             [
              1,
              "#fde725"
             ]
            ],
            "type": "heatmapgl"
           }
          ],
          "histogram": [
           {
            "marker": {
             "line": {
              "color": "white",
              "width": 0.6
             }
            },
            "type": "histogram"
           }
          ],
          "histogram2d": [
           {
            "colorbar": {
             "outlinewidth": 1,
             "tickcolor": "rgb(36,36,36)",
             "ticks": "outside"
            },
            "colorscale": [
             [
              0,
              "#440154"
             ],
             [
              0.1111111111111111,
              "#482878"
             ],
             [
              0.2222222222222222,
              "#3e4989"
             ],
             [
              0.3333333333333333,
              "#31688e"
             ],
             [
              0.4444444444444444,
              "#26828e"
             ],
             [
              0.5555555555555556,
              "#1f9e89"
             ],
             [
              0.6666666666666666,
              "#35b779"
             ],
             [
              0.7777777777777778,
              "#6ece58"
             ],
             [
              0.8888888888888888,
              "#b5de2b"
             ],
             [
              1,
              "#fde725"
             ]
            ],
            "type": "histogram2d"
           }
          ],
          "histogram2dcontour": [
           {
            "colorbar": {
             "outlinewidth": 1,
             "tickcolor": "rgb(36,36,36)",
             "ticks": "outside"
            },
            "colorscale": [
             [
              0,
              "#440154"
             ],
             [
              0.1111111111111111,
              "#482878"
             ],
             [
              0.2222222222222222,
              "#3e4989"
             ],
             [
              0.3333333333333333,
              "#31688e"
             ],
             [
              0.4444444444444444,
              "#26828e"
             ],
             [
              0.5555555555555556,
              "#1f9e89"
             ],
             [
              0.6666666666666666,
              "#35b779"
             ],
             [
              0.7777777777777778,
              "#6ece58"
             ],
             [
              0.8888888888888888,
              "#b5de2b"
             ],
             [
              1,
              "#fde725"
             ]
            ],
            "type": "histogram2dcontour"
           }
          ],
          "mesh3d": [
           {
            "colorbar": {
             "outlinewidth": 1,
             "tickcolor": "rgb(36,36,36)",
             "ticks": "outside"
            },
            "type": "mesh3d"
           }
          ],
          "parcoords": [
           {
            "line": {
             "colorbar": {
              "outlinewidth": 1,
              "tickcolor": "rgb(36,36,36)",
              "ticks": "outside"
             }
            },
            "type": "parcoords"
           }
          ],
          "pie": [
           {
            "automargin": true,
            "type": "pie"
           }
          ],
          "scatter": [
           {
            "fillpattern": {
             "fillmode": "overlay",
             "size": 10,
             "solidity": 0.2
            },
            "type": "scatter"
           }
          ],
          "scatter3d": [
           {
            "line": {
             "colorbar": {
              "outlinewidth": 1,
              "tickcolor": "rgb(36,36,36)",
              "ticks": "outside"
             }
            },
            "marker": {
             "colorbar": {
              "outlinewidth": 1,
              "tickcolor": "rgb(36,36,36)",
              "ticks": "outside"
             }
            },
            "type": "scatter3d"
           }
          ],
          "scattercarpet": [
           {
            "marker": {
             "colorbar": {
              "outlinewidth": 1,
              "tickcolor": "rgb(36,36,36)",
              "ticks": "outside"
             }
            },
            "type": "scattercarpet"
           }
          ],
          "scattergeo": [
           {
            "marker": {
             "colorbar": {
              "outlinewidth": 1,
              "tickcolor": "rgb(36,36,36)",
              "ticks": "outside"
             }
            },
            "type": "scattergeo"
           }
          ],
          "scattergl": [
           {
            "marker": {
             "colorbar": {
              "outlinewidth": 1,
              "tickcolor": "rgb(36,36,36)",
              "ticks": "outside"
             }
            },
            "type": "scattergl"
           }
          ],
          "scattermapbox": [
           {
            "marker": {
             "colorbar": {
              "outlinewidth": 1,
              "tickcolor": "rgb(36,36,36)",
              "ticks": "outside"
             }
            },
            "type": "scattermapbox"
           }
          ],
          "scatterpolar": [
           {
            "marker": {
             "colorbar": {
              "outlinewidth": 1,
              "tickcolor": "rgb(36,36,36)",
              "ticks": "outside"
             }
            },
            "type": "scatterpolar"
           }
          ],
          "scatterpolargl": [
           {
            "marker": {
             "colorbar": {
              "outlinewidth": 1,
              "tickcolor": "rgb(36,36,36)",
              "ticks": "outside"
             }
            },
            "type": "scatterpolargl"
           }
          ],
          "scatterternary": [
           {
            "marker": {
             "colorbar": {
              "outlinewidth": 1,
              "tickcolor": "rgb(36,36,36)",
              "ticks": "outside"
             }
            },
            "type": "scatterternary"
           }
          ],
          "surface": [
           {
            "colorbar": {
             "outlinewidth": 1,
             "tickcolor": "rgb(36,36,36)",
             "ticks": "outside"
            },
            "colorscale": [
             [
              0,
              "#440154"
             ],
             [
              0.1111111111111111,
              "#482878"
             ],
             [
              0.2222222222222222,
              "#3e4989"
             ],
             [
              0.3333333333333333,
              "#31688e"
             ],
             [
              0.4444444444444444,
              "#26828e"
             ],
             [
              0.5555555555555556,
              "#1f9e89"
             ],
             [
              0.6666666666666666,
              "#35b779"
             ],
             [
              0.7777777777777778,
              "#6ece58"
             ],
             [
              0.8888888888888888,
              "#b5de2b"
             ],
             [
              1,
              "#fde725"
             ]
            ],
            "type": "surface"
           }
          ],
          "table": [
           {
            "cells": {
             "fill": {
              "color": "rgb(237,237,237)"
             },
             "line": {
              "color": "white"
             }
            },
            "header": {
             "fill": {
              "color": "rgb(217,217,217)"
             },
             "line": {
              "color": "white"
             }
            },
            "type": "table"
           }
          ]
         },
         "layout": {
          "annotationdefaults": {
           "arrowhead": 0,
           "arrowwidth": 1
          },
          "autotypenumbers": "strict",
          "coloraxis": {
           "colorbar": {
            "outlinewidth": 1,
            "tickcolor": "rgb(36,36,36)",
            "ticks": "outside"
           }
          },
          "colorscale": {
           "diverging": [
            [
             0,
             "rgb(103,0,31)"
            ],
            [
             0.1,
             "rgb(178,24,43)"
            ],
            [
             0.2,
             "rgb(214,96,77)"
            ],
            [
             0.3,
             "rgb(244,165,130)"
            ],
            [
             0.4,
             "rgb(253,219,199)"
            ],
            [
             0.5,
             "rgb(247,247,247)"
            ],
            [
             0.6,
             "rgb(209,229,240)"
            ],
            [
             0.7,
             "rgb(146,197,222)"
            ],
            [
             0.8,
             "rgb(67,147,195)"
            ],
            [
             0.9,
             "rgb(33,102,172)"
            ],
            [
             1,
             "rgb(5,48,97)"
            ]
           ],
           "sequential": [
            [
             0,
             "#440154"
            ],
            [
             0.1111111111111111,
             "#482878"
            ],
            [
             0.2222222222222222,
             "#3e4989"
            ],
            [
             0.3333333333333333,
             "#31688e"
            ],
            [
             0.4444444444444444,
             "#26828e"
            ],
            [
             0.5555555555555556,
             "#1f9e89"
            ],
            [
             0.6666666666666666,
             "#35b779"
            ],
            [
             0.7777777777777778,
             "#6ece58"
            ],
            [
             0.8888888888888888,
             "#b5de2b"
            ],
            [
             1,
             "#fde725"
            ]
           ],
           "sequentialminus": [
            [
             0,
             "#440154"
            ],
            [
             0.1111111111111111,
             "#482878"
            ],
            [
             0.2222222222222222,
             "#3e4989"
            ],
            [
             0.3333333333333333,
             "#31688e"
            ],
            [
             0.4444444444444444,
             "#26828e"
            ],
            [
             0.5555555555555556,
             "#1f9e89"
            ],
            [
             0.6666666666666666,
             "#35b779"
            ],
            [
             0.7777777777777778,
             "#6ece58"
            ],
            [
             0.8888888888888888,
             "#b5de2b"
            ],
            [
             1,
             "#fde725"
            ]
           ]
          },
          "colorway": [
           "#1F77B4",
           "#FF7F0E",
           "#2CA02C",
           "#D62728",
           "#9467BD",
           "#8C564B",
           "#E377C2",
           "#7F7F7F",
           "#BCBD22",
           "#17BECF"
          ],
          "font": {
           "color": "rgb(36,36,36)"
          },
          "geo": {
           "bgcolor": "white",
           "lakecolor": "white",
           "landcolor": "white",
           "showlakes": true,
           "showland": true,
           "subunitcolor": "white"
          },
          "hoverlabel": {
           "align": "left"
          },
          "hovermode": "closest",
          "mapbox": {
           "style": "light"
          },
          "paper_bgcolor": "white",
          "plot_bgcolor": "white",
          "polar": {
           "angularaxis": {
            "gridcolor": "rgb(232,232,232)",
            "linecolor": "rgb(36,36,36)",
            "showgrid": false,
            "showline": true,
            "ticks": "outside"
           },
           "bgcolor": "white",
           "radialaxis": {
            "gridcolor": "rgb(232,232,232)",
            "linecolor": "rgb(36,36,36)",
            "showgrid": false,
            "showline": true,
            "ticks": "outside"
           }
          },
          "scene": {
           "xaxis": {
            "backgroundcolor": "white",
            "gridcolor": "rgb(232,232,232)",
            "gridwidth": 2,
            "linecolor": "rgb(36,36,36)",
            "showbackground": true,
            "showgrid": false,
            "showline": true,
            "ticks": "outside",
            "zeroline": false,
            "zerolinecolor": "rgb(36,36,36)"
           },
           "yaxis": {
            "backgroundcolor": "white",
            "gridcolor": "rgb(232,232,232)",
            "gridwidth": 2,
            "linecolor": "rgb(36,36,36)",
            "showbackground": true,
            "showgrid": false,
            "showline": true,
            "ticks": "outside",
            "zeroline": false,
            "zerolinecolor": "rgb(36,36,36)"
           },
           "zaxis": {
            "backgroundcolor": "white",
            "gridcolor": "rgb(232,232,232)",
            "gridwidth": 2,
            "linecolor": "rgb(36,36,36)",
            "showbackground": true,
            "showgrid": false,
            "showline": true,
            "ticks": "outside",
            "zeroline": false,
            "zerolinecolor": "rgb(36,36,36)"
           }
          },
          "shapedefaults": {
           "fillcolor": "black",
           "line": {
            "width": 0
           },
           "opacity": 0.3
          },
          "ternary": {
           "aaxis": {
            "gridcolor": "rgb(232,232,232)",
            "linecolor": "rgb(36,36,36)",
            "showgrid": false,
            "showline": true,
            "ticks": "outside"
           },
           "baxis": {
            "gridcolor": "rgb(232,232,232)",
            "linecolor": "rgb(36,36,36)",
            "showgrid": false,
            "showline": true,
            "ticks": "outside"
           },
           "bgcolor": "white",
           "caxis": {
            "gridcolor": "rgb(232,232,232)",
            "linecolor": "rgb(36,36,36)",
            "showgrid": false,
            "showline": true,
            "ticks": "outside"
           }
          },
          "title": {
           "x": 0.05
          },
          "xaxis": {
           "automargin": true,
           "gridcolor": "rgb(232,232,232)",
           "linecolor": "rgb(36,36,36)",
           "showgrid": false,
           "showline": true,
           "ticks": "outside",
           "title": {
            "standoff": 15
           },
           "zeroline": false,
           "zerolinecolor": "rgb(36,36,36)"
          },
          "yaxis": {
           "automargin": true,
           "gridcolor": "rgb(232,232,232)",
           "linecolor": "rgb(36,36,36)",
           "showgrid": false,
           "showline": true,
           "ticks": "outside",
           "title": {
            "standoff": 15
           },
           "zeroline": false,
           "zerolinecolor": "rgb(36,36,36)"
          }
         }
        },
        "width": 1200,
        "xaxis": {
         "tickangle": 15
        },
        "yaxis": {
         "range": [
          0,
          250
         ],
         "showgrid": true,
         "title": {
          "text": "Volume [Vehicles/Hour]"
         }
        }
       }
      },
      "text/html": [
       "<div>                            <div id=\"3b98e9a7-1e55-4965-81c1-4ce4c5a9077e\" class=\"plotly-graph-div\" style=\"height:600px; width:1200px;\"></div>            <script type=\"text/javascript\">                require([\"plotly\"], function(Plotly) {                    window.PLOTLYENV=window.PLOTLYENV || {};                                    if (document.getElementById(\"3b98e9a7-1e55-4965-81c1-4ce4c5a9077e\")) {                    Plotly.newPlot(                        \"3b98e9a7-1e55-4965-81c1-4ce4c5a9077e\",                        [{\"line\":{\"color\":\"#ffa600\",\"width\":3},\"name\":\"Criteria I.\",\"x\":[\"2020-02-24T05:30:00\",\"2020-02-24T05:40:00\",\"2020-02-24T05:50:00\",\"2020-02-24T06:00:00\",\"2020-02-24T06:10:00\",\"2020-02-24T06:20:00\",\"2020-02-24T06:30:00\",\"2020-02-24T06:40:00\",\"2020-02-24T06:50:00\",\"2020-02-24T07:00:00\",\"2020-02-24T07:10:00\",\"2020-02-24T07:20:00\",\"2020-02-24T07:30:00\",\"2020-02-24T07:40:00\",\"2020-02-24T07:50:00\",\"2020-02-24T08:00:00\",\"2020-02-24T08:10:00\",\"2020-02-24T08:20:00\",\"2020-02-24T08:30:00\",\"2020-02-24T08:40:00\",\"2020-02-24T08:50:00\",\"2020-02-24T09:00:00\",\"2020-02-24T09:10:00\",\"2020-02-24T09:20:00\",\"2020-02-24T09:30:00\",\"2020-02-24T09:40:00\",\"2020-02-24T09:50:00\",\"2020-02-24T10:00:00\",\"2020-02-24T10:10:00\",\"2020-02-24T10:20:00\",\"2020-02-24T10:30:00\",\"2020-02-24T10:40:00\",\"2020-02-24T10:50:00\",\"2020-02-24T11:00:00\",\"2020-02-24T11:10:00\",\"2020-02-24T11:20:00\",\"2020-02-24T11:30:00\",\"2020-02-24T11:40:00\"],\"y\":[60.480441763696504,29.337882325241676,51.04921870481463,77.74663289583842,75.86190867897295,80.42770311890831,118.75535211892296,88.76037238638409,99.87704647456033,86.54444262028488,72.3305335885492,89.9012912473689,91.53260678673871,100.3331796104716,69.99385308475513,66.18161189528105,77.7337390755905,73.0364573392903,68.46456854607716,73.90035552212157,63.49249446664436,68.53657844358688,81.57867286602,85.44960147274436,106.32523648853322,74.90235097461321,87.91259740154095,105.87265184206831,122.31086405695729,91.55765017953613,115.24190919018952,98.33649099065133,74.47979437701714,105.16496995880775,106.75506681724421,87.73660315801115,117.6626555200508,51.86342460679914],\"type\":\"scatter\"},{\"fill\":\"tonexty\",\"line\":{\"color\":\"#ffa600\",\"width\":3},\"name\":\"Criteria I\",\"showlegend\":false,\"x\":[\"2020-02-24T05:30:00\",\"2020-02-24T05:40:00\",\"2020-02-24T05:50:00\",\"2020-02-24T06:00:00\",\"2020-02-24T06:10:00\",\"2020-02-24T06:20:00\",\"2020-02-24T06:30:00\",\"2020-02-24T06:40:00\",\"2020-02-24T06:50:00\",\"2020-02-24T07:00:00\",\"2020-02-24T07:10:00\",\"2020-02-24T07:20:00\",\"2020-02-24T07:30:00\",\"2020-02-24T07:40:00\",\"2020-02-24T07:50:00\",\"2020-02-24T08:00:00\",\"2020-02-24T08:10:00\",\"2020-02-24T08:20:00\",\"2020-02-24T08:30:00\",\"2020-02-24T08:40:00\",\"2020-02-24T08:50:00\",\"2020-02-24T09:00:00\",\"2020-02-24T09:10:00\",\"2020-02-24T09:20:00\",\"2020-02-24T09:30:00\",\"2020-02-24T09:40:00\",\"2020-02-24T09:50:00\",\"2020-02-24T10:00:00\",\"2020-02-24T10:10:00\",\"2020-02-24T10:20:00\",\"2020-02-24T10:30:00\",\"2020-02-24T10:40:00\",\"2020-02-24T10:50:00\",\"2020-02-24T11:00:00\",\"2020-02-24T11:10:00\",\"2020-02-24T11:20:00\",\"2020-02-24T11:30:00\",\"2020-02-24T11:40:00\"],\"y\":[-0.48044176369650415,-29.337882325241676,-15.049218704814628,-5.746632895838417,-3.861908678972952,3.5722968810916953,13.244647881077043,7.239627613615909,20.122953525439677,9.45555737971511,-0.33053358854919423,18.09870875263109,4.467393213261296,19.666820389528404,2.0061469152448765,-6.181611895281051,-5.733739075590513,-1.036457339290294,-8.46456854607716,-1.9003555221215649,-3.4924944666443594,-8.536578443586883,2.42132713398,-1.4496014727443622,25.674763511466786,9.097649025386787,8.087402598459057,26.127348157931685,45.68913594304272,4.442349820463882,40.758090809810476,9.66350900934868,-14.479794377017143,14.835030041192248,13.244933182755787,8.263396841988857,26.337344479949202,8.13657539320086],\"type\":\"scatter\"},{\"line\":{\"color\":\"#bc5090\",\"width\":3},\"name\":\"Criteria II.\",\"x\":[\"2020-02-24T05:30:00\",\"2020-02-24T05:40:00\",\"2020-02-24T05:50:00\",\"2020-02-24T06:00:00\",\"2020-02-24T06:10:00\",\"2020-02-24T06:20:00\",\"2020-02-24T06:30:00\",\"2020-02-24T06:40:00\",\"2020-02-24T06:50:00\",\"2020-02-24T07:00:00\",\"2020-02-24T07:10:00\",\"2020-02-24T07:20:00\",\"2020-02-24T07:30:00\",\"2020-02-24T07:40:00\",\"2020-02-24T07:50:00\",\"2020-02-24T08:00:00\",\"2020-02-24T08:10:00\",\"2020-02-24T08:20:00\",\"2020-02-24T08:30:00\",\"2020-02-24T08:40:00\",\"2020-02-24T08:50:00\",\"2020-02-24T09:00:00\",\"2020-02-24T09:10:00\",\"2020-02-24T09:20:00\",\"2020-02-24T09:30:00\",\"2020-02-24T09:40:00\",\"2020-02-24T09:50:00\",\"2020-02-24T10:00:00\",\"2020-02-24T10:10:00\",\"2020-02-24T10:20:00\",\"2020-02-24T10:30:00\",\"2020-02-24T10:40:00\",\"2020-02-24T10:50:00\",\"2020-02-24T11:00:00\",\"2020-02-24T11:10:00\",\"2020-02-24T11:20:00\",\"2020-02-24T11:30:00\",\"2020-02-24T11:40:00\"],\"y\":[45.55124579780434,14.968307308796774,34.86184627796665,57.299302497876745,56.33770850968008,61.60597097903485,92.91599597904232,68.79610836040004,80.34543187477567,67.66553194912494,54.535986524769996,72.31698533029027,70.21051366670342,80.57815286248551,53.34380259426282,48.46000606902095,57.292724018158424,54.89615170371954,49.624779870447526,55.336916082715085,47.088007380941,49.66151961407494,62.19320044184694,64.1681640167063,86.57410024925164,58.78691376255776,68.36357010282701,86.34318971534097,103.54635921273331,70.2232909079266,97.0009740766273,76.62065866869966,52.69377264133528,83.04335201979987,83.85462592716542,68.27377712143425,95.29727322451572,41.1548084728567],\"type\":\"scatter\"},{\"fill\":\"tonexty\",\"line\":{\"color\":\"#bc5090\",\"width\":3},\"name\":\"Criteria II\",\"showlegend\":false,\"x\":[\"2020-02-24T05:30:00\",\"2020-02-24T05:40:00\",\"2020-02-24T05:50:00\",\"2020-02-24T06:00:00\",\"2020-02-24T06:10:00\",\"2020-02-24T06:20:00\",\"2020-02-24T06:30:00\",\"2020-02-24T06:40:00\",\"2020-02-24T06:50:00\",\"2020-02-24T07:00:00\",\"2020-02-24T07:10:00\",\"2020-02-24T07:20:00\",\"2020-02-24T07:30:00\",\"2020-02-24T07:40:00\",\"2020-02-24T07:50:00\",\"2020-02-24T08:00:00\",\"2020-02-24T08:10:00\",\"2020-02-24T08:20:00\",\"2020-02-24T08:30:00\",\"2020-02-24T08:40:00\",\"2020-02-24T08:50:00\",\"2020-02-24T09:00:00\",\"2020-02-24T09:10:00\",\"2020-02-24T09:20:00\",\"2020-02-24T09:30:00\",\"2020-02-24T09:40:00\",\"2020-02-24T09:50:00\",\"2020-02-24T10:00:00\",\"2020-02-24T10:10:00\",\"2020-02-24T10:20:00\",\"2020-02-24T10:30:00\",\"2020-02-24T10:40:00\",\"2020-02-24T10:50:00\",\"2020-02-24T11:00:00\",\"2020-02-24T11:10:00\",\"2020-02-24T11:20:00\",\"2020-02-24T11:30:00\",\"2020-02-24T11:40:00\"],\"y\":[14.44875420219566,-14.968307308796774,1.1381537220333513,14.700697502123255,15.662291490319923,22.39402902096515,39.08400402095768,27.203891639599952,39.65456812522432,28.334468050875056,17.464013475230004,35.683014669709735,25.78948633329658,39.42184713751449,18.65619740573718,11.539993930979055,14.707275981841576,17.10384829628046,10.37522012955247,16.663083917284915,12.911992619059,10.33848038592506,21.80679955815306,19.831835983293693,45.42589975074836,25.213086237442237,27.636429897172988,45.656810284659024,64.45364078726669,25.776709092073407,58.99902592337269,31.379341331300346,7.306227358664721,36.95664798020013,36.145374072834585,27.726222878565743,48.70272677548429,18.845191527143296],\"type\":\"scatter\"},{\"line\":{\"color\":\"#003f5c\",\"width\":5},\"name\":\"Representative Day\",\"x\":[\"2020-02-24T05:30:00\",\"2020-02-24T05:40:00\",\"2020-02-24T05:50:00\",\"2020-02-24T06:00:00\",\"2020-02-24T06:10:00\",\"2020-02-24T06:20:00\",\"2020-02-24T06:30:00\",\"2020-02-24T06:40:00\",\"2020-02-24T06:50:00\",\"2020-02-24T07:00:00\",\"2020-02-24T07:10:00\",\"2020-02-24T07:20:00\",\"2020-02-24T07:30:00\",\"2020-02-24T07:40:00\",\"2020-02-24T07:50:00\",\"2020-02-24T08:00:00\",\"2020-02-24T08:10:00\",\"2020-02-24T08:20:00\",\"2020-02-24T08:30:00\",\"2020-02-24T08:40:00\",\"2020-02-24T08:50:00\",\"2020-02-24T09:00:00\",\"2020-02-24T09:10:00\",\"2020-02-24T09:20:00\",\"2020-02-24T09:30:00\",\"2020-02-24T09:40:00\",\"2020-02-24T09:50:00\",\"2020-02-24T10:00:00\",\"2020-02-24T10:10:00\",\"2020-02-24T10:20:00\",\"2020-02-24T10:30:00\",\"2020-02-24T10:40:00\",\"2020-02-24T10:50:00\",\"2020-02-24T11:00:00\",\"2020-02-24T11:10:00\",\"2020-02-24T11:20:00\",\"2020-02-24T11:30:00\",\"2020-02-24T11:40:00\"],\"y\":[30.0,0.0,18.0,36.0,36.0,42.0,66.0,48.0,60.0,48.0,36.0,54.0,48.0,60.0,36.0,30.0,36.0,36.0,30.0,36.0,30.0,30.0,42.0,42.0,66.0,42.0,48.0,66.0,84.0,48.0,78.0,54.0,30.0,60.0,60.0,48.0,72.0,30.0],\"type\":\"scatter\"},{\"marker\":{\"color\":\"red\",\"line\":{\"color\":\"black\",\"width\":2},\"size\":15,\"symbol\":\"diamond\"},\"mode\":\"markers\",\"name\":\"Simulation\",\"x\":[\"2020-02-24T05:30:00\",\"2020-02-24T05:40:00\",\"2020-02-24T05:50:00\",\"2020-02-24T06:00:00\",\"2020-02-24T06:10:00\",\"2020-02-24T06:20:00\",\"2020-02-24T06:30:00\",\"2020-02-24T06:40:00\",\"2020-02-24T06:50:00\",\"2020-02-24T07:00:00\",\"2020-02-24T07:10:00\",\"2020-02-24T07:20:00\",\"2020-02-24T07:30:00\",\"2020-02-24T07:40:00\",\"2020-02-24T07:50:00\",\"2020-02-24T08:00:00\",\"2020-02-24T08:10:00\",\"2020-02-24T08:20:00\",\"2020-02-24T08:30:00\",\"2020-02-24T08:40:00\",\"2020-02-24T08:50:00\",\"2020-02-24T09:00:00\",\"2020-02-24T09:10:00\",\"2020-02-24T09:20:00\",\"2020-02-24T09:30:00\",\"2020-02-24T09:40:00\",\"2020-02-24T09:50:00\",\"2020-02-24T10:00:00\",\"2020-02-24T10:10:00\",\"2020-02-24T10:20:00\",\"2020-02-24T10:30:00\",\"2020-02-24T10:40:00\",\"2020-02-24T10:50:00\",\"2020-02-24T11:00:00\",\"2020-02-24T11:10:00\",\"2020-02-24T11:20:00\",\"2020-02-24T11:30:00\",\"2020-02-24T11:40:00\"],\"y\":[72.0,24.0,72.0,96.0,12.0,66.0,84.0,90.0,36.0,90.0,66.0,90.0,42.0,120.0,72.0,84.0,54.0,42.0,60.0,126.0,96.0,36.0,150.0,96.0,150.0,84.0,114.0,78.0,168.0,150.0,108.0,120.0,12.0,126.0,174.0,108.0,78.0,96.0],\"type\":\"scatter\"}],                        {\"template\":{\"data\":{\"barpolar\":[{\"marker\":{\"line\":{\"color\":\"white\",\"width\":0.5},\"pattern\":{\"fillmode\":\"overlay\",\"size\":10,\"solidity\":0.2}},\"type\":\"barpolar\"}],\"bar\":[{\"error_x\":{\"color\":\"rgb(36,36,36)\"},\"error_y\":{\"color\":\"rgb(36,36,36)\"},\"marker\":{\"line\":{\"color\":\"white\",\"width\":0.5},\"pattern\":{\"fillmode\":\"overlay\",\"size\":10,\"solidity\":0.2}},\"type\":\"bar\"}],\"carpet\":[{\"aaxis\":{\"endlinecolor\":\"rgb(36,36,36)\",\"gridcolor\":\"white\",\"linecolor\":\"white\",\"minorgridcolor\":\"white\",\"startlinecolor\":\"rgb(36,36,36)\"},\"baxis\":{\"endlinecolor\":\"rgb(36,36,36)\",\"gridcolor\":\"white\",\"linecolor\":\"white\",\"minorgridcolor\":\"white\",\"startlinecolor\":\"rgb(36,36,36)\"},\"type\":\"carpet\"}],\"choropleth\":[{\"colorbar\":{\"outlinewidth\":1,\"tickcolor\":\"rgb(36,36,36)\",\"ticks\":\"outside\"},\"type\":\"choropleth\"}],\"contourcarpet\":[{\"colorbar\":{\"outlinewidth\":1,\"tickcolor\":\"rgb(36,36,36)\",\"ticks\":\"outside\"},\"type\":\"contourcarpet\"}],\"contour\":[{\"colorbar\":{\"outlinewidth\":1,\"tickcolor\":\"rgb(36,36,36)\",\"ticks\":\"outside\"},\"colorscale\":[[0.0,\"#440154\"],[0.1111111111111111,\"#482878\"],[0.2222222222222222,\"#3e4989\"],[0.3333333333333333,\"#31688e\"],[0.4444444444444444,\"#26828e\"],[0.5555555555555556,\"#1f9e89\"],[0.6666666666666666,\"#35b779\"],[0.7777777777777778,\"#6ece58\"],[0.8888888888888888,\"#b5de2b\"],[1.0,\"#fde725\"]],\"type\":\"contour\"}],\"heatmapgl\":[{\"colorbar\":{\"outlinewidth\":1,\"tickcolor\":\"rgb(36,36,36)\",\"ticks\":\"outside\"},\"colorscale\":[[0.0,\"#440154\"],[0.1111111111111111,\"#482878\"],[0.2222222222222222,\"#3e4989\"],[0.3333333333333333,\"#31688e\"],[0.4444444444444444,\"#26828e\"],[0.5555555555555556,\"#1f9e89\"],[0.6666666666666666,\"#35b779\"],[0.7777777777777778,\"#6ece58\"],[0.8888888888888888,\"#b5de2b\"],[1.0,\"#fde725\"]],\"type\":\"heatmapgl\"}],\"heatmap\":[{\"colorbar\":{\"outlinewidth\":1,\"tickcolor\":\"rgb(36,36,36)\",\"ticks\":\"outside\"},\"colorscale\":[[0.0,\"#440154\"],[0.1111111111111111,\"#482878\"],[0.2222222222222222,\"#3e4989\"],[0.3333333333333333,\"#31688e\"],[0.4444444444444444,\"#26828e\"],[0.5555555555555556,\"#1f9e89\"],[0.6666666666666666,\"#35b779\"],[0.7777777777777778,\"#6ece58\"],[0.8888888888888888,\"#b5de2b\"],[1.0,\"#fde725\"]],\"type\":\"heatmap\"}],\"histogram2dcontour\":[{\"colorbar\":{\"outlinewidth\":1,\"tickcolor\":\"rgb(36,36,36)\",\"ticks\":\"outside\"},\"colorscale\":[[0.0,\"#440154\"],[0.1111111111111111,\"#482878\"],[0.2222222222222222,\"#3e4989\"],[0.3333333333333333,\"#31688e\"],[0.4444444444444444,\"#26828e\"],[0.5555555555555556,\"#1f9e89\"],[0.6666666666666666,\"#35b779\"],[0.7777777777777778,\"#6ece58\"],[0.8888888888888888,\"#b5de2b\"],[1.0,\"#fde725\"]],\"type\":\"histogram2dcontour\"}],\"histogram2d\":[{\"colorbar\":{\"outlinewidth\":1,\"tickcolor\":\"rgb(36,36,36)\",\"ticks\":\"outside\"},\"colorscale\":[[0.0,\"#440154\"],[0.1111111111111111,\"#482878\"],[0.2222222222222222,\"#3e4989\"],[0.3333333333333333,\"#31688e\"],[0.4444444444444444,\"#26828e\"],[0.5555555555555556,\"#1f9e89\"],[0.6666666666666666,\"#35b779\"],[0.7777777777777778,\"#6ece58\"],[0.8888888888888888,\"#b5de2b\"],[1.0,\"#fde725\"]],\"type\":\"histogram2d\"}],\"histogram\":[{\"marker\":{\"line\":{\"color\":\"white\",\"width\":0.6}},\"type\":\"histogram\"}],\"mesh3d\":[{\"colorbar\":{\"outlinewidth\":1,\"tickcolor\":\"rgb(36,36,36)\",\"ticks\":\"outside\"},\"type\":\"mesh3d\"}],\"parcoords\":[{\"line\":{\"colorbar\":{\"outlinewidth\":1,\"tickcolor\":\"rgb(36,36,36)\",\"ticks\":\"outside\"}},\"type\":\"parcoords\"}],\"pie\":[{\"automargin\":true,\"type\":\"pie\"}],\"scatter3d\":[{\"line\":{\"colorbar\":{\"outlinewidth\":1,\"tickcolor\":\"rgb(36,36,36)\",\"ticks\":\"outside\"}},\"marker\":{\"colorbar\":{\"outlinewidth\":1,\"tickcolor\":\"rgb(36,36,36)\",\"ticks\":\"outside\"}},\"type\":\"scatter3d\"}],\"scattercarpet\":[{\"marker\":{\"colorbar\":{\"outlinewidth\":1,\"tickcolor\":\"rgb(36,36,36)\",\"ticks\":\"outside\"}},\"type\":\"scattercarpet\"}],\"scattergeo\":[{\"marker\":{\"colorbar\":{\"outlinewidth\":1,\"tickcolor\":\"rgb(36,36,36)\",\"ticks\":\"outside\"}},\"type\":\"scattergeo\"}],\"scattergl\":[{\"marker\":{\"colorbar\":{\"outlinewidth\":1,\"tickcolor\":\"rgb(36,36,36)\",\"ticks\":\"outside\"}},\"type\":\"scattergl\"}],\"scattermapbox\":[{\"marker\":{\"colorbar\":{\"outlinewidth\":1,\"tickcolor\":\"rgb(36,36,36)\",\"ticks\":\"outside\"}},\"type\":\"scattermapbox\"}],\"scatterpolargl\":[{\"marker\":{\"colorbar\":{\"outlinewidth\":1,\"tickcolor\":\"rgb(36,36,36)\",\"ticks\":\"outside\"}},\"type\":\"scatterpolargl\"}],\"scatterpolar\":[{\"marker\":{\"colorbar\":{\"outlinewidth\":1,\"tickcolor\":\"rgb(36,36,36)\",\"ticks\":\"outside\"}},\"type\":\"scatterpolar\"}],\"scatter\":[{\"fillpattern\":{\"fillmode\":\"overlay\",\"size\":10,\"solidity\":0.2},\"type\":\"scatter\"}],\"scatterternary\":[{\"marker\":{\"colorbar\":{\"outlinewidth\":1,\"tickcolor\":\"rgb(36,36,36)\",\"ticks\":\"outside\"}},\"type\":\"scatterternary\"}],\"surface\":[{\"colorbar\":{\"outlinewidth\":1,\"tickcolor\":\"rgb(36,36,36)\",\"ticks\":\"outside\"},\"colorscale\":[[0.0,\"#440154\"],[0.1111111111111111,\"#482878\"],[0.2222222222222222,\"#3e4989\"],[0.3333333333333333,\"#31688e\"],[0.4444444444444444,\"#26828e\"],[0.5555555555555556,\"#1f9e89\"],[0.6666666666666666,\"#35b779\"],[0.7777777777777778,\"#6ece58\"],[0.8888888888888888,\"#b5de2b\"],[1.0,\"#fde725\"]],\"type\":\"surface\"}],\"table\":[{\"cells\":{\"fill\":{\"color\":\"rgb(237,237,237)\"},\"line\":{\"color\":\"white\"}},\"header\":{\"fill\":{\"color\":\"rgb(217,217,217)\"},\"line\":{\"color\":\"white\"}},\"type\":\"table\"}]},\"layout\":{\"annotationdefaults\":{\"arrowhead\":0,\"arrowwidth\":1},\"autotypenumbers\":\"strict\",\"coloraxis\":{\"colorbar\":{\"outlinewidth\":1,\"tickcolor\":\"rgb(36,36,36)\",\"ticks\":\"outside\"}},\"colorscale\":{\"diverging\":[[0.0,\"rgb(103,0,31)\"],[0.1,\"rgb(178,24,43)\"],[0.2,\"rgb(214,96,77)\"],[0.3,\"rgb(244,165,130)\"],[0.4,\"rgb(253,219,199)\"],[0.5,\"rgb(247,247,247)\"],[0.6,\"rgb(209,229,240)\"],[0.7,\"rgb(146,197,222)\"],[0.8,\"rgb(67,147,195)\"],[0.9,\"rgb(33,102,172)\"],[1.0,\"rgb(5,48,97)\"]],\"sequential\":[[0.0,\"#440154\"],[0.1111111111111111,\"#482878\"],[0.2222222222222222,\"#3e4989\"],[0.3333333333333333,\"#31688e\"],[0.4444444444444444,\"#26828e\"],[0.5555555555555556,\"#1f9e89\"],[0.6666666666666666,\"#35b779\"],[0.7777777777777778,\"#6ece58\"],[0.8888888888888888,\"#b5de2b\"],[1.0,\"#fde725\"]],\"sequentialminus\":[[0.0,\"#440154\"],[0.1111111111111111,\"#482878\"],[0.2222222222222222,\"#3e4989\"],[0.3333333333333333,\"#31688e\"],[0.4444444444444444,\"#26828e\"],[0.5555555555555556,\"#1f9e89\"],[0.6666666666666666,\"#35b779\"],[0.7777777777777778,\"#6ece58\"],[0.8888888888888888,\"#b5de2b\"],[1.0,\"#fde725\"]]},\"colorway\":[\"#1F77B4\",\"#FF7F0E\",\"#2CA02C\",\"#D62728\",\"#9467BD\",\"#8C564B\",\"#E377C2\",\"#7F7F7F\",\"#BCBD22\",\"#17BECF\"],\"font\":{\"color\":\"rgb(36,36,36)\"},\"geo\":{\"bgcolor\":\"white\",\"lakecolor\":\"white\",\"landcolor\":\"white\",\"showlakes\":true,\"showland\":true,\"subunitcolor\":\"white\"},\"hoverlabel\":{\"align\":\"left\"},\"hovermode\":\"closest\",\"mapbox\":{\"style\":\"light\"},\"paper_bgcolor\":\"white\",\"plot_bgcolor\":\"white\",\"polar\":{\"angularaxis\":{\"gridcolor\":\"rgb(232,232,232)\",\"linecolor\":\"rgb(36,36,36)\",\"showgrid\":false,\"showline\":true,\"ticks\":\"outside\"},\"bgcolor\":\"white\",\"radialaxis\":{\"gridcolor\":\"rgb(232,232,232)\",\"linecolor\":\"rgb(36,36,36)\",\"showgrid\":false,\"showline\":true,\"ticks\":\"outside\"}},\"scene\":{\"xaxis\":{\"backgroundcolor\":\"white\",\"gridcolor\":\"rgb(232,232,232)\",\"gridwidth\":2,\"linecolor\":\"rgb(36,36,36)\",\"showbackground\":true,\"showgrid\":false,\"showline\":true,\"ticks\":\"outside\",\"zeroline\":false,\"zerolinecolor\":\"rgb(36,36,36)\"},\"yaxis\":{\"backgroundcolor\":\"white\",\"gridcolor\":\"rgb(232,232,232)\",\"gridwidth\":2,\"linecolor\":\"rgb(36,36,36)\",\"showbackground\":true,\"showgrid\":false,\"showline\":true,\"ticks\":\"outside\",\"zeroline\":false,\"zerolinecolor\":\"rgb(36,36,36)\"},\"zaxis\":{\"backgroundcolor\":\"white\",\"gridcolor\":\"rgb(232,232,232)\",\"gridwidth\":2,\"linecolor\":\"rgb(36,36,36)\",\"showbackground\":true,\"showgrid\":false,\"showline\":true,\"ticks\":\"outside\",\"zeroline\":false,\"zerolinecolor\":\"rgb(36,36,36)\"}},\"shapedefaults\":{\"fillcolor\":\"black\",\"line\":{\"width\":0},\"opacity\":0.3},\"ternary\":{\"aaxis\":{\"gridcolor\":\"rgb(232,232,232)\",\"linecolor\":\"rgb(36,36,36)\",\"showgrid\":false,\"showline\":true,\"ticks\":\"outside\"},\"baxis\":{\"gridcolor\":\"rgb(232,232,232)\",\"linecolor\":\"rgb(36,36,36)\",\"showgrid\":false,\"showline\":true,\"ticks\":\"outside\"},\"bgcolor\":\"white\",\"caxis\":{\"gridcolor\":\"rgb(232,232,232)\",\"linecolor\":\"rgb(36,36,36)\",\"showgrid\":false,\"showline\":true,\"ticks\":\"outside\"}},\"title\":{\"x\":0.05},\"xaxis\":{\"automargin\":true,\"gridcolor\":\"rgb(232,232,232)\",\"linecolor\":\"rgb(36,36,36)\",\"showgrid\":false,\"showline\":true,\"ticks\":\"outside\",\"title\":{\"standoff\":15},\"zeroline\":false,\"zerolinecolor\":\"rgb(36,36,36)\"},\"yaxis\":{\"automargin\":true,\"gridcolor\":\"rgb(232,232,232)\",\"linecolor\":\"rgb(36,36,36)\",\"showgrid\":false,\"showline\":true,\"ticks\":\"outside\",\"title\":{\"standoff\":15},\"zeroline\":false,\"zerolinecolor\":\"rgb(36,36,36)\"}}},\"yaxis\":{\"title\":{\"text\":\"Volume [Vehicles/Hour]\"},\"showgrid\":true,\"range\":[0,250]},\"font\":{\"family\":\"helvetica\",\"size\":26},\"legend\":{\"yanchor\":\"top\",\"y\":1.0,\"xanchor\":\"right\",\"x\":1,\"orientation\":\"h\"},\"xaxis\":{\"tickangle\":15},\"height\":600,\"width\":1200,\"showlegend\":true},                        {\"responsive\": true}                    ).then(function(){\n",
       "                            \n",
       "var gd = document.getElementById('3b98e9a7-1e55-4965-81c1-4ce4c5a9077e');\n",
       "var x = new MutationObserver(function (mutations, observer) {{\n",
       "        var display = window.getComputedStyle(gd).display;\n",
       "        if (!display || display === 'none') {{\n",
       "            console.log([gd, 'removed!']);\n",
       "            Plotly.purge(gd);\n",
       "            observer.disconnect();\n",
       "        }}\n",
       "}});\n",
       "\n",
       "// Listen for the removal of the full notebook cells\n",
       "var notebookContainer = gd.closest('#notebook-container');\n",
       "if (notebookContainer) {{\n",
       "    x.observe(notebookContainer, {childList: true});\n",
       "}}\n",
       "\n",
       "// Listen for the clearing of the current output cell\n",
       "var outputEl = gd.closest('.output');\n",
       "if (outputEl) {{\n",
       "    x.observe(outputEl, {childList: true});\n",
       "}}\n",
       "\n",
       "                        })                };                });            </script>        </div>"
      ]
     },
     "metadata": {},
     "output_type": "display_data"
    },
    {
     "name": "stdout",
     "output_type": "stream",
     "text": [
      "{63082003-4.png/TL2-NB},%\n"
     ]
    },
    {
     "data": {
      "application/vnd.plotly.v1+json": {
       "config": {
        "plotlyServerURL": "https://plot.ly"
       },
       "data": [
        {
         "line": {
          "color": "#ffa600",
          "width": 3
         },
         "name": "Criteria I.",
         "type": "scatter",
         "x": [
          "2020-02-24T05:30:00",
          "2020-02-24T05:40:00",
          "2020-02-24T05:50:00",
          "2020-02-24T06:00:00",
          "2020-02-24T06:10:00",
          "2020-02-24T06:20:00",
          "2020-02-24T06:30:00",
          "2020-02-24T06:40:00",
          "2020-02-24T06:50:00",
          "2020-02-24T07:00:00",
          "2020-02-24T07:10:00",
          "2020-02-24T07:20:00",
          "2020-02-24T07:30:00",
          "2020-02-24T07:40:00",
          "2020-02-24T07:50:00",
          "2020-02-24T08:00:00",
          "2020-02-24T08:10:00",
          "2020-02-24T08:20:00",
          "2020-02-24T08:30:00",
          "2020-02-24T08:40:00",
          "2020-02-24T08:50:00",
          "2020-02-24T09:00:00",
          "2020-02-24T09:10:00",
          "2020-02-24T09:20:00",
          "2020-02-24T09:30:00",
          "2020-02-24T09:40:00",
          "2020-02-24T09:50:00",
          "2020-02-24T10:00:00",
          "2020-02-24T10:10:00",
          "2020-02-24T10:20:00",
          "2020-02-24T10:30:00",
          "2020-02-24T10:40:00",
          "2020-02-24T10:50:00",
          "2020-02-24T11:00:00",
          "2020-02-24T11:10:00",
          "2020-02-24T11:20:00",
          "2020-02-24T11:30:00",
          "2020-02-24T11:40:00"
         ],
         "y": [
          526.3172801743107,
          809.9149671243123,
          712.9839565929999,
          687.0006978669028,
          665.6226387199572,
          861.6647340733277,
          1147.6759141843618,
          1002.9400716603287,
          1066.699489108894,
          1020.0270418806115,
          1108.4152289717454,
          1371.9648217895003,
          1134.7876874051701,
          1190.4112799275517,
          1246.2467293017123,
          1117.4143126326016,
          1127.8491452187495,
          1175.3080167680969,
          1260.7877270743847,
          1290.2289675799702,
          1149.0232896954872,
          1150.203996161994,
          1180.1510944173053,
          1251.9334993157895,
          1295.8913993454216,
          1340.4638369075399,
          1249.3875585823512,
          1272.549409064714,
          1275.6442218793811,
          1303.185403457936,
          1327.2149787794897,
          1317.6379523343999,
          1430.4209828683286,
          1328.0338264876539,
          1590.2596634287527,
          1463.4658547145254,
          1450.9295997171994,
          1204.1381412627172
         ]
        },
        {
         "fill": "tonexty",
         "line": {
          "color": "#ffa600",
          "width": 3
         },
         "name": "Criteria I",
         "showlegend": false,
         "type": "scatter",
         "x": [
          "2020-02-24T05:30:00",
          "2020-02-24T05:40:00",
          "2020-02-24T05:50:00",
          "2020-02-24T06:00:00",
          "2020-02-24T06:10:00",
          "2020-02-24T06:20:00",
          "2020-02-24T06:30:00",
          "2020-02-24T06:40:00",
          "2020-02-24T06:50:00",
          "2020-02-24T07:00:00",
          "2020-02-24T07:10:00",
          "2020-02-24T07:20:00",
          "2020-02-24T07:30:00",
          "2020-02-24T07:40:00",
          "2020-02-24T07:50:00",
          "2020-02-24T08:00:00",
          "2020-02-24T08:10:00",
          "2020-02-24T08:20:00",
          "2020-02-24T08:30:00",
          "2020-02-24T08:40:00",
          "2020-02-24T08:50:00",
          "2020-02-24T09:00:00",
          "2020-02-24T09:10:00",
          "2020-02-24T09:20:00",
          "2020-02-24T09:30:00",
          "2020-02-24T09:40:00",
          "2020-02-24T09:50:00",
          "2020-02-24T10:00:00",
          "2020-02-24T10:10:00",
          "2020-02-24T10:20:00",
          "2020-02-24T10:30:00",
          "2020-02-24T10:40:00",
          "2020-02-24T10:50:00",
          "2020-02-24T11:00:00",
          "2020-02-24T11:10:00",
          "2020-02-24T11:20:00",
          "2020-02-24T11:30:00",
          "2020-02-24T11:40:00"
         ],
         "y": [
          121.68271982568933,
          234.08503287568772,
          139.0160434070001,
          56.99930213309722,
          90.37736128004286,
          110.33526592667226,
          136.32408581563834,
          -102.94007166032873,
          145.3005108911059,
          83.97295811938852,
          115.58477102825475,
          236.03517821049968,
          -18.787687405170118,
          9.588720072448154,
          13.753270698287679,
          10.58568736739835,
          12.150854781250587,
          72.69198323190301,
          59.21227292561514,
          245.77103242002988,
          86.97671030451295,
          97.79600383800607,
          67.84890558269467,
          176.0665006842105,
          72.10860065457848,
          123.53616309246013,
          22.612441417648824,
          23.45059093528596,
          92.35577812061888,
          136.814596542064,
          112.78502122051032,
          110.36204766560013,
          189.57901713167143,
          99.96617351234613,
          269.7403365712473,
          192.53414528547455,
          241.0704002828005,
          559.8618587372828
         ]
        },
        {
         "line": {
          "color": "#bc5090",
          "width": 3
         },
         "name": "Criteria II.",
         "type": "scatter",
         "x": [
          "2020-02-24T05:30:00",
          "2020-02-24T05:40:00",
          "2020-02-24T05:50:00",
          "2020-02-24T06:00:00",
          "2020-02-24T06:10:00",
          "2020-02-24T06:20:00",
          "2020-02-24T06:30:00",
          "2020-02-24T06:40:00",
          "2020-02-24T06:50:00",
          "2020-02-24T07:00:00",
          "2020-02-24T07:10:00",
          "2020-02-24T07:20:00",
          "2020-02-24T07:30:00",
          "2020-02-24T07:40:00",
          "2020-02-24T07:50:00",
          "2020-02-24T08:00:00",
          "2020-02-24T08:10:00",
          "2020-02-24T08:20:00",
          "2020-02-24T08:30:00",
          "2020-02-24T08:40:00",
          "2020-02-24T08:50:00",
          "2020-02-24T09:00:00",
          "2020-02-24T09:10:00",
          "2020-02-24T09:20:00",
          "2020-02-24T09:30:00",
          "2020-02-24T09:40:00",
          "2020-02-24T09:50:00",
          "2020-02-24T10:00:00",
          "2020-02-24T10:10:00",
          "2020-02-24T10:20:00",
          "2020-02-24T10:30:00",
          "2020-02-24T10:40:00",
          "2020-02-24T10:50:00",
          "2020-02-24T11:00:00",
          "2020-02-24T11:10:00",
          "2020-02-24T11:20:00",
          "2020-02-24T11:30:00",
          "2020-02-24T11:40:00"
         ],
         "y": [
          427.2231021297504,
          668.8953913899552,
          572.4203860168367,
          532.714641768828,
          524.7462442448762,
          677.665680649657,
          899.9979154001845,
          732.1122814593514,
          841.0507597494358,
          790.7893070819446,
          865.2730760059925,
          1093.7779703007654,
          852.2794323495766,
          901.2302448609959,
          944.4115965825063,
          846.3542411390824,
          854.6169108258925,
          905.2796003918862,
          966.5243505481556,
          1034.4433508061072,
          888.9302498446363,
          892.4714266132622,
          907.7505583761762,
          988.4558669978518,
          996.1894894619497,
          1042.440733116092,
          948.9528360114036,
          966.6476576860787,
          985.8592968772352,
          1017.5435731928245,
          1029.8035606017804,
          1021.9785471093877,
          1126.5413177899636,
          1027.2825645345174,
          1266.8671752187513,
          1152.2172728135333,
          1154.637550876122,
          1046.3561945217946
         ]
        },
        {
         "fill": "tonexty",
         "line": {
          "color": "#bc5090",
          "width": 3
         },
         "name": "Criteria II",
         "showlegend": false,
         "type": "scatter",
         "x": [
          "2020-02-24T05:30:00",
          "2020-02-24T05:40:00",
          "2020-02-24T05:50:00",
          "2020-02-24T06:00:00",
          "2020-02-24T06:10:00",
          "2020-02-24T06:20:00",
          "2020-02-24T06:30:00",
          "2020-02-24T06:40:00",
          "2020-02-24T06:50:00",
          "2020-02-24T07:00:00",
          "2020-02-24T07:10:00",
          "2020-02-24T07:20:00",
          "2020-02-24T07:30:00",
          "2020-02-24T07:40:00",
          "2020-02-24T07:50:00",
          "2020-02-24T08:00:00",
          "2020-02-24T08:10:00",
          "2020-02-24T08:20:00",
          "2020-02-24T08:30:00",
          "2020-02-24T08:40:00",
          "2020-02-24T08:50:00",
          "2020-02-24T09:00:00",
          "2020-02-24T09:10:00",
          "2020-02-24T09:20:00",
          "2020-02-24T09:30:00",
          "2020-02-24T09:40:00",
          "2020-02-24T09:50:00",
          "2020-02-24T10:00:00",
          "2020-02-24T10:10:00",
          "2020-02-24T10:20:00",
          "2020-02-24T10:30:00",
          "2020-02-24T10:40:00",
          "2020-02-24T10:50:00",
          "2020-02-24T11:00:00",
          "2020-02-24T11:10:00",
          "2020-02-24T11:20:00",
          "2020-02-24T11:30:00",
          "2020-02-24T11:40:00"
         ],
         "y": [
          220.77689787024966,
          375.10460861004475,
          279.5796139831633,
          211.28535823117204,
          231.2537557551239,
          294.334319350343,
          384.0020845998155,
          167.88771854064862,
          370.94924025056423,
          313.2106929180554,
          358.7269239940075,
          514.2220296992346,
          263.7205676504234,
          298.76975513900413,
          315.5884034174937,
          281.6457588609175,
          285.38308917410745,
          342.7203996081138,
          353.47564945184445,
          501.5566491938928,
          347.06975015536375,
          355.5285733867378,
          340.2494416238238,
          439.5441330021482,
          371.81051053805027,
          421.5592668839082,
          323.0471639885963,
          329.3523423139214,
          382.1407031227647,
          422.4564268071755,
          410.1964393982195,
          406.0214528906123,
          493.45868221003644,
          400.7174354654827,
          593.1328247812487,
          503.7827271864666,
          537.3624491238778,
          717.6438054782055
         ]
        },
        {
         "line": {
          "color": "#003f5c",
          "width": 5
         },
         "name": "Representative Day",
         "type": "scatter",
         "x": [
          "2020-02-24T05:30:00",
          "2020-02-24T05:40:00",
          "2020-02-24T05:50:00",
          "2020-02-24T06:00:00",
          "2020-02-24T06:10:00",
          "2020-02-24T06:20:00",
          "2020-02-24T06:30:00",
          "2020-02-24T06:40:00",
          "2020-02-24T06:50:00",
          "2020-02-24T07:00:00",
          "2020-02-24T07:10:00",
          "2020-02-24T07:20:00",
          "2020-02-24T07:30:00",
          "2020-02-24T07:40:00",
          "2020-02-24T07:50:00",
          "2020-02-24T08:00:00",
          "2020-02-24T08:10:00",
          "2020-02-24T08:20:00",
          "2020-02-24T08:30:00",
          "2020-02-24T08:40:00",
          "2020-02-24T08:50:00",
          "2020-02-24T09:00:00",
          "2020-02-24T09:10:00",
          "2020-02-24T09:20:00",
          "2020-02-24T09:30:00",
          "2020-02-24T09:40:00",
          "2020-02-24T09:50:00",
          "2020-02-24T10:00:00",
          "2020-02-24T10:10:00",
          "2020-02-24T10:20:00",
          "2020-02-24T10:30:00",
          "2020-02-24T10:40:00",
          "2020-02-24T10:50:00",
          "2020-02-24T11:00:00",
          "2020-02-24T11:10:00",
          "2020-02-24T11:20:00",
          "2020-02-24T11:30:00",
          "2020-02-24T11:40:00"
         ],
         "y": [
          324,
          522,
          426,
          372,
          378,
          486,
          642,
          450,
          606,
          552,
          612,
          804,
          558,
          600,
          630,
          564,
          570,
          624,
          660,
          768,
          618,
          624,
          624,
          714,
          684,
          732,
          636,
          648,
          684,
          720,
          720,
          714,
          810,
          714,
          930,
          828,
          846,
          882
         ]
        },
        {
         "marker": {
          "color": "red",
          "line": {
           "color": "black",
           "width": 2
          },
          "size": 15,
          "symbol": "diamond"
         },
         "mode": "markers",
         "name": "Simulation",
         "type": "scatter",
         "x": [
          "2020-02-24T05:30:00",
          "2020-02-24T05:40:00",
          "2020-02-24T05:50:00",
          "2020-02-24T06:00:00",
          "2020-02-24T06:10:00",
          "2020-02-24T06:20:00",
          "2020-02-24T06:30:00",
          "2020-02-24T06:40:00",
          "2020-02-24T06:50:00",
          "2020-02-24T07:00:00",
          "2020-02-24T07:10:00",
          "2020-02-24T07:20:00",
          "2020-02-24T07:30:00",
          "2020-02-24T07:40:00",
          "2020-02-24T07:50:00",
          "2020-02-24T08:00:00",
          "2020-02-24T08:10:00",
          "2020-02-24T08:20:00",
          "2020-02-24T08:30:00",
          "2020-02-24T08:40:00",
          "2020-02-24T08:50:00",
          "2020-02-24T09:00:00",
          "2020-02-24T09:10:00",
          "2020-02-24T09:20:00",
          "2020-02-24T09:30:00",
          "2020-02-24T09:40:00",
          "2020-02-24T09:50:00",
          "2020-02-24T10:00:00",
          "2020-02-24T10:10:00",
          "2020-02-24T10:20:00",
          "2020-02-24T10:30:00",
          "2020-02-24T10:40:00",
          "2020-02-24T10:50:00",
          "2020-02-24T11:00:00",
          "2020-02-24T11:10:00",
          "2020-02-24T11:20:00",
          "2020-02-24T11:30:00",
          "2020-02-24T11:40:00"
         ],
         "y": [
          366,
          546,
          390,
          414,
          486,
          438,
          666,
          708,
          666,
          600,
          636,
          678,
          648,
          678,
          720,
          636,
          540,
          438,
          642,
          840,
          516,
          606,
          522,
          636,
          510,
          750,
          666,
          654,
          528,
          696,
          768,
          624,
          750,
          534,
          828,
          774,
          930,
          630
         ]
        }
       ],
       "layout": {
        "font": {
         "family": "helvetica",
         "size": 26
        },
        "height": 600,
        "legend": {
         "orientation": "h",
         "x": 1,
         "xanchor": "right",
         "y": 1,
         "yanchor": "top"
        },
        "showlegend": true,
        "template": {
         "data": {
          "bar": [
           {
            "error_x": {
             "color": "rgb(36,36,36)"
            },
            "error_y": {
             "color": "rgb(36,36,36)"
            },
            "marker": {
             "line": {
              "color": "white",
              "width": 0.5
             },
             "pattern": {
              "fillmode": "overlay",
              "size": 10,
              "solidity": 0.2
             }
            },
            "type": "bar"
           }
          ],
          "barpolar": [
           {
            "marker": {
             "line": {
              "color": "white",
              "width": 0.5
             },
             "pattern": {
              "fillmode": "overlay",
              "size": 10,
              "solidity": 0.2
             }
            },
            "type": "barpolar"
           }
          ],
          "carpet": [
           {
            "aaxis": {
             "endlinecolor": "rgb(36,36,36)",
             "gridcolor": "white",
             "linecolor": "white",
             "minorgridcolor": "white",
             "startlinecolor": "rgb(36,36,36)"
            },
            "baxis": {
             "endlinecolor": "rgb(36,36,36)",
             "gridcolor": "white",
             "linecolor": "white",
             "minorgridcolor": "white",
             "startlinecolor": "rgb(36,36,36)"
            },
            "type": "carpet"
           }
          ],
          "choropleth": [
           {
            "colorbar": {
             "outlinewidth": 1,
             "tickcolor": "rgb(36,36,36)",
             "ticks": "outside"
            },
            "type": "choropleth"
           }
          ],
          "contour": [
           {
            "colorbar": {
             "outlinewidth": 1,
             "tickcolor": "rgb(36,36,36)",
             "ticks": "outside"
            },
            "colorscale": [
             [
              0,
              "#440154"
             ],
             [
              0.1111111111111111,
              "#482878"
             ],
             [
              0.2222222222222222,
              "#3e4989"
             ],
             [
              0.3333333333333333,
              "#31688e"
             ],
             [
              0.4444444444444444,
              "#26828e"
             ],
             [
              0.5555555555555556,
              "#1f9e89"
             ],
             [
              0.6666666666666666,
              "#35b779"
             ],
             [
              0.7777777777777778,
              "#6ece58"
             ],
             [
              0.8888888888888888,
              "#b5de2b"
             ],
             [
              1,
              "#fde725"
             ]
            ],
            "type": "contour"
           }
          ],
          "contourcarpet": [
           {
            "colorbar": {
             "outlinewidth": 1,
             "tickcolor": "rgb(36,36,36)",
             "ticks": "outside"
            },
            "type": "contourcarpet"
           }
          ],
          "heatmap": [
           {
            "colorbar": {
             "outlinewidth": 1,
             "tickcolor": "rgb(36,36,36)",
             "ticks": "outside"
            },
            "colorscale": [
             [
              0,
              "#440154"
             ],
             [
              0.1111111111111111,
              "#482878"
             ],
             [
              0.2222222222222222,
              "#3e4989"
             ],
             [
              0.3333333333333333,
              "#31688e"
             ],
             [
              0.4444444444444444,
              "#26828e"
             ],
             [
              0.5555555555555556,
              "#1f9e89"
             ],
             [
              0.6666666666666666,
              "#35b779"
             ],
             [
              0.7777777777777778,
              "#6ece58"
             ],
             [
              0.8888888888888888,
              "#b5de2b"
             ],
             [
              1,
              "#fde725"
             ]
            ],
            "type": "heatmap"
           }
          ],
          "heatmapgl": [
           {
            "colorbar": {
             "outlinewidth": 1,
             "tickcolor": "rgb(36,36,36)",
             "ticks": "outside"
            },
            "colorscale": [
             [
              0,
              "#440154"
             ],
             [
              0.1111111111111111,
              "#482878"
             ],
             [
              0.2222222222222222,
              "#3e4989"
             ],
             [
              0.3333333333333333,
              "#31688e"
             ],
             [
              0.4444444444444444,
              "#26828e"
             ],
             [
              0.5555555555555556,
              "#1f9e89"
             ],
             [
              0.6666666666666666,
              "#35b779"
             ],
             [
              0.7777777777777778,
              "#6ece58"
             ],
             [
              0.8888888888888888,
              "#b5de2b"
             ],
             [
              1,
              "#fde725"
             ]
            ],
            "type": "heatmapgl"
           }
          ],
          "histogram": [
           {
            "marker": {
             "line": {
              "color": "white",
              "width": 0.6
             }
            },
            "type": "histogram"
           }
          ],
          "histogram2d": [
           {
            "colorbar": {
             "outlinewidth": 1,
             "tickcolor": "rgb(36,36,36)",
             "ticks": "outside"
            },
            "colorscale": [
             [
              0,
              "#440154"
             ],
             [
              0.1111111111111111,
              "#482878"
             ],
             [
              0.2222222222222222,
              "#3e4989"
             ],
             [
              0.3333333333333333,
              "#31688e"
             ],
             [
              0.4444444444444444,
              "#26828e"
             ],
             [
              0.5555555555555556,
              "#1f9e89"
             ],
             [
              0.6666666666666666,
              "#35b779"
             ],
             [
              0.7777777777777778,
              "#6ece58"
             ],
             [
              0.8888888888888888,
              "#b5de2b"
             ],
             [
              1,
              "#fde725"
             ]
            ],
            "type": "histogram2d"
           }
          ],
          "histogram2dcontour": [
           {
            "colorbar": {
             "outlinewidth": 1,
             "tickcolor": "rgb(36,36,36)",
             "ticks": "outside"
            },
            "colorscale": [
             [
              0,
              "#440154"
             ],
             [
              0.1111111111111111,
              "#482878"
             ],
             [
              0.2222222222222222,
              "#3e4989"
             ],
             [
              0.3333333333333333,
              "#31688e"
             ],
             [
              0.4444444444444444,
              "#26828e"
             ],
             [
              0.5555555555555556,
              "#1f9e89"
             ],
             [
              0.6666666666666666,
              "#35b779"
             ],
             [
              0.7777777777777778,
              "#6ece58"
             ],
             [
              0.8888888888888888,
              "#b5de2b"
             ],
             [
              1,
              "#fde725"
             ]
            ],
            "type": "histogram2dcontour"
           }
          ],
          "mesh3d": [
           {
            "colorbar": {
             "outlinewidth": 1,
             "tickcolor": "rgb(36,36,36)",
             "ticks": "outside"
            },
            "type": "mesh3d"
           }
          ],
          "parcoords": [
           {
            "line": {
             "colorbar": {
              "outlinewidth": 1,
              "tickcolor": "rgb(36,36,36)",
              "ticks": "outside"
             }
            },
            "type": "parcoords"
           }
          ],
          "pie": [
           {
            "automargin": true,
            "type": "pie"
           }
          ],
          "scatter": [
           {
            "fillpattern": {
             "fillmode": "overlay",
             "size": 10,
             "solidity": 0.2
            },
            "type": "scatter"
           }
          ],
          "scatter3d": [
           {
            "line": {
             "colorbar": {
              "outlinewidth": 1,
              "tickcolor": "rgb(36,36,36)",
              "ticks": "outside"
             }
            },
            "marker": {
             "colorbar": {
              "outlinewidth": 1,
              "tickcolor": "rgb(36,36,36)",
              "ticks": "outside"
             }
            },
            "type": "scatter3d"
           }
          ],
          "scattercarpet": [
           {
            "marker": {
             "colorbar": {
              "outlinewidth": 1,
              "tickcolor": "rgb(36,36,36)",
              "ticks": "outside"
             }
            },
            "type": "scattercarpet"
           }
          ],
          "scattergeo": [
           {
            "marker": {
             "colorbar": {
              "outlinewidth": 1,
              "tickcolor": "rgb(36,36,36)",
              "ticks": "outside"
             }
            },
            "type": "scattergeo"
           }
          ],
          "scattergl": [
           {
            "marker": {
             "colorbar": {
              "outlinewidth": 1,
              "tickcolor": "rgb(36,36,36)",
              "ticks": "outside"
             }
            },
            "type": "scattergl"
           }
          ],
          "scattermapbox": [
           {
            "marker": {
             "colorbar": {
              "outlinewidth": 1,
              "tickcolor": "rgb(36,36,36)",
              "ticks": "outside"
             }
            },
            "type": "scattermapbox"
           }
          ],
          "scatterpolar": [
           {
            "marker": {
             "colorbar": {
              "outlinewidth": 1,
              "tickcolor": "rgb(36,36,36)",
              "ticks": "outside"
             }
            },
            "type": "scatterpolar"
           }
          ],
          "scatterpolargl": [
           {
            "marker": {
             "colorbar": {
              "outlinewidth": 1,
              "tickcolor": "rgb(36,36,36)",
              "ticks": "outside"
             }
            },
            "type": "scatterpolargl"
           }
          ],
          "scatterternary": [
           {
            "marker": {
             "colorbar": {
              "outlinewidth": 1,
              "tickcolor": "rgb(36,36,36)",
              "ticks": "outside"
             }
            },
            "type": "scatterternary"
           }
          ],
          "surface": [
           {
            "colorbar": {
             "outlinewidth": 1,
             "tickcolor": "rgb(36,36,36)",
             "ticks": "outside"
            },
            "colorscale": [
             [
              0,
              "#440154"
             ],
             [
              0.1111111111111111,
              "#482878"
             ],
             [
              0.2222222222222222,
              "#3e4989"
             ],
             [
              0.3333333333333333,
              "#31688e"
             ],
             [
              0.4444444444444444,
              "#26828e"
             ],
             [
              0.5555555555555556,
              "#1f9e89"
             ],
             [
              0.6666666666666666,
              "#35b779"
             ],
             [
              0.7777777777777778,
              "#6ece58"
             ],
             [
              0.8888888888888888,
              "#b5de2b"
             ],
             [
              1,
              "#fde725"
             ]
            ],
            "type": "surface"
           }
          ],
          "table": [
           {
            "cells": {
             "fill": {
              "color": "rgb(237,237,237)"
             },
             "line": {
              "color": "white"
             }
            },
            "header": {
             "fill": {
              "color": "rgb(217,217,217)"
             },
             "line": {
              "color": "white"
             }
            },
            "type": "table"
           }
          ]
         },
         "layout": {
          "annotationdefaults": {
           "arrowhead": 0,
           "arrowwidth": 1
          },
          "autotypenumbers": "strict",
          "coloraxis": {
           "colorbar": {
            "outlinewidth": 1,
            "tickcolor": "rgb(36,36,36)",
            "ticks": "outside"
           }
          },
          "colorscale": {
           "diverging": [
            [
             0,
             "rgb(103,0,31)"
            ],
            [
             0.1,
             "rgb(178,24,43)"
            ],
            [
             0.2,
             "rgb(214,96,77)"
            ],
            [
             0.3,
             "rgb(244,165,130)"
            ],
            [
             0.4,
             "rgb(253,219,199)"
            ],
            [
             0.5,
             "rgb(247,247,247)"
            ],
            [
             0.6,
             "rgb(209,229,240)"
            ],
            [
             0.7,
             "rgb(146,197,222)"
            ],
            [
             0.8,
             "rgb(67,147,195)"
            ],
            [
             0.9,
             "rgb(33,102,172)"
            ],
            [
             1,
             "rgb(5,48,97)"
            ]
           ],
           "sequential": [
            [
             0,
             "#440154"
            ],
            [
             0.1111111111111111,
             "#482878"
            ],
            [
             0.2222222222222222,
             "#3e4989"
            ],
            [
             0.3333333333333333,
             "#31688e"
            ],
            [
             0.4444444444444444,
             "#26828e"
            ],
            [
             0.5555555555555556,
             "#1f9e89"
            ],
            [
             0.6666666666666666,
             "#35b779"
            ],
            [
             0.7777777777777778,
             "#6ece58"
            ],
            [
             0.8888888888888888,
             "#b5de2b"
            ],
            [
             1,
             "#fde725"
            ]
           ],
           "sequentialminus": [
            [
             0,
             "#440154"
            ],
            [
             0.1111111111111111,
             "#482878"
            ],
            [
             0.2222222222222222,
             "#3e4989"
            ],
            [
             0.3333333333333333,
             "#31688e"
            ],
            [
             0.4444444444444444,
             "#26828e"
            ],
            [
             0.5555555555555556,
             "#1f9e89"
            ],
            [
             0.6666666666666666,
             "#35b779"
            ],
            [
             0.7777777777777778,
             "#6ece58"
            ],
            [
             0.8888888888888888,
             "#b5de2b"
            ],
            [
             1,
             "#fde725"
            ]
           ]
          },
          "colorway": [
           "#1F77B4",
           "#FF7F0E",
           "#2CA02C",
           "#D62728",
           "#9467BD",
           "#8C564B",
           "#E377C2",
           "#7F7F7F",
           "#BCBD22",
           "#17BECF"
          ],
          "font": {
           "color": "rgb(36,36,36)"
          },
          "geo": {
           "bgcolor": "white",
           "lakecolor": "white",
           "landcolor": "white",
           "showlakes": true,
           "showland": true,
           "subunitcolor": "white"
          },
          "hoverlabel": {
           "align": "left"
          },
          "hovermode": "closest",
          "mapbox": {
           "style": "light"
          },
          "paper_bgcolor": "white",
          "plot_bgcolor": "white",
          "polar": {
           "angularaxis": {
            "gridcolor": "rgb(232,232,232)",
            "linecolor": "rgb(36,36,36)",
            "showgrid": false,
            "showline": true,
            "ticks": "outside"
           },
           "bgcolor": "white",
           "radialaxis": {
            "gridcolor": "rgb(232,232,232)",
            "linecolor": "rgb(36,36,36)",
            "showgrid": false,
            "showline": true,
            "ticks": "outside"
           }
          },
          "scene": {
           "xaxis": {
            "backgroundcolor": "white",
            "gridcolor": "rgb(232,232,232)",
            "gridwidth": 2,
            "linecolor": "rgb(36,36,36)",
            "showbackground": true,
            "showgrid": false,
            "showline": true,
            "ticks": "outside",
            "zeroline": false,
            "zerolinecolor": "rgb(36,36,36)"
           },
           "yaxis": {
            "backgroundcolor": "white",
            "gridcolor": "rgb(232,232,232)",
            "gridwidth": 2,
            "linecolor": "rgb(36,36,36)",
            "showbackground": true,
            "showgrid": false,
            "showline": true,
            "ticks": "outside",
            "zeroline": false,
            "zerolinecolor": "rgb(36,36,36)"
           },
           "zaxis": {
            "backgroundcolor": "white",
            "gridcolor": "rgb(232,232,232)",
            "gridwidth": 2,
            "linecolor": "rgb(36,36,36)",
            "showbackground": true,
            "showgrid": false,
            "showline": true,
            "ticks": "outside",
            "zeroline": false,
            "zerolinecolor": "rgb(36,36,36)"
           }
          },
          "shapedefaults": {
           "fillcolor": "black",
           "line": {
            "width": 0
           },
           "opacity": 0.3
          },
          "ternary": {
           "aaxis": {
            "gridcolor": "rgb(232,232,232)",
            "linecolor": "rgb(36,36,36)",
            "showgrid": false,
            "showline": true,
            "ticks": "outside"
           },
           "baxis": {
            "gridcolor": "rgb(232,232,232)",
            "linecolor": "rgb(36,36,36)",
            "showgrid": false,
            "showline": true,
            "ticks": "outside"
           },
           "bgcolor": "white",
           "caxis": {
            "gridcolor": "rgb(232,232,232)",
            "linecolor": "rgb(36,36,36)",
            "showgrid": false,
            "showline": true,
            "ticks": "outside"
           }
          },
          "title": {
           "x": 0.05
          },
          "xaxis": {
           "automargin": true,
           "gridcolor": "rgb(232,232,232)",
           "linecolor": "rgb(36,36,36)",
           "showgrid": false,
           "showline": true,
           "ticks": "outside",
           "title": {
            "standoff": 15
           },
           "zeroline": false,
           "zerolinecolor": "rgb(36,36,36)"
          },
          "yaxis": {
           "automargin": true,
           "gridcolor": "rgb(232,232,232)",
           "linecolor": "rgb(36,36,36)",
           "showgrid": false,
           "showline": true,
           "ticks": "outside",
           "title": {
            "standoff": 15
           },
           "zeroline": false,
           "zerolinecolor": "rgb(36,36,36)"
          }
         }
        },
        "width": 1200,
        "xaxis": {
         "tickangle": 15
        },
        "yaxis": {
         "range": [
          0,
          2000
         ],
         "showgrid": true,
         "title": {
          "text": "Volume [Vehicles/Hour]"
         }
        }
       }
      },
      "text/html": [
       "<div>                            <div id=\"650e9a29-8a15-4cdf-9158-9109f7247b74\" class=\"plotly-graph-div\" style=\"height:600px; width:1200px;\"></div>            <script type=\"text/javascript\">                require([\"plotly\"], function(Plotly) {                    window.PLOTLYENV=window.PLOTLYENV || {};                                    if (document.getElementById(\"650e9a29-8a15-4cdf-9158-9109f7247b74\")) {                    Plotly.newPlot(                        \"650e9a29-8a15-4cdf-9158-9109f7247b74\",                        [{\"line\":{\"color\":\"#ffa600\",\"width\":3},\"name\":\"Criteria I.\",\"x\":[\"2020-02-24T05:30:00\",\"2020-02-24T05:40:00\",\"2020-02-24T05:50:00\",\"2020-02-24T06:00:00\",\"2020-02-24T06:10:00\",\"2020-02-24T06:20:00\",\"2020-02-24T06:30:00\",\"2020-02-24T06:40:00\",\"2020-02-24T06:50:00\",\"2020-02-24T07:00:00\",\"2020-02-24T07:10:00\",\"2020-02-24T07:20:00\",\"2020-02-24T07:30:00\",\"2020-02-24T07:40:00\",\"2020-02-24T07:50:00\",\"2020-02-24T08:00:00\",\"2020-02-24T08:10:00\",\"2020-02-24T08:20:00\",\"2020-02-24T08:30:00\",\"2020-02-24T08:40:00\",\"2020-02-24T08:50:00\",\"2020-02-24T09:00:00\",\"2020-02-24T09:10:00\",\"2020-02-24T09:20:00\",\"2020-02-24T09:30:00\",\"2020-02-24T09:40:00\",\"2020-02-24T09:50:00\",\"2020-02-24T10:00:00\",\"2020-02-24T10:10:00\",\"2020-02-24T10:20:00\",\"2020-02-24T10:30:00\",\"2020-02-24T10:40:00\",\"2020-02-24T10:50:00\",\"2020-02-24T11:00:00\",\"2020-02-24T11:10:00\",\"2020-02-24T11:20:00\",\"2020-02-24T11:30:00\",\"2020-02-24T11:40:00\"],\"y\":[526.3172801743107,809.9149671243123,712.9839565929999,687.0006978669028,665.6226387199572,861.6647340733277,1147.6759141843618,1002.9400716603287,1066.699489108894,1020.0270418806115,1108.4152289717454,1371.9648217895003,1134.7876874051701,1190.4112799275517,1246.2467293017123,1117.4143126326016,1127.8491452187495,1175.3080167680969,1260.7877270743847,1290.2289675799702,1149.0232896954872,1150.203996161994,1180.1510944173053,1251.9334993157895,1295.8913993454216,1340.4638369075399,1249.3875585823512,1272.549409064714,1275.6442218793811,1303.185403457936,1327.2149787794897,1317.6379523343999,1430.4209828683286,1328.0338264876539,1590.2596634287527,1463.4658547145254,1450.9295997171994,1204.1381412627172],\"type\":\"scatter\"},{\"fill\":\"tonexty\",\"line\":{\"color\":\"#ffa600\",\"width\":3},\"name\":\"Criteria I\",\"showlegend\":false,\"x\":[\"2020-02-24T05:30:00\",\"2020-02-24T05:40:00\",\"2020-02-24T05:50:00\",\"2020-02-24T06:00:00\",\"2020-02-24T06:10:00\",\"2020-02-24T06:20:00\",\"2020-02-24T06:30:00\",\"2020-02-24T06:40:00\",\"2020-02-24T06:50:00\",\"2020-02-24T07:00:00\",\"2020-02-24T07:10:00\",\"2020-02-24T07:20:00\",\"2020-02-24T07:30:00\",\"2020-02-24T07:40:00\",\"2020-02-24T07:50:00\",\"2020-02-24T08:00:00\",\"2020-02-24T08:10:00\",\"2020-02-24T08:20:00\",\"2020-02-24T08:30:00\",\"2020-02-24T08:40:00\",\"2020-02-24T08:50:00\",\"2020-02-24T09:00:00\",\"2020-02-24T09:10:00\",\"2020-02-24T09:20:00\",\"2020-02-24T09:30:00\",\"2020-02-24T09:40:00\",\"2020-02-24T09:50:00\",\"2020-02-24T10:00:00\",\"2020-02-24T10:10:00\",\"2020-02-24T10:20:00\",\"2020-02-24T10:30:00\",\"2020-02-24T10:40:00\",\"2020-02-24T10:50:00\",\"2020-02-24T11:00:00\",\"2020-02-24T11:10:00\",\"2020-02-24T11:20:00\",\"2020-02-24T11:30:00\",\"2020-02-24T11:40:00\"],\"y\":[121.68271982568933,234.08503287568772,139.0160434070001,56.99930213309722,90.37736128004286,110.33526592667226,136.32408581563834,-102.94007166032873,145.3005108911059,83.97295811938852,115.58477102825475,236.03517821049968,-18.787687405170118,9.588720072448154,13.753270698287679,10.58568736739835,12.150854781250587,72.69198323190301,59.21227292561514,245.77103242002988,86.97671030451295,97.79600383800607,67.84890558269467,176.0665006842105,72.10860065457848,123.53616309246013,22.612441417648824,23.45059093528596,92.35577812061888,136.814596542064,112.78502122051032,110.36204766560013,189.57901713167143,99.96617351234613,269.7403365712473,192.53414528547455,241.0704002828005,559.8618587372828],\"type\":\"scatter\"},{\"line\":{\"color\":\"#bc5090\",\"width\":3},\"name\":\"Criteria II.\",\"x\":[\"2020-02-24T05:30:00\",\"2020-02-24T05:40:00\",\"2020-02-24T05:50:00\",\"2020-02-24T06:00:00\",\"2020-02-24T06:10:00\",\"2020-02-24T06:20:00\",\"2020-02-24T06:30:00\",\"2020-02-24T06:40:00\",\"2020-02-24T06:50:00\",\"2020-02-24T07:00:00\",\"2020-02-24T07:10:00\",\"2020-02-24T07:20:00\",\"2020-02-24T07:30:00\",\"2020-02-24T07:40:00\",\"2020-02-24T07:50:00\",\"2020-02-24T08:00:00\",\"2020-02-24T08:10:00\",\"2020-02-24T08:20:00\",\"2020-02-24T08:30:00\",\"2020-02-24T08:40:00\",\"2020-02-24T08:50:00\",\"2020-02-24T09:00:00\",\"2020-02-24T09:10:00\",\"2020-02-24T09:20:00\",\"2020-02-24T09:30:00\",\"2020-02-24T09:40:00\",\"2020-02-24T09:50:00\",\"2020-02-24T10:00:00\",\"2020-02-24T10:10:00\",\"2020-02-24T10:20:00\",\"2020-02-24T10:30:00\",\"2020-02-24T10:40:00\",\"2020-02-24T10:50:00\",\"2020-02-24T11:00:00\",\"2020-02-24T11:10:00\",\"2020-02-24T11:20:00\",\"2020-02-24T11:30:00\",\"2020-02-24T11:40:00\"],\"y\":[427.2231021297504,668.8953913899552,572.4203860168367,532.714641768828,524.7462442448762,677.665680649657,899.9979154001845,732.1122814593514,841.0507597494358,790.7893070819446,865.2730760059925,1093.7779703007654,852.2794323495766,901.2302448609959,944.4115965825063,846.3542411390824,854.6169108258925,905.2796003918862,966.5243505481556,1034.4433508061072,888.9302498446363,892.4714266132622,907.7505583761762,988.4558669978518,996.1894894619497,1042.440733116092,948.9528360114036,966.6476576860787,985.8592968772352,1017.5435731928245,1029.8035606017804,1021.9785471093877,1126.5413177899636,1027.2825645345174,1266.8671752187513,1152.2172728135333,1154.637550876122,1046.3561945217946],\"type\":\"scatter\"},{\"fill\":\"tonexty\",\"line\":{\"color\":\"#bc5090\",\"width\":3},\"name\":\"Criteria II\",\"showlegend\":false,\"x\":[\"2020-02-24T05:30:00\",\"2020-02-24T05:40:00\",\"2020-02-24T05:50:00\",\"2020-02-24T06:00:00\",\"2020-02-24T06:10:00\",\"2020-02-24T06:20:00\",\"2020-02-24T06:30:00\",\"2020-02-24T06:40:00\",\"2020-02-24T06:50:00\",\"2020-02-24T07:00:00\",\"2020-02-24T07:10:00\",\"2020-02-24T07:20:00\",\"2020-02-24T07:30:00\",\"2020-02-24T07:40:00\",\"2020-02-24T07:50:00\",\"2020-02-24T08:00:00\",\"2020-02-24T08:10:00\",\"2020-02-24T08:20:00\",\"2020-02-24T08:30:00\",\"2020-02-24T08:40:00\",\"2020-02-24T08:50:00\",\"2020-02-24T09:00:00\",\"2020-02-24T09:10:00\",\"2020-02-24T09:20:00\",\"2020-02-24T09:30:00\",\"2020-02-24T09:40:00\",\"2020-02-24T09:50:00\",\"2020-02-24T10:00:00\",\"2020-02-24T10:10:00\",\"2020-02-24T10:20:00\",\"2020-02-24T10:30:00\",\"2020-02-24T10:40:00\",\"2020-02-24T10:50:00\",\"2020-02-24T11:00:00\",\"2020-02-24T11:10:00\",\"2020-02-24T11:20:00\",\"2020-02-24T11:30:00\",\"2020-02-24T11:40:00\"],\"y\":[220.77689787024966,375.10460861004475,279.5796139831633,211.28535823117204,231.2537557551239,294.334319350343,384.0020845998155,167.88771854064862,370.94924025056423,313.2106929180554,358.7269239940075,514.2220296992346,263.7205676504234,298.76975513900413,315.5884034174937,281.6457588609175,285.38308917410745,342.7203996081138,353.47564945184445,501.5566491938928,347.06975015536375,355.5285733867378,340.2494416238238,439.5441330021482,371.81051053805027,421.5592668839082,323.0471639885963,329.3523423139214,382.1407031227647,422.4564268071755,410.1964393982195,406.0214528906123,493.45868221003644,400.7174354654827,593.1328247812487,503.7827271864666,537.3624491238778,717.6438054782055],\"type\":\"scatter\"},{\"line\":{\"color\":\"#003f5c\",\"width\":5},\"name\":\"Representative Day\",\"x\":[\"2020-02-24T05:30:00\",\"2020-02-24T05:40:00\",\"2020-02-24T05:50:00\",\"2020-02-24T06:00:00\",\"2020-02-24T06:10:00\",\"2020-02-24T06:20:00\",\"2020-02-24T06:30:00\",\"2020-02-24T06:40:00\",\"2020-02-24T06:50:00\",\"2020-02-24T07:00:00\",\"2020-02-24T07:10:00\",\"2020-02-24T07:20:00\",\"2020-02-24T07:30:00\",\"2020-02-24T07:40:00\",\"2020-02-24T07:50:00\",\"2020-02-24T08:00:00\",\"2020-02-24T08:10:00\",\"2020-02-24T08:20:00\",\"2020-02-24T08:30:00\",\"2020-02-24T08:40:00\",\"2020-02-24T08:50:00\",\"2020-02-24T09:00:00\",\"2020-02-24T09:10:00\",\"2020-02-24T09:20:00\",\"2020-02-24T09:30:00\",\"2020-02-24T09:40:00\",\"2020-02-24T09:50:00\",\"2020-02-24T10:00:00\",\"2020-02-24T10:10:00\",\"2020-02-24T10:20:00\",\"2020-02-24T10:30:00\",\"2020-02-24T10:40:00\",\"2020-02-24T10:50:00\",\"2020-02-24T11:00:00\",\"2020-02-24T11:10:00\",\"2020-02-24T11:20:00\",\"2020-02-24T11:30:00\",\"2020-02-24T11:40:00\"],\"y\":[324.0,522.0,426.0,372.0,378.0,486.0,642.0,450.0,606.0,552.0,612.0,804.0,558.0,600.0,630.0,564.0,570.0,624.0,660.0,768.0,618.0,624.0,624.0,714.0,684.0,732.0,636.0,648.0,684.0,720.0,720.0,714.0,810.0,714.0,930.0,828.0,846.0,882.0],\"type\":\"scatter\"},{\"marker\":{\"color\":\"red\",\"line\":{\"color\":\"black\",\"width\":2},\"size\":15,\"symbol\":\"diamond\"},\"mode\":\"markers\",\"name\":\"Simulation\",\"x\":[\"2020-02-24T05:30:00\",\"2020-02-24T05:40:00\",\"2020-02-24T05:50:00\",\"2020-02-24T06:00:00\",\"2020-02-24T06:10:00\",\"2020-02-24T06:20:00\",\"2020-02-24T06:30:00\",\"2020-02-24T06:40:00\",\"2020-02-24T06:50:00\",\"2020-02-24T07:00:00\",\"2020-02-24T07:10:00\",\"2020-02-24T07:20:00\",\"2020-02-24T07:30:00\",\"2020-02-24T07:40:00\",\"2020-02-24T07:50:00\",\"2020-02-24T08:00:00\",\"2020-02-24T08:10:00\",\"2020-02-24T08:20:00\",\"2020-02-24T08:30:00\",\"2020-02-24T08:40:00\",\"2020-02-24T08:50:00\",\"2020-02-24T09:00:00\",\"2020-02-24T09:10:00\",\"2020-02-24T09:20:00\",\"2020-02-24T09:30:00\",\"2020-02-24T09:40:00\",\"2020-02-24T09:50:00\",\"2020-02-24T10:00:00\",\"2020-02-24T10:10:00\",\"2020-02-24T10:20:00\",\"2020-02-24T10:30:00\",\"2020-02-24T10:40:00\",\"2020-02-24T10:50:00\",\"2020-02-24T11:00:00\",\"2020-02-24T11:10:00\",\"2020-02-24T11:20:00\",\"2020-02-24T11:30:00\",\"2020-02-24T11:40:00\"],\"y\":[366.0,546.0,390.0,414.0,486.0,438.0,666.0,708.0,666.0,600.0,636.0,678.0,648.0,678.0,720.0,636.0,540.0,438.0,642.0,840.0,516.0,606.0,522.0,636.0,510.0,750.0,666.0,654.0,528.0,696.0,768.0,624.0,750.0,534.0,828.0,774.0,930.0,630.0],\"type\":\"scatter\"}],                        {\"template\":{\"data\":{\"barpolar\":[{\"marker\":{\"line\":{\"color\":\"white\",\"width\":0.5},\"pattern\":{\"fillmode\":\"overlay\",\"size\":10,\"solidity\":0.2}},\"type\":\"barpolar\"}],\"bar\":[{\"error_x\":{\"color\":\"rgb(36,36,36)\"},\"error_y\":{\"color\":\"rgb(36,36,36)\"},\"marker\":{\"line\":{\"color\":\"white\",\"width\":0.5},\"pattern\":{\"fillmode\":\"overlay\",\"size\":10,\"solidity\":0.2}},\"type\":\"bar\"}],\"carpet\":[{\"aaxis\":{\"endlinecolor\":\"rgb(36,36,36)\",\"gridcolor\":\"white\",\"linecolor\":\"white\",\"minorgridcolor\":\"white\",\"startlinecolor\":\"rgb(36,36,36)\"},\"baxis\":{\"endlinecolor\":\"rgb(36,36,36)\",\"gridcolor\":\"white\",\"linecolor\":\"white\",\"minorgridcolor\":\"white\",\"startlinecolor\":\"rgb(36,36,36)\"},\"type\":\"carpet\"}],\"choropleth\":[{\"colorbar\":{\"outlinewidth\":1,\"tickcolor\":\"rgb(36,36,36)\",\"ticks\":\"outside\"},\"type\":\"choropleth\"}],\"contourcarpet\":[{\"colorbar\":{\"outlinewidth\":1,\"tickcolor\":\"rgb(36,36,36)\",\"ticks\":\"outside\"},\"type\":\"contourcarpet\"}],\"contour\":[{\"colorbar\":{\"outlinewidth\":1,\"tickcolor\":\"rgb(36,36,36)\",\"ticks\":\"outside\"},\"colorscale\":[[0.0,\"#440154\"],[0.1111111111111111,\"#482878\"],[0.2222222222222222,\"#3e4989\"],[0.3333333333333333,\"#31688e\"],[0.4444444444444444,\"#26828e\"],[0.5555555555555556,\"#1f9e89\"],[0.6666666666666666,\"#35b779\"],[0.7777777777777778,\"#6ece58\"],[0.8888888888888888,\"#b5de2b\"],[1.0,\"#fde725\"]],\"type\":\"contour\"}],\"heatmapgl\":[{\"colorbar\":{\"outlinewidth\":1,\"tickcolor\":\"rgb(36,36,36)\",\"ticks\":\"outside\"},\"colorscale\":[[0.0,\"#440154\"],[0.1111111111111111,\"#482878\"],[0.2222222222222222,\"#3e4989\"],[0.3333333333333333,\"#31688e\"],[0.4444444444444444,\"#26828e\"],[0.5555555555555556,\"#1f9e89\"],[0.6666666666666666,\"#35b779\"],[0.7777777777777778,\"#6ece58\"],[0.8888888888888888,\"#b5de2b\"],[1.0,\"#fde725\"]],\"type\":\"heatmapgl\"}],\"heatmap\":[{\"colorbar\":{\"outlinewidth\":1,\"tickcolor\":\"rgb(36,36,36)\",\"ticks\":\"outside\"},\"colorscale\":[[0.0,\"#440154\"],[0.1111111111111111,\"#482878\"],[0.2222222222222222,\"#3e4989\"],[0.3333333333333333,\"#31688e\"],[0.4444444444444444,\"#26828e\"],[0.5555555555555556,\"#1f9e89\"],[0.6666666666666666,\"#35b779\"],[0.7777777777777778,\"#6ece58\"],[0.8888888888888888,\"#b5de2b\"],[1.0,\"#fde725\"]],\"type\":\"heatmap\"}],\"histogram2dcontour\":[{\"colorbar\":{\"outlinewidth\":1,\"tickcolor\":\"rgb(36,36,36)\",\"ticks\":\"outside\"},\"colorscale\":[[0.0,\"#440154\"],[0.1111111111111111,\"#482878\"],[0.2222222222222222,\"#3e4989\"],[0.3333333333333333,\"#31688e\"],[0.4444444444444444,\"#26828e\"],[0.5555555555555556,\"#1f9e89\"],[0.6666666666666666,\"#35b779\"],[0.7777777777777778,\"#6ece58\"],[0.8888888888888888,\"#b5de2b\"],[1.0,\"#fde725\"]],\"type\":\"histogram2dcontour\"}],\"histogram2d\":[{\"colorbar\":{\"outlinewidth\":1,\"tickcolor\":\"rgb(36,36,36)\",\"ticks\":\"outside\"},\"colorscale\":[[0.0,\"#440154\"],[0.1111111111111111,\"#482878\"],[0.2222222222222222,\"#3e4989\"],[0.3333333333333333,\"#31688e\"],[0.4444444444444444,\"#26828e\"],[0.5555555555555556,\"#1f9e89\"],[0.6666666666666666,\"#35b779\"],[0.7777777777777778,\"#6ece58\"],[0.8888888888888888,\"#b5de2b\"],[1.0,\"#fde725\"]],\"type\":\"histogram2d\"}],\"histogram\":[{\"marker\":{\"line\":{\"color\":\"white\",\"width\":0.6}},\"type\":\"histogram\"}],\"mesh3d\":[{\"colorbar\":{\"outlinewidth\":1,\"tickcolor\":\"rgb(36,36,36)\",\"ticks\":\"outside\"},\"type\":\"mesh3d\"}],\"parcoords\":[{\"line\":{\"colorbar\":{\"outlinewidth\":1,\"tickcolor\":\"rgb(36,36,36)\",\"ticks\":\"outside\"}},\"type\":\"parcoords\"}],\"pie\":[{\"automargin\":true,\"type\":\"pie\"}],\"scatter3d\":[{\"line\":{\"colorbar\":{\"outlinewidth\":1,\"tickcolor\":\"rgb(36,36,36)\",\"ticks\":\"outside\"}},\"marker\":{\"colorbar\":{\"outlinewidth\":1,\"tickcolor\":\"rgb(36,36,36)\",\"ticks\":\"outside\"}},\"type\":\"scatter3d\"}],\"scattercarpet\":[{\"marker\":{\"colorbar\":{\"outlinewidth\":1,\"tickcolor\":\"rgb(36,36,36)\",\"ticks\":\"outside\"}},\"type\":\"scattercarpet\"}],\"scattergeo\":[{\"marker\":{\"colorbar\":{\"outlinewidth\":1,\"tickcolor\":\"rgb(36,36,36)\",\"ticks\":\"outside\"}},\"type\":\"scattergeo\"}],\"scattergl\":[{\"marker\":{\"colorbar\":{\"outlinewidth\":1,\"tickcolor\":\"rgb(36,36,36)\",\"ticks\":\"outside\"}},\"type\":\"scattergl\"}],\"scattermapbox\":[{\"marker\":{\"colorbar\":{\"outlinewidth\":1,\"tickcolor\":\"rgb(36,36,36)\",\"ticks\":\"outside\"}},\"type\":\"scattermapbox\"}],\"scatterpolargl\":[{\"marker\":{\"colorbar\":{\"outlinewidth\":1,\"tickcolor\":\"rgb(36,36,36)\",\"ticks\":\"outside\"}},\"type\":\"scatterpolargl\"}],\"scatterpolar\":[{\"marker\":{\"colorbar\":{\"outlinewidth\":1,\"tickcolor\":\"rgb(36,36,36)\",\"ticks\":\"outside\"}},\"type\":\"scatterpolar\"}],\"scatter\":[{\"fillpattern\":{\"fillmode\":\"overlay\",\"size\":10,\"solidity\":0.2},\"type\":\"scatter\"}],\"scatterternary\":[{\"marker\":{\"colorbar\":{\"outlinewidth\":1,\"tickcolor\":\"rgb(36,36,36)\",\"ticks\":\"outside\"}},\"type\":\"scatterternary\"}],\"surface\":[{\"colorbar\":{\"outlinewidth\":1,\"tickcolor\":\"rgb(36,36,36)\",\"ticks\":\"outside\"},\"colorscale\":[[0.0,\"#440154\"],[0.1111111111111111,\"#482878\"],[0.2222222222222222,\"#3e4989\"],[0.3333333333333333,\"#31688e\"],[0.4444444444444444,\"#26828e\"],[0.5555555555555556,\"#1f9e89\"],[0.6666666666666666,\"#35b779\"],[0.7777777777777778,\"#6ece58\"],[0.8888888888888888,\"#b5de2b\"],[1.0,\"#fde725\"]],\"type\":\"surface\"}],\"table\":[{\"cells\":{\"fill\":{\"color\":\"rgb(237,237,237)\"},\"line\":{\"color\":\"white\"}},\"header\":{\"fill\":{\"color\":\"rgb(217,217,217)\"},\"line\":{\"color\":\"white\"}},\"type\":\"table\"}]},\"layout\":{\"annotationdefaults\":{\"arrowhead\":0,\"arrowwidth\":1},\"autotypenumbers\":\"strict\",\"coloraxis\":{\"colorbar\":{\"outlinewidth\":1,\"tickcolor\":\"rgb(36,36,36)\",\"ticks\":\"outside\"}},\"colorscale\":{\"diverging\":[[0.0,\"rgb(103,0,31)\"],[0.1,\"rgb(178,24,43)\"],[0.2,\"rgb(214,96,77)\"],[0.3,\"rgb(244,165,130)\"],[0.4,\"rgb(253,219,199)\"],[0.5,\"rgb(247,247,247)\"],[0.6,\"rgb(209,229,240)\"],[0.7,\"rgb(146,197,222)\"],[0.8,\"rgb(67,147,195)\"],[0.9,\"rgb(33,102,172)\"],[1.0,\"rgb(5,48,97)\"]],\"sequential\":[[0.0,\"#440154\"],[0.1111111111111111,\"#482878\"],[0.2222222222222222,\"#3e4989\"],[0.3333333333333333,\"#31688e\"],[0.4444444444444444,\"#26828e\"],[0.5555555555555556,\"#1f9e89\"],[0.6666666666666666,\"#35b779\"],[0.7777777777777778,\"#6ece58\"],[0.8888888888888888,\"#b5de2b\"],[1.0,\"#fde725\"]],\"sequentialminus\":[[0.0,\"#440154\"],[0.1111111111111111,\"#482878\"],[0.2222222222222222,\"#3e4989\"],[0.3333333333333333,\"#31688e\"],[0.4444444444444444,\"#26828e\"],[0.5555555555555556,\"#1f9e89\"],[0.6666666666666666,\"#35b779\"],[0.7777777777777778,\"#6ece58\"],[0.8888888888888888,\"#b5de2b\"],[1.0,\"#fde725\"]]},\"colorway\":[\"#1F77B4\",\"#FF7F0E\",\"#2CA02C\",\"#D62728\",\"#9467BD\",\"#8C564B\",\"#E377C2\",\"#7F7F7F\",\"#BCBD22\",\"#17BECF\"],\"font\":{\"color\":\"rgb(36,36,36)\"},\"geo\":{\"bgcolor\":\"white\",\"lakecolor\":\"white\",\"landcolor\":\"white\",\"showlakes\":true,\"showland\":true,\"subunitcolor\":\"white\"},\"hoverlabel\":{\"align\":\"left\"},\"hovermode\":\"closest\",\"mapbox\":{\"style\":\"light\"},\"paper_bgcolor\":\"white\",\"plot_bgcolor\":\"white\",\"polar\":{\"angularaxis\":{\"gridcolor\":\"rgb(232,232,232)\",\"linecolor\":\"rgb(36,36,36)\",\"showgrid\":false,\"showline\":true,\"ticks\":\"outside\"},\"bgcolor\":\"white\",\"radialaxis\":{\"gridcolor\":\"rgb(232,232,232)\",\"linecolor\":\"rgb(36,36,36)\",\"showgrid\":false,\"showline\":true,\"ticks\":\"outside\"}},\"scene\":{\"xaxis\":{\"backgroundcolor\":\"white\",\"gridcolor\":\"rgb(232,232,232)\",\"gridwidth\":2,\"linecolor\":\"rgb(36,36,36)\",\"showbackground\":true,\"showgrid\":false,\"showline\":true,\"ticks\":\"outside\",\"zeroline\":false,\"zerolinecolor\":\"rgb(36,36,36)\"},\"yaxis\":{\"backgroundcolor\":\"white\",\"gridcolor\":\"rgb(232,232,232)\",\"gridwidth\":2,\"linecolor\":\"rgb(36,36,36)\",\"showbackground\":true,\"showgrid\":false,\"showline\":true,\"ticks\":\"outside\",\"zeroline\":false,\"zerolinecolor\":\"rgb(36,36,36)\"},\"zaxis\":{\"backgroundcolor\":\"white\",\"gridcolor\":\"rgb(232,232,232)\",\"gridwidth\":2,\"linecolor\":\"rgb(36,36,36)\",\"showbackground\":true,\"showgrid\":false,\"showline\":true,\"ticks\":\"outside\",\"zeroline\":false,\"zerolinecolor\":\"rgb(36,36,36)\"}},\"shapedefaults\":{\"fillcolor\":\"black\",\"line\":{\"width\":0},\"opacity\":0.3},\"ternary\":{\"aaxis\":{\"gridcolor\":\"rgb(232,232,232)\",\"linecolor\":\"rgb(36,36,36)\",\"showgrid\":false,\"showline\":true,\"ticks\":\"outside\"},\"baxis\":{\"gridcolor\":\"rgb(232,232,232)\",\"linecolor\":\"rgb(36,36,36)\",\"showgrid\":false,\"showline\":true,\"ticks\":\"outside\"},\"bgcolor\":\"white\",\"caxis\":{\"gridcolor\":\"rgb(232,232,232)\",\"linecolor\":\"rgb(36,36,36)\",\"showgrid\":false,\"showline\":true,\"ticks\":\"outside\"}},\"title\":{\"x\":0.05},\"xaxis\":{\"automargin\":true,\"gridcolor\":\"rgb(232,232,232)\",\"linecolor\":\"rgb(36,36,36)\",\"showgrid\":false,\"showline\":true,\"ticks\":\"outside\",\"title\":{\"standoff\":15},\"zeroline\":false,\"zerolinecolor\":\"rgb(36,36,36)\"},\"yaxis\":{\"automargin\":true,\"gridcolor\":\"rgb(232,232,232)\",\"linecolor\":\"rgb(36,36,36)\",\"showgrid\":false,\"showline\":true,\"ticks\":\"outside\",\"title\":{\"standoff\":15},\"zeroline\":false,\"zerolinecolor\":\"rgb(36,36,36)\"}}},\"yaxis\":{\"title\":{\"text\":\"Volume [Vehicles/Hour]\"},\"showgrid\":true,\"range\":[0,2000]},\"font\":{\"family\":\"helvetica\",\"size\":26},\"legend\":{\"yanchor\":\"top\",\"y\":1.0,\"xanchor\":\"right\",\"x\":1,\"orientation\":\"h\"},\"xaxis\":{\"tickangle\":15},\"height\":600,\"width\":1200,\"showlegend\":true},                        {\"responsive\": true}                    ).then(function(){\n",
       "                            \n",
       "var gd = document.getElementById('650e9a29-8a15-4cdf-9158-9109f7247b74');\n",
       "var x = new MutationObserver(function (mutations, observer) {{\n",
       "        var display = window.getComputedStyle(gd).display;\n",
       "        if (!display || display === 'none') {{\n",
       "            console.log([gd, 'removed!']);\n",
       "            Plotly.purge(gd);\n",
       "            observer.disconnect();\n",
       "        }}\n",
       "}});\n",
       "\n",
       "// Listen for the removal of the full notebook cells\n",
       "var notebookContainer = gd.closest('#notebook-container');\n",
       "if (notebookContainer) {{\n",
       "    x.observe(notebookContainer, {childList: true});\n",
       "}}\n",
       "\n",
       "// Listen for the clearing of the current output cell\n",
       "var outputEl = gd.closest('.output');\n",
       "if (outputEl) {{\n",
       "    x.observe(outputEl, {childList: true});\n",
       "}}\n",
       "\n",
       "                        })                };                });            </script>        </div>"
      ]
     },
     "metadata": {},
     "output_type": "display_data"
    },
    {
     "name": "stdout",
     "output_type": "stream",
     "text": [
      "{63082004-WB.png/TL3-WB},%\n"
     ]
    },
    {
     "data": {
      "application/vnd.plotly.v1+json": {
       "config": {
        "plotlyServerURL": "https://plot.ly"
       },
       "data": [
        {
         "line": {
          "color": "#ffa600",
          "width": 3
         },
         "name": "Criteria I.",
         "type": "scatter",
         "x": [
          "2020-02-24T05:30:00",
          "2020-02-24T05:40:00",
          "2020-02-24T05:50:00",
          "2020-02-24T06:00:00",
          "2020-02-24T06:10:00",
          "2020-02-24T06:20:00",
          "2020-02-24T06:30:00",
          "2020-02-24T06:40:00",
          "2020-02-24T06:50:00",
          "2020-02-24T07:00:00",
          "2020-02-24T07:10:00",
          "2020-02-24T07:20:00",
          "2020-02-24T07:30:00",
          "2020-02-24T07:40:00",
          "2020-02-24T07:50:00",
          "2020-02-24T08:00:00",
          "2020-02-24T08:10:00",
          "2020-02-24T08:20:00",
          "2020-02-24T08:30:00",
          "2020-02-24T08:40:00",
          "2020-02-24T08:50:00",
          "2020-02-24T09:00:00",
          "2020-02-24T09:10:00",
          "2020-02-24T09:20:00",
          "2020-02-24T09:30:00",
          "2020-02-24T09:40:00",
          "2020-02-24T09:50:00",
          "2020-02-24T10:00:00",
          "2020-02-24T10:10:00",
          "2020-02-24T10:20:00",
          "2020-02-24T10:30:00",
          "2020-02-24T10:40:00",
          "2020-02-24T10:50:00",
          "2020-02-24T11:00:00",
          "2020-02-24T11:10:00",
          "2020-02-24T11:20:00",
          "2020-02-24T11:30:00",
          "2020-02-24T11:40:00"
         ],
         "y": [
          814.1056761478759,
          819.3993646020999,
          879.5193598824403,
          1048.530664389185,
          1150.488141189031,
          1560.329254868032,
          1439.6592464499415,
          1630.6655985211062,
          1408.0736128152657,
          1485.51827365476,
          1655.4104845615966,
          1490.3721300264244,
          1548.2712918820475,
          1616.393479393037,
          1331.6566725671405,
          1304.1152350410634,
          1132.1457524414627,
          1273.5067595075593,
          1132.9884331312176,
          1209.5936041621985,
          1112.837926820932,
          1144.8481151677602,
          1233.2556313423447,
          1080.9032329751249,
          1201.3389412126025,
          1090.3781076322857,
          1047.3144603040191,
          1297.6005168739766,
          1120.4991365384967,
          1230.9173727878847,
          1159.969312419087,
          1216.3569069079085,
          1117.0749568632125,
          1199.1671467359954,
          1091.4136387468975,
          1199.6875269474024,
          1101.9795963786028,
          1059.2652342010729
         ]
        },
        {
         "fill": "tonexty",
         "line": {
          "color": "#ffa600",
          "width": 3
         },
         "name": "Criteria I",
         "showlegend": false,
         "type": "scatter",
         "x": [
          "2020-02-24T05:30:00",
          "2020-02-24T05:40:00",
          "2020-02-24T05:50:00",
          "2020-02-24T06:00:00",
          "2020-02-24T06:10:00",
          "2020-02-24T06:20:00",
          "2020-02-24T06:30:00",
          "2020-02-24T06:40:00",
          "2020-02-24T06:50:00",
          "2020-02-24T07:00:00",
          "2020-02-24T07:10:00",
          "2020-02-24T07:20:00",
          "2020-02-24T07:30:00",
          "2020-02-24T07:40:00",
          "2020-02-24T07:50:00",
          "2020-02-24T08:00:00",
          "2020-02-24T08:10:00",
          "2020-02-24T08:20:00",
          "2020-02-24T08:30:00",
          "2020-02-24T08:40:00",
          "2020-02-24T08:50:00",
          "2020-02-24T09:00:00",
          "2020-02-24T09:10:00",
          "2020-02-24T09:20:00",
          "2020-02-24T09:30:00",
          "2020-02-24T09:40:00",
          "2020-02-24T09:50:00",
          "2020-02-24T10:00:00",
          "2020-02-24T10:10:00",
          "2020-02-24T10:20:00",
          "2020-02-24T10:30:00",
          "2020-02-24T10:40:00",
          "2020-02-24T10:50:00",
          "2020-02-24T11:00:00",
          "2020-02-24T11:10:00",
          "2020-02-24T11:20:00",
          "2020-02-24T11:30:00",
          "2020-02-24T11:40:00"
         ],
         "y": [
          457.8943238521241,
          380.6006353979001,
          440.48064011755974,
          439.4693356108151,
          385.51185881096904,
          695.6707451319679,
          552.3407535500585,
          721.3344014788938,
          559.9263871847343,
          602.4817263452401,
          720.5895154384035,
          501.62786997357557,
          659.7287081179525,
          687.606520606963,
          516.3433274328595,
          591.8847649589366,
          427.8542475585373,
          478.4932404924406,
          451.0115668687824,
          470.40639583780154,
          447.1620731790682,
          463.1518848322399,
          542.7443686576553,
          383.096767024875,
          526.6610587873976,
          373.6218923677144,
          344.6855396959808,
          622.3994831260234,
          463.5008634615032,
          617.0826272121153,
          592.0306875809131,
          607.6430930920915,
          562.9250431367875,
          600.8328532640046,
          516.5863612531025,
          624.3124730525976,
          578.0204036213972,
          788.7347657989272
         ]
        },
        {
         "line": {
          "color": "#bc5090",
          "width": 3
         },
         "name": "Criteria II.",
         "type": "scatter",
         "x": [
          "2020-02-24T05:30:00",
          "2020-02-24T05:40:00",
          "2020-02-24T05:50:00",
          "2020-02-24T06:00:00",
          "2020-02-24T06:10:00",
          "2020-02-24T06:20:00",
          "2020-02-24T06:30:00",
          "2020-02-24T06:40:00",
          "2020-02-24T06:50:00",
          "2020-02-24T07:00:00",
          "2020-02-24T07:10:00",
          "2020-02-24T07:20:00",
          "2020-02-24T07:30:00",
          "2020-02-24T07:40:00",
          "2020-02-24T07:50:00",
          "2020-02-24T08:00:00",
          "2020-02-24T08:10:00",
          "2020-02-24T08:20:00",
          "2020-02-24T08:30:00",
          "2020-02-24T08:40:00",
          "2020-02-24T08:50:00",
          "2020-02-24T09:00:00",
          "2020-02-24T09:10:00",
          "2020-02-24T09:20:00",
          "2020-02-24T09:30:00",
          "2020-02-24T09:40:00",
          "2020-02-24T09:50:00",
          "2020-02-24T10:00:00",
          "2020-02-24T10:10:00",
          "2020-02-24T10:20:00",
          "2020-02-24T10:30:00",
          "2020-02-24T10:40:00",
          "2020-02-24T10:50:00",
          "2020-02-24T11:00:00",
          "2020-02-24T11:10:00",
          "2020-02-24T11:20:00",
          "2020-02-24T11:30:00",
          "2020-02-24T11:40:00"
         ],
         "y": [
          726.8702429325897,
          711.938451327602,
          771.9996734094083,
          899.3727879536658,
          963.1470108107301,
          1348.5761504428735,
          1222.3567583928273,
          1407.9722441434214,
          1200.364088171054,
          1269.2644253340611,
          1426.4747370212226,
          1248.2306785849105,
          1330.6690264704325,
          1388.9354486699167,
          1131.988098248541,
          1129.6914464495221,
          959.666200225236,
          1078.8095711773262,
          965.9736903730702,
          1028.5681653888769,
          949.8152687861897,
          977.9020995753879,
          1064.1508323175228,
          910.0118535587372,
          1036.1117047003074,
          914.8459732817784,
          875.2420715836832,
          1132.2451616703963,
          959.6016002747433,
          1080.5904963203493,
          1020.8823022546362,
          1067.2841361775045,
          981.3647739098024,
          1052.6362993550997,
          950.63961160556,
          1058.7793504833685,
          973.6630593768381,
          993.012874592384
         ]
        },
        {
         "fill": "tonexty",
         "line": {
          "color": "#bc5090",
          "width": 3
         },
         "name": "Criteria II",
         "showlegend": false,
         "type": "scatter",
         "x": [
          "2020-02-24T05:30:00",
          "2020-02-24T05:40:00",
          "2020-02-24T05:50:00",
          "2020-02-24T06:00:00",
          "2020-02-24T06:10:00",
          "2020-02-24T06:20:00",
          "2020-02-24T06:30:00",
          "2020-02-24T06:40:00",
          "2020-02-24T06:50:00",
          "2020-02-24T07:00:00",
          "2020-02-24T07:10:00",
          "2020-02-24T07:20:00",
          "2020-02-24T07:30:00",
          "2020-02-24T07:40:00",
          "2020-02-24T07:50:00",
          "2020-02-24T08:00:00",
          "2020-02-24T08:10:00",
          "2020-02-24T08:20:00",
          "2020-02-24T08:30:00",
          "2020-02-24T08:40:00",
          "2020-02-24T08:50:00",
          "2020-02-24T09:00:00",
          "2020-02-24T09:10:00",
          "2020-02-24T09:20:00",
          "2020-02-24T09:30:00",
          "2020-02-24T09:40:00",
          "2020-02-24T09:50:00",
          "2020-02-24T10:00:00",
          "2020-02-24T10:10:00",
          "2020-02-24T10:20:00",
          "2020-02-24T10:30:00",
          "2020-02-24T10:40:00",
          "2020-02-24T10:50:00",
          "2020-02-24T11:00:00",
          "2020-02-24T11:10:00",
          "2020-02-24T11:20:00",
          "2020-02-24T11:30:00",
          "2020-02-24T11:40:00"
         ],
         "y": [
          545.1297570674103,
          488.061548672398,
          548.0003265905917,
          588.6272120463342,
          572.8529891892699,
          907.4238495571265,
          769.6432416071727,
          944.0277558565784,
          767.6359118289461,
          818.7355746659389,
          949.5252629787773,
          743.7693214150895,
          877.3309735295676,
          915.0645513300832,
          716.0119017514589,
          766.3085535504779,
          600.333799774764,
          673.1904288226738,
          618.0263096269298,
          651.4318346111232,
          610.1847312138103,
          630.0979004246121,
          711.8491676824772,
          553.9881464412628,
          691.8882952996926,
          549.1540267182216,
          516.7579284163168,
          787.7548383296038,
          624.3983997252567,
          767.4095036796507,
          731.1176977453638,
          756.7158638224956,
          698.6352260901976,
          747.3637006449003,
          657.36038839444,
          765.2206495166314,
          706.3369406231619,
          854.987125407616
         ]
        },
        {
         "line": {
          "color": "#003f5c",
          "width": 5
         },
         "name": "Representative Day",
         "type": "scatter",
         "x": [
          "2020-02-24T05:30:00",
          "2020-02-24T05:40:00",
          "2020-02-24T05:50:00",
          "2020-02-24T06:00:00",
          "2020-02-24T06:10:00",
          "2020-02-24T06:20:00",
          "2020-02-24T06:30:00",
          "2020-02-24T06:40:00",
          "2020-02-24T06:50:00",
          "2020-02-24T07:00:00",
          "2020-02-24T07:10:00",
          "2020-02-24T07:20:00",
          "2020-02-24T07:30:00",
          "2020-02-24T07:40:00",
          "2020-02-24T07:50:00",
          "2020-02-24T08:00:00",
          "2020-02-24T08:10:00",
          "2020-02-24T08:20:00",
          "2020-02-24T08:30:00",
          "2020-02-24T08:40:00",
          "2020-02-24T08:50:00",
          "2020-02-24T09:00:00",
          "2020-02-24T09:10:00",
          "2020-02-24T09:20:00",
          "2020-02-24T09:30:00",
          "2020-02-24T09:40:00",
          "2020-02-24T09:50:00",
          "2020-02-24T10:00:00",
          "2020-02-24T10:10:00",
          "2020-02-24T10:20:00",
          "2020-02-24T10:30:00",
          "2020-02-24T10:40:00",
          "2020-02-24T10:50:00",
          "2020-02-24T11:00:00",
          "2020-02-24T11:10:00",
          "2020-02-24T11:20:00",
          "2020-02-24T11:30:00",
          "2020-02-24T11:40:00"
         ],
         "y": [
          636,
          600,
          660,
          744,
          768,
          1128,
          996,
          1176,
          984,
          1044,
          1188,
          996,
          1104,
          1152,
          924,
          948,
          780,
          876,
          792,
          840,
          780,
          804,
          888,
          732,
          864,
          732,
          696,
          960,
          792,
          924,
          876,
          912,
          840,
          900,
          804,
          912,
          840,
          924
         ]
        },
        {
         "marker": {
          "color": "red",
          "line": {
           "color": "black",
           "width": 2
          },
          "size": 15,
          "symbol": "diamond"
         },
         "mode": "markers",
         "name": "Simulation",
         "type": "scatter",
         "x": [
          "2020-02-24T05:30:00",
          "2020-02-24T05:40:00",
          "2020-02-24T05:50:00",
          "2020-02-24T06:00:00",
          "2020-02-24T06:10:00",
          "2020-02-24T06:20:00",
          "2020-02-24T06:30:00",
          "2020-02-24T06:40:00",
          "2020-02-24T06:50:00",
          "2020-02-24T07:00:00",
          "2020-02-24T07:10:00",
          "2020-02-24T07:20:00",
          "2020-02-24T07:30:00",
          "2020-02-24T07:40:00",
          "2020-02-24T07:50:00",
          "2020-02-24T08:00:00",
          "2020-02-24T08:10:00",
          "2020-02-24T08:20:00",
          "2020-02-24T08:30:00",
          "2020-02-24T08:40:00",
          "2020-02-24T08:50:00",
          "2020-02-24T09:00:00",
          "2020-02-24T09:10:00",
          "2020-02-24T09:20:00",
          "2020-02-24T09:30:00",
          "2020-02-24T09:40:00",
          "2020-02-24T09:50:00",
          "2020-02-24T10:00:00",
          "2020-02-24T10:10:00",
          "2020-02-24T10:20:00",
          "2020-02-24T10:30:00",
          "2020-02-24T10:40:00",
          "2020-02-24T10:50:00",
          "2020-02-24T11:00:00",
          "2020-02-24T11:10:00",
          "2020-02-24T11:20:00",
          "2020-02-24T11:30:00",
          "2020-02-24T11:40:00"
         ],
         "y": [
          540,
          582,
          606,
          678,
          828,
          1116,
          1044,
          1122,
          924,
          1182,
          1134,
          1206,
          1032,
          1092,
          1026,
          1044,
          726,
          774,
          936,
          852,
          882,
          816,
          810,
          756,
          744,
          714,
          798,
          870,
          876,
          912,
          912,
          780,
          798,
          972,
          642,
          834,
          918,
          942
         ]
        }
       ],
       "layout": {
        "font": {
         "family": "helvetica",
         "size": 26
        },
        "height": 600,
        "legend": {
         "orientation": "h",
         "x": 1,
         "xanchor": "right",
         "y": 1,
         "yanchor": "top"
        },
        "showlegend": true,
        "template": {
         "data": {
          "bar": [
           {
            "error_x": {
             "color": "rgb(36,36,36)"
            },
            "error_y": {
             "color": "rgb(36,36,36)"
            },
            "marker": {
             "line": {
              "color": "white",
              "width": 0.5
             },
             "pattern": {
              "fillmode": "overlay",
              "size": 10,
              "solidity": 0.2
             }
            },
            "type": "bar"
           }
          ],
          "barpolar": [
           {
            "marker": {
             "line": {
              "color": "white",
              "width": 0.5
             },
             "pattern": {
              "fillmode": "overlay",
              "size": 10,
              "solidity": 0.2
             }
            },
            "type": "barpolar"
           }
          ],
          "carpet": [
           {
            "aaxis": {
             "endlinecolor": "rgb(36,36,36)",
             "gridcolor": "white",
             "linecolor": "white",
             "minorgridcolor": "white",
             "startlinecolor": "rgb(36,36,36)"
            },
            "baxis": {
             "endlinecolor": "rgb(36,36,36)",
             "gridcolor": "white",
             "linecolor": "white",
             "minorgridcolor": "white",
             "startlinecolor": "rgb(36,36,36)"
            },
            "type": "carpet"
           }
          ],
          "choropleth": [
           {
            "colorbar": {
             "outlinewidth": 1,
             "tickcolor": "rgb(36,36,36)",
             "ticks": "outside"
            },
            "type": "choropleth"
           }
          ],
          "contour": [
           {
            "colorbar": {
             "outlinewidth": 1,
             "tickcolor": "rgb(36,36,36)",
             "ticks": "outside"
            },
            "colorscale": [
             [
              0,
              "#440154"
             ],
             [
              0.1111111111111111,
              "#482878"
             ],
             [
              0.2222222222222222,
              "#3e4989"
             ],
             [
              0.3333333333333333,
              "#31688e"
             ],
             [
              0.4444444444444444,
              "#26828e"
             ],
             [
              0.5555555555555556,
              "#1f9e89"
             ],
             [
              0.6666666666666666,
              "#35b779"
             ],
             [
              0.7777777777777778,
              "#6ece58"
             ],
             [
              0.8888888888888888,
              "#b5de2b"
             ],
             [
              1,
              "#fde725"
             ]
            ],
            "type": "contour"
           }
          ],
          "contourcarpet": [
           {
            "colorbar": {
             "outlinewidth": 1,
             "tickcolor": "rgb(36,36,36)",
             "ticks": "outside"
            },
            "type": "contourcarpet"
           }
          ],
          "heatmap": [
           {
            "colorbar": {
             "outlinewidth": 1,
             "tickcolor": "rgb(36,36,36)",
             "ticks": "outside"
            },
            "colorscale": [
             [
              0,
              "#440154"
             ],
             [
              0.1111111111111111,
              "#482878"
             ],
             [
              0.2222222222222222,
              "#3e4989"
             ],
             [
              0.3333333333333333,
              "#31688e"
             ],
             [
              0.4444444444444444,
              "#26828e"
             ],
             [
              0.5555555555555556,
              "#1f9e89"
             ],
             [
              0.6666666666666666,
              "#35b779"
             ],
             [
              0.7777777777777778,
              "#6ece58"
             ],
             [
              0.8888888888888888,
              "#b5de2b"
             ],
             [
              1,
              "#fde725"
             ]
            ],
            "type": "heatmap"
           }
          ],
          "heatmapgl": [
           {
            "colorbar": {
             "outlinewidth": 1,
             "tickcolor": "rgb(36,36,36)",
             "ticks": "outside"
            },
            "colorscale": [
             [
              0,
              "#440154"
             ],
             [
              0.1111111111111111,
              "#482878"
             ],
             [
              0.2222222222222222,
              "#3e4989"
             ],
             [
              0.3333333333333333,
              "#31688e"
             ],
             [
              0.4444444444444444,
              "#26828e"
             ],
             [
              0.5555555555555556,
              "#1f9e89"
             ],
             [
              0.6666666666666666,
              "#35b779"
             ],
             [
              0.7777777777777778,
              "#6ece58"
             ],
             [
              0.8888888888888888,
              "#b5de2b"
             ],
             [
              1,
              "#fde725"
             ]
            ],
            "type": "heatmapgl"
           }
          ],
          "histogram": [
           {
            "marker": {
             "line": {
              "color": "white",
              "width": 0.6
             }
            },
            "type": "histogram"
           }
          ],
          "histogram2d": [
           {
            "colorbar": {
             "outlinewidth": 1,
             "tickcolor": "rgb(36,36,36)",
             "ticks": "outside"
            },
            "colorscale": [
             [
              0,
              "#440154"
             ],
             [
              0.1111111111111111,
              "#482878"
             ],
             [
              0.2222222222222222,
              "#3e4989"
             ],
             [
              0.3333333333333333,
              "#31688e"
             ],
             [
              0.4444444444444444,
              "#26828e"
             ],
             [
              0.5555555555555556,
              "#1f9e89"
             ],
             [
              0.6666666666666666,
              "#35b779"
             ],
             [
              0.7777777777777778,
              "#6ece58"
             ],
             [
              0.8888888888888888,
              "#b5de2b"
             ],
             [
              1,
              "#fde725"
             ]
            ],
            "type": "histogram2d"
           }
          ],
          "histogram2dcontour": [
           {
            "colorbar": {
             "outlinewidth": 1,
             "tickcolor": "rgb(36,36,36)",
             "ticks": "outside"
            },
            "colorscale": [
             [
              0,
              "#440154"
             ],
             [
              0.1111111111111111,
              "#482878"
             ],
             [
              0.2222222222222222,
              "#3e4989"
             ],
             [
              0.3333333333333333,
              "#31688e"
             ],
             [
              0.4444444444444444,
              "#26828e"
             ],
             [
              0.5555555555555556,
              "#1f9e89"
             ],
             [
              0.6666666666666666,
              "#35b779"
             ],
             [
              0.7777777777777778,
              "#6ece58"
             ],
             [
              0.8888888888888888,
              "#b5de2b"
             ],
             [
              1,
              "#fde725"
             ]
            ],
            "type": "histogram2dcontour"
           }
          ],
          "mesh3d": [
           {
            "colorbar": {
             "outlinewidth": 1,
             "tickcolor": "rgb(36,36,36)",
             "ticks": "outside"
            },
            "type": "mesh3d"
           }
          ],
          "parcoords": [
           {
            "line": {
             "colorbar": {
              "outlinewidth": 1,
              "tickcolor": "rgb(36,36,36)",
              "ticks": "outside"
             }
            },
            "type": "parcoords"
           }
          ],
          "pie": [
           {
            "automargin": true,
            "type": "pie"
           }
          ],
          "scatter": [
           {
            "fillpattern": {
             "fillmode": "overlay",
             "size": 10,
             "solidity": 0.2
            },
            "type": "scatter"
           }
          ],
          "scatter3d": [
           {
            "line": {
             "colorbar": {
              "outlinewidth": 1,
              "tickcolor": "rgb(36,36,36)",
              "ticks": "outside"
             }
            },
            "marker": {
             "colorbar": {
              "outlinewidth": 1,
              "tickcolor": "rgb(36,36,36)",
              "ticks": "outside"
             }
            },
            "type": "scatter3d"
           }
          ],
          "scattercarpet": [
           {
            "marker": {
             "colorbar": {
              "outlinewidth": 1,
              "tickcolor": "rgb(36,36,36)",
              "ticks": "outside"
             }
            },
            "type": "scattercarpet"
           }
          ],
          "scattergeo": [
           {
            "marker": {
             "colorbar": {
              "outlinewidth": 1,
              "tickcolor": "rgb(36,36,36)",
              "ticks": "outside"
             }
            },
            "type": "scattergeo"
           }
          ],
          "scattergl": [
           {
            "marker": {
             "colorbar": {
              "outlinewidth": 1,
              "tickcolor": "rgb(36,36,36)",
              "ticks": "outside"
             }
            },
            "type": "scattergl"
           }
          ],
          "scattermapbox": [
           {
            "marker": {
             "colorbar": {
              "outlinewidth": 1,
              "tickcolor": "rgb(36,36,36)",
              "ticks": "outside"
             }
            },
            "type": "scattermapbox"
           }
          ],
          "scatterpolar": [
           {
            "marker": {
             "colorbar": {
              "outlinewidth": 1,
              "tickcolor": "rgb(36,36,36)",
              "ticks": "outside"
             }
            },
            "type": "scatterpolar"
           }
          ],
          "scatterpolargl": [
           {
            "marker": {
             "colorbar": {
              "outlinewidth": 1,
              "tickcolor": "rgb(36,36,36)",
              "ticks": "outside"
             }
            },
            "type": "scatterpolargl"
           }
          ],
          "scatterternary": [
           {
            "marker": {
             "colorbar": {
              "outlinewidth": 1,
              "tickcolor": "rgb(36,36,36)",
              "ticks": "outside"
             }
            },
            "type": "scatterternary"
           }
          ],
          "surface": [
           {
            "colorbar": {
             "outlinewidth": 1,
             "tickcolor": "rgb(36,36,36)",
             "ticks": "outside"
            },
            "colorscale": [
             [
              0,
              "#440154"
             ],
             [
              0.1111111111111111,
              "#482878"
             ],
             [
              0.2222222222222222,
              "#3e4989"
             ],
             [
              0.3333333333333333,
              "#31688e"
             ],
             [
              0.4444444444444444,
              "#26828e"
             ],
             [
              0.5555555555555556,
              "#1f9e89"
             ],
             [
              0.6666666666666666,
              "#35b779"
             ],
             [
              0.7777777777777778,
              "#6ece58"
             ],
             [
              0.8888888888888888,
              "#b5de2b"
             ],
             [
              1,
              "#fde725"
             ]
            ],
            "type": "surface"
           }
          ],
          "table": [
           {
            "cells": {
             "fill": {
              "color": "rgb(237,237,237)"
             },
             "line": {
              "color": "white"
             }
            },
            "header": {
             "fill": {
              "color": "rgb(217,217,217)"
             },
             "line": {
              "color": "white"
             }
            },
            "type": "table"
           }
          ]
         },
         "layout": {
          "annotationdefaults": {
           "arrowhead": 0,
           "arrowwidth": 1
          },
          "autotypenumbers": "strict",
          "coloraxis": {
           "colorbar": {
            "outlinewidth": 1,
            "tickcolor": "rgb(36,36,36)",
            "ticks": "outside"
           }
          },
          "colorscale": {
           "diverging": [
            [
             0,
             "rgb(103,0,31)"
            ],
            [
             0.1,
             "rgb(178,24,43)"
            ],
            [
             0.2,
             "rgb(214,96,77)"
            ],
            [
             0.3,
             "rgb(244,165,130)"
            ],
            [
             0.4,
             "rgb(253,219,199)"
            ],
            [
             0.5,
             "rgb(247,247,247)"
            ],
            [
             0.6,
             "rgb(209,229,240)"
            ],
            [
             0.7,
             "rgb(146,197,222)"
            ],
            [
             0.8,
             "rgb(67,147,195)"
            ],
            [
             0.9,
             "rgb(33,102,172)"
            ],
            [
             1,
             "rgb(5,48,97)"
            ]
           ],
           "sequential": [
            [
             0,
             "#440154"
            ],
            [
             0.1111111111111111,
             "#482878"
            ],
            [
             0.2222222222222222,
             "#3e4989"
            ],
            [
             0.3333333333333333,
             "#31688e"
            ],
            [
             0.4444444444444444,
             "#26828e"
            ],
            [
             0.5555555555555556,
             "#1f9e89"
            ],
            [
             0.6666666666666666,
             "#35b779"
            ],
            [
             0.7777777777777778,
             "#6ece58"
            ],
            [
             0.8888888888888888,
             "#b5de2b"
            ],
            [
             1,
             "#fde725"
            ]
           ],
           "sequentialminus": [
            [
             0,
             "#440154"
            ],
            [
             0.1111111111111111,
             "#482878"
            ],
            [
             0.2222222222222222,
             "#3e4989"
            ],
            [
             0.3333333333333333,
             "#31688e"
            ],
            [
             0.4444444444444444,
             "#26828e"
            ],
            [
             0.5555555555555556,
             "#1f9e89"
            ],
            [
             0.6666666666666666,
             "#35b779"
            ],
            [
             0.7777777777777778,
             "#6ece58"
            ],
            [
             0.8888888888888888,
             "#b5de2b"
            ],
            [
             1,
             "#fde725"
            ]
           ]
          },
          "colorway": [
           "#1F77B4",
           "#FF7F0E",
           "#2CA02C",
           "#D62728",
           "#9467BD",
           "#8C564B",
           "#E377C2",
           "#7F7F7F",
           "#BCBD22",
           "#17BECF"
          ],
          "font": {
           "color": "rgb(36,36,36)"
          },
          "geo": {
           "bgcolor": "white",
           "lakecolor": "white",
           "landcolor": "white",
           "showlakes": true,
           "showland": true,
           "subunitcolor": "white"
          },
          "hoverlabel": {
           "align": "left"
          },
          "hovermode": "closest",
          "mapbox": {
           "style": "light"
          },
          "paper_bgcolor": "white",
          "plot_bgcolor": "white",
          "polar": {
           "angularaxis": {
            "gridcolor": "rgb(232,232,232)",
            "linecolor": "rgb(36,36,36)",
            "showgrid": false,
            "showline": true,
            "ticks": "outside"
           },
           "bgcolor": "white",
           "radialaxis": {
            "gridcolor": "rgb(232,232,232)",
            "linecolor": "rgb(36,36,36)",
            "showgrid": false,
            "showline": true,
            "ticks": "outside"
           }
          },
          "scene": {
           "xaxis": {
            "backgroundcolor": "white",
            "gridcolor": "rgb(232,232,232)",
            "gridwidth": 2,
            "linecolor": "rgb(36,36,36)",
            "showbackground": true,
            "showgrid": false,
            "showline": true,
            "ticks": "outside",
            "zeroline": false,
            "zerolinecolor": "rgb(36,36,36)"
           },
           "yaxis": {
            "backgroundcolor": "white",
            "gridcolor": "rgb(232,232,232)",
            "gridwidth": 2,
            "linecolor": "rgb(36,36,36)",
            "showbackground": true,
            "showgrid": false,
            "showline": true,
            "ticks": "outside",
            "zeroline": false,
            "zerolinecolor": "rgb(36,36,36)"
           },
           "zaxis": {
            "backgroundcolor": "white",
            "gridcolor": "rgb(232,232,232)",
            "gridwidth": 2,
            "linecolor": "rgb(36,36,36)",
            "showbackground": true,
            "showgrid": false,
            "showline": true,
            "ticks": "outside",
            "zeroline": false,
            "zerolinecolor": "rgb(36,36,36)"
           }
          },
          "shapedefaults": {
           "fillcolor": "black",
           "line": {
            "width": 0
           },
           "opacity": 0.3
          },
          "ternary": {
           "aaxis": {
            "gridcolor": "rgb(232,232,232)",
            "linecolor": "rgb(36,36,36)",
            "showgrid": false,
            "showline": true,
            "ticks": "outside"
           },
           "baxis": {
            "gridcolor": "rgb(232,232,232)",
            "linecolor": "rgb(36,36,36)",
            "showgrid": false,
            "showline": true,
            "ticks": "outside"
           },
           "bgcolor": "white",
           "caxis": {
            "gridcolor": "rgb(232,232,232)",
            "linecolor": "rgb(36,36,36)",
            "showgrid": false,
            "showline": true,
            "ticks": "outside"
           }
          },
          "title": {
           "x": 0.05
          },
          "xaxis": {
           "automargin": true,
           "gridcolor": "rgb(232,232,232)",
           "linecolor": "rgb(36,36,36)",
           "showgrid": false,
           "showline": true,
           "ticks": "outside",
           "title": {
            "standoff": 15
           },
           "zeroline": false,
           "zerolinecolor": "rgb(36,36,36)"
          },
          "yaxis": {
           "automargin": true,
           "gridcolor": "rgb(232,232,232)",
           "linecolor": "rgb(36,36,36)",
           "showgrid": false,
           "showline": true,
           "ticks": "outside",
           "title": {
            "standoff": 15
           },
           "zeroline": false,
           "zerolinecolor": "rgb(36,36,36)"
          }
         }
        },
        "width": 1200,
        "xaxis": {
         "tickangle": 15
        },
        "yaxis": {
         "range": [
          0,
          2000
         ],
         "showgrid": true,
         "title": {
          "text": "Volume [Vehicles/Hour]"
         }
        }
       }
      },
      "text/html": [
       "<div>                            <div id=\"f1e699df-0e5a-4cc1-a120-6c1c3047c505\" class=\"plotly-graph-div\" style=\"height:600px; width:1200px;\"></div>            <script type=\"text/javascript\">                require([\"plotly\"], function(Plotly) {                    window.PLOTLYENV=window.PLOTLYENV || {};                                    if (document.getElementById(\"f1e699df-0e5a-4cc1-a120-6c1c3047c505\")) {                    Plotly.newPlot(                        \"f1e699df-0e5a-4cc1-a120-6c1c3047c505\",                        [{\"line\":{\"color\":\"#ffa600\",\"width\":3},\"name\":\"Criteria I.\",\"x\":[\"2020-02-24T05:30:00\",\"2020-02-24T05:40:00\",\"2020-02-24T05:50:00\",\"2020-02-24T06:00:00\",\"2020-02-24T06:10:00\",\"2020-02-24T06:20:00\",\"2020-02-24T06:30:00\",\"2020-02-24T06:40:00\",\"2020-02-24T06:50:00\",\"2020-02-24T07:00:00\",\"2020-02-24T07:10:00\",\"2020-02-24T07:20:00\",\"2020-02-24T07:30:00\",\"2020-02-24T07:40:00\",\"2020-02-24T07:50:00\",\"2020-02-24T08:00:00\",\"2020-02-24T08:10:00\",\"2020-02-24T08:20:00\",\"2020-02-24T08:30:00\",\"2020-02-24T08:40:00\",\"2020-02-24T08:50:00\",\"2020-02-24T09:00:00\",\"2020-02-24T09:10:00\",\"2020-02-24T09:20:00\",\"2020-02-24T09:30:00\",\"2020-02-24T09:40:00\",\"2020-02-24T09:50:00\",\"2020-02-24T10:00:00\",\"2020-02-24T10:10:00\",\"2020-02-24T10:20:00\",\"2020-02-24T10:30:00\",\"2020-02-24T10:40:00\",\"2020-02-24T10:50:00\",\"2020-02-24T11:00:00\",\"2020-02-24T11:10:00\",\"2020-02-24T11:20:00\",\"2020-02-24T11:30:00\",\"2020-02-24T11:40:00\"],\"y\":[814.1056761478759,819.3993646020999,879.5193598824403,1048.530664389185,1150.488141189031,1560.329254868032,1439.6592464499415,1630.6655985211062,1408.0736128152657,1485.51827365476,1655.4104845615966,1490.3721300264244,1548.2712918820475,1616.393479393037,1331.6566725671405,1304.1152350410634,1132.1457524414627,1273.5067595075593,1132.9884331312176,1209.5936041621985,1112.837926820932,1144.8481151677602,1233.2556313423447,1080.9032329751249,1201.3389412126025,1090.3781076322857,1047.3144603040191,1297.6005168739766,1120.4991365384967,1230.9173727878847,1159.969312419087,1216.3569069079085,1117.0749568632125,1199.1671467359954,1091.4136387468975,1199.6875269474024,1101.9795963786028,1059.2652342010729],\"type\":\"scatter\"},{\"fill\":\"tonexty\",\"line\":{\"color\":\"#ffa600\",\"width\":3},\"name\":\"Criteria I\",\"showlegend\":false,\"x\":[\"2020-02-24T05:30:00\",\"2020-02-24T05:40:00\",\"2020-02-24T05:50:00\",\"2020-02-24T06:00:00\",\"2020-02-24T06:10:00\",\"2020-02-24T06:20:00\",\"2020-02-24T06:30:00\",\"2020-02-24T06:40:00\",\"2020-02-24T06:50:00\",\"2020-02-24T07:00:00\",\"2020-02-24T07:10:00\",\"2020-02-24T07:20:00\",\"2020-02-24T07:30:00\",\"2020-02-24T07:40:00\",\"2020-02-24T07:50:00\",\"2020-02-24T08:00:00\",\"2020-02-24T08:10:00\",\"2020-02-24T08:20:00\",\"2020-02-24T08:30:00\",\"2020-02-24T08:40:00\",\"2020-02-24T08:50:00\",\"2020-02-24T09:00:00\",\"2020-02-24T09:10:00\",\"2020-02-24T09:20:00\",\"2020-02-24T09:30:00\",\"2020-02-24T09:40:00\",\"2020-02-24T09:50:00\",\"2020-02-24T10:00:00\",\"2020-02-24T10:10:00\",\"2020-02-24T10:20:00\",\"2020-02-24T10:30:00\",\"2020-02-24T10:40:00\",\"2020-02-24T10:50:00\",\"2020-02-24T11:00:00\",\"2020-02-24T11:10:00\",\"2020-02-24T11:20:00\",\"2020-02-24T11:30:00\",\"2020-02-24T11:40:00\"],\"y\":[457.8943238521241,380.6006353979001,440.48064011755974,439.4693356108151,385.51185881096904,695.6707451319679,552.3407535500585,721.3344014788938,559.9263871847343,602.4817263452401,720.5895154384035,501.62786997357557,659.7287081179525,687.606520606963,516.3433274328595,591.8847649589366,427.8542475585373,478.4932404924406,451.0115668687824,470.40639583780154,447.1620731790682,463.1518848322399,542.7443686576553,383.096767024875,526.6610587873976,373.6218923677144,344.6855396959808,622.3994831260234,463.5008634615032,617.0826272121153,592.0306875809131,607.6430930920915,562.9250431367875,600.8328532640046,516.5863612531025,624.3124730525976,578.0204036213972,788.7347657989272],\"type\":\"scatter\"},{\"line\":{\"color\":\"#bc5090\",\"width\":3},\"name\":\"Criteria II.\",\"x\":[\"2020-02-24T05:30:00\",\"2020-02-24T05:40:00\",\"2020-02-24T05:50:00\",\"2020-02-24T06:00:00\",\"2020-02-24T06:10:00\",\"2020-02-24T06:20:00\",\"2020-02-24T06:30:00\",\"2020-02-24T06:40:00\",\"2020-02-24T06:50:00\",\"2020-02-24T07:00:00\",\"2020-02-24T07:10:00\",\"2020-02-24T07:20:00\",\"2020-02-24T07:30:00\",\"2020-02-24T07:40:00\",\"2020-02-24T07:50:00\",\"2020-02-24T08:00:00\",\"2020-02-24T08:10:00\",\"2020-02-24T08:20:00\",\"2020-02-24T08:30:00\",\"2020-02-24T08:40:00\",\"2020-02-24T08:50:00\",\"2020-02-24T09:00:00\",\"2020-02-24T09:10:00\",\"2020-02-24T09:20:00\",\"2020-02-24T09:30:00\",\"2020-02-24T09:40:00\",\"2020-02-24T09:50:00\",\"2020-02-24T10:00:00\",\"2020-02-24T10:10:00\",\"2020-02-24T10:20:00\",\"2020-02-24T10:30:00\",\"2020-02-24T10:40:00\",\"2020-02-24T10:50:00\",\"2020-02-24T11:00:00\",\"2020-02-24T11:10:00\",\"2020-02-24T11:20:00\",\"2020-02-24T11:30:00\",\"2020-02-24T11:40:00\"],\"y\":[726.8702429325897,711.938451327602,771.9996734094083,899.3727879536658,963.1470108107301,1348.5761504428735,1222.3567583928273,1407.9722441434214,1200.364088171054,1269.2644253340611,1426.4747370212226,1248.2306785849105,1330.6690264704325,1388.9354486699167,1131.988098248541,1129.6914464495221,959.666200225236,1078.8095711773262,965.9736903730702,1028.5681653888769,949.8152687861897,977.9020995753879,1064.1508323175228,910.0118535587372,1036.1117047003074,914.8459732817784,875.2420715836832,1132.2451616703963,959.6016002747433,1080.5904963203493,1020.8823022546362,1067.2841361775045,981.3647739098024,1052.6362993550997,950.63961160556,1058.7793504833685,973.6630593768381,993.012874592384],\"type\":\"scatter\"},{\"fill\":\"tonexty\",\"line\":{\"color\":\"#bc5090\",\"width\":3},\"name\":\"Criteria II\",\"showlegend\":false,\"x\":[\"2020-02-24T05:30:00\",\"2020-02-24T05:40:00\",\"2020-02-24T05:50:00\",\"2020-02-24T06:00:00\",\"2020-02-24T06:10:00\",\"2020-02-24T06:20:00\",\"2020-02-24T06:30:00\",\"2020-02-24T06:40:00\",\"2020-02-24T06:50:00\",\"2020-02-24T07:00:00\",\"2020-02-24T07:10:00\",\"2020-02-24T07:20:00\",\"2020-02-24T07:30:00\",\"2020-02-24T07:40:00\",\"2020-02-24T07:50:00\",\"2020-02-24T08:00:00\",\"2020-02-24T08:10:00\",\"2020-02-24T08:20:00\",\"2020-02-24T08:30:00\",\"2020-02-24T08:40:00\",\"2020-02-24T08:50:00\",\"2020-02-24T09:00:00\",\"2020-02-24T09:10:00\",\"2020-02-24T09:20:00\",\"2020-02-24T09:30:00\",\"2020-02-24T09:40:00\",\"2020-02-24T09:50:00\",\"2020-02-24T10:00:00\",\"2020-02-24T10:10:00\",\"2020-02-24T10:20:00\",\"2020-02-24T10:30:00\",\"2020-02-24T10:40:00\",\"2020-02-24T10:50:00\",\"2020-02-24T11:00:00\",\"2020-02-24T11:10:00\",\"2020-02-24T11:20:00\",\"2020-02-24T11:30:00\",\"2020-02-24T11:40:00\"],\"y\":[545.1297570674103,488.061548672398,548.0003265905917,588.6272120463342,572.8529891892699,907.4238495571265,769.6432416071727,944.0277558565784,767.6359118289461,818.7355746659389,949.5252629787773,743.7693214150895,877.3309735295676,915.0645513300832,716.0119017514589,766.3085535504779,600.333799774764,673.1904288226738,618.0263096269298,651.4318346111232,610.1847312138103,630.0979004246121,711.8491676824772,553.9881464412628,691.8882952996926,549.1540267182216,516.7579284163168,787.7548383296038,624.3983997252567,767.4095036796507,731.1176977453638,756.7158638224956,698.6352260901976,747.3637006449003,657.36038839444,765.2206495166314,706.3369406231619,854.987125407616],\"type\":\"scatter\"},{\"line\":{\"color\":\"#003f5c\",\"width\":5},\"name\":\"Representative Day\",\"x\":[\"2020-02-24T05:30:00\",\"2020-02-24T05:40:00\",\"2020-02-24T05:50:00\",\"2020-02-24T06:00:00\",\"2020-02-24T06:10:00\",\"2020-02-24T06:20:00\",\"2020-02-24T06:30:00\",\"2020-02-24T06:40:00\",\"2020-02-24T06:50:00\",\"2020-02-24T07:00:00\",\"2020-02-24T07:10:00\",\"2020-02-24T07:20:00\",\"2020-02-24T07:30:00\",\"2020-02-24T07:40:00\",\"2020-02-24T07:50:00\",\"2020-02-24T08:00:00\",\"2020-02-24T08:10:00\",\"2020-02-24T08:20:00\",\"2020-02-24T08:30:00\",\"2020-02-24T08:40:00\",\"2020-02-24T08:50:00\",\"2020-02-24T09:00:00\",\"2020-02-24T09:10:00\",\"2020-02-24T09:20:00\",\"2020-02-24T09:30:00\",\"2020-02-24T09:40:00\",\"2020-02-24T09:50:00\",\"2020-02-24T10:00:00\",\"2020-02-24T10:10:00\",\"2020-02-24T10:20:00\",\"2020-02-24T10:30:00\",\"2020-02-24T10:40:00\",\"2020-02-24T10:50:00\",\"2020-02-24T11:00:00\",\"2020-02-24T11:10:00\",\"2020-02-24T11:20:00\",\"2020-02-24T11:30:00\",\"2020-02-24T11:40:00\"],\"y\":[636.0,600.0,660.0,744.0,768.0,1128.0,996.0,1176.0,984.0,1044.0,1188.0,996.0,1104.0,1152.0,924.0,948.0,780.0,876.0,792.0,840.0,780.0,804.0,888.0,732.0,864.0,732.0,696.0,960.0,792.0,924.0,876.0,912.0,840.0,900.0,804.0,912.0,840.0,924.0],\"type\":\"scatter\"},{\"marker\":{\"color\":\"red\",\"line\":{\"color\":\"black\",\"width\":2},\"size\":15,\"symbol\":\"diamond\"},\"mode\":\"markers\",\"name\":\"Simulation\",\"x\":[\"2020-02-24T05:30:00\",\"2020-02-24T05:40:00\",\"2020-02-24T05:50:00\",\"2020-02-24T06:00:00\",\"2020-02-24T06:10:00\",\"2020-02-24T06:20:00\",\"2020-02-24T06:30:00\",\"2020-02-24T06:40:00\",\"2020-02-24T06:50:00\",\"2020-02-24T07:00:00\",\"2020-02-24T07:10:00\",\"2020-02-24T07:20:00\",\"2020-02-24T07:30:00\",\"2020-02-24T07:40:00\",\"2020-02-24T07:50:00\",\"2020-02-24T08:00:00\",\"2020-02-24T08:10:00\",\"2020-02-24T08:20:00\",\"2020-02-24T08:30:00\",\"2020-02-24T08:40:00\",\"2020-02-24T08:50:00\",\"2020-02-24T09:00:00\",\"2020-02-24T09:10:00\",\"2020-02-24T09:20:00\",\"2020-02-24T09:30:00\",\"2020-02-24T09:40:00\",\"2020-02-24T09:50:00\",\"2020-02-24T10:00:00\",\"2020-02-24T10:10:00\",\"2020-02-24T10:20:00\",\"2020-02-24T10:30:00\",\"2020-02-24T10:40:00\",\"2020-02-24T10:50:00\",\"2020-02-24T11:00:00\",\"2020-02-24T11:10:00\",\"2020-02-24T11:20:00\",\"2020-02-24T11:30:00\",\"2020-02-24T11:40:00\"],\"y\":[540.0,582.0,606.0,678.0,828.0,1116.0,1044.0,1122.0,924.0,1182.0,1134.0,1206.0,1032.0,1092.0,1026.0,1044.0,726.0,774.0,936.0,852.0,882.0,816.0,810.0,756.0,744.0,714.0,798.0,870.0,876.0,912.0,912.0,780.0,798.0,972.0,642.0,834.0,918.0,942.0],\"type\":\"scatter\"}],                        {\"template\":{\"data\":{\"barpolar\":[{\"marker\":{\"line\":{\"color\":\"white\",\"width\":0.5},\"pattern\":{\"fillmode\":\"overlay\",\"size\":10,\"solidity\":0.2}},\"type\":\"barpolar\"}],\"bar\":[{\"error_x\":{\"color\":\"rgb(36,36,36)\"},\"error_y\":{\"color\":\"rgb(36,36,36)\"},\"marker\":{\"line\":{\"color\":\"white\",\"width\":0.5},\"pattern\":{\"fillmode\":\"overlay\",\"size\":10,\"solidity\":0.2}},\"type\":\"bar\"}],\"carpet\":[{\"aaxis\":{\"endlinecolor\":\"rgb(36,36,36)\",\"gridcolor\":\"white\",\"linecolor\":\"white\",\"minorgridcolor\":\"white\",\"startlinecolor\":\"rgb(36,36,36)\"},\"baxis\":{\"endlinecolor\":\"rgb(36,36,36)\",\"gridcolor\":\"white\",\"linecolor\":\"white\",\"minorgridcolor\":\"white\",\"startlinecolor\":\"rgb(36,36,36)\"},\"type\":\"carpet\"}],\"choropleth\":[{\"colorbar\":{\"outlinewidth\":1,\"tickcolor\":\"rgb(36,36,36)\",\"ticks\":\"outside\"},\"type\":\"choropleth\"}],\"contourcarpet\":[{\"colorbar\":{\"outlinewidth\":1,\"tickcolor\":\"rgb(36,36,36)\",\"ticks\":\"outside\"},\"type\":\"contourcarpet\"}],\"contour\":[{\"colorbar\":{\"outlinewidth\":1,\"tickcolor\":\"rgb(36,36,36)\",\"ticks\":\"outside\"},\"colorscale\":[[0.0,\"#440154\"],[0.1111111111111111,\"#482878\"],[0.2222222222222222,\"#3e4989\"],[0.3333333333333333,\"#31688e\"],[0.4444444444444444,\"#26828e\"],[0.5555555555555556,\"#1f9e89\"],[0.6666666666666666,\"#35b779\"],[0.7777777777777778,\"#6ece58\"],[0.8888888888888888,\"#b5de2b\"],[1.0,\"#fde725\"]],\"type\":\"contour\"}],\"heatmapgl\":[{\"colorbar\":{\"outlinewidth\":1,\"tickcolor\":\"rgb(36,36,36)\",\"ticks\":\"outside\"},\"colorscale\":[[0.0,\"#440154\"],[0.1111111111111111,\"#482878\"],[0.2222222222222222,\"#3e4989\"],[0.3333333333333333,\"#31688e\"],[0.4444444444444444,\"#26828e\"],[0.5555555555555556,\"#1f9e89\"],[0.6666666666666666,\"#35b779\"],[0.7777777777777778,\"#6ece58\"],[0.8888888888888888,\"#b5de2b\"],[1.0,\"#fde725\"]],\"type\":\"heatmapgl\"}],\"heatmap\":[{\"colorbar\":{\"outlinewidth\":1,\"tickcolor\":\"rgb(36,36,36)\",\"ticks\":\"outside\"},\"colorscale\":[[0.0,\"#440154\"],[0.1111111111111111,\"#482878\"],[0.2222222222222222,\"#3e4989\"],[0.3333333333333333,\"#31688e\"],[0.4444444444444444,\"#26828e\"],[0.5555555555555556,\"#1f9e89\"],[0.6666666666666666,\"#35b779\"],[0.7777777777777778,\"#6ece58\"],[0.8888888888888888,\"#b5de2b\"],[1.0,\"#fde725\"]],\"type\":\"heatmap\"}],\"histogram2dcontour\":[{\"colorbar\":{\"outlinewidth\":1,\"tickcolor\":\"rgb(36,36,36)\",\"ticks\":\"outside\"},\"colorscale\":[[0.0,\"#440154\"],[0.1111111111111111,\"#482878\"],[0.2222222222222222,\"#3e4989\"],[0.3333333333333333,\"#31688e\"],[0.4444444444444444,\"#26828e\"],[0.5555555555555556,\"#1f9e89\"],[0.6666666666666666,\"#35b779\"],[0.7777777777777778,\"#6ece58\"],[0.8888888888888888,\"#b5de2b\"],[1.0,\"#fde725\"]],\"type\":\"histogram2dcontour\"}],\"histogram2d\":[{\"colorbar\":{\"outlinewidth\":1,\"tickcolor\":\"rgb(36,36,36)\",\"ticks\":\"outside\"},\"colorscale\":[[0.0,\"#440154\"],[0.1111111111111111,\"#482878\"],[0.2222222222222222,\"#3e4989\"],[0.3333333333333333,\"#31688e\"],[0.4444444444444444,\"#26828e\"],[0.5555555555555556,\"#1f9e89\"],[0.6666666666666666,\"#35b779\"],[0.7777777777777778,\"#6ece58\"],[0.8888888888888888,\"#b5de2b\"],[1.0,\"#fde725\"]],\"type\":\"histogram2d\"}],\"histogram\":[{\"marker\":{\"line\":{\"color\":\"white\",\"width\":0.6}},\"type\":\"histogram\"}],\"mesh3d\":[{\"colorbar\":{\"outlinewidth\":1,\"tickcolor\":\"rgb(36,36,36)\",\"ticks\":\"outside\"},\"type\":\"mesh3d\"}],\"parcoords\":[{\"line\":{\"colorbar\":{\"outlinewidth\":1,\"tickcolor\":\"rgb(36,36,36)\",\"ticks\":\"outside\"}},\"type\":\"parcoords\"}],\"pie\":[{\"automargin\":true,\"type\":\"pie\"}],\"scatter3d\":[{\"line\":{\"colorbar\":{\"outlinewidth\":1,\"tickcolor\":\"rgb(36,36,36)\",\"ticks\":\"outside\"}},\"marker\":{\"colorbar\":{\"outlinewidth\":1,\"tickcolor\":\"rgb(36,36,36)\",\"ticks\":\"outside\"}},\"type\":\"scatter3d\"}],\"scattercarpet\":[{\"marker\":{\"colorbar\":{\"outlinewidth\":1,\"tickcolor\":\"rgb(36,36,36)\",\"ticks\":\"outside\"}},\"type\":\"scattercarpet\"}],\"scattergeo\":[{\"marker\":{\"colorbar\":{\"outlinewidth\":1,\"tickcolor\":\"rgb(36,36,36)\",\"ticks\":\"outside\"}},\"type\":\"scattergeo\"}],\"scattergl\":[{\"marker\":{\"colorbar\":{\"outlinewidth\":1,\"tickcolor\":\"rgb(36,36,36)\",\"ticks\":\"outside\"}},\"type\":\"scattergl\"}],\"scattermapbox\":[{\"marker\":{\"colorbar\":{\"outlinewidth\":1,\"tickcolor\":\"rgb(36,36,36)\",\"ticks\":\"outside\"}},\"type\":\"scattermapbox\"}],\"scatterpolargl\":[{\"marker\":{\"colorbar\":{\"outlinewidth\":1,\"tickcolor\":\"rgb(36,36,36)\",\"ticks\":\"outside\"}},\"type\":\"scatterpolargl\"}],\"scatterpolar\":[{\"marker\":{\"colorbar\":{\"outlinewidth\":1,\"tickcolor\":\"rgb(36,36,36)\",\"ticks\":\"outside\"}},\"type\":\"scatterpolar\"}],\"scatter\":[{\"fillpattern\":{\"fillmode\":\"overlay\",\"size\":10,\"solidity\":0.2},\"type\":\"scatter\"}],\"scatterternary\":[{\"marker\":{\"colorbar\":{\"outlinewidth\":1,\"tickcolor\":\"rgb(36,36,36)\",\"ticks\":\"outside\"}},\"type\":\"scatterternary\"}],\"surface\":[{\"colorbar\":{\"outlinewidth\":1,\"tickcolor\":\"rgb(36,36,36)\",\"ticks\":\"outside\"},\"colorscale\":[[0.0,\"#440154\"],[0.1111111111111111,\"#482878\"],[0.2222222222222222,\"#3e4989\"],[0.3333333333333333,\"#31688e\"],[0.4444444444444444,\"#26828e\"],[0.5555555555555556,\"#1f9e89\"],[0.6666666666666666,\"#35b779\"],[0.7777777777777778,\"#6ece58\"],[0.8888888888888888,\"#b5de2b\"],[1.0,\"#fde725\"]],\"type\":\"surface\"}],\"table\":[{\"cells\":{\"fill\":{\"color\":\"rgb(237,237,237)\"},\"line\":{\"color\":\"white\"}},\"header\":{\"fill\":{\"color\":\"rgb(217,217,217)\"},\"line\":{\"color\":\"white\"}},\"type\":\"table\"}]},\"layout\":{\"annotationdefaults\":{\"arrowhead\":0,\"arrowwidth\":1},\"autotypenumbers\":\"strict\",\"coloraxis\":{\"colorbar\":{\"outlinewidth\":1,\"tickcolor\":\"rgb(36,36,36)\",\"ticks\":\"outside\"}},\"colorscale\":{\"diverging\":[[0.0,\"rgb(103,0,31)\"],[0.1,\"rgb(178,24,43)\"],[0.2,\"rgb(214,96,77)\"],[0.3,\"rgb(244,165,130)\"],[0.4,\"rgb(253,219,199)\"],[0.5,\"rgb(247,247,247)\"],[0.6,\"rgb(209,229,240)\"],[0.7,\"rgb(146,197,222)\"],[0.8,\"rgb(67,147,195)\"],[0.9,\"rgb(33,102,172)\"],[1.0,\"rgb(5,48,97)\"]],\"sequential\":[[0.0,\"#440154\"],[0.1111111111111111,\"#482878\"],[0.2222222222222222,\"#3e4989\"],[0.3333333333333333,\"#31688e\"],[0.4444444444444444,\"#26828e\"],[0.5555555555555556,\"#1f9e89\"],[0.6666666666666666,\"#35b779\"],[0.7777777777777778,\"#6ece58\"],[0.8888888888888888,\"#b5de2b\"],[1.0,\"#fde725\"]],\"sequentialminus\":[[0.0,\"#440154\"],[0.1111111111111111,\"#482878\"],[0.2222222222222222,\"#3e4989\"],[0.3333333333333333,\"#31688e\"],[0.4444444444444444,\"#26828e\"],[0.5555555555555556,\"#1f9e89\"],[0.6666666666666666,\"#35b779\"],[0.7777777777777778,\"#6ece58\"],[0.8888888888888888,\"#b5de2b\"],[1.0,\"#fde725\"]]},\"colorway\":[\"#1F77B4\",\"#FF7F0E\",\"#2CA02C\",\"#D62728\",\"#9467BD\",\"#8C564B\",\"#E377C2\",\"#7F7F7F\",\"#BCBD22\",\"#17BECF\"],\"font\":{\"color\":\"rgb(36,36,36)\"},\"geo\":{\"bgcolor\":\"white\",\"lakecolor\":\"white\",\"landcolor\":\"white\",\"showlakes\":true,\"showland\":true,\"subunitcolor\":\"white\"},\"hoverlabel\":{\"align\":\"left\"},\"hovermode\":\"closest\",\"mapbox\":{\"style\":\"light\"},\"paper_bgcolor\":\"white\",\"plot_bgcolor\":\"white\",\"polar\":{\"angularaxis\":{\"gridcolor\":\"rgb(232,232,232)\",\"linecolor\":\"rgb(36,36,36)\",\"showgrid\":false,\"showline\":true,\"ticks\":\"outside\"},\"bgcolor\":\"white\",\"radialaxis\":{\"gridcolor\":\"rgb(232,232,232)\",\"linecolor\":\"rgb(36,36,36)\",\"showgrid\":false,\"showline\":true,\"ticks\":\"outside\"}},\"scene\":{\"xaxis\":{\"backgroundcolor\":\"white\",\"gridcolor\":\"rgb(232,232,232)\",\"gridwidth\":2,\"linecolor\":\"rgb(36,36,36)\",\"showbackground\":true,\"showgrid\":false,\"showline\":true,\"ticks\":\"outside\",\"zeroline\":false,\"zerolinecolor\":\"rgb(36,36,36)\"},\"yaxis\":{\"backgroundcolor\":\"white\",\"gridcolor\":\"rgb(232,232,232)\",\"gridwidth\":2,\"linecolor\":\"rgb(36,36,36)\",\"showbackground\":true,\"showgrid\":false,\"showline\":true,\"ticks\":\"outside\",\"zeroline\":false,\"zerolinecolor\":\"rgb(36,36,36)\"},\"zaxis\":{\"backgroundcolor\":\"white\",\"gridcolor\":\"rgb(232,232,232)\",\"gridwidth\":2,\"linecolor\":\"rgb(36,36,36)\",\"showbackground\":true,\"showgrid\":false,\"showline\":true,\"ticks\":\"outside\",\"zeroline\":false,\"zerolinecolor\":\"rgb(36,36,36)\"}},\"shapedefaults\":{\"fillcolor\":\"black\",\"line\":{\"width\":0},\"opacity\":0.3},\"ternary\":{\"aaxis\":{\"gridcolor\":\"rgb(232,232,232)\",\"linecolor\":\"rgb(36,36,36)\",\"showgrid\":false,\"showline\":true,\"ticks\":\"outside\"},\"baxis\":{\"gridcolor\":\"rgb(232,232,232)\",\"linecolor\":\"rgb(36,36,36)\",\"showgrid\":false,\"showline\":true,\"ticks\":\"outside\"},\"bgcolor\":\"white\",\"caxis\":{\"gridcolor\":\"rgb(232,232,232)\",\"linecolor\":\"rgb(36,36,36)\",\"showgrid\":false,\"showline\":true,\"ticks\":\"outside\"}},\"title\":{\"x\":0.05},\"xaxis\":{\"automargin\":true,\"gridcolor\":\"rgb(232,232,232)\",\"linecolor\":\"rgb(36,36,36)\",\"showgrid\":false,\"showline\":true,\"ticks\":\"outside\",\"title\":{\"standoff\":15},\"zeroline\":false,\"zerolinecolor\":\"rgb(36,36,36)\"},\"yaxis\":{\"automargin\":true,\"gridcolor\":\"rgb(232,232,232)\",\"linecolor\":\"rgb(36,36,36)\",\"showgrid\":false,\"showline\":true,\"ticks\":\"outside\",\"title\":{\"standoff\":15},\"zeroline\":false,\"zerolinecolor\":\"rgb(36,36,36)\"}}},\"yaxis\":{\"title\":{\"text\":\"Volume [Vehicles/Hour]\"},\"showgrid\":true,\"range\":[0,2000]},\"font\":{\"family\":\"helvetica\",\"size\":26},\"legend\":{\"yanchor\":\"top\",\"y\":1.0,\"xanchor\":\"right\",\"x\":1,\"orientation\":\"h\"},\"xaxis\":{\"tickangle\":15},\"height\":600,\"width\":1200,\"showlegend\":true},                        {\"responsive\": true}                    ).then(function(){\n",
       "                            \n",
       "var gd = document.getElementById('f1e699df-0e5a-4cc1-a120-6c1c3047c505');\n",
       "var x = new MutationObserver(function (mutations, observer) {{\n",
       "        var display = window.getComputedStyle(gd).display;\n",
       "        if (!display || display === 'none') {{\n",
       "            console.log([gd, 'removed!']);\n",
       "            Plotly.purge(gd);\n",
       "            observer.disconnect();\n",
       "        }}\n",
       "}});\n",
       "\n",
       "// Listen for the removal of the full notebook cells\n",
       "var notebookContainer = gd.closest('#notebook-container');\n",
       "if (notebookContainer) {{\n",
       "    x.observe(notebookContainer, {childList: true});\n",
       "}}\n",
       "\n",
       "// Listen for the clearing of the current output cell\n",
       "var outputEl = gd.closest('.output');\n",
       "if (outputEl) {{\n",
       "    x.observe(outputEl, {childList: true});\n",
       "}}\n",
       "\n",
       "                        })                };                });            </script>        </div>"
      ]
     },
     "metadata": {},
     "output_type": "display_data"
    },
    {
     "name": "stdout",
     "output_type": "stream",
     "text": [
      "{63082004-EB.png/TL3-EB},%\n"
     ]
    },
    {
     "data": {
      "application/vnd.plotly.v1+json": {
       "config": {
        "plotlyServerURL": "https://plot.ly"
       },
       "data": [
        {
         "line": {
          "color": "#ffa600",
          "width": 3
         },
         "name": "Criteria I.",
         "type": "scatter",
         "x": [
          "2020-02-24T05:30:00",
          "2020-02-24T05:40:00",
          "2020-02-24T05:50:00",
          "2020-02-24T06:00:00",
          "2020-02-24T06:10:00",
          "2020-02-24T06:20:00",
          "2020-02-24T06:30:00",
          "2020-02-24T06:40:00",
          "2020-02-24T06:50:00",
          "2020-02-24T07:00:00",
          "2020-02-24T07:10:00",
          "2020-02-24T07:20:00",
          "2020-02-24T07:30:00",
          "2020-02-24T07:40:00",
          "2020-02-24T07:50:00",
          "2020-02-24T08:00:00",
          "2020-02-24T08:10:00",
          "2020-02-24T08:20:00",
          "2020-02-24T08:30:00",
          "2020-02-24T08:40:00",
          "2020-02-24T08:50:00",
          "2020-02-24T09:00:00",
          "2020-02-24T09:10:00",
          "2020-02-24T09:20:00",
          "2020-02-24T09:30:00",
          "2020-02-24T09:40:00",
          "2020-02-24T09:50:00",
          "2020-02-24T10:00:00",
          "2020-02-24T10:10:00",
          "2020-02-24T10:20:00",
          "2020-02-24T10:30:00",
          "2020-02-24T10:40:00",
          "2020-02-24T10:50:00",
          "2020-02-24T11:00:00",
          "2020-02-24T11:10:00",
          "2020-02-24T11:20:00",
          "2020-02-24T11:30:00",
          "2020-02-24T11:40:00"
         ],
         "y": [
          123.96094665496526,
          129.3028379862252,
          81.69164985328143,
          57.97694979611612,
          58.89370655783167,
          76.3433680700028,
          88.93437491773109,
          82.32297828383848,
          109.08271146073488,
          131.09247337081737,
          120.94883150076137,
          154.44927500347418,
          183.53835550188182,
          147.78812927819598,
          103.094816424945,
          104.30384263214663,
          101.31570501519755,
          135.65149153385323,
          101.68050139499039,
          67.14324143987085,
          111.96201977298873,
          111.8718738615361,
          114.94521161275227,
          138.13390453055212,
          108.86608954412922,
          107.64513885777097,
          108.70799446031255,
          119.53737952594464,
          159.51072189310824,
          105.37787419227251,
          145.61143659318805,
          127.22924665376803,
          115.4310024512763,
          110.43406743016871,
          129.29809487171434,
          117.55156351103601,
          123.8008884352175,
          113.65460107602992
         ]
        },
        {
         "fill": "tonexty",
         "line": {
          "color": "#ffa600",
          "width": 3
         },
         "name": "Criteria I",
         "showlegend": false,
         "type": "scatter",
         "x": [
          "2020-02-24T05:30:00",
          "2020-02-24T05:40:00",
          "2020-02-24T05:50:00",
          "2020-02-24T06:00:00",
          "2020-02-24T06:10:00",
          "2020-02-24T06:20:00",
          "2020-02-24T06:30:00",
          "2020-02-24T06:40:00",
          "2020-02-24T06:50:00",
          "2020-02-24T07:00:00",
          "2020-02-24T07:10:00",
          "2020-02-24T07:20:00",
          "2020-02-24T07:30:00",
          "2020-02-24T07:40:00",
          "2020-02-24T07:50:00",
          "2020-02-24T08:00:00",
          "2020-02-24T08:10:00",
          "2020-02-24T08:20:00",
          "2020-02-24T08:30:00",
          "2020-02-24T08:40:00",
          "2020-02-24T08:50:00",
          "2020-02-24T09:00:00",
          "2020-02-24T09:10:00",
          "2020-02-24T09:20:00",
          "2020-02-24T09:30:00",
          "2020-02-24T09:40:00",
          "2020-02-24T09:50:00",
          "2020-02-24T10:00:00",
          "2020-02-24T10:10:00",
          "2020-02-24T10:20:00",
          "2020-02-24T10:30:00",
          "2020-02-24T10:40:00",
          "2020-02-24T10:50:00",
          "2020-02-24T11:00:00",
          "2020-02-24T11:10:00",
          "2020-02-24T11:20:00",
          "2020-02-24T11:30:00",
          "2020-02-24T11:40:00"
         ],
         "y": [
          20.039053345034745,
          14.697162013774808,
          -21.691649853281426,
          -9.976949796116124,
          -10.89370655783167,
          -28.343368070002796,
          -4.934374917731091,
          -22.32297828383848,
          -1.0827114607348847,
          24.907526629182627,
          -12.948831500761372,
          25.550724996525815,
          20.46164449811819,
          -27.78812927819598,
          -19.094816424944995,
          -8.303842632146619,
          -5.315705015197558,
          20.348508466146768,
          -5.680501394990387,
          -31.14324143987084,
          -3.962019772988725,
          -3.871873861536102,
          5.054788387247733,
          29.866095469447878,
          11.133910455870776,
          -11.64513885777098,
          11.292005539687452,
          24.462620474055356,
          32.48927810689177,
          2.6221258077274925,
          34.38856340681195,
          4.77075334623197,
          -7.431002451276299,
          -2.4340674301687173,
          14.701905128285674,
          2.448436488963992,
          8.199111564782498,
          66.34539892397008
         ]
        },
        {
         "line": {
          "color": "#bc5090",
          "width": 3
         },
         "name": "Criteria II.",
         "type": "scatter",
         "x": [
          "2020-02-24T05:30:00",
          "2020-02-24T05:40:00",
          "2020-02-24T05:50:00",
          "2020-02-24T06:00:00",
          "2020-02-24T06:10:00",
          "2020-02-24T06:20:00",
          "2020-02-24T06:30:00",
          "2020-02-24T06:40:00",
          "2020-02-24T06:50:00",
          "2020-02-24T07:00:00",
          "2020-02-24T07:10:00",
          "2020-02-24T07:20:00",
          "2020-02-24T07:30:00",
          "2020-02-24T07:40:00",
          "2020-02-24T07:50:00",
          "2020-02-24T08:00:00",
          "2020-02-24T08:10:00",
          "2020-02-24T08:20:00",
          "2020-02-24T08:30:00",
          "2020-02-24T08:40:00",
          "2020-02-24T08:50:00",
          "2020-02-24T09:00:00",
          "2020-02-24T09:10:00",
          "2020-02-24T09:20:00",
          "2020-02-24T09:30:00",
          "2020-02-24T09:40:00",
          "2020-02-24T09:50:00",
          "2020-02-24T10:00:00",
          "2020-02-24T10:10:00",
          "2020-02-24T10:20:00",
          "2020-02-24T10:30:00",
          "2020-02-24T10:40:00",
          "2020-02-24T10:50:00",
          "2020-02-24T11:00:00",
          "2020-02-24T11:10:00",
          "2020-02-24T11:20:00",
          "2020-02-24T11:30:00",
          "2020-02-24T11:40:00"
         ],
         "y": [
          98.51068706885982,
          101.23614182970672,
          56.373290741470115,
          41.33517846740619,
          41.80291150909779,
          50.70580003571571,
          65.94610965190361,
          56.69539708359106,
          82.10342421466066,
          105.08799661776396,
          88.1575670922252,
          122.88228316503785,
          143.60120178667438,
          104.7898618766306,
          73.17082470660459,
          76.72645032252379,
          75.2018903138763,
          107.41402629278227,
          75.38801091581142,
          43.073082367281046,
          83.57245906785138,
          83.52646625588577,
          88.03327123099606,
          111.61933904620007,
          84.93167833884144,
          78.43119329478111,
          84.85101758179212,
          96.25376506425746,
          128.40342953730013,
          80.21320111850639,
          118.37318193530002,
          97.2394115580449,
          85.34234818942669,
          82.79289154600445,
          101.23372187332363,
          89.36304260767143,
          95.49024920164157,
          102.06867401838261
         ]
        },
        {
         "fill": "tonexty",
         "line": {
          "color": "#bc5090",
          "width": 3
         },
         "name": "Criteria II",
         "showlegend": false,
         "type": "scatter",
         "x": [
          "2020-02-24T05:30:00",
          "2020-02-24T05:40:00",
          "2020-02-24T05:50:00",
          "2020-02-24T06:00:00",
          "2020-02-24T06:10:00",
          "2020-02-24T06:20:00",
          "2020-02-24T06:30:00",
          "2020-02-24T06:40:00",
          "2020-02-24T06:50:00",
          "2020-02-24T07:00:00",
          "2020-02-24T07:10:00",
          "2020-02-24T07:20:00",
          "2020-02-24T07:30:00",
          "2020-02-24T07:40:00",
          "2020-02-24T07:50:00",
          "2020-02-24T08:00:00",
          "2020-02-24T08:10:00",
          "2020-02-24T08:20:00",
          "2020-02-24T08:30:00",
          "2020-02-24T08:40:00",
          "2020-02-24T08:50:00",
          "2020-02-24T09:00:00",
          "2020-02-24T09:10:00",
          "2020-02-24T09:20:00",
          "2020-02-24T09:30:00",
          "2020-02-24T09:40:00",
          "2020-02-24T09:50:00",
          "2020-02-24T10:00:00",
          "2020-02-24T10:10:00",
          "2020-02-24T10:20:00",
          "2020-02-24T10:30:00",
          "2020-02-24T10:40:00",
          "2020-02-24T10:50:00",
          "2020-02-24T11:00:00",
          "2020-02-24T11:10:00",
          "2020-02-24T11:20:00",
          "2020-02-24T11:30:00",
          "2020-02-24T11:40:00"
         ],
         "y": [
          45.48931293114018,
          42.76385817029327,
          3.6267092585298855,
          6.6648215325938125,
          6.19708849090221,
          -2.7058000357157113,
          18.05389034809638,
          3.304602916408939,
          25.896575785339344,
          50.91200338223604,
          19.842432907774807,
          57.11771683496215,
          60.398798213325605,
          15.210138123369397,
          10.829175293395409,
          19.273549677476215,
          20.798109686123695,
          48.58597370721774,
          20.61198908418858,
          -7.073082367281042,
          24.42754093214861,
          24.473533744114235,
          31.966728769003943,
          56.38066095379993,
          35.06832166115856,
          17.568806705218886,
          35.14898241820788,
          47.74623493574253,
          63.59657046269988,
          27.786798881493617,
          61.626818064699975,
          34.760588441955086,
          22.657651810573316,
          25.207108453995552,
          42.76627812667637,
          30.63695739232857,
          36.50975079835842,
          77.93132598161739
         ]
        },
        {
         "line": {
          "color": "#003f5c",
          "width": 5
         },
         "name": "Representative Day",
         "type": "scatter",
         "x": [
          "2020-02-24T05:30:00",
          "2020-02-24T05:40:00",
          "2020-02-24T05:50:00",
          "2020-02-24T06:00:00",
          "2020-02-24T06:10:00",
          "2020-02-24T06:20:00",
          "2020-02-24T06:30:00",
          "2020-02-24T06:40:00",
          "2020-02-24T06:50:00",
          "2020-02-24T07:00:00",
          "2020-02-24T07:10:00",
          "2020-02-24T07:20:00",
          "2020-02-24T07:30:00",
          "2020-02-24T07:40:00",
          "2020-02-24T07:50:00",
          "2020-02-24T08:00:00",
          "2020-02-24T08:10:00",
          "2020-02-24T08:20:00",
          "2020-02-24T08:30:00",
          "2020-02-24T08:40:00",
          "2020-02-24T08:50:00",
          "2020-02-24T09:00:00",
          "2020-02-24T09:10:00",
          "2020-02-24T09:20:00",
          "2020-02-24T09:30:00",
          "2020-02-24T09:40:00",
          "2020-02-24T09:50:00",
          "2020-02-24T10:00:00",
          "2020-02-24T10:10:00",
          "2020-02-24T10:20:00",
          "2020-02-24T10:30:00",
          "2020-02-24T10:40:00",
          "2020-02-24T10:50:00",
          "2020-02-24T11:00:00",
          "2020-02-24T11:10:00",
          "2020-02-24T11:20:00",
          "2020-02-24T11:30:00",
          "2020-02-24T11:40:00"
         ],
         "y": [
          72,
          72,
          30,
          24,
          24,
          24,
          42,
          30,
          54,
          78,
          54,
          90,
          102,
          60,
          42,
          48,
          48,
          78,
          48,
          18,
          54,
          54,
          60,
          84,
          60,
          48,
          60,
          72,
          96,
          54,
          90,
          66,
          54,
          54,
          72,
          60,
          66,
          90
         ]
        },
        {
         "marker": {
          "color": "red",
          "line": {
           "color": "black",
           "width": 2
          },
          "size": 15,
          "symbol": "diamond"
         },
         "mode": "markers",
         "name": "Simulation",
         "type": "scatter",
         "x": [
          "2020-02-24T05:30:00",
          "2020-02-24T05:40:00",
          "2020-02-24T05:50:00",
          "2020-02-24T06:00:00",
          "2020-02-24T06:10:00",
          "2020-02-24T06:20:00",
          "2020-02-24T06:30:00",
          "2020-02-24T06:40:00",
          "2020-02-24T06:50:00",
          "2020-02-24T07:00:00",
          "2020-02-24T07:10:00",
          "2020-02-24T07:20:00",
          "2020-02-24T07:30:00",
          "2020-02-24T07:40:00",
          "2020-02-24T07:50:00",
          "2020-02-24T08:00:00",
          "2020-02-24T08:10:00",
          "2020-02-24T08:20:00",
          "2020-02-24T08:30:00",
          "2020-02-24T08:40:00",
          "2020-02-24T08:50:00",
          "2020-02-24T09:00:00",
          "2020-02-24T09:10:00",
          "2020-02-24T09:20:00",
          "2020-02-24T09:30:00",
          "2020-02-24T09:40:00",
          "2020-02-24T09:50:00",
          "2020-02-24T10:00:00",
          "2020-02-24T10:10:00",
          "2020-02-24T10:20:00",
          "2020-02-24T10:30:00",
          "2020-02-24T10:40:00",
          "2020-02-24T10:50:00",
          "2020-02-24T11:00:00",
          "2020-02-24T11:10:00",
          "2020-02-24T11:20:00",
          "2020-02-24T11:30:00",
          "2020-02-24T11:40:00"
         ],
         "y": [
          96,
          66,
          60,
          12,
          30,
          0,
          54,
          36,
          54,
          48,
          78,
          54,
          108,
          120,
          66,
          42,
          66,
          156,
          36,
          6,
          36,
          36,
          54,
          36,
          42,
          30,
          108,
          42,
          66,
          36,
          60,
          84,
          54,
          30,
          72,
          60,
          48,
          84
         ]
        }
       ],
       "layout": {
        "font": {
         "family": "helvetica",
         "size": 26
        },
        "height": 600,
        "legend": {
         "orientation": "h",
         "x": 1,
         "xanchor": "right",
         "y": 1,
         "yanchor": "top"
        },
        "showlegend": true,
        "template": {
         "data": {
          "bar": [
           {
            "error_x": {
             "color": "rgb(36,36,36)"
            },
            "error_y": {
             "color": "rgb(36,36,36)"
            },
            "marker": {
             "line": {
              "color": "white",
              "width": 0.5
             },
             "pattern": {
              "fillmode": "overlay",
              "size": 10,
              "solidity": 0.2
             }
            },
            "type": "bar"
           }
          ],
          "barpolar": [
           {
            "marker": {
             "line": {
              "color": "white",
              "width": 0.5
             },
             "pattern": {
              "fillmode": "overlay",
              "size": 10,
              "solidity": 0.2
             }
            },
            "type": "barpolar"
           }
          ],
          "carpet": [
           {
            "aaxis": {
             "endlinecolor": "rgb(36,36,36)",
             "gridcolor": "white",
             "linecolor": "white",
             "minorgridcolor": "white",
             "startlinecolor": "rgb(36,36,36)"
            },
            "baxis": {
             "endlinecolor": "rgb(36,36,36)",
             "gridcolor": "white",
             "linecolor": "white",
             "minorgridcolor": "white",
             "startlinecolor": "rgb(36,36,36)"
            },
            "type": "carpet"
           }
          ],
          "choropleth": [
           {
            "colorbar": {
             "outlinewidth": 1,
             "tickcolor": "rgb(36,36,36)",
             "ticks": "outside"
            },
            "type": "choropleth"
           }
          ],
          "contour": [
           {
            "colorbar": {
             "outlinewidth": 1,
             "tickcolor": "rgb(36,36,36)",
             "ticks": "outside"
            },
            "colorscale": [
             [
              0,
              "#440154"
             ],
             [
              0.1111111111111111,
              "#482878"
             ],
             [
              0.2222222222222222,
              "#3e4989"
             ],
             [
              0.3333333333333333,
              "#31688e"
             ],
             [
              0.4444444444444444,
              "#26828e"
             ],
             [
              0.5555555555555556,
              "#1f9e89"
             ],
             [
              0.6666666666666666,
              "#35b779"
             ],
             [
              0.7777777777777778,
              "#6ece58"
             ],
             [
              0.8888888888888888,
              "#b5de2b"
             ],
             [
              1,
              "#fde725"
             ]
            ],
            "type": "contour"
           }
          ],
          "contourcarpet": [
           {
            "colorbar": {
             "outlinewidth": 1,
             "tickcolor": "rgb(36,36,36)",
             "ticks": "outside"
            },
            "type": "contourcarpet"
           }
          ],
          "heatmap": [
           {
            "colorbar": {
             "outlinewidth": 1,
             "tickcolor": "rgb(36,36,36)",
             "ticks": "outside"
            },
            "colorscale": [
             [
              0,
              "#440154"
             ],
             [
              0.1111111111111111,
              "#482878"
             ],
             [
              0.2222222222222222,
              "#3e4989"
             ],
             [
              0.3333333333333333,
              "#31688e"
             ],
             [
              0.4444444444444444,
              "#26828e"
             ],
             [
              0.5555555555555556,
              "#1f9e89"
             ],
             [
              0.6666666666666666,
              "#35b779"
             ],
             [
              0.7777777777777778,
              "#6ece58"
             ],
             [
              0.8888888888888888,
              "#b5de2b"
             ],
             [
              1,
              "#fde725"
             ]
            ],
            "type": "heatmap"
           }
          ],
          "heatmapgl": [
           {
            "colorbar": {
             "outlinewidth": 1,
             "tickcolor": "rgb(36,36,36)",
             "ticks": "outside"
            },
            "colorscale": [
             [
              0,
              "#440154"
             ],
             [
              0.1111111111111111,
              "#482878"
             ],
             [
              0.2222222222222222,
              "#3e4989"
             ],
             [
              0.3333333333333333,
              "#31688e"
             ],
             [
              0.4444444444444444,
              "#26828e"
             ],
             [
              0.5555555555555556,
              "#1f9e89"
             ],
             [
              0.6666666666666666,
              "#35b779"
             ],
             [
              0.7777777777777778,
              "#6ece58"
             ],
             [
              0.8888888888888888,
              "#b5de2b"
             ],
             [
              1,
              "#fde725"
             ]
            ],
            "type": "heatmapgl"
           }
          ],
          "histogram": [
           {
            "marker": {
             "line": {
              "color": "white",
              "width": 0.6
             }
            },
            "type": "histogram"
           }
          ],
          "histogram2d": [
           {
            "colorbar": {
             "outlinewidth": 1,
             "tickcolor": "rgb(36,36,36)",
             "ticks": "outside"
            },
            "colorscale": [
             [
              0,
              "#440154"
             ],
             [
              0.1111111111111111,
              "#482878"
             ],
             [
              0.2222222222222222,
              "#3e4989"
             ],
             [
              0.3333333333333333,
              "#31688e"
             ],
             [
              0.4444444444444444,
              "#26828e"
             ],
             [
              0.5555555555555556,
              "#1f9e89"
             ],
             [
              0.6666666666666666,
              "#35b779"
             ],
             [
              0.7777777777777778,
              "#6ece58"
             ],
             [
              0.8888888888888888,
              "#b5de2b"
             ],
             [
              1,
              "#fde725"
             ]
            ],
            "type": "histogram2d"
           }
          ],
          "histogram2dcontour": [
           {
            "colorbar": {
             "outlinewidth": 1,
             "tickcolor": "rgb(36,36,36)",
             "ticks": "outside"
            },
            "colorscale": [
             [
              0,
              "#440154"
             ],
             [
              0.1111111111111111,
              "#482878"
             ],
             [
              0.2222222222222222,
              "#3e4989"
             ],
             [
              0.3333333333333333,
              "#31688e"
             ],
             [
              0.4444444444444444,
              "#26828e"
             ],
             [
              0.5555555555555556,
              "#1f9e89"
             ],
             [
              0.6666666666666666,
              "#35b779"
             ],
             [
              0.7777777777777778,
              "#6ece58"
             ],
             [
              0.8888888888888888,
              "#b5de2b"
             ],
             [
              1,
              "#fde725"
             ]
            ],
            "type": "histogram2dcontour"
           }
          ],
          "mesh3d": [
           {
            "colorbar": {
             "outlinewidth": 1,
             "tickcolor": "rgb(36,36,36)",
             "ticks": "outside"
            },
            "type": "mesh3d"
           }
          ],
          "parcoords": [
           {
            "line": {
             "colorbar": {
              "outlinewidth": 1,
              "tickcolor": "rgb(36,36,36)",
              "ticks": "outside"
             }
            },
            "type": "parcoords"
           }
          ],
          "pie": [
           {
            "automargin": true,
            "type": "pie"
           }
          ],
          "scatter": [
           {
            "fillpattern": {
             "fillmode": "overlay",
             "size": 10,
             "solidity": 0.2
            },
            "type": "scatter"
           }
          ],
          "scatter3d": [
           {
            "line": {
             "colorbar": {
              "outlinewidth": 1,
              "tickcolor": "rgb(36,36,36)",
              "ticks": "outside"
             }
            },
            "marker": {
             "colorbar": {
              "outlinewidth": 1,
              "tickcolor": "rgb(36,36,36)",
              "ticks": "outside"
             }
            },
            "type": "scatter3d"
           }
          ],
          "scattercarpet": [
           {
            "marker": {
             "colorbar": {
              "outlinewidth": 1,
              "tickcolor": "rgb(36,36,36)",
              "ticks": "outside"
             }
            },
            "type": "scattercarpet"
           }
          ],
          "scattergeo": [
           {
            "marker": {
             "colorbar": {
              "outlinewidth": 1,
              "tickcolor": "rgb(36,36,36)",
              "ticks": "outside"
             }
            },
            "type": "scattergeo"
           }
          ],
          "scattergl": [
           {
            "marker": {
             "colorbar": {
              "outlinewidth": 1,
              "tickcolor": "rgb(36,36,36)",
              "ticks": "outside"
             }
            },
            "type": "scattergl"
           }
          ],
          "scattermapbox": [
           {
            "marker": {
             "colorbar": {
              "outlinewidth": 1,
              "tickcolor": "rgb(36,36,36)",
              "ticks": "outside"
             }
            },
            "type": "scattermapbox"
           }
          ],
          "scatterpolar": [
           {
            "marker": {
             "colorbar": {
              "outlinewidth": 1,
              "tickcolor": "rgb(36,36,36)",
              "ticks": "outside"
             }
            },
            "type": "scatterpolar"
           }
          ],
          "scatterpolargl": [
           {
            "marker": {
             "colorbar": {
              "outlinewidth": 1,
              "tickcolor": "rgb(36,36,36)",
              "ticks": "outside"
             }
            },
            "type": "scatterpolargl"
           }
          ],
          "scatterternary": [
           {
            "marker": {
             "colorbar": {
              "outlinewidth": 1,
              "tickcolor": "rgb(36,36,36)",
              "ticks": "outside"
             }
            },
            "type": "scatterternary"
           }
          ],
          "surface": [
           {
            "colorbar": {
             "outlinewidth": 1,
             "tickcolor": "rgb(36,36,36)",
             "ticks": "outside"
            },
            "colorscale": [
             [
              0,
              "#440154"
             ],
             [
              0.1111111111111111,
              "#482878"
             ],
             [
              0.2222222222222222,
              "#3e4989"
             ],
             [
              0.3333333333333333,
              "#31688e"
             ],
             [
              0.4444444444444444,
              "#26828e"
             ],
             [
              0.5555555555555556,
              "#1f9e89"
             ],
             [
              0.6666666666666666,
              "#35b779"
             ],
             [
              0.7777777777777778,
              "#6ece58"
             ],
             [
              0.8888888888888888,
              "#b5de2b"
             ],
             [
              1,
              "#fde725"
             ]
            ],
            "type": "surface"
           }
          ],
          "table": [
           {
            "cells": {
             "fill": {
              "color": "rgb(237,237,237)"
             },
             "line": {
              "color": "white"
             }
            },
            "header": {
             "fill": {
              "color": "rgb(217,217,217)"
             },
             "line": {
              "color": "white"
             }
            },
            "type": "table"
           }
          ]
         },
         "layout": {
          "annotationdefaults": {
           "arrowhead": 0,
           "arrowwidth": 1
          },
          "autotypenumbers": "strict",
          "coloraxis": {
           "colorbar": {
            "outlinewidth": 1,
            "tickcolor": "rgb(36,36,36)",
            "ticks": "outside"
           }
          },
          "colorscale": {
           "diverging": [
            [
             0,
             "rgb(103,0,31)"
            ],
            [
             0.1,
             "rgb(178,24,43)"
            ],
            [
             0.2,
             "rgb(214,96,77)"
            ],
            [
             0.3,
             "rgb(244,165,130)"
            ],
            [
             0.4,
             "rgb(253,219,199)"
            ],
            [
             0.5,
             "rgb(247,247,247)"
            ],
            [
             0.6,
             "rgb(209,229,240)"
            ],
            [
             0.7,
             "rgb(146,197,222)"
            ],
            [
             0.8,
             "rgb(67,147,195)"
            ],
            [
             0.9,
             "rgb(33,102,172)"
            ],
            [
             1,
             "rgb(5,48,97)"
            ]
           ],
           "sequential": [
            [
             0,
             "#440154"
            ],
            [
             0.1111111111111111,
             "#482878"
            ],
            [
             0.2222222222222222,
             "#3e4989"
            ],
            [
             0.3333333333333333,
             "#31688e"
            ],
            [
             0.4444444444444444,
             "#26828e"
            ],
            [
             0.5555555555555556,
             "#1f9e89"
            ],
            [
             0.6666666666666666,
             "#35b779"
            ],
            [
             0.7777777777777778,
             "#6ece58"
            ],
            [
             0.8888888888888888,
             "#b5de2b"
            ],
            [
             1,
             "#fde725"
            ]
           ],
           "sequentialminus": [
            [
             0,
             "#440154"
            ],
            [
             0.1111111111111111,
             "#482878"
            ],
            [
             0.2222222222222222,
             "#3e4989"
            ],
            [
             0.3333333333333333,
             "#31688e"
            ],
            [
             0.4444444444444444,
             "#26828e"
            ],
            [
             0.5555555555555556,
             "#1f9e89"
            ],
            [
             0.6666666666666666,
             "#35b779"
            ],
            [
             0.7777777777777778,
             "#6ece58"
            ],
            [
             0.8888888888888888,
             "#b5de2b"
            ],
            [
             1,
             "#fde725"
            ]
           ]
          },
          "colorway": [
           "#1F77B4",
           "#FF7F0E",
           "#2CA02C",
           "#D62728",
           "#9467BD",
           "#8C564B",
           "#E377C2",
           "#7F7F7F",
           "#BCBD22",
           "#17BECF"
          ],
          "font": {
           "color": "rgb(36,36,36)"
          },
          "geo": {
           "bgcolor": "white",
           "lakecolor": "white",
           "landcolor": "white",
           "showlakes": true,
           "showland": true,
           "subunitcolor": "white"
          },
          "hoverlabel": {
           "align": "left"
          },
          "hovermode": "closest",
          "mapbox": {
           "style": "light"
          },
          "paper_bgcolor": "white",
          "plot_bgcolor": "white",
          "polar": {
           "angularaxis": {
            "gridcolor": "rgb(232,232,232)",
            "linecolor": "rgb(36,36,36)",
            "showgrid": false,
            "showline": true,
            "ticks": "outside"
           },
           "bgcolor": "white",
           "radialaxis": {
            "gridcolor": "rgb(232,232,232)",
            "linecolor": "rgb(36,36,36)",
            "showgrid": false,
            "showline": true,
            "ticks": "outside"
           }
          },
          "scene": {
           "xaxis": {
            "backgroundcolor": "white",
            "gridcolor": "rgb(232,232,232)",
            "gridwidth": 2,
            "linecolor": "rgb(36,36,36)",
            "showbackground": true,
            "showgrid": false,
            "showline": true,
            "ticks": "outside",
            "zeroline": false,
            "zerolinecolor": "rgb(36,36,36)"
           },
           "yaxis": {
            "backgroundcolor": "white",
            "gridcolor": "rgb(232,232,232)",
            "gridwidth": 2,
            "linecolor": "rgb(36,36,36)",
            "showbackground": true,
            "showgrid": false,
            "showline": true,
            "ticks": "outside",
            "zeroline": false,
            "zerolinecolor": "rgb(36,36,36)"
           },
           "zaxis": {
            "backgroundcolor": "white",
            "gridcolor": "rgb(232,232,232)",
            "gridwidth": 2,
            "linecolor": "rgb(36,36,36)",
            "showbackground": true,
            "showgrid": false,
            "showline": true,
            "ticks": "outside",
            "zeroline": false,
            "zerolinecolor": "rgb(36,36,36)"
           }
          },
          "shapedefaults": {
           "fillcolor": "black",
           "line": {
            "width": 0
           },
           "opacity": 0.3
          },
          "ternary": {
           "aaxis": {
            "gridcolor": "rgb(232,232,232)",
            "linecolor": "rgb(36,36,36)",
            "showgrid": false,
            "showline": true,
            "ticks": "outside"
           },
           "baxis": {
            "gridcolor": "rgb(232,232,232)",
            "linecolor": "rgb(36,36,36)",
            "showgrid": false,
            "showline": true,
            "ticks": "outside"
           },
           "bgcolor": "white",
           "caxis": {
            "gridcolor": "rgb(232,232,232)",
            "linecolor": "rgb(36,36,36)",
            "showgrid": false,
            "showline": true,
            "ticks": "outside"
           }
          },
          "title": {
           "x": 0.05
          },
          "xaxis": {
           "automargin": true,
           "gridcolor": "rgb(232,232,232)",
           "linecolor": "rgb(36,36,36)",
           "showgrid": false,
           "showline": true,
           "ticks": "outside",
           "title": {
            "standoff": 15
           },
           "zeroline": false,
           "zerolinecolor": "rgb(36,36,36)"
          },
          "yaxis": {
           "automargin": true,
           "gridcolor": "rgb(232,232,232)",
           "linecolor": "rgb(36,36,36)",
           "showgrid": false,
           "showline": true,
           "ticks": "outside",
           "title": {
            "standoff": 15
           },
           "zeroline": false,
           "zerolinecolor": "rgb(36,36,36)"
          }
         }
        },
        "width": 1200,
        "xaxis": {
         "tickangle": 15
        },
        "yaxis": {
         "range": [
          0,
          250
         ],
         "showgrid": true,
         "title": {
          "text": "Volume [Vehicles/Hour]"
         }
        }
       }
      },
      "text/html": [
       "<div>                            <div id=\"55710619-58f0-4e82-9ce1-3ec49e0dfb94\" class=\"plotly-graph-div\" style=\"height:600px; width:1200px;\"></div>            <script type=\"text/javascript\">                require([\"plotly\"], function(Plotly) {                    window.PLOTLYENV=window.PLOTLYENV || {};                                    if (document.getElementById(\"55710619-58f0-4e82-9ce1-3ec49e0dfb94\")) {                    Plotly.newPlot(                        \"55710619-58f0-4e82-9ce1-3ec49e0dfb94\",                        [{\"line\":{\"color\":\"#ffa600\",\"width\":3},\"name\":\"Criteria I.\",\"x\":[\"2020-02-24T05:30:00\",\"2020-02-24T05:40:00\",\"2020-02-24T05:50:00\",\"2020-02-24T06:00:00\",\"2020-02-24T06:10:00\",\"2020-02-24T06:20:00\",\"2020-02-24T06:30:00\",\"2020-02-24T06:40:00\",\"2020-02-24T06:50:00\",\"2020-02-24T07:00:00\",\"2020-02-24T07:10:00\",\"2020-02-24T07:20:00\",\"2020-02-24T07:30:00\",\"2020-02-24T07:40:00\",\"2020-02-24T07:50:00\",\"2020-02-24T08:00:00\",\"2020-02-24T08:10:00\",\"2020-02-24T08:20:00\",\"2020-02-24T08:30:00\",\"2020-02-24T08:40:00\",\"2020-02-24T08:50:00\",\"2020-02-24T09:00:00\",\"2020-02-24T09:10:00\",\"2020-02-24T09:20:00\",\"2020-02-24T09:30:00\",\"2020-02-24T09:40:00\",\"2020-02-24T09:50:00\",\"2020-02-24T10:00:00\",\"2020-02-24T10:10:00\",\"2020-02-24T10:20:00\",\"2020-02-24T10:30:00\",\"2020-02-24T10:40:00\",\"2020-02-24T10:50:00\",\"2020-02-24T11:00:00\",\"2020-02-24T11:10:00\",\"2020-02-24T11:20:00\",\"2020-02-24T11:30:00\",\"2020-02-24T11:40:00\"],\"y\":[123.96094665496526,129.3028379862252,81.69164985328143,57.97694979611612,58.89370655783167,76.3433680700028,88.93437491773109,82.32297828383848,109.08271146073488,131.09247337081737,120.94883150076137,154.44927500347418,183.53835550188182,147.78812927819598,103.094816424945,104.30384263214663,101.31570501519755,135.65149153385323,101.68050139499039,67.14324143987085,111.96201977298873,111.8718738615361,114.94521161275227,138.13390453055212,108.86608954412922,107.64513885777097,108.70799446031255,119.53737952594464,159.51072189310824,105.37787419227251,145.61143659318805,127.22924665376803,115.4310024512763,110.43406743016871,129.29809487171434,117.55156351103601,123.8008884352175,113.65460107602992],\"type\":\"scatter\"},{\"fill\":\"tonexty\",\"line\":{\"color\":\"#ffa600\",\"width\":3},\"name\":\"Criteria I\",\"showlegend\":false,\"x\":[\"2020-02-24T05:30:00\",\"2020-02-24T05:40:00\",\"2020-02-24T05:50:00\",\"2020-02-24T06:00:00\",\"2020-02-24T06:10:00\",\"2020-02-24T06:20:00\",\"2020-02-24T06:30:00\",\"2020-02-24T06:40:00\",\"2020-02-24T06:50:00\",\"2020-02-24T07:00:00\",\"2020-02-24T07:10:00\",\"2020-02-24T07:20:00\",\"2020-02-24T07:30:00\",\"2020-02-24T07:40:00\",\"2020-02-24T07:50:00\",\"2020-02-24T08:00:00\",\"2020-02-24T08:10:00\",\"2020-02-24T08:20:00\",\"2020-02-24T08:30:00\",\"2020-02-24T08:40:00\",\"2020-02-24T08:50:00\",\"2020-02-24T09:00:00\",\"2020-02-24T09:10:00\",\"2020-02-24T09:20:00\",\"2020-02-24T09:30:00\",\"2020-02-24T09:40:00\",\"2020-02-24T09:50:00\",\"2020-02-24T10:00:00\",\"2020-02-24T10:10:00\",\"2020-02-24T10:20:00\",\"2020-02-24T10:30:00\",\"2020-02-24T10:40:00\",\"2020-02-24T10:50:00\",\"2020-02-24T11:00:00\",\"2020-02-24T11:10:00\",\"2020-02-24T11:20:00\",\"2020-02-24T11:30:00\",\"2020-02-24T11:40:00\"],\"y\":[20.039053345034745,14.697162013774808,-21.691649853281426,-9.976949796116124,-10.89370655783167,-28.343368070002796,-4.934374917731091,-22.32297828383848,-1.0827114607348847,24.907526629182627,-12.948831500761372,25.550724996525815,20.46164449811819,-27.78812927819598,-19.094816424944995,-8.303842632146619,-5.315705015197558,20.348508466146768,-5.680501394990387,-31.14324143987084,-3.962019772988725,-3.871873861536102,5.054788387247733,29.866095469447878,11.133910455870776,-11.64513885777098,11.292005539687452,24.462620474055356,32.48927810689177,2.6221258077274925,34.38856340681195,4.77075334623197,-7.431002451276299,-2.4340674301687173,14.701905128285674,2.448436488963992,8.199111564782498,66.34539892397008],\"type\":\"scatter\"},{\"line\":{\"color\":\"#bc5090\",\"width\":3},\"name\":\"Criteria II.\",\"x\":[\"2020-02-24T05:30:00\",\"2020-02-24T05:40:00\",\"2020-02-24T05:50:00\",\"2020-02-24T06:00:00\",\"2020-02-24T06:10:00\",\"2020-02-24T06:20:00\",\"2020-02-24T06:30:00\",\"2020-02-24T06:40:00\",\"2020-02-24T06:50:00\",\"2020-02-24T07:00:00\",\"2020-02-24T07:10:00\",\"2020-02-24T07:20:00\",\"2020-02-24T07:30:00\",\"2020-02-24T07:40:00\",\"2020-02-24T07:50:00\",\"2020-02-24T08:00:00\",\"2020-02-24T08:10:00\",\"2020-02-24T08:20:00\",\"2020-02-24T08:30:00\",\"2020-02-24T08:40:00\",\"2020-02-24T08:50:00\",\"2020-02-24T09:00:00\",\"2020-02-24T09:10:00\",\"2020-02-24T09:20:00\",\"2020-02-24T09:30:00\",\"2020-02-24T09:40:00\",\"2020-02-24T09:50:00\",\"2020-02-24T10:00:00\",\"2020-02-24T10:10:00\",\"2020-02-24T10:20:00\",\"2020-02-24T10:30:00\",\"2020-02-24T10:40:00\",\"2020-02-24T10:50:00\",\"2020-02-24T11:00:00\",\"2020-02-24T11:10:00\",\"2020-02-24T11:20:00\",\"2020-02-24T11:30:00\",\"2020-02-24T11:40:00\"],\"y\":[98.51068706885982,101.23614182970672,56.373290741470115,41.33517846740619,41.80291150909779,50.70580003571571,65.94610965190361,56.69539708359106,82.10342421466066,105.08799661776396,88.1575670922252,122.88228316503785,143.60120178667438,104.7898618766306,73.17082470660459,76.72645032252379,75.2018903138763,107.41402629278227,75.38801091581142,43.073082367281046,83.57245906785138,83.52646625588577,88.03327123099606,111.61933904620007,84.93167833884144,78.43119329478111,84.85101758179212,96.25376506425746,128.40342953730013,80.21320111850639,118.37318193530002,97.2394115580449,85.34234818942669,82.79289154600445,101.23372187332363,89.36304260767143,95.49024920164157,102.06867401838261],\"type\":\"scatter\"},{\"fill\":\"tonexty\",\"line\":{\"color\":\"#bc5090\",\"width\":3},\"name\":\"Criteria II\",\"showlegend\":false,\"x\":[\"2020-02-24T05:30:00\",\"2020-02-24T05:40:00\",\"2020-02-24T05:50:00\",\"2020-02-24T06:00:00\",\"2020-02-24T06:10:00\",\"2020-02-24T06:20:00\",\"2020-02-24T06:30:00\",\"2020-02-24T06:40:00\",\"2020-02-24T06:50:00\",\"2020-02-24T07:00:00\",\"2020-02-24T07:10:00\",\"2020-02-24T07:20:00\",\"2020-02-24T07:30:00\",\"2020-02-24T07:40:00\",\"2020-02-24T07:50:00\",\"2020-02-24T08:00:00\",\"2020-02-24T08:10:00\",\"2020-02-24T08:20:00\",\"2020-02-24T08:30:00\",\"2020-02-24T08:40:00\",\"2020-02-24T08:50:00\",\"2020-02-24T09:00:00\",\"2020-02-24T09:10:00\",\"2020-02-24T09:20:00\",\"2020-02-24T09:30:00\",\"2020-02-24T09:40:00\",\"2020-02-24T09:50:00\",\"2020-02-24T10:00:00\",\"2020-02-24T10:10:00\",\"2020-02-24T10:20:00\",\"2020-02-24T10:30:00\",\"2020-02-24T10:40:00\",\"2020-02-24T10:50:00\",\"2020-02-24T11:00:00\",\"2020-02-24T11:10:00\",\"2020-02-24T11:20:00\",\"2020-02-24T11:30:00\",\"2020-02-24T11:40:00\"],\"y\":[45.48931293114018,42.76385817029327,3.6267092585298855,6.6648215325938125,6.19708849090221,-2.7058000357157113,18.05389034809638,3.304602916408939,25.896575785339344,50.91200338223604,19.842432907774807,57.11771683496215,60.398798213325605,15.210138123369397,10.829175293395409,19.273549677476215,20.798109686123695,48.58597370721774,20.61198908418858,-7.073082367281042,24.42754093214861,24.473533744114235,31.966728769003943,56.38066095379993,35.06832166115856,17.568806705218886,35.14898241820788,47.74623493574253,63.59657046269988,27.786798881493617,61.626818064699975,34.760588441955086,22.657651810573316,25.207108453995552,42.76627812667637,30.63695739232857,36.50975079835842,77.93132598161739],\"type\":\"scatter\"},{\"line\":{\"color\":\"#003f5c\",\"width\":5},\"name\":\"Representative Day\",\"x\":[\"2020-02-24T05:30:00\",\"2020-02-24T05:40:00\",\"2020-02-24T05:50:00\",\"2020-02-24T06:00:00\",\"2020-02-24T06:10:00\",\"2020-02-24T06:20:00\",\"2020-02-24T06:30:00\",\"2020-02-24T06:40:00\",\"2020-02-24T06:50:00\",\"2020-02-24T07:00:00\",\"2020-02-24T07:10:00\",\"2020-02-24T07:20:00\",\"2020-02-24T07:30:00\",\"2020-02-24T07:40:00\",\"2020-02-24T07:50:00\",\"2020-02-24T08:00:00\",\"2020-02-24T08:10:00\",\"2020-02-24T08:20:00\",\"2020-02-24T08:30:00\",\"2020-02-24T08:40:00\",\"2020-02-24T08:50:00\",\"2020-02-24T09:00:00\",\"2020-02-24T09:10:00\",\"2020-02-24T09:20:00\",\"2020-02-24T09:30:00\",\"2020-02-24T09:40:00\",\"2020-02-24T09:50:00\",\"2020-02-24T10:00:00\",\"2020-02-24T10:10:00\",\"2020-02-24T10:20:00\",\"2020-02-24T10:30:00\",\"2020-02-24T10:40:00\",\"2020-02-24T10:50:00\",\"2020-02-24T11:00:00\",\"2020-02-24T11:10:00\",\"2020-02-24T11:20:00\",\"2020-02-24T11:30:00\",\"2020-02-24T11:40:00\"],\"y\":[72.0,72.0,30.0,24.0,24.0,24.0,42.0,30.0,54.0,78.0,54.0,90.0,102.0,60.0,42.0,48.0,48.0,78.0,48.0,18.0,54.0,54.0,60.0,84.0,60.0,48.0,60.0,72.0,96.0,54.0,90.0,66.0,54.0,54.0,72.0,60.0,66.0,90.0],\"type\":\"scatter\"},{\"marker\":{\"color\":\"red\",\"line\":{\"color\":\"black\",\"width\":2},\"size\":15,\"symbol\":\"diamond\"},\"mode\":\"markers\",\"name\":\"Simulation\",\"x\":[\"2020-02-24T05:30:00\",\"2020-02-24T05:40:00\",\"2020-02-24T05:50:00\",\"2020-02-24T06:00:00\",\"2020-02-24T06:10:00\",\"2020-02-24T06:20:00\",\"2020-02-24T06:30:00\",\"2020-02-24T06:40:00\",\"2020-02-24T06:50:00\",\"2020-02-24T07:00:00\",\"2020-02-24T07:10:00\",\"2020-02-24T07:20:00\",\"2020-02-24T07:30:00\",\"2020-02-24T07:40:00\",\"2020-02-24T07:50:00\",\"2020-02-24T08:00:00\",\"2020-02-24T08:10:00\",\"2020-02-24T08:20:00\",\"2020-02-24T08:30:00\",\"2020-02-24T08:40:00\",\"2020-02-24T08:50:00\",\"2020-02-24T09:00:00\",\"2020-02-24T09:10:00\",\"2020-02-24T09:20:00\",\"2020-02-24T09:30:00\",\"2020-02-24T09:40:00\",\"2020-02-24T09:50:00\",\"2020-02-24T10:00:00\",\"2020-02-24T10:10:00\",\"2020-02-24T10:20:00\",\"2020-02-24T10:30:00\",\"2020-02-24T10:40:00\",\"2020-02-24T10:50:00\",\"2020-02-24T11:00:00\",\"2020-02-24T11:10:00\",\"2020-02-24T11:20:00\",\"2020-02-24T11:30:00\",\"2020-02-24T11:40:00\"],\"y\":[96.0,66.0,60.0,12.0,30.0,0.0,54.0,36.0,54.0,48.0,78.0,54.0,108.0,120.0,66.0,42.0,66.0,156.0,36.0,6.0,36.0,36.0,54.0,36.0,42.0,30.0,108.0,42.0,66.0,36.0,60.0,84.0,54.0,30.0,72.0,60.0,48.0,84.0],\"type\":\"scatter\"}],                        {\"template\":{\"data\":{\"barpolar\":[{\"marker\":{\"line\":{\"color\":\"white\",\"width\":0.5},\"pattern\":{\"fillmode\":\"overlay\",\"size\":10,\"solidity\":0.2}},\"type\":\"barpolar\"}],\"bar\":[{\"error_x\":{\"color\":\"rgb(36,36,36)\"},\"error_y\":{\"color\":\"rgb(36,36,36)\"},\"marker\":{\"line\":{\"color\":\"white\",\"width\":0.5},\"pattern\":{\"fillmode\":\"overlay\",\"size\":10,\"solidity\":0.2}},\"type\":\"bar\"}],\"carpet\":[{\"aaxis\":{\"endlinecolor\":\"rgb(36,36,36)\",\"gridcolor\":\"white\",\"linecolor\":\"white\",\"minorgridcolor\":\"white\",\"startlinecolor\":\"rgb(36,36,36)\"},\"baxis\":{\"endlinecolor\":\"rgb(36,36,36)\",\"gridcolor\":\"white\",\"linecolor\":\"white\",\"minorgridcolor\":\"white\",\"startlinecolor\":\"rgb(36,36,36)\"},\"type\":\"carpet\"}],\"choropleth\":[{\"colorbar\":{\"outlinewidth\":1,\"tickcolor\":\"rgb(36,36,36)\",\"ticks\":\"outside\"},\"type\":\"choropleth\"}],\"contourcarpet\":[{\"colorbar\":{\"outlinewidth\":1,\"tickcolor\":\"rgb(36,36,36)\",\"ticks\":\"outside\"},\"type\":\"contourcarpet\"}],\"contour\":[{\"colorbar\":{\"outlinewidth\":1,\"tickcolor\":\"rgb(36,36,36)\",\"ticks\":\"outside\"},\"colorscale\":[[0.0,\"#440154\"],[0.1111111111111111,\"#482878\"],[0.2222222222222222,\"#3e4989\"],[0.3333333333333333,\"#31688e\"],[0.4444444444444444,\"#26828e\"],[0.5555555555555556,\"#1f9e89\"],[0.6666666666666666,\"#35b779\"],[0.7777777777777778,\"#6ece58\"],[0.8888888888888888,\"#b5de2b\"],[1.0,\"#fde725\"]],\"type\":\"contour\"}],\"heatmapgl\":[{\"colorbar\":{\"outlinewidth\":1,\"tickcolor\":\"rgb(36,36,36)\",\"ticks\":\"outside\"},\"colorscale\":[[0.0,\"#440154\"],[0.1111111111111111,\"#482878\"],[0.2222222222222222,\"#3e4989\"],[0.3333333333333333,\"#31688e\"],[0.4444444444444444,\"#26828e\"],[0.5555555555555556,\"#1f9e89\"],[0.6666666666666666,\"#35b779\"],[0.7777777777777778,\"#6ece58\"],[0.8888888888888888,\"#b5de2b\"],[1.0,\"#fde725\"]],\"type\":\"heatmapgl\"}],\"heatmap\":[{\"colorbar\":{\"outlinewidth\":1,\"tickcolor\":\"rgb(36,36,36)\",\"ticks\":\"outside\"},\"colorscale\":[[0.0,\"#440154\"],[0.1111111111111111,\"#482878\"],[0.2222222222222222,\"#3e4989\"],[0.3333333333333333,\"#31688e\"],[0.4444444444444444,\"#26828e\"],[0.5555555555555556,\"#1f9e89\"],[0.6666666666666666,\"#35b779\"],[0.7777777777777778,\"#6ece58\"],[0.8888888888888888,\"#b5de2b\"],[1.0,\"#fde725\"]],\"type\":\"heatmap\"}],\"histogram2dcontour\":[{\"colorbar\":{\"outlinewidth\":1,\"tickcolor\":\"rgb(36,36,36)\",\"ticks\":\"outside\"},\"colorscale\":[[0.0,\"#440154\"],[0.1111111111111111,\"#482878\"],[0.2222222222222222,\"#3e4989\"],[0.3333333333333333,\"#31688e\"],[0.4444444444444444,\"#26828e\"],[0.5555555555555556,\"#1f9e89\"],[0.6666666666666666,\"#35b779\"],[0.7777777777777778,\"#6ece58\"],[0.8888888888888888,\"#b5de2b\"],[1.0,\"#fde725\"]],\"type\":\"histogram2dcontour\"}],\"histogram2d\":[{\"colorbar\":{\"outlinewidth\":1,\"tickcolor\":\"rgb(36,36,36)\",\"ticks\":\"outside\"},\"colorscale\":[[0.0,\"#440154\"],[0.1111111111111111,\"#482878\"],[0.2222222222222222,\"#3e4989\"],[0.3333333333333333,\"#31688e\"],[0.4444444444444444,\"#26828e\"],[0.5555555555555556,\"#1f9e89\"],[0.6666666666666666,\"#35b779\"],[0.7777777777777778,\"#6ece58\"],[0.8888888888888888,\"#b5de2b\"],[1.0,\"#fde725\"]],\"type\":\"histogram2d\"}],\"histogram\":[{\"marker\":{\"line\":{\"color\":\"white\",\"width\":0.6}},\"type\":\"histogram\"}],\"mesh3d\":[{\"colorbar\":{\"outlinewidth\":1,\"tickcolor\":\"rgb(36,36,36)\",\"ticks\":\"outside\"},\"type\":\"mesh3d\"}],\"parcoords\":[{\"line\":{\"colorbar\":{\"outlinewidth\":1,\"tickcolor\":\"rgb(36,36,36)\",\"ticks\":\"outside\"}},\"type\":\"parcoords\"}],\"pie\":[{\"automargin\":true,\"type\":\"pie\"}],\"scatter3d\":[{\"line\":{\"colorbar\":{\"outlinewidth\":1,\"tickcolor\":\"rgb(36,36,36)\",\"ticks\":\"outside\"}},\"marker\":{\"colorbar\":{\"outlinewidth\":1,\"tickcolor\":\"rgb(36,36,36)\",\"ticks\":\"outside\"}},\"type\":\"scatter3d\"}],\"scattercarpet\":[{\"marker\":{\"colorbar\":{\"outlinewidth\":1,\"tickcolor\":\"rgb(36,36,36)\",\"ticks\":\"outside\"}},\"type\":\"scattercarpet\"}],\"scattergeo\":[{\"marker\":{\"colorbar\":{\"outlinewidth\":1,\"tickcolor\":\"rgb(36,36,36)\",\"ticks\":\"outside\"}},\"type\":\"scattergeo\"}],\"scattergl\":[{\"marker\":{\"colorbar\":{\"outlinewidth\":1,\"tickcolor\":\"rgb(36,36,36)\",\"ticks\":\"outside\"}},\"type\":\"scattergl\"}],\"scattermapbox\":[{\"marker\":{\"colorbar\":{\"outlinewidth\":1,\"tickcolor\":\"rgb(36,36,36)\",\"ticks\":\"outside\"}},\"type\":\"scattermapbox\"}],\"scatterpolargl\":[{\"marker\":{\"colorbar\":{\"outlinewidth\":1,\"tickcolor\":\"rgb(36,36,36)\",\"ticks\":\"outside\"}},\"type\":\"scatterpolargl\"}],\"scatterpolar\":[{\"marker\":{\"colorbar\":{\"outlinewidth\":1,\"tickcolor\":\"rgb(36,36,36)\",\"ticks\":\"outside\"}},\"type\":\"scatterpolar\"}],\"scatter\":[{\"fillpattern\":{\"fillmode\":\"overlay\",\"size\":10,\"solidity\":0.2},\"type\":\"scatter\"}],\"scatterternary\":[{\"marker\":{\"colorbar\":{\"outlinewidth\":1,\"tickcolor\":\"rgb(36,36,36)\",\"ticks\":\"outside\"}},\"type\":\"scatterternary\"}],\"surface\":[{\"colorbar\":{\"outlinewidth\":1,\"tickcolor\":\"rgb(36,36,36)\",\"ticks\":\"outside\"},\"colorscale\":[[0.0,\"#440154\"],[0.1111111111111111,\"#482878\"],[0.2222222222222222,\"#3e4989\"],[0.3333333333333333,\"#31688e\"],[0.4444444444444444,\"#26828e\"],[0.5555555555555556,\"#1f9e89\"],[0.6666666666666666,\"#35b779\"],[0.7777777777777778,\"#6ece58\"],[0.8888888888888888,\"#b5de2b\"],[1.0,\"#fde725\"]],\"type\":\"surface\"}],\"table\":[{\"cells\":{\"fill\":{\"color\":\"rgb(237,237,237)\"},\"line\":{\"color\":\"white\"}},\"header\":{\"fill\":{\"color\":\"rgb(217,217,217)\"},\"line\":{\"color\":\"white\"}},\"type\":\"table\"}]},\"layout\":{\"annotationdefaults\":{\"arrowhead\":0,\"arrowwidth\":1},\"autotypenumbers\":\"strict\",\"coloraxis\":{\"colorbar\":{\"outlinewidth\":1,\"tickcolor\":\"rgb(36,36,36)\",\"ticks\":\"outside\"}},\"colorscale\":{\"diverging\":[[0.0,\"rgb(103,0,31)\"],[0.1,\"rgb(178,24,43)\"],[0.2,\"rgb(214,96,77)\"],[0.3,\"rgb(244,165,130)\"],[0.4,\"rgb(253,219,199)\"],[0.5,\"rgb(247,247,247)\"],[0.6,\"rgb(209,229,240)\"],[0.7,\"rgb(146,197,222)\"],[0.8,\"rgb(67,147,195)\"],[0.9,\"rgb(33,102,172)\"],[1.0,\"rgb(5,48,97)\"]],\"sequential\":[[0.0,\"#440154\"],[0.1111111111111111,\"#482878\"],[0.2222222222222222,\"#3e4989\"],[0.3333333333333333,\"#31688e\"],[0.4444444444444444,\"#26828e\"],[0.5555555555555556,\"#1f9e89\"],[0.6666666666666666,\"#35b779\"],[0.7777777777777778,\"#6ece58\"],[0.8888888888888888,\"#b5de2b\"],[1.0,\"#fde725\"]],\"sequentialminus\":[[0.0,\"#440154\"],[0.1111111111111111,\"#482878\"],[0.2222222222222222,\"#3e4989\"],[0.3333333333333333,\"#31688e\"],[0.4444444444444444,\"#26828e\"],[0.5555555555555556,\"#1f9e89\"],[0.6666666666666666,\"#35b779\"],[0.7777777777777778,\"#6ece58\"],[0.8888888888888888,\"#b5de2b\"],[1.0,\"#fde725\"]]},\"colorway\":[\"#1F77B4\",\"#FF7F0E\",\"#2CA02C\",\"#D62728\",\"#9467BD\",\"#8C564B\",\"#E377C2\",\"#7F7F7F\",\"#BCBD22\",\"#17BECF\"],\"font\":{\"color\":\"rgb(36,36,36)\"},\"geo\":{\"bgcolor\":\"white\",\"lakecolor\":\"white\",\"landcolor\":\"white\",\"showlakes\":true,\"showland\":true,\"subunitcolor\":\"white\"},\"hoverlabel\":{\"align\":\"left\"},\"hovermode\":\"closest\",\"mapbox\":{\"style\":\"light\"},\"paper_bgcolor\":\"white\",\"plot_bgcolor\":\"white\",\"polar\":{\"angularaxis\":{\"gridcolor\":\"rgb(232,232,232)\",\"linecolor\":\"rgb(36,36,36)\",\"showgrid\":false,\"showline\":true,\"ticks\":\"outside\"},\"bgcolor\":\"white\",\"radialaxis\":{\"gridcolor\":\"rgb(232,232,232)\",\"linecolor\":\"rgb(36,36,36)\",\"showgrid\":false,\"showline\":true,\"ticks\":\"outside\"}},\"scene\":{\"xaxis\":{\"backgroundcolor\":\"white\",\"gridcolor\":\"rgb(232,232,232)\",\"gridwidth\":2,\"linecolor\":\"rgb(36,36,36)\",\"showbackground\":true,\"showgrid\":false,\"showline\":true,\"ticks\":\"outside\",\"zeroline\":false,\"zerolinecolor\":\"rgb(36,36,36)\"},\"yaxis\":{\"backgroundcolor\":\"white\",\"gridcolor\":\"rgb(232,232,232)\",\"gridwidth\":2,\"linecolor\":\"rgb(36,36,36)\",\"showbackground\":true,\"showgrid\":false,\"showline\":true,\"ticks\":\"outside\",\"zeroline\":false,\"zerolinecolor\":\"rgb(36,36,36)\"},\"zaxis\":{\"backgroundcolor\":\"white\",\"gridcolor\":\"rgb(232,232,232)\",\"gridwidth\":2,\"linecolor\":\"rgb(36,36,36)\",\"showbackground\":true,\"showgrid\":false,\"showline\":true,\"ticks\":\"outside\",\"zeroline\":false,\"zerolinecolor\":\"rgb(36,36,36)\"}},\"shapedefaults\":{\"fillcolor\":\"black\",\"line\":{\"width\":0},\"opacity\":0.3},\"ternary\":{\"aaxis\":{\"gridcolor\":\"rgb(232,232,232)\",\"linecolor\":\"rgb(36,36,36)\",\"showgrid\":false,\"showline\":true,\"ticks\":\"outside\"},\"baxis\":{\"gridcolor\":\"rgb(232,232,232)\",\"linecolor\":\"rgb(36,36,36)\",\"showgrid\":false,\"showline\":true,\"ticks\":\"outside\"},\"bgcolor\":\"white\",\"caxis\":{\"gridcolor\":\"rgb(232,232,232)\",\"linecolor\":\"rgb(36,36,36)\",\"showgrid\":false,\"showline\":true,\"ticks\":\"outside\"}},\"title\":{\"x\":0.05},\"xaxis\":{\"automargin\":true,\"gridcolor\":\"rgb(232,232,232)\",\"linecolor\":\"rgb(36,36,36)\",\"showgrid\":false,\"showline\":true,\"ticks\":\"outside\",\"title\":{\"standoff\":15},\"zeroline\":false,\"zerolinecolor\":\"rgb(36,36,36)\"},\"yaxis\":{\"automargin\":true,\"gridcolor\":\"rgb(232,232,232)\",\"linecolor\":\"rgb(36,36,36)\",\"showgrid\":false,\"showline\":true,\"ticks\":\"outside\",\"title\":{\"standoff\":15},\"zeroline\":false,\"zerolinecolor\":\"rgb(36,36,36)\"}}},\"yaxis\":{\"title\":{\"text\":\"Volume [Vehicles/Hour]\"},\"showgrid\":true,\"range\":[0,250]},\"font\":{\"family\":\"helvetica\",\"size\":26},\"legend\":{\"yanchor\":\"top\",\"y\":1.0,\"xanchor\":\"right\",\"x\":1,\"orientation\":\"h\"},\"xaxis\":{\"tickangle\":15},\"height\":600,\"width\":1200,\"showlegend\":true},                        {\"responsive\": true}                    ).then(function(){\n",
       "                            \n",
       "var gd = document.getElementById('55710619-58f0-4e82-9ce1-3ec49e0dfb94');\n",
       "var x = new MutationObserver(function (mutations, observer) {{\n",
       "        var display = window.getComputedStyle(gd).display;\n",
       "        if (!display || display === 'none') {{\n",
       "            console.log([gd, 'removed!']);\n",
       "            Plotly.purge(gd);\n",
       "            observer.disconnect();\n",
       "        }}\n",
       "}});\n",
       "\n",
       "// Listen for the removal of the full notebook cells\n",
       "var notebookContainer = gd.closest('#notebook-container');\n",
       "if (notebookContainer) {{\n",
       "    x.observe(notebookContainer, {childList: true});\n",
       "}}\n",
       "\n",
       "// Listen for the clearing of the current output cell\n",
       "var outputEl = gd.closest('.output');\n",
       "if (outputEl) {{\n",
       "    x.observe(outputEl, {childList: true});\n",
       "}}\n",
       "\n",
       "                        })                };                });            </script>        </div>"
      ]
     },
     "metadata": {},
     "output_type": "display_data"
    },
    {
     "name": "stdout",
     "output_type": "stream",
     "text": [
      "{63082004-8.png/TL3-SB},%\n"
     ]
    },
    {
     "data": {
      "application/vnd.plotly.v1+json": {
       "config": {
        "plotlyServerURL": "https://plot.ly"
       },
       "data": [
        {
         "line": {
          "color": "#ffa600",
          "width": 3
         },
         "name": "Criteria I.",
         "type": "scatter",
         "x": [
          "2020-02-24T05:30:00",
          "2020-02-24T05:40:00",
          "2020-02-24T05:50:00",
          "2020-02-24T06:00:00",
          "2020-02-24T06:10:00",
          "2020-02-24T06:20:00",
          "2020-02-24T06:30:00",
          "2020-02-24T06:40:00",
          "2020-02-24T06:50:00",
          "2020-02-24T07:00:00",
          "2020-02-24T07:10:00",
          "2020-02-24T07:20:00",
          "2020-02-24T07:30:00",
          "2020-02-24T07:40:00",
          "2020-02-24T07:50:00",
          "2020-02-24T08:00:00",
          "2020-02-24T08:10:00",
          "2020-02-24T08:20:00",
          "2020-02-24T08:30:00",
          "2020-02-24T08:40:00",
          "2020-02-24T08:50:00",
          "2020-02-24T09:00:00",
          "2020-02-24T09:10:00",
          "2020-02-24T09:20:00",
          "2020-02-24T09:30:00",
          "2020-02-24T09:40:00",
          "2020-02-24T09:50:00",
          "2020-02-24T10:00:00",
          "2020-02-24T10:10:00",
          "2020-02-24T10:20:00",
          "2020-02-24T10:30:00",
          "2020-02-24T10:40:00",
          "2020-02-24T10:50:00",
          "2020-02-24T11:00:00",
          "2020-02-24T11:10:00",
          "2020-02-24T11:20:00",
          "2020-02-24T11:30:00",
          "2020-02-24T11:40:00"
         ],
         "y": [
          84.19740542222138,
          68.16895331270084,
          44.97034703777204,
          150.1363731906768,
          63.908524936941916,
          68.12006188601447,
          66.96987219142102,
          127.36545328308897,
          97.17896829757458,
          176.12726426749458,
          172.33520961450049,
          136.88539077992942,
          190.91784039893247,
          185.8640792040013,
          185.30710822469763,
          104.9412757242781,
          137.01977122132286,
          116.60106033512332,
          136.34717822057786,
          129.69303962576504,
          115.60736997911371,
          125.17577541363693,
          111.1483392626326,
          108.67586874017346,
          94.5403932208618,
          141.4320725473573,
          93.4582799615552,
          115.5715122969226,
          110.98496158969675,
          106.10789621542504,
          130.09443897505685,
          104.08428805084911,
          123.40852500047251,
          141.4837199295801,
          148.092899542281,
          139.37083990997456,
          145.31448296607113,
          93.69851123572275
         ]
        },
        {
         "fill": "tonexty",
         "line": {
          "color": "#ffa600",
          "width": 3
         },
         "name": "Criteria I",
         "showlegend": false,
         "type": "scatter",
         "x": [
          "2020-02-24T05:30:00",
          "2020-02-24T05:40:00",
          "2020-02-24T05:50:00",
          "2020-02-24T06:00:00",
          "2020-02-24T06:10:00",
          "2020-02-24T06:20:00",
          "2020-02-24T06:30:00",
          "2020-02-24T06:40:00",
          "2020-02-24T06:50:00",
          "2020-02-24T07:00:00",
          "2020-02-24T07:10:00",
          "2020-02-24T07:20:00",
          "2020-02-24T07:30:00",
          "2020-02-24T07:40:00",
          "2020-02-24T07:50:00",
          "2020-02-24T08:00:00",
          "2020-02-24T08:10:00",
          "2020-02-24T08:20:00",
          "2020-02-24T08:30:00",
          "2020-02-24T08:40:00",
          "2020-02-24T08:50:00",
          "2020-02-24T09:00:00",
          "2020-02-24T09:10:00",
          "2020-02-24T09:20:00",
          "2020-02-24T09:30:00",
          "2020-02-24T09:40:00",
          "2020-02-24T09:50:00",
          "2020-02-24T10:00:00",
          "2020-02-24T10:10:00",
          "2020-02-24T10:20:00",
          "2020-02-24T10:30:00",
          "2020-02-24T10:40:00",
          "2020-02-24T10:50:00",
          "2020-02-24T11:00:00",
          "2020-02-24T11:10:00",
          "2020-02-24T11:20:00",
          "2020-02-24T11:30:00",
          "2020-02-24T11:40:00"
         ],
         "y": [
          -12.19740542222138,
          -8.168953312700843,
          -20.970347037772036,
          -66.13637319067682,
          -51.908524936941916,
          -20.120061886014476,
          -30.969872191421025,
          -7.365453283088968,
          -49.178968297574585,
          -80.12726426749458,
          -52.335209614500485,
          -88.88539077992944,
          1.082159601067545,
          -41.8640792040013,
          -17.307108224697615,
          -32.9412757242781,
          30.98022877867715,
          15.398939664876671,
          19.652821779422133,
          -45.693039625765024,
          -31.607369979113713,
          -89.17577541363693,
          -39.148339262632604,
          -12.675868740173449,
          1.4596067791381984,
          14.567927452642692,
          2.5417200384447938,
          4.428487703077394,
          -2.984961589696745,
          -10.107896215425043,
          -22.094438975056846,
          -8.08428805084911,
          -3.4085250004725083,
          -9.483719929580104,
          19.907100457718997,
          4.629160090025422,
          46.68551703392886,
          26.301488764277245
         ]
        },
        {
         "line": {
          "color": "#bc5090",
          "width": 3
         },
         "name": "Criteria II.",
         "type": "scatter",
         "x": [
          "2020-02-24T05:30:00",
          "2020-02-24T05:40:00",
          "2020-02-24T05:50:00",
          "2020-02-24T06:00:00",
          "2020-02-24T06:10:00",
          "2020-02-24T06:20:00",
          "2020-02-24T06:30:00",
          "2020-02-24T06:40:00",
          "2020-02-24T06:50:00",
          "2020-02-24T07:00:00",
          "2020-02-24T07:10:00",
          "2020-02-24T07:20:00",
          "2020-02-24T07:30:00",
          "2020-02-24T07:40:00",
          "2020-02-24T07:50:00",
          "2020-02-24T08:00:00",
          "2020-02-24T08:10:00",
          "2020-02-24T08:20:00",
          "2020-02-24T08:30:00",
          "2020-02-24T08:40:00",
          "2020-02-24T08:50:00",
          "2020-02-24T09:00:00",
          "2020-02-24T09:10:00",
          "2020-02-24T09:20:00",
          "2020-02-24T09:30:00",
          "2020-02-24T09:40:00",
          "2020-02-24T09:50:00",
          "2020-02-24T10:00:00",
          "2020-02-24T10:10:00",
          "2020-02-24T10:20:00",
          "2020-02-24T10:30:00",
          "2020-02-24T10:40:00",
          "2020-02-24T10:50:00",
          "2020-02-24T11:00:00",
          "2020-02-24T11:10:00",
          "2020-02-24T11:20:00",
          "2020-02-24T11:30:00",
          "2020-02-24T11:40:00"
         ],
         "y": [
          60.59051297052111,
          49.473955771786144,
          28.821605631516345,
          97.17161897483511,
          35.54516578415404,
          46.51023565612984,
          42.98462866909236,
          94.3701292260658,
          61.336208315089074,
          113.37105319770131,
          117.3138824563778,
          81.59458713261706,
          144.42746959129207,
          130.09391796122515,
          135.68730011464163,
          71.17412026748883,
          111.05090368434838,
          91.81686751792006,
          107.76896847988667,
          86.7413467478393,
          79.55478060158863,
          72.6815180681821,
          74.34098941971051,
          78.9570758878436,
          71.74509858207234,
          110.36330232008027,
          71.19299998038531,
          88.35281239638908,
          83.07395999474323,
          77.64688582419646,
          92.82369335462084,
          76.61443267900465,
          92.3512882655472,
          104.51210200488781,
          116.70045895014337,
          106.37287750508906,
          121.16045049289343,
          77.19311797740957
         ]
        },
        {
         "fill": "tonexty",
         "line": {
          "color": "#bc5090",
          "width": 3
         },
         "name": "Criteria II",
         "showlegend": false,
         "type": "scatter",
         "x": [
          "2020-02-24T05:30:00",
          "2020-02-24T05:40:00",
          "2020-02-24T05:50:00",
          "2020-02-24T06:00:00",
          "2020-02-24T06:10:00",
          "2020-02-24T06:20:00",
          "2020-02-24T06:30:00",
          "2020-02-24T06:40:00",
          "2020-02-24T06:50:00",
          "2020-02-24T07:00:00",
          "2020-02-24T07:10:00",
          "2020-02-24T07:20:00",
          "2020-02-24T07:30:00",
          "2020-02-24T07:40:00",
          "2020-02-24T07:50:00",
          "2020-02-24T08:00:00",
          "2020-02-24T08:10:00",
          "2020-02-24T08:20:00",
          "2020-02-24T08:30:00",
          "2020-02-24T08:40:00",
          "2020-02-24T08:50:00",
          "2020-02-24T09:00:00",
          "2020-02-24T09:10:00",
          "2020-02-24T09:20:00",
          "2020-02-24T09:30:00",
          "2020-02-24T09:40:00",
          "2020-02-24T09:50:00",
          "2020-02-24T10:00:00",
          "2020-02-24T10:10:00",
          "2020-02-24T10:20:00",
          "2020-02-24T10:30:00",
          "2020-02-24T10:40:00",
          "2020-02-24T10:50:00",
          "2020-02-24T11:00:00",
          "2020-02-24T11:10:00",
          "2020-02-24T11:20:00",
          "2020-02-24T11:30:00",
          "2020-02-24T11:40:00"
         ],
         "y": [
          11.409487029478889,
          10.526044228213856,
          -4.821605631516345,
          -13.171618974835113,
          -23.54516578415404,
          1.4897643438701635,
          -6.984628669092359,
          25.6298707739342,
          -13.336208315089074,
          -17.371053197701315,
          2.6861175436222027,
          -33.594587132617065,
          47.57253040870793,
          13.906082038774848,
          32.312699885358356,
          0.8258797325111757,
          56.94909631565161,
          40.183132482079934,
          48.23103152011333,
          -2.7413467478393017,
          4.445219398411368,
          -36.68151806818211,
          -2.3409894197105103,
          17.042924112156403,
          24.254901417927652,
          45.63669767991974,
          24.80700001961469,
          31.647187603610917,
          24.926040005256763,
          18.353114175803547,
          15.176306645379157,
          19.385567320995353,
          27.648711734452803,
          27.487897995112192,
          51.29954104985663,
          37.62712249491093,
          70.83954950710657,
          42.80688202259043
         ]
        },
        {
         "line": {
          "color": "#003f5c",
          "width": 5
         },
         "name": "Representative Day",
         "type": "scatter",
         "x": [
          "2020-02-24T05:30:00",
          "2020-02-24T05:40:00",
          "2020-02-24T05:50:00",
          "2020-02-24T06:00:00",
          "2020-02-24T06:10:00",
          "2020-02-24T06:20:00",
          "2020-02-24T06:30:00",
          "2020-02-24T06:40:00",
          "2020-02-24T06:50:00",
          "2020-02-24T07:00:00",
          "2020-02-24T07:10:00",
          "2020-02-24T07:20:00",
          "2020-02-24T07:30:00",
          "2020-02-24T07:40:00",
          "2020-02-24T07:50:00",
          "2020-02-24T08:00:00",
          "2020-02-24T08:10:00",
          "2020-02-24T08:20:00",
          "2020-02-24T08:30:00",
          "2020-02-24T08:40:00",
          "2020-02-24T08:50:00",
          "2020-02-24T09:00:00",
          "2020-02-24T09:10:00",
          "2020-02-24T09:20:00",
          "2020-02-24T09:30:00",
          "2020-02-24T09:40:00",
          "2020-02-24T09:50:00",
          "2020-02-24T10:00:00",
          "2020-02-24T10:10:00",
          "2020-02-24T10:20:00",
          "2020-02-24T10:30:00",
          "2020-02-24T10:40:00",
          "2020-02-24T10:50:00",
          "2020-02-24T11:00:00",
          "2020-02-24T11:10:00",
          "2020-02-24T11:20:00",
          "2020-02-24T11:30:00",
          "2020-02-24T11:40:00"
         ],
         "y": [
          36,
          30,
          12,
          42,
          6,
          24,
          18,
          60,
          24,
          48,
          60,
          24,
          96,
          72,
          84,
          36,
          84,
          66,
          78,
          42,
          42,
          18,
          36,
          48,
          48,
          78,
          48,
          60,
          54,
          48,
          54,
          48,
          60,
          66,
          84,
          72,
          96,
          60
         ]
        },
        {
         "marker": {
          "color": "red",
          "line": {
           "color": "black",
           "width": 2
          },
          "size": 15,
          "symbol": "diamond"
         },
         "mode": "markers",
         "name": "Simulation",
         "type": "scatter",
         "x": [
          "2020-02-24T05:30:00",
          "2020-02-24T05:40:00",
          "2020-02-24T05:50:00",
          "2020-02-24T06:00:00",
          "2020-02-24T06:10:00",
          "2020-02-24T06:20:00",
          "2020-02-24T06:30:00",
          "2020-02-24T06:40:00",
          "2020-02-24T06:50:00",
          "2020-02-24T07:00:00",
          "2020-02-24T07:10:00",
          "2020-02-24T07:20:00",
          "2020-02-24T07:30:00",
          "2020-02-24T07:40:00",
          "2020-02-24T07:50:00",
          "2020-02-24T08:00:00",
          "2020-02-24T08:10:00",
          "2020-02-24T08:20:00",
          "2020-02-24T08:30:00",
          "2020-02-24T08:40:00",
          "2020-02-24T08:50:00",
          "2020-02-24T09:00:00",
          "2020-02-24T09:10:00",
          "2020-02-24T09:20:00",
          "2020-02-24T09:30:00",
          "2020-02-24T09:40:00",
          "2020-02-24T09:50:00",
          "2020-02-24T10:00:00",
          "2020-02-24T10:10:00",
          "2020-02-24T10:20:00",
          "2020-02-24T10:30:00",
          "2020-02-24T10:40:00",
          "2020-02-24T10:50:00",
          "2020-02-24T11:00:00",
          "2020-02-24T11:10:00",
          "2020-02-24T11:20:00",
          "2020-02-24T11:30:00",
          "2020-02-24T11:40:00"
         ],
         "y": [
          60,
          42,
          54,
          18,
          6,
          0,
          0,
          30,
          12,
          36,
          78,
          78,
          132,
          108,
          132,
          54,
          102,
          84,
          126,
          78,
          84,
          54,
          84,
          114,
          120,
          126,
          96,
          66,
          54,
          48,
          78,
          42,
          78,
          114,
          60,
          54,
          96,
          114
         ]
        }
       ],
       "layout": {
        "font": {
         "family": "helvetica",
         "size": 26
        },
        "height": 600,
        "legend": {
         "orientation": "h",
         "x": 1,
         "xanchor": "right",
         "y": 1,
         "yanchor": "top"
        },
        "showlegend": true,
        "template": {
         "data": {
          "bar": [
           {
            "error_x": {
             "color": "rgb(36,36,36)"
            },
            "error_y": {
             "color": "rgb(36,36,36)"
            },
            "marker": {
             "line": {
              "color": "white",
              "width": 0.5
             },
             "pattern": {
              "fillmode": "overlay",
              "size": 10,
              "solidity": 0.2
             }
            },
            "type": "bar"
           }
          ],
          "barpolar": [
           {
            "marker": {
             "line": {
              "color": "white",
              "width": 0.5
             },
             "pattern": {
              "fillmode": "overlay",
              "size": 10,
              "solidity": 0.2
             }
            },
            "type": "barpolar"
           }
          ],
          "carpet": [
           {
            "aaxis": {
             "endlinecolor": "rgb(36,36,36)",
             "gridcolor": "white",
             "linecolor": "white",
             "minorgridcolor": "white",
             "startlinecolor": "rgb(36,36,36)"
            },
            "baxis": {
             "endlinecolor": "rgb(36,36,36)",
             "gridcolor": "white",
             "linecolor": "white",
             "minorgridcolor": "white",
             "startlinecolor": "rgb(36,36,36)"
            },
            "type": "carpet"
           }
          ],
          "choropleth": [
           {
            "colorbar": {
             "outlinewidth": 1,
             "tickcolor": "rgb(36,36,36)",
             "ticks": "outside"
            },
            "type": "choropleth"
           }
          ],
          "contour": [
           {
            "colorbar": {
             "outlinewidth": 1,
             "tickcolor": "rgb(36,36,36)",
             "ticks": "outside"
            },
            "colorscale": [
             [
              0,
              "#440154"
             ],
             [
              0.1111111111111111,
              "#482878"
             ],
             [
              0.2222222222222222,
              "#3e4989"
             ],
             [
              0.3333333333333333,
              "#31688e"
             ],
             [
              0.4444444444444444,
              "#26828e"
             ],
             [
              0.5555555555555556,
              "#1f9e89"
             ],
             [
              0.6666666666666666,
              "#35b779"
             ],
             [
              0.7777777777777778,
              "#6ece58"
             ],
             [
              0.8888888888888888,
              "#b5de2b"
             ],
             [
              1,
              "#fde725"
             ]
            ],
            "type": "contour"
           }
          ],
          "contourcarpet": [
           {
            "colorbar": {
             "outlinewidth": 1,
             "tickcolor": "rgb(36,36,36)",
             "ticks": "outside"
            },
            "type": "contourcarpet"
           }
          ],
          "heatmap": [
           {
            "colorbar": {
             "outlinewidth": 1,
             "tickcolor": "rgb(36,36,36)",
             "ticks": "outside"
            },
            "colorscale": [
             [
              0,
              "#440154"
             ],
             [
              0.1111111111111111,
              "#482878"
             ],
             [
              0.2222222222222222,
              "#3e4989"
             ],
             [
              0.3333333333333333,
              "#31688e"
             ],
             [
              0.4444444444444444,
              "#26828e"
             ],
             [
              0.5555555555555556,
              "#1f9e89"
             ],
             [
              0.6666666666666666,
              "#35b779"
             ],
             [
              0.7777777777777778,
              "#6ece58"
             ],
             [
              0.8888888888888888,
              "#b5de2b"
             ],
             [
              1,
              "#fde725"
             ]
            ],
            "type": "heatmap"
           }
          ],
          "heatmapgl": [
           {
            "colorbar": {
             "outlinewidth": 1,
             "tickcolor": "rgb(36,36,36)",
             "ticks": "outside"
            },
            "colorscale": [
             [
              0,
              "#440154"
             ],
             [
              0.1111111111111111,
              "#482878"
             ],
             [
              0.2222222222222222,
              "#3e4989"
             ],
             [
              0.3333333333333333,
              "#31688e"
             ],
             [
              0.4444444444444444,
              "#26828e"
             ],
             [
              0.5555555555555556,
              "#1f9e89"
             ],
             [
              0.6666666666666666,
              "#35b779"
             ],
             [
              0.7777777777777778,
              "#6ece58"
             ],
             [
              0.8888888888888888,
              "#b5de2b"
             ],
             [
              1,
              "#fde725"
             ]
            ],
            "type": "heatmapgl"
           }
          ],
          "histogram": [
           {
            "marker": {
             "line": {
              "color": "white",
              "width": 0.6
             }
            },
            "type": "histogram"
           }
          ],
          "histogram2d": [
           {
            "colorbar": {
             "outlinewidth": 1,
             "tickcolor": "rgb(36,36,36)",
             "ticks": "outside"
            },
            "colorscale": [
             [
              0,
              "#440154"
             ],
             [
              0.1111111111111111,
              "#482878"
             ],
             [
              0.2222222222222222,
              "#3e4989"
             ],
             [
              0.3333333333333333,
              "#31688e"
             ],
             [
              0.4444444444444444,
              "#26828e"
             ],
             [
              0.5555555555555556,
              "#1f9e89"
             ],
             [
              0.6666666666666666,
              "#35b779"
             ],
             [
              0.7777777777777778,
              "#6ece58"
             ],
             [
              0.8888888888888888,
              "#b5de2b"
             ],
             [
              1,
              "#fde725"
             ]
            ],
            "type": "histogram2d"
           }
          ],
          "histogram2dcontour": [
           {
            "colorbar": {
             "outlinewidth": 1,
             "tickcolor": "rgb(36,36,36)",
             "ticks": "outside"
            },
            "colorscale": [
             [
              0,
              "#440154"
             ],
             [
              0.1111111111111111,
              "#482878"
             ],
             [
              0.2222222222222222,
              "#3e4989"
             ],
             [
              0.3333333333333333,
              "#31688e"
             ],
             [
              0.4444444444444444,
              "#26828e"
             ],
             [
              0.5555555555555556,
              "#1f9e89"
             ],
             [
              0.6666666666666666,
              "#35b779"
             ],
             [
              0.7777777777777778,
              "#6ece58"
             ],
             [
              0.8888888888888888,
              "#b5de2b"
             ],
             [
              1,
              "#fde725"
             ]
            ],
            "type": "histogram2dcontour"
           }
          ],
          "mesh3d": [
           {
            "colorbar": {
             "outlinewidth": 1,
             "tickcolor": "rgb(36,36,36)",
             "ticks": "outside"
            },
            "type": "mesh3d"
           }
          ],
          "parcoords": [
           {
            "line": {
             "colorbar": {
              "outlinewidth": 1,
              "tickcolor": "rgb(36,36,36)",
              "ticks": "outside"
             }
            },
            "type": "parcoords"
           }
          ],
          "pie": [
           {
            "automargin": true,
            "type": "pie"
           }
          ],
          "scatter": [
           {
            "fillpattern": {
             "fillmode": "overlay",
             "size": 10,
             "solidity": 0.2
            },
            "type": "scatter"
           }
          ],
          "scatter3d": [
           {
            "line": {
             "colorbar": {
              "outlinewidth": 1,
              "tickcolor": "rgb(36,36,36)",
              "ticks": "outside"
             }
            },
            "marker": {
             "colorbar": {
              "outlinewidth": 1,
              "tickcolor": "rgb(36,36,36)",
              "ticks": "outside"
             }
            },
            "type": "scatter3d"
           }
          ],
          "scattercarpet": [
           {
            "marker": {
             "colorbar": {
              "outlinewidth": 1,
              "tickcolor": "rgb(36,36,36)",
              "ticks": "outside"
             }
            },
            "type": "scattercarpet"
           }
          ],
          "scattergeo": [
           {
            "marker": {
             "colorbar": {
              "outlinewidth": 1,
              "tickcolor": "rgb(36,36,36)",
              "ticks": "outside"
             }
            },
            "type": "scattergeo"
           }
          ],
          "scattergl": [
           {
            "marker": {
             "colorbar": {
              "outlinewidth": 1,
              "tickcolor": "rgb(36,36,36)",
              "ticks": "outside"
             }
            },
            "type": "scattergl"
           }
          ],
          "scattermapbox": [
           {
            "marker": {
             "colorbar": {
              "outlinewidth": 1,
              "tickcolor": "rgb(36,36,36)",
              "ticks": "outside"
             }
            },
            "type": "scattermapbox"
           }
          ],
          "scatterpolar": [
           {
            "marker": {
             "colorbar": {
              "outlinewidth": 1,
              "tickcolor": "rgb(36,36,36)",
              "ticks": "outside"
             }
            },
            "type": "scatterpolar"
           }
          ],
          "scatterpolargl": [
           {
            "marker": {
             "colorbar": {
              "outlinewidth": 1,
              "tickcolor": "rgb(36,36,36)",
              "ticks": "outside"
             }
            },
            "type": "scatterpolargl"
           }
          ],
          "scatterternary": [
           {
            "marker": {
             "colorbar": {
              "outlinewidth": 1,
              "tickcolor": "rgb(36,36,36)",
              "ticks": "outside"
             }
            },
            "type": "scatterternary"
           }
          ],
          "surface": [
           {
            "colorbar": {
             "outlinewidth": 1,
             "tickcolor": "rgb(36,36,36)",
             "ticks": "outside"
            },
            "colorscale": [
             [
              0,
              "#440154"
             ],
             [
              0.1111111111111111,
              "#482878"
             ],
             [
              0.2222222222222222,
              "#3e4989"
             ],
             [
              0.3333333333333333,
              "#31688e"
             ],
             [
              0.4444444444444444,
              "#26828e"
             ],
             [
              0.5555555555555556,
              "#1f9e89"
             ],
             [
              0.6666666666666666,
              "#35b779"
             ],
             [
              0.7777777777777778,
              "#6ece58"
             ],
             [
              0.8888888888888888,
              "#b5de2b"
             ],
             [
              1,
              "#fde725"
             ]
            ],
            "type": "surface"
           }
          ],
          "table": [
           {
            "cells": {
             "fill": {
              "color": "rgb(237,237,237)"
             },
             "line": {
              "color": "white"
             }
            },
            "header": {
             "fill": {
              "color": "rgb(217,217,217)"
             },
             "line": {
              "color": "white"
             }
            },
            "type": "table"
           }
          ]
         },
         "layout": {
          "annotationdefaults": {
           "arrowhead": 0,
           "arrowwidth": 1
          },
          "autotypenumbers": "strict",
          "coloraxis": {
           "colorbar": {
            "outlinewidth": 1,
            "tickcolor": "rgb(36,36,36)",
            "ticks": "outside"
           }
          },
          "colorscale": {
           "diverging": [
            [
             0,
             "rgb(103,0,31)"
            ],
            [
             0.1,
             "rgb(178,24,43)"
            ],
            [
             0.2,
             "rgb(214,96,77)"
            ],
            [
             0.3,
             "rgb(244,165,130)"
            ],
            [
             0.4,
             "rgb(253,219,199)"
            ],
            [
             0.5,
             "rgb(247,247,247)"
            ],
            [
             0.6,
             "rgb(209,229,240)"
            ],
            [
             0.7,
             "rgb(146,197,222)"
            ],
            [
             0.8,
             "rgb(67,147,195)"
            ],
            [
             0.9,
             "rgb(33,102,172)"
            ],
            [
             1,
             "rgb(5,48,97)"
            ]
           ],
           "sequential": [
            [
             0,
             "#440154"
            ],
            [
             0.1111111111111111,
             "#482878"
            ],
            [
             0.2222222222222222,
             "#3e4989"
            ],
            [
             0.3333333333333333,
             "#31688e"
            ],
            [
             0.4444444444444444,
             "#26828e"
            ],
            [
             0.5555555555555556,
             "#1f9e89"
            ],
            [
             0.6666666666666666,
             "#35b779"
            ],
            [
             0.7777777777777778,
             "#6ece58"
            ],
            [
             0.8888888888888888,
             "#b5de2b"
            ],
            [
             1,
             "#fde725"
            ]
           ],
           "sequentialminus": [
            [
             0,
             "#440154"
            ],
            [
             0.1111111111111111,
             "#482878"
            ],
            [
             0.2222222222222222,
             "#3e4989"
            ],
            [
             0.3333333333333333,
             "#31688e"
            ],
            [
             0.4444444444444444,
             "#26828e"
            ],
            [
             0.5555555555555556,
             "#1f9e89"
            ],
            [
             0.6666666666666666,
             "#35b779"
            ],
            [
             0.7777777777777778,
             "#6ece58"
            ],
            [
             0.8888888888888888,
             "#b5de2b"
            ],
            [
             1,
             "#fde725"
            ]
           ]
          },
          "colorway": [
           "#1F77B4",
           "#FF7F0E",
           "#2CA02C",
           "#D62728",
           "#9467BD",
           "#8C564B",
           "#E377C2",
           "#7F7F7F",
           "#BCBD22",
           "#17BECF"
          ],
          "font": {
           "color": "rgb(36,36,36)"
          },
          "geo": {
           "bgcolor": "white",
           "lakecolor": "white",
           "landcolor": "white",
           "showlakes": true,
           "showland": true,
           "subunitcolor": "white"
          },
          "hoverlabel": {
           "align": "left"
          },
          "hovermode": "closest",
          "mapbox": {
           "style": "light"
          },
          "paper_bgcolor": "white",
          "plot_bgcolor": "white",
          "polar": {
           "angularaxis": {
            "gridcolor": "rgb(232,232,232)",
            "linecolor": "rgb(36,36,36)",
            "showgrid": false,
            "showline": true,
            "ticks": "outside"
           },
           "bgcolor": "white",
           "radialaxis": {
            "gridcolor": "rgb(232,232,232)",
            "linecolor": "rgb(36,36,36)",
            "showgrid": false,
            "showline": true,
            "ticks": "outside"
           }
          },
          "scene": {
           "xaxis": {
            "backgroundcolor": "white",
            "gridcolor": "rgb(232,232,232)",
            "gridwidth": 2,
            "linecolor": "rgb(36,36,36)",
            "showbackground": true,
            "showgrid": false,
            "showline": true,
            "ticks": "outside",
            "zeroline": false,
            "zerolinecolor": "rgb(36,36,36)"
           },
           "yaxis": {
            "backgroundcolor": "white",
            "gridcolor": "rgb(232,232,232)",
            "gridwidth": 2,
            "linecolor": "rgb(36,36,36)",
            "showbackground": true,
            "showgrid": false,
            "showline": true,
            "ticks": "outside",
            "zeroline": false,
            "zerolinecolor": "rgb(36,36,36)"
           },
           "zaxis": {
            "backgroundcolor": "white",
            "gridcolor": "rgb(232,232,232)",
            "gridwidth": 2,
            "linecolor": "rgb(36,36,36)",
            "showbackground": true,
            "showgrid": false,
            "showline": true,
            "ticks": "outside",
            "zeroline": false,
            "zerolinecolor": "rgb(36,36,36)"
           }
          },
          "shapedefaults": {
           "fillcolor": "black",
           "line": {
            "width": 0
           },
           "opacity": 0.3
          },
          "ternary": {
           "aaxis": {
            "gridcolor": "rgb(232,232,232)",
            "linecolor": "rgb(36,36,36)",
            "showgrid": false,
            "showline": true,
            "ticks": "outside"
           },
           "baxis": {
            "gridcolor": "rgb(232,232,232)",
            "linecolor": "rgb(36,36,36)",
            "showgrid": false,
            "showline": true,
            "ticks": "outside"
           },
           "bgcolor": "white",
           "caxis": {
            "gridcolor": "rgb(232,232,232)",
            "linecolor": "rgb(36,36,36)",
            "showgrid": false,
            "showline": true,
            "ticks": "outside"
           }
          },
          "title": {
           "x": 0.05
          },
          "xaxis": {
           "automargin": true,
           "gridcolor": "rgb(232,232,232)",
           "linecolor": "rgb(36,36,36)",
           "showgrid": false,
           "showline": true,
           "ticks": "outside",
           "title": {
            "standoff": 15
           },
           "zeroline": false,
           "zerolinecolor": "rgb(36,36,36)"
          },
          "yaxis": {
           "automargin": true,
           "gridcolor": "rgb(232,232,232)",
           "linecolor": "rgb(36,36,36)",
           "showgrid": false,
           "showline": true,
           "ticks": "outside",
           "title": {
            "standoff": 15
           },
           "zeroline": false,
           "zerolinecolor": "rgb(36,36,36)"
          }
         }
        },
        "width": 1200,
        "xaxis": {
         "tickangle": 15
        },
        "yaxis": {
         "range": [
          0,
          250
         ],
         "showgrid": true,
         "title": {
          "text": "Volume [Vehicles/Hour]"
         }
        }
       }
      },
      "text/html": [
       "<div>                            <div id=\"540be47f-9efa-46f9-a777-b0800be9e171\" class=\"plotly-graph-div\" style=\"height:600px; width:1200px;\"></div>            <script type=\"text/javascript\">                require([\"plotly\"], function(Plotly) {                    window.PLOTLYENV=window.PLOTLYENV || {};                                    if (document.getElementById(\"540be47f-9efa-46f9-a777-b0800be9e171\")) {                    Plotly.newPlot(                        \"540be47f-9efa-46f9-a777-b0800be9e171\",                        [{\"line\":{\"color\":\"#ffa600\",\"width\":3},\"name\":\"Criteria I.\",\"x\":[\"2020-02-24T05:30:00\",\"2020-02-24T05:40:00\",\"2020-02-24T05:50:00\",\"2020-02-24T06:00:00\",\"2020-02-24T06:10:00\",\"2020-02-24T06:20:00\",\"2020-02-24T06:30:00\",\"2020-02-24T06:40:00\",\"2020-02-24T06:50:00\",\"2020-02-24T07:00:00\",\"2020-02-24T07:10:00\",\"2020-02-24T07:20:00\",\"2020-02-24T07:30:00\",\"2020-02-24T07:40:00\",\"2020-02-24T07:50:00\",\"2020-02-24T08:00:00\",\"2020-02-24T08:10:00\",\"2020-02-24T08:20:00\",\"2020-02-24T08:30:00\",\"2020-02-24T08:40:00\",\"2020-02-24T08:50:00\",\"2020-02-24T09:00:00\",\"2020-02-24T09:10:00\",\"2020-02-24T09:20:00\",\"2020-02-24T09:30:00\",\"2020-02-24T09:40:00\",\"2020-02-24T09:50:00\",\"2020-02-24T10:00:00\",\"2020-02-24T10:10:00\",\"2020-02-24T10:20:00\",\"2020-02-24T10:30:00\",\"2020-02-24T10:40:00\",\"2020-02-24T10:50:00\",\"2020-02-24T11:00:00\",\"2020-02-24T11:10:00\",\"2020-02-24T11:20:00\",\"2020-02-24T11:30:00\",\"2020-02-24T11:40:00\"],\"y\":[84.19740542222138,68.16895331270084,44.97034703777204,150.1363731906768,63.908524936941916,68.12006188601447,66.96987219142102,127.36545328308897,97.17896829757458,176.12726426749458,172.33520961450049,136.88539077992942,190.91784039893247,185.8640792040013,185.30710822469763,104.9412757242781,137.01977122132286,116.60106033512332,136.34717822057786,129.69303962576504,115.60736997911371,125.17577541363693,111.1483392626326,108.67586874017346,94.5403932208618,141.4320725473573,93.4582799615552,115.5715122969226,110.98496158969675,106.10789621542504,130.09443897505685,104.08428805084911,123.40852500047251,141.4837199295801,148.092899542281,139.37083990997456,145.31448296607113,93.69851123572275],\"type\":\"scatter\"},{\"fill\":\"tonexty\",\"line\":{\"color\":\"#ffa600\",\"width\":3},\"name\":\"Criteria I\",\"showlegend\":false,\"x\":[\"2020-02-24T05:30:00\",\"2020-02-24T05:40:00\",\"2020-02-24T05:50:00\",\"2020-02-24T06:00:00\",\"2020-02-24T06:10:00\",\"2020-02-24T06:20:00\",\"2020-02-24T06:30:00\",\"2020-02-24T06:40:00\",\"2020-02-24T06:50:00\",\"2020-02-24T07:00:00\",\"2020-02-24T07:10:00\",\"2020-02-24T07:20:00\",\"2020-02-24T07:30:00\",\"2020-02-24T07:40:00\",\"2020-02-24T07:50:00\",\"2020-02-24T08:00:00\",\"2020-02-24T08:10:00\",\"2020-02-24T08:20:00\",\"2020-02-24T08:30:00\",\"2020-02-24T08:40:00\",\"2020-02-24T08:50:00\",\"2020-02-24T09:00:00\",\"2020-02-24T09:10:00\",\"2020-02-24T09:20:00\",\"2020-02-24T09:30:00\",\"2020-02-24T09:40:00\",\"2020-02-24T09:50:00\",\"2020-02-24T10:00:00\",\"2020-02-24T10:10:00\",\"2020-02-24T10:20:00\",\"2020-02-24T10:30:00\",\"2020-02-24T10:40:00\",\"2020-02-24T10:50:00\",\"2020-02-24T11:00:00\",\"2020-02-24T11:10:00\",\"2020-02-24T11:20:00\",\"2020-02-24T11:30:00\",\"2020-02-24T11:40:00\"],\"y\":[-12.19740542222138,-8.168953312700843,-20.970347037772036,-66.13637319067682,-51.908524936941916,-20.120061886014476,-30.969872191421025,-7.365453283088968,-49.178968297574585,-80.12726426749458,-52.335209614500485,-88.88539077992944,1.082159601067545,-41.8640792040013,-17.307108224697615,-32.9412757242781,30.98022877867715,15.398939664876671,19.652821779422133,-45.693039625765024,-31.607369979113713,-89.17577541363693,-39.148339262632604,-12.675868740173449,1.4596067791381984,14.567927452642692,2.5417200384447938,4.428487703077394,-2.984961589696745,-10.107896215425043,-22.094438975056846,-8.08428805084911,-3.4085250004725083,-9.483719929580104,19.907100457718997,4.629160090025422,46.68551703392886,26.301488764277245],\"type\":\"scatter\"},{\"line\":{\"color\":\"#bc5090\",\"width\":3},\"name\":\"Criteria II.\",\"x\":[\"2020-02-24T05:30:00\",\"2020-02-24T05:40:00\",\"2020-02-24T05:50:00\",\"2020-02-24T06:00:00\",\"2020-02-24T06:10:00\",\"2020-02-24T06:20:00\",\"2020-02-24T06:30:00\",\"2020-02-24T06:40:00\",\"2020-02-24T06:50:00\",\"2020-02-24T07:00:00\",\"2020-02-24T07:10:00\",\"2020-02-24T07:20:00\",\"2020-02-24T07:30:00\",\"2020-02-24T07:40:00\",\"2020-02-24T07:50:00\",\"2020-02-24T08:00:00\",\"2020-02-24T08:10:00\",\"2020-02-24T08:20:00\",\"2020-02-24T08:30:00\",\"2020-02-24T08:40:00\",\"2020-02-24T08:50:00\",\"2020-02-24T09:00:00\",\"2020-02-24T09:10:00\",\"2020-02-24T09:20:00\",\"2020-02-24T09:30:00\",\"2020-02-24T09:40:00\",\"2020-02-24T09:50:00\",\"2020-02-24T10:00:00\",\"2020-02-24T10:10:00\",\"2020-02-24T10:20:00\",\"2020-02-24T10:30:00\",\"2020-02-24T10:40:00\",\"2020-02-24T10:50:00\",\"2020-02-24T11:00:00\",\"2020-02-24T11:10:00\",\"2020-02-24T11:20:00\",\"2020-02-24T11:30:00\",\"2020-02-24T11:40:00\"],\"y\":[60.59051297052111,49.473955771786144,28.821605631516345,97.17161897483511,35.54516578415404,46.51023565612984,42.98462866909236,94.3701292260658,61.336208315089074,113.37105319770131,117.3138824563778,81.59458713261706,144.42746959129207,130.09391796122515,135.68730011464163,71.17412026748883,111.05090368434838,91.81686751792006,107.76896847988667,86.7413467478393,79.55478060158863,72.6815180681821,74.34098941971051,78.9570758878436,71.74509858207234,110.36330232008027,71.19299998038531,88.35281239638908,83.07395999474323,77.64688582419646,92.82369335462084,76.61443267900465,92.3512882655472,104.51210200488781,116.70045895014337,106.37287750508906,121.16045049289343,77.19311797740957],\"type\":\"scatter\"},{\"fill\":\"tonexty\",\"line\":{\"color\":\"#bc5090\",\"width\":3},\"name\":\"Criteria II\",\"showlegend\":false,\"x\":[\"2020-02-24T05:30:00\",\"2020-02-24T05:40:00\",\"2020-02-24T05:50:00\",\"2020-02-24T06:00:00\",\"2020-02-24T06:10:00\",\"2020-02-24T06:20:00\",\"2020-02-24T06:30:00\",\"2020-02-24T06:40:00\",\"2020-02-24T06:50:00\",\"2020-02-24T07:00:00\",\"2020-02-24T07:10:00\",\"2020-02-24T07:20:00\",\"2020-02-24T07:30:00\",\"2020-02-24T07:40:00\",\"2020-02-24T07:50:00\",\"2020-02-24T08:00:00\",\"2020-02-24T08:10:00\",\"2020-02-24T08:20:00\",\"2020-02-24T08:30:00\",\"2020-02-24T08:40:00\",\"2020-02-24T08:50:00\",\"2020-02-24T09:00:00\",\"2020-02-24T09:10:00\",\"2020-02-24T09:20:00\",\"2020-02-24T09:30:00\",\"2020-02-24T09:40:00\",\"2020-02-24T09:50:00\",\"2020-02-24T10:00:00\",\"2020-02-24T10:10:00\",\"2020-02-24T10:20:00\",\"2020-02-24T10:30:00\",\"2020-02-24T10:40:00\",\"2020-02-24T10:50:00\",\"2020-02-24T11:00:00\",\"2020-02-24T11:10:00\",\"2020-02-24T11:20:00\",\"2020-02-24T11:30:00\",\"2020-02-24T11:40:00\"],\"y\":[11.409487029478889,10.526044228213856,-4.821605631516345,-13.171618974835113,-23.54516578415404,1.4897643438701635,-6.984628669092359,25.6298707739342,-13.336208315089074,-17.371053197701315,2.6861175436222027,-33.594587132617065,47.57253040870793,13.906082038774848,32.312699885358356,0.8258797325111757,56.94909631565161,40.183132482079934,48.23103152011333,-2.7413467478393017,4.445219398411368,-36.68151806818211,-2.3409894197105103,17.042924112156403,24.254901417927652,45.63669767991974,24.80700001961469,31.647187603610917,24.926040005256763,18.353114175803547,15.176306645379157,19.385567320995353,27.648711734452803,27.487897995112192,51.29954104985663,37.62712249491093,70.83954950710657,42.80688202259043],\"type\":\"scatter\"},{\"line\":{\"color\":\"#003f5c\",\"width\":5},\"name\":\"Representative Day\",\"x\":[\"2020-02-24T05:30:00\",\"2020-02-24T05:40:00\",\"2020-02-24T05:50:00\",\"2020-02-24T06:00:00\",\"2020-02-24T06:10:00\",\"2020-02-24T06:20:00\",\"2020-02-24T06:30:00\",\"2020-02-24T06:40:00\",\"2020-02-24T06:50:00\",\"2020-02-24T07:00:00\",\"2020-02-24T07:10:00\",\"2020-02-24T07:20:00\",\"2020-02-24T07:30:00\",\"2020-02-24T07:40:00\",\"2020-02-24T07:50:00\",\"2020-02-24T08:00:00\",\"2020-02-24T08:10:00\",\"2020-02-24T08:20:00\",\"2020-02-24T08:30:00\",\"2020-02-24T08:40:00\",\"2020-02-24T08:50:00\",\"2020-02-24T09:00:00\",\"2020-02-24T09:10:00\",\"2020-02-24T09:20:00\",\"2020-02-24T09:30:00\",\"2020-02-24T09:40:00\",\"2020-02-24T09:50:00\",\"2020-02-24T10:00:00\",\"2020-02-24T10:10:00\",\"2020-02-24T10:20:00\",\"2020-02-24T10:30:00\",\"2020-02-24T10:40:00\",\"2020-02-24T10:50:00\",\"2020-02-24T11:00:00\",\"2020-02-24T11:10:00\",\"2020-02-24T11:20:00\",\"2020-02-24T11:30:00\",\"2020-02-24T11:40:00\"],\"y\":[36.0,30.0,12.0,42.0,6.0,24.0,18.0,60.0,24.0,48.0,60.0,24.0,96.0,72.0,84.0,36.0,84.0,66.0,78.0,42.0,42.0,18.0,36.0,48.0,48.0,78.0,48.0,60.0,54.0,48.0,54.0,48.0,60.0,66.0,84.0,72.0,96.0,60.0],\"type\":\"scatter\"},{\"marker\":{\"color\":\"red\",\"line\":{\"color\":\"black\",\"width\":2},\"size\":15,\"symbol\":\"diamond\"},\"mode\":\"markers\",\"name\":\"Simulation\",\"x\":[\"2020-02-24T05:30:00\",\"2020-02-24T05:40:00\",\"2020-02-24T05:50:00\",\"2020-02-24T06:00:00\",\"2020-02-24T06:10:00\",\"2020-02-24T06:20:00\",\"2020-02-24T06:30:00\",\"2020-02-24T06:40:00\",\"2020-02-24T06:50:00\",\"2020-02-24T07:00:00\",\"2020-02-24T07:10:00\",\"2020-02-24T07:20:00\",\"2020-02-24T07:30:00\",\"2020-02-24T07:40:00\",\"2020-02-24T07:50:00\",\"2020-02-24T08:00:00\",\"2020-02-24T08:10:00\",\"2020-02-24T08:20:00\",\"2020-02-24T08:30:00\",\"2020-02-24T08:40:00\",\"2020-02-24T08:50:00\",\"2020-02-24T09:00:00\",\"2020-02-24T09:10:00\",\"2020-02-24T09:20:00\",\"2020-02-24T09:30:00\",\"2020-02-24T09:40:00\",\"2020-02-24T09:50:00\",\"2020-02-24T10:00:00\",\"2020-02-24T10:10:00\",\"2020-02-24T10:20:00\",\"2020-02-24T10:30:00\",\"2020-02-24T10:40:00\",\"2020-02-24T10:50:00\",\"2020-02-24T11:00:00\",\"2020-02-24T11:10:00\",\"2020-02-24T11:20:00\",\"2020-02-24T11:30:00\",\"2020-02-24T11:40:00\"],\"y\":[60.0,42.0,54.0,18.0,6.0,0.0,0.0,30.0,12.0,36.0,78.0,78.0,132.0,108.0,132.0,54.0,102.0,84.0,126.0,78.0,84.0,54.0,84.0,114.0,120.0,126.0,96.0,66.0,54.0,48.0,78.0,42.0,78.0,114.0,60.0,54.0,96.0,114.0],\"type\":\"scatter\"}],                        {\"template\":{\"data\":{\"barpolar\":[{\"marker\":{\"line\":{\"color\":\"white\",\"width\":0.5},\"pattern\":{\"fillmode\":\"overlay\",\"size\":10,\"solidity\":0.2}},\"type\":\"barpolar\"}],\"bar\":[{\"error_x\":{\"color\":\"rgb(36,36,36)\"},\"error_y\":{\"color\":\"rgb(36,36,36)\"},\"marker\":{\"line\":{\"color\":\"white\",\"width\":0.5},\"pattern\":{\"fillmode\":\"overlay\",\"size\":10,\"solidity\":0.2}},\"type\":\"bar\"}],\"carpet\":[{\"aaxis\":{\"endlinecolor\":\"rgb(36,36,36)\",\"gridcolor\":\"white\",\"linecolor\":\"white\",\"minorgridcolor\":\"white\",\"startlinecolor\":\"rgb(36,36,36)\"},\"baxis\":{\"endlinecolor\":\"rgb(36,36,36)\",\"gridcolor\":\"white\",\"linecolor\":\"white\",\"minorgridcolor\":\"white\",\"startlinecolor\":\"rgb(36,36,36)\"},\"type\":\"carpet\"}],\"choropleth\":[{\"colorbar\":{\"outlinewidth\":1,\"tickcolor\":\"rgb(36,36,36)\",\"ticks\":\"outside\"},\"type\":\"choropleth\"}],\"contourcarpet\":[{\"colorbar\":{\"outlinewidth\":1,\"tickcolor\":\"rgb(36,36,36)\",\"ticks\":\"outside\"},\"type\":\"contourcarpet\"}],\"contour\":[{\"colorbar\":{\"outlinewidth\":1,\"tickcolor\":\"rgb(36,36,36)\",\"ticks\":\"outside\"},\"colorscale\":[[0.0,\"#440154\"],[0.1111111111111111,\"#482878\"],[0.2222222222222222,\"#3e4989\"],[0.3333333333333333,\"#31688e\"],[0.4444444444444444,\"#26828e\"],[0.5555555555555556,\"#1f9e89\"],[0.6666666666666666,\"#35b779\"],[0.7777777777777778,\"#6ece58\"],[0.8888888888888888,\"#b5de2b\"],[1.0,\"#fde725\"]],\"type\":\"contour\"}],\"heatmapgl\":[{\"colorbar\":{\"outlinewidth\":1,\"tickcolor\":\"rgb(36,36,36)\",\"ticks\":\"outside\"},\"colorscale\":[[0.0,\"#440154\"],[0.1111111111111111,\"#482878\"],[0.2222222222222222,\"#3e4989\"],[0.3333333333333333,\"#31688e\"],[0.4444444444444444,\"#26828e\"],[0.5555555555555556,\"#1f9e89\"],[0.6666666666666666,\"#35b779\"],[0.7777777777777778,\"#6ece58\"],[0.8888888888888888,\"#b5de2b\"],[1.0,\"#fde725\"]],\"type\":\"heatmapgl\"}],\"heatmap\":[{\"colorbar\":{\"outlinewidth\":1,\"tickcolor\":\"rgb(36,36,36)\",\"ticks\":\"outside\"},\"colorscale\":[[0.0,\"#440154\"],[0.1111111111111111,\"#482878\"],[0.2222222222222222,\"#3e4989\"],[0.3333333333333333,\"#31688e\"],[0.4444444444444444,\"#26828e\"],[0.5555555555555556,\"#1f9e89\"],[0.6666666666666666,\"#35b779\"],[0.7777777777777778,\"#6ece58\"],[0.8888888888888888,\"#b5de2b\"],[1.0,\"#fde725\"]],\"type\":\"heatmap\"}],\"histogram2dcontour\":[{\"colorbar\":{\"outlinewidth\":1,\"tickcolor\":\"rgb(36,36,36)\",\"ticks\":\"outside\"},\"colorscale\":[[0.0,\"#440154\"],[0.1111111111111111,\"#482878\"],[0.2222222222222222,\"#3e4989\"],[0.3333333333333333,\"#31688e\"],[0.4444444444444444,\"#26828e\"],[0.5555555555555556,\"#1f9e89\"],[0.6666666666666666,\"#35b779\"],[0.7777777777777778,\"#6ece58\"],[0.8888888888888888,\"#b5de2b\"],[1.0,\"#fde725\"]],\"type\":\"histogram2dcontour\"}],\"histogram2d\":[{\"colorbar\":{\"outlinewidth\":1,\"tickcolor\":\"rgb(36,36,36)\",\"ticks\":\"outside\"},\"colorscale\":[[0.0,\"#440154\"],[0.1111111111111111,\"#482878\"],[0.2222222222222222,\"#3e4989\"],[0.3333333333333333,\"#31688e\"],[0.4444444444444444,\"#26828e\"],[0.5555555555555556,\"#1f9e89\"],[0.6666666666666666,\"#35b779\"],[0.7777777777777778,\"#6ece58\"],[0.8888888888888888,\"#b5de2b\"],[1.0,\"#fde725\"]],\"type\":\"histogram2d\"}],\"histogram\":[{\"marker\":{\"line\":{\"color\":\"white\",\"width\":0.6}},\"type\":\"histogram\"}],\"mesh3d\":[{\"colorbar\":{\"outlinewidth\":1,\"tickcolor\":\"rgb(36,36,36)\",\"ticks\":\"outside\"},\"type\":\"mesh3d\"}],\"parcoords\":[{\"line\":{\"colorbar\":{\"outlinewidth\":1,\"tickcolor\":\"rgb(36,36,36)\",\"ticks\":\"outside\"}},\"type\":\"parcoords\"}],\"pie\":[{\"automargin\":true,\"type\":\"pie\"}],\"scatter3d\":[{\"line\":{\"colorbar\":{\"outlinewidth\":1,\"tickcolor\":\"rgb(36,36,36)\",\"ticks\":\"outside\"}},\"marker\":{\"colorbar\":{\"outlinewidth\":1,\"tickcolor\":\"rgb(36,36,36)\",\"ticks\":\"outside\"}},\"type\":\"scatter3d\"}],\"scattercarpet\":[{\"marker\":{\"colorbar\":{\"outlinewidth\":1,\"tickcolor\":\"rgb(36,36,36)\",\"ticks\":\"outside\"}},\"type\":\"scattercarpet\"}],\"scattergeo\":[{\"marker\":{\"colorbar\":{\"outlinewidth\":1,\"tickcolor\":\"rgb(36,36,36)\",\"ticks\":\"outside\"}},\"type\":\"scattergeo\"}],\"scattergl\":[{\"marker\":{\"colorbar\":{\"outlinewidth\":1,\"tickcolor\":\"rgb(36,36,36)\",\"ticks\":\"outside\"}},\"type\":\"scattergl\"}],\"scattermapbox\":[{\"marker\":{\"colorbar\":{\"outlinewidth\":1,\"tickcolor\":\"rgb(36,36,36)\",\"ticks\":\"outside\"}},\"type\":\"scattermapbox\"}],\"scatterpolargl\":[{\"marker\":{\"colorbar\":{\"outlinewidth\":1,\"tickcolor\":\"rgb(36,36,36)\",\"ticks\":\"outside\"}},\"type\":\"scatterpolargl\"}],\"scatterpolar\":[{\"marker\":{\"colorbar\":{\"outlinewidth\":1,\"tickcolor\":\"rgb(36,36,36)\",\"ticks\":\"outside\"}},\"type\":\"scatterpolar\"}],\"scatter\":[{\"fillpattern\":{\"fillmode\":\"overlay\",\"size\":10,\"solidity\":0.2},\"type\":\"scatter\"}],\"scatterternary\":[{\"marker\":{\"colorbar\":{\"outlinewidth\":1,\"tickcolor\":\"rgb(36,36,36)\",\"ticks\":\"outside\"}},\"type\":\"scatterternary\"}],\"surface\":[{\"colorbar\":{\"outlinewidth\":1,\"tickcolor\":\"rgb(36,36,36)\",\"ticks\":\"outside\"},\"colorscale\":[[0.0,\"#440154\"],[0.1111111111111111,\"#482878\"],[0.2222222222222222,\"#3e4989\"],[0.3333333333333333,\"#31688e\"],[0.4444444444444444,\"#26828e\"],[0.5555555555555556,\"#1f9e89\"],[0.6666666666666666,\"#35b779\"],[0.7777777777777778,\"#6ece58\"],[0.8888888888888888,\"#b5de2b\"],[1.0,\"#fde725\"]],\"type\":\"surface\"}],\"table\":[{\"cells\":{\"fill\":{\"color\":\"rgb(237,237,237)\"},\"line\":{\"color\":\"white\"}},\"header\":{\"fill\":{\"color\":\"rgb(217,217,217)\"},\"line\":{\"color\":\"white\"}},\"type\":\"table\"}]},\"layout\":{\"annotationdefaults\":{\"arrowhead\":0,\"arrowwidth\":1},\"autotypenumbers\":\"strict\",\"coloraxis\":{\"colorbar\":{\"outlinewidth\":1,\"tickcolor\":\"rgb(36,36,36)\",\"ticks\":\"outside\"}},\"colorscale\":{\"diverging\":[[0.0,\"rgb(103,0,31)\"],[0.1,\"rgb(178,24,43)\"],[0.2,\"rgb(214,96,77)\"],[0.3,\"rgb(244,165,130)\"],[0.4,\"rgb(253,219,199)\"],[0.5,\"rgb(247,247,247)\"],[0.6,\"rgb(209,229,240)\"],[0.7,\"rgb(146,197,222)\"],[0.8,\"rgb(67,147,195)\"],[0.9,\"rgb(33,102,172)\"],[1.0,\"rgb(5,48,97)\"]],\"sequential\":[[0.0,\"#440154\"],[0.1111111111111111,\"#482878\"],[0.2222222222222222,\"#3e4989\"],[0.3333333333333333,\"#31688e\"],[0.4444444444444444,\"#26828e\"],[0.5555555555555556,\"#1f9e89\"],[0.6666666666666666,\"#35b779\"],[0.7777777777777778,\"#6ece58\"],[0.8888888888888888,\"#b5de2b\"],[1.0,\"#fde725\"]],\"sequentialminus\":[[0.0,\"#440154\"],[0.1111111111111111,\"#482878\"],[0.2222222222222222,\"#3e4989\"],[0.3333333333333333,\"#31688e\"],[0.4444444444444444,\"#26828e\"],[0.5555555555555556,\"#1f9e89\"],[0.6666666666666666,\"#35b779\"],[0.7777777777777778,\"#6ece58\"],[0.8888888888888888,\"#b5de2b\"],[1.0,\"#fde725\"]]},\"colorway\":[\"#1F77B4\",\"#FF7F0E\",\"#2CA02C\",\"#D62728\",\"#9467BD\",\"#8C564B\",\"#E377C2\",\"#7F7F7F\",\"#BCBD22\",\"#17BECF\"],\"font\":{\"color\":\"rgb(36,36,36)\"},\"geo\":{\"bgcolor\":\"white\",\"lakecolor\":\"white\",\"landcolor\":\"white\",\"showlakes\":true,\"showland\":true,\"subunitcolor\":\"white\"},\"hoverlabel\":{\"align\":\"left\"},\"hovermode\":\"closest\",\"mapbox\":{\"style\":\"light\"},\"paper_bgcolor\":\"white\",\"plot_bgcolor\":\"white\",\"polar\":{\"angularaxis\":{\"gridcolor\":\"rgb(232,232,232)\",\"linecolor\":\"rgb(36,36,36)\",\"showgrid\":false,\"showline\":true,\"ticks\":\"outside\"},\"bgcolor\":\"white\",\"radialaxis\":{\"gridcolor\":\"rgb(232,232,232)\",\"linecolor\":\"rgb(36,36,36)\",\"showgrid\":false,\"showline\":true,\"ticks\":\"outside\"}},\"scene\":{\"xaxis\":{\"backgroundcolor\":\"white\",\"gridcolor\":\"rgb(232,232,232)\",\"gridwidth\":2,\"linecolor\":\"rgb(36,36,36)\",\"showbackground\":true,\"showgrid\":false,\"showline\":true,\"ticks\":\"outside\",\"zeroline\":false,\"zerolinecolor\":\"rgb(36,36,36)\"},\"yaxis\":{\"backgroundcolor\":\"white\",\"gridcolor\":\"rgb(232,232,232)\",\"gridwidth\":2,\"linecolor\":\"rgb(36,36,36)\",\"showbackground\":true,\"showgrid\":false,\"showline\":true,\"ticks\":\"outside\",\"zeroline\":false,\"zerolinecolor\":\"rgb(36,36,36)\"},\"zaxis\":{\"backgroundcolor\":\"white\",\"gridcolor\":\"rgb(232,232,232)\",\"gridwidth\":2,\"linecolor\":\"rgb(36,36,36)\",\"showbackground\":true,\"showgrid\":false,\"showline\":true,\"ticks\":\"outside\",\"zeroline\":false,\"zerolinecolor\":\"rgb(36,36,36)\"}},\"shapedefaults\":{\"fillcolor\":\"black\",\"line\":{\"width\":0},\"opacity\":0.3},\"ternary\":{\"aaxis\":{\"gridcolor\":\"rgb(232,232,232)\",\"linecolor\":\"rgb(36,36,36)\",\"showgrid\":false,\"showline\":true,\"ticks\":\"outside\"},\"baxis\":{\"gridcolor\":\"rgb(232,232,232)\",\"linecolor\":\"rgb(36,36,36)\",\"showgrid\":false,\"showline\":true,\"ticks\":\"outside\"},\"bgcolor\":\"white\",\"caxis\":{\"gridcolor\":\"rgb(232,232,232)\",\"linecolor\":\"rgb(36,36,36)\",\"showgrid\":false,\"showline\":true,\"ticks\":\"outside\"}},\"title\":{\"x\":0.05},\"xaxis\":{\"automargin\":true,\"gridcolor\":\"rgb(232,232,232)\",\"linecolor\":\"rgb(36,36,36)\",\"showgrid\":false,\"showline\":true,\"ticks\":\"outside\",\"title\":{\"standoff\":15},\"zeroline\":false,\"zerolinecolor\":\"rgb(36,36,36)\"},\"yaxis\":{\"automargin\":true,\"gridcolor\":\"rgb(232,232,232)\",\"linecolor\":\"rgb(36,36,36)\",\"showgrid\":false,\"showline\":true,\"ticks\":\"outside\",\"title\":{\"standoff\":15},\"zeroline\":false,\"zerolinecolor\":\"rgb(36,36,36)\"}}},\"yaxis\":{\"title\":{\"text\":\"Volume [Vehicles/Hour]\"},\"showgrid\":true,\"range\":[0,250]},\"font\":{\"family\":\"helvetica\",\"size\":26},\"legend\":{\"yanchor\":\"top\",\"y\":1.0,\"xanchor\":\"right\",\"x\":1,\"orientation\":\"h\"},\"xaxis\":{\"tickangle\":15},\"height\":600,\"width\":1200,\"showlegend\":true},                        {\"responsive\": true}                    ).then(function(){\n",
       "                            \n",
       "var gd = document.getElementById('540be47f-9efa-46f9-a777-b0800be9e171');\n",
       "var x = new MutationObserver(function (mutations, observer) {{\n",
       "        var display = window.getComputedStyle(gd).display;\n",
       "        if (!display || display === 'none') {{\n",
       "            console.log([gd, 'removed!']);\n",
       "            Plotly.purge(gd);\n",
       "            observer.disconnect();\n",
       "        }}\n",
       "}});\n",
       "\n",
       "// Listen for the removal of the full notebook cells\n",
       "var notebookContainer = gd.closest('#notebook-container');\n",
       "if (notebookContainer) {{\n",
       "    x.observe(notebookContainer, {childList: true});\n",
       "}}\n",
       "\n",
       "// Listen for the clearing of the current output cell\n",
       "var outputEl = gd.closest('.output');\n",
       "if (outputEl) {{\n",
       "    x.observe(outputEl, {childList: true});\n",
       "}}\n",
       "\n",
       "                        })                };                });            </script>        </div>"
      ]
     },
     "metadata": {},
     "output_type": "display_data"
    },
    {
     "name": "stdout",
     "output_type": "stream",
     "text": [
      "{63082004-4.png/TL3-NB},%\n"
     ]
    }
   ],
   "source": [
    "for pretty_tl, tl in zip(['TL1','TL2','TL3'], TRAFFIC_LIGHTS):\n",
    "    i = 0\n",
    "    for pretty_detect, detect in zip(['WB', 'EB', 'SB', 'NB'], ['WB', 'EB', 8, 4]):\n",
    "        try:\n",
    "            calibration_plot(tl, detect, show_image=True, show_legend=True, secondary=True if detect in [8, 4] else False )\n",
    "            print(f\"{{{tl}-{detect}.png/{pretty_tl}-{pretty_detect}}},%\")\n",
    "        except KeyError:\n",
    "            pass\n",
    "        i += 1 \n",
    "# shutil.make_archive('images', 'zip', 'images')"
   ]
  },
  {
   "cell_type": "markdown",
   "id": "ordinary-wesley",
   "metadata": {},
   "source": [
    "## USDOT Calibration"
   ]
  },
  {
   "cell_type": "code",
   "execution_count": 40,
   "id": "liberal-commission",
   "metadata": {},
   "outputs": [],
   "source": [
    "min_day = '2020-02-24'"
   ]
  },
  {
   "cell_type": "markdown",
   "id": "dominant-faith",
   "metadata": {},
   "source": [
    "### Criterion I. Comparing to 1.96 sigma"
   ]
  },
  {
   "cell_type": "code",
   "execution_count": 41,
   "id": "incident-drunk",
   "metadata": {},
   "outputs": [
    {
     "name": "stdout",
     "output_type": "stream",
     "text": [
      "Traffic light 63082002 and 4 are 94.73684210526315% inside 1.96 sigma\n",
      "Traffic light 63082002 and 5 are 97.36842105263158% inside 1.96 sigma\n",
      "Traffic light 63082002 and 9 are 97.36842105263158% inside 1.96 sigma\n",
      "Traffic light 63082002 and 10 are 100.0% inside 1.96 sigma\n",
      "Traffic light 63082002 and 11 are 94.73684210526315% inside 1.96 sigma\n",
      "Traffic light 63082002 and 12 are 94.73684210526315% inside 1.96 sigma\n",
      "Traffic light 63082002 and EB are 100.0% inside 1.96 sigma\n",
      "Traffic light 63082002 and WB are 97.36842105263158% inside 1.96 sigma\n",
      "Traffic light 63082003 and 1 are 92.10526315789474% inside 1.96 sigma\n",
      "Traffic light 63082003 and 3 are 89.47368421052632% inside 1.96 sigma\n",
      "Traffic light 63082003 and 4 are 39.473684210526315% inside 1.96 sigma\n",
      "Traffic light 63082003 and 5 are 86.8421052631579% inside 1.96 sigma\n",
      "Traffic light 63082003 and 7 are 97.36842105263158% inside 1.96 sigma\n",
      "Traffic light 63082003 and 8 are 92.10526315789474% inside 1.96 sigma\n",
      "Traffic light 63082003 and 9 are 97.36842105263158% inside 1.96 sigma\n",
      "Traffic light 63082003 and 10 are 100.0% inside 1.96 sigma\n",
      "Traffic light 63082003 and 11 are 100.0% inside 1.96 sigma\n",
      "Traffic light 63082003 and 12 are 97.36842105263158% inside 1.96 sigma\n",
      "Traffic light 63082003 and EB are 100.0% inside 1.96 sigma\n",
      "Traffic light 63082003 and WB are 100.0% inside 1.96 sigma\n",
      "Traffic light 63082004 and 1 are 89.47368421052632% inside 1.96 sigma\n",
      "Traffic light 63082004 and 3 are 100.0% inside 1.96 sigma\n",
      "Traffic light 63082004 and 4 are 86.8421052631579% inside 1.96 sigma\n",
      "Traffic light 63082004 and 5 are 94.73684210526315% inside 1.96 sigma\n",
      "Traffic light 63082004 and 7 are 76.31578947368422% inside 1.96 sigma\n",
      "Traffic light 63082004 and 8 are 97.36842105263158% inside 1.96 sigma\n",
      "Traffic light 63082004 and 9 are 0.0% inside 1.96 sigma\n",
      "Traffic light 63082004 and 10 are 100.0% inside 1.96 sigma\n",
      "Traffic light 63082004 and 11 are 97.36842105263158% inside 1.96 sigma\n",
      "Traffic light 63082004 and 12 are 92.10526315789474% inside 1.96 sigma\n",
      "Traffic light 63082004 and EB are 100.0% inside 1.96 sigma\n",
      "Traffic light 63082004 and WB are 100.0% inside 1.96 sigma\n"
     ]
    }
   ],
   "source": [
    "in_out_196_sigma = {}\n",
    "for tl_id in TRAFFIC_LIGHTS:\n",
    "    in_out_196_sigma[tl_id] = {}\n",
    "    for detector_id, detect_dict in average_table[tl_id].items():\n",
    "        day_counts = rw_df[f\"{tl_id}_{detector_id}\"].values * 3600 / AGG_INTERVAL\n",
    "        std_counts = detect_dict['counts']['std'].values\n",
    "        one_sigma = [\n",
    "             day_counts + 1.96 * std_counts,\n",
    "             day_counts - 1.96 * std_counts\n",
    "             ]\n",
    "        inside = ((sumo_df[f\"{tl_id}_{detector_id}\"] * 3600 / AGG_INTERVAL) > one_sigma[1]) & ((sumo_df[f\"{tl_id}_{detector_id}\"] * 3600 / AGG_INTERVAL) < one_sigma[0])\n",
    "        inside = inside * 1\n",
    "        in_out_196_sigma[tl_id][detector_id] = sum(inside) / len(inside)\n",
    "        print(f\"Traffic light {tl_id} and {detector_id} are {in_out_196_sigma[tl_id][detector_id] * 100}% inside 1.96 sigma\")"
   ]
  },
  {
   "cell_type": "markdown",
   "id": "enabling-interim",
   "metadata": {},
   "source": [
    "### Criterion II. Comparing to 1 sigma\n",
    "\n"
   ]
  },
  {
   "cell_type": "code",
   "execution_count": 42,
   "id": "minute-intelligence",
   "metadata": {},
   "outputs": [
    {
     "name": "stdout",
     "output_type": "stream",
     "text": [
      "Traffic light 63082002 and 4 are 55.26315789473685% inside 1 sigma\n",
      "Traffic light 63082002 and 5 are 65.78947368421053% inside 1 sigma\n",
      "Traffic light 63082002 and 9 are 65.78947368421053% inside 1 sigma\n",
      "Traffic light 63082002 and 10 are 78.94736842105263% inside 1 sigma\n",
      "Traffic light 63082002 and 11 are 81.57894736842105% inside 1 sigma\n",
      "Traffic light 63082002 and 12 are 63.1578947368421% inside 1 sigma\n",
      "Traffic light 63082002 and EB are 86.8421052631579% inside 1 sigma\n",
      "Traffic light 63082002 and WB are 68.42105263157895% inside 1 sigma\n",
      "Traffic light 63082003 and 1 are 47.368421052631575% inside 1 sigma\n",
      "Traffic light 63082003 and 3 are 52.63157894736842% inside 1 sigma\n",
      "Traffic light 63082003 and 4 are 21.052631578947366% inside 1 sigma\n",
      "Traffic light 63082003 and 5 are 55.26315789473685% inside 1 sigma\n",
      "Traffic light 63082003 and 7 are 52.63157894736842% inside 1 sigma\n",
      "Traffic light 63082003 and 8 are 42.10526315789473% inside 1 sigma\n",
      "Traffic light 63082003 and 9 are 71.05263157894737% inside 1 sigma\n",
      "Traffic light 63082003 and 10 are 68.42105263157895% inside 1 sigma\n",
      "Traffic light 63082003 and 11 are 68.42105263157895% inside 1 sigma\n",
      "Traffic light 63082003 and 12 are 71.05263157894737% inside 1 sigma\n",
      "Traffic light 63082003 and EB are 94.73684210526315% inside 1 sigma\n",
      "Traffic light 63082003 and WB are 81.57894736842105% inside 1 sigma\n",
      "Traffic light 63082004 and 1 are 52.63157894736842% inside 1 sigma\n",
      "Traffic light 63082004 and 3 are 76.31578947368422% inside 1 sigma\n",
      "Traffic light 63082004 and 4 are 71.05263157894737% inside 1 sigma\n",
      "Traffic light 63082004 and 5 are 73.68421052631578% inside 1 sigma\n",
      "Traffic light 63082004 and 7 are 15.789473684210526% inside 1 sigma\n",
      "Traffic light 63082004 and 8 are 76.31578947368422% inside 1 sigma\n",
      "Traffic light 63082004 and 9 are 0.0% inside 1 sigma\n",
      "Traffic light 63082004 and 10 are 100.0% inside 1 sigma\n",
      "Traffic light 63082004 and 11 are 73.68421052631578% inside 1 sigma\n",
      "Traffic light 63082004 and 12 are 65.78947368421053% inside 1 sigma\n",
      "Traffic light 63082004 and EB are 94.73684210526315% inside 1 sigma\n",
      "Traffic light 63082004 and WB are 97.36842105263158% inside 1 sigma\n"
     ]
    }
   ],
   "source": [
    "in_out_1_sigma = {}\n",
    "for tl_id in TRAFFIC_LIGHTS:\n",
    "    in_out_1_sigma[tl_id] = {}\n",
    "    for detector_id, detect_dict in average_table[tl_id].items():\n",
    "        day_counts = rw_df[f\"{tl_id}_{detector_id}\"].values * 3600 / AGG_INTERVAL\n",
    "        std_counts = detect_dict['counts']['std'].values\n",
    "        one_sigma = [\n",
    "             day_counts + std_counts,\n",
    "             day_counts - std_counts\n",
    "             ]\n",
    "        inside = ((sumo_df[f\"{tl_id}_{detector_id}\"] * 3600 / AGG_INTERVAL) > one_sigma[1]) & ((sumo_df[f\"{tl_id}_{detector_id}\"] * 3600 / AGG_INTERVAL) < one_sigma[0])\n",
    "        inside = inside * 1\n",
    "        in_out_1_sigma[tl_id][detector_id] = sum(inside) / len(inside)\n",
    "        print(f\"Traffic light {tl_id} and {detector_id} are {in_out_1_sigma[tl_id][detector_id] * 100}% inside 1 sigma\")"
   ]
  },
  {
   "cell_type": "markdown",
   "id": "white-bernard",
   "metadata": {},
   "source": [
    "### Criterion III: Bounded Dynamic Absolute Error (BDAE)"
   ]
  },
  {
   "cell_type": "code",
   "execution_count": 43,
   "id": "latest-progress",
   "metadata": {},
   "outputs": [
    {
     "name": "stdout",
     "output_type": "stream",
     "text": [
      "130.59539170506912 10.421052631578947\n",
      "Traffic light 63082002 and 4 detector are inside BDAE\n",
      "206.35576036866357 23.68421052631579\n",
      "Traffic light 63082002 and 5 detector are inside BDAE\n",
      "561.9096774193547 64.57894736842105\n",
      "Traffic light 63082002 and 9 detector are inside BDAE\n",
      "549.3124423963134 49.26315789473684\n",
      "Traffic light 63082002 and 10 detector are inside BDAE\n",
      "533.7179723502304 45.0\n",
      "Traffic light 63082002 and 11 detector are inside BDAE\n",
      "566.4221198156681 51.0\n",
      "Traffic light 63082002 and 12 detector are inside BDAE\n",
      "969.3013824884794 64.57894736842105\n",
      "Traffic light 63082002 and EB detector are inside BDAE\n",
      "950.941935483871 68.84210526315789\n",
      "Traffic light 63082002 and WB detector are inside BDAE\n",
      "169.84700460829492 22.105263157894736\n",
      "Traffic light 63082003 and 1 detector are inside BDAE\n",
      "120.49769585253456 12.947368421052632\n",
      "Traffic light 63082003 and 3 detector are inside BDAE\n",
      "142.694930875576 46.578947368421055\n",
      "Traffic light 63082003 and 4 detector are inside BDAE\n",
      "137.96129032258068 19.263157894736842\n",
      "Traffic light 63082003 and 5 detector are inside BDAE\n",
      "97.41566820276498 14.526315789473685\n",
      "Traffic light 63082003 and 7 detector are inside BDAE\n",
      "99.12995391705071 12.157894736842104\n",
      "Traffic light 63082003 and 8 detector are inside BDAE\n",
      "593.5520737327189 64.10526315789474\n",
      "Traffic light 63082003 and 9 detector are inside BDAE\n",
      "558.1603686635945 51.0\n",
      "Traffic light 63082003 and 10 detector are inside BDAE\n",
      "581.4414746543778 51.1578947368421\n",
      "Traffic light 63082003 and 11 detector are inside BDAE\n",
      "539.8562211981566 42.94736842105263\n",
      "Traffic light 63082003 and 12 detector are inside BDAE\n",
      "1005.4341013824885 52.26315789473684\n",
      "Traffic light 63082003 and EB detector are inside BDAE\n",
      "958.6506912442395 58.421052631578945\n",
      "Traffic light 63082003 and WB detector are inside BDAE\n",
      "148.61198156682028 13.578947368421053\n",
      "Traffic light 63082004 and 1 detector are inside BDAE\n",
      "237.17972350230417 16.57894736842105\n",
      "Traffic light 63082004 and 3 detector are inside BDAE\n",
      "272.42764976958523 28.57894736842105\n",
      "Traffic light 63082004 and 4 detector are inside BDAE\n",
      "193.91336405529952 17.36842105263158\n",
      "Traffic light 63082004 and 5 detector are inside BDAE\n",
      "175.3437788018433 31.263157894736842\n",
      "Traffic light 63082004 and 7 detector are inside BDAE\n",
      "223.39907834101382 20.36842105263158\n",
      "Traffic light 63082004 and 8 detector are inside BDAE\n",
      "0.0 69.0\n",
      "Traffic light 63082004 and 9 detector are not inside BDAE\n",
      "1051.2442396313363 57.31578947368421\n",
      "Traffic light 63082004 and 10 detector are inside BDAE\n",
      "1074.116129032258 92.84210526315789\n",
      "Traffic light 63082004 and 11 detector are inside BDAE\n",
      "1149.9539170506912 91.73684210526316\n",
      "Traffic light 63082004 and 12 detector are inside BDAE\n",
      "1051.2442396313363 72.94736842105263\n",
      "Traffic light 63082004 and EB detector are inside BDAE\n",
      "2111.900460829493 80.36842105263158\n",
      "Traffic light 63082004 and WB detector are inside BDAE\n"
     ]
    }
   ],
   "source": [
    "in_out_bounded = {}\n",
    "for tl_id in TRAFFIC_LIGHTS:\n",
    "    in_out_bounded[tl_id] = {}\n",
    "    for detector_id, detect_dict in average_table[tl_id].items():\n",
    "        BDAE = detect_dict['BDAE']\n",
    "        N_T = len(detect_dict['counts'][min_day])\n",
    "        sumo_counts = (sumo_df[f\"{tl_id}_{detector_id}\"] * 3600 / AGG_INTERVAL).values\n",
    "        rw_counts = (rw_df[f\"{tl_id}_{detector_id}\"] * 3600 / AGG_INTERVAL).values\n",
    "        print(BDAE, sum(abs(sumo_counts - rw_counts)) / N_T)\n",
    "        inside = BDAE >= sum(abs(sumo_counts - rw_counts)) / N_T\n",
    "        in_out_bounded[tl_id][detector_id] = inside\n",
    "        print(f\"Traffic light {tl_id} and {detector_id} detector {'are' if in_out_bounded[tl_id][detector_id] else 'are not'} inside BDAE\") "
   ]
  },
  {
   "cell_type": "markdown",
   "id": "unusual-carter",
   "metadata": {},
   "source": [
    "### Criterion IV. Bounded Dynamic Systematic Error"
   ]
  },
  {
   "cell_type": "code",
   "execution_count": 44,
   "id": "abandoned-webcam",
   "metadata": {},
   "outputs": [
    {
     "name": "stdout",
     "output_type": "stream",
     "text": [
      "Traffic light 63082002 and 4 detector are inside systematic BDAE\n",
      "Traffic light 63082002 and 5 detector are inside systematic BDAE\n",
      "Traffic light 63082002 and 9 detector are inside systematic BDAE\n",
      "Traffic light 63082002 and 10 detector are inside systematic BDAE\n",
      "Traffic light 63082002 and 11 detector are inside systematic BDAE\n",
      "Traffic light 63082002 and 12 detector are inside systematic BDAE\n",
      "Traffic light 63082002 and EB detector are inside systematic BDAE\n",
      "Traffic light 63082002 and WB detector are inside systematic BDAE\n",
      "Traffic light 63082003 and 1 detector are inside systematic BDAE\n",
      "Traffic light 63082003 and 3 detector are inside systematic BDAE\n",
      "Traffic light 63082003 and 4 detector are inside systematic BDAE\n",
      "Traffic light 63082003 and 5 detector are inside systematic BDAE\n",
      "Traffic light 63082003 and 7 detector are inside systematic BDAE\n",
      "Traffic light 63082003 and 8 detector are inside systematic BDAE\n",
      "Traffic light 63082003 and 9 detector are inside systematic BDAE\n",
      "Traffic light 63082003 and 10 detector are inside systematic BDAE\n",
      "Traffic light 63082003 and 11 detector are inside systematic BDAE\n",
      "Traffic light 63082003 and 12 detector are inside systematic BDAE\n",
      "Traffic light 63082003 and EB detector are inside systematic BDAE\n",
      "Traffic light 63082003 and WB detector are inside systematic BDAE\n",
      "Traffic light 63082004 and 1 detector are inside systematic BDAE\n",
      "Traffic light 63082004 and 3 detector are inside systematic BDAE\n",
      "Traffic light 63082004 and 4 detector are inside systematic BDAE\n",
      "Traffic light 63082004 and 5 detector are inside systematic BDAE\n",
      "Traffic light 63082004 and 7 detector are inside systematic BDAE\n",
      "Traffic light 63082004 and 8 detector are inside systematic BDAE\n",
      "Traffic light 63082004 and 9 detector are not inside systematic BDAE\n",
      "Traffic light 63082004 and 10 detector are inside systematic BDAE\n",
      "Traffic light 63082004 and 11 detector are inside systematic BDAE\n",
      "Traffic light 63082004 and 12 detector are inside systematic BDAE\n",
      "Traffic light 63082004 and EB detector are inside systematic BDAE\n",
      "Traffic light 63082004 and WB detector are inside systematic BDAE\n"
     ]
    }
   ],
   "source": [
    "in_out_bounded_systematic = {}\n",
    "for tl_id in TRAFFIC_LIGHTS:\n",
    "    in_out_bounded_systematic[tl_id] = {}\n",
    "    for detector_id, detect_dict in average_table[tl_id].items():\n",
    "        BDAE = detect_dict['BDAE']\n",
    "        N_T = len(detect_dict['counts'][min_day])\n",
    "\n",
    "        sumo_counts = (sumo_df[f\"{tl_id}_{detector_id}\"] * 3600 / AGG_INTERVAL).values\n",
    "        rw_counts = (rw_df[f\"{tl_id}_{detector_id}\"] * 3600 / AGG_INTERVAL).values\n",
    "\n",
    "        inside = (BDAE*1/3) >= abs(sum(sumo_counts - rw_counts) / N_T)\n",
    "        in_out_bounded_systematic[tl_id][detector_id] = inside\n",
    "        print(f\"Traffic light {tl_id} and {detector_id} detector {'are' if in_out_bounded_systematic[tl_id][detector_id] else 'are not'} inside systematic BDAE\") "
   ]
  },
  {
   "cell_type": "code",
   "execution_count": 45,
   "id": "warming-austin",
   "metadata": {},
   "outputs": [],
   "source": [
    "multi_index = [(tl, detect) for tl in TRAFFIC_LIGHTS for detect in average_table[tl].keys()]\n",
    "cols = pd.MultiIndex.from_tuples(multi_index)\n",
    "pd_df = pd.DataFrame(index=['1.96 Sigma', '1 Sigma','Bounded Dynamic Absolute Error (BDAE)','Bounded Dynamic Systematic Error'], columns=cols)"
   ]
  },
  {
   "cell_type": "code",
   "execution_count": 46,
   "id": "proof-institution",
   "metadata": {},
   "outputs": [
    {
     "data": {
      "text/html": [
       "<div>\n",
       "<style scoped>\n",
       "    .dataframe tbody tr th:only-of-type {\n",
       "        vertical-align: middle;\n",
       "    }\n",
       "\n",
       "    .dataframe tbody tr th {\n",
       "        vertical-align: top;\n",
       "    }\n",
       "\n",
       "    .dataframe thead tr th {\n",
       "        text-align: left;\n",
       "    }\n",
       "</style>\n",
       "<table border=\"1\" class=\"dataframe\">\n",
       "  <thead>\n",
       "    <tr>\n",
       "      <th></th>\n",
       "      <th colspan=\"8\" halign=\"left\">63082002</th>\n",
       "      <th colspan=\"12\" halign=\"left\">63082003</th>\n",
       "      <th colspan=\"12\" halign=\"left\">63082004</th>\n",
       "    </tr>\n",
       "    <tr>\n",
       "      <th></th>\n",
       "      <th>4</th>\n",
       "      <th>5</th>\n",
       "      <th>9</th>\n",
       "      <th>10</th>\n",
       "      <th>11</th>\n",
       "      <th>12</th>\n",
       "      <th>EB</th>\n",
       "      <th>WB</th>\n",
       "      <th>1</th>\n",
       "      <th>3</th>\n",
       "      <th>4</th>\n",
       "      <th>5</th>\n",
       "      <th>7</th>\n",
       "      <th>8</th>\n",
       "      <th>9</th>\n",
       "      <th>10</th>\n",
       "      <th>11</th>\n",
       "      <th>12</th>\n",
       "      <th>EB</th>\n",
       "      <th>WB</th>\n",
       "      <th>1</th>\n",
       "      <th>3</th>\n",
       "      <th>4</th>\n",
       "      <th>5</th>\n",
       "      <th>7</th>\n",
       "      <th>8</th>\n",
       "      <th>9</th>\n",
       "      <th>10</th>\n",
       "      <th>11</th>\n",
       "      <th>12</th>\n",
       "      <th>EB</th>\n",
       "      <th>WB</th>\n",
       "    </tr>\n",
       "  </thead>\n",
       "  <tbody>\n",
       "    <tr>\n",
       "      <th>1.96 Sigma</th>\n",
       "      <td>94.74</td>\n",
       "      <td>97.37</td>\n",
       "      <td>97.37</td>\n",
       "      <td>100.0</td>\n",
       "      <td>94.74</td>\n",
       "      <td>94.74</td>\n",
       "      <td>100.0</td>\n",
       "      <td>97.37</td>\n",
       "      <td>92.11</td>\n",
       "      <td>89.47</td>\n",
       "      <td>39.47</td>\n",
       "      <td>86.84</td>\n",
       "      <td>97.37</td>\n",
       "      <td>92.11</td>\n",
       "      <td>97.37</td>\n",
       "      <td>100.0</td>\n",
       "      <td>100.0</td>\n",
       "      <td>97.37</td>\n",
       "      <td>100.0</td>\n",
       "      <td>100.0</td>\n",
       "      <td>89.47</td>\n",
       "      <td>100.0</td>\n",
       "      <td>86.84</td>\n",
       "      <td>94.74</td>\n",
       "      <td>76.32</td>\n",
       "      <td>97.37</td>\n",
       "      <td>0.0</td>\n",
       "      <td>100.0</td>\n",
       "      <td>97.37</td>\n",
       "      <td>92.11</td>\n",
       "      <td>100.0</td>\n",
       "      <td>100.0</td>\n",
       "    </tr>\n",
       "    <tr>\n",
       "      <th>1 Sigma</th>\n",
       "      <td>55.26</td>\n",
       "      <td>65.79</td>\n",
       "      <td>65.79</td>\n",
       "      <td>78.95</td>\n",
       "      <td>81.58</td>\n",
       "      <td>63.16</td>\n",
       "      <td>86.84</td>\n",
       "      <td>68.42</td>\n",
       "      <td>47.37</td>\n",
       "      <td>52.63</td>\n",
       "      <td>21.05</td>\n",
       "      <td>55.26</td>\n",
       "      <td>52.63</td>\n",
       "      <td>42.11</td>\n",
       "      <td>71.05</td>\n",
       "      <td>68.42</td>\n",
       "      <td>68.42</td>\n",
       "      <td>71.05</td>\n",
       "      <td>94.74</td>\n",
       "      <td>81.58</td>\n",
       "      <td>52.63</td>\n",
       "      <td>76.32</td>\n",
       "      <td>71.05</td>\n",
       "      <td>73.68</td>\n",
       "      <td>15.79</td>\n",
       "      <td>76.32</td>\n",
       "      <td>0.0</td>\n",
       "      <td>100.0</td>\n",
       "      <td>73.68</td>\n",
       "      <td>65.79</td>\n",
       "      <td>94.74</td>\n",
       "      <td>97.37</td>\n",
       "    </tr>\n",
       "    <tr>\n",
       "      <th>Bounded Dynamic Absolute Error (BDAE)</th>\n",
       "      <td>True</td>\n",
       "      <td>True</td>\n",
       "      <td>True</td>\n",
       "      <td>True</td>\n",
       "      <td>True</td>\n",
       "      <td>True</td>\n",
       "      <td>True</td>\n",
       "      <td>True</td>\n",
       "      <td>True</td>\n",
       "      <td>True</td>\n",
       "      <td>True</td>\n",
       "      <td>True</td>\n",
       "      <td>True</td>\n",
       "      <td>True</td>\n",
       "      <td>True</td>\n",
       "      <td>True</td>\n",
       "      <td>True</td>\n",
       "      <td>True</td>\n",
       "      <td>True</td>\n",
       "      <td>True</td>\n",
       "      <td>True</td>\n",
       "      <td>True</td>\n",
       "      <td>True</td>\n",
       "      <td>True</td>\n",
       "      <td>True</td>\n",
       "      <td>True</td>\n",
       "      <td>False</td>\n",
       "      <td>True</td>\n",
       "      <td>True</td>\n",
       "      <td>True</td>\n",
       "      <td>True</td>\n",
       "      <td>True</td>\n",
       "    </tr>\n",
       "    <tr>\n",
       "      <th>Bounded Dynamic Systematic Error</th>\n",
       "      <td>True</td>\n",
       "      <td>True</td>\n",
       "      <td>True</td>\n",
       "      <td>True</td>\n",
       "      <td>True</td>\n",
       "      <td>True</td>\n",
       "      <td>True</td>\n",
       "      <td>True</td>\n",
       "      <td>True</td>\n",
       "      <td>True</td>\n",
       "      <td>True</td>\n",
       "      <td>True</td>\n",
       "      <td>True</td>\n",
       "      <td>True</td>\n",
       "      <td>True</td>\n",
       "      <td>True</td>\n",
       "      <td>True</td>\n",
       "      <td>True</td>\n",
       "      <td>True</td>\n",
       "      <td>True</td>\n",
       "      <td>True</td>\n",
       "      <td>True</td>\n",
       "      <td>True</td>\n",
       "      <td>True</td>\n",
       "      <td>True</td>\n",
       "      <td>True</td>\n",
       "      <td>False</td>\n",
       "      <td>True</td>\n",
       "      <td>True</td>\n",
       "      <td>True</td>\n",
       "      <td>True</td>\n",
       "      <td>True</td>\n",
       "    </tr>\n",
       "  </tbody>\n",
       "</table>\n",
       "</div>"
      ],
      "text/plain": [
       "                                      63082002                              \\\n",
       "                                             4      5      9     10     11   \n",
       "1.96 Sigma                               94.74  97.37  97.37  100.0  94.74   \n",
       "1 Sigma                                  55.26  65.79  65.79  78.95  81.58   \n",
       "Bounded Dynamic Absolute Error (BDAE)     True   True   True   True   True   \n",
       "Bounded Dynamic Systematic Error          True   True   True   True   True   \n",
       "\n",
       "                                                           63082003         \\\n",
       "                                          12     EB     WB        1      3   \n",
       "1.96 Sigma                             94.74  100.0  97.37    92.11  89.47   \n",
       "1 Sigma                                63.16  86.84  68.42    47.37  52.63   \n",
       "Bounded Dynamic Absolute Error (BDAE)   True   True   True     True   True   \n",
       "Bounded Dynamic Systematic Error        True   True   True     True   True   \n",
       "\n",
       "                                                                          \\\n",
       "                                           4      5      7      8      9   \n",
       "1.96 Sigma                             39.47  86.84  97.37  92.11  97.37   \n",
       "1 Sigma                                21.05  55.26  52.63  42.11  71.05   \n",
       "Bounded Dynamic Absolute Error (BDAE)   True   True   True   True   True   \n",
       "Bounded Dynamic Systematic Error        True   True   True   True   True   \n",
       "\n",
       "                                                                          \\\n",
       "                                          10     11     12     EB     WB   \n",
       "1.96 Sigma                             100.0  100.0  97.37  100.0  100.0   \n",
       "1 Sigma                                68.42  68.42  71.05  94.74  81.58   \n",
       "Bounded Dynamic Absolute Error (BDAE)   True   True   True   True   True   \n",
       "Bounded Dynamic Systematic Error        True   True   True   True   True   \n",
       "\n",
       "                                      63082004                              \\\n",
       "                                             1      3      4      5      7   \n",
       "1.96 Sigma                               89.47  100.0  86.84  94.74  76.32   \n",
       "1 Sigma                                  52.63  76.32  71.05  73.68  15.79   \n",
       "Bounded Dynamic Absolute Error (BDAE)     True   True   True   True   True   \n",
       "Bounded Dynamic Systematic Error          True   True   True   True   True   \n",
       "\n",
       "                                                                          \\\n",
       "                                           8      9     10     11     12   \n",
       "1.96 Sigma                             97.37    0.0  100.0  97.37  92.11   \n",
       "1 Sigma                                76.32    0.0  100.0  73.68  65.79   \n",
       "Bounded Dynamic Absolute Error (BDAE)   True  False   True   True   True   \n",
       "Bounded Dynamic Systematic Error        True  False   True   True   True   \n",
       "\n",
       "                                                     \n",
       "                                          EB     WB  \n",
       "1.96 Sigma                             100.0  100.0  \n",
       "1 Sigma                                94.74  97.37  \n",
       "Bounded Dynamic Absolute Error (BDAE)   True   True  \n",
       "Bounded Dynamic Systematic Error        True   True  "
      ]
     },
     "execution_count": 46,
     "metadata": {},
     "output_type": "execute_result"
    }
   ],
   "source": [
    "# display all columns\n",
    "pd.set_option('display.max_columns', None)\n",
    "\n",
    "for tl in TRAFFIC_LIGHTS: \n",
    "    for detect in average_table[tl].keys():\n",
    "#         if detect in ['EB', 'WB']: \n",
    "        pd_df.loc['1 Sigma', (tl, detect)] = round(in_out_1_sigma[tl][detect] * 100, 2)\n",
    "        pd_df.loc['1.96 Sigma', (tl, detect)] = round(in_out_196_sigma[tl][detect] * 100, 2)\n",
    "        pd_df.loc['Bounded Dynamic Absolute Error (BDAE)', (tl, detect)] = in_out_bounded[tl][detect]\n",
    "        pd_df.loc['Bounded Dynamic Systematic Error', (tl, detect)] = in_out_bounded_systematic[tl][detect]\n",
    "pd_df"
   ]
  },
  {
   "cell_type": "code",
   "execution_count": 24,
   "id": "5dde87c4",
   "metadata": {},
   "outputs": [],
   "source": [
    "# from sumolib.xml import parse_fast_structured\n",
    "\n",
    "# iters = parse_fast_structured(\n",
    "#     str(Path(s.OUTPUT_ROOT) / \"fcd.final.out.xml\"),\n",
    "#     'timestep', ['time'],\n",
    "#     {'vehicle': ['id']}\n",
    "# )\n",
    "# df = pd.DataFrame(iters)\n",
    "# # df['vehicle'] = df['vehicle'].apply(lambda x: len(x))\n",
    "# df = df.loc[df['time'].astype(float) % 5 <= 0].copy()\n",
    "# df['vehicle'] = df['vehicle'].apply(lambda x: len(x))"
   ]
  },
  {
   "cell_type": "code",
   "execution_count": 25,
   "id": "177a5b53",
   "metadata": {},
   "outputs": [
    {
     "data": {
      "application/vnd.plotly.v1+json": {
       "config": {
        "plotlyServerURL": "https://plot.ly"
       },
       "data": [
        {
         "hovertemplate": "Time=%{x}<br>Number of Vehicles=%{y}<extra></extra>",
         "legendgroup": "",
         "line": {
          "color": "#636efa",
          "dash": "solid"
         },
         "marker": {
          "symbol": "circle"
         },
         "mode": "lines",
         "name": "",
         "showlegend": false,
         "type": "scattergl",
         "x": [
          "0.00",
          "5.00",
          "10.00",
          "15.00",
          "20.00",
          "25.00",
          "30.00",
          "35.00",
          "40.00",
          "45.00",
          "50.00",
          "55.00",
          "60.00",
          "65.00",
          "70.00",
          "75.00",
          "80.00",
          "85.00",
          "90.00",
          "95.00",
          "100.00",
          "105.00",
          "110.00",
          "115.00",
          "120.00",
          "125.00",
          "130.00",
          "135.00",
          "140.00",
          "145.00",
          "150.00",
          "155.00",
          "160.00",
          "165.00",
          "170.00",
          "175.00",
          "180.00",
          "185.00",
          "190.00",
          "195.00",
          "200.00",
          "205.00",
          "210.00",
          "215.00",
          "220.00",
          "225.00",
          "230.00",
          "235.00",
          "240.00",
          "245.00",
          "250.00",
          "255.00",
          "260.00",
          "265.00",
          "270.00",
          "275.00",
          "280.00",
          "285.00",
          "290.00",
          "295.00",
          "300.00",
          "305.00",
          "310.00",
          "315.00",
          "320.00",
          "325.00",
          "330.00",
          "335.00",
          "340.00",
          "345.00",
          "350.00",
          "355.00",
          "360.00",
          "365.00",
          "370.00",
          "375.00",
          "380.00",
          "385.00",
          "390.00",
          "395.00",
          "400.00",
          "405.00",
          "410.00",
          "415.00",
          "420.00",
          "425.00",
          "430.00",
          "435.00",
          "440.00",
          "445.00",
          "450.00",
          "455.00",
          "460.00",
          "465.00",
          "470.00",
          "475.00",
          "480.00",
          "485.00",
          "490.00",
          "495.00",
          "500.00",
          "505.00",
          "510.00",
          "515.00",
          "520.00",
          "525.00",
          "530.00",
          "535.00",
          "540.00",
          "545.00",
          "550.00",
          "555.00",
          "560.00",
          "565.00",
          "570.00",
          "575.00",
          "580.00",
          "585.00",
          "590.00",
          "595.00",
          "600.00",
          "605.00",
          "610.00",
          "615.00",
          "620.00",
          "625.00",
          "630.00",
          "635.00",
          "640.00",
          "645.00",
          "650.00",
          "655.00",
          "660.00",
          "665.00",
          "670.00",
          "675.00",
          "680.00",
          "685.00",
          "690.00",
          "695.00",
          "700.00",
          "705.00",
          "710.00",
          "715.00",
          "720.00",
          "725.00",
          "730.00",
          "735.00",
          "740.00",
          "745.00",
          "750.00",
          "755.00",
          "760.00",
          "765.00",
          "770.00",
          "775.00",
          "780.00",
          "785.00",
          "790.00",
          "795.00",
          "800.00",
          "805.00",
          "810.00",
          "815.00",
          "820.00",
          "825.00",
          "830.00",
          "835.00",
          "840.00",
          "845.00",
          "850.00",
          "855.00",
          "860.00",
          "865.00",
          "870.00",
          "875.00",
          "880.00",
          "885.00",
          "890.00",
          "895.00",
          "900.00",
          "905.00",
          "910.00",
          "915.00",
          "920.00",
          "925.00",
          "930.00",
          "935.00",
          "940.00",
          "945.00",
          "950.00",
          "955.00",
          "960.00",
          "965.00",
          "970.00",
          "975.00",
          "980.00",
          "985.00",
          "990.00",
          "995.00",
          "1000.00",
          "1005.00",
          "1010.00",
          "1015.00",
          "1020.00",
          "1025.00",
          "1030.00",
          "1035.00",
          "1040.00",
          "1045.00",
          "1050.00",
          "1055.00",
          "1060.00",
          "1065.00",
          "1070.00",
          "1075.00",
          "1080.00",
          "1085.00",
          "1090.00",
          "1095.00",
          "1100.00",
          "1105.00",
          "1110.00",
          "1115.00",
          "1120.00",
          "1125.00",
          "1130.00",
          "1135.00",
          "1140.00",
          "1145.00",
          "1150.00",
          "1155.00",
          "1160.00",
          "1165.00",
          "1170.00",
          "1175.00",
          "1180.00",
          "1185.00",
          "1190.00",
          "1195.00",
          "1200.00",
          "1205.00",
          "1210.00",
          "1215.00",
          "1220.00",
          "1225.00",
          "1230.00",
          "1235.00",
          "1240.00",
          "1245.00",
          "1250.00",
          "1255.00",
          "1260.00",
          "1265.00",
          "1270.00",
          "1275.00",
          "1280.00",
          "1285.00",
          "1290.00",
          "1295.00",
          "1300.00",
          "1305.00",
          "1310.00",
          "1315.00",
          "1320.00",
          "1325.00",
          "1330.00",
          "1335.00",
          "1340.00",
          "1345.00",
          "1350.00",
          "1355.00",
          "1360.00",
          "1365.00",
          "1370.00",
          "1375.00",
          "1380.00",
          "1385.00",
          "1390.00",
          "1395.00",
          "1400.00",
          "1405.00",
          "1410.00",
          "1415.00",
          "1420.00",
          "1425.00",
          "1430.00",
          "1435.00",
          "1440.00",
          "1445.00",
          "1450.00",
          "1455.00",
          "1460.00",
          "1465.00",
          "1470.00",
          "1475.00",
          "1480.00",
          "1485.00",
          "1490.00",
          "1495.00",
          "1500.00",
          "1505.00",
          "1510.00",
          "1515.00",
          "1520.00",
          "1525.00",
          "1530.00",
          "1535.00",
          "1540.00",
          "1545.00",
          "1550.00",
          "1555.00",
          "1560.00",
          "1565.00",
          "1570.00",
          "1575.00",
          "1580.00",
          "1585.00",
          "1590.00",
          "1595.00",
          "1600.00",
          "1605.00",
          "1610.00",
          "1615.00",
          "1620.00",
          "1625.00",
          "1630.00",
          "1635.00",
          "1640.00",
          "1645.00",
          "1650.00",
          "1655.00",
          "1660.00",
          "1665.00",
          "1670.00",
          "1675.00",
          "1680.00",
          "1685.00",
          "1690.00",
          "1695.00",
          "1700.00",
          "1705.00",
          "1710.00",
          "1715.00",
          "1720.00",
          "1725.00",
          "1730.00",
          "1735.00",
          "1740.00",
          "1745.00",
          "1750.00",
          "1755.00",
          "1760.00",
          "1765.00",
          "1770.00",
          "1775.00",
          "1780.00",
          "1785.00",
          "1790.00",
          "1795.00",
          "1800.00",
          "1805.00",
          "1810.00",
          "1815.00",
          "1820.00",
          "1825.00",
          "1830.00",
          "1835.00",
          "1840.00",
          "1845.00",
          "1850.00",
          "1855.00",
          "1860.00",
          "1865.00",
          "1870.00",
          "1875.00",
          "1880.00",
          "1885.00",
          "1890.00",
          "1895.00",
          "1900.00",
          "1905.00",
          "1910.00",
          "1915.00",
          "1920.00",
          "1925.00",
          "1930.00",
          "1935.00",
          "1940.00",
          "1945.00",
          "1950.00",
          "1955.00",
          "1960.00",
          "1965.00",
          "1970.00",
          "1975.00",
          "1980.00",
          "1985.00",
          "1990.00",
          "1995.00",
          "2000.00",
          "2005.00",
          "2010.00",
          "2015.00",
          "2020.00",
          "2025.00",
          "2030.00",
          "2035.00",
          "2040.00",
          "2045.00",
          "2050.00",
          "2055.00",
          "2060.00",
          "2065.00",
          "2070.00",
          "2075.00",
          "2080.00",
          "2085.00",
          "2090.00",
          "2095.00",
          "2100.00",
          "2105.00",
          "2110.00",
          "2115.00",
          "2120.00",
          "2125.00",
          "2130.00",
          "2135.00",
          "2140.00",
          "2145.00",
          "2150.00",
          "2155.00",
          "2160.00",
          "2165.00",
          "2170.00",
          "2175.00",
          "2180.00",
          "2185.00",
          "2190.00",
          "2195.00",
          "2200.00",
          "2205.00",
          "2210.00",
          "2215.00",
          "2220.00",
          "2225.00",
          "2230.00",
          "2235.00",
          "2240.00",
          "2245.00",
          "2250.00",
          "2255.00",
          "2260.00",
          "2265.00",
          "2270.00",
          "2275.00",
          "2280.00",
          "2285.00",
          "2290.00",
          "2295.00",
          "2300.00",
          "2305.00",
          "2310.00",
          "2315.00",
          "2320.00",
          "2325.00",
          "2330.00",
          "2335.00",
          "2340.00",
          "2345.00",
          "2350.00",
          "2355.00",
          "2360.00",
          "2365.00",
          "2370.00",
          "2375.00",
          "2380.00",
          "2385.00",
          "2390.00",
          "2395.00",
          "2400.00",
          "2405.00",
          "2410.00",
          "2415.00",
          "2420.00",
          "2425.00",
          "2430.00",
          "2435.00",
          "2440.00",
          "2445.00",
          "2450.00",
          "2455.00",
          "2460.00",
          "2465.00",
          "2470.00",
          "2475.00",
          "2480.00",
          "2485.00",
          "2490.00",
          "2495.00",
          "2500.00",
          "2505.00",
          "2510.00",
          "2515.00",
          "2520.00",
          "2525.00",
          "2530.00",
          "2535.00",
          "2540.00",
          "2545.00",
          "2550.00",
          "2555.00",
          "2560.00",
          "2565.00",
          "2570.00",
          "2575.00",
          "2580.00",
          "2585.00",
          "2590.00",
          "2595.00",
          "2600.00",
          "2605.00",
          "2610.00",
          "2615.00",
          "2620.00",
          "2625.00",
          "2630.00",
          "2635.00",
          "2640.00",
          "2645.00",
          "2650.00",
          "2655.00",
          "2660.00",
          "2665.00",
          "2670.00",
          "2675.00",
          "2680.00",
          "2685.00",
          "2690.00",
          "2695.00",
          "2700.00",
          "2705.00",
          "2710.00",
          "2715.00",
          "2720.00",
          "2725.00",
          "2730.00",
          "2735.00",
          "2740.00",
          "2745.00",
          "2750.00",
          "2755.00",
          "2760.00",
          "2765.00",
          "2770.00",
          "2775.00",
          "2780.00",
          "2785.00",
          "2790.00",
          "2795.00",
          "2800.00",
          "2805.00",
          "2810.00",
          "2815.00",
          "2820.00",
          "2825.00",
          "2830.00",
          "2835.00",
          "2840.00",
          "2845.00",
          "2850.00",
          "2855.00",
          "2860.00",
          "2865.00",
          "2870.00",
          "2875.00",
          "2880.00",
          "2885.00",
          "2890.00",
          "2895.00",
          "2900.00",
          "2905.00",
          "2910.00",
          "2915.00",
          "2920.00",
          "2925.00",
          "2930.00",
          "2935.00",
          "2940.00",
          "2945.00",
          "2950.00",
          "2955.00",
          "2960.00",
          "2965.00",
          "2970.00",
          "2975.00",
          "2980.00",
          "2985.00",
          "2990.00",
          "2995.00",
          "3000.00",
          "3005.00",
          "3010.00",
          "3015.00",
          "3020.00",
          "3025.00",
          "3030.00",
          "3035.00",
          "3040.00",
          "3045.00",
          "3050.00",
          "3055.00",
          "3060.00",
          "3065.00",
          "3070.00",
          "3075.00",
          "3080.00",
          "3085.00",
          "3090.00",
          "3095.00",
          "3100.00",
          "3105.00",
          "3110.00",
          "3115.00",
          "3120.00",
          "3125.00",
          "3130.00",
          "3135.00",
          "3140.00",
          "3145.00",
          "3150.00",
          "3155.00",
          "3160.00",
          "3165.00",
          "3170.00",
          "3175.00",
          "3180.00",
          "3185.00",
          "3190.00",
          "3195.00",
          "3200.00",
          "3205.00",
          "3210.00",
          "3215.00",
          "3220.00",
          "3225.00",
          "3230.00",
          "3235.00",
          "3240.00",
          "3245.00",
          "3250.00",
          "3255.00",
          "3260.00",
          "3265.00",
          "3270.00",
          "3275.00",
          "3280.00",
          "3285.00",
          "3290.00",
          "3295.00",
          "3300.00",
          "3305.00",
          "3310.00",
          "3315.00",
          "3320.00",
          "3325.00",
          "3330.00",
          "3335.00",
          "3340.00",
          "3345.00",
          "3350.00",
          "3355.00",
          "3360.00",
          "3365.00",
          "3370.00",
          "3375.00",
          "3380.00",
          "3385.00",
          "3390.00",
          "3395.00",
          "3400.00",
          "3405.00",
          "3410.00",
          "3415.00",
          "3420.00",
          "3425.00",
          "3430.00",
          "3435.00",
          "3440.00",
          "3445.00",
          "3450.00",
          "3455.00",
          "3460.00",
          "3465.00",
          "3470.00",
          "3475.00",
          "3480.00",
          "3485.00",
          "3490.00",
          "3495.00",
          "3500.00",
          "3505.00",
          "3510.00",
          "3515.00",
          "3520.00",
          "3525.00",
          "3530.00",
          "3535.00",
          "3540.00",
          "3545.00",
          "3550.00",
          "3555.00",
          "3560.00",
          "3565.00",
          "3570.00",
          "3575.00",
          "3580.00",
          "3585.00",
          "3590.00",
          "3595.00",
          "3600.00",
          "3605.00",
          "3610.00",
          "3615.00",
          "3620.00",
          "3625.00",
          "3630.00",
          "3635.00",
          "3640.00",
          "3645.00",
          "3650.00",
          "3655.00",
          "3660.00",
          "3665.00",
          "3670.00",
          "3675.00",
          "3680.00",
          "3685.00",
          "3690.00",
          "3695.00",
          "3700.00",
          "3705.00",
          "3710.00",
          "3715.00",
          "3720.00",
          "3725.00",
          "3730.00",
          "3735.00",
          "3740.00",
          "3745.00",
          "3750.00",
          "3755.00",
          "3760.00",
          "3765.00",
          "3770.00",
          "3775.00",
          "3780.00",
          "3785.00",
          "3790.00",
          "3795.00",
          "3800.00",
          "3805.00",
          "3810.00",
          "3815.00",
          "3820.00",
          "3825.00",
          "3830.00",
          "3835.00",
          "3840.00",
          "3845.00",
          "3850.00",
          "3855.00",
          "3860.00",
          "3865.00",
          "3870.00",
          "3875.00",
          "3880.00",
          "3885.00",
          "3890.00",
          "3895.00",
          "3900.00",
          "3905.00",
          "3910.00",
          "3915.00",
          "3920.00",
          "3925.00",
          "3930.00",
          "3935.00",
          "3940.00",
          "3945.00",
          "3950.00",
          "3955.00",
          "3960.00",
          "3965.00",
          "3970.00",
          "3975.00",
          "3980.00",
          "3985.00",
          "3990.00",
          "3995.00",
          "4000.00",
          "4005.00",
          "4010.00",
          "4015.00",
          "4020.00",
          "4025.00",
          "4030.00",
          "4035.00",
          "4040.00",
          "4045.00",
          "4050.00",
          "4055.00",
          "4060.00",
          "4065.00",
          "4070.00",
          "4075.00",
          "4080.00",
          "4085.00",
          "4090.00",
          "4095.00",
          "4100.00",
          "4105.00",
          "4110.00",
          "4115.00",
          "4120.00",
          "4125.00",
          "4130.00",
          "4135.00",
          "4140.00",
          "4145.00",
          "4150.00",
          "4155.00",
          "4160.00",
          "4165.00",
          "4170.00",
          "4175.00",
          "4180.00",
          "4185.00",
          "4190.00",
          "4195.00",
          "4200.00",
          "4205.00",
          "4210.00",
          "4215.00",
          "4220.00",
          "4225.00",
          "4230.00",
          "4235.00",
          "4240.00",
          "4245.00",
          "4250.00",
          "4255.00",
          "4260.00",
          "4265.00",
          "4270.00",
          "4275.00",
          "4280.00",
          "4285.00",
          "4290.00",
          "4295.00",
          "4300.00",
          "4305.00",
          "4310.00",
          "4315.00",
          "4320.00",
          "4325.00",
          "4330.00",
          "4335.00",
          "4340.00",
          "4345.00",
          "4350.00",
          "4355.00",
          "4360.00",
          "4365.00",
          "4370.00",
          "4375.00",
          "4380.00",
          "4385.00",
          "4390.00",
          "4395.00",
          "4400.00",
          "4405.00",
          "4410.00",
          "4415.00",
          "4420.00",
          "4425.00",
          "4430.00",
          "4435.00",
          "4440.00",
          "4445.00",
          "4450.00",
          "4455.00",
          "4460.00",
          "4465.00",
          "4470.00",
          "4475.00",
          "4480.00",
          "4485.00",
          "4490.00",
          "4495.00",
          "4500.00",
          "4505.00",
          "4510.00",
          "4515.00",
          "4520.00",
          "4525.00",
          "4530.00",
          "4535.00",
          "4540.00",
          "4545.00",
          "4550.00",
          "4555.00",
          "4560.00",
          "4565.00",
          "4570.00",
          "4575.00",
          "4580.00",
          "4585.00",
          "4590.00",
          "4595.00",
          "4600.00",
          "4605.00",
          "4610.00",
          "4615.00",
          "4620.00",
          "4625.00",
          "4630.00",
          "4635.00",
          "4640.00",
          "4645.00",
          "4650.00",
          "4655.00",
          "4660.00",
          "4665.00",
          "4670.00",
          "4675.00",
          "4680.00",
          "4685.00",
          "4690.00",
          "4695.00",
          "4700.00",
          "4705.00",
          "4710.00",
          "4715.00",
          "4720.00",
          "4725.00",
          "4730.00",
          "4735.00",
          "4740.00",
          "4745.00",
          "4750.00",
          "4755.00",
          "4760.00",
          "4765.00",
          "4770.00",
          "4775.00",
          "4780.00",
          "4785.00",
          "4790.00",
          "4795.00",
          "4800.00",
          "4805.00",
          "4810.00",
          "4815.00",
          "4820.00",
          "4825.00",
          "4830.00",
          "4835.00",
          "4840.00",
          "4845.00",
          "4850.00",
          "4855.00",
          "4860.00",
          "4865.00",
          "4870.00",
          "4875.00",
          "4880.00",
          "4885.00",
          "4890.00",
          "4895.00",
          "4900.00",
          "4905.00",
          "4910.00",
          "4915.00",
          "4920.00",
          "4925.00",
          "4930.00",
          "4935.00",
          "4940.00",
          "4945.00",
          "4950.00",
          "4955.00",
          "4960.00",
          "4965.00",
          "4970.00",
          "4975.00",
          "4980.00",
          "4985.00",
          "4990.00",
          "4995.00",
          "5000.00",
          "5005.00",
          "5010.00",
          "5015.00",
          "5020.00",
          "5025.00",
          "5030.00",
          "5035.00",
          "5040.00",
          "5045.00",
          "5050.00",
          "5055.00",
          "5060.00",
          "5065.00",
          "5070.00",
          "5075.00",
          "5080.00",
          "5085.00",
          "5090.00",
          "5095.00",
          "5100.00",
          "5105.00",
          "5110.00",
          "5115.00",
          "5120.00",
          "5125.00",
          "5130.00",
          "5135.00",
          "5140.00",
          "5145.00",
          "5150.00",
          "5155.00",
          "5160.00",
          "5165.00",
          "5170.00",
          "5175.00",
          "5180.00",
          "5185.00",
          "5190.00",
          "5195.00",
          "5200.00",
          "5205.00",
          "5210.00",
          "5215.00",
          "5220.00",
          "5225.00",
          "5230.00",
          "5235.00",
          "5240.00",
          "5245.00",
          "5250.00",
          "5255.00",
          "5260.00",
          "5265.00",
          "5270.00",
          "5275.00",
          "5280.00",
          "5285.00",
          "5290.00",
          "5295.00",
          "5300.00",
          "5305.00",
          "5310.00",
          "5315.00",
          "5320.00",
          "5325.00",
          "5330.00",
          "5335.00",
          "5340.00",
          "5345.00",
          "5350.00",
          "5355.00",
          "5360.00",
          "5365.00",
          "5370.00",
          "5375.00",
          "5380.00",
          "5385.00",
          "5390.00",
          "5395.00",
          "5400.00",
          "5405.00",
          "5410.00",
          "5415.00",
          "5420.00",
          "5425.00",
          "5430.00",
          "5435.00",
          "5440.00",
          "5445.00",
          "5450.00",
          "5455.00",
          "5460.00",
          "5465.00",
          "5470.00",
          "5475.00",
          "5480.00",
          "5485.00",
          "5490.00",
          "5495.00",
          "5500.00",
          "5505.00",
          "5510.00",
          "5515.00",
          "5520.00",
          "5525.00",
          "5530.00",
          "5535.00",
          "5540.00",
          "5545.00",
          "5550.00",
          "5555.00",
          "5560.00",
          "5565.00",
          "5570.00",
          "5575.00",
          "5580.00",
          "5585.00",
          "5590.00",
          "5595.00",
          "5600.00",
          "5605.00",
          "5610.00",
          "5615.00",
          "5620.00",
          "5625.00",
          "5630.00",
          "5635.00",
          "5640.00",
          "5645.00",
          "5650.00",
          "5655.00",
          "5660.00",
          "5665.00",
          "5670.00",
          "5675.00",
          "5680.00",
          "5685.00",
          "5690.00",
          "5695.00",
          "5700.00",
          "5705.00",
          "5710.00",
          "5715.00",
          "5720.00",
          "5725.00",
          "5730.00",
          "5735.00",
          "5740.00",
          "5745.00",
          "5750.00",
          "5755.00",
          "5760.00",
          "5765.00",
          "5770.00",
          "5775.00",
          "5780.00",
          "5785.00",
          "5790.00",
          "5795.00",
          "5800.00",
          "5805.00",
          "5810.00",
          "5815.00",
          "5820.00",
          "5825.00",
          "5830.00",
          "5835.00",
          "5840.00",
          "5845.00",
          "5850.00",
          "5855.00",
          "5860.00",
          "5865.00",
          "5870.00",
          "5875.00",
          "5880.00",
          "5885.00",
          "5890.00",
          "5895.00",
          "5900.00",
          "5905.00",
          "5910.00",
          "5915.00",
          "5920.00",
          "5925.00",
          "5930.00",
          "5935.00",
          "5940.00",
          "5945.00",
          "5950.00",
          "5955.00",
          "5960.00",
          "5965.00",
          "5970.00",
          "5975.00",
          "5980.00",
          "5985.00",
          "5990.00",
          "5995.00",
          "6000.00",
          "6005.00",
          "6010.00",
          "6015.00",
          "6020.00",
          "6025.00",
          "6030.00",
          "6035.00",
          "6040.00",
          "6045.00",
          "6050.00",
          "6055.00",
          "6060.00",
          "6065.00",
          "6070.00",
          "6075.00",
          "6080.00",
          "6085.00",
          "6090.00",
          "6095.00",
          "6100.00",
          "6105.00",
          "6110.00",
          "6115.00",
          "6120.00",
          "6125.00",
          "6130.00",
          "6135.00",
          "6140.00",
          "6145.00",
          "6150.00",
          "6155.00",
          "6160.00",
          "6165.00",
          "6170.00",
          "6175.00",
          "6180.00",
          "6185.00",
          "6190.00",
          "6195.00",
          "6200.00",
          "6205.00",
          "6210.00",
          "6215.00",
          "6220.00",
          "6225.00",
          "6230.00",
          "6235.00",
          "6240.00",
          "6245.00",
          "6250.00",
          "6255.00",
          "6260.00",
          "6265.00",
          "6270.00",
          "6275.00",
          "6280.00",
          "6285.00",
          "6290.00",
          "6295.00",
          "6300.00",
          "6305.00",
          "6310.00",
          "6315.00",
          "6320.00",
          "6325.00",
          "6330.00",
          "6335.00",
          "6340.00",
          "6345.00",
          "6350.00",
          "6355.00",
          "6360.00",
          "6365.00",
          "6370.00",
          "6375.00",
          "6380.00",
          "6385.00",
          "6390.00",
          "6395.00",
          "6400.00",
          "6405.00",
          "6410.00",
          "6415.00",
          "6420.00",
          "6425.00",
          "6430.00",
          "6435.00",
          "6440.00",
          "6445.00",
          "6450.00",
          "6455.00",
          "6460.00",
          "6465.00",
          "6470.00",
          "6475.00",
          "6480.00",
          "6485.00",
          "6490.00",
          "6495.00",
          "6500.00",
          "6505.00",
          "6510.00",
          "6515.00",
          "6520.00",
          "6525.00",
          "6530.00",
          "6535.00",
          "6540.00",
          "6545.00",
          "6550.00",
          "6555.00",
          "6560.00",
          "6565.00",
          "6570.00",
          "6575.00",
          "6580.00",
          "6585.00",
          "6590.00",
          "6595.00",
          "6600.00",
          "6605.00",
          "6610.00",
          "6615.00",
          "6620.00",
          "6625.00",
          "6630.00",
          "6635.00",
          "6640.00",
          "6645.00",
          "6650.00",
          "6655.00",
          "6660.00",
          "6665.00",
          "6670.00",
          "6675.00",
          "6680.00",
          "6685.00",
          "6690.00",
          "6695.00",
          "6700.00",
          "6705.00",
          "6710.00",
          "6715.00",
          "6720.00",
          "6725.00",
          "6730.00",
          "6735.00",
          "6740.00",
          "6745.00",
          "6750.00",
          "6755.00",
          "6760.00",
          "6765.00",
          "6770.00",
          "6775.00",
          "6780.00",
          "6785.00",
          "6790.00",
          "6795.00",
          "6800.00",
          "6805.00",
          "6810.00",
          "6815.00",
          "6820.00",
          "6825.00",
          "6830.00",
          "6835.00",
          "6840.00",
          "6845.00",
          "6850.00",
          "6855.00",
          "6860.00",
          "6865.00",
          "6870.00",
          "6875.00",
          "6880.00",
          "6885.00",
          "6890.00",
          "6895.00",
          "6900.00",
          "6905.00",
          "6910.00",
          "6915.00",
          "6920.00",
          "6925.00",
          "6930.00",
          "6935.00",
          "6940.00",
          "6945.00",
          "6950.00",
          "6955.00",
          "6960.00",
          "6965.00",
          "6970.00",
          "6975.00",
          "6980.00",
          "6985.00",
          "6990.00",
          "6995.00",
          "7000.00",
          "7005.00",
          "7010.00",
          "7015.00",
          "7020.00",
          "7025.00",
          "7030.00",
          "7035.00",
          "7040.00",
          "7045.00",
          "7050.00",
          "7055.00",
          "7060.00",
          "7065.00",
          "7070.00",
          "7075.00",
          "7080.00",
          "7085.00",
          "7090.00",
          "7095.00",
          "7100.00",
          "7105.00",
          "7110.00",
          "7115.00",
          "7120.00",
          "7125.00",
          "7130.00",
          "7135.00",
          "7140.00",
          "7145.00",
          "7150.00",
          "7155.00",
          "7160.00",
          "7165.00",
          "7170.00",
          "7175.00",
          "7180.00",
          "7185.00",
          "7190.00",
          "7195.00",
          "7200.00",
          "7205.00",
          "7210.00",
          "7215.00",
          "7220.00",
          "7225.00",
          "7230.00",
          "7235.00",
          "7240.00",
          "7245.00",
          "7250.00",
          "7255.00",
          "7260.00",
          "7265.00",
          "7270.00",
          "7275.00",
          "7280.00",
          "7285.00",
          "7290.00",
          "7295.00",
          "7300.00",
          "7305.00",
          "7310.00",
          "7315.00",
          "7320.00",
          "7325.00",
          "7330.00",
          "7335.00",
          "7340.00",
          "7345.00",
          "7350.00",
          "7355.00",
          "7360.00",
          "7365.00",
          "7370.00",
          "7375.00",
          "7380.00",
          "7385.00",
          "7390.00",
          "7395.00",
          "7400.00",
          "7405.00",
          "7410.00",
          "7415.00",
          "7420.00",
          "7425.00",
          "7430.00",
          "7435.00",
          "7440.00",
          "7445.00",
          "7450.00",
          "7455.00",
          "7460.00",
          "7465.00",
          "7470.00",
          "7475.00",
          "7480.00",
          "7485.00",
          "7490.00",
          "7495.00",
          "7500.00",
          "7505.00",
          "7510.00",
          "7515.00",
          "7520.00",
          "7525.00",
          "7530.00",
          "7535.00",
          "7540.00",
          "7545.00",
          "7550.00",
          "7555.00",
          "7560.00",
          "7565.00",
          "7570.00",
          "7575.00",
          "7580.00",
          "7585.00",
          "7590.00",
          "7595.00",
          "7600.00",
          "7605.00",
          "7610.00",
          "7615.00",
          "7620.00",
          "7625.00",
          "7630.00",
          "7635.00",
          "7640.00",
          "7645.00",
          "7650.00",
          "7655.00",
          "7660.00",
          "7665.00",
          "7670.00",
          "7675.00",
          "7680.00",
          "7685.00",
          "7690.00",
          "7695.00",
          "7700.00",
          "7705.00",
          "7710.00",
          "7715.00",
          "7720.00",
          "7725.00",
          "7730.00",
          "7735.00",
          "7740.00",
          "7745.00",
          "7750.00",
          "7755.00",
          "7760.00",
          "7765.00",
          "7770.00",
          "7775.00",
          "7780.00",
          "7785.00",
          "7790.00",
          "7795.00",
          "7800.00",
          "7805.00",
          "7810.00",
          "7815.00",
          "7820.00",
          "7825.00",
          "7830.00",
          "7835.00",
          "7840.00",
          "7845.00",
          "7850.00",
          "7855.00",
          "7860.00",
          "7865.00",
          "7870.00",
          "7875.00",
          "7880.00",
          "7885.00",
          "7890.00",
          "7895.00",
          "7900.00",
          "7905.00",
          "7910.00",
          "7915.00",
          "7920.00",
          "7925.00",
          "7930.00",
          "7935.00",
          "7940.00",
          "7945.00",
          "7950.00",
          "7955.00",
          "7960.00",
          "7965.00",
          "7970.00",
          "7975.00",
          "7980.00",
          "7985.00",
          "7990.00",
          "7995.00",
          "8000.00",
          "8005.00",
          "8010.00",
          "8015.00",
          "8020.00",
          "8025.00",
          "8030.00",
          "8035.00",
          "8040.00",
          "8045.00",
          "8050.00",
          "8055.00",
          "8060.00",
          "8065.00",
          "8070.00",
          "8075.00",
          "8080.00",
          "8085.00",
          "8090.00",
          "8095.00",
          "8100.00",
          "8105.00",
          "8110.00",
          "8115.00",
          "8120.00",
          "8125.00",
          "8130.00",
          "8135.00",
          "8140.00",
          "8145.00",
          "8150.00",
          "8155.00",
          "8160.00",
          "8165.00",
          "8170.00",
          "8175.00",
          "8180.00",
          "8185.00",
          "8190.00",
          "8195.00",
          "8200.00",
          "8205.00",
          "8210.00",
          "8215.00",
          "8220.00",
          "8225.00",
          "8230.00",
          "8235.00",
          "8240.00",
          "8245.00",
          "8250.00",
          "8255.00",
          "8260.00",
          "8265.00",
          "8270.00",
          "8275.00",
          "8280.00",
          "8285.00",
          "8290.00",
          "8295.00",
          "8300.00",
          "8305.00",
          "8310.00",
          "8315.00",
          "8320.00",
          "8325.00",
          "8330.00",
          "8335.00",
          "8340.00",
          "8345.00",
          "8350.00",
          "8355.00",
          "8360.00",
          "8365.00",
          "8370.00",
          "8375.00",
          "8380.00",
          "8385.00",
          "8390.00",
          "8395.00",
          "8400.00",
          "8405.00",
          "8410.00",
          "8415.00",
          "8420.00",
          "8425.00",
          "8430.00",
          "8435.00",
          "8440.00",
          "8445.00",
          "8450.00",
          "8455.00",
          "8460.00",
          "8465.00",
          "8470.00",
          "8475.00",
          "8480.00",
          "8485.00",
          "8490.00",
          "8495.00",
          "8500.00",
          "8505.00",
          "8510.00",
          "8515.00",
          "8520.00",
          "8525.00",
          "8530.00",
          "8535.00",
          "8540.00",
          "8545.00",
          "8550.00",
          "8555.00",
          "8560.00",
          "8565.00",
          "8570.00",
          "8575.00",
          "8580.00",
          "8585.00",
          "8590.00",
          "8595.00",
          "8600.00",
          "8605.00",
          "8610.00",
          "8615.00",
          "8620.00",
          "8625.00",
          "8630.00",
          "8635.00",
          "8640.00",
          "8645.00",
          "8650.00",
          "8655.00",
          "8660.00",
          "8665.00",
          "8670.00",
          "8675.00",
          "8680.00",
          "8685.00",
          "8690.00",
          "8695.00",
          "8700.00",
          "8705.00",
          "8710.00",
          "8715.00",
          "8720.00",
          "8725.00",
          "8730.00",
          "8735.00",
          "8740.00",
          "8745.00",
          "8750.00",
          "8755.00",
          "8760.00",
          "8765.00",
          "8770.00",
          "8775.00",
          "8780.00",
          "8785.00",
          "8790.00",
          "8795.00",
          "8800.00",
          "8805.00",
          "8810.00",
          "8815.00",
          "8820.00",
          "8825.00",
          "8830.00",
          "8835.00",
          "8840.00",
          "8845.00",
          "8850.00",
          "8855.00",
          "8860.00",
          "8865.00",
          "8870.00",
          "8875.00",
          "8880.00",
          "8885.00",
          "8890.00",
          "8895.00",
          "8900.00",
          "8905.00",
          "8910.00",
          "8915.00",
          "8920.00",
          "8925.00",
          "8930.00",
          "8935.00",
          "8940.00",
          "8945.00",
          "8950.00",
          "8955.00",
          "8960.00",
          "8965.00",
          "8970.00",
          "8975.00",
          "8980.00",
          "8985.00",
          "8990.00",
          "8995.00",
          "9000.00",
          "9005.00",
          "9010.00",
          "9015.00",
          "9020.00",
          "9025.00",
          "9030.00",
          "9035.00",
          "9040.00",
          "9045.00",
          "9050.00",
          "9055.00",
          "9060.00",
          "9065.00",
          "9070.00",
          "9075.00",
          "9080.00",
          "9085.00",
          "9090.00",
          "9095.00",
          "9100.00",
          "9105.00",
          "9110.00",
          "9115.00",
          "9120.00",
          "9125.00",
          "9130.00",
          "9135.00",
          "9140.00",
          "9145.00",
          "9150.00",
          "9155.00",
          "9160.00",
          "9165.00",
          "9170.00",
          "9175.00",
          "9180.00",
          "9185.00",
          "9190.00",
          "9195.00",
          "9200.00",
          "9205.00",
          "9210.00",
          "9215.00",
          "9220.00",
          "9225.00",
          "9230.00",
          "9235.00",
          "9240.00",
          "9245.00",
          "9250.00",
          "9255.00",
          "9260.00",
          "9265.00",
          "9270.00",
          "9275.00",
          "9280.00",
          "9285.00",
          "9290.00",
          "9295.00",
          "9300.00",
          "9305.00",
          "9310.00",
          "9315.00",
          "9320.00",
          "9325.00",
          "9330.00",
          "9335.00",
          "9340.00",
          "9345.00",
          "9350.00",
          "9355.00",
          "9360.00",
          "9365.00",
          "9370.00",
          "9375.00",
          "9380.00",
          "9385.00",
          "9390.00",
          "9395.00",
          "9400.00",
          "9405.00",
          "9410.00",
          "9415.00",
          "9420.00",
          "9425.00",
          "9430.00",
          "9435.00",
          "9440.00",
          "9445.00",
          "9450.00",
          "9455.00",
          "9460.00",
          "9465.00",
          "9470.00",
          "9475.00",
          "9480.00",
          "9485.00",
          "9490.00",
          "9495.00",
          "9500.00",
          "9505.00",
          "9510.00",
          "9515.00",
          "9520.00",
          "9525.00",
          "9530.00",
          "9535.00",
          "9540.00",
          "9545.00",
          "9550.00",
          "9555.00",
          "9560.00",
          "9565.00",
          "9570.00",
          "9575.00",
          "9580.00",
          "9585.00",
          "9590.00",
          "9595.00",
          "9600.00",
          "9605.00",
          "9610.00",
          "9615.00",
          "9620.00",
          "9625.00",
          "9630.00",
          "9635.00",
          "9640.00",
          "9645.00",
          "9650.00",
          "9655.00",
          "9660.00",
          "9665.00",
          "9670.00",
          "9675.00",
          "9680.00",
          "9685.00",
          "9690.00",
          "9695.00",
          "9700.00",
          "9705.00",
          "9710.00",
          "9715.00",
          "9720.00",
          "9725.00",
          "9730.00",
          "9735.00",
          "9740.00",
          "9745.00",
          "9750.00",
          "9755.00",
          "9760.00",
          "9765.00",
          "9770.00",
          "9775.00",
          "9780.00",
          "9785.00",
          "9790.00",
          "9795.00",
          "9800.00",
          "9805.00",
          "9810.00",
          "9815.00",
          "9820.00",
          "9825.00",
          "9830.00",
          "9835.00",
          "9840.00",
          "9845.00",
          "9850.00",
          "9855.00",
          "9860.00",
          "9865.00",
          "9870.00",
          "9875.00",
          "9880.00",
          "9885.00",
          "9890.00",
          "9895.00",
          "9900.00",
          "9905.00",
          "9910.00",
          "9915.00",
          "9920.00",
          "9925.00",
          "9930.00",
          "9935.00",
          "9940.00",
          "9945.00",
          "9950.00",
          "9955.00",
          "9960.00",
          "9965.00",
          "9970.00",
          "9975.00",
          "9980.00",
          "9985.00",
          "9990.00",
          "9995.00",
          "10000.00",
          "10005.00",
          "10010.00",
          "10015.00",
          "10020.00",
          "10025.00",
          "10030.00",
          "10035.00",
          "10040.00",
          "10045.00",
          "10050.00",
          "10055.00",
          "10060.00",
          "10065.00",
          "10070.00",
          "10075.00",
          "10080.00",
          "10085.00",
          "10090.00",
          "10095.00",
          "10100.00",
          "10105.00",
          "10110.00",
          "10115.00",
          "10120.00",
          "10125.00",
          "10130.00",
          "10135.00",
          "10140.00",
          "10145.00",
          "10150.00",
          "10155.00",
          "10160.00",
          "10165.00",
          "10170.00",
          "10175.00",
          "10180.00",
          "10185.00",
          "10190.00",
          "10195.00",
          "10200.00",
          "10205.00",
          "10210.00",
          "10215.00",
          "10220.00",
          "10225.00",
          "10230.00",
          "10235.00",
          "10240.00",
          "10245.00",
          "10250.00",
          "10255.00",
          "10260.00",
          "10265.00",
          "10270.00",
          "10275.00",
          "10280.00",
          "10285.00",
          "10290.00",
          "10295.00",
          "10300.00",
          "10305.00",
          "10310.00",
          "10315.00",
          "10320.00",
          "10325.00",
          "10330.00",
          "10335.00",
          "10340.00",
          "10345.00",
          "10350.00",
          "10355.00",
          "10360.00",
          "10365.00",
          "10370.00",
          "10375.00",
          "10380.00",
          "10385.00",
          "10390.00",
          "10395.00",
          "10400.00",
          "10405.00",
          "10410.00",
          "10415.00",
          "10420.00",
          "10425.00",
          "10430.00",
          "10435.00",
          "10440.00",
          "10445.00",
          "10450.00",
          "10455.00",
          "10460.00",
          "10465.00",
          "10470.00",
          "10475.00",
          "10480.00",
          "10485.00",
          "10490.00",
          "10495.00",
          "10500.00",
          "10505.00",
          "10510.00",
          "10515.00",
          "10520.00",
          "10525.00",
          "10530.00",
          "10535.00",
          "10540.00",
          "10545.00",
          "10550.00",
          "10555.00",
          "10560.00",
          "10565.00",
          "10570.00",
          "10575.00",
          "10580.00",
          "10585.00",
          "10590.00",
          "10595.00",
          "10600.00",
          "10605.00",
          "10610.00",
          "10615.00",
          "10620.00",
          "10625.00",
          "10630.00",
          "10635.00",
          "10640.00",
          "10645.00",
          "10650.00",
          "10655.00",
          "10660.00",
          "10665.00",
          "10670.00",
          "10675.00",
          "10680.00",
          "10685.00",
          "10690.00",
          "10695.00",
          "10700.00",
          "10705.00",
          "10710.00",
          "10715.00",
          "10720.00",
          "10725.00",
          "10730.00",
          "10735.00",
          "10740.00",
          "10745.00",
          "10750.00",
          "10755.00",
          "10760.00",
          "10765.00",
          "10770.00",
          "10775.00",
          "10780.00",
          "10785.00",
          "10790.00",
          "10795.00",
          "10800.00",
          "10805.00",
          "10810.00",
          "10815.00",
          "10820.00",
          "10825.00",
          "10830.00",
          "10835.00",
          "10840.00",
          "10845.00",
          "10850.00",
          "10855.00",
          "10860.00",
          "10865.00",
          "10870.00",
          "10875.00",
          "10880.00",
          "10885.00",
          "10890.00",
          "10895.00",
          "10900.00",
          "10905.00",
          "10910.00",
          "10915.00",
          "10920.00",
          "10925.00",
          "10930.00",
          "10935.00",
          "10940.00",
          "10945.00",
          "10950.00",
          "10955.00",
          "10960.00",
          "10965.00",
          "10970.00",
          "10975.00",
          "10980.00",
          "10985.00",
          "10990.00",
          "10995.00",
          "11000.00",
          "11005.00",
          "11010.00",
          "11015.00",
          "11020.00",
          "11025.00",
          "11030.00",
          "11035.00",
          "11040.00",
          "11045.00",
          "11050.00",
          "11055.00",
          "11060.00",
          "11065.00",
          "11070.00",
          "11075.00",
          "11080.00",
          "11085.00",
          "11090.00",
          "11095.00",
          "11100.00",
          "11105.00",
          "11110.00",
          "11115.00",
          "11120.00",
          "11125.00",
          "11130.00",
          "11135.00",
          "11140.00",
          "11145.00",
          "11150.00",
          "11155.00",
          "11160.00",
          "11165.00",
          "11170.00",
          "11175.00",
          "11180.00",
          "11185.00",
          "11190.00",
          "11195.00",
          "11200.00",
          "11205.00",
          "11210.00",
          "11215.00",
          "11220.00",
          "11225.00",
          "11230.00",
          "11235.00",
          "11240.00",
          "11245.00",
          "11250.00",
          "11255.00",
          "11260.00",
          "11265.00",
          "11270.00",
          "11275.00",
          "11280.00",
          "11285.00",
          "11290.00",
          "11295.00",
          "11300.00",
          "11305.00",
          "11310.00",
          "11315.00",
          "11320.00",
          "11325.00",
          "11330.00",
          "11335.00",
          "11340.00",
          "11345.00",
          "11350.00",
          "11355.00",
          "11360.00",
          "11365.00",
          "11370.00",
          "11375.00",
          "11380.00",
          "11385.00",
          "11390.00",
          "11395.00",
          "11400.00",
          "11405.00",
          "11410.00",
          "11415.00",
          "11420.00",
          "11425.00",
          "11430.00",
          "11435.00",
          "11440.00",
          "11445.00",
          "11450.00",
          "11455.00",
          "11460.00",
          "11465.00",
          "11470.00",
          "11475.00",
          "11480.00",
          "11485.00",
          "11490.00",
          "11495.00",
          "11500.00",
          "11505.00",
          "11510.00",
          "11515.00",
          "11520.00",
          "11525.00",
          "11530.00",
          "11535.00",
          "11540.00",
          "11545.00",
          "11550.00",
          "11555.00",
          "11560.00",
          "11565.00",
          "11570.00",
          "11575.00",
          "11580.00",
          "11585.00",
          "11590.00",
          "11595.00",
          "11600.00",
          "11605.00",
          "11610.00",
          "11615.00",
          "11620.00",
          "11625.00",
          "11630.00",
          "11635.00",
          "11640.00",
          "11645.00",
          "11650.00",
          "11655.00",
          "11660.00",
          "11665.00",
          "11670.00",
          "11675.00",
          "11680.00",
          "11685.00",
          "11690.00",
          "11695.00",
          "11700.00",
          "11705.00",
          "11710.00",
          "11715.00",
          "11720.00",
          "11725.00",
          "11730.00",
          "11735.00",
          "11740.00",
          "11745.00",
          "11750.00",
          "11755.00",
          "11760.00",
          "11765.00",
          "11770.00",
          "11775.00",
          "11780.00",
          "11785.00",
          "11790.00",
          "11795.00",
          "11800.00",
          "11805.00",
          "11810.00",
          "11815.00",
          "11820.00",
          "11825.00",
          "11830.00",
          "11835.00",
          "11840.00",
          "11845.00",
          "11850.00",
          "11855.00",
          "11860.00",
          "11865.00",
          "11870.00",
          "11875.00",
          "11880.00",
          "11885.00",
          "11890.00",
          "11895.00",
          "11900.00",
          "11905.00",
          "11910.00",
          "11915.00",
          "11920.00",
          "11925.00",
          "11930.00",
          "11935.00",
          "11940.00",
          "11945.00",
          "11950.00",
          "11955.00",
          "11960.00",
          "11965.00",
          "11970.00",
          "11975.00",
          "11980.00",
          "11985.00",
          "11990.00",
          "11995.00",
          "12000.00",
          "12005.00",
          "12010.00",
          "12015.00",
          "12020.00",
          "12025.00",
          "12030.00",
          "12035.00",
          "12040.00",
          "12045.00",
          "12050.00",
          "12055.00",
          "12060.00",
          "12065.00",
          "12070.00",
          "12075.00",
          "12080.00",
          "12085.00",
          "12090.00",
          "12095.00",
          "12100.00",
          "12105.00",
          "12110.00",
          "12115.00",
          "12120.00",
          "12125.00",
          "12130.00",
          "12135.00",
          "12140.00",
          "12145.00",
          "12150.00",
          "12155.00",
          "12160.00",
          "12165.00",
          "12170.00",
          "12175.00",
          "12180.00",
          "12185.00",
          "12190.00",
          "12195.00",
          "12200.00",
          "12205.00",
          "12210.00",
          "12215.00",
          "12220.00",
          "12225.00",
          "12230.00",
          "12235.00",
          "12240.00",
          "12245.00",
          "12250.00",
          "12255.00",
          "12260.00",
          "12265.00",
          "12270.00",
          "12275.00",
          "12280.00",
          "12285.00",
          "12290.00",
          "12295.00",
          "12300.00",
          "12305.00",
          "12310.00",
          "12315.00",
          "12320.00",
          "12325.00",
          "12330.00",
          "12335.00",
          "12340.00",
          "12345.00",
          "12350.00",
          "12355.00",
          "12360.00",
          "12365.00",
          "12370.00",
          "12375.00",
          "12380.00",
          "12385.00",
          "12390.00",
          "12395.00",
          "12400.00",
          "12405.00",
          "12410.00",
          "12415.00",
          "12420.00",
          "12425.00",
          "12430.00",
          "12435.00",
          "12440.00",
          "12445.00",
          "12450.00",
          "12455.00",
          "12460.00",
          "12465.00",
          "12470.00",
          "12475.00",
          "12480.00",
          "12485.00",
          "12490.00",
          "12495.00",
          "12500.00",
          "12505.00",
          "12510.00",
          "12515.00",
          "12520.00",
          "12525.00",
          "12530.00",
          "12535.00",
          "12540.00",
          "12545.00",
          "12550.00",
          "12555.00",
          "12560.00",
          "12565.00",
          "12570.00",
          "12575.00",
          "12580.00",
          "12585.00",
          "12590.00",
          "12595.00",
          "12600.00",
          "12605.00",
          "12610.00",
          "12615.00",
          "12620.00",
          "12625.00",
          "12630.00",
          "12635.00",
          "12640.00",
          "12645.00",
          "12650.00",
          "12655.00",
          "12660.00",
          "12665.00",
          "12670.00",
          "12675.00",
          "12680.00",
          "12685.00",
          "12690.00",
          "12695.00",
          "12700.00",
          "12705.00",
          "12710.00",
          "12715.00",
          "12720.00",
          "12725.00",
          "12730.00",
          "12735.00",
          "12740.00",
          "12745.00",
          "12750.00",
          "12755.00",
          "12760.00",
          "12765.00",
          "12770.00",
          "12775.00",
          "12780.00",
          "12785.00",
          "12790.00",
          "12795.00",
          "12800.00",
          "12805.00",
          "12810.00",
          "12815.00",
          "12820.00",
          "12825.00",
          "12830.00",
          "12835.00",
          "12840.00",
          "12845.00",
          "12850.00",
          "12855.00",
          "12860.00",
          "12865.00",
          "12870.00",
          "12875.00",
          "12880.00",
          "12885.00",
          "12890.00",
          "12895.00",
          "12900.00",
          "12905.00",
          "12910.00",
          "12915.00",
          "12920.00",
          "12925.00",
          "12930.00",
          "12935.00",
          "12940.00",
          "12945.00",
          "12950.00",
          "12955.00",
          "12960.00",
          "12965.00",
          "12970.00",
          "12975.00",
          "12980.00",
          "12985.00",
          "12990.00",
          "12995.00",
          "13000.00",
          "13005.00",
          "13010.00",
          "13015.00",
          "13020.00",
          "13025.00",
          "13030.00",
          "13035.00",
          "13040.00",
          "13045.00",
          "13050.00",
          "13055.00",
          "13060.00",
          "13065.00",
          "13070.00",
          "13075.00",
          "13080.00",
          "13085.00",
          "13090.00",
          "13095.00",
          "13100.00",
          "13105.00",
          "13110.00",
          "13115.00",
          "13120.00",
          "13125.00",
          "13130.00",
          "13135.00",
          "13140.00",
          "13145.00",
          "13150.00",
          "13155.00",
          "13160.00",
          "13165.00",
          "13170.00",
          "13175.00",
          "13180.00",
          "13185.00",
          "13190.00",
          "13195.00",
          "13200.00",
          "13205.00",
          "13210.00",
          "13215.00",
          "13220.00",
          "13225.00",
          "13230.00",
          "13235.00",
          "13240.00",
          "13245.00",
          "13250.00",
          "13255.00",
          "13260.00",
          "13265.00",
          "13270.00",
          "13275.00",
          "13280.00",
          "13285.00",
          "13290.00",
          "13295.00",
          "13300.00",
          "13305.00",
          "13310.00",
          "13315.00",
          "13320.00",
          "13325.00",
          "13330.00",
          "13335.00",
          "13340.00",
          "13345.00",
          "13350.00",
          "13355.00",
          "13360.00",
          "13365.00",
          "13370.00",
          "13375.00",
          "13380.00",
          "13385.00",
          "13390.00",
          "13395.00",
          "13400.00",
          "13405.00",
          "13410.00",
          "13415.00",
          "13420.00",
          "13425.00",
          "13430.00",
          "13435.00",
          "13440.00",
          "13445.00",
          "13450.00",
          "13455.00",
          "13460.00",
          "13465.00",
          "13470.00",
          "13475.00",
          "13480.00",
          "13485.00",
          "13490.00",
          "13495.00",
          "13500.00",
          "13505.00",
          "13510.00",
          "13515.00",
          "13520.00",
          "13525.00",
          "13530.00",
          "13535.00",
          "13540.00",
          "13545.00",
          "13550.00",
          "13555.00",
          "13560.00",
          "13565.00",
          "13570.00",
          "13575.00",
          "13580.00",
          "13585.00",
          "13590.00",
          "13595.00",
          "13600.00",
          "13605.00",
          "13610.00",
          "13615.00",
          "13620.00",
          "13625.00",
          "13630.00",
          "13635.00",
          "13640.00",
          "13645.00",
          "13650.00",
          "13655.00",
          "13660.00",
          "13665.00",
          "13670.00",
          "13675.00",
          "13680.00",
          "13685.00",
          "13690.00",
          "13695.00",
          "13700.00",
          "13705.00",
          "13710.00",
          "13715.00",
          "13720.00",
          "13725.00",
          "13730.00",
          "13735.00",
          "13740.00",
          "13745.00",
          "13750.00",
          "13755.00",
          "13760.00",
          "13765.00",
          "13770.00",
          "13775.00",
          "13780.00",
          "13785.00",
          "13790.00",
          "13795.00",
          "13800.00",
          "13805.00",
          "13810.00",
          "13815.00",
          "13820.00",
          "13825.00",
          "13830.00",
          "13835.00",
          "13840.00",
          "13845.00",
          "13850.00",
          "13855.00",
          "13860.00",
          "13865.00",
          "13870.00",
          "13875.00",
          "13880.00",
          "13885.00",
          "13890.00",
          "13895.00",
          "13900.00",
          "13905.00",
          "13910.00",
          "13915.00",
          "13920.00",
          "13925.00",
          "13930.00",
          "13935.00",
          "13940.00",
          "13945.00",
          "13950.00",
          "13955.00",
          "13960.00",
          "13965.00",
          "13970.00",
          "13975.00",
          "13980.00",
          "13985.00",
          "13990.00",
          "13995.00",
          "14000.00",
          "14005.00",
          "14010.00",
          "14015.00",
          "14020.00",
          "14025.00",
          "14030.00",
          "14035.00",
          "14040.00",
          "14045.00",
          "14050.00",
          "14055.00",
          "14060.00",
          "14065.00",
          "14070.00",
          "14075.00",
          "14080.00",
          "14085.00",
          "14090.00",
          "14095.00",
          "14100.00",
          "14105.00",
          "14110.00",
          "14115.00",
          "14120.00",
          "14125.00",
          "14130.00",
          "14135.00",
          "14140.00",
          "14145.00",
          "14150.00",
          "14155.00",
          "14160.00",
          "14165.00",
          "14170.00",
          "14175.00",
          "14180.00",
          "14185.00",
          "14190.00",
          "14195.00",
          "14200.00",
          "14205.00",
          "14210.00",
          "14215.00",
          "14220.00",
          "14225.00",
          "14230.00",
          "14235.00",
          "14240.00",
          "14245.00",
          "14250.00",
          "14255.00",
          "14260.00",
          "14265.00",
          "14270.00",
          "14275.00",
          "14280.00",
          "14285.00",
          "14290.00",
          "14295.00",
          "14300.00",
          "14305.00",
          "14310.00",
          "14315.00",
          "14320.00",
          "14325.00",
          "14330.00",
          "14335.00",
          "14340.00",
          "14345.00",
          "14350.00",
          "14355.00",
          "14360.00",
          "14365.00",
          "14370.00",
          "14375.00",
          "14380.00",
          "14385.00",
          "14390.00",
          "14395.00",
          "14400.00",
          "14405.00",
          "14410.00",
          "14415.00",
          "14420.00",
          "14425.00",
          "14430.00",
          "14435.00",
          "14440.00",
          "14445.00",
          "14450.00",
          "14455.00",
          "14460.00",
          "14465.00",
          "14470.00",
          "14475.00",
          "14480.00",
          "14485.00",
          "14490.00",
          "14495.00",
          "14500.00",
          "14505.00",
          "14510.00",
          "14515.00",
          "14520.00",
          "14525.00",
          "14530.00",
          "14535.00",
          "14540.00",
          "14545.00",
          "14550.00",
          "14555.00",
          "14560.00",
          "14565.00",
          "14570.00",
          "14575.00",
          "14580.00",
          "14585.00",
          "14590.00",
          "14595.00",
          "14600.00",
          "14605.00",
          "14610.00",
          "14615.00",
          "14620.00",
          "14625.00",
          "14630.00",
          "14635.00",
          "14640.00",
          "14645.00",
          "14650.00",
          "14655.00",
          "14660.00",
          "14665.00",
          "14670.00",
          "14675.00",
          "14680.00",
          "14685.00",
          "14690.00",
          "14695.00",
          "14700.00",
          "14705.00",
          "14710.00",
          "14715.00",
          "14720.00",
          "14725.00",
          "14730.00",
          "14735.00",
          "14740.00",
          "14745.00",
          "14750.00",
          "14755.00",
          "14760.00",
          "14765.00",
          "14770.00",
          "14775.00",
          "14780.00",
          "14785.00",
          "14790.00",
          "14795.00",
          "14800.00",
          "14805.00",
          "14810.00",
          "14815.00",
          "14820.00",
          "14825.00",
          "14830.00",
          "14835.00",
          "14840.00",
          "14845.00",
          "14850.00",
          "14855.00",
          "14860.00",
          "14865.00",
          "14870.00",
          "14875.00",
          "14880.00",
          "14885.00",
          "14890.00",
          "14895.00",
          "14900.00",
          "14905.00",
          "14910.00",
          "14915.00",
          "14920.00",
          "14925.00",
          "14930.00",
          "14935.00",
          "14940.00",
          "14945.00",
          "14950.00",
          "14955.00",
          "14960.00",
          "14965.00",
          "14970.00",
          "14975.00",
          "14980.00",
          "14985.00",
          "14990.00",
          "14995.00",
          "15000.00",
          "15005.00",
          "15010.00",
          "15015.00",
          "15020.00",
          "15025.00",
          "15030.00",
          "15035.00",
          "15040.00",
          "15045.00",
          "15050.00",
          "15055.00",
          "15060.00",
          "15065.00",
          "15070.00",
          "15075.00",
          "15080.00",
          "15085.00",
          "15090.00",
          "15095.00",
          "15100.00",
          "15105.00",
          "15110.00",
          "15115.00",
          "15120.00",
          "15125.00",
          "15130.00",
          "15135.00",
          "15140.00",
          "15145.00",
          "15150.00",
          "15155.00",
          "15160.00",
          "15165.00",
          "15170.00",
          "15175.00",
          "15180.00",
          "15185.00",
          "15190.00",
          "15195.00",
          "15200.00",
          "15205.00",
          "15210.00",
          "15215.00",
          "15220.00",
          "15225.00",
          "15230.00",
          "15235.00",
          "15240.00",
          "15245.00",
          "15250.00",
          "15255.00",
          "15260.00",
          "15265.00",
          "15270.00",
          "15275.00",
          "15280.00",
          "15285.00",
          "15290.00",
          "15295.00",
          "15300.00",
          "15305.00",
          "15310.00",
          "15315.00",
          "15320.00",
          "15325.00",
          "15330.00",
          "15335.00",
          "15340.00",
          "15345.00",
          "15350.00",
          "15355.00",
          "15360.00",
          "15365.00",
          "15370.00",
          "15375.00",
          "15380.00",
          "15385.00",
          "15390.00",
          "15395.00",
          "15400.00",
          "15405.00",
          "15410.00",
          "15415.00",
          "15420.00",
          "15425.00",
          "15430.00",
          "15435.00",
          "15440.00",
          "15445.00",
          "15450.00",
          "15455.00",
          "15460.00",
          "15465.00",
          "15470.00",
          "15475.00",
          "15480.00",
          "15485.00",
          "15490.00",
          "15495.00",
          "15500.00",
          "15505.00",
          "15510.00",
          "15515.00",
          "15520.00",
          "15525.00",
          "15530.00",
          "15535.00",
          "15540.00",
          "15545.00",
          "15550.00",
          "15555.00",
          "15560.00",
          "15565.00",
          "15570.00",
          "15575.00",
          "15580.00",
          "15585.00",
          "15590.00",
          "15595.00",
          "15600.00",
          "15605.00",
          "15610.00",
          "15615.00",
          "15620.00",
          "15625.00",
          "15630.00",
          "15635.00",
          "15640.00",
          "15645.00",
          "15650.00",
          "15655.00",
          "15660.00",
          "15665.00",
          "15670.00",
          "15675.00",
          "15680.00",
          "15685.00",
          "15690.00",
          "15695.00",
          "15700.00",
          "15705.00",
          "15710.00",
          "15715.00",
          "15720.00",
          "15725.00",
          "15730.00",
          "15735.00",
          "15740.00",
          "15745.00",
          "15750.00",
          "15755.00",
          "15760.00",
          "15765.00",
          "15770.00",
          "15775.00",
          "15780.00",
          "15785.00",
          "15790.00",
          "15795.00",
          "15800.00",
          "15805.00",
          "15810.00",
          "15815.00",
          "15820.00",
          "15825.00",
          "15830.00",
          "15835.00",
          "15840.00",
          "15845.00",
          "15850.00",
          "15855.00",
          "15860.00",
          "15865.00",
          "15870.00",
          "15875.00",
          "15880.00",
          "15885.00",
          "15890.00",
          "15895.00",
          "15900.00",
          "15905.00",
          "15910.00",
          "15915.00",
          "15920.00",
          "15925.00",
          "15930.00",
          "15935.00",
          "15940.00",
          "15945.00",
          "15950.00",
          "15955.00",
          "15960.00",
          "15965.00",
          "15970.00",
          "15975.00",
          "15980.00",
          "15985.00",
          "15990.00",
          "15995.00",
          "16000.00",
          "16005.00",
          "16010.00",
          "16015.00",
          "16020.00",
          "16025.00",
          "16030.00",
          "16035.00",
          "16040.00",
          "16045.00",
          "16050.00",
          "16055.00",
          "16060.00",
          "16065.00",
          "16070.00",
          "16075.00",
          "16080.00",
          "16085.00",
          "16090.00",
          "16095.00",
          "16100.00",
          "16105.00",
          "16110.00",
          "16115.00",
          "16120.00",
          "16125.00",
          "16130.00",
          "16135.00",
          "16140.00",
          "16145.00",
          "16150.00",
          "16155.00",
          "16160.00",
          "16165.00",
          "16170.00",
          "16175.00",
          "16180.00",
          "16185.00",
          "16190.00",
          "16195.00",
          "16200.00",
          "16205.00",
          "16210.00",
          "16215.00",
          "16220.00",
          "16225.00",
          "16230.00",
          "16235.00",
          "16240.00",
          "16245.00",
          "16250.00",
          "16255.00",
          "16260.00",
          "16265.00",
          "16270.00",
          "16275.00",
          "16280.00",
          "16285.00",
          "16290.00",
          "16295.00",
          "16300.00",
          "16305.00",
          "16310.00",
          "16315.00",
          "16320.00",
          "16325.00",
          "16330.00",
          "16335.00",
          "16340.00",
          "16345.00",
          "16350.00",
          "16355.00",
          "16360.00",
          "16365.00",
          "16370.00",
          "16375.00",
          "16380.00",
          "16385.00",
          "16390.00",
          "16395.00",
          "16400.00",
          "16405.00",
          "16410.00",
          "16415.00",
          "16420.00",
          "16425.00",
          "16430.00",
          "16435.00",
          "16440.00",
          "16445.00",
          "16450.00",
          "16455.00",
          "16460.00",
          "16465.00",
          "16470.00",
          "16475.00",
          "16480.00",
          "16485.00",
          "16490.00",
          "16495.00",
          "16500.00",
          "16505.00",
          "16510.00",
          "16515.00",
          "16520.00",
          "16525.00",
          "16530.00",
          "16535.00",
          "16540.00",
          "16545.00",
          "16550.00",
          "16555.00",
          "16560.00",
          "16565.00",
          "16570.00",
          "16575.00",
          "16580.00",
          "16585.00",
          "16590.00",
          "16595.00",
          "16600.00",
          "16605.00",
          "16610.00",
          "16615.00",
          "16620.00",
          "16625.00",
          "16630.00",
          "16635.00",
          "16640.00",
          "16645.00",
          "16650.00",
          "16655.00",
          "16660.00",
          "16665.00",
          "16670.00",
          "16675.00",
          "16680.00",
          "16685.00",
          "16690.00",
          "16695.00",
          "16700.00",
          "16705.00",
          "16710.00",
          "16715.00",
          "16720.00",
          "16725.00",
          "16730.00",
          "16735.00",
          "16740.00",
          "16745.00",
          "16750.00",
          "16755.00",
          "16760.00",
          "16765.00",
          "16770.00",
          "16775.00",
          "16780.00",
          "16785.00",
          "16790.00",
          "16795.00",
          "16800.00",
          "16805.00",
          "16810.00",
          "16815.00",
          "16820.00",
          "16825.00",
          "16830.00",
          "16835.00",
          "16840.00",
          "16845.00",
          "16850.00",
          "16855.00",
          "16860.00",
          "16865.00",
          "16870.00",
          "16875.00",
          "16880.00",
          "16885.00",
          "16890.00",
          "16895.00",
          "16900.00",
          "16905.00",
          "16910.00",
          "16915.00",
          "16920.00",
          "16925.00",
          "16930.00",
          "16935.00",
          "16940.00",
          "16945.00",
          "16950.00",
          "16955.00",
          "16960.00",
          "16965.00",
          "16970.00",
          "16975.00",
          "16980.00",
          "16985.00",
          "16990.00",
          "16995.00",
          "17000.00",
          "17005.00",
          "17010.00",
          "17015.00",
          "17020.00",
          "17025.00",
          "17030.00",
          "17035.00",
          "17040.00",
          "17045.00",
          "17050.00",
          "17055.00",
          "17060.00",
          "17065.00",
          "17070.00",
          "17075.00",
          "17080.00",
          "17085.00",
          "17090.00",
          "17095.00",
          "17100.00",
          "17105.00",
          "17110.00",
          "17115.00",
          "17120.00",
          "17125.00",
          "17130.00",
          "17135.00",
          "17140.00",
          "17145.00",
          "17150.00",
          "17155.00",
          "17160.00",
          "17165.00",
          "17170.00",
          "17175.00",
          "17180.00",
          "17185.00",
          "17190.00",
          "17195.00",
          "17200.00",
          "17205.00",
          "17210.00",
          "17215.00",
          "17220.00",
          "17225.00",
          "17230.00",
          "17235.00",
          "17240.00",
          "17245.00",
          "17250.00",
          "17255.00",
          "17260.00",
          "17265.00",
          "17270.00",
          "17275.00",
          "17280.00",
          "17285.00",
          "17290.00",
          "17295.00",
          "17300.00",
          "17305.00",
          "17310.00",
          "17315.00",
          "17320.00",
          "17325.00",
          "17330.00",
          "17335.00",
          "17340.00",
          "17345.00",
          "17350.00",
          "17355.00",
          "17360.00",
          "17365.00",
          "17370.00",
          "17375.00",
          "17380.00",
          "17385.00",
          "17390.00",
          "17395.00",
          "17400.00",
          "17405.00",
          "17410.00",
          "17415.00",
          "17420.00",
          "17425.00",
          "17430.00",
          "17435.00",
          "17440.00",
          "17445.00",
          "17450.00",
          "17455.00",
          "17460.00",
          "17465.00",
          "17470.00",
          "17475.00",
          "17480.00",
          "17485.00",
          "17490.00",
          "17495.00",
          "17500.00",
          "17505.00",
          "17510.00",
          "17515.00",
          "17520.00",
          "17525.00",
          "17530.00",
          "17535.00",
          "17540.00",
          "17545.00",
          "17550.00",
          "17555.00",
          "17560.00",
          "17565.00",
          "17570.00",
          "17575.00",
          "17580.00",
          "17585.00",
          "17590.00",
          "17595.00",
          "17600.00",
          "17605.00",
          "17610.00",
          "17615.00",
          "17620.00",
          "17625.00",
          "17630.00",
          "17635.00",
          "17640.00",
          "17645.00",
          "17650.00",
          "17655.00",
          "17660.00",
          "17665.00",
          "17670.00",
          "17675.00",
          "17680.00",
          "17685.00",
          "17690.00",
          "17695.00",
          "17700.00",
          "17705.00",
          "17710.00",
          "17715.00",
          "17720.00",
          "17725.00",
          "17730.00",
          "17735.00",
          "17740.00",
          "17745.00",
          "17750.00",
          "17755.00",
          "17760.00",
          "17765.00",
          "17770.00",
          "17775.00",
          "17780.00",
          "17785.00",
          "17790.00",
          "17795.00",
          "17800.00",
          "17805.00",
          "17810.00",
          "17815.00",
          "17820.00",
          "17825.00",
          "17830.00",
          "17835.00",
          "17840.00",
          "17845.00",
          "17850.00",
          "17855.00",
          "17860.00",
          "17865.00",
          "17870.00",
          "17875.00",
          "17880.00",
          "17885.00",
          "17890.00",
          "17895.00",
          "17900.00",
          "17905.00",
          "17910.00",
          "17915.00",
          "17920.00",
          "17925.00",
          "17930.00",
          "17935.00",
          "17940.00",
          "17945.00",
          "17950.00",
          "17955.00",
          "17960.00",
          "17965.00",
          "17970.00",
          "17975.00",
          "17980.00",
          "17985.00",
          "17990.00",
          "17995.00",
          "18000.00",
          "18005.00",
          "18010.00",
          "18015.00",
          "18020.00",
          "18025.00",
          "18030.00",
          "18035.00",
          "18040.00",
          "18045.00",
          "18050.00",
          "18055.00",
          "18060.00",
          "18065.00",
          "18070.00",
          "18075.00",
          "18080.00",
          "18085.00",
          "18090.00",
          "18095.00",
          "18100.00",
          "18105.00",
          "18110.00",
          "18115.00",
          "18120.00",
          "18125.00",
          "18130.00",
          "18135.00",
          "18140.00",
          "18145.00",
          "18150.00",
          "18155.00",
          "18160.00",
          "18165.00",
          "18170.00",
          "18175.00",
          "18180.00",
          "18185.00",
          "18190.00",
          "18195.00",
          "18200.00",
          "18205.00",
          "18210.00",
          "18215.00",
          "18220.00",
          "18225.00",
          "18230.00",
          "18235.00",
          "18240.00",
          "18245.00",
          "18250.00",
          "18255.00",
          "18260.00",
          "18265.00",
          "18270.00",
          "18275.00",
          "18280.00",
          "18285.00",
          "18290.00",
          "18295.00",
          "18300.00",
          "18305.00",
          "18310.00",
          "18315.00",
          "18320.00",
          "18325.00",
          "18330.00",
          "18335.00",
          "18340.00",
          "18345.00",
          "18350.00",
          "18355.00",
          "18360.00",
          "18365.00",
          "18370.00",
          "18375.00",
          "18380.00",
          "18385.00",
          "18390.00",
          "18395.00",
          "18400.00",
          "18405.00",
          "18410.00",
          "18415.00",
          "18420.00",
          "18425.00",
          "18430.00",
          "18435.00",
          "18440.00",
          "18445.00",
          "18450.00",
          "18455.00",
          "18460.00",
          "18465.00",
          "18470.00",
          "18475.00",
          "18480.00",
          "18485.00",
          "18490.00",
          "18495.00",
          "18500.00",
          "18505.00",
          "18510.00",
          "18515.00",
          "18520.00",
          "18525.00",
          "18530.00",
          "18535.00",
          "18540.00",
          "18545.00",
          "18550.00",
          "18555.00",
          "18560.00",
          "18565.00",
          "18570.00",
          "18575.00",
          "18580.00",
          "18585.00",
          "18590.00",
          "18595.00",
          "18600.00",
          "18605.00",
          "18610.00",
          "18615.00",
          "18620.00",
          "18625.00",
          "18630.00",
          "18635.00",
          "18640.00",
          "18645.00",
          "18650.00",
          "18655.00",
          "18660.00",
          "18665.00",
          "18670.00",
          "18675.00",
          "18680.00",
          "18685.00",
          "18690.00",
          "18695.00",
          "18700.00",
          "18705.00",
          "18710.00",
          "18715.00",
          "18720.00",
          "18725.00",
          "18730.00",
          "18735.00",
          "18740.00",
          "18745.00",
          "18750.00",
          "18755.00",
          "18760.00",
          "18765.00",
          "18770.00",
          "18775.00",
          "18780.00",
          "18785.00",
          "18790.00",
          "18795.00",
          "18800.00",
          "18805.00",
          "18810.00",
          "18815.00",
          "18820.00",
          "18825.00",
          "18830.00",
          "18835.00",
          "18840.00",
          "18845.00",
          "18850.00",
          "18855.00",
          "18860.00",
          "18865.00",
          "18870.00",
          "18875.00",
          "18880.00",
          "18885.00",
          "18890.00",
          "18895.00",
          "18900.00",
          "18905.00",
          "18910.00",
          "18915.00",
          "18920.00",
          "18925.00",
          "18930.00",
          "18935.00",
          "18940.00",
          "18945.00",
          "18950.00",
          "18955.00",
          "18960.00",
          "18965.00",
          "18970.00",
          "18975.00",
          "18980.00",
          "18985.00",
          "18990.00",
          "18995.00",
          "19000.00",
          "19005.00",
          "19010.00",
          "19015.00",
          "19020.00",
          "19025.00",
          "19030.00",
          "19035.00",
          "19040.00",
          "19045.00",
          "19050.00",
          "19055.00",
          "19060.00",
          "19065.00",
          "19070.00",
          "19075.00",
          "19080.00",
          "19085.00",
          "19090.00",
          "19095.00",
          "19100.00",
          "19105.00",
          "19110.00",
          "19115.00",
          "19120.00",
          "19125.00",
          "19130.00",
          "19135.00",
          "19140.00",
          "19145.00",
          "19150.00",
          "19155.00",
          "19160.00",
          "19165.00",
          "19170.00",
          "19175.00",
          "19180.00",
          "19185.00",
          "19190.00",
          "19195.00",
          "19200.00",
          "19205.00",
          "19210.00",
          "19215.00",
          "19220.00",
          "19225.00",
          "19230.00",
          "19235.00",
          "19240.00",
          "19245.00",
          "19250.00",
          "19255.00",
          "19260.00",
          "19265.00",
          "19270.00",
          "19275.00",
          "19280.00",
          "19285.00",
          "19290.00",
          "19295.00",
          "19300.00",
          "19305.00",
          "19310.00",
          "19315.00",
          "19320.00",
          "19325.00",
          "19330.00",
          "19335.00",
          "19340.00",
          "19345.00",
          "19350.00",
          "19355.00",
          "19360.00",
          "19365.00",
          "19370.00",
          "19375.00",
          "19380.00",
          "19385.00",
          "19390.00",
          "19395.00",
          "19400.00",
          "19405.00",
          "19410.00",
          "19415.00",
          "19420.00",
          "19425.00",
          "19430.00",
          "19435.00",
          "19440.00",
          "19445.00",
          "19450.00",
          "19455.00",
          "19460.00",
          "19465.00",
          "19470.00",
          "19475.00",
          "19480.00",
          "19485.00",
          "19490.00",
          "19495.00",
          "19500.00",
          "19505.00",
          "19510.00",
          "19515.00",
          "19520.00",
          "19525.00",
          "19530.00",
          "19535.00",
          "19540.00",
          "19545.00",
          "19550.00",
          "19555.00",
          "19560.00",
          "19565.00",
          "19570.00",
          "19575.00",
          "19580.00",
          "19585.00",
          "19590.00",
          "19595.00",
          "19600.00",
          "19605.00",
          "19610.00",
          "19615.00",
          "19620.00",
          "19625.00",
          "19630.00",
          "19635.00",
          "19640.00",
          "19645.00",
          "19650.00",
          "19655.00",
          "19660.00",
          "19665.00",
          "19670.00",
          "19675.00",
          "19680.00",
          "19685.00",
          "19690.00",
          "19695.00",
          "19700.00",
          "19705.00",
          "19710.00",
          "19715.00",
          "19720.00",
          "19725.00",
          "19730.00",
          "19735.00",
          "19740.00",
          "19745.00",
          "19750.00",
          "19755.00",
          "19760.00",
          "19765.00",
          "19770.00",
          "19775.00",
          "19780.00",
          "19785.00",
          "19790.00",
          "19795.00",
          "19800.00",
          "19805.00",
          "19810.00",
          "19815.00",
          "19820.00",
          "19825.00",
          "19830.00",
          "19835.00",
          "19840.00",
          "19845.00",
          "19850.00",
          "19855.00",
          "19860.00",
          "19865.00",
          "19870.00",
          "19875.00",
          "19880.00",
          "19885.00",
          "19890.00",
          "19895.00",
          "19900.00",
          "19905.00",
          "19910.00",
          "19915.00",
          "19920.00",
          "19925.00",
          "19930.00",
          "19935.00",
          "19940.00",
          "19945.00",
          "19950.00",
          "19955.00",
          "19960.00",
          "19965.00",
          "19970.00",
          "19975.00",
          "19980.00",
          "19985.00",
          "19990.00",
          "19995.00",
          "20000.00",
          "20005.00",
          "20010.00",
          "20015.00",
          "20020.00",
          "20025.00",
          "20030.00",
          "20035.00",
          "20040.00",
          "20045.00",
          "20050.00",
          "20055.00",
          "20060.00",
          "20065.00",
          "20070.00",
          "20075.00",
          "20080.00",
          "20085.00",
          "20090.00",
          "20095.00",
          "20100.00",
          "20105.00",
          "20110.00",
          "20115.00",
          "20120.00",
          "20125.00",
          "20130.00",
          "20135.00",
          "20140.00",
          "20145.00",
          "20150.00",
          "20155.00",
          "20160.00",
          "20165.00",
          "20170.00",
          "20175.00",
          "20180.00",
          "20185.00",
          "20190.00",
          "20195.00",
          "20200.00",
          "20205.00",
          "20210.00",
          "20215.00",
          "20220.00",
          "20225.00",
          "20230.00",
          "20235.00",
          "20240.00",
          "20245.00",
          "20250.00",
          "20255.00",
          "20260.00",
          "20265.00",
          "20270.00",
          "20275.00",
          "20280.00",
          "20285.00",
          "20290.00",
          "20295.00",
          "20300.00",
          "20305.00",
          "20310.00",
          "20315.00",
          "20320.00",
          "20325.00",
          "20330.00",
          "20335.00",
          "20340.00",
          "20345.00",
          "20350.00",
          "20355.00",
          "20360.00",
          "20365.00",
          "20370.00",
          "20375.00",
          "20380.00",
          "20385.00",
          "20390.00",
          "20395.00",
          "20400.00",
          "20405.00",
          "20410.00",
          "20415.00",
          "20420.00",
          "20425.00",
          "20430.00",
          "20435.00",
          "20440.00",
          "20445.00",
          "20450.00",
          "20455.00",
          "20460.00",
          "20465.00",
          "20470.00",
          "20475.00",
          "20480.00",
          "20485.00",
          "20490.00",
          "20495.00",
          "20500.00",
          "20505.00",
          "20510.00",
          "20515.00",
          "20520.00",
          "20525.00",
          "20530.00",
          "20535.00",
          "20540.00",
          "20545.00",
          "20550.00",
          "20555.00",
          "20560.00",
          "20565.00",
          "20570.00",
          "20575.00",
          "20580.00",
          "20585.00",
          "20590.00",
          "20595.00",
          "20600.00",
          "20605.00",
          "20610.00",
          "20615.00",
          "20620.00",
          "20625.00",
          "20630.00",
          "20635.00",
          "20640.00",
          "20645.00",
          "20650.00",
          "20655.00",
          "20660.00",
          "20665.00",
          "20670.00",
          "20675.00",
          "20680.00",
          "20685.00",
          "20690.00",
          "20695.00",
          "20700.00",
          "20705.00",
          "20710.00",
          "20715.00",
          "20720.00",
          "20725.00",
          "20730.00",
          "20735.00",
          "20740.00",
          "20745.00",
          "20750.00",
          "20755.00",
          "20760.00",
          "20765.00",
          "20770.00",
          "20775.00",
          "20780.00",
          "20785.00",
          "20790.00",
          "20795.00",
          "20800.00",
          "20805.00",
          "20810.00",
          "20815.00",
          "20820.00",
          "20825.00",
          "20830.00",
          "20835.00",
          "20840.00",
          "20845.00",
          "20850.00",
          "20855.00",
          "20860.00",
          "20865.00",
          "20870.00",
          "20875.00",
          "20880.00",
          "20885.00",
          "20890.00",
          "20895.00",
          "20900.00",
          "20905.00",
          "20910.00",
          "20915.00",
          "20920.00",
          "20925.00",
          "20930.00",
          "20935.00",
          "20940.00",
          "20945.00",
          "20950.00",
          "20955.00",
          "20960.00",
          "20965.00",
          "20970.00",
          "20975.00",
          "20980.00",
          "20985.00",
          "20990.00",
          "20995.00",
          "21000.00",
          "21005.00",
          "21010.00",
          "21015.00",
          "21020.00",
          "21025.00",
          "21030.00",
          "21035.00",
          "21040.00",
          "21045.00",
          "21050.00",
          "21055.00",
          "21060.00",
          "21065.00",
          "21070.00",
          "21075.00",
          "21080.00",
          "21085.00",
          "21090.00",
          "21095.00",
          "21100.00",
          "21105.00",
          "21110.00",
          "21115.00",
          "21120.00",
          "21125.00",
          "21130.00",
          "21135.00",
          "21140.00",
          "21145.00",
          "21150.00",
          "21155.00",
          "21160.00",
          "21165.00",
          "21170.00",
          "21175.00",
          "21180.00",
          "21185.00",
          "21190.00",
          "21195.00",
          "21200.00",
          "21205.00",
          "21210.00",
          "21215.00",
          "21220.00",
          "21225.00",
          "21230.00",
          "21235.00",
          "21240.00",
          "21245.00",
          "21250.00",
          "21255.00",
          "21260.00",
          "21265.00",
          "21270.00",
          "21275.00",
          "21280.00",
          "21285.00",
          "21290.00",
          "21295.00",
          "21300.00",
          "21305.00",
          "21310.00",
          "21315.00",
          "21320.00",
          "21325.00",
          "21330.00",
          "21335.00",
          "21340.00",
          "21345.00",
          "21350.00",
          "21355.00",
          "21360.00",
          "21365.00",
          "21370.00",
          "21375.00",
          "21380.00",
          "21385.00",
          "21390.00",
          "21395.00",
          "21400.00",
          "21405.00",
          "21410.00",
          "21415.00",
          "21420.00",
          "21425.00",
          "21430.00",
          "21435.00",
          "21440.00",
          "21445.00",
          "21450.00",
          "21455.00",
          "21460.00",
          "21465.00",
          "21470.00",
          "21475.00",
          "21480.00",
          "21485.00",
          "21490.00",
          "21495.00",
          "21500.00",
          "21505.00",
          "21510.00",
          "21515.00",
          "21520.00",
          "21525.00",
          "21530.00",
          "21535.00",
          "21540.00",
          "21545.00",
          "21550.00",
          "21555.00",
          "21560.00",
          "21565.00",
          "21570.00",
          "21575.00",
          "21580.00",
          "21585.00",
          "21590.00",
          "21595.00",
          "21600.00",
          "21605.00",
          "21610.00",
          "21615.00",
          "21620.00",
          "21625.00",
          "21630.00",
          "21635.00",
          "21640.00",
          "21645.00",
          "21650.00",
          "21655.00",
          "21660.00",
          "21665.00",
          "21670.00",
          "21675.00",
          "21680.00",
          "21685.00",
          "21690.00",
          "21695.00",
          "21700.00",
          "21705.00",
          "21710.00",
          "21715.00",
          "21720.00",
          "21725.00",
          "21730.00",
          "21735.00",
          "21740.00",
          "21745.00",
          "21750.00",
          "21755.00",
          "21760.00",
          "21765.00",
          "21770.00",
          "21775.00",
          "21780.00",
          "21785.00",
          "21790.00",
          "21795.00",
          "21800.00",
          "21805.00",
          "21810.00",
          "21815.00",
          "21820.00",
          "21825.00",
          "21830.00",
          "21835.00",
          "21840.00",
          "21845.00",
          "21850.00",
          "21855.00",
          "21860.00",
          "21865.00",
          "21870.00",
          "21875.00",
          "21880.00",
          "21885.00",
          "21890.00",
          "21895.00",
          "21900.00",
          "21905.00",
          "21910.00",
          "21915.00",
          "21920.00",
          "21925.00",
          "21930.00",
          "21935.00",
          "21940.00",
          "21945.00",
          "21950.00",
          "21955.00",
          "21960.00",
          "21965.00",
          "21970.00",
          "21975.00",
          "21980.00",
          "21985.00",
          "21990.00",
          "21995.00",
          "22000.00",
          "22005.00",
          "22010.00",
          "22015.00",
          "22020.00",
          "22025.00",
          "22030.00",
          "22035.00",
          "22040.00",
          "22045.00",
          "22050.00",
          "22055.00",
          "22060.00",
          "22065.00",
          "22070.00",
          "22075.00",
          "22080.00",
          "22085.00",
          "22090.00",
          "22095.00",
          "22100.00",
          "22105.00",
          "22110.00",
          "22115.00",
          "22120.00",
          "22125.00",
          "22130.00",
          "22135.00",
          "22140.00",
          "22145.00",
          "22150.00",
          "22155.00",
          "22160.00",
          "22165.00",
          "22170.00",
          "22175.00",
          "22180.00",
          "22185.00",
          "22190.00",
          "22195.00",
          "22200.00",
          "22205.00",
          "22210.00",
          "22215.00",
          "22220.00",
          "22225.00",
          "22230.00",
          "22235.00",
          "22240.00",
          "22245.00",
          "22250.00",
          "22255.00",
          "22260.00",
          "22265.00",
          "22270.00",
          "22275.00",
          "22280.00",
          "22285.00",
          "22290.00",
          "22295.00",
          "22300.00",
          "22305.00",
          "22310.00",
          "22315.00",
          "22320.00",
          "22325.00",
          "22330.00",
          "22335.00",
          "22340.00",
          "22345.00",
          "22350.00",
          "22355.00",
          "22360.00",
          "22365.00",
          "22370.00",
          "22375.00",
          "22380.00",
          "22385.00",
          "22390.00",
          "22395.00",
          "22400.00",
          "22405.00",
          "22410.00",
          "22415.00",
          "22420.00",
          "22425.00",
          "22430.00",
          "22435.00",
          "22440.00",
          "22445.00",
          "22450.00",
          "22455.00",
          "22460.00",
          "22465.00",
          "22470.00",
          "22475.00",
          "22480.00",
          "22485.00",
          "22490.00",
          "22495.00",
          "22500.00",
          "22505.00",
          "22510.00",
          "22515.00",
          "22520.00",
          "22525.00",
          "22530.00",
          "22535.00",
          "22540.00",
          "22545.00",
          "22550.00",
          "22555.00",
          "22560.00",
          "22565.00",
          "22570.00",
          "22575.00",
          "22580.00",
          "22585.00",
          "22590.00",
          "22595.00",
          "22600.00",
          "22605.00",
          "22610.00",
          "22615.00",
          "22620.00",
          "22625.00",
          "22630.00",
          "22635.00",
          "22640.00",
          "22645.00",
          "22650.00",
          "22655.00",
          "22660.00",
          "22665.00",
          "22670.00",
          "22675.00",
          "22680.00",
          "22685.00",
          "22690.00",
          "22695.00",
          "22700.00",
          "22705.00",
          "22710.00",
          "22715.00",
          "22720.00",
          "22725.00",
          "22730.00",
          "22735.00",
          "22740.00",
          "22745.00",
          "22750.00",
          "22755.00",
          "22760.00",
          "22765.00",
          "22770.00",
          "22775.00",
          "22780.00",
          "22785.00",
          "22790.00",
          "22795.00",
          "22800.00",
          "22805.00",
          "22810.00",
          "22815.00",
          "22820.00",
          "22825.00",
          "22830.00",
          "22835.00",
          "22840.00",
          "22845.00",
          "22850.00",
          "22855.00",
          "22860.00",
          "22865.00",
          "22870.00",
          "22875.00",
          "22880.00",
          "22885.00",
          "22890.00",
          "22895.00",
          "22900.00",
          "22905.00",
          "22910.00",
          "22915.00",
          "22920.00",
          "22925.00",
          "22930.00",
          "22935.00",
          "22940.00",
          "22945.00",
          "22950.00",
          "22955.00",
          "22960.00",
          "22965.00",
          "22970.00",
          "22975.00",
          "22980.00",
          "22985.00",
          "22990.00",
          "22995.00",
          "23000.00",
          "23005.00",
          "23010.00",
          "23015.00",
          "23020.00",
          "23025.00",
          "23030.00",
          "23035.00",
          "23040.00",
          "23045.00",
          "23050.00",
          "23055.00",
          "23060.00",
          "23065.00",
          "23070.00",
          "23075.00",
          "23080.00",
          "23085.00",
          "23090.00",
          "23095.00",
          "23100.00",
          "23105.00",
          "23110.00",
          "23115.00",
          "23120.00",
          "23125.00",
          "23130.00",
          "23135.00",
          "23140.00",
          "23145.00",
          "23150.00",
          "23155.00",
          "23160.00",
          "23165.00",
          "23170.00",
          "23175.00",
          "23180.00",
          "23185.00",
          "23190.00",
          "23195.00",
          "23200.00",
          "23205.00",
          "23210.00",
          "23215.00",
          "23220.00",
          "23225.00",
          "23230.00",
          "23235.00",
          "23240.00",
          "23245.00",
          "23250.00",
          "23255.00",
          "23260.00",
          "23265.00",
          "23270.00",
          "23275.00",
          "23280.00",
          "23285.00",
          "23290.00",
          "23295.00",
          "23300.00",
          "23305.00",
          "23310.00",
          "23315.00",
          "23320.00",
          "23325.00",
          "23330.00",
          "23335.00",
          "23340.00",
          "23345.00",
          "23350.00",
          "23355.00",
          "23360.00",
          "23365.00",
          "23370.00",
          "23375.00",
          "23380.00",
          "23385.00",
          "23390.00",
          "23395.00"
         ],
         "xaxis": "x",
         "y": [
          11,
          22,
          23,
          23,
          24,
          26,
          27,
          28,
          26,
          26,
          28,
          27,
          25,
          26,
          26,
          28,
          26,
          25,
          24,
          25,
          25,
          26,
          26,
          25,
          28,
          29,
          30,
          29,
          26,
          24,
          22,
          23,
          23,
          25,
          23,
          23,
          25,
          26,
          28,
          27,
          26,
          30,
          29,
          33,
          35,
          32,
          31,
          32,
          34,
          34,
          35,
          36,
          35,
          36,
          31,
          32,
          30,
          32,
          34,
          34,
          33,
          29,
          29,
          27,
          28,
          28,
          30,
          29,
          27,
          28,
          26,
          23,
          23,
          22,
          22,
          28,
          29,
          30,
          28,
          33,
          35,
          37,
          35,
          36,
          34,
          32,
          34,
          33,
          33,
          34,
          32,
          32,
          31,
          26,
          29,
          29,
          26,
          28,
          27,
          23,
          24,
          21,
          25,
          25,
          25,
          25,
          27,
          29,
          30,
          29,
          28,
          26,
          22,
          22,
          23,
          21,
          19,
          22,
          22,
          19,
          15,
          16,
          16,
          19,
          20,
          20,
          21,
          23,
          24,
          21,
          19,
          19,
          20,
          22,
          21,
          22,
          23,
          24,
          26,
          29,
          29,
          28,
          29,
          33,
          32,
          29,
          32,
          32,
          33,
          32,
          34,
          31,
          30,
          29,
          27,
          24,
          22,
          27,
          27,
          25,
          24,
          24,
          20,
          22,
          23,
          27,
          26,
          30,
          32,
          32,
          34,
          33,
          36,
          35,
          36,
          35,
          36,
          37,
          34,
          35,
          33,
          29,
          29,
          30,
          28,
          31,
          37,
          36,
          37,
          35,
          32,
          31,
          32,
          36,
          34,
          30,
          28,
          26,
          27,
          27,
          28,
          27,
          29,
          30,
          33,
          34,
          35,
          32,
          32,
          34,
          36,
          39,
          35,
          37,
          34,
          35,
          34,
          38,
          39,
          40,
          43,
          44,
          45,
          42,
          43,
          40,
          40,
          42,
          42,
          45,
          44,
          46,
          47,
          48,
          47,
          46,
          45,
          45,
          42,
          37,
          32,
          31,
          34,
          34,
          37,
          37,
          38,
          37,
          34,
          32,
          29,
          25,
          26,
          27,
          27,
          29,
          33,
          32,
          32,
          33,
          35,
          31,
          28,
          31,
          34,
          36,
          37,
          35,
          33,
          32,
          35,
          37,
          37,
          35,
          35,
          36,
          33,
          32,
          32,
          29,
          30,
          27,
          25,
          25,
          23,
          21,
          22,
          23,
          25,
          24,
          25,
          21,
          22,
          21,
          20,
          19,
          19,
          22,
          21,
          21,
          22,
          25,
          27,
          25,
          20,
          21,
          21,
          20,
          19,
          20,
          19,
          23,
          24,
          27,
          28,
          29,
          29,
          29,
          30,
          31,
          30,
          33,
          33,
          33,
          32,
          30,
          30,
          29,
          28,
          30,
          32,
          29,
          30,
          29,
          29,
          29,
          35,
          34,
          32,
          30,
          27,
          27,
          27,
          28,
          29,
          27,
          29,
          28,
          26,
          24,
          24,
          21,
          20,
          20,
          19,
          18,
          20,
          19,
          18,
          19,
          16,
          16,
          17,
          17,
          22,
          24,
          26,
          24,
          29,
          30,
          28,
          29,
          30,
          30,
          30,
          31,
          29,
          28,
          29,
          33,
          36,
          35,
          34,
          36,
          36,
          38,
          37,
          37,
          35,
          36,
          35,
          37,
          35,
          33,
          34,
          30,
          29,
          29,
          29,
          32,
          28,
          26,
          27,
          26,
          25,
          22,
          24,
          24,
          21,
          25,
          29,
          28,
          28,
          29,
          30,
          33,
          31,
          33,
          33,
          34,
          35,
          35,
          34,
          31,
          29,
          29,
          30,
          32,
          29,
          27,
          24,
          23,
          25,
          23,
          24,
          24,
          26,
          24,
          27,
          27,
          28,
          32,
          34,
          36,
          36,
          40,
          42,
          43,
          46,
          48,
          48,
          47,
          44,
          43,
          40,
          40,
          41,
          41,
          37,
          36,
          34,
          35,
          35,
          36,
          31,
          30,
          30,
          32,
          27,
          27,
          27,
          27,
          25,
          25,
          24,
          26,
          25,
          24,
          27,
          26,
          30,
          33,
          33,
          31,
          29,
          29,
          30,
          28,
          33,
          33,
          36,
          38,
          36,
          35,
          37,
          37,
          32,
          35,
          35,
          38,
          37,
          37,
          40,
          42,
          39,
          40,
          39,
          39,
          41,
          43,
          41,
          39,
          36,
          36,
          37,
          38,
          38,
          41,
          39,
          38,
          37,
          37,
          38,
          38,
          39,
          38,
          40,
          38,
          36,
          35,
          36,
          36,
          38,
          36,
          35,
          36,
          36,
          40,
          42,
          39,
          40,
          40,
          40,
          37,
          34,
          31,
          32,
          33,
          35,
          35,
          34,
          37,
          38,
          39,
          36,
          34,
          36,
          33,
          32,
          36,
          37,
          35,
          38,
          40,
          37,
          33,
          37,
          41,
          41,
          40,
          37,
          40,
          37,
          38,
          38,
          38,
          41,
          43,
          41,
          43,
          44,
          46,
          46,
          48,
          47,
          47,
          44,
          43,
          41,
          44,
          41,
          45,
          45,
          45,
          47,
          46,
          47,
          50,
          51,
          50,
          47,
          49,
          48,
          47,
          43,
          42,
          42,
          39,
          41,
          39,
          39,
          41,
          40,
          42,
          43,
          44,
          47,
          47,
          44,
          42,
          41,
          41,
          42,
          42,
          44,
          44,
          42,
          43,
          40,
          38,
          37,
          41,
          39,
          42,
          37,
          33,
          36,
          36,
          36,
          36,
          35,
          36,
          37,
          39,
          38,
          40,
          38,
          36,
          38,
          38,
          35,
          39,
          41,
          43,
          43,
          41,
          40,
          37,
          37,
          39,
          40,
          42,
          42,
          44,
          44,
          42,
          39,
          39,
          37,
          38,
          38,
          39,
          39,
          40,
          41,
          42,
          39,
          40,
          41,
          39,
          39,
          37,
          37,
          37,
          35,
          39,
          38,
          39,
          40,
          41,
          40,
          36,
          37,
          34,
          34,
          35,
          38,
          42,
          42,
          41,
          39,
          39,
          42,
          43,
          44,
          41,
          38,
          37,
          39,
          39,
          40,
          40,
          36,
          38,
          40,
          39,
          40,
          43,
          43,
          43,
          44,
          48,
          47,
          50,
          46,
          47,
          41,
          36,
          33,
          36,
          38,
          39,
          40,
          42,
          45,
          43,
          42,
          38,
          38,
          38,
          39,
          39,
          41,
          43,
          44,
          49,
          48,
          47,
          49,
          46,
          45,
          45,
          47,
          47,
          39,
          33,
          31,
          29,
          29,
          27,
          25,
          23,
          26,
          25,
          28,
          28,
          29,
          31,
          30,
          30,
          29,
          27,
          27,
          27,
          28,
          32,
          36,
          36,
          37,
          37,
          42,
          41,
          40,
          37,
          38,
          37,
          33,
          34,
          29,
          28,
          27,
          33,
          33,
          35,
          35,
          36,
          34,
          37,
          36,
          42,
          49,
          50,
          49,
          49,
          49,
          48,
          50,
          49,
          52,
          55,
          55,
          59,
          60,
          58,
          55,
          53,
          57,
          55,
          50,
          45,
          43,
          43,
          46,
          46,
          42,
          42,
          44,
          48,
          49,
          52,
          55,
          54,
          53,
          51,
          47,
          47,
          47,
          45,
          49,
          52,
          60,
          60,
          62,
          66,
          64,
          62,
          63,
          58,
          57,
          53,
          48,
          49,
          42,
          40,
          42,
          44,
          40,
          40,
          41,
          42,
          45,
          46,
          47,
          50,
          45,
          38,
          40,
          44,
          49,
          52,
          51,
          54,
          54,
          54,
          60,
          60,
          61,
          64,
          66,
          66,
          64,
          61,
          62,
          61,
          65,
          64,
          65,
          67,
          69,
          65,
          69,
          69,
          68,
          71,
          70,
          69,
          71,
          73,
          72,
          70,
          65,
          65,
          63,
          60,
          60,
          62,
          63,
          59,
          57,
          56,
          58,
          53,
          51,
          53,
          55,
          54,
          54,
          51,
          51,
          51,
          54,
          53,
          57,
          59,
          59,
          61,
          59,
          60,
          58,
          59,
          61,
          63,
          67,
          68,
          64,
          62,
          62,
          63,
          63,
          66,
          66,
          65,
          64,
          63,
          62,
          62,
          58,
          59,
          60,
          61,
          60,
          62,
          62,
          60,
          56,
          54,
          54,
          59,
          62,
          67,
          69,
          69,
          67,
          68,
          66,
          66,
          62,
          60,
          58,
          55,
          55,
          53,
          54,
          53,
          51,
          50,
          46,
          45,
          42,
          44,
          48,
          49,
          50,
          51,
          51,
          52,
          53,
          60,
          62,
          61,
          61,
          59,
          57,
          56,
          54,
          49,
          45,
          42,
          37,
          34,
          32,
          31,
          30,
          31,
          30,
          31,
          32,
          32,
          30,
          34,
          37,
          38,
          40,
          34,
          34,
          39,
          37,
          38,
          43,
          44,
          44,
          44,
          43,
          46,
          48,
          44,
          44,
          46,
          47,
          45,
          47,
          46,
          48,
          48,
          49,
          46,
          47,
          49,
          49,
          52,
          53,
          58,
          62,
          63,
          61,
          58,
          61,
          60,
          58,
          57,
          54,
          52,
          55,
          55,
          53,
          56,
          60,
          59,
          64,
          65,
          64,
          62,
          62,
          60,
          62,
          66,
          63,
          62,
          65,
          62,
          64,
          65,
          69,
          71,
          67,
          66,
          65,
          66,
          67,
          71,
          75,
          75,
          76,
          75,
          72,
          71,
          70,
          68,
          64,
          60,
          57,
          57,
          57,
          56,
          54,
          53,
          50,
          49,
          50,
          56,
          60,
          59,
          62,
          64,
          64,
          61,
          58,
          54,
          55,
          55,
          55,
          60,
          65,
          66,
          61,
          56,
          54,
          51,
          47,
          43,
          41,
          46,
          48,
          46,
          43,
          45,
          41,
          43,
          47,
          46,
          49,
          49,
          47,
          50,
          48,
          45,
          44,
          44,
          42,
          41,
          39,
          41,
          40,
          36,
          37,
          34,
          34,
          31,
          27,
          26,
          29,
          28,
          34,
          33,
          32,
          33,
          35,
          34,
          32,
          33,
          34,
          33,
          33,
          31,
          34,
          35,
          34,
          33,
          31,
          37,
          35,
          35,
          41,
          42,
          43,
          43,
          44,
          42,
          41,
          37,
          39,
          40,
          41,
          40,
          39,
          40,
          42,
          42,
          40,
          44,
          46,
          48,
          46,
          44,
          47,
          47,
          46,
          48,
          47,
          47,
          48,
          50,
          47,
          44,
          44,
          41,
          37,
          34,
          30,
          32,
          33,
          33,
          35,
          37,
          36,
          36,
          36,
          38,
          41,
          44,
          47,
          47,
          48,
          50,
          47,
          46,
          48,
          50,
          56,
          55,
          58,
          58,
          58,
          58,
          55,
          51,
          53,
          55,
          53,
          52,
          50,
          48,
          47,
          43,
          40,
          38,
          40,
          40,
          40,
          42,
          42,
          44,
          44,
          43,
          39,
          39,
          41,
          40,
          39,
          45,
          49,
          47,
          46,
          41,
          36,
          38,
          37,
          37,
          37,
          40,
          44,
          41,
          48,
          46,
          48,
          50,
          46,
          46,
          48,
          50,
          53,
          51,
          50,
          49,
          49,
          52,
          54,
          55,
          57,
          52,
          56,
          54,
          56,
          53,
          56,
          53,
          57,
          62,
          61,
          65,
          59,
          60,
          63,
          62,
          62,
          62,
          62,
          59,
          56,
          58,
          62,
          65,
          67,
          64,
          62,
          60,
          65,
          68,
          67,
          68,
          68,
          71,
          73,
          76,
          78,
          78,
          80,
          79,
          74,
          74,
          69,
          65,
          65,
          67,
          66,
          67,
          66,
          65,
          67,
          66,
          67,
          67,
          65,
          64,
          64,
          70,
          71,
          70,
          71,
          72,
          69,
          69,
          70,
          68,
          64,
          62,
          61,
          57,
          52,
          48,
          47,
          45,
          46,
          46,
          45,
          46,
          45,
          46,
          49,
          56,
          59,
          60,
          59,
          62,
          63,
          63,
          60,
          60,
          62,
          60,
          60,
          60,
          61,
          58,
          57,
          58,
          55,
          51,
          48,
          42,
          38,
          35,
          35,
          35,
          40,
          41,
          42,
          43,
          45,
          50,
          51,
          54,
          58,
          66,
          69,
          69,
          69,
          71,
          71,
          71,
          72,
          68,
          65,
          67,
          67,
          67,
          65,
          62,
          63,
          61,
          59,
          61,
          61,
          60,
          57,
          53,
          50,
          46,
          48,
          53,
          53,
          49,
          50,
          48,
          45,
          41,
          41,
          46,
          48,
          50,
          49,
          49,
          49,
          49,
          48,
          49,
          45,
          43,
          42,
          39,
          40,
          38,
          41,
          46,
          50,
          51,
          52,
          56,
          60,
          62,
          63,
          64,
          63,
          61,
          61,
          65,
          65,
          67,
          65,
          62,
          63,
          62,
          63,
          60,
          55,
          53,
          50,
          49,
          50,
          50,
          49,
          45,
          43,
          45,
          44,
          44,
          45,
          48,
          49,
          45,
          47,
          48,
          47,
          49,
          50,
          48,
          50,
          49,
          48,
          50,
          48,
          47,
          42,
          39,
          35,
          36,
          33,
          31,
          33,
          33,
          31,
          29,
          28,
          32,
          35,
          36,
          35,
          36,
          38,
          39,
          42,
          42,
          42,
          40,
          43,
          43,
          43,
          41,
          44,
          45,
          43,
          43,
          47,
          48,
          49,
          49,
          52,
          51,
          49,
          53,
          51,
          49,
          47,
          45,
          43,
          46,
          45,
          43,
          42,
          47,
          48,
          52,
          53,
          55,
          57,
          55,
          59,
          61,
          63,
          63,
          64,
          64,
          66,
          67,
          72,
          70,
          68,
          67,
          65,
          67,
          66,
          63,
          61,
          57,
          53,
          50,
          50,
          48,
          47,
          49,
          48,
          50,
          47,
          46,
          45,
          42,
          41,
          41,
          41,
          42,
          42,
          43,
          44,
          42,
          40,
          39,
          36,
          33,
          33,
          32,
          32,
          31,
          30,
          34,
          35,
          39,
          38,
          39,
          42,
          44,
          46,
          50,
          54,
          53,
          55,
          58,
          59,
          60,
          64,
          68,
          67,
          67,
          67,
          70,
          72,
          69,
          66,
          67,
          63,
          62,
          61,
          58,
          59,
          55,
          54,
          59,
          60,
          58,
          54,
          57,
          58,
          53,
          56,
          55,
          52,
          50,
          51,
          52,
          58,
          57,
          63,
          63,
          62,
          65,
          66,
          65,
          62,
          59,
          57,
          55,
          56,
          55,
          53,
          54,
          53,
          51,
          48,
          46,
          48,
          48,
          51,
          54,
          55,
          59,
          59,
          62,
          60,
          58,
          60,
          61,
          67,
          68,
          65,
          61,
          63,
          61,
          60,
          58,
          60,
          58,
          57,
          56,
          59,
          61,
          64,
          64,
          64,
          62,
          61,
          64,
          66,
          67,
          68,
          66,
          65,
          62,
          64,
          65,
          67,
          70,
          71,
          71,
          69,
          66,
          60,
          59,
          58,
          56,
          57,
          58,
          57,
          57,
          56,
          56,
          56,
          59,
          59,
          58,
          61,
          64,
          66,
          68,
          69,
          64,
          62,
          64,
          66,
          65,
          67,
          80,
          85,
          85,
          85,
          87,
          86,
          84,
          83,
          78,
          76,
          74,
          73,
          70,
          64,
          66,
          61,
          59,
          58,
          67,
          61,
          63,
          63,
          65,
          69,
          67,
          64,
          58,
          60,
          61,
          65,
          64,
          67,
          70,
          70,
          66,
          63,
          65,
          59,
          57,
          57,
          60,
          60,
          59,
          59,
          57,
          57,
          59,
          60,
          63,
          64,
          67,
          70,
          72,
          75,
          71,
          70,
          70,
          71,
          74,
          78,
          77,
          82,
          79,
          73,
          72,
          72,
          73,
          68,
          65,
          61,
          60,
          61,
          60,
          56,
          57,
          55,
          52,
          50,
          54,
          56,
          59,
          59,
          61,
          58,
          58,
          58,
          57,
          58,
          58,
          64,
          66,
          68,
          71,
          73,
          72,
          71,
          64,
          63,
          62,
          64,
          62,
          59,
          59,
          57,
          54,
          54,
          56,
          56,
          56,
          58,
          62,
          65,
          64,
          64,
          62,
          61,
          60,
          61,
          61,
          61,
          61,
          61,
          66,
          64,
          60,
          61,
          58,
          53,
          50,
          49,
          51,
          51,
          55,
          57,
          58,
          58,
          55,
          51,
          46,
          42,
          39,
          38,
          40,
          41,
          40,
          39,
          44,
          48,
          50,
          53,
          50,
          50,
          52,
          52,
          52,
          49,
          45,
          44,
          44,
          44,
          37,
          37,
          37,
          38,
          41,
          40,
          42,
          40,
          38,
          38,
          38,
          36,
          36,
          37,
          37,
          36,
          39,
          40,
          42,
          38,
          37,
          35,
          36,
          36,
          40,
          41,
          41,
          39,
          37,
          35,
          28,
          30,
          33,
          33,
          34,
          38,
          34,
          31,
          32,
          29,
          34,
          35,
          34,
          37,
          38,
          42,
          41,
          42,
          40,
          38,
          40,
          39,
          39,
          38,
          38,
          38,
          34,
          36,
          35,
          34,
          36,
          38,
          38,
          39,
          38,
          40,
          40,
          39,
          39,
          40,
          42,
          41,
          40,
          40,
          38,
          38,
          37,
          37,
          37,
          38,
          40,
          43,
          46,
          44,
          42,
          39,
          41,
          41,
          39,
          37,
          38,
          39,
          40,
          39,
          36,
          37,
          35,
          36,
          38,
          38,
          40,
          39,
          40,
          38,
          35,
          34,
          34,
          33,
          33,
          36,
          36,
          40,
          41,
          39,
          41,
          36,
          35,
          34,
          31,
          32,
          33,
          31,
          32,
          35,
          37,
          35,
          35,
          38,
          40,
          40,
          40,
          41,
          46,
          45,
          45,
          44,
          48,
          49,
          51,
          53,
          56,
          60,
          62,
          58,
          56,
          55,
          52,
          50,
          41,
          41,
          43,
          42,
          42,
          44,
          46,
          46,
          46,
          50,
          49,
          50,
          52,
          54,
          52,
          53,
          54,
          62,
          61,
          61,
          61,
          63,
          63,
          62,
          57,
          56,
          57,
          56,
          57,
          59,
          58,
          53,
          49,
          48,
          44,
          43,
          42,
          42,
          42,
          45,
          49,
          49,
          57,
          57,
          59,
          59,
          61,
          57,
          58,
          57,
          56,
          54,
          54,
          53,
          51,
          49,
          46,
          44,
          41,
          38,
          39,
          38,
          33,
          29,
          28,
          27,
          30,
          32,
          33,
          37,
          37,
          35,
          36,
          37,
          36,
          33,
          29,
          29,
          27,
          27,
          29,
          28,
          28,
          26,
          22,
          24,
          24,
          22,
          25,
          27,
          28,
          28,
          27,
          26,
          27,
          26,
          27,
          29,
          34,
          34,
          34,
          34,
          34,
          34,
          35,
          37,
          36,
          38,
          44,
          45,
          44,
          44,
          41,
          36,
          37,
          40,
          41,
          39,
          44,
          43,
          47,
          43,
          40,
          39,
          37,
          38,
          38,
          36,
          29,
          29,
          31,
          31,
          33,
          36,
          39,
          42,
          41,
          39,
          38,
          41,
          40,
          39,
          37,
          35,
          36,
          35,
          32,
          32,
          31,
          30,
          26,
          25,
          25,
          25,
          26,
          28,
          29,
          29,
          27,
          26,
          28,
          30,
          32,
          31,
          32,
          31,
          31,
          31,
          35,
          40,
          38,
          42,
          42,
          44,
          47,
          46,
          44,
          44,
          46,
          39,
          38,
          39,
          33,
          31,
          37,
          41,
          48,
          50,
          51,
          50,
          53,
          57,
          59,
          61,
          65,
          63,
          63,
          60,
          58,
          56,
          55,
          55,
          57,
          58,
          58,
          60,
          59,
          59,
          58,
          55,
          56,
          58,
          49,
          44,
          43,
          43,
          43,
          46,
          46,
          46,
          51,
          50,
          51,
          54,
          57,
          58,
          57,
          56,
          56,
          54,
          55,
          57,
          59,
          59,
          57,
          64,
          62,
          58,
          56,
          53,
          52,
          46,
          41,
          36,
          32,
          30,
          30,
          30,
          23,
          25,
          33,
          36,
          37,
          42,
          41,
          43,
          47,
          45,
          47,
          47,
          46,
          49,
          52,
          50,
          50,
          50,
          48,
          50,
          46,
          45,
          44,
          45,
          44,
          39,
          39,
          36,
          36,
          33,
          35,
          35,
          36,
          38,
          40,
          38,
          35,
          29,
          25,
          28,
          31,
          29,
          31,
          30,
          32,
          33,
          34,
          35,
          38,
          38,
          38,
          38,
          37,
          34,
          32,
          29,
          33,
          38,
          39,
          38,
          39,
          41,
          41,
          42,
          43,
          43,
          43,
          43,
          44,
          46,
          50,
          52,
          51,
          51,
          51,
          51,
          51,
          54,
          48,
          48,
          47,
          49,
          50,
          54,
          57,
          56,
          52,
          49,
          51,
          50,
          53,
          53,
          55,
          58,
          57,
          59,
          56,
          53,
          49,
          47,
          49,
          50,
          52,
          55,
          51,
          54,
          50,
          47,
          50,
          44,
          45,
          40,
          40,
          41,
          39,
          43,
          44,
          43,
          44,
          44,
          39,
          39,
          40,
          40,
          40,
          43,
          42,
          39,
          40,
          41,
          36,
          39,
          38,
          33,
          31,
          36,
          33,
          33,
          33,
          35,
          35,
          31,
          31,
          30,
          28,
          33,
          34,
          31,
          30,
          30,
          33,
          30,
          31,
          32,
          34,
          36,
          34,
          32,
          32,
          32,
          32,
          34,
          34,
          40,
          39,
          37,
          38,
          40,
          41,
          41,
          38,
          38,
          37,
          36,
          36,
          38,
          36,
          37,
          36,
          35,
          33,
          37,
          37,
          42,
          45,
          46,
          47,
          47,
          47,
          50,
          50,
          51,
          51,
          52,
          53,
          50,
          50,
          49,
          49,
          43,
          39,
          35,
          35,
          37,
          36,
          36,
          37,
          40,
          41,
          39,
          40,
          40,
          40,
          41,
          47,
          47,
          50,
          48,
          48,
          46,
          46,
          49,
          49,
          50,
          47,
          46,
          43,
          42,
          41,
          41,
          43,
          42,
          40,
          41,
          42,
          43,
          44,
          49,
          50,
          50,
          50,
          51,
          51,
          55,
          55,
          55,
          59,
          56,
          60,
          57,
          54,
          56,
          64,
          66,
          67,
          69,
          69,
          69,
          71,
          74,
          71,
          68,
          65,
          64,
          56,
          51,
          44,
          40,
          41,
          41,
          42,
          41,
          41,
          42,
          41,
          40,
          38,
          34,
          31,
          29,
          27,
          26,
          26,
          27,
          25,
          26,
          23,
          20,
          20,
          24,
          24,
          25,
          27,
          27,
          27,
          28,
          26,
          28,
          25,
          27,
          29,
          31,
          33,
          34,
          35,
          38,
          39,
          40,
          36,
          39,
          42,
          41,
          43,
          43,
          46,
          44,
          42,
          37,
          35,
          33,
          36,
          34,
          33,
          29,
          28,
          29,
          30,
          27,
          28,
          26,
          32,
          31,
          34,
          36,
          38,
          43,
          39,
          37,
          35,
          32,
          32,
          34,
          36,
          39,
          39,
          37,
          35,
          36,
          37,
          37,
          39,
          43,
          40,
          42,
          45,
          42,
          42,
          38,
          40,
          41,
          44,
          44,
          44,
          44,
          45,
          45,
          44,
          41,
          38,
          39,
          39,
          41,
          41,
          44,
          43,
          43,
          46,
          45,
          44,
          43,
          48,
          45,
          47,
          44,
          44,
          41,
          41,
          42,
          43,
          41,
          39,
          39,
          38,
          38,
          39,
          41,
          41,
          41,
          41,
          41,
          41,
          40,
          43,
          46,
          51,
          52,
          54,
          51,
          50,
          49,
          49,
          46,
          45,
          47,
          49,
          47,
          45,
          45,
          44,
          43,
          44,
          39,
          37,
          39,
          39,
          41,
          41,
          40,
          40,
          39,
          42,
          43,
          46,
          51,
          56,
          57,
          55,
          55,
          57,
          55,
          53,
          51,
          45,
          45,
          46,
          48,
          51,
          49,
          49,
          51,
          52,
          51,
          52,
          56,
          57,
          57,
          54,
          51,
          50,
          50,
          50,
          49,
          51,
          53,
          55,
          52,
          52,
          50,
          46,
          44,
          42,
          39,
          40,
          39,
          39,
          37,
          34,
          33,
          33,
          31,
          32,
          33,
          35,
          35,
          34,
          34,
          36,
          34,
          34,
          37,
          36,
          40,
          39,
          40,
          38,
          37,
          37,
          36,
          36,
          34,
          32,
          31,
          33,
          32,
          35,
          38,
          37,
          38,
          42,
          47,
          50,
          48,
          48,
          47,
          48,
          49,
          49,
          47,
          47,
          47,
          45,
          47,
          49,
          50,
          48,
          45,
          43,
          41,
          45,
          43,
          38,
          38,
          32,
          36,
          35,
          31,
          33,
          33,
          35,
          38,
          42,
          39,
          39,
          38,
          38,
          39,
          35,
          37,
          36,
          36,
          37,
          40,
          37,
          39,
          36,
          32,
          32,
          30,
          28,
          29,
          26,
          25,
          26,
          30,
          29,
          31,
          32,
          33,
          37,
          41,
          42,
          39,
          42,
          44,
          47,
          48,
          49,
          51,
          52,
          56,
          57,
          59,
          60,
          54,
          54,
          53,
          52,
          48,
          45,
          41,
          43,
          42,
          44,
          41,
          38,
          37,
          40,
          39,
          40,
          41,
          40,
          38,
          39,
          41,
          42,
          44,
          42,
          39,
          34,
          33,
          30,
          29,
          32,
          33,
          30,
          29,
          29,
          29,
          29,
          29,
          33,
          32,
          29,
          25,
          26,
          26,
          25,
          23,
          24,
          24,
          26,
          26,
          25,
          28,
          26,
          25,
          26,
          28,
          28,
          28,
          29,
          30,
          31,
          28,
          25,
          25,
          22,
          22,
          23,
          26,
          25,
          27,
          28,
          27,
          28,
          26,
          26,
          26,
          26,
          29,
          31,
          34,
          31,
          34,
          33,
          37,
          37,
          36,
          36,
          38,
          38,
          37,
          38,
          37,
          33,
          33,
          31,
          31,
          31,
          31,
          32,
          31,
          29,
          30,
          31,
          31,
          33,
          32,
          30,
          31,
          29,
          28,
          29,
          31,
          35,
          34,
          37,
          38,
          40,
          41,
          41,
          42,
          46,
          43,
          43,
          39,
          38,
          34,
          34,
          32,
          30,
          26,
          23,
          22,
          23,
          27,
          31,
          31,
          36,
          36,
          37,
          39,
          36,
          41,
          40,
          36,
          37,
          37,
          35,
          35,
          38,
          43,
          42,
          42,
          40,
          44,
          46,
          47,
          49,
          56,
          56,
          55,
          52,
          49,
          48,
          46,
          42,
          41,
          45,
          48,
          47,
          43,
          41,
          39,
          39,
          43,
          41,
          43,
          40,
          40,
          38,
          42,
          42,
          43,
          44,
          40,
          36,
          34,
          33,
          29,
          29,
          29,
          25,
          25,
          29,
          28,
          27,
          29,
          26,
          23,
          27,
          28,
          33,
          34,
          35,
          36,
          36,
          37,
          36,
          34,
          35,
          39,
          41,
          44,
          45,
          45,
          46,
          43,
          40,
          38,
          38,
          40,
          39,
          34,
          32,
          35,
          35,
          38,
          41,
          40,
          42,
          45,
          43,
          43,
          43,
          43,
          44,
          46,
          45,
          43,
          47,
          46,
          47,
          48,
          49,
          52,
          55,
          57,
          53,
          50,
          50,
          48,
          47,
          45,
          47,
          44,
          41,
          41,
          39,
          41,
          37,
          34,
          32,
          28,
          30,
          31,
          28,
          30,
          29,
          27,
          26,
          29,
          30,
          30,
          32,
          35,
          35,
          37,
          34,
          31,
          28,
          28,
          27,
          32,
          34,
          36,
          37,
          36,
          35,
          34,
          35,
          35,
          34,
          35,
          38,
          39,
          38,
          39,
          39,
          40,
          35,
          39,
          45,
          47,
          45,
          49,
          50,
          51,
          47,
          47,
          48,
          48,
          47,
          46,
          44,
          46,
          42,
          41,
          41,
          42,
          40,
          41,
          44,
          42,
          39,
          39,
          41,
          40,
          39,
          36,
          36,
          34,
          36,
          34,
          29,
          31,
          33,
          34,
          35,
          32,
          31,
          31,
          30,
          33,
          33,
          32,
          32,
          29,
          31,
          29,
          29,
          31,
          31,
          33,
          32,
          32,
          31,
          29,
          32,
          33,
          30,
          33,
          31,
          30,
          27,
          26,
          24,
          22,
          19,
          24,
          29,
          30,
          30,
          31,
          35,
          37,
          39,
          39,
          41,
          43,
          40,
          41,
          42,
          40,
          41,
          43,
          44,
          43,
          44,
          43,
          43,
          43,
          45,
          46,
          42,
          41,
          39,
          39,
          37,
          39,
          38,
          35,
          35,
          39,
          40,
          38,
          36,
          38,
          37,
          33,
          34,
          35,
          34,
          36,
          41,
          42,
          42,
          42,
          46,
          45,
          43,
          42,
          40,
          40,
          41,
          42,
          42,
          42,
          40,
          41,
          39,
          40,
          40,
          43,
          41,
          36,
          36,
          35,
          38,
          40,
          42,
          43,
          40,
          46,
          48,
          51,
          50,
          50,
          55,
          54,
          54,
          57,
          59,
          61,
          57,
          54,
          54,
          52,
          51,
          51,
          51,
          50,
          47,
          44,
          45,
          48,
          45,
          44,
          51,
          50,
          52,
          55,
          55,
          56,
          58,
          58,
          59,
          59,
          58,
          59,
          59,
          60,
          57,
          57,
          55,
          57,
          59,
          58,
          54,
          49,
          46,
          43,
          43,
          41,
          41,
          40,
          40,
          42,
          42,
          41,
          40,
          40,
          38,
          37,
          39,
          41,
          42,
          41,
          38,
          40,
          39,
          38,
          38,
          40,
          41,
          42,
          44,
          44,
          47,
          45,
          41,
          45,
          46,
          46,
          43,
          41,
          42,
          44,
          42,
          41,
          42,
          42,
          44,
          43,
          44,
          44,
          44,
          44,
          41,
          42,
          43,
          44,
          45,
          41,
          41,
          45,
          45,
          48,
          46,
          48,
          46,
          44,
          40,
          34,
          32,
          33,
          33,
          37,
          38,
          41,
          40,
          37,
          40,
          41,
          43,
          40,
          39,
          39,
          41,
          38,
          40,
          38,
          43,
          42,
          41,
          40,
          42,
          38,
          35,
          36,
          35,
          32,
          32,
          30,
          30,
          28,
          25,
          22,
          23,
          26,
          27,
          26,
          28,
          32,
          32,
          31,
          31,
          36,
          39,
          39,
          38,
          36,
          34,
          36,
          38,
          40,
          37,
          36,
          41,
          40,
          39,
          40,
          38,
          39,
          43,
          45,
          46,
          46,
          51,
          49,
          50,
          51,
          53,
          58,
          59,
          60,
          60,
          63,
          62,
          57,
          57,
          58,
          54,
          53,
          54,
          56,
          61,
          62,
          61,
          61,
          61,
          59,
          59,
          55,
          50,
          48,
          48,
          50,
          51,
          44,
          44,
          43,
          41,
          41,
          42,
          47,
          49,
          49,
          47,
          44,
          46,
          48,
          51,
          54,
          55,
          56,
          60,
          57,
          56,
          59,
          58,
          55,
          50,
          49,
          48,
          52,
          50,
          51,
          50,
          46,
          41,
          43,
          38,
          39,
          39,
          43,
          44,
          45,
          43,
          43,
          44,
          51,
          51,
          51,
          45,
          42,
          41,
          40,
          39,
          43,
          43,
          38,
          37,
          39,
          43,
          47,
          45,
          49,
          50,
          50,
          50,
          52,
          48,
          48,
          49,
          47,
          47,
          47,
          46,
          45,
          48,
          51,
          53,
          53,
          55,
          56,
          58,
          55,
          50,
          50,
          49,
          47,
          48,
          47,
          44,
          47,
          45,
          41,
          41,
          42,
          44,
          42,
          43,
          44,
          46,
          51,
          52,
          53,
          52,
          53,
          50,
          50,
          53,
          53,
          49,
          48,
          47,
          47,
          44,
          43,
          46,
          44,
          40,
          37,
          38,
          38,
          37,
          34,
          30,
          33,
          36,
          39,
          41,
          43,
          43,
          43,
          42,
          42,
          40,
          43,
          44,
          45,
          47,
          50,
          51,
          52,
          53,
          51,
          48,
          43,
          43,
          37,
          37,
          38,
          39,
          42,
          42,
          42,
          41,
          44,
          47,
          42,
          41,
          43,
          46,
          49,
          54,
          57,
          57,
          58,
          57,
          56,
          57,
          58,
          60,
          60,
          60,
          57,
          58,
          59,
          58,
          58,
          57,
          53,
          54,
          55,
          52,
          52,
          50,
          44,
          43,
          44,
          41,
          41,
          41,
          39,
          42,
          42,
          40,
          39,
          39,
          40,
          42,
          45,
          46,
          45,
          49,
          54,
          53,
          52,
          51,
          48,
          48,
          48,
          49,
          49,
          48,
          49,
          42,
          39,
          38,
          36,
          37,
          39,
          43,
          47,
          45,
          42,
          40,
          45,
          44,
          44,
          45,
          49,
          50,
          52,
          52,
          50,
          50,
          47,
          44,
          43,
          43,
          44,
          38,
          38,
          36,
          35,
          36,
          35,
          34,
          33,
          33,
          35,
          38,
          39,
          39,
          35,
          35,
          33,
          33,
          34,
          36,
          34,
          33,
          32,
          28,
          28,
          30,
          31,
          33,
          30,
          29,
          31,
          29,
          28,
          28,
          27,
          28,
          29,
          29,
          29,
          29,
          32,
          36,
          37,
          41,
          43,
          41,
          41,
          43,
          44,
          40,
          37,
          37,
          33,
          32,
          31,
          33,
          33,
          33,
          35,
          33,
          32,
          33,
          34,
          35,
          33,
          34,
          34,
          38,
          37,
          45,
          44,
          47,
          48,
          48,
          50,
          49,
          47,
          47,
          45,
          47,
          50,
          48,
          53,
          54,
          51,
          48,
          46,
          45,
          42,
          42,
          46,
          41,
          45,
          44,
          43,
          40,
          38,
          37,
          36,
          34,
          35,
          37,
          36,
          36,
          36,
          38,
          34,
          33,
          34,
          35,
          33,
          33,
          34,
          34,
          32,
          31,
          33,
          32,
          34,
          34,
          35,
          36,
          42,
          47,
          48,
          49,
          48,
          50,
          51,
          49,
          50,
          56,
          56,
          59,
          58,
          57,
          57,
          60,
          59,
          60,
          55,
          55,
          53,
          52,
          50,
          51,
          51,
          48,
          43,
          41,
          33,
          34,
          33,
          32,
          39,
          39,
          38,
          34,
          32,
          35,
          41,
          44,
          47,
          49,
          50,
          52,
          52,
          55,
          52,
          54,
          52,
          52,
          49,
          45,
          40,
          37,
          38,
          44,
          44,
          48,
          48,
          45,
          48,
          46,
          43,
          40,
          38,
          43,
          43,
          44,
          46,
          48,
          49,
          49,
          43,
          42,
          46,
          43,
          45,
          47,
          50,
          46,
          44,
          48,
          45,
          45,
          46,
          48,
          48,
          49,
          47,
          45,
          46,
          42,
          40,
          43,
          44,
          44,
          46,
          52,
          54,
          51,
          52,
          53,
          53,
          59,
          59,
          60,
          61,
          61,
          66,
          67,
          67,
          67,
          67,
          68,
          69,
          73,
          71,
          73,
          68,
          67,
          62,
          57,
          51,
          50,
          47,
          43,
          42,
          37,
          37,
          35,
          31,
          29,
          33,
          35,
          38,
          36,
          40,
          39,
          41,
          45,
          46,
          47,
          45,
          44,
          45,
          46,
          44,
          43,
          40,
          40,
          41,
          41,
          41,
          37,
          35,
          33,
          29,
          36,
          35,
          40,
          41,
          40,
          38,
          37,
          44,
          45,
          46,
          46,
          44,
          42,
          42,
          42,
          41,
          40,
          41,
          43,
          43,
          40,
          36,
          33,
          31,
          32,
          30,
          31,
          35,
          35,
          35,
          39,
          39,
          42,
          44,
          45,
          46,
          48,
          48,
          48,
          53,
          53,
          53,
          51,
          52,
          53,
          53,
          51,
          52,
          51,
          48,
          45,
          45,
          43,
          43,
          41,
          42,
          42,
          38,
          42,
          44,
          44,
          46,
          50,
          51,
          49,
          50,
          51,
          51,
          47,
          46,
          44,
          43,
          48,
          50,
          51,
          55,
          51,
          48,
          47,
          46,
          45,
          45,
          46,
          49,
          52,
          50,
          50,
          46,
          49,
          45,
          44,
          50,
          51,
          52,
          52,
          53,
          52,
          51,
          51,
          51,
          50,
          53,
          50,
          48,
          48,
          50,
          52,
          54,
          54,
          57,
          57,
          55,
          51,
          52,
          51,
          53,
          52,
          55,
          53,
          55,
          57,
          57,
          61,
          62,
          61,
          64,
          66,
          62,
          56,
          60,
          57,
          59,
          56,
          60,
          61,
          59,
          55,
          55,
          57,
          53,
          51,
          50,
          46,
          42,
          42,
          42,
          39,
          36,
          38,
          38,
          37,
          40,
          42,
          43,
          41,
          42,
          44,
          40,
          43,
          43,
          45,
          48,
          46,
          46,
          42,
          45,
          39,
          34,
          36,
          37,
          41,
          43,
          49,
          54,
          58,
          58,
          59,
          58,
          59,
          58,
          57,
          58,
          59,
          59,
          54,
          59,
          56,
          55,
          59,
          58,
          56,
          56,
          56,
          53,
          55,
          58,
          55,
          57,
          59,
          56,
          55,
          51,
          50,
          46,
          45,
          41,
          41,
          40,
          44,
          46,
          48,
          49,
          51,
          50,
          52,
          55,
          55,
          57,
          60,
          58,
          59,
          63,
          60,
          64,
          65,
          66,
          66,
          64,
          61,
          59,
          55,
          56,
          57,
          56,
          56,
          59,
          57,
          58,
          57,
          57,
          58,
          65,
          65,
          67,
          66,
          69,
          74,
          73,
          73,
          82,
          78,
          78,
          79,
          75,
          76,
          72,
          69,
          69,
          66,
          64,
          63,
          65,
          67,
          64,
          57,
          59,
          59,
          60,
          61,
          61,
          61,
          66,
          66,
          67,
          69,
          69,
          73,
          77,
          78,
          80,
          78,
          81,
          86,
          86,
          82,
          81,
          79,
          76,
          73,
          72,
          70,
          67,
          63,
          59,
          53,
          48,
          51,
          49,
          48,
          51,
          53,
          53,
          55,
          55,
          57,
          59,
          61,
          65,
          65,
          63,
          66,
          64,
          63,
          60,
          62,
          61,
          64,
          65,
          65,
          67,
          64,
          64,
          61,
          59,
          56,
          52,
          52,
          51,
          46,
          48,
          48,
          47,
          49,
          48,
          51,
          51,
          51,
          52,
          53,
          57,
          57,
          59,
          57,
          58,
          55,
          54,
          51,
          49,
          46,
          46,
          47,
          47,
          48,
          52,
          52,
          51,
          51,
          51,
          55,
          54,
          56,
          53,
          52,
          54,
          55,
          58,
          56,
          52,
          53,
          51,
          52,
          53,
          51,
          54,
          52,
          54,
          53,
          53,
          53,
          55,
          54,
          55,
          57,
          58,
          62,
          59,
          58,
          57,
          65,
          64,
          60,
          62,
          62,
          59,
          60,
          58,
          59,
          60,
          63,
          65,
          64,
          61,
          56,
          52,
          48,
          45,
          45,
          45,
          44,
          44,
          42,
          45,
          43,
          45,
          45,
          46,
          46,
          51,
          52,
          50,
          48,
          49,
          55,
          55,
          60,
          64,
          68,
          68,
          66,
          66,
          66,
          68,
          65,
          64,
          62,
          60,
          59,
          58,
          54,
          55,
          52,
          48,
          51,
          50,
          45,
          45,
          45,
          47,
          50,
          50,
          50,
          52,
          52,
          53,
          56,
          62,
          57,
          56,
          55,
          56,
          62,
          63,
          64,
          68,
          65,
          63,
          62,
          63,
          65,
          63,
          63,
          66,
          68,
          67,
          65,
          61,
          59,
          53,
          51,
          50,
          46,
          45,
          47,
          47,
          48,
          47,
          44,
          51,
          50,
          51,
          54,
          52,
          52,
          49,
          48,
          46,
          45,
          45,
          46,
          47,
          48,
          48,
          45,
          43,
          45,
          46,
          50,
          50,
          53,
          51,
          51,
          55,
          55,
          55,
          57,
          58,
          59,
          61,
          62,
          65,
          69,
          70,
          73,
          74,
          71,
          74,
          73,
          73,
          72,
          69,
          62,
          64,
          68,
          66,
          63,
          62,
          61,
          62,
          61,
          63,
          58,
          59,
          62,
          61,
          59,
          56,
          51,
          48,
          45,
          45,
          42,
          39,
          37,
          39,
          40,
          39,
          40,
          38,
          32,
          28,
          24,
          22,
          20,
          20,
          18,
          19,
          18,
          17,
          18,
          17,
          16,
          17,
          19,
          22,
          22,
          23,
          24,
          23,
          24,
          25,
          24,
          23,
          23,
          21,
          22,
          21,
          18,
          16,
          17,
          21,
          24,
          25,
          25,
          22,
          23,
          19,
          17,
          18,
          16,
          16,
          17,
          15,
          16,
          13,
          11,
          12,
          10,
          9,
          13,
          12,
          13,
          13,
          13,
          13,
          12,
          10,
          14,
          14,
          12,
          13,
          12,
          10,
          9,
          8,
          7,
          7,
          6,
          5,
          4,
          5,
          6,
          6,
          5,
          6,
          5,
          3,
          2,
          1,
          2,
          2,
          2,
          2,
          2
         ],
         "yaxis": "y"
        }
       ],
       "layout": {
        "height": 400,
        "legend": {
         "tracegroupgap": 0
        },
        "template": {
         "data": {
          "bar": [
           {
            "error_x": {
             "color": "#2a3f5f"
            },
            "error_y": {
             "color": "#2a3f5f"
            },
            "marker": {
             "line": {
              "color": "white",
              "width": 0.5
             },
             "pattern": {
              "fillmode": "overlay",
              "size": 10,
              "solidity": 0.2
             }
            },
            "type": "bar"
           }
          ],
          "barpolar": [
           {
            "marker": {
             "line": {
              "color": "white",
              "width": 0.5
             },
             "pattern": {
              "fillmode": "overlay",
              "size": 10,
              "solidity": 0.2
             }
            },
            "type": "barpolar"
           }
          ],
          "carpet": [
           {
            "aaxis": {
             "endlinecolor": "#2a3f5f",
             "gridcolor": "#C8D4E3",
             "linecolor": "#C8D4E3",
             "minorgridcolor": "#C8D4E3",
             "startlinecolor": "#2a3f5f"
            },
            "baxis": {
             "endlinecolor": "#2a3f5f",
             "gridcolor": "#C8D4E3",
             "linecolor": "#C8D4E3",
             "minorgridcolor": "#C8D4E3",
             "startlinecolor": "#2a3f5f"
            },
            "type": "carpet"
           }
          ],
          "choropleth": [
           {
            "colorbar": {
             "outlinewidth": 0,
             "ticks": ""
            },
            "type": "choropleth"
           }
          ],
          "contour": [
           {
            "colorbar": {
             "outlinewidth": 0,
             "ticks": ""
            },
            "colorscale": [
             [
              0,
              "#0d0887"
             ],
             [
              0.1111111111111111,
              "#46039f"
             ],
             [
              0.2222222222222222,
              "#7201a8"
             ],
             [
              0.3333333333333333,
              "#9c179e"
             ],
             [
              0.4444444444444444,
              "#bd3786"
             ],
             [
              0.5555555555555556,
              "#d8576b"
             ],
             [
              0.6666666666666666,
              "#ed7953"
             ],
             [
              0.7777777777777778,
              "#fb9f3a"
             ],
             [
              0.8888888888888888,
              "#fdca26"
             ],
             [
              1,
              "#f0f921"
             ]
            ],
            "type": "contour"
           }
          ],
          "contourcarpet": [
           {
            "colorbar": {
             "outlinewidth": 0,
             "ticks": ""
            },
            "type": "contourcarpet"
           }
          ],
          "heatmap": [
           {
            "colorbar": {
             "outlinewidth": 0,
             "ticks": ""
            },
            "colorscale": [
             [
              0,
              "#0d0887"
             ],
             [
              0.1111111111111111,
              "#46039f"
             ],
             [
              0.2222222222222222,
              "#7201a8"
             ],
             [
              0.3333333333333333,
              "#9c179e"
             ],
             [
              0.4444444444444444,
              "#bd3786"
             ],
             [
              0.5555555555555556,
              "#d8576b"
             ],
             [
              0.6666666666666666,
              "#ed7953"
             ],
             [
              0.7777777777777778,
              "#fb9f3a"
             ],
             [
              0.8888888888888888,
              "#fdca26"
             ],
             [
              1,
              "#f0f921"
             ]
            ],
            "type": "heatmap"
           }
          ],
          "heatmapgl": [
           {
            "colorbar": {
             "outlinewidth": 0,
             "ticks": ""
            },
            "colorscale": [
             [
              0,
              "#0d0887"
             ],
             [
              0.1111111111111111,
              "#46039f"
             ],
             [
              0.2222222222222222,
              "#7201a8"
             ],
             [
              0.3333333333333333,
              "#9c179e"
             ],
             [
              0.4444444444444444,
              "#bd3786"
             ],
             [
              0.5555555555555556,
              "#d8576b"
             ],
             [
              0.6666666666666666,
              "#ed7953"
             ],
             [
              0.7777777777777778,
              "#fb9f3a"
             ],
             [
              0.8888888888888888,
              "#fdca26"
             ],
             [
              1,
              "#f0f921"
             ]
            ],
            "type": "heatmapgl"
           }
          ],
          "histogram": [
           {
            "marker": {
             "pattern": {
              "fillmode": "overlay",
              "size": 10,
              "solidity": 0.2
             }
            },
            "type": "histogram"
           }
          ],
          "histogram2d": [
           {
            "colorbar": {
             "outlinewidth": 0,
             "ticks": ""
            },
            "colorscale": [
             [
              0,
              "#0d0887"
             ],
             [
              0.1111111111111111,
              "#46039f"
             ],
             [
              0.2222222222222222,
              "#7201a8"
             ],
             [
              0.3333333333333333,
              "#9c179e"
             ],
             [
              0.4444444444444444,
              "#bd3786"
             ],
             [
              0.5555555555555556,
              "#d8576b"
             ],
             [
              0.6666666666666666,
              "#ed7953"
             ],
             [
              0.7777777777777778,
              "#fb9f3a"
             ],
             [
              0.8888888888888888,
              "#fdca26"
             ],
             [
              1,
              "#f0f921"
             ]
            ],
            "type": "histogram2d"
           }
          ],
          "histogram2dcontour": [
           {
            "colorbar": {
             "outlinewidth": 0,
             "ticks": ""
            },
            "colorscale": [
             [
              0,
              "#0d0887"
             ],
             [
              0.1111111111111111,
              "#46039f"
             ],
             [
              0.2222222222222222,
              "#7201a8"
             ],
             [
              0.3333333333333333,
              "#9c179e"
             ],
             [
              0.4444444444444444,
              "#bd3786"
             ],
             [
              0.5555555555555556,
              "#d8576b"
             ],
             [
              0.6666666666666666,
              "#ed7953"
             ],
             [
              0.7777777777777778,
              "#fb9f3a"
             ],
             [
              0.8888888888888888,
              "#fdca26"
             ],
             [
              1,
              "#f0f921"
             ]
            ],
            "type": "histogram2dcontour"
           }
          ],
          "mesh3d": [
           {
            "colorbar": {
             "outlinewidth": 0,
             "ticks": ""
            },
            "type": "mesh3d"
           }
          ],
          "parcoords": [
           {
            "line": {
             "colorbar": {
              "outlinewidth": 0,
              "ticks": ""
             }
            },
            "type": "parcoords"
           }
          ],
          "pie": [
           {
            "automargin": true,
            "type": "pie"
           }
          ],
          "scatter": [
           {
            "fillpattern": {
             "fillmode": "overlay",
             "size": 10,
             "solidity": 0.2
            },
            "type": "scatter"
           }
          ],
          "scatter3d": [
           {
            "line": {
             "colorbar": {
              "outlinewidth": 0,
              "ticks": ""
             }
            },
            "marker": {
             "colorbar": {
              "outlinewidth": 0,
              "ticks": ""
             }
            },
            "type": "scatter3d"
           }
          ],
          "scattercarpet": [
           {
            "marker": {
             "colorbar": {
              "outlinewidth": 0,
              "ticks": ""
             }
            },
            "type": "scattercarpet"
           }
          ],
          "scattergeo": [
           {
            "marker": {
             "colorbar": {
              "outlinewidth": 0,
              "ticks": ""
             }
            },
            "type": "scattergeo"
           }
          ],
          "scattergl": [
           {
            "marker": {
             "colorbar": {
              "outlinewidth": 0,
              "ticks": ""
             }
            },
            "type": "scattergl"
           }
          ],
          "scattermapbox": [
           {
            "marker": {
             "colorbar": {
              "outlinewidth": 0,
              "ticks": ""
             }
            },
            "type": "scattermapbox"
           }
          ],
          "scatterpolar": [
           {
            "marker": {
             "colorbar": {
              "outlinewidth": 0,
              "ticks": ""
             }
            },
            "type": "scatterpolar"
           }
          ],
          "scatterpolargl": [
           {
            "marker": {
             "colorbar": {
              "outlinewidth": 0,
              "ticks": ""
             }
            },
            "type": "scatterpolargl"
           }
          ],
          "scatterternary": [
           {
            "marker": {
             "colorbar": {
              "outlinewidth": 0,
              "ticks": ""
             }
            },
            "type": "scatterternary"
           }
          ],
          "surface": [
           {
            "colorbar": {
             "outlinewidth": 0,
             "ticks": ""
            },
            "colorscale": [
             [
              0,
              "#0d0887"
             ],
             [
              0.1111111111111111,
              "#46039f"
             ],
             [
              0.2222222222222222,
              "#7201a8"
             ],
             [
              0.3333333333333333,
              "#9c179e"
             ],
             [
              0.4444444444444444,
              "#bd3786"
             ],
             [
              0.5555555555555556,
              "#d8576b"
             ],
             [
              0.6666666666666666,
              "#ed7953"
             ],
             [
              0.7777777777777778,
              "#fb9f3a"
             ],
             [
              0.8888888888888888,
              "#fdca26"
             ],
             [
              1,
              "#f0f921"
             ]
            ],
            "type": "surface"
           }
          ],
          "table": [
           {
            "cells": {
             "fill": {
              "color": "#EBF0F8"
             },
             "line": {
              "color": "white"
             }
            },
            "header": {
             "fill": {
              "color": "#C8D4E3"
             },
             "line": {
              "color": "white"
             }
            },
            "type": "table"
           }
          ]
         },
         "layout": {
          "annotationdefaults": {
           "arrowcolor": "#2a3f5f",
           "arrowhead": 0,
           "arrowwidth": 1
          },
          "autotypenumbers": "strict",
          "coloraxis": {
           "colorbar": {
            "outlinewidth": 0,
            "ticks": ""
           }
          },
          "colorscale": {
           "diverging": [
            [
             0,
             "#8e0152"
            ],
            [
             0.1,
             "#c51b7d"
            ],
            [
             0.2,
             "#de77ae"
            ],
            [
             0.3,
             "#f1b6da"
            ],
            [
             0.4,
             "#fde0ef"
            ],
            [
             0.5,
             "#f7f7f7"
            ],
            [
             0.6,
             "#e6f5d0"
            ],
            [
             0.7,
             "#b8e186"
            ],
            [
             0.8,
             "#7fbc41"
            ],
            [
             0.9,
             "#4d9221"
            ],
            [
             1,
             "#276419"
            ]
           ],
           "sequential": [
            [
             0,
             "#0d0887"
            ],
            [
             0.1111111111111111,
             "#46039f"
            ],
            [
             0.2222222222222222,
             "#7201a8"
            ],
            [
             0.3333333333333333,
             "#9c179e"
            ],
            [
             0.4444444444444444,
             "#bd3786"
            ],
            [
             0.5555555555555556,
             "#d8576b"
            ],
            [
             0.6666666666666666,
             "#ed7953"
            ],
            [
             0.7777777777777778,
             "#fb9f3a"
            ],
            [
             0.8888888888888888,
             "#fdca26"
            ],
            [
             1,
             "#f0f921"
            ]
           ],
           "sequentialminus": [
            [
             0,
             "#0d0887"
            ],
            [
             0.1111111111111111,
             "#46039f"
            ],
            [
             0.2222222222222222,
             "#7201a8"
            ],
            [
             0.3333333333333333,
             "#9c179e"
            ],
            [
             0.4444444444444444,
             "#bd3786"
            ],
            [
             0.5555555555555556,
             "#d8576b"
            ],
            [
             0.6666666666666666,
             "#ed7953"
            ],
            [
             0.7777777777777778,
             "#fb9f3a"
            ],
            [
             0.8888888888888888,
             "#fdca26"
            ],
            [
             1,
             "#f0f921"
            ]
           ]
          },
          "colorway": [
           "#636efa",
           "#EF553B",
           "#00cc96",
           "#ab63fa",
           "#FFA15A",
           "#19d3f3",
           "#FF6692",
           "#B6E880",
           "#FF97FF",
           "#FECB52"
          ],
          "font": {
           "color": "#2a3f5f"
          },
          "geo": {
           "bgcolor": "white",
           "lakecolor": "white",
           "landcolor": "white",
           "showlakes": true,
           "showland": true,
           "subunitcolor": "#C8D4E3"
          },
          "hoverlabel": {
           "align": "left"
          },
          "hovermode": "closest",
          "mapbox": {
           "style": "light"
          },
          "paper_bgcolor": "white",
          "plot_bgcolor": "white",
          "polar": {
           "angularaxis": {
            "gridcolor": "#EBF0F8",
            "linecolor": "#EBF0F8",
            "ticks": ""
           },
           "bgcolor": "white",
           "radialaxis": {
            "gridcolor": "#EBF0F8",
            "linecolor": "#EBF0F8",
            "ticks": ""
           }
          },
          "scene": {
           "xaxis": {
            "backgroundcolor": "white",
            "gridcolor": "#DFE8F3",
            "gridwidth": 2,
            "linecolor": "#EBF0F8",
            "showbackground": true,
            "ticks": "",
            "zerolinecolor": "#EBF0F8"
           },
           "yaxis": {
            "backgroundcolor": "white",
            "gridcolor": "#DFE8F3",
            "gridwidth": 2,
            "linecolor": "#EBF0F8",
            "showbackground": true,
            "ticks": "",
            "zerolinecolor": "#EBF0F8"
           },
           "zaxis": {
            "backgroundcolor": "white",
            "gridcolor": "#DFE8F3",
            "gridwidth": 2,
            "linecolor": "#EBF0F8",
            "showbackground": true,
            "ticks": "",
            "zerolinecolor": "#EBF0F8"
           }
          },
          "shapedefaults": {
           "line": {
            "color": "#2a3f5f"
           }
          },
          "ternary": {
           "aaxis": {
            "gridcolor": "#DFE8F3",
            "linecolor": "#A2B1C6",
            "ticks": ""
           },
           "baxis": {
            "gridcolor": "#DFE8F3",
            "linecolor": "#A2B1C6",
            "ticks": ""
           },
           "bgcolor": "white",
           "caxis": {
            "gridcolor": "#DFE8F3",
            "linecolor": "#A2B1C6",
            "ticks": ""
           }
          },
          "title": {
           "x": 0.05
          },
          "xaxis": {
           "automargin": true,
           "gridcolor": "#EBF0F8",
           "linecolor": "#EBF0F8",
           "ticks": "",
           "title": {
            "standoff": 15
           },
           "zerolinecolor": "#EBF0F8",
           "zerolinewidth": 2
          },
          "yaxis": {
           "automargin": true,
           "gridcolor": "#EBF0F8",
           "linecolor": "#EBF0F8",
           "ticks": "",
           "title": {
            "standoff": 15
           },
           "zerolinecolor": "#EBF0F8",
           "zerolinewidth": 2
          }
         }
        },
        "title": {
         "text": "Number of Vehicles in Simulation"
        },
        "width": 800,
        "xaxis": {
         "anchor": "y",
         "domain": [
          0,
          1
         ],
         "title": {
          "text": "Time"
         }
        },
        "yaxis": {
         "anchor": "x",
         "domain": [
          0,
          1
         ],
         "title": {
          "text": "Number of Vehicles"
         }
        }
       }
      }
     },
     "metadata": {},
     "output_type": "display_data"
    }
   ],
   "source": [
    "# import plotly.express as px\n",
    "\n",
    "\n",
    "\n",
    "# # scatter plot with lines and markers\n",
    "# px.line(\n",
    "#     df,\n",
    "#     x=\"time\",\n",
    "#     y=\"vehicle\",\n",
    "#     title=\"Number of Vehicles in Simulation\",\n",
    "#     labels={\"vehicle\": \"Number of Vehicles\", \"time\": \"Time\"},\n",
    "#     template=\"plotly_white\",\n",
    "#     width=800,\n",
    "#     height=400,\n",
    "# )"
   ]
  }
 ],
 "metadata": {
  "kernelspec": {
   "display_name": "sumo-uc-2023",
   "language": "python",
   "name": "python3"
  },
  "language_info": {
   "codemirror_mode": {
    "name": "ipython",
    "version": 3
   },
   "file_extension": ".py",
   "mimetype": "text/x-python",
   "name": "python",
   "nbconvert_exporter": "python",
   "pygments_lexer": "ipython3",
   "version": "3.9.10"
  },
  "vscode": {
   "interpreter": {
    "hash": "0fe24db46f0f9153940905989778a33a1b95b2b91b6370b048772e47434f409d"
   }
  }
 },
 "nbformat": 4,
 "nbformat_minor": 5
}
