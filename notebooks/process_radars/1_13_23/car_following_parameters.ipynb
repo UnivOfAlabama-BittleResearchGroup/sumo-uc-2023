{
 "cells": [
  {
   "cell_type": "code",
   "execution_count": 22,
   "metadata": {},
   "outputs": [],
   "source": [
    "import os\n",
    "import sys\n",
    "from typing import Tuple\n",
    "from datetime import datetime\n",
    "from pathlib import Path\n",
    "\n",
    "\n",
    "def recursive_root(path: str, find=\"sumo-uc-2023\"):\n",
    "    if os.path.split(path)[-1] == find:\n",
    "        return Path(path)\n",
    "    return recursive_root(os.path.split(path)[0], find=find)\n",
    "\n",
    "\n",
    "ROOT = recursive_root(os.path.abspath(\".\"))\n",
    "sys.path.append(str(ROOT))\n"
   ]
  },
  {
   "cell_type": "code",
   "execution_count": 23,
   "metadata": {},
   "outputs": [],
   "source": [
    "import numpy as np\n",
    "import pandas as pd\n",
    "import utm\n",
    "import polars as pl\n",
    "\n",
    "from shapely.geometry import Point, Polygon, LineString\n",
    "from src.data_analysis import AnalysisRadar\n",
    "from innosent_api.utils.approach_info import ApproachInfo\n"
   ]
  },
  {
   "cell_type": "markdown",
   "metadata": {},
   "source": [
    "## Creating Radar Objects\n"
   ]
  },
  {
   "cell_type": "code",
   "execution_count": 24,
   "metadata": {},
   "outputs": [],
   "source": [
    "radar_info = {\n",
    "    \"Radar 137\": {\n",
    "        \"KML\": ROOT / \"geodata\" / \"Radar137.kml\",\n",
    "        # \"Data\": ROOT / \"Data\" / \"Radar 137.parquet\",\n",
    "        \"Data\": \"\",\n",
    "    },\n",
    "    \"Radar 136\": {\n",
    "        \"KML\": ROOT / \"geodata\" / \"Radar136.kml\",\n",
    "        # \"Data\": ROOT / \"Data\" / \"Radar 136.parquet\",\n",
    "        \"Data\": \"\",\n",
    "    },\n",
    "}\n"
   ]
  },
  {
   "cell_type": "code",
   "execution_count": 25,
   "metadata": {},
   "outputs": [
    {
     "name": "stdout",
     "output_type": "stream",
     "text": [
      "Radar 137\n",
      "INFO: Pandarallel will run on 8 workers.\n",
      "INFO: Pandarallel will use standard multiprocessing data transfer (pipe) to transfer data between the main process and workers.\n",
      "Radar 136\n",
      "INFO: Pandarallel will run on 8 workers.\n",
      "INFO: Pandarallel will use standard multiprocessing data transfer (pipe) to transfer data between the main process and workers.\n"
     ]
    }
   ],
   "source": [
    "radars = [\n",
    "    AnalysisRadar(str(r_info[1][\"KML\"]), r_info[0]) for r_info in radar_info.items()\n",
    "]\n",
    "\n",
    "radars = {radar.name: radar for radar in radars}\n"
   ]
  },
  {
   "attachments": {},
   "cell_type": "markdown",
   "metadata": {},
   "source": [
    "### Get the Data from Polars\n"
   ]
  },
  {
   "cell_type": "code",
   "execution_count": 26,
   "metadata": {},
   "outputs": [],
   "source": [
    "radars_df = pl.scan_parquet(\n",
    "    \"/Volumes/BittleLab/7 DOE Project/radar-data/new-format/13_*.parquet\"\n",
    ")\n",
    "\n",
    "# # only keep data thats within start and end time\n",
    "radars_df = (\n",
    "    radars_df.with_columns(\n",
    "        [pl.col(\"_time\").dt.with_time_zone(\"America/Chicago\").alias(\"time_cst\")]\n",
    "    )\n",
    "    .filter(\n",
    "        (pl.col(\"time_cst\").dt.hour() >= 5)\n",
    "        & (pl.col(\"time_cst\").dt.hour() <= 12)\n",
    "        & (pl.col(\"time_cst\").dt.day() == 13)\n",
    "    )\n",
    "    .collect()\n",
    ")\n",
    "\n",
    "# drop any duplicates\n",
    "radars_df = radars_df.groupby(by=[\"radar\", \"ui32_objectID\", \"_time\"]).first()\n",
    "\n",
    "radars_df = radars_df.sort(\"_time\")\n",
    "\n",
    "\n",
    "def get_df_from_polars(radar: AnalysisRadar, pl_df: pl.DataFrame) -> pd.DataFrame:\n",
    "    ip_address = f\"10.160.7.{radar.name.split('radar')[-1].strip()}\"\n",
    "    df = pl_df.filter(pl.col(\"radar\") == ip_address)\n",
    "\n",
    "    return df.to_pandas()\n"
   ]
  },
  {
   "cell_type": "code",
   "execution_count": 27,
   "metadata": {},
   "outputs": [],
   "source": [
    "# radars_df.groupby(\n",
    "#     by=[\"radar\", \"ui32_objectID\",]\n",
    "# ).agg(\n",
    "#     (pl.col(\"time\").sort() / 1e9).diff().mean().alias(\"time_diff\")\n",
    "# ).select('time_diff').to_pandas().hist()\n"
   ]
  },
  {
   "cell_type": "code",
   "execution_count": 28,
   "metadata": {},
   "outputs": [
    {
     "data": {
      "text/plain": [
       "array([[<AxesSubplot: title={'center': 'time_diff'}>]], dtype=object)"
      ]
     },
     "execution_count": 28,
     "metadata": {},
     "output_type": "execute_result"
    },
    {
     "data": {
      "image/png": "[encoded data removed]",
      "text/plain": [
       "<Figure size 640x480 with 1 Axes>"
      ]
     },
     "metadata": {},
     "output_type": "display_data"
    }
   ],
   "source": [
    "radars_df.groupby(\n",
    "    by=[\"radar\", \"ui32_objectID\",]\n",
    ").agg(\n",
    "    (pl.col(\"_time\").sort() / 1e9).diff().mean().alias(\"time_diff\")\n",
    ").select('time_diff').to_pandas().hist(bins=100)\n"
   ]
  },
  {
   "cell_type": "markdown",
   "metadata": {},
   "source": [
    "## Read in the Radar Data\n"
   ]
  },
  {
   "cell_type": "code",
   "execution_count": 29,
   "metadata": {},
   "outputs": [
    {
     "data": {
      "application/vnd.jupyter.widget-view+json": {
       "model_id": "c124487e4bcb4c699129a6191e3f8c5c",
       "version_major": 2,
       "version_minor": 0
      },
      "text/plain": [
       "VBox(children=(HBox(children=(IntProgress(value=0, description='0.00%', max=267726), Label(value='0 / 267726')…"
      ]
     },
     "metadata": {},
     "output_type": "display_data"
    },
    {
     "data": {
      "application/vnd.jupyter.widget-view+json": {
       "model_id": "69f5b2e590064c6dbd5140102d91a1a1",
       "version_major": 2,
       "version_minor": 0
      },
      "text/plain": [
       "VBox(children=(HBox(children=(IntProgress(value=0, description='0.00%', max=163827), Label(value='0 / 163827')…"
      ]
     },
     "metadata": {},
     "output_type": "display_data"
    }
   ],
   "source": [
    "for r_name, radar in radars.items():\n",
    "    radar.df = get_df_from_polars(radar, radars_df)\n",
    "    # convert the x/y to lat/lon\n",
    "    radar.radar_xy_2_latlon()\n",
    "    # convert to rw time\n",
    "    # radar.apply_rw_time()\n",
    "    radar.df[\"dt\"] = radar.df.pop(\"time_cst\")\n",
    "    # label boxes\n",
    "    radar.label_boxes()\n"
   ]
  },
  {
   "cell_type": "code",
   "execution_count": 30,
   "metadata": {},
   "outputs": [
    {
     "data": {
      "text/plain": [
       "<AxesSubplot: >"
      ]
     },
     "execution_count": 30,
     "metadata": {},
     "output_type": "execute_result"
    },
    {
     "data": {
      "image/png": "[encoded data removed]",
      "text/plain": [
       "<Figure size 640x480 with 1 Axes>"
      ]
     },
     "metadata": {},
     "output_type": "display_data"
    }
   ],
   "source": [
    "(radars['radar137'].df.groupby('ui32_objectID')['f32_length_m'].median() * 3.28084).hist(bins=100)"
   ]
  },
  {
   "cell_type": "code",
   "execution_count": 31,
   "metadata": {},
   "outputs": [],
   "source": [
    "radars['radar137'].df.groupby('ui32_objectID')['f32_length_m'].mean().reset_index().to_parquet(ROOT / Path('data/2023-01-13') / \"car_lengths.parquet\")"
   ]
  },
  {
   "attachments": {},
   "cell_type": "markdown",
   "metadata": {},
   "source": [
    "### Filter out Data not in West thru or East thru\n"
   ]
  },
  {
   "cell_type": "code",
   "execution_count": 32,
   "metadata": {},
   "outputs": [
    {
     "name": "stdout",
     "output_type": "stream",
     "text": [
      "2141807\n",
      "595078\n",
      "1310610\n",
      "667260\n"
     ]
    }
   ],
   "source": [
    "for radar in radars.values():\n",
    "    slicer = (\n",
    "        radar.df.groupby(\"ui32_objectID\")[\"box\"].transform(\n",
    "            lambda x: x.isin([\"West thru\", \"East thru\"]).any()\n",
    "        )\n",
    "        == True\n",
    "    )\n",
    "\n",
    "    print(radar.df.shape[0])\n",
    "    radar.df = radar.df[slicer].copy()\n",
    "    print(radar.df.shape[0])\n"
   ]
  },
  {
   "attachments": {},
   "cell_type": "markdown",
   "metadata": {},
   "source": [
    "### Get the Headway of Each Vehicle\n"
   ]
  },
  {
   "cell_type": "code",
   "execution_count": 33,
   "metadata": {},
   "outputs": [
    {
     "data": {
      "text/html": [
       "<div>\n",
       "<style scoped>\n",
       "    .dataframe tbody tr th:only-of-type {\n",
       "        vertical-align: middle;\n",
       "    }\n",
       "\n",
       "    .dataframe tbody tr th {\n",
       "        vertical-align: top;\n",
       "    }\n",
       "\n",
       "    .dataframe thead th {\n",
       "        text-align: right;\n",
       "    }\n",
       "</style>\n",
       "<table border=\"1\" class=\"dataframe\">\n",
       "  <thead>\n",
       "    <tr style=\"text-align: right;\">\n",
       "      <th></th>\n",
       "      <th>name</th>\n",
       "      <th>geometry</th>\n",
       "    </tr>\n",
       "  </thead>\n",
       "  <tbody>\n",
       "    <tr>\n",
       "      <th>0</th>\n",
       "      <td>Lane_0</td>\n",
       "      <td>POLYGON ((-87.61830 33.23405, -87.61684 33.234...</td>\n",
       "    </tr>\n",
       "    <tr>\n",
       "      <th>1</th>\n",
       "      <td>Lane_1</td>\n",
       "      <td>POLYGON ((-87.61829 33.23402, -87.61683 33.234...</td>\n",
       "    </tr>\n",
       "  </tbody>\n",
       "</table>\n",
       "</div>"
      ],
      "text/plain": [
       "     name                                           geometry\n",
       "0  Lane_0  POLYGON ((-87.61830 33.23405, -87.61684 33.234...\n",
       "1  Lane_1  POLYGON ((-87.61829 33.23402, -87.61683 33.234..."
      ]
     },
     "execution_count": 33,
     "metadata": {},
     "output_type": "execute_result"
    }
   ],
   "source": [
    "import geopandas as gpd\n",
    "from shapely.ops import transform\n",
    "\n",
    "lane_df = gpd.read_file(ROOT / \"geodata\" / \"east-thru-lanes.geojson\")\n",
    "lane_df.head()\n"
   ]
  },
  {
   "cell_type": "code",
   "execution_count": 34,
   "metadata": {},
   "outputs": [],
   "source": [
    "lane_0 = ApproachInfo(\"east_thru_0\", lane_df.iloc[0].geometry)\n",
    "lane_1 = ApproachInfo(\"east_thru_1\", lane_df.iloc[1].geometry)\n",
    "\n",
    "radar = radars[\"radar137\"]\n",
    "\n",
    "for l in [lane_0, lane_1]:\n",
    "    l.polygon = transform(\n",
    "        lambda x, y, z=None: radar.lat_lon_2_radar_frame(y, x), l.polygon\n",
    "    )\n",
    "\n",
    "\n",
    "### Label the vehicles with the lane they are in\n",
    "def label_lane(x):\n",
    "    if lane_0.polygon.contains(Point(*x)):\n",
    "        return lane_0.name\n",
    "    elif lane_1.polygon.contains(Point(*x)):\n",
    "        return lane_1.name\n",
    "    else:\n",
    "        return None\n",
    "\n",
    "\n",
    "veh_df = radar.df[radar.df.box.str.contains(\"East thru\")].copy()\n",
    "veh_df[\"lane\"] = veh_df[[\"f32_positionX_m\", \"f32_positionY_m\"]].apply(\n",
    "    label_lane, axis=1, raw=True\n",
    ")\n"
   ]
  },
  {
   "cell_type": "code",
   "execution_count": 35,
   "metadata": {},
   "outputs": [],
   "source": [
    "## Get the distance from the end of the lane\n",
    "def get_distance_from_end(x, lane_):\n",
    "    return np.linalg.norm(\n",
    "        x[[\"f32_positionX_m\", \"f32_positionY_m\"]].values - lane_.end_point, axis=1\n",
    "    )\n",
    "\n",
    "\n",
    "veh_df[\"stop_distance\"] = None\n",
    "for lane in [lane_0, lane_1]:\n",
    "    slicer = veh_df.lane == lane.name\n",
    "    res = get_distance_from_end(veh_df.loc[slicer], lane)\n",
    "    veh_df.loc[slicer, \"stop_distance\"] = res\n"
   ]
  },
  {
   "cell_type": "code",
   "execution_count": 36,
   "metadata": {},
   "outputs": [],
   "source": [
    "veh_distances = veh_df.groupby(\"ui32_objectID\").agg(\n",
    "    {\n",
    "        \"stop_distance\": lambda x: x.max() - x.min(),\n",
    "        \"lane\": lambda x: x.iloc[0],\n",
    "    }\n",
    ")\n"
   ]
  },
  {
   "cell_type": "code",
   "execution_count": 37,
   "metadata": {},
   "outputs": [],
   "source": [
    "# veh_distances.hist(\n",
    "#     column=\"stop_distance\", by=\"lane\", bins=100, figsize=(10, 5), sharex=True\n",
    "# )\n"
   ]
  },
  {
   "cell_type": "code",
   "execution_count": 38,
   "metadata": {},
   "outputs": [],
   "source": [
    "from scipy import interpolate\n",
    "\n",
    "keep_vehicle_ids = veh_distances.loc[(veh_distances.stop_distance > 120)].index.values\n",
    "\n",
    "times = []\n",
    "\n",
    "measure_distances = [110, 60, 40]\n",
    "\n",
    "for lane in [lane_0, lane_1]:\n",
    "    lane_df = veh_df.loc[\n",
    "        (veh_df.lane == lane.name) & (veh_df.ui32_objectID.isin(keep_vehicle_ids))\n",
    "    ]\n",
    "    for g, veh in lane_df.groupby(\"ui32_objectID\"):\n",
    "        if (veh.stop_distance.max() < 120) or (veh.stop_distance.min() > 30):\n",
    "            continue\n",
    "\n",
    "        f = interpolate.interp1d(\n",
    "            veh.stop_distance,\n",
    "            veh.dt.astype(int),\n",
    "            copy=False,\n",
    "            kind=\"linear\",\n",
    "        )\n",
    "        times.extend(\n",
    "            {\"veh\": g, \"lane\": lane.name, \"distance\": x, \"time\": y}\n",
    "            for x, y in zip(measure_distances, f(measure_distances))\n",
    "        )\n"
   ]
  },
  {
   "cell_type": "code",
   "execution_count": 39,
   "metadata": {},
   "outputs": [],
   "source": [
    "headway_df = pd.DataFrame(times)\n",
    "headway_df[\"time\"] = (\n",
    "    pd.to_datetime(headway_df[\"time\"], unit=\"ns\")\n",
    "    .dt.tz_localize(\"UTC\")\n",
    "    .dt.tz_convert(\"US/Central\")\n",
    ")\n",
    "headway_df = headway_df.sort_values(\"time\")\n"
   ]
  },
  {
   "cell_type": "code",
   "execution_count": 40,
   "metadata": {},
   "outputs": [],
   "source": [
    "leader = None\n",
    "headway_times = []\n",
    "headway_df[\"headway\"] = None\n",
    "\n",
    "for lane in headway_df[\"lane\"].drop_duplicates():\n",
    "    lane_df = headway_df.loc[headway_df.lane == lane].copy()\n",
    "    for veh in lane_df[\"veh\"].drop_duplicates():\n",
    "        veh_times = lane_df.loc[lane_df.veh == veh].copy()\n",
    "        if leader is None:\n",
    "            leader = veh_times\n",
    "            continue\n",
    "\n",
    "        veh_times[\"headway\"] = veh_times.time.values - leader.time.values\n",
    "        veh_times[\"headway\"] = veh_times[\"headway\"].dt.total_seconds()\n",
    "        veh_times[\"leader\"] = leader.veh.values\n",
    "        headway_times.append(veh_times.copy())\n",
    "        leader = veh_times.copy()\n",
    "timed_headway_df = pd.concat(headway_times)\n"
   ]
  },
  {
   "cell_type": "code",
   "execution_count": 41,
   "metadata": {},
   "outputs": [
    {
     "data": {
      "text/plain": [
       "((6, 6), (12456, 6))"
      ]
     },
     "execution_count": 41,
     "metadata": {},
     "output_type": "execute_result"
    }
   ],
   "source": [
    "timed_headway_df.loc[timed_headway_df.headway < 0].shape, timed_headway_df.shape\n"
   ]
  },
  {
   "cell_type": "code",
   "execution_count": 42,
   "metadata": {},
   "outputs": [],
   "source": [
    "timed_headway_df = timed_headway_df.loc[timed_headway_df.headway > 0]\n"
   ]
  },
  {
   "cell_type": "code",
   "execution_count": 43,
   "metadata": {},
   "outputs": [],
   "source": [
    "dist = (\n",
    "    timed_headway_df.groupby([\"veh\"])[\"headway\"]\n",
    "    .agg(\n",
    "        [\n",
    "            \"mean\",\n",
    "        ]\n",
    "    )\n",
    "    .reset_index()\n",
    ")\n"
   ]
  },
  {
   "cell_type": "code",
   "execution_count": 44,
   "metadata": {},
   "outputs": [
    {
     "data": {
      "text/plain": [
       "Text(0.5, 0, 'Headway (s)')"
      ]
     },
     "execution_count": 44,
     "metadata": {},
     "output_type": "execute_result"
    },
    {
     "data": {
      "image/png": "[encoded data removed]",
      "text/plain": [
       "<Figure size 1000x500 with 1 Axes>"
      ]
     },
     "metadata": {},
     "output_type": "display_data"
    }
   ],
   "source": [
    "import seaborn as sns\n",
    "import scienceplots\n",
    "import matplotlib.pyplot as plt\n",
    "\n",
    "plt.figure(figsize=(10, 5))\n",
    "\n",
    "sns.histplot(dist, x=\"mean\", bins=100)\n",
    "\n",
    "plt.xlabel(\"Headway (s)\")\n"
   ]
  },
  {
   "cell_type": "code",
   "execution_count": 45,
   "metadata": {},
   "outputs": [
    {
     "data": {
      "text/plain": [
       "Text(0.5, 0, 'Headway (s)')"
      ]
     },
     "execution_count": 45,
     "metadata": {},
     "output_type": "execute_result"
    },
    {
     "data": {
      "image/png": "[encoded data removed]",
      "text/plain": [
       "<Figure size 1000x500 with 1 Axes>"
      ]
     },
     "metadata": {},
     "output_type": "display_data"
    }
   ],
   "source": [
    "plt.figure(figsize=(10, 5))\n",
    "\n",
    "sns.histplot(dist.loc[dist[\"mean\"] < 5], x=\"mean\", bins=100)\n",
    "\n",
    "plt.xlabel(\"Headway (s)\")\n"
   ]
  },
  {
   "cell_type": "code",
   "execution_count": 46,
   "metadata": {},
   "outputs": [],
   "source": [
    "dist.to_parquet(\n",
    "    ROOT / \"data\" / \"2023-01-13\" / \"headway.parquet\"\n",
    ")"
   ]
  },
  {
   "cell_type": "code",
   "execution_count": 24,
   "metadata": {},
   "outputs": [],
   "source": [
    "# from math import ceil\n",
    "# import numpy as np\n",
    "# from scipy import linalg\n",
    "\n",
    "\n",
    "# def lowess(x, y, f=2. / 3., iter=3):\n",
    "#     \"\"\"lowess(x, y, f=2./3., iter=3) -> yest\n",
    "#     Lowess smoother: Robust locally weighted regression.\n",
    "#     The lowess function fits a nonparametric regression curve to a scatterplot.\n",
    "#     The arrays x and y contain an equal number of elements; each pair\n",
    "#     (x[i], y[i]) defines a data point in the scatterplot. The function returns\n",
    "#     the estimated (smooth) values of y.\n",
    "#     The smoothing span is given by f. A larger value for f will result in a\n",
    "#     smoother curve. The number of robustifying iterations is given by iter. The\n",
    "#     function will run faster with a smaller number of iterations.\n",
    "#     \"\"\"\n",
    "#     n = len(x)\n",
    "#     r = int(ceil(f * n))\n",
    "#     h = [np.sort(np.abs(x - x[i]))[r] for i in range(n)]\n",
    "#     w = np.clip(np.abs((x[:, None] - x[None, :]) / h), 0.0, 1.0)\n",
    "#     w = (1 - w ** 3) ** 3\n",
    "#     yest = np.zeros(n)\n",
    "#     delta = np.ones(n)\n",
    "#     for _ in range(iter):\n",
    "#         for i in range(n):\n",
    "#             weights = delta * w[:, i]\n",
    "#             b = np.array([np.sum(weights * y), np.sum(weights * y * x)])\n",
    "#             A = np.array([[np.sum(weights), np.sum(weights * x)],\n",
    "#                           [np.sum(weights * x), np.sum(weights * x * x)]])\n",
    "#             beta = linalg.solve(A, b)\n",
    "#             yest[i] = beta[0] + beta[1] * x[i]\n",
    "\n",
    "#         residuals = y - yest\n",
    "#         s = np.median(np.abs(residuals))\n",
    "#         delta = np.clip(residuals / (6.0 * s), -1, 1)\n",
    "#         delta = (1 - delta ** 2) ** 2\n",
    "\n",
    "#     return yest\n"
   ]
  },
  {
   "attachments": {},
   "cell_type": "markdown",
   "metadata": {},
   "source": [
    "### Filter Vehicles That Don't Travel at Least 100m in East Thru\n"
   ]
  },
  {
   "cell_type": "code",
   "execution_count": 175,
   "metadata": {},
   "outputs": [],
   "source": [
    "veh_df = radar.df[radar.df.box.str.contains(\"East thru\")].copy()\n",
    "\n",
    "veh_df[\"stop_distance\"] = np.linalg.norm(\n",
    "    veh_df[[\"f32_positionX_m\", \"f32_positionY_m\"]].values\n",
    "    - radar.approaches[0][1].end_point,\n",
    "    axis=1,\n",
    ")\n"
   ]
  },
  {
   "cell_type": "code",
   "execution_count": 11,
   "metadata": {},
   "outputs": [
    {
     "ename": "NameError",
     "evalue": "name 'veh_df' is not defined",
     "output_type": "error",
     "traceback": [
      "\u001b[0;31m---------------------------------------------------------------------------\u001b[0m",
      "\u001b[0;31mNameError\u001b[0m                                 Traceback (most recent call last)",
      "Cell \u001b[0;32mIn[11], line 1\u001b[0m\n\u001b[0;32m----> 1\u001b[0m stop_vehicles \u001b[39m=\u001b[39m veh_df\u001b[39m.\u001b[39mgroupby(veh_df[\u001b[39m\"\u001b[39m\u001b[39mui32_objectID\u001b[39m\u001b[39m\"\u001b[39m])\u001b[39m.\u001b[39magg(\n\u001b[1;32m      2\u001b[0m     {\n\u001b[1;32m      3\u001b[0m         \u001b[39m\"\u001b[39m\u001b[39mstop_distance\u001b[39m\u001b[39m\"\u001b[39m: \u001b[39mlambda\u001b[39;00m x: x\u001b[39m.\u001b[39mmax() \u001b[39m-\u001b[39m x\u001b[39m.\u001b[39mmin(),\n\u001b[1;32m      4\u001b[0m     }\n\u001b[1;32m      5\u001b[0m )\n\u001b[1;32m      7\u001b[0m stop_vehicles \u001b[39m=\u001b[39m stop_vehicles\u001b[39m.\u001b[39mloc[stop_vehicles\u001b[39m.\u001b[39mstop_distance \u001b[39m>\u001b[39m\u001b[39m=\u001b[39m \u001b[39m120\u001b[39m]\u001b[39m.\u001b[39mindex\u001b[39m.\u001b[39mvalues\n\u001b[1;32m      9\u001b[0m veh_df \u001b[39m=\u001b[39m veh_df\u001b[39m.\u001b[39mloc[veh_df\u001b[39m.\u001b[39mui32_objectID\u001b[39m.\u001b[39misin(stop_vehicles)]\u001b[39m.\u001b[39mcopy()\n",
      "\u001b[0;31mNameError\u001b[0m: name 'veh_df' is not defined"
     ]
    }
   ],
   "source": [
    "stop_vehicles = veh_df.groupby(veh_df[\"ui32_objectID\"]).agg(\n",
    "    {\n",
    "        \"stop_distance\": lambda x: x.max() - x.min(),\n",
    "    }\n",
    ")\n",
    "\n",
    "stop_vehicles = stop_vehicles.loc[stop_vehicles.stop_distance >= 120].index.values\n",
    "\n",
    "veh_df = veh_df.loc[veh_df.ui32_objectID.isin(stop_vehicles)].copy()\n"
   ]
  },
  {
   "cell_type": "code",
   "execution_count": 187,
   "metadata": {},
   "outputs": [
    {
     "data": {
      "application/vnd.plotly.v1+json": {
       "config": {
        "plotlyServerURL": "https://plot.ly"
       },
       "data": [
        {
         "mode": "lines",
         "name": "velocity - Lowess",
         "type": "scatter",
         "x": [
          0,
          0.3357,
          0.657803,
          0.926107,
          0.954488,
          1.21449,
          1.51456,
          1.807905,
          2.097949,
          2.398074,
          2.683025,
          2.990507,
          3.287031,
          3.567221,
          3.802551,
          4.072486,
          4.333943,
          4.593547,
          4.86285,
          5.098056,
          5.325477,
          5.523919,
          5.722461,
          5.922461,
          6.122632,
          6.327061,
          6.548175,
          6.724115,
          6.924145,
          7.128293,
          7.33043,
          7.543909,
          7.743974,
          7.968615
         ],
         "y": [
          16.585912970460896,
          16.571392712822693,
          16.559957801150958,
          16.552309897673872,
          16.552216740941994,
          16.542666709047413,
          16.494896446203025,
          16.42076962215911,
          16.362285877221986,
          16.329702529059126,
          16.324516921069332,
          16.35025357033488,
          16.386304931840485,
          16.436907774887562,
          16.520692177805042,
          16.655262045522743,
          16.814076963398055,
          16.97509047463004,
          17.12092205551111,
          17.22644475751269,
          17.310635252593457,
          17.372599715193275,
          17.438684755414087,
          17.490725272006443,
          17.518607011407454,
          17.580512951423536,
          17.69747243200283,
          17.78691076510029,
          17.855682615915917,
          17.897410180181602,
          17.93422325064622,
          18.04681070403791,
          18.154123305500097,
          18.293217775011346
         ]
        },
        {
         "mode": "lines",
         "name": "lowess acceleration - gradient 0.237 m/s^2",
         "type": "scatter",
         "x": [
          0,
          0.3357,
          0.657803,
          0.926107,
          0.954488,
          1.21449,
          1.51456,
          1.807905,
          2.097949,
          2.398074,
          2.683025,
          2.990507,
          3.287031,
          3.567221,
          3.802551,
          4.072486,
          4.333943,
          4.593547,
          4.86285,
          5.098056,
          5.325477,
          5.523919,
          5.722461,
          5.922461,
          6.122632,
          6.327061,
          6.548175,
          6.724115,
          6.924145,
          7.128293,
          7.33043,
          7.543909,
          7.743974,
          7.968615
         ],
         "xaxis": "x",
         "y": [
          -0.04325367184451386,
          -0.03929710476462844,
          -0.03168395371806554,
          -0.005695133275708031,
          -0.006574147072109682,
          -0.09358316226209595,
          -0.20647584021934406,
          -0.22702181228167007,
          -0.15589661194798765,
          -0.062210237599582996,
          0.03081385099598677,
          0.1029842160025467,
          0.15192672542911723,
          0.27594841121336344,
          0.4223984327394952,
          0.5538434977121938,
          0.6138478147278406,
          0.5815928410354374,
          0.4919387188810731,
          0.40875806988508145,
          0.3392543137450801,
          0.32255063964645814,
          0.2966600238145958,
          0.19977192778263486,
          0.2201961230007896,
          0.41145644492427635,
          0.5174781799876769,
          0.43134798910217853,
          0.27481332904694256,
          0.19320386251818888,
          0.3500452923271453,
          0.5320370146365292,
          0.5753915748883855,
          0.6191855872759177
         ],
         "yaxis": "y2"
        },
        {
         "mode": "lines",
         "name": "velocity True",
         "type": "scatter",
         "x": [
          0,
          0.3357,
          0.657803,
          0.926107,
          0.954488,
          1.21449,
          1.51456,
          1.807905,
          2.097949,
          2.398074,
          2.683025,
          2.990507,
          3.287031,
          3.567221,
          3.802551,
          4.072486,
          4.333943,
          4.593547,
          4.86285,
          5.098056,
          5.325477,
          5.523919,
          5.722461,
          5.922461,
          6.122632,
          6.327061,
          6.548175,
          6.724115,
          6.924145,
          7.128293,
          7.33043,
          7.543909,
          7.743974,
          7.968615
         ],
         "y": [
          16.584171295166016,
          16.5885066986084,
          16.555625915527344,
          16.521690368652344,
          16.521690368652344,
          16.595170974731445,
          16.564510345458984,
          16.43979835510254,
          16.25919532775879,
          16.241802215576172,
          16.318378448486328,
          16.38984489440918,
          16.391098022460938,
          16.389461517333984,
          16.38924789428711,
          16.60479736328125,
          16.812509536743164,
          17.101200103759766,
          17.131601333618164,
          17.181814193725586,
          17.24973487854004,
          17.497631072998047,
          17.538188934326172,
          17.27716827392578,
          17.668514251708984,
          17.546945571899414,
          17.49403953552246,
          17.831235885620117,
          17.96809196472168,
          18.198959350585938,
          17.719697952270508,
          17.7748966217041,
          18.00952911376953,
          18.585063934326172
         ]
        },
        {
         "mode": "lines",
         "name": "acceleration 'true' - gradient 0.314 m/s^2",
         "type": "scatter",
         "x": [
          0,
          0.3357,
          0.657803,
          0.926107,
          0.954488,
          1.21449,
          1.51456,
          1.807905,
          2.097949,
          2.398074,
          2.683025,
          2.990507,
          3.287031,
          3.567221,
          3.802551,
          4.072486,
          4.333943,
          4.593547,
          4.86285,
          5.098056,
          5.325477,
          5.523919,
          5.722461,
          5.922461,
          6.122632,
          6.327061,
          6.548175,
          6.724115,
          6.924145,
          7.128293,
          7.33043,
          7.543909,
          7.743974,
          7.968615
         ],
         "xaxis": "x",
         "y": [
          0.01291451725464049,
          -0.045772034438268605,
          -0.11539333407912267,
          -0.0120992878519246,
          0.02781339985257958,
          0.10398287129705608,
          -0.26548793212556276,
          -0.5244649578165053,
          -0.3451368995967137,
          0.10962726018497548,
          0.2512702328036944,
          0.11625542138395772,
          -0.0009498772158984536,
          -0.0031595991634532083,
          0.3714318696513992,
          0.7964497594244335,
          0.9538062820890687,
          0.6216264609897841,
          0.1665859540185437,
          0.2567870131902694,
          0.8062758361755655,
          0.7268770256989825,
          -0.5476514907073593,
          0.32428094426250453,
          0.6936086495231422,
          -0.4239398386762261,
          0.9612721963113771,
          1.3398411489381843,
          0.9052544551666912,
          -0.6287119731348128,
          -1.0920825366978164,
          0.7305012994688411,
          1.827206051029485,
          2.562020381660696
         ],
         "yaxis": "y2"
        },
        {
         "mode": "lines",
         "name": "pwlf - avg accel: 0.325 m/s^2",
         "showlegend": true,
         "type": "scatter",
         "x": [
          0,
          3.6829485414476273
         ],
         "y": [
          16.598651843120404,
          16.294159632966903
         ]
        },
        {
         "mode": "lines",
         "name": "pwlf - avg accel: 0.325 m/s^2",
         "showlegend": false,
         "type": "scatter",
         "x": [
          3.6829485414476273,
          4.587506338497675
         ],
         "y": [
          16.294159632966903,
          17.014662983445177
         ]
        },
        {
         "mode": "lines",
         "name": "pwlf - avg accel: 0.325 m/s^2",
         "showlegend": false,
         "type": "scatter",
         "x": [
          4.587506338497675,
          7.142512491613158
         ],
         "y": [
          17.014662983445177,
          17.980209386016227
         ]
        },
        {
         "mode": "lines",
         "name": "pwlf - avg accel: 0.325 m/s^2",
         "showlegend": false,
         "type": "scatter",
         "x": [
          7.142512491613158,
          7.453391046678749
         ],
         "y": [
          17.980209386016227,
          17.549236189562187
         ]
        },
        {
         "mode": "lines",
         "name": "pwlf - avg accel: 0.325 m/s^2",
         "showlegend": false,
         "type": "scatter",
         "x": [
          7.453391046678749,
          7.968615
         ],
         "y": [
          17.549236189562183,
          18.53894750566645
         ]
        }
       ],
       "layout": {
        "annotations": [
         {
          "font": {
           "size": 16
          },
          "text": "accel: -0.08 m/s^2<br>",
          "x": 1.8414742707238136,
          "y": 16.598651843120404
         },
         {
          "font": {
           "size": 16
          },
          "text": "accel: 0.80 m/s^2<br>",
          "x": 4.135227439972651,
          "y": 16.294159632966903
         },
         {
          "font": {
           "size": 16
          },
          "text": "accel: 0.38 m/s^2<br>",
          "x": 5.865009415055416,
          "y": 17.014662983445177
         },
         {
          "font": {
           "size": 16
          },
          "text": "accel: -1.39 m/s^2<br>",
          "x": 7.2979517691459534,
          "y": 17.980209386016227
         },
         {
          "font": {
           "size": 16
          },
          "text": "accel: 1.92 m/s^2<br>",
          "x": 7.711003023339375,
          "y": 17.549236189562183
         }
        ],
        "template": {
         "data": {
          "bar": [
           {
            "error_x": {
             "color": "#2a3f5f"
            },
            "error_y": {
             "color": "#2a3f5f"
            },
            "marker": {
             "line": {
              "color": "#E5ECF6",
              "width": 0.5
             },
             "pattern": {
              "fillmode": "overlay",
              "size": 10,
              "solidity": 0.2
             }
            },
            "type": "bar"
           }
          ],
          "barpolar": [
           {
            "marker": {
             "line": {
              "color": "#E5ECF6",
              "width": 0.5
             },
             "pattern": {
              "fillmode": "overlay",
              "size": 10,
              "solidity": 0.2
             }
            },
            "type": "barpolar"
           }
          ],
          "carpet": [
           {
            "aaxis": {
             "endlinecolor": "#2a3f5f",
             "gridcolor": "white",
             "linecolor": "white",
             "minorgridcolor": "white",
             "startlinecolor": "#2a3f5f"
            },
            "baxis": {
             "endlinecolor": "#2a3f5f",
             "gridcolor": "white",
             "linecolor": "white",
             "minorgridcolor": "white",
             "startlinecolor": "#2a3f5f"
            },
            "type": "carpet"
           }
          ],
          "choropleth": [
           {
            "colorbar": {
             "outlinewidth": 0,
             "ticks": ""
            },
            "type": "choropleth"
           }
          ],
          "contour": [
           {
            "colorbar": {
             "outlinewidth": 0,
             "ticks": ""
            },
            "colorscale": [
             [
              0,
              "#0d0887"
             ],
             [
              0.1111111111111111,
              "#46039f"
             ],
             [
              0.2222222222222222,
              "#7201a8"
             ],
             [
              0.3333333333333333,
              "#9c179e"
             ],
             [
              0.4444444444444444,
              "#bd3786"
             ],
             [
              0.5555555555555556,
              "#d8576b"
             ],
             [
              0.6666666666666666,
              "#ed7953"
             ],
             [
              0.7777777777777778,
              "#fb9f3a"
             ],
             [
              0.8888888888888888,
              "#fdca26"
             ],
             [
              1,
              "#f0f921"
             ]
            ],
            "type": "contour"
           }
          ],
          "contourcarpet": [
           {
            "colorbar": {
             "outlinewidth": 0,
             "ticks": ""
            },
            "type": "contourcarpet"
           }
          ],
          "heatmap": [
           {
            "colorbar": {
             "outlinewidth": 0,
             "ticks": ""
            },
            "colorscale": [
             [
              0,
              "#0d0887"
             ],
             [
              0.1111111111111111,
              "#46039f"
             ],
             [
              0.2222222222222222,
              "#7201a8"
             ],
             [
              0.3333333333333333,
              "#9c179e"
             ],
             [
              0.4444444444444444,
              "#bd3786"
             ],
             [
              0.5555555555555556,
              "#d8576b"
             ],
             [
              0.6666666666666666,
              "#ed7953"
             ],
             [
              0.7777777777777778,
              "#fb9f3a"
             ],
             [
              0.8888888888888888,
              "#fdca26"
             ],
             [
              1,
              "#f0f921"
             ]
            ],
            "type": "heatmap"
           }
          ],
          "heatmapgl": [
           {
            "colorbar": {
             "outlinewidth": 0,
             "ticks": ""
            },
            "colorscale": [
             [
              0,
              "#0d0887"
             ],
             [
              0.1111111111111111,
              "#46039f"
             ],
             [
              0.2222222222222222,
              "#7201a8"
             ],
             [
              0.3333333333333333,
              "#9c179e"
             ],
             [
              0.4444444444444444,
              "#bd3786"
             ],
             [
              0.5555555555555556,
              "#d8576b"
             ],
             [
              0.6666666666666666,
              "#ed7953"
             ],
             [
              0.7777777777777778,
              "#fb9f3a"
             ],
             [
              0.8888888888888888,
              "#fdca26"
             ],
             [
              1,
              "#f0f921"
             ]
            ],
            "type": "heatmapgl"
           }
          ],
          "histogram": [
           {
            "marker": {
             "pattern": {
              "fillmode": "overlay",
              "size": 10,
              "solidity": 0.2
             }
            },
            "type": "histogram"
           }
          ],
          "histogram2d": [
           {
            "colorbar": {
             "outlinewidth": 0,
             "ticks": ""
            },
            "colorscale": [
             [
              0,
              "#0d0887"
             ],
             [
              0.1111111111111111,
              "#46039f"
             ],
             [
              0.2222222222222222,
              "#7201a8"
             ],
             [
              0.3333333333333333,
              "#9c179e"
             ],
             [
              0.4444444444444444,
              "#bd3786"
             ],
             [
              0.5555555555555556,
              "#d8576b"
             ],
             [
              0.6666666666666666,
              "#ed7953"
             ],
             [
              0.7777777777777778,
              "#fb9f3a"
             ],
             [
              0.8888888888888888,
              "#fdca26"
             ],
             [
              1,
              "#f0f921"
             ]
            ],
            "type": "histogram2d"
           }
          ],
          "histogram2dcontour": [
           {
            "colorbar": {
             "outlinewidth": 0,
             "ticks": ""
            },
            "colorscale": [
             [
              0,
              "#0d0887"
             ],
             [
              0.1111111111111111,
              "#46039f"
             ],
             [
              0.2222222222222222,
              "#7201a8"
             ],
             [
              0.3333333333333333,
              "#9c179e"
             ],
             [
              0.4444444444444444,
              "#bd3786"
             ],
             [
              0.5555555555555556,
              "#d8576b"
             ],
             [
              0.6666666666666666,
              "#ed7953"
             ],
             [
              0.7777777777777778,
              "#fb9f3a"
             ],
             [
              0.8888888888888888,
              "#fdca26"
             ],
             [
              1,
              "#f0f921"
             ]
            ],
            "type": "histogram2dcontour"
           }
          ],
          "mesh3d": [
           {
            "colorbar": {
             "outlinewidth": 0,
             "ticks": ""
            },
            "type": "mesh3d"
           }
          ],
          "parcoords": [
           {
            "line": {
             "colorbar": {
              "outlinewidth": 0,
              "ticks": ""
             }
            },
            "type": "parcoords"
           }
          ],
          "pie": [
           {
            "automargin": true,
            "type": "pie"
           }
          ],
          "scatter": [
           {
            "fillpattern": {
             "fillmode": "overlay",
             "size": 10,
             "solidity": 0.2
            },
            "type": "scatter"
           }
          ],
          "scatter3d": [
           {
            "line": {
             "colorbar": {
              "outlinewidth": 0,
              "ticks": ""
             }
            },
            "marker": {
             "colorbar": {
              "outlinewidth": 0,
              "ticks": ""
             }
            },
            "type": "scatter3d"
           }
          ],
          "scattercarpet": [
           {
            "marker": {
             "colorbar": {
              "outlinewidth": 0,
              "ticks": ""
             }
            },
            "type": "scattercarpet"
           }
          ],
          "scattergeo": [
           {
            "marker": {
             "colorbar": {
              "outlinewidth": 0,
              "ticks": ""
             }
            },
            "type": "scattergeo"
           }
          ],
          "scattergl": [
           {
            "marker": {
             "colorbar": {
              "outlinewidth": 0,
              "ticks": ""
             }
            },
            "type": "scattergl"
           }
          ],
          "scattermapbox": [
           {
            "marker": {
             "colorbar": {
              "outlinewidth": 0,
              "ticks": ""
             }
            },
            "type": "scattermapbox"
           }
          ],
          "scatterpolar": [
           {
            "marker": {
             "colorbar": {
              "outlinewidth": 0,
              "ticks": ""
             }
            },
            "type": "scatterpolar"
           }
          ],
          "scatterpolargl": [
           {
            "marker": {
             "colorbar": {
              "outlinewidth": 0,
              "ticks": ""
             }
            },
            "type": "scatterpolargl"
           }
          ],
          "scatterternary": [
           {
            "marker": {
             "colorbar": {
              "outlinewidth": 0,
              "ticks": ""
             }
            },
            "type": "scatterternary"
           }
          ],
          "surface": [
           {
            "colorbar": {
             "outlinewidth": 0,
             "ticks": ""
            },
            "colorscale": [
             [
              0,
              "#0d0887"
             ],
             [
              0.1111111111111111,
              "#46039f"
             ],
             [
              0.2222222222222222,
              "#7201a8"
             ],
             [
              0.3333333333333333,
              "#9c179e"
             ],
             [
              0.4444444444444444,
              "#bd3786"
             ],
             [
              0.5555555555555556,
              "#d8576b"
             ],
             [
              0.6666666666666666,
              "#ed7953"
             ],
             [
              0.7777777777777778,
              "#fb9f3a"
             ],
             [
              0.8888888888888888,
              "#fdca26"
             ],
             [
              1,
              "#f0f921"
             ]
            ],
            "type": "surface"
           }
          ],
          "table": [
           {
            "cells": {
             "fill": {
              "color": "#EBF0F8"
             },
             "line": {
              "color": "white"
             }
            },
            "header": {
             "fill": {
              "color": "#C8D4E3"
             },
             "line": {
              "color": "white"
             }
            },
            "type": "table"
           }
          ]
         },
         "layout": {
          "annotationdefaults": {
           "arrowcolor": "#2a3f5f",
           "arrowhead": 0,
           "arrowwidth": 1
          },
          "autotypenumbers": "strict",
          "coloraxis": {
           "colorbar": {
            "outlinewidth": 0,
            "ticks": ""
           }
          },
          "colorscale": {
           "diverging": [
            [
             0,
             "#8e0152"
            ],
            [
             0.1,
             "#c51b7d"
            ],
            [
             0.2,
             "#de77ae"
            ],
            [
             0.3,
             "#f1b6da"
            ],
            [
             0.4,
             "#fde0ef"
            ],
            [
             0.5,
             "#f7f7f7"
            ],
            [
             0.6,
             "#e6f5d0"
            ],
            [
             0.7,
             "#b8e186"
            ],
            [
             0.8,
             "#7fbc41"
            ],
            [
             0.9,
             "#4d9221"
            ],
            [
             1,
             "#276419"
            ]
           ],
           "sequential": [
            [
             0,
             "#0d0887"
            ],
            [
             0.1111111111111111,
             "#46039f"
            ],
            [
             0.2222222222222222,
             "#7201a8"
            ],
            [
             0.3333333333333333,
             "#9c179e"
            ],
            [
             0.4444444444444444,
             "#bd3786"
            ],
            [
             0.5555555555555556,
             "#d8576b"
            ],
            [
             0.6666666666666666,
             "#ed7953"
            ],
            [
             0.7777777777777778,
             "#fb9f3a"
            ],
            [
             0.8888888888888888,
             "#fdca26"
            ],
            [
             1,
             "#f0f921"
            ]
           ],
           "sequentialminus": [
            [
             0,
             "#0d0887"
            ],
            [
             0.1111111111111111,
             "#46039f"
            ],
            [
             0.2222222222222222,
             "#7201a8"
            ],
            [
             0.3333333333333333,
             "#9c179e"
            ],
            [
             0.4444444444444444,
             "#bd3786"
            ],
            [
             0.5555555555555556,
             "#d8576b"
            ],
            [
             0.6666666666666666,
             "#ed7953"
            ],
            [
             0.7777777777777778,
             "#fb9f3a"
            ],
            [
             0.8888888888888888,
             "#fdca26"
            ],
            [
             1,
             "#f0f921"
            ]
           ]
          },
          "colorway": [
           "#636efa",
           "#EF553B",
           "#00cc96",
           "#ab63fa",
           "#FFA15A",
           "#19d3f3",
           "#FF6692",
           "#B6E880",
           "#FF97FF",
           "#FECB52"
          ],
          "font": {
           "color": "#2a3f5f"
          },
          "geo": {
           "bgcolor": "white",
           "lakecolor": "white",
           "landcolor": "#E5ECF6",
           "showlakes": true,
           "showland": true,
           "subunitcolor": "white"
          },
          "hoverlabel": {
           "align": "left"
          },
          "hovermode": "closest",
          "mapbox": {
           "style": "light"
          },
          "paper_bgcolor": "white",
          "plot_bgcolor": "#E5ECF6",
          "polar": {
           "angularaxis": {
            "gridcolor": "white",
            "linecolor": "white",
            "ticks": ""
           },
           "bgcolor": "#E5ECF6",
           "radialaxis": {
            "gridcolor": "white",
            "linecolor": "white",
            "ticks": ""
           }
          },
          "scene": {
           "xaxis": {
            "backgroundcolor": "#E5ECF6",
            "gridcolor": "white",
            "gridwidth": 2,
            "linecolor": "white",
            "showbackground": true,
            "ticks": "",
            "zerolinecolor": "white"
           },
           "yaxis": {
            "backgroundcolor": "#E5ECF6",
            "gridcolor": "white",
            "gridwidth": 2,
            "linecolor": "white",
            "showbackground": true,
            "ticks": "",
            "zerolinecolor": "white"
           },
           "zaxis": {
            "backgroundcolor": "#E5ECF6",
            "gridcolor": "white",
            "gridwidth": 2,
            "linecolor": "white",
            "showbackground": true,
            "ticks": "",
            "zerolinecolor": "white"
           }
          },
          "shapedefaults": {
           "line": {
            "color": "#2a3f5f"
           }
          },
          "ternary": {
           "aaxis": {
            "gridcolor": "white",
            "linecolor": "white",
            "ticks": ""
           },
           "baxis": {
            "gridcolor": "white",
            "linecolor": "white",
            "ticks": ""
           },
           "bgcolor": "#E5ECF6",
           "caxis": {
            "gridcolor": "white",
            "linecolor": "white",
            "ticks": ""
           }
          },
          "title": {
           "x": 0.05
          },
          "xaxis": {
           "automargin": true,
           "gridcolor": "white",
           "linecolor": "white",
           "ticks": "",
           "title": {
            "standoff": 15
           },
           "zerolinecolor": "white",
           "zerolinewidth": 2
          },
          "yaxis": {
           "automargin": true,
           "gridcolor": "white",
           "linecolor": "white",
           "ticks": "",
           "title": {
            "standoff": 15
           },
           "zerolinecolor": "white",
           "zerolinewidth": 2
          }
         }
        },
        "xaxis": {
         "anchor": "y",
         "domain": [
          0,
          0.94
         ]
        },
        "yaxis": {
         "anchor": "x",
         "domain": [
          0,
          1
         ]
        },
        "yaxis2": {
         "anchor": "x",
         "overlaying": "y",
         "side": "right"
        }
       }
      }
     },
     "metadata": {},
     "output_type": "display_data"
    }
   ],
   "source": [
    "# plot the results\n",
    "import plotly.graph_objects as go\n",
    "from plotly.subplots import make_subplots\n",
    "import pwlf\n",
    "from src.lowess import lowess\n",
    "\n",
    "# _veh_df = veh_df.loc[veh_df.ui32_objectID == veh_df.ui32_objectID.sample(1).values[0]]\n",
    "_veh_df = veh_df.loc[veh_df.ui32_objectID == 50367]\n",
    "\n",
    "x = (_veh_df.dt - _veh_df.dt.min()).dt.total_seconds()\n",
    "y = _veh_df[\"f32_velocityInDir_mps\"]\n",
    "\n",
    "a = pd.Series(y) == 0\n",
    "zero_sum = a.cumsum() - a.cumsum().where(~a).ffill().fillna(0).astype(int)\n",
    "\n",
    "# keep only where zero_sum is < 3\n",
    "x = x.loc[zero_sum < 3].values\n",
    "y = y.loc[zero_sum < 3].values.astype(float)\n",
    "\n",
    "# crop out long segments of all 0. They have to be sequential\n",
    "# create a figure with a secondary y-axis\n",
    "fig = make_subplots(specs=[[{\"secondary_y\": True}]])\n",
    "\n",
    "\n",
    "# distance = _veh_df[['f32_positionX_m', 'f32_positionY_m']].diff().apply(np.linalg.norm, axis=1).cumsum().fillna(0)\n",
    "# distance = distance.loc[zero_sum < 3].values.astype(float)\n",
    "\n",
    "smoothed = lowess(y=y, x=x, f=1 / 5, n_iter=1)\n",
    "gradient_accel = np.gradient(smoothed, x)\n",
    "\n",
    "raw_accel_gradient = np.gradient(y, x)\n",
    "fig.add_scatter(\n",
    "    x=x,\n",
    "    y=smoothed,\n",
    "    name=\"velocity - Lowess\",\n",
    "    mode=\"lines\",\n",
    ")\n",
    "fig.add_scatter(\n",
    "    x=x,\n",
    "    y=gradient_accel,\n",
    "    name=f\"lowess acceleration - gradient {gradient_accel.mean():.3f} m/s^2\",\n",
    "    mode=\"lines\",\n",
    "    secondary_y=True,\n",
    ")\n",
    "\n",
    "\n",
    "fig.add_scatter(\n",
    "    x=x,\n",
    "    y=y,\n",
    "    name=\"velocity True\",\n",
    "    mode=\"lines\",\n",
    ")\n",
    "\n",
    "# fig.add_scatter(\n",
    "#     x=x[1:],\n",
    "#     y=raw_accel,\n",
    "#     name=f\"acceleration 'true' {raw_accel.mean():.3f} m/s^2\",\n",
    "#     mode=\"lines\",\n",
    "#     secondary_y=True,\n",
    "# )\n",
    "\n",
    "fig.add_scatter(\n",
    "    x=x,\n",
    "    y=raw_accel_gradient,\n",
    "    name=f\"acceleration 'true' - gradient {raw_accel_gradient.mean():.3f} m/s^2\",\n",
    "    mode=\"lines\",\n",
    "    secondary_y=True,\n",
    ")\n",
    "\n",
    "\n",
    "pwlf_model = pwlf.PiecewiseLinFit(x, y)\n",
    "breaks = pwlf_model.fit(5)\n",
    "slopes = pwlf_model.slopes\n",
    "intercepts = pwlf_model.intercepts\n",
    "\n",
    "for i, (b0, b1, slope, intercept) in enumerate(zip(breaks[:-1], breaks[1:], slopes, intercepts)):\n",
    "    fig.add_scatter(\n",
    "        x=[b0, b1],\n",
    "        y=[intercept + slope * b0, intercept + slope * b1],\n",
    "        name=f\"pwlf - avg accel: {slopes.mean():.3f} m/s^2\",\n",
    "        mode=\"lines\",\n",
    "        showlegend=i < 1,\n",
    "    )\n",
    "\n",
    "    # add a annotation with the slope\n",
    "    fig.add_annotation(\n",
    "        x=(b0 + b1) / 2,\n",
    "        y=intercept + slope * b0,\n",
    "        text=f\"accel: {slope:.2f} m/s^2<br>\",\n",
    "        font=dict(\n",
    "            size=16,\n",
    "        )\n",
    "    )\n",
    "\n",
    "fig.show()\n"
   ]
  },
  {
   "cell_type": "code",
   "execution_count": 141,
   "metadata": {},
   "outputs": [],
   "source": [
    "sign_flips = np.where(np.diff(np.signbit(gradient_accel)))\n"
   ]
  },
  {
   "cell_type": "code",
   "execution_count": 142,
   "metadata": {},
   "outputs": [],
   "source": [
    "accel_chunks = np.split(gradient_accel, sign_flips[0] + 1)\n",
    "time_chunks = np.split(x, sign_flips[0] + 1)\n"
   ]
  },
  {
   "cell_type": "code",
   "execution_count": 143,
   "metadata": {},
   "outputs": [
    {
     "data": {
      "application/vnd.plotly.v1+json": {
       "config": {
        "plotlyServerURL": "https://plot.ly"
       },
       "data": [
        {
         "mode": "lines",
         "name": "acceleration chunk 0",
         "type": "scatter",
         "x": [
          0,
          0.190055,
          0.3006,
          0.491208,
          0.602151,
          0.792252,
          0.903245,
          1.09197,
          1.201963,
          1.392686,
          1.501972,
          1.835972,
          2.199699,
          2.53131
         ],
         "y": [
          -0.026070518461986828,
          -0.03937363524072168,
          -0.0957141340076646,
          -0.37634018802960156,
          -0.5190282435127074,
          -0.481819493907949,
          -0.37485796281347916,
          -0.20612657317190042,
          -0.13403565427821462,
          -0.011575393705427928,
          -0.010316140729619505,
          -0.24611651364007514,
          -0.35347275291856306,
          -0.23404798933886184
         ]
        },
        {
         "mode": "lines",
         "name": "acceleration chunk 1",
         "type": "scatter",
         "x": [
          2.83531,
          2.89731,
          3.261566,
          3.622566,
          3.925241,
          4.272749,
          4.603946,
          4.985297,
          5.374714,
          5.754103,
          6.132816,
          6.515391
         ],
         "y": [
          0.13872731302001284,
          0.21307980303571306,
          0.35349855230720806,
          0.3368616828017039,
          0.28796927526039084,
          0.33536813845086755,
          0.4051600441893122,
          0.4231517888574601,
          0.35911718147971783,
          0.2977995213074429,
          0.2832374863789191,
          0.27513935863095684
         ]
        }
       ],
       "layout": {
        "template": {
         "data": {
          "bar": [
           {
            "error_x": {
             "color": "#2a3f5f"
            },
            "error_y": {
             "color": "#2a3f5f"
            },
            "marker": {
             "line": {
              "color": "#E5ECF6",
              "width": 0.5
             },
             "pattern": {
              "fillmode": "overlay",
              "size": 10,
              "solidity": 0.2
             }
            },
            "type": "bar"
           }
          ],
          "barpolar": [
           {
            "marker": {
             "line": {
              "color": "#E5ECF6",
              "width": 0.5
             },
             "pattern": {
              "fillmode": "overlay",
              "size": 10,
              "solidity": 0.2
             }
            },
            "type": "barpolar"
           }
          ],
          "carpet": [
           {
            "aaxis": {
             "endlinecolor": "#2a3f5f",
             "gridcolor": "white",
             "linecolor": "white",
             "minorgridcolor": "white",
             "startlinecolor": "#2a3f5f"
            },
            "baxis": {
             "endlinecolor": "#2a3f5f",
             "gridcolor": "white",
             "linecolor": "white",
             "minorgridcolor": "white",
             "startlinecolor": "#2a3f5f"
            },
            "type": "carpet"
           }
          ],
          "choropleth": [
           {
            "colorbar": {
             "outlinewidth": 0,
             "ticks": ""
            },
            "type": "choropleth"
           }
          ],
          "contour": [
           {
            "colorbar": {
             "outlinewidth": 0,
             "ticks": ""
            },
            "colorscale": [
             [
              0,
              "#0d0887"
             ],
             [
              0.1111111111111111,
              "#46039f"
             ],
             [
              0.2222222222222222,
              "#7201a8"
             ],
             [
              0.3333333333333333,
              "#9c179e"
             ],
             [
              0.4444444444444444,
              "#bd3786"
             ],
             [
              0.5555555555555556,
              "#d8576b"
             ],
             [
              0.6666666666666666,
              "#ed7953"
             ],
             [
              0.7777777777777778,
              "#fb9f3a"
             ],
             [
              0.8888888888888888,
              "#fdca26"
             ],
             [
              1,
              "#f0f921"
             ]
            ],
            "type": "contour"
           }
          ],
          "contourcarpet": [
           {
            "colorbar": {
             "outlinewidth": 0,
             "ticks": ""
            },
            "type": "contourcarpet"
           }
          ],
          "heatmap": [
           {
            "colorbar": {
             "outlinewidth": 0,
             "ticks": ""
            },
            "colorscale": [
             [
              0,
              "#0d0887"
             ],
             [
              0.1111111111111111,
              "#46039f"
             ],
             [
              0.2222222222222222,
              "#7201a8"
             ],
             [
              0.3333333333333333,
              "#9c179e"
             ],
             [
              0.4444444444444444,
              "#bd3786"
             ],
             [
              0.5555555555555556,
              "#d8576b"
             ],
             [
              0.6666666666666666,
              "#ed7953"
             ],
             [
              0.7777777777777778,
              "#fb9f3a"
             ],
             [
              0.8888888888888888,
              "#fdca26"
             ],
             [
              1,
              "#f0f921"
             ]
            ],
            "type": "heatmap"
           }
          ],
          "heatmapgl": [
           {
            "colorbar": {
             "outlinewidth": 0,
             "ticks": ""
            },
            "colorscale": [
             [
              0,
              "#0d0887"
             ],
             [
              0.1111111111111111,
              "#46039f"
             ],
             [
              0.2222222222222222,
              "#7201a8"
             ],
             [
              0.3333333333333333,
              "#9c179e"
             ],
             [
              0.4444444444444444,
              "#bd3786"
             ],
             [
              0.5555555555555556,
              "#d8576b"
             ],
             [
              0.6666666666666666,
              "#ed7953"
             ],
             [
              0.7777777777777778,
              "#fb9f3a"
             ],
             [
              0.8888888888888888,
              "#fdca26"
             ],
             [
              1,
              "#f0f921"
             ]
            ],
            "type": "heatmapgl"
           }
          ],
          "histogram": [
           {
            "marker": {
             "pattern": {
              "fillmode": "overlay",
              "size": 10,
              "solidity": 0.2
             }
            },
            "type": "histogram"
           }
          ],
          "histogram2d": [
           {
            "colorbar": {
             "outlinewidth": 0,
             "ticks": ""
            },
            "colorscale": [
             [
              0,
              "#0d0887"
             ],
             [
              0.1111111111111111,
              "#46039f"
             ],
             [
              0.2222222222222222,
              "#7201a8"
             ],
             [
              0.3333333333333333,
              "#9c179e"
             ],
             [
              0.4444444444444444,
              "#bd3786"
             ],
             [
              0.5555555555555556,
              "#d8576b"
             ],
             [
              0.6666666666666666,
              "#ed7953"
             ],
             [
              0.7777777777777778,
              "#fb9f3a"
             ],
             [
              0.8888888888888888,
              "#fdca26"
             ],
             [
              1,
              "#f0f921"
             ]
            ],
            "type": "histogram2d"
           }
          ],
          "histogram2dcontour": [
           {
            "colorbar": {
             "outlinewidth": 0,
             "ticks": ""
            },
            "colorscale": [
             [
              0,
              "#0d0887"
             ],
             [
              0.1111111111111111,
              "#46039f"
             ],
             [
              0.2222222222222222,
              "#7201a8"
             ],
             [
              0.3333333333333333,
              "#9c179e"
             ],
             [
              0.4444444444444444,
              "#bd3786"
             ],
             [
              0.5555555555555556,
              "#d8576b"
             ],
             [
              0.6666666666666666,
              "#ed7953"
             ],
             [
              0.7777777777777778,
              "#fb9f3a"
             ],
             [
              0.8888888888888888,
              "#fdca26"
             ],
             [
              1,
              "#f0f921"
             ]
            ],
            "type": "histogram2dcontour"
           }
          ],
          "mesh3d": [
           {
            "colorbar": {
             "outlinewidth": 0,
             "ticks": ""
            },
            "type": "mesh3d"
           }
          ],
          "parcoords": [
           {
            "line": {
             "colorbar": {
              "outlinewidth": 0,
              "ticks": ""
             }
            },
            "type": "parcoords"
           }
          ],
          "pie": [
           {
            "automargin": true,
            "type": "pie"
           }
          ],
          "scatter": [
           {
            "fillpattern": {
             "fillmode": "overlay",
             "size": 10,
             "solidity": 0.2
            },
            "type": "scatter"
           }
          ],
          "scatter3d": [
           {
            "line": {
             "colorbar": {
              "outlinewidth": 0,
              "ticks": ""
             }
            },
            "marker": {
             "colorbar": {
              "outlinewidth": 0,
              "ticks": ""
             }
            },
            "type": "scatter3d"
           }
          ],
          "scattercarpet": [
           {
            "marker": {
             "colorbar": {
              "outlinewidth": 0,
              "ticks": ""
             }
            },
            "type": "scattercarpet"
           }
          ],
          "scattergeo": [
           {
            "marker": {
             "colorbar": {
              "outlinewidth": 0,
              "ticks": ""
             }
            },
            "type": "scattergeo"
           }
          ],
          "scattergl": [
           {
            "marker": {
             "colorbar": {
              "outlinewidth": 0,
              "ticks": ""
             }
            },
            "type": "scattergl"
           }
          ],
          "scattermapbox": [
           {
            "marker": {
             "colorbar": {
              "outlinewidth": 0,
              "ticks": ""
             }
            },
            "type": "scattermapbox"
           }
          ],
          "scatterpolar": [
           {
            "marker": {
             "colorbar": {
              "outlinewidth": 0,
              "ticks": ""
             }
            },
            "type": "scatterpolar"
           }
          ],
          "scatterpolargl": [
           {
            "marker": {
             "colorbar": {
              "outlinewidth": 0,
              "ticks": ""
             }
            },
            "type": "scatterpolargl"
           }
          ],
          "scatterternary": [
           {
            "marker": {
             "colorbar": {
              "outlinewidth": 0,
              "ticks": ""
             }
            },
            "type": "scatterternary"
           }
          ],
          "surface": [
           {
            "colorbar": {
             "outlinewidth": 0,
             "ticks": ""
            },
            "colorscale": [
             [
              0,
              "#0d0887"
             ],
             [
              0.1111111111111111,
              "#46039f"
             ],
             [
              0.2222222222222222,
              "#7201a8"
             ],
             [
              0.3333333333333333,
              "#9c179e"
             ],
             [
              0.4444444444444444,
              "#bd3786"
             ],
             [
              0.5555555555555556,
              "#d8576b"
             ],
             [
              0.6666666666666666,
              "#ed7953"
             ],
             [
              0.7777777777777778,
              "#fb9f3a"
             ],
             [
              0.8888888888888888,
              "#fdca26"
             ],
             [
              1,
              "#f0f921"
             ]
            ],
            "type": "surface"
           }
          ],
          "table": [
           {
            "cells": {
             "fill": {
              "color": "#EBF0F8"
             },
             "line": {
              "color": "white"
             }
            },
            "header": {
             "fill": {
              "color": "#C8D4E3"
             },
             "line": {
              "color": "white"
             }
            },
            "type": "table"
           }
          ]
         },
         "layout": {
          "annotationdefaults": {
           "arrowcolor": "#2a3f5f",
           "arrowhead": 0,
           "arrowwidth": 1
          },
          "autotypenumbers": "strict",
          "coloraxis": {
           "colorbar": {
            "outlinewidth": 0,
            "ticks": ""
           }
          },
          "colorscale": {
           "diverging": [
            [
             0,
             "#8e0152"
            ],
            [
             0.1,
             "#c51b7d"
            ],
            [
             0.2,
             "#de77ae"
            ],
            [
             0.3,
             "#f1b6da"
            ],
            [
             0.4,
             "#fde0ef"
            ],
            [
             0.5,
             "#f7f7f7"
            ],
            [
             0.6,
             "#e6f5d0"
            ],
            [
             0.7,
             "#b8e186"
            ],
            [
             0.8,
             "#7fbc41"
            ],
            [
             0.9,
             "#4d9221"
            ],
            [
             1,
             "#276419"
            ]
           ],
           "sequential": [
            [
             0,
             "#0d0887"
            ],
            [
             0.1111111111111111,
             "#46039f"
            ],
            [
             0.2222222222222222,
             "#7201a8"
            ],
            [
             0.3333333333333333,
             "#9c179e"
            ],
            [
             0.4444444444444444,
             "#bd3786"
            ],
            [
             0.5555555555555556,
             "#d8576b"
            ],
            [
             0.6666666666666666,
             "#ed7953"
            ],
            [
             0.7777777777777778,
             "#fb9f3a"
            ],
            [
             0.8888888888888888,
             "#fdca26"
            ],
            [
             1,
             "#f0f921"
            ]
           ],
           "sequentialminus": [
            [
             0,
             "#0d0887"
            ],
            [
             0.1111111111111111,
             "#46039f"
            ],
            [
             0.2222222222222222,
             "#7201a8"
            ],
            [
             0.3333333333333333,
             "#9c179e"
            ],
            [
             0.4444444444444444,
             "#bd3786"
            ],
            [
             0.5555555555555556,
             "#d8576b"
            ],
            [
             0.6666666666666666,
             "#ed7953"
            ],
            [
             0.7777777777777778,
             "#fb9f3a"
            ],
            [
             0.8888888888888888,
             "#fdca26"
            ],
            [
             1,
             "#f0f921"
            ]
           ]
          },
          "colorway": [
           "#636efa",
           "#EF553B",
           "#00cc96",
           "#ab63fa",
           "#FFA15A",
           "#19d3f3",
           "#FF6692",
           "#B6E880",
           "#FF97FF",
           "#FECB52"
          ],
          "font": {
           "color": "#2a3f5f"
          },
          "geo": {
           "bgcolor": "white",
           "lakecolor": "white",
           "landcolor": "#E5ECF6",
           "showlakes": true,
           "showland": true,
           "subunitcolor": "white"
          },
          "hoverlabel": {
           "align": "left"
          },
          "hovermode": "closest",
          "mapbox": {
           "style": "light"
          },
          "paper_bgcolor": "white",
          "plot_bgcolor": "#E5ECF6",
          "polar": {
           "angularaxis": {
            "gridcolor": "white",
            "linecolor": "white",
            "ticks": ""
           },
           "bgcolor": "#E5ECF6",
           "radialaxis": {
            "gridcolor": "white",
            "linecolor": "white",
            "ticks": ""
           }
          },
          "scene": {
           "xaxis": {
            "backgroundcolor": "#E5ECF6",
            "gridcolor": "white",
            "gridwidth": 2,
            "linecolor": "white",
            "showbackground": true,
            "ticks": "",
            "zerolinecolor": "white"
           },
           "yaxis": {
            "backgroundcolor": "#E5ECF6",
            "gridcolor": "white",
            "gridwidth": 2,
            "linecolor": "white",
            "showbackground": true,
            "ticks": "",
            "zerolinecolor": "white"
           },
           "zaxis": {
            "backgroundcolor": "#E5ECF6",
            "gridcolor": "white",
            "gridwidth": 2,
            "linecolor": "white",
            "showbackground": true,
            "ticks": "",
            "zerolinecolor": "white"
           }
          },
          "shapedefaults": {
           "line": {
            "color": "#2a3f5f"
           }
          },
          "ternary": {
           "aaxis": {
            "gridcolor": "white",
            "linecolor": "white",
            "ticks": ""
           },
           "baxis": {
            "gridcolor": "white",
            "linecolor": "white",
            "ticks": ""
           },
           "bgcolor": "#E5ECF6",
           "caxis": {
            "gridcolor": "white",
            "linecolor": "white",
            "ticks": ""
           }
          },
          "title": {
           "x": 0.05
          },
          "xaxis": {
           "automargin": true,
           "gridcolor": "white",
           "linecolor": "white",
           "ticks": "",
           "title": {
            "standoff": 15
           },
           "zerolinecolor": "white",
           "zerolinewidth": 2
          },
          "yaxis": {
           "automargin": true,
           "gridcolor": "white",
           "linecolor": "white",
           "ticks": "",
           "title": {
            "standoff": 15
           },
           "zerolinecolor": "white",
           "zerolinewidth": 2
          }
         }
        }
       }
      }
     },
     "metadata": {},
     "output_type": "display_data"
    }
   ],
   "source": [
    "fig = go.Figure()\n",
    "\n",
    "for i, (chunk, time_chunk) in enumerate(zip(accel_chunks, time_chunks)):\n",
    "    fig.add_scatter(\n",
    "        x=time_chunk,\n",
    "        y=chunk,\n",
    "        name=f\"acceleration chunk {i}\",\n",
    "        mode=\"lines\",\n",
    "    )\n",
    "\n",
    "fig.show()\n"
   ]
  },
  {
   "cell_type": "code",
   "execution_count": 135,
   "metadata": {},
   "outputs": [],
   "source": [
    "from sklearn.metrics import r2_score\n",
    "from sklearn.metrics import mean_squared_error\n",
    "from src.lowess import lowess\n",
    "\n",
    "\n",
    "def get_xy(\n",
    "    df,\n",
    "):\n",
    "    x = (df.dt - df.dt.min()).dt.total_seconds()\n",
    "    y = df[\"f32_velocityInDir_mps\"]\n",
    "    a = y < 0.1\n",
    "    zero_sum = a.cumsum() - a.cumsum().where(~a).ffill().fillna(0).astype(int)\n",
    "    slicer = (zero_sum < 2) | (zero_sum.shift(1).fillna(1) > 0)\n",
    "    return x.loc[slicer].values, y.loc[slicer].values.astype(float)\n",
    "\n",
    "\n",
    "def get_lowess(x, y):\n",
    "    return lowess(x=x, y=y, f=1 / 5, n_iter=1)\n",
    "\n",
    "\n",
    "def get_acceleration(x, y):\n",
    "    return np.gradient(y, x)\n",
    "\n",
    "\n",
    "def get_splits(accel):\n",
    "    # find consecutive accel/decel\n",
    "    return np.where(np.diff(np.signbit(accel)))\n",
    "\n",
    "\n",
    "def split_array(array, indices):\n",
    "    return np.split(array, indices[0] + 1)\n",
    "\n",
    "\n",
    "\n",
    "def get_true_acceleration_chunks(\n",
    "    x,\n",
    "    y,\n",
    "):\n",
    "    accel = get_acceleration(x, y)\n",
    "    splits = get_splits(accel)\n",
    "    times = split_array(x, splits)\n",
    "    speed = split_array(y, splits)\n",
    "    accel = split_array(accel, splits)\n",
    "    for return_times, return_accel, speed in zip(times, accel, speed):\n",
    "        time_diff = return_times[-1] - return_times[0]\n",
    "        yield return_times[0], return_times[\n",
    "            -1\n",
    "        ], return_accel.mean(), time_diff, speed.mean(), 1, 1\n",
    "\n",
    "\n",
    "def get_lowess_acceleration_chunks(\n",
    "    x,\n",
    "    y,\n",
    "):\n",
    "    lowess_y = get_lowess(x, y)\n",
    "    lowess_y[lowess_y < 0] = 0\n",
    "    accel = get_acceleration(x, lowess_y)\n",
    "    splits = get_splits(accel)\n",
    "    times = split_array(x, splits)\n",
    "    speed = split_array(lowess_y, splits)\n",
    "    accel = split_array(accel, splits)\n",
    "    for return_times, return_accel, speed in zip(times, accel, speed):\n",
    "        time_diff = return_times[-1] - return_times[0]\n",
    "        yield return_times[0], return_times[\n",
    "            -1\n",
    "        ], return_accel.mean(), time_diff, speed.mean(), 1, 1\n",
    "\n",
    "\n",
    "def get_pwlf_acceleration_chunks(\n",
    "    x,\n",
    "    y,\n",
    "):\n",
    "    pwlf_model = pwlf.PiecewiseLinFit(x, y)\n",
    "    breaks = pwlf_model.fit(5)\n",
    "    slopes = pwlf_model.calc_slopes()\n",
    "    yHat = pwlf_model.predict(x)\n",
    "    for i, (b0, b1) in enumerate(\n",
    "        zip(\n",
    "            breaks[:-1],\n",
    "            breaks[1:],\n",
    "        )\n",
    "    ):\n",
    "        slicer = (x >= b0) & (x < b1)\n",
    "        x_sliced = x[slicer]\n",
    "        if len(x_sliced) < 3:\n",
    "            continue\n",
    "        yHat_break = yHat[slicer]\n",
    "        yAct_break = y[slicer]\n",
    "        r2 = r2_score(yAct_break, yHat_break)\n",
    "        mse = mean_squared_error(\n",
    "            yAct_break,\n",
    "            yHat_break,\n",
    "        )\n",
    "        yield b0, b1, slopes[i], b1 - b0, yHat_break.mean(), r2, mse\n"
   ]
  },
  {
   "cell_type": "code",
   "execution_count": 136,
   "metadata": {},
   "outputs": [
    {
     "name": "stderr",
     "output_type": "stream",
     "text": [
      "100%|██████████| 4405/4405 [00:14<00:00, 300.82it/s]\n"
     ]
    }
   ],
   "source": [
    "from tqdm import tqdm\n",
    "\n",
    "error_vehicle_ids = []\n",
    "vehicle_accel = []\n",
    "for g, veh in tqdm(\n",
    "    veh_df.groupby(\"ui32_objectID\"), total=len(veh_df.ui32_objectID.unique())\n",
    "):\n",
    "    x, y = get_xy(veh)\n",
    "    if len(x) < 3:\n",
    "        continue\n",
    "    try:\n",
    "        vehicle_accel.extend(\n",
    "            {\n",
    "                \"vehicle_id\": g,\n",
    "                \"start\": start,\n",
    "                \"end\": end,\n",
    "                \"accel\": accel,\n",
    "                \"time_diff\": time_diff,\n",
    "                \"speed\": speed,\n",
    "                \"r2\": r2,\n",
    "                \"mse\": mse,\n",
    "            }\n",
    "            for start, end, accel, time_diff, speed, r2, mse in get_lowess_acceleration_chunks(\n",
    "                x, y\n",
    "            )\n",
    "        )\n",
    "    except np.linalg.LinAlgError:\n",
    "        error_vehicle_ids.append(g)\n",
    "        break\n",
    "\n",
    "    # for start, end, accel, time_diff, speed, r2, mse in get_pwlf_acceleration_chunks(x, y):\n",
    "    #     print(f\"start: {start:.3f} end: {end:.3f} accel: {accel:.3f} m/s^2 time: {time_diff:.3f} s speed: {speed:.3f} m/s r2: {r2:.3f} mse: {mse:.3f}\n"
   ]
  },
  {
   "cell_type": "code",
   "execution_count": 137,
   "metadata": {},
   "outputs": [],
   "source": [
    "lowess_method = pd.DataFrame(vehicle_accel)\n",
    "\n",
    "lowess_method.to_parquet(ROOT / \"data\" / \"2023-01-13\" / \"lowess_method.parquet\")"
   ]
  },
  {
   "cell_type": "code",
   "execution_count": 138,
   "metadata": {},
   "outputs": [],
   "source": [
    "cruise_thresh = 0.1\n",
    "\n",
    "lowess_method[\"type\"] = np.where(\n",
    "    lowess_method[\"accel\"] > cruise_thresh, \"accel\", \"\"\n",
    ")\n",
    "lowess_method[\"type\"] = np.where(\n",
    "    lowess_method[\"accel\"] < -1 * cruise_thresh, \"decel\", lowess_method[\"type\"]\n",
    ")\n",
    "\n",
    "lowess_average = lowess_method.loc[(lowess_method['type'] == \"accel\") & (lowess_method['time_diff'] >= 3)].groupby([\"vehicle_id\", \"type\"]).apply(\n",
    "    lambda x: np.average(x['accel'], weights=x['time_diff'])\n",
    ")"
   ]
  },
  {
   "cell_type": "code",
   "execution_count": 139,
   "metadata": {},
   "outputs": [
    {
     "data": {
      "text/plain": [
       "count    1641.000000\n",
       "mean        0.490864\n",
       "std         0.240422\n",
       "min         0.101690\n",
       "25%         0.327036\n",
       "50%         0.443974\n",
       "75%         0.598256\n",
       "max         2.313786\n",
       "dtype: float64"
      ]
     },
     "execution_count": 139,
     "metadata": {},
     "output_type": "execute_result"
    }
   ],
   "source": [
    "lowess_average.describe()"
   ]
  },
  {
   "cell_type": "code",
   "execution_count": 129,
   "metadata": {},
   "outputs": [
    {
     "data": {
      "text/plain": [
       "count    1598.000000\n",
       "mean        0.509763\n",
       "std         0.246496\n",
       "min         0.101661\n",
       "25%         0.341993\n",
       "50%         0.455102\n",
       "75%         0.614352\n",
       "max         2.313786\n",
       "dtype: float64"
      ]
     },
     "execution_count": 129,
     "metadata": {},
     "output_type": "execute_result"
    }
   ],
   "source": [
    "lowess_average.describe()"
   ]
  },
  {
   "cell_type": "markdown",
   "metadata": {},
   "source": [
    "### Using True Acceleration"
   ]
  },
  {
   "cell_type": "code",
   "execution_count": 94,
   "metadata": {},
   "outputs": [
    {
     "name": "stderr",
     "output_type": "stream",
     "text": [
      "100%|██████████| 4405/4405 [00:12<00:00, 339.49it/s]\n"
     ]
    }
   ],
   "source": [
    "from tqdm import tqdm\n",
    "\n",
    "error_vehicle_ids = []\n",
    "vehicle_accel = []\n",
    "for g, veh in tqdm(\n",
    "    veh_df.groupby(\"ui32_objectID\"), total=len(veh_df.ui32_objectID.unique())\n",
    "):\n",
    "    x, y = get_xy(veh)\n",
    "    if len(x) < 3:\n",
    "        continue\n",
    "    try:\n",
    "        vehicle_accel.extend(\n",
    "            {\n",
    "                \"vehicle_id\": g,\n",
    "                \"start\": start,\n",
    "                \"end\": end,\n",
    "                \"accel\": accel,\n",
    "                \"time_diff\": time_diff,\n",
    "                \"speed\": speed,\n",
    "                \"r2\": r2,\n",
    "                \"mse\": mse,\n",
    "            }\n",
    "            for start, end, accel, time_diff, speed, r2, mse in get_true_acceleration_chunks(\n",
    "                x, y\n",
    "            )\n",
    "        )\n",
    "    except np.linalg.LinAlgError:\n",
    "        error_vehicle_ids.append(g)\n",
    "        break\n",
    "\n",
    "    # for start, end, accel, time_diff, speed, r2, mse in get_pwlf_acceleration_chunks(x, y):\n",
    "    #     print(f\"start: {start:.3f} end: {end:.3f} accel: {accel:.3f} m/s^2 time: {time_diff:.3f} s speed: {speed:.3f} m/s r2: {r2:.3f} mse: {mse:.3f}\n"
   ]
  },
  {
   "cell_type": "code",
   "execution_count": 95,
   "metadata": {},
   "outputs": [],
   "source": [
    "true_method = pd.DataFrame(vehicle_accel)\n",
    "\n",
    "# true_method.to_parquet(ROOT / \"data\" / \"2023-01-13\" / \"lowess_method.parquet\")"
   ]
  },
  {
   "cell_type": "code",
   "execution_count": 98,
   "metadata": {},
   "outputs": [],
   "source": [
    "cruise_thresh = 0.1\n",
    "\n",
    "true_method[\"type\"] = np.where(\n",
    "    true_method[\"accel\"] > cruise_thresh, \"accel\", \"\"\n",
    ")\n",
    "true_method[\"type\"] = np.where(\n",
    "    true_method[\"accel\"] < -1 * cruise_thresh, \"decel\", true_method[\"type\"]\n",
    ")\n",
    "\n",
    "true_method = true_method.loc[true_method['accel'].abs() < 6]\n",
    "\n",
    "true_average = true_method.loc[(true_method['type'] == \"accel\") & (true_method['time_diff'] >= 3)].groupby([\"vehicle_id\", \"type\"]).apply(\n",
    "    lambda x: np.average(x['accel'], weights=x['time_diff'])\n",
    ")"
   ]
  },
  {
   "cell_type": "code",
   "execution_count": 99,
   "metadata": {},
   "outputs": [
    {
     "data": {
      "text/plain": [
       "count    350.000000\n",
       "mean       0.937660\n",
       "std        0.665432\n",
       "min        0.100453\n",
       "25%        0.508646\n",
       "50%        0.782659\n",
       "75%        1.188680\n",
       "max        5.018930\n",
       "dtype: float64"
      ]
     },
     "execution_count": 99,
     "metadata": {},
     "output_type": "execute_result"
    }
   ],
   "source": [
    "true_average.describe()"
   ]
  },
  {
   "cell_type": "code",
   "execution_count": 100,
   "metadata": {},
   "outputs": [
    {
     "data": {
      "text/plain": [
       "<AxesSubplot: >"
      ]
     },
     "execution_count": 100,
     "metadata": {},
     "output_type": "execute_result"
    },
    {
     "data": {
      "image/png": "[encoded data removed]",
      "text/plain": [
       "<Figure size 640x480 with 1 Axes>"
      ]
     },
     "metadata": {},
     "output_type": "display_data"
    }
   ],
   "source": [
    "true_average.hist()"
   ]
  },
  {
   "attachments": {},
   "cell_type": "markdown",
   "metadata": {},
   "source": [
    "### Using Pwlf"
   ]
  },
  {
   "cell_type": "code",
   "execution_count": 348,
   "metadata": {},
   "outputs": [
    {
     "name": "stderr",
     "output_type": "stream",
     "text": [
      "process: 100%|██████████| 4405/4405 [28:26<00:00,  2.58it/s] \n"
     ]
    }
   ],
   "source": [
    "from tqdm import tqdm\n",
    "from tqdm_joblib import tqdm_joblib\n",
    "from joblib import Parallel, delayed\n",
    "\n",
    "df = veh_df\n",
    "id_col = \"ui32_objectID\"\n",
    "time_col = \"dt\"\n",
    "speed_col = \"f32_velocityInDir_mps\"\n",
    "\n",
    "\n",
    "def process_trajectory(\n",
    "    group_name,\n",
    "    group,\n",
    "):\n",
    "    x, y = get_xy(group)\n",
    "    if len(x) < 3:\n",
    "        return []\n",
    "    try:\n",
    "        return [\n",
    "            {\n",
    "                \"vehicle_id\": group_name,\n",
    "                \"start\": start,\n",
    "                \"end\": end,\n",
    "                \"accel\": accel,\n",
    "                \"time_diff\": time_diff,\n",
    "                \"speed\": speed,\n",
    "                \"r2\": r2,\n",
    "                \"mse\": mse,\n",
    "            }\n",
    "            for start, end, accel, time_diff, speed, r2, mse in get_pwlf_acceleration_chunks(\n",
    "                x, y\n",
    "            )\n",
    "        ]\n",
    "    except np.linalg.LinAlgError:\n",
    "        return []\n",
    "\n",
    "\n",
    "with tqdm_joblib(desc=\"process\", total=df[id_col].nunique()) as progress_bar:\n",
    "    pwlf_accels = Parallel(n_jobs=8)(\n",
    "        delayed(process_trajectory)(\n",
    "            *group,\n",
    "        )\n",
    "        for group in df.groupby(id_col)\n",
    "    )\n"
   ]
  },
  {
   "cell_type": "code",
   "execution_count": 37,
   "metadata": {},
   "outputs": [
    {
     "ename": "NameError",
     "evalue": "name 'pwlf_accels' is not defined",
     "output_type": "error",
     "traceback": [
      "\u001b[0;31m---------------------------------------------------------------------------\u001b[0m",
      "\u001b[0;31mNameError\u001b[0m                                 Traceback (most recent call last)",
      "Cell \u001b[0;32mIn[37], line 1\u001b[0m\n\u001b[0;32m----> 1\u001b[0m pwlf_accels \u001b[39m=\u001b[39m [item \u001b[39mfor\u001b[39;00m sublist \u001b[39min\u001b[39;00m pwlf_accels \u001b[39mfor\u001b[39;00m item \u001b[39min\u001b[39;00m sublist]\n\u001b[1;32m      2\u001b[0m pwlf_method \u001b[39m=\u001b[39m pd\u001b[39m.\u001b[39mDataFrame(pwlf_accels)\n",
      "\u001b[0;31mNameError\u001b[0m: name 'pwlf_accels' is not defined"
     ]
    }
   ],
   "source": [
    "pwlf_accels = [item for sublist in pwlf_accels for item in sublist]\n",
    "pwlf_method = pd.DataFrame(pwlf_accels)\n"
   ]
  },
  {
   "cell_type": "code",
   "execution_count": 101,
   "metadata": {},
   "outputs": [],
   "source": [
    "# pwlf_method.to_parquet(ROOT / \"data\" / \"2023-01-13\" / \"pwlf_method.parquet\")\n",
    "pwlf_method = pd.read_parquet(ROOT / \"data\" / \"2023-01-13\" / \"pwlf_method.parquet\")"
   ]
  },
  {
   "attachments": {},
   "cell_type": "markdown",
   "metadata": {},
   "source": [
    "### Analyzing the PWLF vs. Lowess"
   ]
  },
  {
   "cell_type": "code",
   "execution_count": 130,
   "metadata": {},
   "outputs": [
    {
     "data": {
      "text/plain": [
       "<matplotlib.legend.Legend at 0x11235acd0>"
      ]
     },
     "execution_count": 130,
     "metadata": {},
     "output_type": "execute_result"
    },
    {
     "data": {
      "image/png": "[encoded data removed]",
      "text/plain": [
       "<Figure size 500x500 with 1 Axes>"
      ]
     },
     "metadata": {},
     "output_type": "display_data"
    }
   ],
   "source": [
    "fig = plt.figure(figsize=(5, 5))\n",
    "# create a histogram plot of accel\n",
    "ax = fig.add_subplot(111)\n",
    "ax.hist(\n",
    "    lowess_method.accel,\n",
    "    bins=100,\n",
    "    range=(-5, 5),\n",
    "    color=\"blue\",\n",
    "    alpha=0.5,\n",
    "    label=\"lowess\",\n",
    "    density=True,\n",
    ")\n",
    "\n",
    "ax.hist(\n",
    "    pwlf_method.accel,\n",
    "    bins=100,\n",
    "    range=(-5, 5),\n",
    "    color=\"red\",\n",
    "    alpha=0.5,\n",
    "    label=\"pwlf\",\n",
    "    density=True,\n",
    ")\n",
    "\n",
    "ax.set_xlabel(\"Acceleration (m/s^2)\")\n",
    "ax.set_ylabel(\"Density\")\n",
    "ax.set_title(\"Acceleration Histogram\")\n",
    "ax.legend()"
   ]
  },
  {
   "cell_type": "code",
   "execution_count": 131,
   "metadata": {},
   "outputs": [
    {
     "data": {
      "text/plain": [
       "<matplotlib.legend.Legend at 0x111054f40>"
      ]
     },
     "execution_count": 131,
     "metadata": {},
     "output_type": "execute_result"
    },
    {
     "data": {
      "image/png": "[encoded data removed]",
      "text/plain": [
       "<Figure size 500x500 with 2 Axes>"
      ]
     },
     "metadata": {},
     "output_type": "display_data"
    }
   ],
   "source": [
    "threshold = 0.1\n",
    "\n",
    "pwlf_accel = pwlf_method.loc[(pwlf_method[\"accel\"] > threshold) & (pwlf_method[\"r2\"] > 0.9)]\n",
    "\n",
    "lowess_accel = lowess_method.loc[\n",
    "    (lowess_method[\"accel\"] > threshold)\n",
    "]\n",
    "\n",
    "# create a histogram of the acceleration values\n",
    "fig, ax = plt.subplots(figsize=(5, 5))\n",
    "ax.hist(\n",
    "    pwlf_accel[\"accel\"],\n",
    "    bins=100,\n",
    "    label=\"pwlf\",\n",
    "    alpha=0.5,\n",
    "    density=True,\n",
    "    color=\"red\",\n",
    ")\n",
    "ax.hist(\n",
    "    lowess_accel[\"accel\"],\n",
    "    bins=100,\n",
    "    label=\"lowess\",\n",
    "    alpha=0.5,\n",
    "    density=True,\n",
    "    color=\"blue\",\n",
    ")\n",
    "ax.hist(\n",
    "    true_method.loc[true_method[\"type\"] == \"accel\"][\"accel\"],\n",
    "    bins=100,\n",
    "    label=\"true\",\n",
    "    alpha=0.5,\n",
    "    density=True,\n",
    "    color=\"green\",\n",
    ")\n",
    "\n",
    "\n",
    "ax.set_xlabel(\"Acceleration (m/s^2)\")\n",
    "\n",
    "# create a ecdf of the acceleration values on the right y-axis\n",
    "ax2 = ax.twinx()\n",
    "ax2.scatter(\n",
    "    np.sort(pwlf_accel[\"accel\"].values),\n",
    "    np.linspace(0, 1, len(pwlf_accel[\"accel\"].values)),\n",
    "    label=\"pwlf\",\n",
    "    alpha=1,\n",
    "    s=1,\n",
    "    color=\"red\",\n",
    ")\n",
    "\n",
    "ax2.scatter(\n",
    "    np.sort(lowess_accel[\"accel\"].values),\n",
    "    np.linspace(0, 1, len(lowess_accel[\"accel\"].values)),\n",
    "    label=\"lowess\",\n",
    "    alpha=1,\n",
    "    # make markers smaller\n",
    "    s=1,\n",
    "    color=\"blue\",\n",
    ")\n",
    "\n",
    "ax2.scatter(\n",
    "    np.sort(true_method.loc[true_method[\"type\"] == \"accel\"][\"accel\"].values),\n",
    "    np.linspace(0, 1, len(true_method.loc[true_method[\"type\"] == \"accel\"][\"accel\"].values)),\n",
    "    label=\"true\",\n",
    "    alpha=1,\n",
    "    # make markers smaller\n",
    "    s=1,\n",
    "    color=\"green\",\n",
    ")\n",
    "\n",
    "\n",
    "# set x-axis limits\n",
    "ax.set_xlim(0, 5)\n",
    "\n",
    "\n",
    "# add a legend\n",
    "ax.legend()\n",
    "\n",
    "# add the mean acceleration to the plot\n",
    "ax.axvline(\n",
    "    pwlf_accel[\"accel\"].mean(),\n",
    "    color=\"red\",\n",
    "    linestyle=\"--\",\n",
    "    label=\"pwlf mean\",\n",
    ")\n",
    "\n",
    "ax.axvline(\n",
    "    lowess_accel[\"accel\"].mean(),\n",
    "    # make the color the same as the histogram\n",
    "    color=\"blue\",\n",
    "    linestyle=\"--\",\n",
    "    label=\"lowess mean\",\n",
    ")\n",
    "\n",
    "ax.axvline(\n",
    "    true_method.loc[true_method[\"type\"] == \"accel\"][\"accel\"].mean(),\n",
    "    # make the color the same as the histogram\n",
    "    color=\"green\",\n",
    "    linestyle=\"--\",\n",
    "    label=\"true mean\",\n",
    ")\n",
    "\n",
    "\n",
    "# add the lines to the legend\n",
    "ax.legend()\n",
    "\n"
   ]
  },
  {
   "cell_type": "code",
   "execution_count": 376,
   "metadata": {},
   "outputs": [],
   "source": [
    "lowess_method = lowess_method.loc[lowess_method.time_diff > 0].copy()"
   ]
  },
  {
   "cell_type": "code",
   "execution_count": 132,
   "metadata": {},
   "outputs": [],
   "source": [
    "# grouped pwlf acceleration\n",
    "# mark acceleration values that are greater than 0.2 m/s^2 as type == acceleration\n",
    "# mark acceleration values that are less than -0.2 m/s^2 as type == deceleration\n",
    "pwlf_method[\"type\"] = np.where(pwlf_method[\"accel\"] > 0.2, \"accel\", \"\")\n",
    "pwlf_method[\"type\"] = np.where(pwlf_method[\"accel\"] < -0.2, \"decel\", pwlf_method[\"type\"])\n",
    "lowess_method[\"type\"] = np.where(\n",
    "    lowess_method[\"accel\"] > 0.2, \"accel\", \"\"\n",
    ")\n",
    "lowess_method[\"type\"] = np.where(\n",
    "    lowess_method[\"accel\"] < -0.2, \"decel\", lowess_method[\"type\"]\n",
    ")\n",
    "\n",
    "avg_accel = pwlf_method.loc[(pwlf_method['type'] == \"accel\") & (pwlf_method['time_diff'] >= 3)].groupby([\"vehicle_id\", \"type\"]).apply(\n",
    "    lambda x: np.average(x['accel'], weights=x['time_diff'])\n",
    ")\n",
    "\n",
    "lowess_average = lowess_method.loc[(lowess_method['type'] == \"accel\") & (lowess_method['time_diff'] >= 3)].groupby([\"vehicle_id\", \"type\"]).apply(\n",
    "    lambda x: np.average(x['accel'], weights=x['time_diff'])\n",
    ")\n",
    "\n",
    "true_average = true_method.loc[(true_method['type'] == \"accel\") & (true_method['time_diff'] >= 1)].groupby([\"vehicle_id\", \"type\"]).apply(\n",
    "    lambda x: np.average(x['accel'], weights=x['time_diff'])\n",
    ")"
   ]
  },
  {
   "cell_type": "code",
   "execution_count": 133,
   "metadata": {},
   "outputs": [
    {
     "data": {
      "text/plain": [
       "vehicle_id  type \n",
       "35270       accel    0.416321\n",
       "35273       accel    0.610717\n",
       "35278       accel    0.624502\n",
       "35391       accel    0.319918\n",
       "35410       accel    0.323924\n",
       "                       ...   \n",
       "64415       accel    0.315563\n",
       "64416       accel    0.260517\n",
       "64424       accel    0.309093\n",
       "64430       accel    0.391910\n",
       "64451       accel    0.319290\n",
       "Length: 1547, dtype: float64"
      ]
     },
     "execution_count": 133,
     "metadata": {},
     "output_type": "execute_result"
    }
   ],
   "source": [
    "lowess_average"
   ]
  },
  {
   "cell_type": "code",
   "execution_count": 134,
   "metadata": {},
   "outputs": [
    {
     "data": {
      "text/plain": [
       "<matplotlib.legend.Legend at 0x112f3feb0>"
      ]
     },
     "execution_count": 134,
     "metadata": {},
     "output_type": "execute_result"
    },
    {
     "data": {
      "image/png": "[encoded data removed]",
      "text/plain": [
       "<Figure size 500x500 with 2 Axes>"
      ]
     },
     "metadata": {},
     "output_type": "display_data"
    }
   ],
   "source": [
    "# pwlf_accel = pwlf_method.loc[(pwlf_method[\"accel\"] > threshold) & (pwlf_method[\"r2\"] > 0.9) & (pwlf_method[\"time_diff\"] > 1.5)]\n",
    "\n",
    "# create a histogram of the acceleration values\n",
    "fig, ax = plt.subplots(figsize=(5, 5))\n",
    "ax.hist(\n",
    "    # pwlf_accel[\"accel\"],\n",
    "    avg_accel,\n",
    "    bins=100,\n",
    "    label=\"pwlf\",\n",
    "    alpha=0.5,\n",
    "    density=True,\n",
    "    color=\"red\",\n",
    ")\n",
    "ax.hist(\n",
    "    lowess_average,\n",
    "    bins=100,\n",
    "    label=\"lowess\",\n",
    "    alpha=0.5,\n",
    "    density=True,\n",
    "    color=\"blue\",\n",
    ")\n",
    "\n",
    "ax.hist(\n",
    "    true_average,\n",
    "    bins=100,\n",
    "    label=\"true\",\n",
    "    alpha=0.5,\n",
    "    density=True,\n",
    "    color=\"green\",\n",
    ")\n",
    "\n",
    "ax.set_xlabel(\"Acceleration (m/s^2)\")\n",
    "\n",
    "# create a ecdf of the acceleration values on the right y-axis\n",
    "ax2 = ax.twinx()\n",
    "ax2.scatter(\n",
    "    np.sort(avg_accel.values),\n",
    "    np.linspace(0, 1, len(avg_accel.values)),\n",
    "    label=\"pwlf\",\n",
    "    alpha=1,\n",
    "    s=1,\n",
    "    color=\"red\",\n",
    ")\n",
    "\n",
    "ax2.scatter(\n",
    "    np.sort(lowess_average.values),\n",
    "    np.linspace(0, 1, len(lowess_average.values)),\n",
    "    label=\"lowess\",\n",
    "    alpha=1,\n",
    "    # make markers smaller\n",
    "    s=1,\n",
    "    color=\"blue\",\n",
    ")\n",
    "\n",
    "ax2.scatter(\n",
    "    np.sort(true_average.values),\n",
    "    np.linspace(0, 1, len(true_average.values)),\n",
    "    label=\"true\",\n",
    "    alpha=1,\n",
    "    # make markers smaller\n",
    "    s=1,\n",
    "    color=\"green\",\n",
    ")\n",
    "\n",
    "# add the mean acceleration to the plot\n",
    "ax.axvline(\n",
    "    avg_accel.mean(),\n",
    "    color=\"red\",\n",
    "    linestyle=\"--\",\n",
    "    label=\"pwlf mean\",\n",
    ")\n",
    "\n",
    "ax.axvline(\n",
    "    lowess_average.mean(),\n",
    "    # make the color the same as the histogram\n",
    "    color=\"blue\",\n",
    "    linestyle=\"--\",\n",
    "    label=\"lowess mean\",\n",
    ")\n",
    "\n",
    "# add the lines to the legend\n",
    "ax.legend()\n",
    "\n",
    "# set x-axis limits\n",
    "ax.set_xlim(0, 3)\n",
    "\n",
    "\n",
    "# add a legend\n",
    "ax.legend()\n"
   ]
  },
  {
   "cell_type": "code",
   "execution_count": 407,
   "metadata": {},
   "outputs": [],
   "source": [
    "# grouped pwlf acceleration\n",
    "# mark acceleration values that are greater than 0.2 m/s^2 as type == acceleration\n",
    "# mark acceleration values that are less than -0.2 m/s^2 as type == deceleration\n",
    "\n",
    "avg_accel = pwlf_method.loc[(pwlf_method['type'] == \"decel\") & (pwlf_method['time_diff'] >= 1)].groupby([\"vehicle_id\", \"type\"]).apply(\n",
    "    lambda x: np.average(x['accel'], weights=x['time_diff'])\n",
    ")\n",
    "\n",
    "lowess_average = lowess_method.loc[(lowess_method['type'] == \"decel\") & (lowess_method['time_diff'] >= 1)].groupby([\"vehicle_id\", \"type\"]).apply(\n",
    "    lambda x: np.average(x['accel'], weights=x['time_diff'])\n",
    ")"
   ]
  },
  {
   "cell_type": "code",
   "execution_count": 408,
   "metadata": {},
   "outputs": [
    {
     "data": {
      "text/plain": [
       "<matplotlib.legend.Legend at 0x2933ae400>"
      ]
     },
     "execution_count": 408,
     "metadata": {},
     "output_type": "execute_result"
    },
    {
     "data": {
      "image/png": "[encoded data removed]",
      "text/plain": [
       "<Figure size 500x500 with 2 Axes>"
      ]
     },
     "metadata": {},
     "output_type": "display_data"
    }
   ],
   "source": [
    "# pwlf_accel = pwlf_method.loc[(pwlf_method[\"accel\"] > threshold) & (pwlf_method[\"r2\"] > 0.9) & (pwlf_method[\"time_diff\"] > 1.5)]\n",
    "\n",
    "# create a histogram of the acceleration values\n",
    "fig, ax = plt.subplots(figsize=(5, 5))\n",
    "ax.hist(\n",
    "    # pwlf_accel[\"accel\"],\n",
    "    avg_accel,\n",
    "    bins=100,\n",
    "    label=\"pwlf\",\n",
    "    alpha=0.5,\n",
    "    density=True,\n",
    "    color=\"red\",\n",
    ")\n",
    "ax.hist(\n",
    "    lowess_average,\n",
    "    bins=100,\n",
    "    label=\"lowess\",\n",
    "    alpha=0.5,\n",
    "    density=True,\n",
    "    color=\"blue\",\n",
    ")\n",
    "ax.set_xlabel(\"Acceleration (m/s^2)\")\n",
    "\n",
    "# create a ecdf of the acceleration values on the right y-axis\n",
    "ax2 = ax.twinx()\n",
    "ax2.scatter(\n",
    "    np.sort(avg_accel.values),\n",
    "    np.linspace(0, 1, len(avg_accel.values)),\n",
    "    label=\"pwlf\",\n",
    "    alpha=1,\n",
    "    s=1,\n",
    "    color=\"red\",\n",
    ")\n",
    "\n",
    "ax2.scatter(\n",
    "    np.sort(lowess_average.values),\n",
    "    np.linspace(0, 1, len(lowess_average.values)),\n",
    "    label=\"lowess\",\n",
    "    alpha=1,\n",
    "    # make markers smaller\n",
    "    s=1,\n",
    "    color=\"blue\",\n",
    ")\n",
    "\n",
    "# add the mean acceleration to the plot\n",
    "ax.axvline(\n",
    "    avg_accel.mean(),\n",
    "    color=\"red\",\n",
    "    linestyle=\"--\",\n",
    "    label=\"pwlf mean\",\n",
    ")\n",
    "\n",
    "ax.axvline(\n",
    "    lowess_average.mean(),\n",
    "    # make the color the same as the histogram\n",
    "    color=\"blue\",\n",
    "    linestyle=\"--\",\n",
    "    label=\"lowess mean\",\n",
    ")\n",
    "\n",
    "# add the lines to the legend\n",
    "ax.legend()\n",
    "\n",
    "# set x-axis limits\n",
    "ax.set_xlim(-4, 0)\n",
    "\n",
    "\n",
    "# add a legend\n",
    "ax.legend()\n"
   ]
  },
  {
   "cell_type": "code",
   "execution_count": 412,
   "metadata": {},
   "outputs": [
    {
     "data": {
      "text/plain": [
       "<matplotlib.legend.Legend at 0x2ca89cf10>"
      ]
     },
     "execution_count": 412,
     "metadata": {},
     "output_type": "execute_result"
    },
    {
     "data": {
      "image/png": "[encoded data removed]",
      "text/plain": [
       "<Figure size 500x500 with 2 Axes>"
      ]
     },
     "metadata": {},
     "output_type": "display_data"
    }
   ],
   "source": [
    "threshold = 0.2\n",
    "\n",
    "pwlf_accel = pwlf_method.loc[(pwlf_method[\"accel\"] < -1 * threshold) & (pwlf_method[\"r2\"] > 0.9)]\n",
    "\n",
    "lowess_accel = lowess_method.loc[\n",
    "    (lowess_method[\"accel\"] < -1 * threshold)\n",
    "    & (lowess_method[\"accel\"] > -5)\n",
    "]\n",
    "\n",
    "# create a histogram of the acceleration values\n",
    "fig, ax = plt.subplots(figsize=(5, 5))\n",
    "ax.hist(\n",
    "    pwlf_accel[\"accel\"],\n",
    "    bins=100,\n",
    "    label=\"pwlf\",\n",
    "    alpha=0.5,\n",
    "    density=True,\n",
    "    color=\"red\",\n",
    ")\n",
    "ax.hist(\n",
    "    lowess_accel[\"accel\"],\n",
    "    bins=100,\n",
    "    label=\"lowess\",\n",
    "    alpha=0.5,\n",
    "    density=True,\n",
    "    color=\"blue\",\n",
    ")\n",
    "ax.set_xlabel(\"Acceleration (m/s^2)\")\n",
    "\n",
    "# create a ecdf of the acceleration values on the right y-axis\n",
    "ax2 = ax.twinx()\n",
    "ax2.scatter(\n",
    "    np.sort(pwlf_accel[\"accel\"].values),\n",
    "    np.linspace(0, 1, len(pwlf_accel[\"accel\"].values)),\n",
    "    label=\"pwlf\",\n",
    "    alpha=1,\n",
    "    s=1,\n",
    "    color=\"red\",\n",
    ")\n",
    "\n",
    "ax2.scatter(\n",
    "    np.sort(lowess_accel[\"accel\"].values),\n",
    "    np.linspace(0, 1, len(lowess_accel[\"accel\"].values)),\n",
    "    label=\"lowess\",\n",
    "    alpha=1,\n",
    "    # make markers smaller\n",
    "    s=1,\n",
    "    color=\"blue\",\n",
    ")\n",
    "\n",
    "\n",
    "# add the mean acceleration to the plot\n",
    "ax.axvline(\n",
    "    pwlf_accel[\"accel\"].mean(),\n",
    "    color=\"red\",\n",
    "    linestyle=\"--\",\n",
    "    label=\"pwlf mean\",\n",
    ")\n",
    "\n",
    "ax.axvline(\n",
    "    lowess_accel[\"accel\"].mean(),\n",
    "    # make the color the same as the histogram\n",
    "    color=\"blue\",\n",
    "    linestyle=\"--\",\n",
    "    label=\"lowess mean\",\n",
    ")\n",
    "\n",
    "# set x-axis limits\n",
    "ax.set_xlim(-5, 0)\n",
    "\n",
    "\n",
    "# add a legend\n",
    "ax.legend()\n",
    "\n"
   ]
  },
  {
   "cell_type": "code",
   "execution_count": null,
   "metadata": {},
   "outputs": [],
   "source": []
  },
  {
   "cell_type": "code",
   "execution_count": 193,
   "metadata": {},
   "outputs": [
    {
     "data": {
      "application/vnd.plotly.v1+json": {
       "config": {
        "plotlyServerURL": "https://plot.ly"
       },
       "data": [
        {
         "name": "East thru",
         "type": "scatter",
         "x": [
          -8.877097207026607,
          -108.29344369152943,
          -113.15594299834689,
          -13.995609594468212,
          -8.877097207026607
         ],
         "y": [
          32.76388150710515,
          130.15170340526666,
          125.15789075349689,
          27.3316112634402,
          32.76388150710515
         ]
        },
        {
         "name": "East left",
         "type": "scatter",
         "x": [
          -8.667336450973837,
          -6.343256323014957,
          -72.1617212721145,
          -106.9542928372443,
          -108.30544902561753,
          -8.667336450973837
         ],
         "y": [
          32.67452863804296,
          35.08179084168104,
          99.25790234205347,
          131.53555963821879,
          130.261243529424,
          32.67452863804296
         ]
        },
        {
         "name": "East dep",
         "type": "scatter",
         "x": [
          -88.58592974120991,
          -96.37981559313792,
          -3.6755315639356514,
          4.418127109364786,
          -88.58592974120991
         ],
         "y": [
          140.02725753910602,
          132.12566997494264,
          40.8836490168289,
          49.32324439462982,
          140.02725753910602
         ]
        },
        {
         "name": "South left",
         "type": "scatter",
         "x": [
          45.11548123020266,
          55.714247546873544,
          64.84631337256896,
          76.50288640158357,
          74.45876710131571,
          65.90400720200105,
          50.879165370895315,
          43.334015376310546,
          14.714784913984737,
          18.111068960440722,
          45.11548123020266
         ],
         "y": [
          66.47069749758776,
          77.41832296512106,
          85.56448743753222,
          95.20412676711724,
          99.45539316242201,
          93.34374471263718,
          80.69006501639007,
          72.43318075586289,
          39.899970233384245,
          36.84569970297225,
          66.47069749758776
         ]
        },
        {
         "name": "South right",
         "type": "scatter",
         "x": [
          41.453139716558326,
          22.25860340045135,
          12.645023088740883,
          3.345611801060615,
          4.673678224452076,
          17.39339039731172,
          27.098100699139888,
          44.25762897386922,
          41.453139716558326
         ],
         "y": [
          76.33028605497228,
          59.62011323169522,
          56.73336218267476,
          56.37995212489539,
          48.11365732236782,
          50.960444113709734,
          55.06547783039192,
          74.04774490896429,
          76.33028605497228
         ]
        },
        {
         "name": "South dep",
         "type": "scatter",
         "x": [
          18.302116693914588,
          23.17091331659547,
          46.98173877231776,
          62.16115457411645,
          59.61044995683753,
          43.14695374895132,
          18.302116693914588
         ],
         "y": [
          35.212354076045685,
          30.563580308596723,
          59.16618409795698,
          74.17816419669923,
          77.79953594368095,
          62.486386057962754,
          35.212354076045685
         ]
        },
        {
         "type": "scatter",
         "x": [
          -111.96891021728516,
          -110.64181518554688,
          -109.34380340576172,
          -108.06654357910156,
          -106.79076385498047,
          -105.82389068603516,
          -104.67682647705078,
          -104.08940124511719,
          -101.91674041748047,
          -100.61549377441406,
          -99.96775817871094,
          -98.62632751464844,
          -97.41624450683594,
          -95.55816650390625,
          -94.06649017333984,
          -93.30805206298828,
          -91.92293548583984,
          -90.71583557128906,
          -89.3466796875,
          -87.47613525390625,
          -85.987548828125,
          -85.57518768310547,
          -84.28034973144531,
          -83.1463851928711,
          -82.6338119506836,
          -81.56147003173828,
          -79.1891098022461,
          -78.5796890258789,
          -77.35833740234375,
          -76.24595642089844,
          -74.71118927001953,
          -73.8192367553711,
          -73.42516326904297,
          -72.41132354736328,
          -70.54100036621094,
          -69.29975128173828,
          -68.40906524658203,
          -67.24166107177734,
          -65.72897338867188,
          -64.27070617675781,
          -63.73114776611328,
          -62.760826110839844,
          -61.31028366088867,
          -60.6364631652832,
          -59.6302490234375,
          -59.18434524536133,
          -57.51742172241211,
          -56.64952087402344,
          -56.21852111816406,
          -55.33058547973633,
          -53.68648910522461,
          -52.569854736328125,
          -51.88048553466797,
          -51.1867561340332,
          -50.534156799316406,
          -50.0941276550293,
          -48.91061019897461,
          -47.42449188232422,
          -47.128604888916016,
          -45.86682891845703,
          -45.670631408691406,
          -44.91010665893555,
          -44.20994186401367,
          -43.86429214477539,
          -42.544219970703125,
          -41.86894607543945,
          -41.50469207763672,
          -40.782142639160156,
          -39.60793685913086,
          -39.31715393066406,
          -38.56932830810547,
          -37.43741989135742,
          -37.01165008544922,
          -36.230281829833984,
          -35.16279220581055,
          -34.647682189941406,
          -33.83125305175781,
          -32.69339370727539,
          -32.69339370727539,
          -31.768476486206055,
          -31.56601905822754,
          -30.796276092529297,
          -29.906352996826172,
          -29.2453556060791,
          -28.94339370727539,
          -28.366975784301758,
          -27.920368194580078,
          -27.718852996826172,
          -26.422286987304688,
          -25.368587493896484,
          -24.429346084594727,
          -23.921886444091797,
          -23.74666404724121,
          -22.938220977783203,
          -22.525489807128906,
          -22.226282119750977,
          -21.451452255249023,
          -21.323375701904297,
          -20.831575393676758,
          -20.598339080810547,
          -20.385114669799805,
          -20.110204696655273,
          -19.42182159423828,
          -19.105012893676758,
          -18.429584503173828,
          -18.236621856689453,
          -17.909076690673828,
          -17.824146270751953,
          -17.42085075378418,
          -17.024965286254883,
          -16.79967498779297,
          -16.490833282470703,
          -16.118881225585938,
          -15.959237098693848,
          -15.904234886169434,
          -15.604172706604004,
          -15.476421356201172,
          -15.486194610595703,
          -15.528553009033203,
          -15.111428260803223,
          -14.999395370483398,
          -14.576583862304688,
          -14.385838508605957,
          -14.475079536437988,
          -14.779278755187988,
          -14.953815460205078,
          -15.42075252532959,
          -15.477883338928223,
          -15.561830520629883,
          -15.561830520629883,
          -15.561830520629883,
          -15.561830520629883,
          -15.561830520629883,
          -15.561830520629883,
          -15.561830520629883,
          -16.797439575195312,
          -16.797439575195312,
          -16.797439575195312,
          -16.797439575195312,
          -16.797439575195312,
          -16.797439575195312,
          -16.797439575195312,
          -16.797439575195312,
          -16.797439575195312,
          -16.797439575195312,
          -16.797439575195312,
          -16.797439575195312,
          -16.797439575195312,
          -16.797439575195312,
          -16.797439575195312,
          -16.797439575195312,
          -16.797439575195312,
          -16.797439575195312,
          -16.797439575195312,
          -16.797439575195312,
          -16.797439575195312,
          -16.797439575195312,
          -16.797439575195312,
          -16.797439575195312,
          -16.797439575195312,
          -16.797439575195312,
          -16.797439575195312,
          -16.797439575195312,
          -16.797439575195312,
          -16.797439575195312,
          -16.797439575195312,
          -16.797439575195312,
          -16.797439575195312,
          -16.797439575195312,
          -16.797439575195312,
          -16.797439575195312,
          -16.797439575195312,
          -16.797439575195312,
          -16.797439575195312,
          -16.797439575195312,
          -16.797439575195312,
          -16.797439575195312,
          -16.797439575195312,
          -16.797439575195312,
          -16.797439575195312,
          -16.797439575195312,
          -16.797439575195312,
          -16.797439575195312,
          -16.797439575195312,
          -16.797439575195312,
          -16.797439575195312,
          -16.797439575195312,
          -16.797439575195312,
          -16.797439575195312,
          -16.797439575195312,
          -16.797439575195312,
          -16.797439575195312,
          -16.797439575195312,
          -16.797439575195312,
          -16.797439575195312,
          -16.797439575195312,
          -16.797439575195312,
          -16.797439575195312,
          -16.797439575195312,
          -16.797439575195312,
          -16.797439575195312,
          -16.797439575195312,
          -16.797439575195312,
          -16.797439575195312,
          -16.797439575195312,
          -16.797439575195312,
          -16.797439575195312,
          -16.797439575195312,
          -16.797439575195312,
          -16.797439575195312,
          -16.797439575195312,
          -16.797439575195312,
          -16.797439575195312,
          -16.797439575195312,
          -16.797439575195312,
          -16.797439575195312,
          -16.797439575195312,
          -16.797439575195312,
          -16.797439575195312,
          -16.797439575195312,
          -16.797439575195312,
          -16.797439575195312,
          -16.797439575195312,
          -16.797439575195312,
          -16.797439575195312,
          -16.797439575195312,
          -16.797439575195312,
          -16.797439575195312,
          -16.797439575195312,
          -16.797439575195312,
          -16.797439575195312,
          -16.797439575195312,
          -16.797439575195312,
          -16.797439575195312,
          -16.797439575195312,
          -16.797439575195312,
          -16.797439575195312,
          -16.797439575195312,
          -16.797439575195312,
          -16.797439575195312,
          -16.797439575195312,
          -16.797439575195312,
          -16.797439575195312,
          -16.797439575195312,
          -16.797439575195312,
          -16.797439575195312,
          -16.797439575195312,
          -16.797439575195312,
          -16.797439575195312,
          -16.797439575195312,
          -16.797439575195312,
          -16.797439575195312,
          -16.797439575195312,
          -16.797439575195312,
          -16.797439575195312,
          -16.797439575195312,
          -16.797439575195312,
          -16.797439575195312,
          -16.797439575195312,
          -16.797439575195312,
          -16.797439575195312,
          -16.797439575195312,
          -16.797439575195312,
          -16.797439575195312,
          -16.797439575195312,
          -16.797439575195312,
          -16.797439575195312,
          -16.797439575195312,
          -16.797439575195312,
          -16.797439575195312,
          -16.797439575195312,
          -16.797439575195312,
          -16.797439575195312,
          -16.797439575195312,
          -16.797439575195312,
          -16.797439575195312,
          -16.797439575195312,
          -16.797439575195312,
          -16.797439575195312,
          -16.797439575195312,
          -16.797439575195312,
          -16.797439575195312,
          -16.797439575195312,
          -16.797439575195312,
          -16.797439575195312,
          -16.797439575195312,
          -16.797439575195312,
          -16.797439575195312,
          -16.797439575195312,
          -16.797439575195312,
          -16.797439575195312,
          -16.797439575195312,
          -16.797439575195312,
          -16.797439575195312,
          -16.797439575195312,
          -16.797439575195312,
          -16.797439575195312,
          -16.797439575195312,
          -16.797439575195312,
          -16.797439575195312,
          -16.797439575195312,
          -16.797439575195312,
          -16.797439575195312,
          -16.797439575195312,
          -16.797439575195312,
          -16.797439575195312,
          -16.797439575195312,
          -16.797439575195312,
          -16.797439575195312,
          -16.797439575195312,
          -16.797439575195312,
          -16.797439575195312,
          -16.797439575195312,
          -16.797439575195312,
          -16.797439575195312,
          -16.797439575195312,
          -16.797439575195312,
          -16.797439575195312,
          -16.797439575195312,
          -16.797439575195312,
          -16.797439575195312,
          -16.797439575195312,
          -16.797439575195312,
          -16.797439575195312,
          -16.797439575195312,
          -16.797439575195312,
          -16.797439575195312,
          -16.797439575195312,
          -16.797439575195312,
          -16.797439575195312,
          -16.797439575195312,
          -16.797439575195312,
          -16.797439575195312,
          -16.797439575195312,
          -16.797439575195312,
          -16.797439575195312,
          -16.797439575195312,
          -16.797439575195312,
          -16.797439575195312,
          -16.797439575195312,
          -16.797439575195312,
          -16.797439575195312,
          -16.797439575195312,
          -16.797439575195312,
          -16.797439575195312,
          -16.797439575195312,
          -16.797439575195312,
          -16.797439575195312,
          -16.797439575195312,
          -16.797439575195312,
          -16.797439575195312,
          -16.797439575195312,
          -16.797439575195312,
          -16.797439575195312,
          -16.797439575195312,
          -16.797439575195312,
          -16.797439575195312,
          -16.797439575195312,
          -16.797439575195312,
          -16.797439575195312,
          -16.797439575195312,
          -16.797439575195312,
          -16.797439575195312,
          -16.797439575195312,
          -16.797439575195312,
          -16.797439575195312,
          -16.797439575195312,
          -16.797439575195312,
          -16.797439575195312,
          -16.797439575195312,
          -16.797439575195312,
          -16.797439575195312,
          -16.797439575195312,
          -16.797439575195312,
          -16.797439575195312,
          -16.797439575195312,
          -16.797439575195312,
          -16.797439575195312,
          -16.797439575195312,
          -16.797439575195312,
          -16.797439575195312,
          -16.797439575195312,
          -16.797439575195312,
          -16.797439575195312,
          -16.797439575195312,
          -16.797439575195312,
          -16.797439575195312,
          -16.797439575195312,
          -16.797439575195312,
          -16.797439575195312,
          -16.797439575195312,
          -16.797439575195312,
          -16.797439575195312,
          -16.797439575195312,
          -16.797439575195312,
          -16.797439575195312,
          -16.797439575195312,
          -16.797439575195312,
          -16.797439575195312,
          -16.797439575195312,
          -16.797439575195312,
          -16.797439575195312,
          -16.797439575195312,
          -16.797439575195312,
          -16.797439575195312,
          -16.797439575195312,
          -16.797439575195312,
          -16.797439575195312,
          -16.797439575195312,
          -16.797439575195312,
          -16.797439575195312,
          -16.797439575195312,
          -16.797439575195312,
          -16.797439575195312,
          -16.797439575195312
         ],
         "y": [
          124.82113647460938,
          123.632568359375,
          122.58328247070312,
          121.60037994384766,
          120.4802474975586,
          119.41571044921875,
          118.32066345214844,
          117.7309799194336,
          115.1312026977539,
          113.78921508789062,
          113.10393524169922,
          111.98753356933594,
          110.8699722290039,
          109.03084564208984,
          107.93344116210938,
          107.3761215209961,
          106.11829376220703,
          105.10076904296875,
          104.08340454101562,
          102.44877624511719,
          100.84373474121094,
          100.2855224609375,
          98.58619689941406,
          97.47900390625,
          96.94805145263672,
          95.7908935546875,
          93.71334075927734,
          93.2129135131836,
          92.10018157958984,
          91.00581359863281,
          89.25666046142578,
          88.4439926147461,
          87.98828887939453,
          87.05237579345703,
          85.93045806884766,
          85.05075073242188,
          83.89119720458984,
          82.377685546875,
          80.80596160888672,
          79.36371612548828,
          78.81145477294922,
          77.90673065185547,
          76.52630615234375,
          75.60575866699219,
          74.64714050292969,
          74.25652313232422,
          72.3204574584961,
          71.62724304199219,
          71.35151672363281,
          70.53544616699219,
          68.75801086425781,
          67.5844955444336,
          66.68527221679688,
          65.88043975830078,
          65.10743713378906,
          64.76773834228516,
          63.927574157714844,
          62.902793884277344,
          62.442779541015625,
          60.87907791137695,
          60.72845458984375,
          59.879093170166016,
          59.0630989074707,
          58.73291778564453,
          57.23251724243164,
          56.50185775756836,
          56.12532424926758,
          55.491432189941406,
          54.196041107177734,
          53.8676643371582,
          53.224761962890625,
          52.230003356933594,
          51.79962921142578,
          51.26066970825195,
          50.50750732421875,
          49.872344970703125,
          49.22426986694336,
          48.28243637084961,
          48.28243637084961,
          47.2506217956543,
          47.071678161621094,
          46.54845428466797,
          45.76388931274414,
          45.22999572753906,
          44.980186462402344,
          44.31960678100586,
          43.92561721801758,
          43.607425689697266,
          42.3309326171875,
          41.281654357910156,
          40.47813034057617,
          39.91786193847656,
          39.77888488769531,
          39.05970764160156,
          38.63074493408203,
          38.36362075805664,
          37.57993698120117,
          37.320369720458984,
          36.579898834228516,
          36.23899841308594,
          35.621917724609375,
          35.349300384521484,
          35.048946380615234,
          34.819637298583984,
          34.372406005859375,
          34.30438995361328,
          33.968017578125,
          33.79109573364258,
          33.22829818725586,
          33.044315338134766,
          32.7193489074707,
          32.42768859863281,
          32.324954986572266,
          32.229042053222656,
          31.992982864379883,
          31.78985023498535,
          31.62784194946289,
          31.29156494140625,
          31.257064819335938,
          30.974102020263672,
          30.92571449279785,
          30.906639099121094,
          30.764976501464844,
          30.74197769165039,
          30.69301986694336,
          30.84715461730957,
          30.655847549438477,
          30.64491081237793,
          30.609670639038086,
          30.609670639038086,
          30.609670639038086,
          30.609670639038086,
          30.609670639038086,
          30.609670639038086,
          30.609670639038086,
          31.645973205566406,
          31.645973205566406,
          31.645973205566406,
          31.645973205566406,
          31.645973205566406,
          31.645973205566406,
          31.645973205566406,
          31.645973205566406,
          31.645973205566406,
          31.645973205566406,
          31.645973205566406,
          31.645973205566406,
          31.645973205566406,
          31.645973205566406,
          31.645973205566406,
          31.645973205566406,
          31.645973205566406,
          31.645973205566406,
          31.645973205566406,
          31.645973205566406,
          31.645973205566406,
          31.645973205566406,
          31.645973205566406,
          31.645973205566406,
          31.645973205566406,
          31.645973205566406,
          31.645973205566406,
          31.645973205566406,
          31.645973205566406,
          31.645973205566406,
          31.645973205566406,
          31.645973205566406,
          31.645973205566406,
          31.645973205566406,
          31.645973205566406,
          31.645973205566406,
          31.645973205566406,
          31.645973205566406,
          31.645973205566406,
          31.645973205566406,
          31.645973205566406,
          31.645973205566406,
          31.645973205566406,
          31.645973205566406,
          31.645973205566406,
          31.645973205566406,
          31.645973205566406,
          31.645973205566406,
          31.645973205566406,
          31.645973205566406,
          31.645973205566406,
          31.645973205566406,
          31.645973205566406,
          31.645973205566406,
          31.645973205566406,
          31.645973205566406,
          31.645973205566406,
          31.645973205566406,
          31.645973205566406,
          31.645973205566406,
          31.645973205566406,
          31.645973205566406,
          31.645973205566406,
          31.645973205566406,
          31.645973205566406,
          31.645973205566406,
          31.645973205566406,
          31.645973205566406,
          31.645973205566406,
          31.645973205566406,
          31.645973205566406,
          31.645973205566406,
          31.645973205566406,
          31.645973205566406,
          31.645973205566406,
          31.645973205566406,
          31.645973205566406,
          31.645973205566406,
          31.645973205566406,
          31.645973205566406,
          31.645973205566406,
          31.645973205566406,
          31.645973205566406,
          31.645973205566406,
          31.645973205566406,
          31.645973205566406,
          31.645973205566406,
          31.645973205566406,
          31.645973205566406,
          31.645973205566406,
          31.645973205566406,
          31.645973205566406,
          31.645973205566406,
          31.645973205566406,
          31.645973205566406,
          31.645973205566406,
          31.645973205566406,
          31.645973205566406,
          31.645973205566406,
          31.645973205566406,
          31.645973205566406,
          31.645973205566406,
          31.645973205566406,
          31.645973205566406,
          31.645973205566406,
          31.645973205566406,
          31.645973205566406,
          31.645973205566406,
          31.645973205566406,
          31.645973205566406,
          31.645973205566406,
          31.645973205566406,
          31.645973205566406,
          31.645973205566406,
          31.645973205566406,
          31.645973205566406,
          31.645973205566406,
          31.645973205566406,
          31.645973205566406,
          31.645973205566406,
          31.645973205566406,
          31.645973205566406,
          31.645973205566406,
          31.645973205566406,
          31.645973205566406,
          31.645973205566406,
          31.645973205566406,
          31.645973205566406,
          31.645973205566406,
          31.645973205566406,
          31.645973205566406,
          31.645973205566406,
          31.645973205566406,
          31.645973205566406,
          31.645973205566406,
          31.645973205566406,
          31.645973205566406,
          31.645973205566406,
          31.645973205566406,
          31.645973205566406,
          31.645973205566406,
          31.645973205566406,
          31.645973205566406,
          31.645973205566406,
          31.645973205566406,
          31.645973205566406,
          31.645973205566406,
          31.645973205566406,
          31.645973205566406,
          31.645973205566406,
          31.645973205566406,
          31.645973205566406,
          31.645973205566406,
          31.645973205566406,
          31.645973205566406,
          31.645973205566406,
          31.645973205566406,
          31.645973205566406,
          31.645973205566406,
          31.645973205566406,
          31.645973205566406,
          31.645973205566406,
          31.645973205566406,
          31.645973205566406,
          31.645973205566406,
          31.645973205566406,
          31.645973205566406,
          31.645973205566406,
          31.645973205566406,
          31.645973205566406,
          31.645973205566406,
          31.645973205566406,
          31.645973205566406,
          31.645973205566406,
          31.645973205566406,
          31.645973205566406,
          31.645973205566406,
          31.645973205566406,
          31.645973205566406,
          31.645973205566406,
          31.645973205566406,
          31.645973205566406,
          31.645973205566406,
          31.645973205566406,
          31.645973205566406,
          31.645973205566406,
          31.645973205566406,
          31.645973205566406,
          31.645973205566406,
          31.645973205566406,
          31.645973205566406,
          31.645973205566406,
          31.645973205566406,
          31.645973205566406,
          31.645973205566406,
          31.645973205566406,
          31.645973205566406,
          31.645973205566406,
          31.645973205566406,
          31.645973205566406,
          31.645973205566406,
          31.645973205566406,
          31.645973205566406,
          31.645973205566406,
          31.645973205566406,
          31.645973205566406,
          31.645973205566406,
          31.645973205566406,
          31.645973205566406,
          31.645973205566406,
          31.645973205566406,
          31.645973205566406,
          31.645973205566406,
          31.645973205566406,
          31.645973205566406,
          31.645973205566406,
          31.645973205566406,
          31.645973205566406,
          31.645973205566406,
          31.645973205566406,
          31.645973205566406,
          31.645973205566406,
          31.645973205566406,
          31.645973205566406,
          31.645973205566406,
          31.645973205566406,
          31.645973205566406,
          31.645973205566406,
          31.645973205566406,
          31.645973205566406,
          31.645973205566406,
          31.645973205566406,
          31.645973205566406,
          31.645973205566406,
          31.645973205566406,
          31.645973205566406,
          31.645973205566406,
          31.645973205566406,
          31.645973205566406,
          31.645973205566406,
          31.645973205566406,
          31.645973205566406,
          31.645973205566406,
          31.645973205566406,
          31.645973205566406,
          31.645973205566406,
          31.645973205566406,
          31.645973205566406,
          31.645973205566406,
          31.645973205566406,
          31.645973205566406,
          31.645973205566406,
          31.645973205566406,
          31.645973205566406,
          31.645973205566406,
          31.645973205566406,
          31.645973205566406,
          31.645973205566406,
          31.645973205566406,
          31.645973205566406,
          31.645973205566406,
          31.645973205566406,
          31.645973205566406,
          31.645973205566406,
          31.645973205566406,
          31.645973205566406,
          31.645973205566406,
          31.645973205566406,
          31.645973205566406,
          31.645973205566406,
          31.645973205566406,
          31.645973205566406,
          31.645973205566406,
          31.645973205566406,
          31.645973205566406,
          31.645973205566406,
          31.645973205566406,
          31.645973205566406,
          31.645973205566406,
          31.645973205566406
         ]
        }
       ],
       "layout": {
        "height": 600,
        "template": {
         "data": {
          "bar": [
           {
            "error_x": {
             "color": "#2a3f5f"
            },
            "error_y": {
             "color": "#2a3f5f"
            },
            "marker": {
             "line": {
              "color": "#E5ECF6",
              "width": 0.5
             },
             "pattern": {
              "fillmode": "overlay",
              "size": 10,
              "solidity": 0.2
             }
            },
            "type": "bar"
           }
          ],
          "barpolar": [
           {
            "marker": {
             "line": {
              "color": "#E5ECF6",
              "width": 0.5
             },
             "pattern": {
              "fillmode": "overlay",
              "size": 10,
              "solidity": 0.2
             }
            },
            "type": "barpolar"
           }
          ],
          "carpet": [
           {
            "aaxis": {
             "endlinecolor": "#2a3f5f",
             "gridcolor": "white",
             "linecolor": "white",
             "minorgridcolor": "white",
             "startlinecolor": "#2a3f5f"
            },
            "baxis": {
             "endlinecolor": "#2a3f5f",
             "gridcolor": "white",
             "linecolor": "white",
             "minorgridcolor": "white",
             "startlinecolor": "#2a3f5f"
            },
            "type": "carpet"
           }
          ],
          "choropleth": [
           {
            "colorbar": {
             "outlinewidth": 0,
             "ticks": ""
            },
            "type": "choropleth"
           }
          ],
          "contour": [
           {
            "colorbar": {
             "outlinewidth": 0,
             "ticks": ""
            },
            "colorscale": [
             [
              0,
              "#0d0887"
             ],
             [
              0.1111111111111111,
              "#46039f"
             ],
             [
              0.2222222222222222,
              "#7201a8"
             ],
             [
              0.3333333333333333,
              "#9c179e"
             ],
             [
              0.4444444444444444,
              "#bd3786"
             ],
             [
              0.5555555555555556,
              "#d8576b"
             ],
             [
              0.6666666666666666,
              "#ed7953"
             ],
             [
              0.7777777777777778,
              "#fb9f3a"
             ],
             [
              0.8888888888888888,
              "#fdca26"
             ],
             [
              1,
              "#f0f921"
             ]
            ],
            "type": "contour"
           }
          ],
          "contourcarpet": [
           {
            "colorbar": {
             "outlinewidth": 0,
             "ticks": ""
            },
            "type": "contourcarpet"
           }
          ],
          "heatmap": [
           {
            "colorbar": {
             "outlinewidth": 0,
             "ticks": ""
            },
            "colorscale": [
             [
              0,
              "#0d0887"
             ],
             [
              0.1111111111111111,
              "#46039f"
             ],
             [
              0.2222222222222222,
              "#7201a8"
             ],
             [
              0.3333333333333333,
              "#9c179e"
             ],
             [
              0.4444444444444444,
              "#bd3786"
             ],
             [
              0.5555555555555556,
              "#d8576b"
             ],
             [
              0.6666666666666666,
              "#ed7953"
             ],
             [
              0.7777777777777778,
              "#fb9f3a"
             ],
             [
              0.8888888888888888,
              "#fdca26"
             ],
             [
              1,
              "#f0f921"
             ]
            ],
            "type": "heatmap"
           }
          ],
          "heatmapgl": [
           {
            "colorbar": {
             "outlinewidth": 0,
             "ticks": ""
            },
            "colorscale": [
             [
              0,
              "#0d0887"
             ],
             [
              0.1111111111111111,
              "#46039f"
             ],
             [
              0.2222222222222222,
              "#7201a8"
             ],
             [
              0.3333333333333333,
              "#9c179e"
             ],
             [
              0.4444444444444444,
              "#bd3786"
             ],
             [
              0.5555555555555556,
              "#d8576b"
             ],
             [
              0.6666666666666666,
              "#ed7953"
             ],
             [
              0.7777777777777778,
              "#fb9f3a"
             ],
             [
              0.8888888888888888,
              "#fdca26"
             ],
             [
              1,
              "#f0f921"
             ]
            ],
            "type": "heatmapgl"
           }
          ],
          "histogram": [
           {
            "marker": {
             "pattern": {
              "fillmode": "overlay",
              "size": 10,
              "solidity": 0.2
             }
            },
            "type": "histogram"
           }
          ],
          "histogram2d": [
           {
            "colorbar": {
             "outlinewidth": 0,
             "ticks": ""
            },
            "colorscale": [
             [
              0,
              "#0d0887"
             ],
             [
              0.1111111111111111,
              "#46039f"
             ],
             [
              0.2222222222222222,
              "#7201a8"
             ],
             [
              0.3333333333333333,
              "#9c179e"
             ],
             [
              0.4444444444444444,
              "#bd3786"
             ],
             [
              0.5555555555555556,
              "#d8576b"
             ],
             [
              0.6666666666666666,
              "#ed7953"
             ],
             [
              0.7777777777777778,
              "#fb9f3a"
             ],
             [
              0.8888888888888888,
              "#fdca26"
             ],
             [
              1,
              "#f0f921"
             ]
            ],
            "type": "histogram2d"
           }
          ],
          "histogram2dcontour": [
           {
            "colorbar": {
             "outlinewidth": 0,
             "ticks": ""
            },
            "colorscale": [
             [
              0,
              "#0d0887"
             ],
             [
              0.1111111111111111,
              "#46039f"
             ],
             [
              0.2222222222222222,
              "#7201a8"
             ],
             [
              0.3333333333333333,
              "#9c179e"
             ],
             [
              0.4444444444444444,
              "#bd3786"
             ],
             [
              0.5555555555555556,
              "#d8576b"
             ],
             [
              0.6666666666666666,
              "#ed7953"
             ],
             [
              0.7777777777777778,
              "#fb9f3a"
             ],
             [
              0.8888888888888888,
              "#fdca26"
             ],
             [
              1,
              "#f0f921"
             ]
            ],
            "type": "histogram2dcontour"
           }
          ],
          "mesh3d": [
           {
            "colorbar": {
             "outlinewidth": 0,
             "ticks": ""
            },
            "type": "mesh3d"
           }
          ],
          "parcoords": [
           {
            "line": {
             "colorbar": {
              "outlinewidth": 0,
              "ticks": ""
             }
            },
            "type": "parcoords"
           }
          ],
          "pie": [
           {
            "automargin": true,
            "type": "pie"
           }
          ],
          "scatter": [
           {
            "fillpattern": {
             "fillmode": "overlay",
             "size": 10,
             "solidity": 0.2
            },
            "type": "scatter"
           }
          ],
          "scatter3d": [
           {
            "line": {
             "colorbar": {
              "outlinewidth": 0,
              "ticks": ""
             }
            },
            "marker": {
             "colorbar": {
              "outlinewidth": 0,
              "ticks": ""
             }
            },
            "type": "scatter3d"
           }
          ],
          "scattercarpet": [
           {
            "marker": {
             "colorbar": {
              "outlinewidth": 0,
              "ticks": ""
             }
            },
            "type": "scattercarpet"
           }
          ],
          "scattergeo": [
           {
            "marker": {
             "colorbar": {
              "outlinewidth": 0,
              "ticks": ""
             }
            },
            "type": "scattergeo"
           }
          ],
          "scattergl": [
           {
            "marker": {
             "colorbar": {
              "outlinewidth": 0,
              "ticks": ""
             }
            },
            "type": "scattergl"
           }
          ],
          "scattermapbox": [
           {
            "marker": {
             "colorbar": {
              "outlinewidth": 0,
              "ticks": ""
             }
            },
            "type": "scattermapbox"
           }
          ],
          "scatterpolar": [
           {
            "marker": {
             "colorbar": {
              "outlinewidth": 0,
              "ticks": ""
             }
            },
            "type": "scatterpolar"
           }
          ],
          "scatterpolargl": [
           {
            "marker": {
             "colorbar": {
              "outlinewidth": 0,
              "ticks": ""
             }
            },
            "type": "scatterpolargl"
           }
          ],
          "scatterternary": [
           {
            "marker": {
             "colorbar": {
              "outlinewidth": 0,
              "ticks": ""
             }
            },
            "type": "scatterternary"
           }
          ],
          "surface": [
           {
            "colorbar": {
             "outlinewidth": 0,
             "ticks": ""
            },
            "colorscale": [
             [
              0,
              "#0d0887"
             ],
             [
              0.1111111111111111,
              "#46039f"
             ],
             [
              0.2222222222222222,
              "#7201a8"
             ],
             [
              0.3333333333333333,
              "#9c179e"
             ],
             [
              0.4444444444444444,
              "#bd3786"
             ],
             [
              0.5555555555555556,
              "#d8576b"
             ],
             [
              0.6666666666666666,
              "#ed7953"
             ],
             [
              0.7777777777777778,
              "#fb9f3a"
             ],
             [
              0.8888888888888888,
              "#fdca26"
             ],
             [
              1,
              "#f0f921"
             ]
            ],
            "type": "surface"
           }
          ],
          "table": [
           {
            "cells": {
             "fill": {
              "color": "#EBF0F8"
             },
             "line": {
              "color": "white"
             }
            },
            "header": {
             "fill": {
              "color": "#C8D4E3"
             },
             "line": {
              "color": "white"
             }
            },
            "type": "table"
           }
          ]
         },
         "layout": {
          "annotationdefaults": {
           "arrowcolor": "#2a3f5f",
           "arrowhead": 0,
           "arrowwidth": 1
          },
          "autotypenumbers": "strict",
          "coloraxis": {
           "colorbar": {
            "outlinewidth": 0,
            "ticks": ""
           }
          },
          "colorscale": {
           "diverging": [
            [
             0,
             "#8e0152"
            ],
            [
             0.1,
             "#c51b7d"
            ],
            [
             0.2,
             "#de77ae"
            ],
            [
             0.3,
             "#f1b6da"
            ],
            [
             0.4,
             "#fde0ef"
            ],
            [
             0.5,
             "#f7f7f7"
            ],
            [
             0.6,
             "#e6f5d0"
            ],
            [
             0.7,
             "#b8e186"
            ],
            [
             0.8,
             "#7fbc41"
            ],
            [
             0.9,
             "#4d9221"
            ],
            [
             1,
             "#276419"
            ]
           ],
           "sequential": [
            [
             0,
             "#0d0887"
            ],
            [
             0.1111111111111111,
             "#46039f"
            ],
            [
             0.2222222222222222,
             "#7201a8"
            ],
            [
             0.3333333333333333,
             "#9c179e"
            ],
            [
             0.4444444444444444,
             "#bd3786"
            ],
            [
             0.5555555555555556,
             "#d8576b"
            ],
            [
             0.6666666666666666,
             "#ed7953"
            ],
            [
             0.7777777777777778,
             "#fb9f3a"
            ],
            [
             0.8888888888888888,
             "#fdca26"
            ],
            [
             1,
             "#f0f921"
            ]
           ],
           "sequentialminus": [
            [
             0,
             "#0d0887"
            ],
            [
             0.1111111111111111,
             "#46039f"
            ],
            [
             0.2222222222222222,
             "#7201a8"
            ],
            [
             0.3333333333333333,
             "#9c179e"
            ],
            [
             0.4444444444444444,
             "#bd3786"
            ],
            [
             0.5555555555555556,
             "#d8576b"
            ],
            [
             0.6666666666666666,
             "#ed7953"
            ],
            [
             0.7777777777777778,
             "#fb9f3a"
            ],
            [
             0.8888888888888888,
             "#fdca26"
            ],
            [
             1,
             "#f0f921"
            ]
           ]
          },
          "colorway": [
           "#636efa",
           "#EF553B",
           "#00cc96",
           "#ab63fa",
           "#FFA15A",
           "#19d3f3",
           "#FF6692",
           "#B6E880",
           "#FF97FF",
           "#FECB52"
          ],
          "font": {
           "color": "#2a3f5f"
          },
          "geo": {
           "bgcolor": "white",
           "lakecolor": "white",
           "landcolor": "#E5ECF6",
           "showlakes": true,
           "showland": true,
           "subunitcolor": "white"
          },
          "hoverlabel": {
           "align": "left"
          },
          "hovermode": "closest",
          "mapbox": {
           "style": "light"
          },
          "paper_bgcolor": "white",
          "plot_bgcolor": "#E5ECF6",
          "polar": {
           "angularaxis": {
            "gridcolor": "white",
            "linecolor": "white",
            "ticks": ""
           },
           "bgcolor": "#E5ECF6",
           "radialaxis": {
            "gridcolor": "white",
            "linecolor": "white",
            "ticks": ""
           }
          },
          "scene": {
           "xaxis": {
            "backgroundcolor": "#E5ECF6",
            "gridcolor": "white",
            "gridwidth": 2,
            "linecolor": "white",
            "showbackground": true,
            "ticks": "",
            "zerolinecolor": "white"
           },
           "yaxis": {
            "backgroundcolor": "#E5ECF6",
            "gridcolor": "white",
            "gridwidth": 2,
            "linecolor": "white",
            "showbackground": true,
            "ticks": "",
            "zerolinecolor": "white"
           },
           "zaxis": {
            "backgroundcolor": "#E5ECF6",
            "gridcolor": "white",
            "gridwidth": 2,
            "linecolor": "white",
            "showbackground": true,
            "ticks": "",
            "zerolinecolor": "white"
           }
          },
          "shapedefaults": {
           "line": {
            "color": "#2a3f5f"
           }
          },
          "ternary": {
           "aaxis": {
            "gridcolor": "white",
            "linecolor": "white",
            "ticks": ""
           },
           "baxis": {
            "gridcolor": "white",
            "linecolor": "white",
            "ticks": ""
           },
           "bgcolor": "#E5ECF6",
           "caxis": {
            "gridcolor": "white",
            "linecolor": "white",
            "ticks": ""
           }
          },
          "title": {
           "x": 0.05
          },
          "xaxis": {
           "automargin": true,
           "gridcolor": "white",
           "linecolor": "white",
           "ticks": "",
           "title": {
            "standoff": 15
           },
           "zerolinecolor": "white",
           "zerolinewidth": 2
          },
          "yaxis": {
           "automargin": true,
           "gridcolor": "white",
           "linecolor": "white",
           "ticks": "",
           "title": {
            "standoff": 15
           },
           "zerolinecolor": "white",
           "zerolinewidth": 2
          }
         }
        },
        "width": 600
       }
      }
     },
     "metadata": {},
     "output_type": "display_data"
    }
   ],
   "source": [
    "fig = go.Figure()\n",
    "\n",
    "\n",
    "for name, approach in radar.approaches:\n",
    "    fig.add_trace(\n",
    "        go.Scatter(\n",
    "            x=[x for x, y in approach.polygon.exterior.coords],\n",
    "            y=[y for x, y in approach.polygon.exterior.coords],\n",
    "            name=name,\n",
    "        )\n",
    "    )\n",
    "\n",
    "\n",
    "i = 0\n",
    "veh = _veh_df\n",
    "fig.add_trace(\n",
    "    go.Scatter(\n",
    "        x=veh[\"f32_positionX_m\"],\n",
    "        y=veh[\"f32_positionY_m\"],\n",
    "    )\n",
    ")\n",
    "\n",
    "fig.update_layout(height=600, width=600)\n",
    "fig.show()\n"
   ]
  },
  {
   "cell_type": "code",
   "execution_count": null,
   "metadata": {},
   "outputs": [
    {
     "name": "stderr",
     "output_type": "stream",
     "text": [
      "process: 100%|██████████| 4151/4151 [14:14<00:00,  4.86it/s]\n"
     ]
    }
   ],
   "source": [
    "from sklearn.metrics import r2_score\n",
    "from sklearn.metrics import mean_squared_error\n",
    "\n",
    "\n",
    "TIME_COL = \"relative_time\"\n",
    "SPD_COL = \"f32_velocityInDir_mps\"\n",
    "ABS_TIME_COL = \"dt\"\n",
    "\n",
    "from src.pwlfer import process_trajectories, classify\n",
    "\n",
    "veh_df[\"relative_time\"] = veh_df.groupby(\"ui32_objectID\")[\"dt\"].transform(\n",
    "    lambda x: (x - x.min()).dt.total_seconds()\n",
    ")\n",
    "res = process_trajectories(\n",
    "    veh_df,\n",
    "    time_col=\"relative_time\",\n",
    "    speed_col=\"f32_velocityInDir_mps\",\n",
    "    id_col=\"ui32_objectID\",\n",
    "    abs_time_col=\"dt\",\n",
    "    n_jobs=8,\n",
    ")\n",
    "summary_df = pd.DataFrame([{**v, **l} for v in res for l in v.pop(\"line_fits\")])\n"
   ]
  },
  {
   "cell_type": "code",
   "execution_count": null,
   "metadata": {},
   "outputs": [],
   "source": [
    "summary_df[\"type\"] = summary_df.apply(classify, axis=1)\n",
    "summary_df[\"minimum_time\"] = summary_df[\"end\"] - summary_df[\"start\"]\n"
   ]
  },
  {
   "cell_type": "code",
   "execution_count": null,
   "metadata": {},
   "outputs": [],
   "source": [
    "summary_df.to_parquet(\n",
    "    ROOT / \"data\" / \"rw_east_thru_summary.parquet\",\n",
    "    **{\"coerce_timestamps\": \"us\", \"allow_truncated_timestamps\": True}\n",
    ")\n"
   ]
  },
  {
   "cell_type": "code",
   "execution_count": null,
   "metadata": {},
   "outputs": [],
   "source": [
    "summary_df = pd.read_parquet(\n",
    "    ROOT / \"data\" / \"rw_east_thru_summary.parquet\",\n",
    ")\n"
   ]
  },
  {
   "attachments": {},
   "cell_type": "markdown",
   "metadata": {},
   "source": [
    "### Plot Some of the Results\n"
   ]
  },
  {
   "cell_type": "code",
   "execution_count": null,
   "metadata": {},
   "outputs": [
    {
     "data": {
      "application/vnd.plotly.v1+json": {
       "config": {
        "plotlyServerURL": "https://plot.ly"
       },
       "data": [
        {
         "hovertemplate": "relative_time=%{x}<br>f32_velocityInDir_mps=%{y}<extra></extra>",
         "legendgroup": "",
         "line": {
          "color": "#636efa",
          "dash": "solid"
         },
         "marker": {
          "symbol": "circle"
         },
         "mode": "lines",
         "name": "",
         "orientation": "v",
         "showlegend": false,
         "type": "scatter",
         "x": [
          0,
          0.108334,
          0.217332,
          0.324557,
          0.433391,
          0.541643,
          0.650722,
          0.760466,
          0.870444,
          0.978428,
          1.087391,
          1.194628,
          1.301732,
          1.410606,
          1.52034,
          1.629461,
          1.737809,
          1.846597,
          1.955708,
          2.06465,
          2.171921,
          2.279983,
          2.387104,
          2.497564,
          2.606686,
          2.714825,
          2.823737,
          2.931036,
          3.038625,
          3.148513,
          3.258356,
          3.366563,
          3.474845,
          3.584648,
          3.693918,
          3.802766,
          3.916711,
          4.024178,
          4.13458,
          4.242579,
          4.350049,
          4.456529,
          4.565072,
          4.672984,
          4.780501,
          4.888046,
          4.995689,
          5.104593,
          5.21243,
          5.322333,
          5.432007,
          5.534282,
          5.642482,
          5.751724,
          5.861491,
          5.969773,
          6.078414,
          6.187376,
          6.297481,
          6.405786,
          6.515071,
          6.623972,
          6.734576,
          6.842619,
          6.951585,
          7.060901,
          7.168962,
          7.277394,
          7.389812,
          7.498718,
          7.60579,
          7.716537,
          7.827047,
          7.935458,
          8.044959,
          8.152953,
          8.261508,
          8.369028,
          8.482641,
          8.591493,
          8.698629,
          8.807998,
          8.91593,
          9.024863,
          9.133877,
          9.242364,
          9.351756,
          9.461609,
          9.570376,
          9.678459,
          9.787375,
          9.896664,
          10.003737,
          10.113814,
          10.222783,
          10.331165,
          10.440818,
          10.556967,
          10.665551,
          10.773309,
          10.88054,
          10.989492,
          11.099099,
          11.208547,
          11.316629,
          11.424248,
          11.533242,
          11.642708,
          11.751716,
          11.860087,
          11.96833,
          12.077409,
          12.182635,
          12.290738,
          12.399165,
          12.505977,
          12.615574,
          12.72328,
          12.832147,
          12.940831,
          13.050028,
          13.159951,
          13.26688,
          13.374736,
          13.48574,
          13.59674,
          13.705739,
          13.813751,
          13.922556,
          14.031438,
          14.140596,
          14.248732,
          14.357832,
          14.465012,
          14.573627,
          14.68137,
          14.788349,
          14.897788,
          15.005532,
          15.113682,
          15.223436,
          15.330536,
          15.440704,
          15.547589,
          15.656837,
          15.766171,
          15.882122,
          15.99282,
          16.101951,
          16.211569,
          16.320872,
          16.429556,
          16.538043,
          16.647727,
          16.755821,
          16.864958,
          16.97466,
          17.082733,
          17.190689,
          17.298586,
          17.408672,
          17.516426,
          17.626361,
          17.734656,
          17.842624,
          17.951261,
          18.056863,
          18.164744,
          18.273749,
          18.381816,
          18.490563,
          18.598049,
          18.707579,
          18.815632,
          18.925428,
          19.034694,
          19.144913,
          19.254138,
          19.362695,
          19.472716,
          19.582535,
          19.691957,
          19.799656,
          19.907751,
          20.015797,
          20.126676,
          20.235212,
          20.343663,
          20.451512,
          20.559884,
          20.669581,
          20.779565
         ],
         "xaxis": "x",
         "y": [
          22.313804626464844,
          22.317428588867188,
          22.216835021972656,
          22.10385131835937,
          22.12367057800293,
          22.041934967041016,
          21.89504051208496,
          21.883100509643555,
          21.774810791015625,
          21.521148681640625,
          21.521148681640625,
          21.462060928344727,
          21.319047927856445,
          21.179685592651367,
          21.04249382019043,
          20.79210090637207,
          20.632383346557617,
          20.610246658325195,
          20.43397331237793,
          20.384605407714844,
          20.19985008239746,
          20.173439025878903,
          19.75029182434082,
          19.43570709228516,
          19.468400955200195,
          19.25605010986328,
          19.04944229125977,
          18.70945167541504,
          18.752412796020508,
          18.55486297607422,
          18.52964210510254,
          18.30139923095703,
          17.900474548339844,
          17.4377498626709,
          17.292020797729492,
          17.165372848510742,
          17.257699966430664,
          17.03890609741211,
          16.665151596069336,
          16.353471755981445,
          16.206363677978516,
          16.056928634643555,
          16.076889038085938,
          15.875287055969238,
          15.411822319030762,
          15.335405349731444,
          15.37669563293457,
          15.124319076538086,
          15.054311752319336,
          14.789854049682615,
          14.735943794250488,
          14.46965789794922,
          14.297223091125488,
          14.16312026977539,
          13.879741668701172,
          13.415586471557615,
          12.97966480255127,
          12.869233131408691,
          12.596988677978516,
          12.30931568145752,
          12.194405555725098,
          11.853615760803224,
          11.493695259094238,
          11.346264839172363,
          11.11089038848877,
          11.039356231689451,
          10.798786163330078,
          10.39781665802002,
          10.14198875427246,
          10.015501022338867,
          9.892274856567385,
          9.694552421569824,
          9.477672576904297,
          9.160896301269531,
          8.845853805541992,
          8.521471977233887,
          8.367527961730957,
          8.042442321777344,
          8.08125114440918,
          8.01274299621582,
          7.787703037261963,
          7.773613929748535,
          7.556792736053467,
          7.370645523071289,
          7.337514877319336,
          7.028592109680176,
          6.617650508880615,
          6.550019264221191,
          6.454823017120361,
          6.2629594802856445,
          5.998679161071777,
          5.686415195465088,
          5.569192886352539,
          5.466168880462647,
          5.119959354400635,
          4.753098011016846,
          4.483945369720459,
          4.285139560699463,
          4.261454582214356,
          3.9883909225463863,
          3.324815511703491,
          3.131061553955078,
          2.870633602142334,
          2.674669981002808,
          2.5842881202697754,
          2.178891897201538,
          2.186472177505493,
          2.2299225330352783,
          2.216170310974121,
          2.1500205993652344,
          1.9564120769500728,
          1.5554313659667969,
          1.2280164957046509,
          1.1445224285125732,
          1.1080769300460815,
          0.9716567993164062,
          0.8911280035972595,
          0.5362451672554016,
          0.4750389158725738,
          0.4066306948661804,
          0.4031338989734649,
          0.4805930554866791,
          0.5548235774040222,
          0.6118561625480652,
          0.514455258846283,
          0.5333806872367859,
          0.540099561214447,
          0.540099561214447,
          0.540099561214447,
          0.540099561214447,
          0.540099561214447,
          0.540099561214447,
          0.540099561214447,
          0.540099561214447,
          0.540099561214447,
          0,
          0,
          0,
          0,
          0,
          0,
          0,
          0,
          0,
          0,
          0,
          0,
          0,
          0,
          0,
          0,
          0,
          0,
          0,
          0,
          0,
          0,
          0,
          0,
          0,
          0,
          0,
          0,
          0,
          0,
          0,
          0,
          0,
          0.6405837535858154,
          0.6939175128936768,
          0.7161235213279724,
          0.8100298047065735,
          1.008339762687683,
          1.2013018131256104,
          1.5125612020492554,
          1.7261587381362915,
          1.944522500038147,
          2.1864981651306152,
          2.131089210510254,
          2.165154218673706,
          2.4796762466430664,
          2.7583158016204834,
          2.775712013244629,
          3.030951499938965,
          3.1668524742126465,
          3.643015384674072,
          3.653165578842163,
          4.002442359924316,
          3.9075422286987305,
          4.078214645385742,
          4.483521938323975,
          4.843153953552246
         ],
         "yaxis": "y"
        },
        {
         "mode": "lines",
         "type": "scatter",
         "x": [
          0,
          1.924174117904483
         ],
         "y": [
          22.486822457611375,
          20.632726694410145
         ]
        },
        {
         "mode": "lines",
         "type": "scatter",
         "x": [
          1.924174117904483,
          4.995688999934643
         ],
         "y": [
          20.632726694410145,
          15.174405537780272
         ]
        },
        {
         "mode": "lines",
         "type": "scatter",
         "x": [
          4.995688999934643,
          12.422098656698772
         ],
         "y": [
          15.174405537780274,
          0.647326076865891
         ]
        },
        {
         "mode": "lines",
         "type": "scatter",
         "x": [
          12.422098656698772,
          17.926127262228153
         ],
         "y": [
          0.6473260768658873,
          -0.19787036349017173
         ]
        },
        {
         "mode": "lines",
         "type": "scatter",
         "x": [
          17.926127262228153,
          20.779565
         ],
         "y": [
          -0.19787036349017129,
          4.576738892789297
         ]
        }
       ],
       "layout": {
        "annotations": [
         {
          "font": {
           "size": 14
          },
          "showarrow": false,
          "text": "accel: -0.96 m/s^2<br>r^2: 0.97<br>type: decel<br>speed: 21.60 mps",
          "x": 0,
          "y": 24.486822457611375
         },
         {
          "font": {
           "size": 14
          },
          "showarrow": false,
          "text": "accel: -1.78 m/s^2<br>r^2: 0.99<br>type: decel<br>speed: 17.97 mps",
          "x": 1.924174117904483,
          "y": 22.632726694410145
         },
         {
          "font": {
           "size": 14
          },
          "showarrow": false,
          "text": "accel: -1.96 m/s^2<br>r^2: 1.00<br>type: undefined<br>speed: 7.93 mps",
          "x": 4.995688999934643,
          "y": 17.174405537780274
         },
         {
          "font": {
           "size": 14
          },
          "showarrow": false,
          "text": "accel: -0.15 m/s^2<br>r^2: 0.70<br>type: decel<br>speed: 0.22 mps",
          "x": 12.422098656698772,
          "y": 2.6473260768658875
         },
         {
          "font": {
           "size": 14
          },
          "showarrow": false,
          "text": "accel: 1.67 m/s^2<br>r^2: 0.99<br>type: accel<br>speed: 2.12 mps",
          "x": 17.926127262228153,
          "y": 1.8021296365098287
         }
        ],
        "legend": {
         "tracegroupgap": 0
        },
        "margin": {
         "t": 60
        },
        "template": {
         "data": {
          "bar": [
           {
            "error_x": {
             "color": "#2a3f5f"
            },
            "error_y": {
             "color": "#2a3f5f"
            },
            "marker": {
             "line": {
              "color": "#E5ECF6",
              "width": 0.5
             },
             "pattern": {
              "fillmode": "overlay",
              "size": 10,
              "solidity": 0.2
             }
            },
            "type": "bar"
           }
          ],
          "barpolar": [
           {
            "marker": {
             "line": {
              "color": "#E5ECF6",
              "width": 0.5
             },
             "pattern": {
              "fillmode": "overlay",
              "size": 10,
              "solidity": 0.2
             }
            },
            "type": "barpolar"
           }
          ],
          "carpet": [
           {
            "aaxis": {
             "endlinecolor": "#2a3f5f",
             "gridcolor": "white",
             "linecolor": "white",
             "minorgridcolor": "white",
             "startlinecolor": "#2a3f5f"
            },
            "baxis": {
             "endlinecolor": "#2a3f5f",
             "gridcolor": "white",
             "linecolor": "white",
             "minorgridcolor": "white",
             "startlinecolor": "#2a3f5f"
            },
            "type": "carpet"
           }
          ],
          "choropleth": [
           {
            "colorbar": {
             "outlinewidth": 0,
             "ticks": ""
            },
            "type": "choropleth"
           }
          ],
          "contour": [
           {
            "colorbar": {
             "outlinewidth": 0,
             "ticks": ""
            },
            "colorscale": [
             [
              0,
              "#0d0887"
             ],
             [
              0.1111111111111111,
              "#46039f"
             ],
             [
              0.2222222222222222,
              "#7201a8"
             ],
             [
              0.3333333333333333,
              "#9c179e"
             ],
             [
              0.4444444444444444,
              "#bd3786"
             ],
             [
              0.5555555555555556,
              "#d8576b"
             ],
             [
              0.6666666666666666,
              "#ed7953"
             ],
             [
              0.7777777777777778,
              "#fb9f3a"
             ],
             [
              0.8888888888888888,
              "#fdca26"
             ],
             [
              1,
              "#f0f921"
             ]
            ],
            "type": "contour"
           }
          ],
          "contourcarpet": [
           {
            "colorbar": {
             "outlinewidth": 0,
             "ticks": ""
            },
            "type": "contourcarpet"
           }
          ],
          "heatmap": [
           {
            "colorbar": {
             "outlinewidth": 0,
             "ticks": ""
            },
            "colorscale": [
             [
              0,
              "#0d0887"
             ],
             [
              0.1111111111111111,
              "#46039f"
             ],
             [
              0.2222222222222222,
              "#7201a8"
             ],
             [
              0.3333333333333333,
              "#9c179e"
             ],
             [
              0.4444444444444444,
              "#bd3786"
             ],
             [
              0.5555555555555556,
              "#d8576b"
             ],
             [
              0.6666666666666666,
              "#ed7953"
             ],
             [
              0.7777777777777778,
              "#fb9f3a"
             ],
             [
              0.8888888888888888,
              "#fdca26"
             ],
             [
              1,
              "#f0f921"
             ]
            ],
            "type": "heatmap"
           }
          ],
          "heatmapgl": [
           {
            "colorbar": {
             "outlinewidth": 0,
             "ticks": ""
            },
            "colorscale": [
             [
              0,
              "#0d0887"
             ],
             [
              0.1111111111111111,
              "#46039f"
             ],
             [
              0.2222222222222222,
              "#7201a8"
             ],
             [
              0.3333333333333333,
              "#9c179e"
             ],
             [
              0.4444444444444444,
              "#bd3786"
             ],
             [
              0.5555555555555556,
              "#d8576b"
             ],
             [
              0.6666666666666666,
              "#ed7953"
             ],
             [
              0.7777777777777778,
              "#fb9f3a"
             ],
             [
              0.8888888888888888,
              "#fdca26"
             ],
             [
              1,
              "#f0f921"
             ]
            ],
            "type": "heatmapgl"
           }
          ],
          "histogram": [
           {
            "marker": {
             "pattern": {
              "fillmode": "overlay",
              "size": 10,
              "solidity": 0.2
             }
            },
            "type": "histogram"
           }
          ],
          "histogram2d": [
           {
            "colorbar": {
             "outlinewidth": 0,
             "ticks": ""
            },
            "colorscale": [
             [
              0,
              "#0d0887"
             ],
             [
              0.1111111111111111,
              "#46039f"
             ],
             [
              0.2222222222222222,
              "#7201a8"
             ],
             [
              0.3333333333333333,
              "#9c179e"
             ],
             [
              0.4444444444444444,
              "#bd3786"
             ],
             [
              0.5555555555555556,
              "#d8576b"
             ],
             [
              0.6666666666666666,
              "#ed7953"
             ],
             [
              0.7777777777777778,
              "#fb9f3a"
             ],
             [
              0.8888888888888888,
              "#fdca26"
             ],
             [
              1,
              "#f0f921"
             ]
            ],
            "type": "histogram2d"
           }
          ],
          "histogram2dcontour": [
           {
            "colorbar": {
             "outlinewidth": 0,
             "ticks": ""
            },
            "colorscale": [
             [
              0,
              "#0d0887"
             ],
             [
              0.1111111111111111,
              "#46039f"
             ],
             [
              0.2222222222222222,
              "#7201a8"
             ],
             [
              0.3333333333333333,
              "#9c179e"
             ],
             [
              0.4444444444444444,
              "#bd3786"
             ],
             [
              0.5555555555555556,
              "#d8576b"
             ],
             [
              0.6666666666666666,
              "#ed7953"
             ],
             [
              0.7777777777777778,
              "#fb9f3a"
             ],
             [
              0.8888888888888888,
              "#fdca26"
             ],
             [
              1,
              "#f0f921"
             ]
            ],
            "type": "histogram2dcontour"
           }
          ],
          "mesh3d": [
           {
            "colorbar": {
             "outlinewidth": 0,
             "ticks": ""
            },
            "type": "mesh3d"
           }
          ],
          "parcoords": [
           {
            "line": {
             "colorbar": {
              "outlinewidth": 0,
              "ticks": ""
             }
            },
            "type": "parcoords"
           }
          ],
          "pie": [
           {
            "automargin": true,
            "type": "pie"
           }
          ],
          "scatter": [
           {
            "fillpattern": {
             "fillmode": "overlay",
             "size": 10,
             "solidity": 0.2
            },
            "type": "scatter"
           }
          ],
          "scatter3d": [
           {
            "line": {
             "colorbar": {
              "outlinewidth": 0,
              "ticks": ""
             }
            },
            "marker": {
             "colorbar": {
              "outlinewidth": 0,
              "ticks": ""
             }
            },
            "type": "scatter3d"
           }
          ],
          "scattercarpet": [
           {
            "marker": {
             "colorbar": {
              "outlinewidth": 0,
              "ticks": ""
             }
            },
            "type": "scattercarpet"
           }
          ],
          "scattergeo": [
           {
            "marker": {
             "colorbar": {
              "outlinewidth": 0,
              "ticks": ""
             }
            },
            "type": "scattergeo"
           }
          ],
          "scattergl": [
           {
            "marker": {
             "colorbar": {
              "outlinewidth": 0,
              "ticks": ""
             }
            },
            "type": "scattergl"
           }
          ],
          "scattermapbox": [
           {
            "marker": {
             "colorbar": {
              "outlinewidth": 0,
              "ticks": ""
             }
            },
            "type": "scattermapbox"
           }
          ],
          "scatterpolar": [
           {
            "marker": {
             "colorbar": {
              "outlinewidth": 0,
              "ticks": ""
             }
            },
            "type": "scatterpolar"
           }
          ],
          "scatterpolargl": [
           {
            "marker": {
             "colorbar": {
              "outlinewidth": 0,
              "ticks": ""
             }
            },
            "type": "scatterpolargl"
           }
          ],
          "scatterternary": [
           {
            "marker": {
             "colorbar": {
              "outlinewidth": 0,
              "ticks": ""
             }
            },
            "type": "scatterternary"
           }
          ],
          "surface": [
           {
            "colorbar": {
             "outlinewidth": 0,
             "ticks": ""
            },
            "colorscale": [
             [
              0,
              "#0d0887"
             ],
             [
              0.1111111111111111,
              "#46039f"
             ],
             [
              0.2222222222222222,
              "#7201a8"
             ],
             [
              0.3333333333333333,
              "#9c179e"
             ],
             [
              0.4444444444444444,
              "#bd3786"
             ],
             [
              0.5555555555555556,
              "#d8576b"
             ],
             [
              0.6666666666666666,
              "#ed7953"
             ],
             [
              0.7777777777777778,
              "#fb9f3a"
             ],
             [
              0.8888888888888888,
              "#fdca26"
             ],
             [
              1,
              "#f0f921"
             ]
            ],
            "type": "surface"
           }
          ],
          "table": [
           {
            "cells": {
             "fill": {
              "color": "#EBF0F8"
             },
             "line": {
              "color": "white"
             }
            },
            "header": {
             "fill": {
              "color": "#C8D4E3"
             },
             "line": {
              "color": "white"
             }
            },
            "type": "table"
           }
          ]
         },
         "layout": {
          "annotationdefaults": {
           "arrowcolor": "#2a3f5f",
           "arrowhead": 0,
           "arrowwidth": 1
          },
          "autotypenumbers": "strict",
          "coloraxis": {
           "colorbar": {
            "outlinewidth": 0,
            "ticks": ""
           }
          },
          "colorscale": {
           "diverging": [
            [
             0,
             "#8e0152"
            ],
            [
             0.1,
             "#c51b7d"
            ],
            [
             0.2,
             "#de77ae"
            ],
            [
             0.3,
             "#f1b6da"
            ],
            [
             0.4,
             "#fde0ef"
            ],
            [
             0.5,
             "#f7f7f7"
            ],
            [
             0.6,
             "#e6f5d0"
            ],
            [
             0.7,
             "#b8e186"
            ],
            [
             0.8,
             "#7fbc41"
            ],
            [
             0.9,
             "#4d9221"
            ],
            [
             1,
             "#276419"
            ]
           ],
           "sequential": [
            [
             0,
             "#0d0887"
            ],
            [
             0.1111111111111111,
             "#46039f"
            ],
            [
             0.2222222222222222,
             "#7201a8"
            ],
            [
             0.3333333333333333,
             "#9c179e"
            ],
            [
             0.4444444444444444,
             "#bd3786"
            ],
            [
             0.5555555555555556,
             "#d8576b"
            ],
            [
             0.6666666666666666,
             "#ed7953"
            ],
            [
             0.7777777777777778,
             "#fb9f3a"
            ],
            [
             0.8888888888888888,
             "#fdca26"
            ],
            [
             1,
             "#f0f921"
            ]
           ],
           "sequentialminus": [
            [
             0,
             "#0d0887"
            ],
            [
             0.1111111111111111,
             "#46039f"
            ],
            [
             0.2222222222222222,
             "#7201a8"
            ],
            [
             0.3333333333333333,
             "#9c179e"
            ],
            [
             0.4444444444444444,
             "#bd3786"
            ],
            [
             0.5555555555555556,
             "#d8576b"
            ],
            [
             0.6666666666666666,
             "#ed7953"
            ],
            [
             0.7777777777777778,
             "#fb9f3a"
            ],
            [
             0.8888888888888888,
             "#fdca26"
            ],
            [
             1,
             "#f0f921"
            ]
           ]
          },
          "colorway": [
           "#636efa",
           "#EF553B",
           "#00cc96",
           "#ab63fa",
           "#FFA15A",
           "#19d3f3",
           "#FF6692",
           "#B6E880",
           "#FF97FF",
           "#FECB52"
          ],
          "font": {
           "color": "#2a3f5f"
          },
          "geo": {
           "bgcolor": "white",
           "lakecolor": "white",
           "landcolor": "#E5ECF6",
           "showlakes": true,
           "showland": true,
           "subunitcolor": "white"
          },
          "hoverlabel": {
           "align": "left"
          },
          "hovermode": "closest",
          "mapbox": {
           "style": "light"
          },
          "paper_bgcolor": "white",
          "plot_bgcolor": "#E5ECF6",
          "polar": {
           "angularaxis": {
            "gridcolor": "white",
            "linecolor": "white",
            "ticks": ""
           },
           "bgcolor": "#E5ECF6",
           "radialaxis": {
            "gridcolor": "white",
            "linecolor": "white",
            "ticks": ""
           }
          },
          "scene": {
           "xaxis": {
            "backgroundcolor": "#E5ECF6",
            "gridcolor": "white",
            "gridwidth": 2,
            "linecolor": "white",
            "showbackground": true,
            "ticks": "",
            "zerolinecolor": "white"
           },
           "yaxis": {
            "backgroundcolor": "#E5ECF6",
            "gridcolor": "white",
            "gridwidth": 2,
            "linecolor": "white",
            "showbackground": true,
            "ticks": "",
            "zerolinecolor": "white"
           },
           "zaxis": {
            "backgroundcolor": "#E5ECF6",
            "gridcolor": "white",
            "gridwidth": 2,
            "linecolor": "white",
            "showbackground": true,
            "ticks": "",
            "zerolinecolor": "white"
           }
          },
          "shapedefaults": {
           "line": {
            "color": "#2a3f5f"
           }
          },
          "ternary": {
           "aaxis": {
            "gridcolor": "white",
            "linecolor": "white",
            "ticks": ""
           },
           "baxis": {
            "gridcolor": "white",
            "linecolor": "white",
            "ticks": ""
           },
           "bgcolor": "#E5ECF6",
           "caxis": {
            "gridcolor": "white",
            "linecolor": "white",
            "ticks": ""
           }
          },
          "title": {
           "x": 0.05
          },
          "xaxis": {
           "automargin": true,
           "gridcolor": "white",
           "linecolor": "white",
           "ticks": "",
           "title": {
            "standoff": 15
           },
           "zerolinecolor": "white",
           "zerolinewidth": 2
          },
          "yaxis": {
           "automargin": true,
           "gridcolor": "white",
           "linecolor": "white",
           "ticks": "",
           "title": {
            "standoff": 15
           },
           "zerolinecolor": "white",
           "zerolinewidth": 2
          }
         }
        },
        "xaxis": {
         "anchor": "y",
         "domain": [
          0,
          1
         ],
         "title": {
          "text": "relative_time"
         }
        },
        "yaxis": {
         "anchor": "x",
         "domain": [
          0,
          1
         ],
         "title": {
          "text": "f32_velocityInDir_mps"
         }
        }
       }
      }
     },
     "metadata": {},
     "output_type": "display_data"
    }
   ],
   "source": [
    "import os\n",
    "import plotly.express as px\n",
    "\n",
    "n = 1\n",
    "vehicle_ids = summary_df.loc[(summary_df[\"slope\"] > 1) & (summary_df[\"r2\"] > 0.9)][\n",
    "    \"vehicle_id\"\n",
    "].unique()\n",
    "\n",
    "veh_df[\"relative_time\"] = veh_df.groupby(\"ui32_objectID\")[\"dt\"].transform(\n",
    "    lambda x: (x - x.min()).dt.total_seconds()\n",
    ")\n",
    "\n",
    "\n",
    "# for loop to plot 100 vehicles\n",
    "for i in range(n):\n",
    "    # get the vehicle id\n",
    "    vehicle_id = vehicle_ids[i]\n",
    "    # get the line fits\n",
    "    vehicle_df = summary_df[summary_df[\"vehicle_id\"] == vehicle_id]\n",
    "\n",
    "    # get the vehicle data\n",
    "    vehicle_data = veh_df[veh_df[\"ui32_objectID\"] == vehicle_id].copy()\n",
    "\n",
    "    # create the figure\n",
    "    fig = px.line(vehicle_data, x=\"relative_time\", y=\"f32_velocityInDir_mps\")\n",
    "\n",
    "    line_fits = vehicle_df.to_dict(orient=\"records\")\n",
    "\n",
    "    # loop through the line fits\n",
    "    for line_fit in line_fits:\n",
    "        # get the break\n",
    "        break_ = line_fit[\"break\"]\n",
    "        # get the slope\n",
    "        slope = line_fit[\"slope\"]\n",
    "        # get the r2\n",
    "        r2 = line_fit[\"r2\"]\n",
    "        # get the type\n",
    "        type_ = line_fit[\"type\"]\n",
    "        # get the mean speed\n",
    "        y0 = line_fit[\"y0\"]\n",
    "\n",
    "        # get the min and max time\n",
    "        min_time = line_fit[\"start\"]\n",
    "        max_time = line_fit[\"end\"]\n",
    "        # add the line\n",
    "        fig.add_scatter(\n",
    "            x=[min_time, max_time],\n",
    "            y=[slope * (min_time) + y0, slope * (max_time) + y0],\n",
    "            mode=\"lines\",\n",
    "        )\n",
    "        # add text of the slope to the middle of the line\n",
    "        fig.add_annotation(\n",
    "            x=min_time,\n",
    "            y=(slope * (min_time) + y0) + 2,\n",
    "            text=f\"accel: {slope:.2f} m/s^2<br>r^2: {r2:.2f}<br>type: {type_}<br>speed: {line_fit['speed']:.2f} mps\",\n",
    "            showarrow=False,\n",
    "            font=dict(size=14),\n",
    "        )\n",
    "\n",
    "\n",
    "fig.show()\n"
   ]
  }
 ],
 "metadata": {
  "kernelspec": {
   "display_name": "sumo-uc-2023",
   "language": "python",
   "name": "python3"
  },
  "language_info": {
   "codemirror_mode": {
    "name": "ipython",
    "version": 3
   },
   "file_extension": ".py",
   "mimetype": "text/x-python",
   "name": "python",
   "nbconvert_exporter": "python",
   "pygments_lexer": "ipython3",
   "version": "3.9.10"
  },
  "vscode": {
   "interpreter": {
    "hash": "0fe24db46f0f9153940905989778a33a1b95b2b91b6370b048772e47434f409d"
   }
  }
 },
 "nbformat": 4,
 "nbformat_minor": 4
}
