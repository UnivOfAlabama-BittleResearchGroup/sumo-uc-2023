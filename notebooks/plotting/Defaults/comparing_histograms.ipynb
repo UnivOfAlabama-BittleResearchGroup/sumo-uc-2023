{
 "cells": [
  {
   "attachments": {},
   "cell_type": "markdown",
   "metadata": {},
   "source": [
    "# Find the Measured Velocities\n"
   ]
  },
  {
   "cell_type": "code",
   "execution_count": 1,
   "metadata": {},
   "outputs": [],
   "source": [
    "%load_ext autoreload\n",
    "%autoreload 2"
   ]
  },
  {
   "cell_type": "code",
   "execution_count": 2,
   "metadata": {},
   "outputs": [],
   "source": [
    "import os\n",
    "import sys\n",
    "from typing import Tuple\n",
    "from datetime import datetime\n",
    "from pathlib import Path\n",
    "from tqdm import tqdm\n",
    "\n",
    "\n",
    "def recursive_root(path: str, find=\"sumo-uc-23\"):\n",
    "    if os.path.split(path)[-1] == find:\n",
    "        return Path(path)\n",
    "    return recursive_root(os.path.split(path)[0], find=find)\n",
    "\n",
    "\n",
    "ROOT = recursive_root(os.path.abspath(\".\"))\n",
    "sys.path.append(str(ROOT))\n"
   ]
  },
  {
   "attachments": {},
   "cell_type": "markdown",
   "metadata": {},
   "source": [
    "## Read the SUMO Configurations\n"
   ]
  },
  {
   "cell_type": "code",
   "execution_count": 3,
   "metadata": {},
   "outputs": [],
   "source": [
    "from src.walk_configs import walk_configs\n"
   ]
  },
  {
   "cell_type": "code",
   "execution_count": 4,
   "metadata": {},
   "outputs": [],
   "source": [
    "experiment_path = Path(\n",
    "    \"/Volumes/BittleLab/7 DOE Project/sumo-uc-23/CarFollowingDefaults/EIDM_IDM_KraussAB\"\n",
    ")\n"
   ]
  },
  {
   "cell_type": "code",
   "execution_count": 5,
   "metadata": {},
   "outputs": [],
   "source": [
    "configs = list(walk_configs(experiment_path))"
   ]
  },
  {
   "cell_type": "code",
   "execution_count": 6,
   "metadata": {},
   "outputs": [
    {
     "data": {
      "text/plain": [
       "90"
      ]
     },
     "execution_count": 6,
     "metadata": {},
     "output_type": "execute_result"
    }
   ],
   "source": [
    "len(configs)"
   ]
  },
  {
   "attachments": {},
   "cell_type": "markdown",
   "metadata": {},
   "source": [
    "### Read the File\n"
   ]
  },
  {
   "cell_type": "code",
   "execution_count": 7,
   "metadata": {},
   "outputs": [],
   "source": [
    "import pandas as pd\n",
    "\n",
    "def get_summary_df(config, box: str, additional_params: dict = None) -> pd.DataFrame:\n",
    "    if additional_params is None:\n",
    "        additional_params = {}\n",
    "    df = pd.read_parquet(Path(config.Metadata.cwd) / f\"{box}_summary_df.parquet\")\n",
    "    for key, value in additional_params.items():\n",
    "        df[key] = value\n",
    "    return df"
   ]
  },
  {
   "cell_type": "code",
   "execution_count": 8,
   "metadata": {},
   "outputs": [],
   "source": [
    "west_thru_dfs = []\n",
    "east_thru_dfs = []\n",
    "for config in tqdm(configs):\n",
    "    additional_params = {\n",
    "        \"carFollowingModel\": config.Blocks.CFSimpleConfig.cf_params.carFollowingModel,\n",
    "        \"seed\": config.Blocks.SeedConfig.seed,\n",
    "    }\n",
    "    west_thru_dfs.append(\n",
    "        get_summary_df(config, box=\"Radar136_West_thru\", additional_params=additional_params)\n",
    "    )\n",
    "    east_thru_dfs.append(\n",
    "        get_summary_df(config, box=\"Radar137_East_thru\", additional_params=additional_params)\n",
    "    )\n",
    "east_thru_df = pd.concat(east_thru_dfs)\n",
    "west_thru_df = pd.concat(west_thru_dfs)"
   ]
  },
  {
   "cell_type": "markdown",
   "metadata": {},
   "source": [
    "## Read the RW Data"
   ]
  },
  {
   "cell_type": "code",
   "execution_count": 9,
   "metadata": {},
   "outputs": [],
   "source": [
    "rw_df = pd.read_parquet(ROOT / \"data\" / \"rw_east_thru_summary.parquet\")"
   ]
  },
  {
   "attachments": {},
   "cell_type": "markdown",
   "metadata": {},
   "source": [
    "## Plot the Histograms"
   ]
  },
  {
   "cell_type": "code",
   "execution_count": 29,
   "metadata": {},
   "outputs": [
    {
     "data": {
      "text/plain": [
       "(0.0, 6.0)"
      ]
     },
     "execution_count": 29,
     "metadata": {},
     "output_type": "execute_result"
    },
    {
     "data": {
      "image/png": "[encoded data removed]",
      "text/plain": [
       "<Figure size 800x400 with 1 Axes>"
      ]
     },
     "metadata": {},
     "output_type": "display_data"
    }
   ],
   "source": [
    "import matplotlib.pyplot as plt\n",
    "import scienceplots\n",
    "import seaborn as sns\n",
    "\n",
    "plt.style.use('science')\n",
    "\n",
    "fig, ax = plt.subplots(figsize=(8, 4))\n",
    "# make the text bigger\n",
    "plt.rcParams.update({'font.size': 16})\n",
    "\n",
    "# plotting acceleration with r2 > 0.9\n",
    "accel_sumo_df = west_thru_df[(west_thru_df[\"r2\"] > 0.9) & (west_thru_df['type'] == \"accel\")]\n",
    "accel_sumo_df = accel_sumo_df[accel_sumo_df[\"carFollowingModel\"] == \"IDM\"]\n",
    "\n",
    "# concatenate the rw data\n",
    "accel_rw_df = rw_df[(rw_df[\"r2\"] > 0.9) & (rw_df[\"type\"] == \"accel\")].copy()\n",
    "accel_rw_df[\"carFollowingModel\"] = \"Real World\"\n",
    "\n",
    "plot_df = pd.concat([accel_sumo_df, accel_rw_df])\n",
    "\n",
    "\n",
    "sns.histplot(data=plot_df, x=\"slope\", hue=\"carFollowingModel\", stat=\"density\", ax=ax,  palette=[\"#1f77b4\", \"#ff7f0e\"], common_norm=False)\n",
    "# remove the carFollowingModel title from the legend\n",
    "ax.legend_.set_title(None)\n",
    "# set the legend labels\n",
    "ax.legend(labels=[\"Real World\", \"SUMO\"])\n",
    "# # add the rw data\n",
    "# accel_rw_df = rw_df[(rw_df[\"r2\"] > 0.9) & (rw_df[\"type\"] == \"accel\")]\n",
    "# sns.histplot(data=accel_rw_df, x=\"slope\", stat=\"density\", ax=ax)\n",
    "\n",
    "# add a vertical line at the mean\n",
    "median_sumo = plot_df.loc[plot_df['carFollowingModel'] == \"IDM\", \"slope\"].median()\n",
    "median_rw = plot_df.loc[plot_df['carFollowingModel'] == \"Real World\", \"slope\"].median()\n",
    "ax.axvline(median_sumo, color=\"black\", linestyle=\"--\")\n",
    "ax.axvline(median_rw, color=\"black\", linestyle=\"--\")\n",
    "# add text to the vertical line\n",
    "ax.text(median_sumo, 0.5, f\"SUMO: {median_sumo:.2f} $m/s^2$\", rotation=0, va=\"center\", ha=\"center\")\n",
    "ax.text(median_rw, 0.8, f\"RW: {median_rw:.2f} $m/s^2$\", rotation=0, va=\"center\", ha=\"center\")\n",
    "\n",
    "\n",
    "\n",
    "# set the x and y axis labels\n",
    "ax.set_xlabel(\"Accel\")\n",
    "ax.set_ylabel(\"Density\")\n",
    "\n",
    "# set the x and y axis limits\n",
    "ax.set_xlim(0, 6)\n"
   ]
  },
  {
   "cell_type": "code",
   "execution_count": 28,
   "metadata": {},
   "outputs": [
    {
     "data": {
      "text/plain": [
       "(-6.0, 0.0)"
      ]
     },
     "execution_count": 28,
     "metadata": {},
     "output_type": "execute_result"
    },
    {
     "data": {
      "image/png": "[encoded data removed]",
      "text/plain": [
       "<Figure size 800x400 with 1 Axes>"
      ]
     },
     "metadata": {},
     "output_type": "display_data"
    }
   ],
   "source": [
    "import matplotlib.pyplot as plt\n",
    "import scienceplots\n",
    "import seaborn as sns\n",
    "\n",
    "plt.style.use('science')\n",
    "\n",
    "fig, ax = plt.subplots(figsize=(8, 4))\n",
    "# make the text bigger\n",
    "plt.rcParams.update({'font.size': 16})\n",
    "\n",
    "# plotting acceleration with r2 > 0.9\n",
    "accel_sumo_df = west_thru_df[(west_thru_df[\"r2\"] > 0.9) & (west_thru_df['type'] == \"decel\")]\n",
    "accel_sumo_df = accel_sumo_df[accel_sumo_df[\"carFollowingModel\"] == \"IDM\"]\n",
    "\n",
    "# concatenate the rw data\n",
    "accel_rw_df = rw_df[(rw_df[\"r2\"] > 0.9) & (rw_df[\"type\"] == \"decel\")].copy()\n",
    "accel_rw_df[\"carFollowingModel\"] = \"Real World\"\n",
    "\n",
    "plot_df = pd.concat([accel_sumo_df, accel_rw_df])\n",
    "\n",
    "sns.histplot(data=plot_df, x=\"slope\", hue=\"carFollowingModel\", stat=\"density\", ax=ax,  palette=[\"#1f77b4\", \"#ff7f0e\"], common_norm=False)\n",
    "ax.legend_.set_title(None)\n",
    "ax.legend(labels=[\"Real World\", \"SUMO\"])\n",
    "\n",
    "# add a vertical line at the mean\n",
    "median_sumo = plot_df.loc[plot_df['carFollowingModel'] == \"IDM\", \"slope\"].median()\n",
    "median_rw = plot_df.loc[plot_df['carFollowingModel'] == \"Real World\", \"slope\"].median()\n",
    "ax.axvline(median_sumo, color=\"black\", linestyle=\"--\")\n",
    "ax.axvline(median_rw, color=\"black\", linestyle=\"--\")\n",
    "# add text to the vertical line\n",
    "ax.text(median_sumo, 0.5, f\"SUMO: {median_sumo:.2f} $m/s^2$\", rotation=0, va=\"center\", ha=\"center\")\n",
    "ax.text(median_rw, 0.2, f\"RW: {median_rw:.2f} $m/s^2$\", rotation=0, va=\"center\", ha=\"center\")\n",
    "\n",
    "\n",
    "# set the x and y axis labels\n",
    "ax.set_xlabel(\"Accel\")\n",
    "ax.set_ylabel(\"Density\")\n",
    "\n",
    "# set the x and y axis limits\n",
    "ax.set_xlim(-6, 0)\n"
   ]
  },
  {
   "cell_type": "code",
   "execution_count": 85,
   "metadata": {},
   "outputs": [
    {
     "data": {
      "text/plain": [
       "(0.0, 3.0)"
      ]
     },
     "execution_count": 85,
     "metadata": {},
     "output_type": "execute_result"
    },
    {
     "data": {
      "image/png": "[encoded data removed]",
      "text/plain": [
       "<Figure size 800x400 with 1 Axes>"
      ]
     },
     "metadata": {},
     "output_type": "display_data"
    }
   ],
   "source": [
    "import matplotlib.pyplot as plt\n",
    "import scienceplots\n",
    "import seaborn as sns\n",
    "\n",
    "plt.style.use('science')\n",
    "fig, ax = plt.subplots(figsize=(8, 4))\n",
    "plt.rcParams.update({'font.size': 16})\n",
    "\n",
    "# plotting acceleration with r2 > 0.9\n",
    "accel_sumo_df = west_thru_df[(west_thru_df[\"r2\"] > 0.9) & (west_thru_df['type'] == \"accel\")]\n",
    "accel_sumo_df = accel_sumo_df[accel_sumo_df[\"carFollowingModel\"] == \"IDM\"]\n",
    "accel_sumo_df['Approach'] = 'Eastbound'\n",
    "\n",
    "east_accel_sumo_df = east_thru_df[(east_thru_df[\"r2\"] > 0.9) & (east_thru_df['type'] == \"accel\")]\n",
    "east_accel_sumo_df = east_accel_sumo_df[east_accel_sumo_df[\"carFollowingModel\"] == \"IDM\"]\n",
    "east_accel_sumo_df['Approach'] = 'Westbound'\n",
    "\n",
    "\n",
    "plot_df = pd.concat([accel_sumo_df, east_accel_sumo_df])\n",
    "sns.histplot(data=plot_df, x=\"slope\", hue=\"Approach\", stat=\"density\", ax=ax,  palette=[\"#1f77b4\", \"#ff7f0e\"], common_norm=False)\n",
    "# remove the carFollowingModel title from the legend\n",
    "ax.legend_.set_title(None)\n",
    "# set the legend labels\n",
    "ax.legend(labels=[\"East Bound\", \"West Bound\"])\n",
    "# add a vertical line at the mean\n",
    "# median_sumo = plot_df.loc[plot_df['carFollowingModel'] == \"IDM\", \"slope\"].median()\n",
    "# median_rw = plot_df.loc[plot_df['carFollowingModel'] == \"Real World\", \"slope\"].median()\n",
    "# ax.axvline(median_sumo, color=\"black\", linestyle=\"--\")\n",
    "# ax.axvline(median_rw, color=\"black\", linestyle=\"--\")\n",
    "# # add text to the vertical line\n",
    "# ax.text(median_sumo, 0.5, f\"SUMO: {median_sumo:.2f} $m/s^2$\", rotation=0, va=\"center\", ha=\"center\")\n",
    "# ax.text(median_rw, 0.8, f\"RW: {median_rw:.2f} $m/s^2$\", rotation=0, va=\"center\", ha=\"center\")\n",
    "\n",
    "\n",
    "\n",
    "# set the x and y axis labels\n",
    "ax.set_xlabel(\"Accel\")\n",
    "ax.set_ylabel(\"Density\")\n",
    "\n",
    "# set the x and y axis limits\n",
    "ax.set_xlim(0, 3)\n"
   ]
  },
  {
   "cell_type": "code",
   "execution_count": 84,
   "metadata": {},
   "outputs": [
    {
     "data": {
      "text/plain": [
       "(-6.0, 0.0)"
      ]
     },
     "execution_count": 84,
     "metadata": {},
     "output_type": "execute_result"
    },
    {
     "data": {
      "image/png": "[encoded data removed]",
      "text/plain": [
       "<Figure size 800x400 with 1 Axes>"
      ]
     },
     "metadata": {},
     "output_type": "display_data"
    }
   ],
   "source": [
    "import matplotlib.pyplot as plt\n",
    "import scienceplots\n",
    "import seaborn as sns\n",
    "\n",
    "plt.style.use('science')\n",
    "fig, ax = plt.subplots(figsize=(8, 4))\n",
    "plt.rcParams.update({'font.size': 16})\n",
    "\n",
    "# plotting acceleration with r2 > 0.9\n",
    "accel_sumo_df = west_thru_df[(west_thru_df[\"r2\"] > 0.9) & (west_thru_df['type'] == \"decel\")]\n",
    "accel_sumo_df = accel_sumo_df[accel_sumo_df[\"carFollowingModel\"] == \"IDM\"]\n",
    "accel_sumo_df['Approach'] = 'Eastbound'\n",
    "\n",
    "east_accel_sumo_df = east_thru_df[(east_thru_df[\"r2\"] > 0.9) & (east_thru_df['type'] == \"decel\")]\n",
    "east_accel_sumo_df = east_accel_sumo_df[east_accel_sumo_df[\"carFollowingModel\"] == \"IDM\"]\n",
    "east_accel_sumo_df['Approach'] = 'Westbound'\n",
    "\n",
    "\n",
    "plot_df = pd.concat([accel_sumo_df, east_accel_sumo_df])\n",
    "sns.histplot(data=plot_df, x=\"slope\", hue=\"Approach\", stat=\"density\", ax=ax,  palette=[\"#1f77b4\", \"#ff7f0e\"], common_norm=False)\n",
    "# remove the carFollowingModel title from the legend\n",
    "ax.legend_.set_title(None)\n",
    "# set the legend labels\n",
    "ax.legend(labels=[\"East Bound\", \"West Bound\"])\n",
    "# add a vertical line at the mean\n",
    "# median_sumo = plot_df.loc[plot_df['carFollowingModel'] == \"IDM\", \"slope\"].median()\n",
    "# median_rw = plot_df.loc[plot_df['carFollowingModel'] == \"Real World\", \"slope\"].median()\n",
    "# ax.axvline(median_sumo, color=\"black\", linestyle=\"--\")\n",
    "# ax.axvline(median_rw, color=\"black\", linestyle=\"--\")\n",
    "# # add text to the vertical line\n",
    "# ax.text(median_sumo, 0.5, f\"SUMO: {median_sumo:.2f} $m/s^2$\", rotation=0, va=\"center\", ha=\"center\")\n",
    "# ax.text(median_rw, 0.8, f\"RW: {median_rw:.2f} $m/s^2$\", rotation=0, va=\"center\", ha=\"center\")\n",
    "\n",
    "\n",
    "\n",
    "# set the x and y axis labels\n",
    "ax.set_xlabel(\"Accel\")\n",
    "ax.set_ylabel(\"Density\")\n",
    "\n",
    "# set the x and y axis limits\n",
    "ax.set_xlim(-6, 0)\n"
   ]
  },
  {
   "cell_type": "code",
   "execution_count": 30,
   "metadata": {},
   "outputs": [
    {
     "data": {
      "text/html": [
       "<div>\n",
       "<style scoped>\n",
       "    .dataframe tbody tr th:only-of-type {\n",
       "        vertical-align: middle;\n",
       "    }\n",
       "\n",
       "    .dataframe tbody tr th {\n",
       "        vertical-align: top;\n",
       "    }\n",
       "\n",
       "    .dataframe thead th {\n",
       "        text-align: right;\n",
       "    }\n",
       "</style>\n",
       "<table border=\"1\" class=\"dataframe\">\n",
       "  <thead>\n",
       "    <tr style=\"text-align: right;\">\n",
       "      <th></th>\n",
       "      <th>vehicle_id</th>\n",
       "      <th>mean_time</th>\n",
       "      <th>total_seconds</th>\n",
       "      <th>break</th>\n",
       "      <th>y0</th>\n",
       "      <th>speed</th>\n",
       "      <th>slope</th>\n",
       "      <th>r2</th>\n",
       "      <th>rmse</th>\n",
       "      <th>start</th>\n",
       "      <th>end</th>\n",
       "      <th>type</th>\n",
       "      <th>minimum_time</th>\n",
       "    </tr>\n",
       "  </thead>\n",
       "  <tbody>\n",
       "    <tr>\n",
       "      <th>0</th>\n",
       "      <td>55583</td>\n",
       "      <td>2022-05-23 17:15:55.730996</td>\n",
       "      <td>20.017547</td>\n",
       "      <td>0</td>\n",
       "      <td>20.491891</td>\n",
       "      <td>19.863639</td>\n",
       "      <td>-0.523991</td>\n",
       "      <td>0.873612</td>\n",
       "      <td>0.143615</td>\n",
       "      <td>0.000000</td>\n",
       "      <td>2.428704</td>\n",
       "      <td>decel</td>\n",
       "      <td>2.428704</td>\n",
       "    </tr>\n",
       "    <tr>\n",
       "      <th>1</th>\n",
       "      <td>55583</td>\n",
       "      <td>2022-05-23 17:15:55.730996</td>\n",
       "      <td>20.017547</td>\n",
       "      <td>1</td>\n",
       "      <td>23.363228</td>\n",
       "      <td>11.487458</td>\n",
       "      <td>-1.706242</td>\n",
       "      <td>0.997292</td>\n",
       "      <td>0.231500</td>\n",
       "      <td>2.428704</td>\n",
       "      <td>11.532395</td>\n",
       "      <td>decel</td>\n",
       "      <td>9.103691</td>\n",
       "    </tr>\n",
       "    <tr>\n",
       "      <th>2</th>\n",
       "      <td>55583</td>\n",
       "      <td>2022-05-23 17:15:55.730996</td>\n",
       "      <td>20.017547</td>\n",
       "      <td>2</td>\n",
       "      <td>18.846501</td>\n",
       "      <td>1.894408</td>\n",
       "      <td>-1.314586</td>\n",
       "      <td>0.797754</td>\n",
       "      <td>0.537509</td>\n",
       "      <td>11.532395</td>\n",
       "      <td>14.348563</td>\n",
       "      <td>undefined</td>\n",
       "      <td>2.816168</td>\n",
       "    </tr>\n",
       "    <tr>\n",
       "      <th>3</th>\n",
       "      <td>55583</td>\n",
       "      <td>2022-05-23 17:15:55.730996</td>\n",
       "      <td>20.017547</td>\n",
       "      <td>3</td>\n",
       "      <td>-0.250477</td>\n",
       "      <td>0.008256</td>\n",
       "      <td>0.016347</td>\n",
       "      <td>0.177807</td>\n",
       "      <td>0.031118</td>\n",
       "      <td>14.348563</td>\n",
       "      <td>17.352263</td>\n",
       "      <td>cruise</td>\n",
       "      <td>3.003700</td>\n",
       "    </tr>\n",
       "    <tr>\n",
       "      <th>4</th>\n",
       "      <td>55583</td>\n",
       "      <td>2022-05-23 17:15:55.730996</td>\n",
       "      <td>20.017547</td>\n",
       "      <td>4</td>\n",
       "      <td>-13.600174</td>\n",
       "      <td>1.062318</td>\n",
       "      <td>0.785681</td>\n",
       "      <td>0.932057</td>\n",
       "      <td>0.160904</td>\n",
       "      <td>17.352263</td>\n",
       "      <td>20.017547</td>\n",
       "      <td>accel</td>\n",
       "      <td>2.665284</td>\n",
       "    </tr>\n",
       "  </tbody>\n",
       "</table>\n",
       "</div>"
      ],
      "text/plain": [
       "   vehicle_id                  mean_time  total_seconds  break         y0  \\\n",
       "0       55583 2022-05-23 17:15:55.730996      20.017547      0  20.491891   \n",
       "1       55583 2022-05-23 17:15:55.730996      20.017547      1  23.363228   \n",
       "2       55583 2022-05-23 17:15:55.730996      20.017547      2  18.846501   \n",
       "3       55583 2022-05-23 17:15:55.730996      20.017547      3  -0.250477   \n",
       "4       55583 2022-05-23 17:15:55.730996      20.017547      4 -13.600174   \n",
       "\n",
       "       speed     slope        r2      rmse      start        end       type  \\\n",
       "0  19.863639 -0.523991  0.873612  0.143615   0.000000   2.428704      decel   \n",
       "1  11.487458 -1.706242  0.997292  0.231500   2.428704  11.532395      decel   \n",
       "2   1.894408 -1.314586  0.797754  0.537509  11.532395  14.348563  undefined   \n",
       "3   0.008256  0.016347  0.177807  0.031118  14.348563  17.352263     cruise   \n",
       "4   1.062318  0.785681  0.932057  0.160904  17.352263  20.017547      accel   \n",
       "\n",
       "   minimum_time  \n",
       "0      2.428704  \n",
       "1      9.103691  \n",
       "2      2.816168  \n",
       "3      3.003700  \n",
       "4      2.665284  "
      ]
     },
     "execution_count": 30,
     "metadata": {},
     "output_type": "execute_result"
    }
   ],
   "source": [
    "rw_df.head()"
   ]
  },
  {
   "cell_type": "code",
   "execution_count": 80,
   "metadata": {},
   "outputs": [],
   "source": [
    "cruise_df = rw_df.loc[(rw_df[\"type\"] == \"cruise\") & (rw_df[\"speed\"] > 15) & (rw_df[\"rmse\"] < 0.02)].copy()\n",
    "cruise_df[\"speed\"] = cruise_df[\"speed\"] * 2.23694"
   ]
  },
  {
   "cell_type": "code",
   "execution_count": 81,
   "metadata": {},
   "outputs": [
    {
     "data": {
      "text/plain": [
       "array([[<AxesSubplot: title={'center': 'speed'}>]], dtype=object)"
      ]
     },
     "execution_count": 81,
     "metadata": {},
     "output_type": "execute_result"
    },
    {
     "data": {
      "image/png": "[encoded data removed]",
      "text/plain": [
       "<Figure size 350x262.5 with 1 Axes>"
      ]
     },
     "metadata": {},
     "output_type": "display_data"
    }
   ],
   "source": [
    "# scatter plot of the data\n",
    "cruise_df.hist(column=\"speed\", )"
   ]
  },
  {
   "cell_type": "code",
   "execution_count": 82,
   "metadata": {},
   "outputs": [
    {
     "data": {
      "text/plain": [
       "count    44.000000\n",
       "mean     48.194663\n",
       "std       7.517375\n",
       "min      33.931664\n",
       "25%      42.682669\n",
       "50%      48.640121\n",
       "75%      53.562594\n",
       "max      62.983520\n",
       "Name: speed, dtype: float64"
      ]
     },
     "execution_count": 82,
     "metadata": {},
     "output_type": "execute_result"
    }
   ],
   "source": [
    "cruise_df['speed'].describe()"
   ]
  },
  {
   "cell_type": "code",
   "execution_count": 68,
   "metadata": {},
   "outputs": [],
   "source": [
    "slow_down_vehicles = rw_df.groupby(\"vehicle_id\")['type'].apply(lambda x: any(x.str.contains(\"decel\")))"
   ]
  },
  {
   "cell_type": "code",
   "execution_count": 69,
   "metadata": {},
   "outputs": [
    {
     "data": {
      "text/plain": [
       "0.8923151047940255"
      ]
     },
     "execution_count": 69,
     "metadata": {},
     "output_type": "execute_result"
    }
   ],
   "source": [
    "slow_down_vehicles.sum() / slow_down_vehicles.shape[0]"
   ]
  },
  {
   "cell_type": "code",
   "execution_count": 70,
   "metadata": {},
   "outputs": [],
   "source": [
    "keep_vehicles = slow_down_vehicles[slow_down_vehicles == False].index"
   ]
  },
  {
   "cell_type": "code",
   "execution_count": 71,
   "metadata": {},
   "outputs": [
    {
     "data": {
      "text/plain": [
       "array([[<AxesSubplot: title={'center': 'speed'}>]], dtype=object)"
      ]
     },
     "execution_count": 71,
     "metadata": {},
     "output_type": "execute_result"
    },
    {
     "data": {
      "image/png": "[encoded data removed]",
      "text/plain": [
       "<Figure size 350x262.5 with 1 Axes>"
      ]
     },
     "metadata": {},
     "output_type": "display_data"
    }
   ],
   "source": [
    "cruise_df.loc[cruise_df.vehicle_id.isin(keep_vehicles)].hist(column=\"speed\", )"
   ]
  }
 ],
 "metadata": {
  "kernelspec": {
   "display_name": "sumo-uc-2023",
   "language": "python",
   "name": "python3"
  },
  "language_info": {
   "codemirror_mode": {
    "name": "ipython",
    "version": 3
   },
   "file_extension": ".py",
   "mimetype": "text/x-python",
   "name": "python",
   "nbconvert_exporter": "python",
   "pygments_lexer": "ipython3",
   "version": "3.9.10"
  },
  "orig_nbformat": 4,
  "vscode": {
   "interpreter": {
    "hash": "0fe24db46f0f9153940905989778a33a1b95b2b91b6370b048772e47434f409d"
   }
  }
 },
 "nbformat": 4,
 "nbformat_minor": 2
}
