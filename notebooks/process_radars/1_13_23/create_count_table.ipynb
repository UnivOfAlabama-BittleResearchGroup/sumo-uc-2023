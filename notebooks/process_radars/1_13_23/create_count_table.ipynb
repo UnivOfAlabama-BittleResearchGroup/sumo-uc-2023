{
 "cells": [
  {
   "cell_type": "code",
   "execution_count": 1,
   "metadata": {},
   "outputs": [],
   "source": [
    "import os\n",
    "import sys\n",
    "from typing import Tuple\n",
    "from datetime import datetime\n",
    "from pathlib import Path\n",
    "\n",
    "\n",
    "def recursive_root(path: str, find=\"sumo-uc-23\"):\n",
    "    if os.path.split(path)[-1] == find:\n",
    "        return Path(path)\n",
    "    return recursive_root(os.path.split(path)[0], find=find)\n",
    "\n",
    "\n",
    "ROOT = recursive_root(os.path.abspath(\".\"))\n",
    "sys.path.append(str(ROOT))\n"
   ]
  },
  {
   "cell_type": "code",
   "execution_count": 6,
   "metadata": {},
   "outputs": [],
   "source": [
    "import numpy as np\n",
    "import pandas as pd\n",
    "import utm\n",
    "import polars as pl\n",
    "\n",
    "from shapely.geometry import Point, Polygon, LineString\n",
    "from src.data_analysis import AnalysisRadar\n",
    "from innosent_api.utils.approach_info import ApproachInfo\n"
   ]
  },
  {
   "attachments": {},
   "cell_type": "markdown",
   "metadata": {},
   "source": [
    "## Create the Radar Objects"
   ]
  },
  {
   "cell_type": "code",
   "execution_count": 30,
   "metadata": {},
   "outputs": [],
   "source": [
    "radar_info = {\n",
    "    \"Radar 137\": {\n",
    "        \"KML\": ROOT / \"geodata\" / \"Radar137.kml\",\n",
    "    },\n",
    "    \"Radar 136\": {\n",
    "        \"KML\": ROOT / \"geodata\" / \"Radar136.kml\",\n",
    "    },\n",
    "    # \"Radar 142\": {\n",
    "    #     \"KML\": ROOT / \"geodata\" / \"Radar142.kml\",\n",
    "    # },\n",
    "    # \"Radar 141\": {\n",
    "    #     \"KML\": ROOT / \"geodata\" / \"Radar141.kml\",\n",
    "    # },\n",
    "}\n"
   ]
  },
  {
   "cell_type": "code",
   "execution_count": 31,
   "metadata": {},
   "outputs": [
    {
     "name": "stdout",
     "output_type": "stream",
     "text": [
      "Radar 137\n",
      "INFO: Pandarallel will run on 8 workers.\n",
      "INFO: Pandarallel will use standard multiprocessing data transfer (pipe) to transfer data between the main process and workers.\n",
      "Radar 136\n",
      "INFO: Pandarallel will run on 8 workers.\n",
      "INFO: Pandarallel will use standard multiprocessing data transfer (pipe) to transfer data between the main process and workers.\n"
     ]
    }
   ],
   "source": [
    "radars = [\n",
    "    AnalysisRadar(str(r_info[1][\"KML\"]), r_info[0]) for r_info in radar_info.items()\n",
    "]\n",
    "\n",
    "radars = {\n",
    "    radar.name: radar for radar in radars\n",
    "}"
   ]
  },
  {
   "attachments": {},
   "cell_type": "markdown",
   "metadata": {},
   "source": [
    "## Read in the Polars Data"
   ]
  },
  {
   "cell_type": "code",
   "execution_count": 32,
   "metadata": {},
   "outputs": [],
   "source": [
    "radars_df = pl.scan_parquet(\n",
    "    \"/Volumes/BittleLab/7 DOE Project/radar-data/new-format/13_*.parquet\"\n",
    ")\n",
    "\n",
    "# # only keep data thats within start and end time\n",
    "radars_df = radars_df.with_columns([\n",
    "    pl.col(\"_time\").dt.with_time_zone(\"America/Chicago\").alias(\"time_cst\")\n",
    "]).filter(\n",
    "    (pl.col(\"time_cst\").dt.hour() >= 5)\n",
    "    & (pl.col(\"time_cst\").dt.hour() <= 12)\n",
    "    & (pl.col(\"time_cst\").dt.day() == 13)\n",
    ").collect()\n",
    "\n",
    "# drop any duplicates\n",
    "radars_df = radars_df.groupby(\n",
    "    by=[\"radar\", \"ui32_objectID\", \"_time\"]\n",
    ").first()\n",
    "\n",
    "radars_df = radars_df.sort(\"_time\")\n",
    "\n",
    "def get_df_from_polars(radar: AnalysisRadar, pl_df: pl.DataFrame) -> pd.DataFrame:\n",
    "    ip_address = f\"10.160.7.{radar.name.split('radar')[-1].strip()}\"\n",
    "    df = pl_df.filter(pl.col(\"radar\") == ip_address)\n",
    "\n",
    "    return df.to_pandas()\n"
   ]
  },
  {
   "attachments": {},
   "cell_type": "markdown",
   "metadata": {},
   "source": [
    "## Label the Boxes"
   ]
  },
  {
   "cell_type": "code",
   "execution_count": 33,
   "metadata": {},
   "outputs": [],
   "source": [
    "date = radars_df.select('time_cst').to_pandas().iloc[0].dt.date.values[0]\n",
    "save_path = ROOT / \"data\" / date.strftime(\"%Y-%m-%d\") \n",
    "save_path.mkdir(parents=True, exist_ok=True)"
   ]
  },
  {
   "cell_type": "code",
   "execution_count": 34,
   "metadata": {},
   "outputs": [
    {
     "data": {
      "application/vnd.jupyter.widget-view+json": {
       "model_id": "4169b1e873d542969cb137f4919af552",
       "version_major": 2,
       "version_minor": 0
      },
      "text/plain": [
       "VBox(children=(HBox(children=(IntProgress(value=0, description='0.00%', max=267726), Label(value='0 / 267726')…"
      ]
     },
     "metadata": {},
     "output_type": "display_data"
    },
    {
     "data": {
      "application/vnd.jupyter.widget-view+json": {
       "model_id": "9e87217f259845f1bc8e522620393e84",
       "version_major": 2,
       "version_minor": 0
      },
      "text/plain": [
       "VBox(children=(HBox(children=(IntProgress(value=0, description='0.00%', max=163827), Label(value='0 / 163827')…"
      ]
     },
     "metadata": {},
     "output_type": "display_data"
    }
   ],
   "source": [
    "for r_name, radar in radars.items():\n",
    "        radar.df = get_df_from_polars(radar, radars_df)\n",
    "        # convert the x/y to lat/lon\n",
    "        radar.radar_xy_2_latlon()\n",
    "        # convert to rw time\n",
    "        # radar.apply_rw_time()\n",
    "        radar.df[\"dt\"] = radar.df.pop(\"time_cst\")\n",
    "        # label boxes\n",
    "        radar.label_boxes()\n",
    "        # save the data\n",
    "        radar.df.to_parquet(save_path / f\"{r_name}.parquet\")\n"
   ]
  },
  {
   "cell_type": "markdown",
   "metadata": {},
   "source": [
    "### Find Vehicles that Cross the Stop Bar of the Boxes"
   ]
  },
  {
   "cell_type": "code",
   "execution_count": 35,
   "metadata": {},
   "outputs": [],
   "source": [
    "def check_line_string_intersection(x, box: ApproachInfo):\n",
    "    # check if the line string intersects the box\n",
    "    if len(x) < 2:\n",
    "        return False\n",
    "    line = LineString(x[[\"f32_positionX_m\", \"f32_positionY_m\"]].values)\n",
    "    return line.intersects(box.stop_bar)\n"
   ]
  },
  {
   "cell_type": "code",
   "execution_count": 37,
   "metadata": {},
   "outputs": [
    {
     "name": "stderr",
     "output_type": "stream",
     "text": [
      "100%|██████████| 29087/29087 [00:07<00:00, 3669.43it/s]\n",
      "100%|██████████| 22165/22165 [00:06<00:00, 3408.87it/s]\n"
     ]
    }
   ],
   "source": [
    "from tqdm import tqdm\n",
    "\n",
    "data = []\n",
    "for radar in radars.values():\n",
    "    for veh, veh_df in tqdm(\n",
    "        radar.df.groupby(\"ui32_objectID\"), total=radar.df.ui32_objectID.nunique()\n",
    "    ):\n",
    "        # check if the line string intersects the box\n",
    "        for box in veh_df.box.unique():\n",
    "            if box != \"\":\n",
    "                approach = [a for n, a in radar.approaches if n == box][0]\n",
    "                if check_line_string_intersection(veh_df, approach):\n",
    "                    data.append(\n",
    "                        {\n",
    "                            \"veh\": veh,\n",
    "                            \"box\": box,\n",
    "                            \"radar\": radar.name,\n",
    "                            \"cross_time\": veh_df[\"dt\"].iloc[\n",
    "                                np.linalg.norm(\n",
    "                                    veh_df[\n",
    "                                        [\"f32_positionX_m\", \"f32_positionY_m\"]\n",
    "                                    ].values\n",
    "                                    - approach.end_point,\n",
    "                                    axis=1,\n",
    "                                ).argmin()\n",
    "                            ],\n",
    "                        }\n",
    "                    )\n"
   ]
  },
  {
   "cell_type": "code",
   "execution_count": 38,
   "metadata": {},
   "outputs": [],
   "source": [
    "count_df = pd.DataFrame(data)"
   ]
  },
  {
   "cell_type": "code",
   "execution_count": null,
   "metadata": {},
   "outputs": [],
   "source": [
    "# save the count data\n",
    "count_df.to_parquet(save_path / \"count_data.parquet\")"
   ]
  }
 ],
 "metadata": {
  "kernelspec": {
   "display_name": "sumo-uc-2023",
   "language": "python",
   "name": "python3"
  },
  "language_info": {
   "codemirror_mode": {
    "name": "ipython",
    "version": 3
   },
   "file_extension": ".py",
   "mimetype": "text/x-python",
   "name": "python",
   "nbconvert_exporter": "python",
   "pygments_lexer": "ipython3",
   "version": "3.9.10"
  },
  "orig_nbformat": 4,
  "vscode": {
   "interpreter": {
    "hash": "0fe24db46f0f9153940905989778a33a1b95b2b91b6370b048772e47434f409d"
   }
  }
 },
 "nbformat": 4,
 "nbformat_minor": 2
}
